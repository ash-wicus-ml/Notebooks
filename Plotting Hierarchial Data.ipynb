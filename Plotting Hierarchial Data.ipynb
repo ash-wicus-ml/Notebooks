{
 "cells": [
  {
   "cell_type": "code",
   "execution_count": 115,
   "metadata": {},
   "outputs": [
    {
     "data": {
      "text/html": [
       "<div>\n",
       "<style scoped>\n",
       "    .dataframe tbody tr th:only-of-type {\n",
       "        vertical-align: middle;\n",
       "    }\n",
       "\n",
       "    .dataframe tbody tr th {\n",
       "        vertical-align: top;\n",
       "    }\n",
       "\n",
       "    .dataframe thead th {\n",
       "        text-align: right;\n",
       "    }\n",
       "</style>\n",
       "<table border=\"1\" class=\"dataframe\">\n",
       "  <thead>\n",
       "    <tr style=\"text-align: right;\">\n",
       "      <th></th>\n",
       "      <th>Indent Level</th>\n",
       "      <th>Item and Group</th>\n",
       "      <th>Weight</th>\n",
       "      <th>Parent</th>\n",
       "    </tr>\n",
       "  </thead>\n",
       "  <tbody>\n",
       "    <tr>\n",
       "      <th>0</th>\n",
       "      <td>0</td>\n",
       "      <td>All items</td>\n",
       "      <td>100.000</td>\n",
       "      <td>-</td>\n",
       "    </tr>\n",
       "    <tr>\n",
       "      <th>1</th>\n",
       "      <td>1</td>\n",
       "      <td>Food and beverages</td>\n",
       "      <td>15.157</td>\n",
       "      <td>All items</td>\n",
       "    </tr>\n",
       "    <tr>\n",
       "      <th>2</th>\n",
       "      <td>2</td>\n",
       "      <td>Food</td>\n",
       "      <td>14.119</td>\n",
       "      <td>Food and beverages</td>\n",
       "    </tr>\n",
       "    <tr>\n",
       "      <th>3</th>\n",
       "      <td>3</td>\n",
       "      <td>Food at home</td>\n",
       "      <td>7.772</td>\n",
       "      <td>Food</td>\n",
       "    </tr>\n",
       "    <tr>\n",
       "      <th>4</th>\n",
       "      <td>4</td>\n",
       "      <td>Cereals and bakery products</td>\n",
       "      <td>1.001</td>\n",
       "      <td>Food at home</td>\n",
       "    </tr>\n",
       "  </tbody>\n",
       "</table>\n",
       "</div>"
      ],
      "text/plain": [
       "   Indent Level               Item and Group   Weight              Parent\n",
       "0             0                    All items  100.000                   -\n",
       "1             1           Food and beverages   15.157           All items\n",
       "2             2                         Food   14.119  Food and beverages\n",
       "3             3                 Food at home    7.772                Food\n",
       "4             4  Cereals and bakery products    1.001        Food at home"
      ]
     },
     "execution_count": 115,
     "metadata": {},
     "output_type": "execute_result"
    }
   ],
   "source": [
    "\n",
    "import pandas as pd\n",
    "df = pd.read_csv('C:\\\\Users\\\\inflation.csv')\n",
    "\n",
    "df = df.fillna('-')\n",
    "df.head()\n"
   ]
  },
  {
   "cell_type": "code",
   "execution_count": 116,
   "metadata": {
    "scrolled": false
   },
   "outputs": [
    {
     "data": {
      "application/vnd.plotly.v1+json": {
       "config": {
        "plotlyServerURL": "https://plot.ly"
       },
       "data": [
        {
         "branchvalues": "total",
         "customdata": [
          [
           "Other recreation services"
          ],
          [
           "Women's and girls' apparel"
          ],
          [
           "Household furnishings and operations"
          ],
          [
           "Motor fuel"
          ],
          [
           "Household operations"
          ],
          [
           "Water and sewer and trash collection services"
          ],
          [
           "New and used motor vehicles"
          ],
          [
           "Professional services"
          ],
          [
           "Furniture and bedding"
          ],
          [
           "Private transportation"
          ],
          [
           "Recreation"
          ],
          [
           "Personal care products"
          ],
          [
           "Public transportation"
          ],
          [
           "Beef and veal"
          ],
          [
           "Recreational reading materials"
          ],
          [
           "Beverage materials including coffee and tea"
          ],
          [
           "Other food at home"
          ],
          [
           "Private transportation"
          ],
          [
           "Food away from home"
          ],
          [
           "Appliances"
          ],
          [
           "Meats, poultry, and fish"
          ],
          [
           "Meats, poultry, fish, and eggs"
          ],
          [
           "Video and audio"
          ],
          [
           "Other foods"
          ],
          [
           "Pork"
          ],
          [
           "Cereals and bakery products"
          ],
          [
           "Food and beverages"
          ],
          [
           "Footwear"
          ],
          [
           "Men's and boys' apparel"
          ],
          [
           "Nonalcoholic beverages and beverage materials"
          ],
          [
           "Other recreation services"
          ],
          [
           "Miscellaneous personal services"
          ],
          [
           "Miscellaneous personal services"
          ],
          [
           "-"
          ],
          [
           "Household furnishings and operations"
          ],
          [
           "Fresh fruits"
          ],
          [
           "Miscellaneous personal services"
          ],
          [
           "All items"
          ],
          [
           "Personal care products"
          ],
          [
           "Other recreational goods"
          ],
          [
           "Fresh fruits"
          ],
          [
           "Tobacco and smoking products"
          ],
          [
           "Tuition, other school fees, and childcare"
          ],
          [
           "Other household equipment and furnishings"
          ],
          [
           "Household operations"
          ],
          [
           "Furniture and bedding"
          ],
          [
           "Owners' equivalent rent of residences"
          ],
          [
           "Appliances"
          ],
          [
           "Communication"
          ],
          [
           "Apparel"
          ],
          [
           "Food away from home"
          ],
          [
           "Food"
          ],
          [
           "Food"
          ],
          [
           "Food at home"
          ],
          [
           "Cereals and bakery products"
          ],
          [
           "Processed fruits and vegetables"
          ],
          [
           "Alcoholic beverages"
          ],
          [
           "Food away from home"
          ],
          [
           "Beverages"
          ],
          [
           "Alcoholic beverages"
          ],
          [
           "Meats, poultry, fish, and eggs"
          ],
          [
           "Other recreation services"
          ],
          [
           "Poultry"
          ],
          [
           "Fresh fruits"
          ],
          [
           "Meats, poultry, and fish"
          ],
          [
           "Fuel oil and other fuels"
          ],
          [
           "Food at home"
          ],
          [
           "Household energy"
          ],
          [
           "Juices and nonalcoholic drinks"
          ],
          [
           "Housing"
          ],
          [
           "Food at home"
          ],
          [
           "Fats and oils"
          ],
          [
           "Dairy and related products"
          ],
          [
           "Education and communication"
          ],
          [
           "Information technology, hardware and services"
          ],
          [
           "Information technology, hardware and services"
          ],
          [
           "Personal care products"
          ],
          [
           "Tuition, other school fees, and childcare"
          ],
          [
           "Food at home"
          ],
          [
           "Postage and delivery services"
          ],
          [
           "Alcoholic beverages at home"
          ],
          [
           "Other household equipment and furnishings"
          ],
          [
           "Professional services"
          ],
          [
           "Household operations"
          ],
          [
           "Beverage materials including coffee and tea"
          ],
          [
           "Lodging away from home"
          ],
          [
           "Dairy and related products"
          ],
          [
           "Household furnishings and operations"
          ],
          [
           "Information and information processing"
          ],
          [
           "Fresh vegetables"
          ],
          [
           "Miscellaneous personal services"
          ],
          [
           "Furniture and bedding"
          ],
          [
           "Food away from home"
          ],
          [
           "All items"
          ],
          [
           "Transportation"
          ],
          [
           "Video and audio"
          ],
          [
           "All items"
          ],
          [
           "Other household equipment and furnishings"
          ],
          [
           "New and used motor vehicles"
          ],
          [
           "Apparel"
          ],
          [
           "Dairy and related products"
          ],
          [
           "Footwear"
          ],
          [
           "Medical care commodities"
          ],
          [
           "Shelter"
          ],
          [
           "Food at home"
          ],
          [
           "Private transportation"
          ],
          [
           "Personal care"
          ],
          [
           "Housekeeping supplies"
          ],
          [
           "Motor vehicle maintenance and repair"
          ],
          [
           "Private transportation"
          ],
          [
           "Men's apparel"
          ],
          [
           "Men's apparel"
          ],
          [
           "Men's apparel"
          ],
          [
           "Jewelry and watches"
          ],
          [
           "Housekeeping supplies"
          ],
          [
           "Personal care services"
          ],
          [
           "Other recreation services"
          ],
          [
           "Sporting goods"
          ],
          [
           "Women's apparel"
          ],
          [
           "Video and audio"
          ],
          [
           "Tuition, other school fees, and childcare"
          ],
          [
           "Tools, hardware, outdoor equipment and supplies"
          ],
          [
           "Tobacco and smoking products"
          ],
          [
           "Fresh fruits"
          ],
          [
           "Fresh vegetables"
          ],
          [
           "Household energy"
          ],
          [
           "Professional services"
          ],
          [
           "Tuition, other school fees, and childcare"
          ],
          [
           "Hospital and related services"
          ],
          [
           "Medical care services"
          ],
          [
           "Alcoholic beverages at home"
          ],
          [
           "Bakery products"
          ],
          [
           "Sugar and sweets"
          ],
          [
           "Hospital and related services"
          ],
          [
           "Processed fruits and vegetables"
          ],
          [
           "Meats"
          ],
          [
           "Dairy and related products"
          ],
          [
           "Furniture and bedding"
          ],
          [
           "Meats, poultry, and fish"
          ],
          [
           "Meats"
          ],
          [
           "Fresh vegetables"
          ],
          [
           "Pork"
          ],
          [
           "Medicinal drugs"
          ],
          [
           "Recreational reading materials"
          ],
          [
           "Fuel oil and other fuels"
          ],
          [
           "Communication"
          ],
          [
           "Postage and delivery services"
          ],
          [
           "Motor vehicle maintenance and repair"
          ],
          [
           "New and used motor vehicles"
          ],
          [
           "Private transportation"
          ],
          [
           "Motor vehicle maintenance and repair"
          ],
          [
           "Household operations"
          ],
          [
           "Other recreational goods"
          ],
          [
           "Private transportation"
          ],
          [
           "Women's and girls' apparel"
          ],
          [
           "Women's apparel"
          ],
          [
           "Footwear"
          ],
          [
           "Women's apparel"
          ],
          [
           "Women's apparel"
          ],
          [
           "Women's apparel"
          ],
          [
           "Processed fruits and vegetables"
          ],
          [
           "Pork"
          ],
          [
           "Personal care"
          ],
          [
           "Personal care"
          ],
          [
           "Pets, pet products and services"
          ],
          [
           "Owners' equivalent rent of residences"
          ],
          [
           "Tools, hardware, outdoor equipment and supplies"
          ],
          [
           "Video and audio"
          ],
          [
           "Shelter"
          ],
          [
           "Sugar and sweets"
          ],
          [
           "Recreation"
          ],
          [
           "Other foods"
          ],
          [
           "Meats"
          ],
          [
           "Lodging away from home"
          ],
          [
           "Window and floor coverings and other linens"
          ],
          [
           "Public transportation"
          ],
          [
           "Energy services"
          ],
          [
           "Other food at home"
          ],
          [
           "Window and floor coverings and other linens"
          ],
          [
           "Food away from home"
          ],
          [
           "Apparel"
          ],
          [
           "Bakery products"
          ],
          [
           "Fish and seafood"
          ],
          [
           "Fresh fruits and vegetables"
          ],
          [
           "Fruits and vegetables"
          ],
          [
           "Fresh fruits and vegetables"
          ],
          [
           "Other foods"
          ],
          [
           "Jewelry and watches"
          ],
          [
           "Energy services"
          ],
          [
           "Medical care"
          ],
          [
           "Medical care"
          ],
          [
           "All items"
          ],
          [
           "Medical care commodities"
          ],
          [
           "All items"
          ],
          [
           "Other recreational goods"
          ],
          [
           "Household furnishings and operations"
          ],
          [
           "Tools, hardware, outdoor equipment and supplies"
          ],
          [
           "Tobacco and smoking products"
          ],
          [
           "Other goods and services"
          ],
          [
           "Motor vehicle parts and equipment"
          ],
          [
           "Shelter"
          ],
          [
           "Housing"
          ],
          [
           "Fuels and utilities"
          ],
          [
           "Fuels and utilities"
          ],
          [
           "Alcoholic beverages at home"
          ],
          [
           "Apparel"
          ],
          [
           "Household furnishings and operations"
          ],
          [
           "Water and sewer and trash collection services"
          ],
          [
           "Window and floor coverings and other linens"
          ],
          [
           "Telephone services"
          ],
          [
           "Recreation"
          ],
          [
           "Other foods"
          ],
          [
           "Tuition, other school fees, and childcare"
          ],
          [
           "Information technology, hardware and services"
          ],
          [
           "Information and information processing"
          ],
          [
           "Video and audio"
          ],
          [
           "Fats and oils"
          ],
          [
           "Cereals and cereal products"
          ],
          [
           "Bakery products"
          ],
          [
           "Photography"
          ],
          [
           "Public transportation"
          ],
          [
           "New and used motor vehicles"
          ],
          [
           "Juices and nonalcoholic drinks"
          ],
          [
           "Household furnishings and operations"
          ],
          [
           "Poultry"
          ],
          [
           "Recreation"
          ],
          [
           "Motor fuel"
          ],
          [
           "Other goods and services"
          ],
          [
           "Motor vehicle fees"
          ],
          [
           "Education and communication"
          ],
          [
           "All items"
          ],
          [
           "Education"
          ],
          [
           "Fish and seafood"
          ],
          [
           "Transportation"
          ],
          [
           "Medical care services"
          ],
          [
           "Fruits and vegetables"
          ],
          [
           "Recreation"
          ],
          [
           "Photography"
          ],
          [
           "Photography"
          ],
          [
           "Recreation"
          ],
          [
           "Video and audio"
          ],
          [
           "Other food at home"
          ],
          [
           "Fresh vegetables"
          ],
          [
           "Other foods"
          ],
          [
           "Sporting goods"
          ],
          [
           "Education"
          ],
          [
           "Shelter"
          ],
          [
           "Beef and veal"
          ],
          [
           "Beef and veal"
          ],
          [
           "Beef and veal"
          ],
          [
           "Pork"
          ],
          [
           "Housekeeping supplies"
          ],
          [
           "Medical care services"
          ],
          [
           "Household furnishings and operations"
          ],
          [
           "Sporting goods"
          ],
          [
           "Motor vehicle fees"
          ],
          [
           "Sugar and sweets"
          ],
          [
           "Food and beverages"
          ],
          [
           "All items"
          ],
          [
           "Cereals and cereal products"
          ],
          [
           "Motor vehicle maintenance and repair"
          ],
          [
           "Recreational reading materials"
          ],
          [
           "Video and audio"
          ],
          [
           "Motor vehicle parts and equipment"
          ],
          [
           "Recreation"
          ],
          [
           "Apparel"
          ],
          [
           "Men's apparel"
          ],
          [
           "Men's and boys' apparel"
          ],
          [
           "All items"
          ],
          [
           "Pets, pet products and services"
          ],
          [
           "Information technology, hardware and services"
          ],
          [
           "New and used motor vehicles"
          ],
          [
           "Motor vehicle fees"
          ],
          [
           "Men's apparel"
          ],
          [
           "Miscellaneous personal services"
          ],
          [
           "Other foods"
          ],
          [
           "Household operations"
          ],
          [
           "Housing"
          ],
          [
           "Other recreational goods"
          ],
          [
           "Professional services"
          ],
          [
           "Fats and oils"
          ],
          [
           "Cereals and cereal products"
          ],
          [
           "Information technology, hardware and services"
          ],
          [
           "Public transportation"
          ],
          [
           "Telephone services"
          ],
          [
           "Miscellaneous personal services"
          ],
          [
           "Nonalcoholic beverages and beverage materials"
          ],
          [
           "Food at home"
          ],
          [
           "Bakery products"
          ],
          [
           "Appliances"
          ],
          [
           "Hospital and related services"
          ],
          [
           "Other household equipment and furnishings"
          ],
          [
           "Medicinal drugs"
          ],
          [
           "Juices and nonalcoholic drinks"
          ],
          [
           "-"
          ],
          [
           "Alcoholic beverages"
          ],
          [
           "Alcoholic beverages at home"
          ],
          [
           "All items"
          ],
          [
           "Apparel"
          ],
          [
           "Appliances"
          ],
          [
           "Bakery products"
          ],
          [
           "Beef and veal"
          ],
          [
           "Beverage materials including coffee and tea"
          ],
          [
           "Beverages"
          ],
          [
           "Cereals and bakery products"
          ],
          [
           "Cereals and cereal products"
          ],
          [
           "Communication"
          ],
          [
           "Dairy and related products"
          ],
          [
           "Education"
          ],
          [
           "Education and communication"
          ],
          [
           "Energy services"
          ],
          [
           "Fats and oils"
          ],
          [
           "Fish and seafood"
          ],
          [
           "Food"
          ],
          [
           "Food and beverages"
          ],
          [
           "Food at home"
          ],
          [
           "Food away from home"
          ],
          [
           "Footwear"
          ],
          [
           "Fresh fruits"
          ],
          [
           "Fresh fruits and vegetables"
          ],
          [
           "Fresh vegetables"
          ],
          [
           "Fruits and vegetables"
          ],
          [
           "Fuel oil and other fuels"
          ],
          [
           "Fuels and utilities"
          ],
          [
           "Furniture and bedding"
          ],
          [
           "Hospital and related services"
          ],
          [
           "Household energy"
          ],
          [
           "Household furnishings and operations"
          ],
          [
           "Household operations"
          ],
          [
           "Housekeeping supplies"
          ],
          [
           "Housing"
          ],
          [
           "Information and information processing"
          ],
          [
           "Information technology, hardware and services"
          ],
          [
           "Jewelry and watches"
          ],
          [
           "Juices and nonalcoholic drinks"
          ],
          [
           "Lodging away from home"
          ],
          [
           "Meats"
          ],
          [
           "Meats, poultry, and fish"
          ],
          [
           "Meats, poultry, fish, and eggs"
          ],
          [
           "Medical care"
          ],
          [
           "Medical care commodities"
          ],
          [
           "Medical care services"
          ],
          [
           "Medicinal drugs"
          ],
          [
           "Men's and boys' apparel"
          ],
          [
           "Men's apparel"
          ],
          [
           "Miscellaneous personal services"
          ],
          [
           "Motor fuel"
          ],
          [
           "Motor vehicle fees"
          ],
          [
           "Motor vehicle maintenance and repair"
          ],
          [
           "Motor vehicle parts and equipment"
          ],
          [
           "New and used motor vehicles"
          ],
          [
           "Nonalcoholic beverages and beverage materials"
          ],
          [
           "Other food at home"
          ],
          [
           "Other foods"
          ],
          [
           "Other goods and services"
          ],
          [
           "Other household equipment and furnishings"
          ],
          [
           "Other recreation services"
          ],
          [
           "Other recreational goods"
          ],
          [
           "Owners' equivalent rent of residences"
          ],
          [
           "Personal care"
          ],
          [
           "Personal care products"
          ],
          [
           "Personal care services"
          ],
          [
           "Pets, pet products and services"
          ],
          [
           "Photography"
          ],
          [
           "Pork"
          ],
          [
           "Postage and delivery services"
          ],
          [
           "Poultry"
          ],
          [
           "Private transportation"
          ],
          [
           "Processed fruits and vegetables"
          ],
          [
           "Professional services"
          ],
          [
           "Public transportation"
          ],
          [
           "Recreation"
          ],
          [
           "Recreational reading materials"
          ],
          [
           "Shelter"
          ],
          [
           "Sporting goods"
          ],
          [
           "Sugar and sweets"
          ],
          [
           "Telephone services"
          ],
          [
           "Tobacco and smoking products"
          ],
          [
           "Tools, hardware, outdoor equipment and supplies"
          ],
          [
           "Transportation"
          ],
          [
           "Tuition, other school fees, and childcare"
          ],
          [
           "Video and audio"
          ],
          [
           "Water and sewer and trash collection services"
          ],
          [
           "Window and floor coverings and other linens"
          ],
          [
           "Women's and girls' apparel"
          ],
          [
           "Women's apparel"
          ]
         ],
         "domain": {
          "x": [
           0,
           1
          ],
          "y": [
           0,
           1
          ]
         },
         "hovertemplate": "labels=%{label}<br>Weight=%{value}<br>parent=%{parent}<br>id=%{id}<br>Parent=%{customdata[0]}<extra></extra>",
         "ids": [
          "Other recreation services/Admissions",
          "Women's and girls' apparel/Girls' apparel",
          "Household furnishings and operations/Furniture and bedding",
          "Motor fuel/Gasoline (all types)",
          "Household operations/Gardening and lawncare services",
          "Water and sewer and trash collection services/Garbage and trash collection",
          "New and used motor vehicles/Used cars and trucks",
          "Professional services/Physicians' services",
          "Furniture and bedding/Other furniture",
          "Private transportation/Motor vehicle insurance",
          "Recreation/Recreational reading materials",
          "Personal care products/Hair, dental, shaving, and miscellaneous personal care products",
          "Public transportation/Airline fares",
          "Beef and veal/Uncooked other beef and veal",
          "Recreational reading materials/Newspapers and magazines",
          "Beverage materials including coffee and tea/Other beverage materials including tea",
          "Other food at home/Other foods",
          "Private transportation/Motor vehicle maintenance and repair",
          "Food away from home/Other food away from home",
          "Appliances/Major appliances",
          "Meats, poultry, and fish/Meats",
          "Meats, poultry, fish, and eggs/Meats, poultry, and fish",
          "Video and audio/Audio equipment",
          "Other foods/Baby food",
          "Pork/Bacon, breakfast sausage, and related products",
          "Cereals and bakery products/Bakery products",
          "Food and beverages/Beverages",
          "Footwear/Boys' and girls' footwear",
          "Men's and boys' apparel/Boys' apparel",
          "Nonalcoholic beverages and beverage materials/Beverage materials including coffee and tea",
          "Other recreation services/Fees for lessons or instructions",
          "Miscellaneous personal services/Financial services",
          "Miscellaneous personal services/Funeral expenses",
          "-/All items",
          "Household furnishings and operations/Appliances",
          "Fresh fruits/Apples",
          "Miscellaneous personal services/Apparel services other than laundry and dry cleaning",
          "All items/Apparel",
          "Personal care products/Unsampled personal care products",
          "Other recreational goods/Unsampled recreation commodities",
          "Fresh fruits/Citrus fruits",
          "Tobacco and smoking products/Cigarettes",
          "Tuition, other school fees, and childcare/Child care and nursery school",
          "Other household equipment and furnishings/Clocks, lamps, and decorator items",
          "Household operations/Unsampled household operations",
          "Furniture and bedding/Unsampled furniture",
          "Owners' equivalent rent of residences/Unsampled owners' equivalent rent of secondary residences",
          "Appliances/Unsampled appliances",
          "Communication/Information and information processing",
          "Apparel/Infants' and toddlers' apparel",
          "Food away from home/Food from vending machines and mobile vendors",
          "Food/Food away from home",
          "Food/Food at home",
          "Food at home/Cereals and bakery products",
          "Cereals and bakery products/Cereals and cereal products",
          "Processed fruits and vegetables/Frozen fruits and vegetables",
          "Alcoholic beverages/Alcoholic beverages at home",
          "Food away from home/Full service meals and snacks",
          "Beverages/Alcoholic beverages",
          "Alcoholic beverages/Alcoholic beverages away from home",
          "Meats, poultry, fish, and eggs/Eggs",
          "Other recreation services/Club membership for shopping clubs, fraternal, or other organizations, or participant sports fees",
          "Poultry/Chicken",
          "Fresh fruits/Bananas",
          "Meats, poultry, and fish/Fish and seafood",
          "Fuel oil and other fuels/Fuel oil",
          "Food at home/Fruits and vegetables",
          "Household energy/Fuel oil and other fuels",
          "Juices and nonalcoholic drinks/Frozen noncarbonated juices and drinks",
          "Housing/Fuels and utilities",
          "Food at home/Other food at home",
          "Fats and oils/Other fats and oils including peanut butter",
          "Dairy and related products/Other dairy and related products",
          "Education and communication/Communication",
          "Information technology, hardware and services/Computer software and accessories",
          "Information technology, hardware and services/Computers, peripherals, and smart home assistant devices",
          "Personal care products/Cosmetics, perfume, bath, nail preparations and implements",
          "Tuition, other school fees, and childcare/College tuition and fees",
          "Food at home/Dairy and related products",
          "Postage and delivery services/Delivery services",
          "Alcoholic beverages at home/Distilled spirits at home",
          "Other household equipment and furnishings/Dishes and flatware",
          "Professional services/Dental services",
          "Household operations/Domestic services",
          "Beverage materials including coffee and tea/Coffee",
          "Lodging away from home/Housing at school, excluding board",
          "Dairy and related products/Ice cream and related products",
          "Household furnishings and operations/Housekeeping supplies",
          "Information and information processing/Information technology, hardware and services",
          "Fresh vegetables/Lettuce",
          "Miscellaneous personal services/Legal services",
          "Furniture and bedding/Living room, kitchen, and dining room furniture",
          "Food away from home/Limited service meals and snacks",
          "All items/Recreation",
          "Transportation/Public transportation",
          "Video and audio/Recorded music and music subscriptions",
          "All items/Housing",
          "Other household equipment and furnishings/Indoor plants and flowers",
          "New and used motor vehicles/Leased cars and trucks",
          "Apparel/Jewelry and watches",
          "Dairy and related products/Milk",
          "Footwear/Men's footwear",
          "Medical care commodities/Medicinal drugs",
          "Shelter/Lodging away from home",
          "Food at home/Meats, poultry, fish, and eggs",
          "Private transportation/Motor fuel",
          "Personal care/Miscellaneous personal services",
          "Housekeeping supplies/Miscellaneous household products",
          "Motor vehicle maintenance and repair/Motor vehicle body work",
          "Private transportation/Motor vehicle fees",
          "Men's apparel/Men's shirts and sweaters",
          "Men's apparel/Men's suits, sport coats, and outerwear",
          "Men's apparel/Men's pants and shorts",
          "Jewelry and watches/Jewelry",
          "Housekeeping supplies/Household paper products",
          "Personal care services/Haircuts and other personal care services",
          "Other recreation services/Unsampled recreation services",
          "Sporting goods/Unsampled sporting goods",
          "Women's apparel/Unsampled women's apparel",
          "Video and audio/Unsampled video and audio",
          "Tuition, other school fees, and childcare/Unsampled tuition, other school fees, and childcare",
          "Tools, hardware, outdoor equipment and supplies/Unsampled tools, hardware, outdoor equipment and supplies",
          "Tobacco and smoking products/Unsampled tobacco and smoking products",
          "Fresh fruits/Other fresh fruits",
          "Fresh vegetables/Other fresh vegetables",
          "Household energy/Energy services",
          "Professional services/Eyeglasses and eye care",
          "Tuition, other school fees, and childcare/Elementary and high school tuition and fees",
          "Hospital and related services/Hospital services",
          "Medical care services/Hospital and related services",
          "Alcoholic beverages at home/Beer, ale, and other malt beverages at home",
          "Bakery products/Bread",
          "Sugar and sweets/Candy and chewing gum",
          "Hospital and related services/Care of invalids and elderly at home",
          "Processed fruits and vegetables/Canned fruits and vegetables",
          "Meats/Beef and veal",
          "Dairy and related products/Cheese and related products",
          "Furniture and bedding/Bedroom furniture",
          "Meats, poultry, and fish/Poultry",
          "Meats/Pork",
          "Fresh vegetables/Potatoes",
          "Pork/Pork chops",
          "Medicinal drugs/Prescription drugs",
          "Recreational reading materials/Recreational books",
          "Fuel oil and other fuels/Propane, kerosene, and firewood",
          "Communication/Postage and delivery services",
          "Postage and delivery services/Postage",
          "Motor vehicle maintenance and repair/Motor vehicle maintenance and servicing",
          "New and used motor vehicles/New vehicles",
          "Private transportation/Motor vehicle parts and equipment",
          "Motor vehicle maintenance and repair/Motor vehicle repair",
          "Household operations/Moving, storage, freight expense",
          "Other recreational goods/Music instruments and accessories",
          "Private transportation/New and used motor vehicles",
          "Women's and girls' apparel/Women's apparel",
          "Women's apparel/Women's dresses",
          "Footwear/Women's footwear",
          "Women's apparel/Women's outerwear",
          "Women's apparel/Women's underwear, nightwear, sportswear, and accessories",
          "Women's apparel/Women's suits and separates",
          "Processed fruits and vegetables/Other processed fruits and vegetables including dried",
          "Pork/Other pork including roasts, steaks, and ribs",
          "Personal care/Personal care products",
          "Personal care/Personal care services",
          "Pets, pet products and services/Pet services including veterinary",
          "Owners' equivalent rent of residences/Owners' equivalent rent of primary residence",
          "Tools, hardware, outdoor equipment and supplies/Outdoor equipment and supplies",
          "Video and audio/Other video equipment",
          "Shelter/Owners' equivalent rent of residences",
          "Sugar and sweets/Other sweets",
          "Recreation/Other recreational goods",
          "Other foods/Other miscellaneous foods",
          "Meats/Other meats",
          "Lodging away from home/Other lodging away from home including hotels and motels",
          "Window and floor coverings and other linens/Other linens",
          "Public transportation/Other intercity transportation",
          "Energy services/Electricity",
          "Other food at home/Fats and oils",
          "Window and floor coverings and other linens/Floor coverings",
          "Food away from home/Food at employee sites and schools",
          "Apparel/Footwear",
          "Bakery products/Fresh biscuits, rolls, muffins",
          "Fish and seafood/Fresh fish and seafood",
          "Fresh fruits and vegetables/Fresh fruits",
          "Fruits and vegetables/Fresh fruits and vegetables",
          "Fresh fruits and vegetables/Fresh vegetables",
          "Other foods/Frozen and freeze dried prepared foods",
          "Jewelry and watches/Watches",
          "Energy services/Utility (piped) gas service",
          "Medical care/Medical care services",
          "Medical care/Medical care commodities",
          "All items/Medical care",
          "Medical care commodities/Medical equipment and supplies",
          "All items/Transportation",
          "Other recreational goods/Toys",
          "Household furnishings and operations/Tools, hardware, outdoor equipment and supplies",
          "Tools, hardware, outdoor equipment and supplies/Tools, hardware and supplies",
          "Tobacco and smoking products/Tobacco products other than cigarettes",
          "Other goods and services/Tobacco and smoking products",
          "Motor vehicle parts and equipment/Tires",
          "Shelter/Tenants' and household insurance",
          "Housing/Household furnishings and operations",
          "Fuels and utilities/Household energy",
          "Fuels and utilities/Water and sewer and trash collection services",
          "Alcoholic beverages at home/Wine at home",
          "Apparel/Women's and girls' apparel",
          "Household furnishings and operations/Window and floor coverings and other linens",
          "Water and sewer and trash collection services/Water and sewerage maintenance",
          "Window and floor coverings and other linens/Window coverings",
          "Telephone services/Wireless telephone services",
          "Recreation/Sporting goods",
          "Other foods/Spices, seasonings, condiments, sauces",
          "Tuition, other school fees, and childcare/Technical and business school tuition and fees",
          "Information technology, hardware and services/Telephone hardware, calculators, and other consumer information items",
          "Information and information processing/Telephone services",
          "Video and audio/Cable and satellite television service",
          "Fats and oils/Butter and margarine",
          "Cereals and cereal products/Breakfast cereal",
          "Bakery products/Cakes, cupcakes, and cookies",
          "Photography/Unsampled photography",
          "Public transportation/Unsampled public transportation",
          "New and used motor vehicles/Car and truck rental",
          "Juices and nonalcoholic drinks/Carbonated drinks",
          "Household furnishings and operations/Other household equipment and furnishings",
          "Poultry/Other uncooked poultry including turkey",
          "Recreation/Other recreation services",
          "Motor fuel/Other motor fuels",
          "Other goods and services/Personal care",
          "Motor vehicle fees/Parking and other fees",
          "Education and communication/Education",
          "All items/Education and communication",
          "Education/Educational books and supplies",
          "Fish and seafood/Processed fish and seafood",
          "Transportation/Private transportation",
          "Medical care services/Professional services",
          "Fruits and vegetables/Processed fruits and vegetables",
          "Recreation/Pets, pet products and services",
          "Photography/Photographers and photo processing",
          "Photography/Photographic equipment and supplies",
          "Recreation/Photography",
          "Video and audio/Televisions",
          "Other food at home/Sugar and sweets",
          "Fresh vegetables/Tomatoes",
          "Other foods/Soups",
          "Sporting goods/Sports equipment",
          "Education/Tuition, other school fees, and childcare",
          "Shelter/Rent of primary residence",
          "Beef and veal/Uncooked ground beef",
          "Beef and veal/Uncooked beef roasts",
          "Beef and veal/Uncooked beef steaks",
          "Pork/Ham",
          "Housekeeping supplies/Household cleaning products",
          "Medical care services/Health insurance",
          "Household furnishings and operations/Household operations",
          "Sporting goods/Sports vehicles including bicycles",
          "Motor vehicle fees/State motor vehicle registration and license fees",
          "Sugar and sweets/Sugar and sugar substitutes",
          "Food and beverages/Food",
          "All items/Food and beverages",
          "Cereals and cereal products/Flour and prepared flour mixes",
          "Motor vehicle maintenance and repair/Unsampled service policies",
          "Recreational reading materials/Unsampled recreational reading materials",
          "Video and audio/Video discs and other media, including rental of video",
          "Motor vehicle parts and equipment/Vehicle accessories other than tires",
          "Recreation/Video and audio",
          "Apparel/Men's and boys' apparel",
          "Men's apparel/Men''s underwear, nightwear, swimwear, and accessories",
          "Men's and boys' apparel/Men's apparel",
          "All items/Other goods and services",
          "Pets, pet products and services/Pets and pet products",
          "Information technology, hardware and services/Unsampled information and information processing",
          "New and used motor vehicles/Unsampled new and used motor vehicles",
          "Motor vehicle fees/Unsampled motor vehicle fees",
          "Men's apparel/Unsampled men's apparel",
          "Miscellaneous personal services/Unsampled items",
          "Other foods/Snacks",
          "Household operations/Repair of household items",
          "Housing/Shelter",
          "Other recreational goods/Sewing machines, fabric and supplies",
          "Professional services/Services by other medical professionals",
          "Fats and oils/Salad dressing",
          "Cereals and cereal products/Rice, pasta, cornmeal",
          "Information technology, hardware and services/Internet services and electronic information providers",
          "Public transportation/Intracity transportation",
          "Telephone services/Land-line telephone services",
          "Miscellaneous personal services/Laundry and dry cleaning services",
          "Nonalcoholic beverages and beverage materials/Juices and nonalcoholic drinks",
          "Food at home/Nonalcoholic beverages and beverage materials",
          "Bakery products/Other bakery products",
          "Appliances/Other appliances",
          "Hospital and related services/Nursing homes and adult day services",
          "Other household equipment and furnishings/Nonelectric cookware and tableware",
          "Medicinal drugs/Nonprescription drugs",
          "Juices and nonalcoholic drinks/Nonfrozen noncarbonated juices and drinks",
          "-",
          "Alcoholic beverages",
          "Alcoholic beverages at home",
          "All items",
          "Apparel",
          "Appliances",
          "Bakery products",
          "Beef and veal",
          "Beverage materials including coffee and tea",
          "Beverages",
          "Cereals and bakery products",
          "Cereals and cereal products",
          "Communication",
          "Dairy and related products",
          "Education",
          "Education and communication",
          "Energy services",
          "Fats and oils",
          "Fish and seafood",
          "Food",
          "Food and beverages",
          "Food at home",
          "Food away from home",
          "Footwear",
          "Fresh fruits",
          "Fresh fruits and vegetables",
          "Fresh vegetables",
          "Fruits and vegetables",
          "Fuel oil and other fuels",
          "Fuels and utilities",
          "Furniture and bedding",
          "Hospital and related services",
          "Household energy",
          "Household furnishings and operations",
          "Household operations",
          "Housekeeping supplies",
          "Housing",
          "Information and information processing",
          "Information technology, hardware and services",
          "Jewelry and watches",
          "Juices and nonalcoholic drinks",
          "Lodging away from home",
          "Meats",
          "Meats, poultry, and fish",
          "Meats, poultry, fish, and eggs",
          "Medical care",
          "Medical care commodities",
          "Medical care services",
          "Medicinal drugs",
          "Men's and boys' apparel",
          "Men's apparel",
          "Miscellaneous personal services",
          "Motor fuel",
          "Motor vehicle fees",
          "Motor vehicle maintenance and repair",
          "Motor vehicle parts and equipment",
          "New and used motor vehicles",
          "Nonalcoholic beverages and beverage materials",
          "Other food at home",
          "Other foods",
          "Other goods and services",
          "Other household equipment and furnishings",
          "Other recreation services",
          "Other recreational goods",
          "Owners' equivalent rent of residences",
          "Personal care",
          "Personal care products",
          "Personal care services",
          "Pets, pet products and services",
          "Photography",
          "Pork",
          "Postage and delivery services",
          "Poultry",
          "Private transportation",
          "Processed fruits and vegetables",
          "Professional services",
          "Public transportation",
          "Recreation",
          "Recreational reading materials",
          "Shelter",
          "Sporting goods",
          "Sugar and sweets",
          "Telephone services",
          "Tobacco and smoking products",
          "Tools, hardware, outdoor equipment and supplies",
          "Transportation",
          "Tuition, other school fees, and childcare",
          "Video and audio",
          "Water and sewer and trash collection services",
          "Window and floor coverings and other linens",
          "Women's and girls' apparel",
          "Women's apparel"
         ],
         "labels": [
          "Admissions",
          "Girls' apparel",
          "Furniture and bedding",
          "Gasoline (all types)",
          "Gardening and lawncare services",
          "Garbage and trash collection",
          "Used cars and trucks",
          "Physicians' services",
          "Other furniture",
          "Motor vehicle insurance",
          "Recreational reading materials",
          "Hair, dental, shaving, and miscellaneous personal care products",
          "Airline fares",
          "Uncooked other beef and veal",
          "Newspapers and magazines",
          "Other beverage materials including tea",
          "Other foods",
          "Motor vehicle maintenance and repair",
          "Other food away from home",
          "Major appliances",
          "Meats",
          "Meats, poultry, and fish",
          "Audio equipment",
          "Baby food",
          "Bacon, breakfast sausage, and related products",
          "Bakery products",
          "Beverages",
          "Boys' and girls' footwear",
          "Boys' apparel",
          "Beverage materials including coffee and tea",
          "Fees for lessons or instructions",
          "Financial services",
          "Funeral expenses",
          "All items",
          "Appliances",
          "Apples",
          "Apparel services other than laundry and dry cleaning",
          "Apparel",
          "Unsampled personal care products",
          "Unsampled recreation commodities",
          "Citrus fruits",
          "Cigarettes",
          "Child care and nursery school",
          "Clocks, lamps, and decorator items",
          "Unsampled household operations",
          "Unsampled furniture",
          "Unsampled owners' equivalent rent of secondary residences",
          "Unsampled appliances",
          "Information and information processing",
          "Infants' and toddlers' apparel",
          "Food from vending machines and mobile vendors",
          "Food away from home",
          "Food at home",
          "Cereals and bakery products",
          "Cereals and cereal products",
          "Frozen fruits and vegetables",
          "Alcoholic beverages at home",
          "Full service meals and snacks",
          "Alcoholic beverages",
          "Alcoholic beverages away from home",
          "Eggs",
          "Club membership for shopping clubs, fraternal, or other organizations, or participant sports fees",
          "Chicken",
          "Bananas",
          "Fish and seafood",
          "Fuel oil",
          "Fruits and vegetables",
          "Fuel oil and other fuels",
          "Frozen noncarbonated juices and drinks",
          "Fuels and utilities",
          "Other food at home",
          "Other fats and oils including peanut butter",
          "Other dairy and related products",
          "Communication",
          "Computer software and accessories",
          "Computers, peripherals, and smart home assistant devices",
          "Cosmetics, perfume, bath, nail preparations and implements",
          "College tuition and fees",
          "Dairy and related products",
          "Delivery services",
          "Distilled spirits at home",
          "Dishes and flatware",
          "Dental services",
          "Domestic services",
          "Coffee",
          "Housing at school, excluding board",
          "Ice cream and related products",
          "Housekeeping supplies",
          "Information technology, hardware and services",
          "Lettuce",
          "Legal services",
          "Living room, kitchen, and dining room furniture",
          "Limited service meals and snacks",
          "Recreation",
          "Public transportation",
          "Recorded music and music subscriptions",
          "Housing",
          "Indoor plants and flowers",
          "Leased cars and trucks",
          "Jewelry and watches",
          "Milk",
          "Men's footwear",
          "Medicinal drugs",
          "Lodging away from home",
          "Meats, poultry, fish, and eggs",
          "Motor fuel",
          "Miscellaneous personal services",
          "Miscellaneous household products",
          "Motor vehicle body work",
          "Motor vehicle fees",
          "Men's shirts and sweaters",
          "Men's suits, sport coats, and outerwear",
          "Men's pants and shorts",
          "Jewelry",
          "Household paper products",
          "Haircuts and other personal care services",
          "Unsampled recreation services",
          "Unsampled sporting goods",
          "Unsampled women's apparel",
          "Unsampled video and audio",
          "Unsampled tuition, other school fees, and childcare",
          "Unsampled tools, hardware, outdoor equipment and supplies",
          "Unsampled tobacco and smoking products",
          "Other fresh fruits",
          "Other fresh vegetables",
          "Energy services",
          "Eyeglasses and eye care",
          "Elementary and high school tuition and fees",
          "Hospital services",
          "Hospital and related services",
          "Beer, ale, and other malt beverages at home",
          "Bread",
          "Candy and chewing gum",
          "Care of invalids and elderly at home",
          "Canned fruits and vegetables",
          "Beef and veal",
          "Cheese and related products",
          "Bedroom furniture",
          "Poultry",
          "Pork",
          "Potatoes",
          "Pork chops",
          "Prescription drugs",
          "Recreational books",
          "Propane, kerosene, and firewood",
          "Postage and delivery services",
          "Postage",
          "Motor vehicle maintenance and servicing",
          "New vehicles",
          "Motor vehicle parts and equipment",
          "Motor vehicle repair",
          "Moving, storage, freight expense",
          "Music instruments and accessories",
          "New and used motor vehicles",
          "Women's apparel",
          "Women's dresses",
          "Women's footwear",
          "Women's outerwear",
          "Women's underwear, nightwear, sportswear, and accessories",
          "Women's suits and separates",
          "Other processed fruits and vegetables including dried",
          "Other pork including roasts, steaks, and ribs",
          "Personal care products",
          "Personal care services",
          "Pet services including veterinary",
          "Owners' equivalent rent of primary residence",
          "Outdoor equipment and supplies",
          "Other video equipment",
          "Owners' equivalent rent of residences",
          "Other sweets",
          "Other recreational goods",
          "Other miscellaneous foods",
          "Other meats",
          "Other lodging away from home including hotels and motels",
          "Other linens",
          "Other intercity transportation",
          "Electricity",
          "Fats and oils",
          "Floor coverings",
          "Food at employee sites and schools",
          "Footwear",
          "Fresh biscuits, rolls, muffins",
          "Fresh fish and seafood",
          "Fresh fruits",
          "Fresh fruits and vegetables",
          "Fresh vegetables",
          "Frozen and freeze dried prepared foods",
          "Watches",
          "Utility (piped) gas service",
          "Medical care services",
          "Medical care commodities",
          "Medical care",
          "Medical equipment and supplies",
          "Transportation",
          "Toys",
          "Tools, hardware, outdoor equipment and supplies",
          "Tools, hardware and supplies",
          "Tobacco products other than cigarettes",
          "Tobacco and smoking products",
          "Tires",
          "Tenants' and household insurance",
          "Household furnishings and operations",
          "Household energy",
          "Water and sewer and trash collection services",
          "Wine at home",
          "Women's and girls' apparel",
          "Window and floor coverings and other linens",
          "Water and sewerage maintenance",
          "Window coverings",
          "Wireless telephone services",
          "Sporting goods",
          "Spices, seasonings, condiments, sauces",
          "Technical and business school tuition and fees",
          "Telephone hardware, calculators, and other consumer information items",
          "Telephone services",
          "Cable and satellite television service",
          "Butter and margarine",
          "Breakfast cereal",
          "Cakes, cupcakes, and cookies",
          "Unsampled photography",
          "Unsampled public transportation",
          "Car and truck rental",
          "Carbonated drinks",
          "Other household equipment and furnishings",
          "Other uncooked poultry including turkey",
          "Other recreation services",
          "Other motor fuels",
          "Personal care",
          "Parking and other fees",
          "Education",
          "Education and communication",
          "Educational books and supplies",
          "Processed fish and seafood",
          "Private transportation",
          "Professional services",
          "Processed fruits and vegetables",
          "Pets, pet products and services",
          "Photographers and photo processing",
          "Photographic equipment and supplies",
          "Photography",
          "Televisions",
          "Sugar and sweets",
          "Tomatoes",
          "Soups",
          "Sports equipment",
          "Tuition, other school fees, and childcare",
          "Rent of primary residence",
          "Uncooked ground beef",
          "Uncooked beef roasts",
          "Uncooked beef steaks",
          "Ham",
          "Household cleaning products",
          "Health insurance",
          "Household operations",
          "Sports vehicles including bicycles",
          "State motor vehicle registration and license fees",
          "Sugar and sugar substitutes",
          "Food",
          "Food and beverages",
          "Flour and prepared flour mixes",
          "Unsampled service policies",
          "Unsampled recreational reading materials",
          "Video discs and other media, including rental of video",
          "Vehicle accessories other than tires",
          "Video and audio",
          "Men's and boys' apparel",
          "Men''s underwear, nightwear, swimwear, and accessories",
          "Men's apparel",
          "Other goods and services",
          "Pets and pet products",
          "Unsampled information and information processing",
          "Unsampled new and used motor vehicles",
          "Unsampled motor vehicle fees",
          "Unsampled men's apparel",
          "Unsampled items",
          "Snacks",
          "Repair of household items",
          "Shelter",
          "Sewing machines, fabric and supplies",
          "Services by other medical professionals",
          "Salad dressing",
          "Rice, pasta, cornmeal",
          "Internet services and electronic information providers",
          "Intracity transportation",
          "Land-line telephone services",
          "Laundry and dry cleaning services",
          "Juices and nonalcoholic drinks",
          "Nonalcoholic beverages and beverage materials",
          "Other bakery products",
          "Other appliances",
          "Nursing homes and adult day services",
          "Nonelectric cookware and tableware",
          "Nonprescription drugs",
          "Nonfrozen noncarbonated juices and drinks",
          "-",
          "Alcoholic beverages",
          "Alcoholic beverages at home",
          "All items",
          "Apparel",
          "Appliances",
          "Bakery products",
          "Beef and veal",
          "Beverage materials including coffee and tea",
          "Beverages",
          "Cereals and bakery products",
          "Cereals and cereal products",
          "Communication",
          "Dairy and related products",
          "Education",
          "Education and communication",
          "Energy services",
          "Fats and oils",
          "Fish and seafood",
          "Food",
          "Food and beverages",
          "Food at home",
          "Food away from home",
          "Footwear",
          "Fresh fruits",
          "Fresh fruits and vegetables",
          "Fresh vegetables",
          "Fruits and vegetables",
          "Fuel oil and other fuels",
          "Fuels and utilities",
          "Furniture and bedding",
          "Hospital and related services",
          "Household energy",
          "Household furnishings and operations",
          "Household operations",
          "Housekeeping supplies",
          "Housing",
          "Information and information processing",
          "Information technology, hardware and services",
          "Jewelry and watches",
          "Juices and nonalcoholic drinks",
          "Lodging away from home",
          "Meats",
          "Meats, poultry, and fish",
          "Meats, poultry, fish, and eggs",
          "Medical care",
          "Medical care commodities",
          "Medical care services",
          "Medicinal drugs",
          "Men's and boys' apparel",
          "Men's apparel",
          "Miscellaneous personal services",
          "Motor fuel",
          "Motor vehicle fees",
          "Motor vehicle maintenance and repair",
          "Motor vehicle parts and equipment",
          "New and used motor vehicles",
          "Nonalcoholic beverages and beverage materials",
          "Other food at home",
          "Other foods",
          "Other goods and services",
          "Other household equipment and furnishings",
          "Other recreation services",
          "Other recreational goods",
          "Owners' equivalent rent of residences",
          "Personal care",
          "Personal care products",
          "Personal care services",
          "Pets, pet products and services",
          "Photography",
          "Pork",
          "Postage and delivery services",
          "Poultry",
          "Private transportation",
          "Processed fruits and vegetables",
          "Professional services",
          "Public transportation",
          "Recreation",
          "Recreational reading materials",
          "Shelter",
          "Sporting goods",
          "Sugar and sweets",
          "Telephone services",
          "Tobacco and smoking products",
          "Tools, hardware, outdoor equipment and supplies",
          "Transportation",
          "Tuition, other school fees, and childcare",
          "Video and audio",
          "Water and sewer and trash collection services",
          "Window and floor coverings and other linens",
          "Women's and girls' apparel",
          "Women's apparel"
         ],
         "marker": {
          "colors": [
           "#636efa",
           "#EF553B",
           "#00cc96",
           "#ab63fa",
           "#FFA15A",
           "#19d3f3",
           "#FF6692",
           "#B6E880",
           "#FF97FF",
           "#FECB52",
           "#636efa",
           "#EF553B",
           "#00cc96",
           "#ab63fa",
           "#FFA15A",
           "#19d3f3",
           "#FF6692",
           "#FECB52",
           "#B6E880",
           "#FF97FF",
           "#FECB52",
           "#636efa",
           "#EF553B",
           "#00cc96",
           "#ab63fa",
           "#FFA15A",
           "#19d3f3",
           "#FF6692",
           "#B6E880",
           "#FF97FF",
           "#636efa",
           "#FECB52",
           "#FECB52",
           "#636efa",
           "#00cc96",
           "#EF553B",
           "#FECB52",
           "#00cc96",
           "#EF553B",
           "#ab63fa",
           "#EF553B",
           "#FFA15A",
           "#19d3f3",
           "#FF6692",
           "#FFA15A",
           "#FF97FF",
           "#B6E880",
           "#FF97FF",
           "#FF97FF",
           "#FECB52",
           "#B6E880",
           "#636efa",
           "#636efa",
           "#EF553B",
           "#FFA15A",
           "#00cc96",
           "#ab63fa",
           "#B6E880",
           "#FFA15A",
           "#ab63fa",
           "#636efa",
           "#636efa",
           "#19d3f3",
           "#EF553B",
           "#FECB52",
           "#FF6692",
           "#EF553B",
           "#B6E880",
           "#FF97FF",
           "#FECB52",
           "#EF553B",
           "#636efa",
           "#EF553B",
           "#00cc96",
           "#ab63fa",
           "#ab63fa",
           "#EF553B",
           "#19d3f3",
           "#EF553B",
           "#FFA15A",
           "#19d3f3",
           "#FF6692",
           "#B6E880",
           "#FFA15A",
           "#19d3f3",
           "#FF6692",
           "#EF553B",
           "#00cc96",
           "#B6E880",
           "#FF97FF",
           "#FECB52",
           "#FF97FF",
           "#B6E880",
           "#00cc96",
           "#FECB52",
           "#EF553B",
           "#00cc96",
           "#FF6692",
           "#FF6692",
           "#FECB52",
           "#EF553B",
           "#FF6692",
           "#636efa",
           "#EF553B",
           "#EF553B",
           "#FECB52",
           "#00cc96",
           "#ab63fa",
           "#FFA15A",
           "#FECB52",
           "#19d3f3",
           "#19d3f3",
           "#19d3f3",
           "#FF6692",
           "#ab63fa",
           "#B6E880",
           "#636efa",
           "#FF97FF",
           "#FECB52",
           "#EF553B",
           "#19d3f3",
           "#636efa",
           "#FFA15A",
           "#EF553B",
           "#FF97FF",
           "#B6E880",
           "#B6E880",
           "#19d3f3",
           "#EF553B",
           "#00cc96",
           "#19d3f3",
           "#ab63fa",
           "#FFA15A",
           "#EF553B",
           "#00cc96",
           "#19d3f3",
           "#EF553B",
           "#FF97FF",
           "#FECB52",
           "#19d3f3",
           "#FF97FF",
           "#ab63fa",
           "#FF6692",
           "#FFA15A",
           "#FF6692",
           "#FF97FF",
           "#FFA15A",
           "#FFA15A",
           "#FF6692",
           "#FECB52",
           "#FFA15A",
           "#FFA15A",
           "#ab63fa",
           "#FECB52",
           "#EF553B",
           "#FECB52",
           "#FF6692",
           "#FECB52",
           "#FECB52",
           "#FECB52",
           "#00cc96",
           "#ab63fa",
           "#00cc96",
           "#00cc96",
           "#B6E880",
           "#B6E880",
           "#636efa",
           "#EF553B",
           "#EF553B",
           "#FFA15A",
           "#636efa",
           "#00cc96",
           "#19d3f3",
           "#FF6692",
           "#FF97FF",
           "#00cc96",
           "#FECB52",
           "#FF6692",
           "#FF97FF",
           "#B6E880",
           "#FECB52",
           "#ab63fa",
           "#636efa",
           "#EF553B",
           "#00cc96",
           "#EF553B",
           "#00cc96",
           "#FF6692",
           "#FECB52",
           "#ab63fa",
           "#ab63fa",
           "#00cc96",
           "#636efa",
           "#00cc96",
           "#ab63fa",
           "#00cc96",
           "#636efa",
           "#FFA15A",
           "#FFA15A",
           "#19d3f3",
           "#EF553B",
           "#FECB52",
           "#FF6692",
           "#FF6692",
           "#19d3f3",
           "#FECB52",
           "#00cc96",
           "#19d3f3",
           "#FF97FF",
           "#B6E880",
           "#636efa",
           "#00cc96",
           "#19d3f3",
           "#ab63fa",
           "#B6E880",
           "#EF553B",
           "#636efa",
           "#FF97FF",
           "#ab63fa",
           "#FECB52",
           "#00cc96",
           "#FF6692",
           "#FF97FF",
           "#00cc96",
           "#19d3f3",
           "#636efa",
           "#ab63fa",
           "#FFA15A",
           "#636efa",
           "#00cc96",
           "#00cc96",
           "#EF553B",
           "#636efa",
           "#FECB52",
           "#00cc96",
           "#00cc96",
           "#636efa",
           "#FECB52",
           "#FECB52",
           "#636efa",
           "#EF553B",
           "#FF6692",
           "#FF97FF",
           "#00cc96",
           "#FF97FF",
           "#EF553B",
           "#EF553B",
           "#ab63fa",
           "#ab63fa",
           "#ab63fa",
           "#ab63fa",
           "#ab63fa",
           "#00cc96",
           "#00cc96",
           "#FF97FF",
           "#636efa",
           "#FFA15A",
           "#19d3f3",
           "#00cc96",
           "#FF97FF",
           "#FFA15A",
           "#FFA15A",
           "#EF553B",
           "#19d3f3",
           "#636efa",
           "#FECB52",
           "#19d3f3",
           "#B6E880",
           "#00cc96",
           "#B6E880",
           "#ab63fa",
           "#FF6692",
           "#636efa",
           "#19d3f3",
           "#FECB52",
           "#00cc96",
           "#FFA15A",
           "#FECB52",
           "#ab63fa",
           "#B6E880",
           "#636efa",
           "#FF97FF",
           "#ab63fa",
           "#00cc96",
           "#B6E880",
           "#FECB52",
           "#FF97FF",
           "#EF553B",
           "#ab63fa",
           "#FF97FF",
           "#EF553B",
           "#FF6692",
           "#FF6692",
           "#FF97FF",
           "#636efa",
           "#ab63fa",
           "#19d3f3",
           "#00cc96",
           "#FECB52",
           "#FF97FF",
           "#ab63fa",
           "#ab63fa",
           "#19d3f3",
           "#FFA15A",
           "#FFA15A",
           "#FF97FF",
           "#FF97FF",
           "#EF553B",
           "#EF553B",
           "#00cc96",
           "#FECB52",
           "#636efa",
           "#636efa",
           "#636efa",
           "#19d3f3",
           "#EF553B",
           "#B6E880",
           "#FF6692",
           "#EF553B",
           "#EF553B",
           "#FF97FF",
           "#00cc96",
           "#FF6692",
           "#FF6692",
           "#FF97FF",
           "#EF553B",
           "#B6E880",
           "#00cc96",
           "#FFA15A",
           "#ab63fa",
           "#FECB52",
           "#B6E880",
           "#ab63fa",
           "#FF6692",
           "#FF97FF",
           "#FF6692",
           "#19d3f3",
           "#FECB52",
           "#636efa",
           "#ab63fa",
           "#636efa",
           "#00cc96",
           "#FF6692",
           "#B6E880",
           "#19d3f3",
           "#FECB52",
           "#ab63fa",
           "#636efa",
           "#FFA15A",
           "#19d3f3",
           "#FF6692",
           "#FF97FF",
           "#FF6692",
           "#00cc96",
           "#FFA15A",
           "#FF6692",
           "#636efa",
           "#ab63fa",
           "#B6E880",
           "#00cc96",
           "#EF553B",
           "#B6E880",
           "#B6E880",
           "#FECB52",
           "#ab63fa",
           "#FFA15A",
           "#19d3f3",
           "#FECB52",
           "#00cc96",
           "#B6E880",
           "#00cc96",
           "#636efa",
           "#FFA15A",
           "#EF553B",
           "#FF97FF",
           "#FFA15A",
           "#B6E880",
           "#FFA15A",
           "#636efa",
           "#FECB52",
           "#19d3f3",
           "#EF553B",
           "#19d3f3",
           "#FF97FF",
           "#EF553B",
           "#FECB52"
          ]
         },
         "maxdepth": 2,
         "name": "",
         "parents": [
          "Other recreation services",
          "Women's and girls' apparel",
          "Household furnishings and operations",
          "Motor fuel",
          "Household operations",
          "Water and sewer and trash collection services",
          "New and used motor vehicles",
          "Professional services",
          "Furniture and bedding",
          "Private transportation",
          "Recreation",
          "Personal care products",
          "Public transportation",
          "Beef and veal",
          "Recreational reading materials",
          "Beverage materials including coffee and tea",
          "Other food at home",
          "Private transportation",
          "Food away from home",
          "Appliances",
          "Meats, poultry, and fish",
          "Meats, poultry, fish, and eggs",
          "Video and audio",
          "Other foods",
          "Pork",
          "Cereals and bakery products",
          "Food and beverages",
          "Footwear",
          "Men's and boys' apparel",
          "Nonalcoholic beverages and beverage materials",
          "Other recreation services",
          "Miscellaneous personal services",
          "Miscellaneous personal services",
          "-",
          "Household furnishings and operations",
          "Fresh fruits",
          "Miscellaneous personal services",
          "All items",
          "Personal care products",
          "Other recreational goods",
          "Fresh fruits",
          "Tobacco and smoking products",
          "Tuition, other school fees, and childcare",
          "Other household equipment and furnishings",
          "Household operations",
          "Furniture and bedding",
          "Owners' equivalent rent of residences",
          "Appliances",
          "Communication",
          "Apparel",
          "Food away from home",
          "Food",
          "Food",
          "Food at home",
          "Cereals and bakery products",
          "Processed fruits and vegetables",
          "Alcoholic beverages",
          "Food away from home",
          "Beverages",
          "Alcoholic beverages",
          "Meats, poultry, fish, and eggs",
          "Other recreation services",
          "Poultry",
          "Fresh fruits",
          "Meats, poultry, and fish",
          "Fuel oil and other fuels",
          "Food at home",
          "Household energy",
          "Juices and nonalcoholic drinks",
          "Housing",
          "Food at home",
          "Fats and oils",
          "Dairy and related products",
          "Education and communication",
          "Information technology, hardware and services",
          "Information technology, hardware and services",
          "Personal care products",
          "Tuition, other school fees, and childcare",
          "Food at home",
          "Postage and delivery services",
          "Alcoholic beverages at home",
          "Other household equipment and furnishings",
          "Professional services",
          "Household operations",
          "Beverage materials including coffee and tea",
          "Lodging away from home",
          "Dairy and related products",
          "Household furnishings and operations",
          "Information and information processing",
          "Fresh vegetables",
          "Miscellaneous personal services",
          "Furniture and bedding",
          "Food away from home",
          "All items",
          "Transportation",
          "Video and audio",
          "All items",
          "Other household equipment and furnishings",
          "New and used motor vehicles",
          "Apparel",
          "Dairy and related products",
          "Footwear",
          "Medical care commodities",
          "Shelter",
          "Food at home",
          "Private transportation",
          "Personal care",
          "Housekeeping supplies",
          "Motor vehicle maintenance and repair",
          "Private transportation",
          "Men's apparel",
          "Men's apparel",
          "Men's apparel",
          "Jewelry and watches",
          "Housekeeping supplies",
          "Personal care services",
          "Other recreation services",
          "Sporting goods",
          "Women's apparel",
          "Video and audio",
          "Tuition, other school fees, and childcare",
          "Tools, hardware, outdoor equipment and supplies",
          "Tobacco and smoking products",
          "Fresh fruits",
          "Fresh vegetables",
          "Household energy",
          "Professional services",
          "Tuition, other school fees, and childcare",
          "Hospital and related services",
          "Medical care services",
          "Alcoholic beverages at home",
          "Bakery products",
          "Sugar and sweets",
          "Hospital and related services",
          "Processed fruits and vegetables",
          "Meats",
          "Dairy and related products",
          "Furniture and bedding",
          "Meats, poultry, and fish",
          "Meats",
          "Fresh vegetables",
          "Pork",
          "Medicinal drugs",
          "Recreational reading materials",
          "Fuel oil and other fuels",
          "Communication",
          "Postage and delivery services",
          "Motor vehicle maintenance and repair",
          "New and used motor vehicles",
          "Private transportation",
          "Motor vehicle maintenance and repair",
          "Household operations",
          "Other recreational goods",
          "Private transportation",
          "Women's and girls' apparel",
          "Women's apparel",
          "Footwear",
          "Women's apparel",
          "Women's apparel",
          "Women's apparel",
          "Processed fruits and vegetables",
          "Pork",
          "Personal care",
          "Personal care",
          "Pets, pet products and services",
          "Owners' equivalent rent of residences",
          "Tools, hardware, outdoor equipment and supplies",
          "Video and audio",
          "Shelter",
          "Sugar and sweets",
          "Recreation",
          "Other foods",
          "Meats",
          "Lodging away from home",
          "Window and floor coverings and other linens",
          "Public transportation",
          "Energy services",
          "Other food at home",
          "Window and floor coverings and other linens",
          "Food away from home",
          "Apparel",
          "Bakery products",
          "Fish and seafood",
          "Fresh fruits and vegetables",
          "Fruits and vegetables",
          "Fresh fruits and vegetables",
          "Other foods",
          "Jewelry and watches",
          "Energy services",
          "Medical care",
          "Medical care",
          "All items",
          "Medical care commodities",
          "All items",
          "Other recreational goods",
          "Household furnishings and operations",
          "Tools, hardware, outdoor equipment and supplies",
          "Tobacco and smoking products",
          "Other goods and services",
          "Motor vehicle parts and equipment",
          "Shelter",
          "Housing",
          "Fuels and utilities",
          "Fuels and utilities",
          "Alcoholic beverages at home",
          "Apparel",
          "Household furnishings and operations",
          "Water and sewer and trash collection services",
          "Window and floor coverings and other linens",
          "Telephone services",
          "Recreation",
          "Other foods",
          "Tuition, other school fees, and childcare",
          "Information technology, hardware and services",
          "Information and information processing",
          "Video and audio",
          "Fats and oils",
          "Cereals and cereal products",
          "Bakery products",
          "Photography",
          "Public transportation",
          "New and used motor vehicles",
          "Juices and nonalcoholic drinks",
          "Household furnishings and operations",
          "Poultry",
          "Recreation",
          "Motor fuel",
          "Other goods and services",
          "Motor vehicle fees",
          "Education and communication",
          "All items",
          "Education",
          "Fish and seafood",
          "Transportation",
          "Medical care services",
          "Fruits and vegetables",
          "Recreation",
          "Photography",
          "Photography",
          "Recreation",
          "Video and audio",
          "Other food at home",
          "Fresh vegetables",
          "Other foods",
          "Sporting goods",
          "Education",
          "Shelter",
          "Beef and veal",
          "Beef and veal",
          "Beef and veal",
          "Pork",
          "Housekeeping supplies",
          "Medical care services",
          "Household furnishings and operations",
          "Sporting goods",
          "Motor vehicle fees",
          "Sugar and sweets",
          "Food and beverages",
          "All items",
          "Cereals and cereal products",
          "Motor vehicle maintenance and repair",
          "Recreational reading materials",
          "Video and audio",
          "Motor vehicle parts and equipment",
          "Recreation",
          "Apparel",
          "Men's apparel",
          "Men's and boys' apparel",
          "All items",
          "Pets, pet products and services",
          "Information technology, hardware and services",
          "New and used motor vehicles",
          "Motor vehicle fees",
          "Men's apparel",
          "Miscellaneous personal services",
          "Other foods",
          "Household operations",
          "Housing",
          "Other recreational goods",
          "Professional services",
          "Fats and oils",
          "Cereals and cereal products",
          "Information technology, hardware and services",
          "Public transportation",
          "Telephone services",
          "Miscellaneous personal services",
          "Nonalcoholic beverages and beverage materials",
          "Food at home",
          "Bakery products",
          "Appliances",
          "Hospital and related services",
          "Other household equipment and furnishings",
          "Medicinal drugs",
          "Juices and nonalcoholic drinks",
          "",
          "",
          "",
          "",
          "",
          "",
          "",
          "",
          "",
          "",
          "",
          "",
          "",
          "",
          "",
          "",
          "",
          "",
          "",
          "",
          "",
          "",
          "",
          "",
          "",
          "",
          "",
          "",
          "",
          "",
          "",
          "",
          "",
          "",
          "",
          "",
          "",
          "",
          "",
          "",
          "",
          "",
          "",
          "",
          "",
          "",
          "",
          "",
          "",
          "",
          "",
          "",
          "",
          "",
          "",
          "",
          "",
          "",
          "",
          "",
          "",
          "",
          "",
          "",
          "",
          "",
          "",
          "",
          "",
          "",
          "",
          "",
          "",
          "",
          "",
          "",
          "",
          "",
          "",
          "",
          "",
          "",
          "",
          "",
          "",
          "",
          "",
          "",
          "",
          "",
          "",
          ""
         ],
         "type": "sunburst",
         "values": [
          0.688,
          0.2,
          0.944,
          2.811,
          0.31,
          0.297,
          2.75,
          1.817,
          0.152,
          1.598,
          0.12,
          0.364,
          0.633,
          0.044,
          0.068,
          0.095,
          1.489,
          1.099,
          0.174,
          0.078,
          1.026,
          1.637,
          0.079,
          0.042,
          0.134,
          0.693,
          1.038,
          0.136,
          0.134,
          0.264,
          0.218,
          0.229,
          0.14,
          100,
          0.22,
          0.073,
          0.03,
          2.663,
          0.008,
          0.016,
          0.136,
          0.529,
          0.768,
          0.313,
          0.08,
          0.009,
          1.218,
          0.003,
          3.666,
          0.125,
          0.08,
          6.347,
          7.772,
          1.001,
          0.308,
          0.086,
          0.58,
          3.176,
          1.038,
          0.458,
          0.099,
          0.689,
          0.273,
          0.074,
          0.278,
          0.084,
          1.341,
          0.145,
          0.006,
          4.387,
          1.972,
          0.098,
          0.197,
          3.777,
          0.018,
          0.297,
          0.306,
          1.569,
          0.792,
          0.01,
          0.094,
          0.052,
          1.005,
          0.302,
          0.169,
          0.118,
          0.111,
          0.922,
          1.297,
          0.068,
          0.25,
          0.454,
          2.787,
          5.797,
          1.105,
          0.045,
          42.385,
          0.093,
          0.641,
          0.153,
          0.218,
          0.224,
          1.515,
          0.825,
          1.736,
          2.875,
          0.981,
          0.32,
          0.059,
          0.565,
          0.15,
          0.088,
          0.13,
          0.114,
          0.235,
          0.694,
          0.321,
          0.01,
          0.009,
          0.012,
          0.119,
          0.19,
          0.019,
          0.254,
          0.29,
          3.135,
          0.365,
          0.431,
          2.221,
          2.419,
          0.223,
          0.2,
          0.18,
          0.073,
          0.15,
          0.471,
          0.266,
          0.329,
          0.333,
          0.322,
          0.075,
          0.052,
          1.141,
          0.05,
          0.061,
          0.111,
          0.101,
          0.635,
          3.756,
          0.393,
          0.345,
          0.091,
          0.046,
          7.525,
          0.875,
          0.092,
          0.284,
          0.062,
          0.265,
          0.446,
          0.052,
          0.075,
          0.678,
          0.694,
          0.56,
          23.044,
          0.459,
          0.042,
          24.263,
          0.053,
          0.356,
          0.469,
          0.233,
          0.707,
          0.151,
          0.182,
          2.425,
          0.212,
          0.062,
          0.13,
          0.644,
          0.101,
          0.14,
          0.538,
          1.053,
          0.516,
          0.259,
          0.04,
          0.71,
          7.289,
          1.58,
          8.87,
          0.066,
          15.16,
          0.274,
          0.892,
          0.243,
          0.06,
          0.608,
          0.249,
          0.366,
          4.682,
          3.28,
          1.107,
          0.263,
          1.075,
          0.271,
          0.81,
          0.058,
          1.96,
          0.604,
          0.29,
          0.037,
          0.077,
          2.369,
          1.192,
          0.063,
          0.142,
          0.178,
          0.001,
          0.003,
          0.134,
          0.278,
          0.535,
          0.06,
          1.916,
          0.064,
          2.551,
          0.254,
          3.033,
          6.81,
          0.109,
          0.138,
          14.055,
          3.662,
          0.288,
          1.192,
          0.044,
          0.026,
          0.071,
          0.091,
          0.27,
          0.082,
          0.089,
          0.232,
          2.924,
          7.862,
          0.173,
          0.073,
          0.18,
          0.062,
          0.367,
          1.209,
          0.899,
          0.361,
          0.297,
          0.037,
          14.119,
          15.157,
          0.041,
          0.06,
          0.002,
          0.076,
          0.144,
          1.537,
          0.666,
          0.158,
          0.532,
          3.159,
          0.632,
          0.012,
          0.244,
          0.015,
          0.005,
          0.111,
          0.34,
          0.116,
          33.316,
          0.02,
          0.474,
          0.051,
          0.124,
          0.893,
          0.287,
          0.41,
          0.22,
          0.666,
          0.93,
          0.214,
          0.14,
          0.124,
          0.077,
          0.374,
          0.382,
          100,
          1.038,
          0.5800000000000001,
          100.00099999999999,
          2.663,
          0.22100000000000003,
          0.6930000000000001,
          0.47,
          0.264,
          1.038,
          1.001,
          0.307,
          3.777,
          0.792,
          3.033,
          6.8100000000000005,
          3.135,
          0.212,
          0.278,
          14.119,
          15.157,
          7.772,
          6.347,
          0.644,
          0.537,
          1.054,
          0.515,
          1.341,
          0.14500000000000002,
          4.387,
          0.9440000000000001,
          2.418,
          3.28,
          4.683,
          0.899,
          0.9219999999999999,
          42.385000000000005,
          3.6660000000000004,
          1.297,
          0.154,
          0.666,
          0.825,
          1.026,
          1.637,
          1.736,
          8.869,
          1.581,
          7.29,
          1.5150000000000001,
          0.666,
          0.531,
          0.98,
          2.875,
          0.566,
          1.099,
          0.393,
          7.5249999999999995,
          0.93,
          1.971,
          1.4889999999999999,
          3.1590000000000003,
          0.535,
          1.916,
          0.35600000000000004,
          24.262,
          2.3529999999999998,
          0.6779999999999999,
          0.694,
          1.1920000000000002,
          0.071,
          0.323,
          0.111,
          0.333,
          14.055,
          0.288,
          3.6609999999999996,
          1.105,
          5.795999999999999,
          0.12000000000000001,
          33.316,
          0.603,
          0.27,
          2.37,
          0.608,
          0.892,
          15.16,
          2.924,
          1.537,
          1.107,
          0.271,
          1.075,
          0.874
         ]
        }
       ],
       "layout": {
        "font": {
         "size": 10
        },
        "legend": {
         "tracegroupgap": 0
        },
        "margin": {
         "t": 60
        },
        "template": {
         "data": {
          "bar": [
           {
            "error_x": {
             "color": "#2a3f5f"
            },
            "error_y": {
             "color": "#2a3f5f"
            },
            "marker": {
             "line": {
              "color": "#E5ECF6",
              "width": 0.5
             },
             "pattern": {
              "fillmode": "overlay",
              "size": 10,
              "solidity": 0.2
             }
            },
            "type": "bar"
           }
          ],
          "barpolar": [
           {
            "marker": {
             "line": {
              "color": "#E5ECF6",
              "width": 0.5
             },
             "pattern": {
              "fillmode": "overlay",
              "size": 10,
              "solidity": 0.2
             }
            },
            "type": "barpolar"
           }
          ],
          "carpet": [
           {
            "aaxis": {
             "endlinecolor": "#2a3f5f",
             "gridcolor": "white",
             "linecolor": "white",
             "minorgridcolor": "white",
             "startlinecolor": "#2a3f5f"
            },
            "baxis": {
             "endlinecolor": "#2a3f5f",
             "gridcolor": "white",
             "linecolor": "white",
             "minorgridcolor": "white",
             "startlinecolor": "#2a3f5f"
            },
            "type": "carpet"
           }
          ],
          "choropleth": [
           {
            "colorbar": {
             "outlinewidth": 0,
             "ticks": ""
            },
            "type": "choropleth"
           }
          ],
          "contour": [
           {
            "colorbar": {
             "outlinewidth": 0,
             "ticks": ""
            },
            "colorscale": [
             [
              0,
              "#0d0887"
             ],
             [
              0.1111111111111111,
              "#46039f"
             ],
             [
              0.2222222222222222,
              "#7201a8"
             ],
             [
              0.3333333333333333,
              "#9c179e"
             ],
             [
              0.4444444444444444,
              "#bd3786"
             ],
             [
              0.5555555555555556,
              "#d8576b"
             ],
             [
              0.6666666666666666,
              "#ed7953"
             ],
             [
              0.7777777777777778,
              "#fb9f3a"
             ],
             [
              0.8888888888888888,
              "#fdca26"
             ],
             [
              1,
              "#f0f921"
             ]
            ],
            "type": "contour"
           }
          ],
          "contourcarpet": [
           {
            "colorbar": {
             "outlinewidth": 0,
             "ticks": ""
            },
            "type": "contourcarpet"
           }
          ],
          "heatmap": [
           {
            "colorbar": {
             "outlinewidth": 0,
             "ticks": ""
            },
            "colorscale": [
             [
              0,
              "#0d0887"
             ],
             [
              0.1111111111111111,
              "#46039f"
             ],
             [
              0.2222222222222222,
              "#7201a8"
             ],
             [
              0.3333333333333333,
              "#9c179e"
             ],
             [
              0.4444444444444444,
              "#bd3786"
             ],
             [
              0.5555555555555556,
              "#d8576b"
             ],
             [
              0.6666666666666666,
              "#ed7953"
             ],
             [
              0.7777777777777778,
              "#fb9f3a"
             ],
             [
              0.8888888888888888,
              "#fdca26"
             ],
             [
              1,
              "#f0f921"
             ]
            ],
            "type": "heatmap"
           }
          ],
          "heatmapgl": [
           {
            "colorbar": {
             "outlinewidth": 0,
             "ticks": ""
            },
            "colorscale": [
             [
              0,
              "#0d0887"
             ],
             [
              0.1111111111111111,
              "#46039f"
             ],
             [
              0.2222222222222222,
              "#7201a8"
             ],
             [
              0.3333333333333333,
              "#9c179e"
             ],
             [
              0.4444444444444444,
              "#bd3786"
             ],
             [
              0.5555555555555556,
              "#d8576b"
             ],
             [
              0.6666666666666666,
              "#ed7953"
             ],
             [
              0.7777777777777778,
              "#fb9f3a"
             ],
             [
              0.8888888888888888,
              "#fdca26"
             ],
             [
              1,
              "#f0f921"
             ]
            ],
            "type": "heatmapgl"
           }
          ],
          "histogram": [
           {
            "marker": {
             "pattern": {
              "fillmode": "overlay",
              "size": 10,
              "solidity": 0.2
             }
            },
            "type": "histogram"
           }
          ],
          "histogram2d": [
           {
            "colorbar": {
             "outlinewidth": 0,
             "ticks": ""
            },
            "colorscale": [
             [
              0,
              "#0d0887"
             ],
             [
              0.1111111111111111,
              "#46039f"
             ],
             [
              0.2222222222222222,
              "#7201a8"
             ],
             [
              0.3333333333333333,
              "#9c179e"
             ],
             [
              0.4444444444444444,
              "#bd3786"
             ],
             [
              0.5555555555555556,
              "#d8576b"
             ],
             [
              0.6666666666666666,
              "#ed7953"
             ],
             [
              0.7777777777777778,
              "#fb9f3a"
             ],
             [
              0.8888888888888888,
              "#fdca26"
             ],
             [
              1,
              "#f0f921"
             ]
            ],
            "type": "histogram2d"
           }
          ],
          "histogram2dcontour": [
           {
            "colorbar": {
             "outlinewidth": 0,
             "ticks": ""
            },
            "colorscale": [
             [
              0,
              "#0d0887"
             ],
             [
              0.1111111111111111,
              "#46039f"
             ],
             [
              0.2222222222222222,
              "#7201a8"
             ],
             [
              0.3333333333333333,
              "#9c179e"
             ],
             [
              0.4444444444444444,
              "#bd3786"
             ],
             [
              0.5555555555555556,
              "#d8576b"
             ],
             [
              0.6666666666666666,
              "#ed7953"
             ],
             [
              0.7777777777777778,
              "#fb9f3a"
             ],
             [
              0.8888888888888888,
              "#fdca26"
             ],
             [
              1,
              "#f0f921"
             ]
            ],
            "type": "histogram2dcontour"
           }
          ],
          "mesh3d": [
           {
            "colorbar": {
             "outlinewidth": 0,
             "ticks": ""
            },
            "type": "mesh3d"
           }
          ],
          "parcoords": [
           {
            "line": {
             "colorbar": {
              "outlinewidth": 0,
              "ticks": ""
             }
            },
            "type": "parcoords"
           }
          ],
          "pie": [
           {
            "automargin": true,
            "type": "pie"
           }
          ],
          "scatter": [
           {
            "fillpattern": {
             "fillmode": "overlay",
             "size": 10,
             "solidity": 0.2
            },
            "type": "scatter"
           }
          ],
          "scatter3d": [
           {
            "line": {
             "colorbar": {
              "outlinewidth": 0,
              "ticks": ""
             }
            },
            "marker": {
             "colorbar": {
              "outlinewidth": 0,
              "ticks": ""
             }
            },
            "type": "scatter3d"
           }
          ],
          "scattercarpet": [
           {
            "marker": {
             "colorbar": {
              "outlinewidth": 0,
              "ticks": ""
             }
            },
            "type": "scattercarpet"
           }
          ],
          "scattergeo": [
           {
            "marker": {
             "colorbar": {
              "outlinewidth": 0,
              "ticks": ""
             }
            },
            "type": "scattergeo"
           }
          ],
          "scattergl": [
           {
            "marker": {
             "colorbar": {
              "outlinewidth": 0,
              "ticks": ""
             }
            },
            "type": "scattergl"
           }
          ],
          "scattermapbox": [
           {
            "marker": {
             "colorbar": {
              "outlinewidth": 0,
              "ticks": ""
             }
            },
            "type": "scattermapbox"
           }
          ],
          "scatterpolar": [
           {
            "marker": {
             "colorbar": {
              "outlinewidth": 0,
              "ticks": ""
             }
            },
            "type": "scatterpolar"
           }
          ],
          "scatterpolargl": [
           {
            "marker": {
             "colorbar": {
              "outlinewidth": 0,
              "ticks": ""
             }
            },
            "type": "scatterpolargl"
           }
          ],
          "scatterternary": [
           {
            "marker": {
             "colorbar": {
              "outlinewidth": 0,
              "ticks": ""
             }
            },
            "type": "scatterternary"
           }
          ],
          "surface": [
           {
            "colorbar": {
             "outlinewidth": 0,
             "ticks": ""
            },
            "colorscale": [
             [
              0,
              "#0d0887"
             ],
             [
              0.1111111111111111,
              "#46039f"
             ],
             [
              0.2222222222222222,
              "#7201a8"
             ],
             [
              0.3333333333333333,
              "#9c179e"
             ],
             [
              0.4444444444444444,
              "#bd3786"
             ],
             [
              0.5555555555555556,
              "#d8576b"
             ],
             [
              0.6666666666666666,
              "#ed7953"
             ],
             [
              0.7777777777777778,
              "#fb9f3a"
             ],
             [
              0.8888888888888888,
              "#fdca26"
             ],
             [
              1,
              "#f0f921"
             ]
            ],
            "type": "surface"
           }
          ],
          "table": [
           {
            "cells": {
             "fill": {
              "color": "#EBF0F8"
             },
             "line": {
              "color": "white"
             }
            },
            "header": {
             "fill": {
              "color": "#C8D4E3"
             },
             "line": {
              "color": "white"
             }
            },
            "type": "table"
           }
          ]
         },
         "layout": {
          "annotationdefaults": {
           "arrowcolor": "#2a3f5f",
           "arrowhead": 0,
           "arrowwidth": 1
          },
          "autotypenumbers": "strict",
          "coloraxis": {
           "colorbar": {
            "outlinewidth": 0,
            "ticks": ""
           }
          },
          "colorscale": {
           "diverging": [
            [
             0,
             "#8e0152"
            ],
            [
             0.1,
             "#c51b7d"
            ],
            [
             0.2,
             "#de77ae"
            ],
            [
             0.3,
             "#f1b6da"
            ],
            [
             0.4,
             "#fde0ef"
            ],
            [
             0.5,
             "#f7f7f7"
            ],
            [
             0.6,
             "#e6f5d0"
            ],
            [
             0.7,
             "#b8e186"
            ],
            [
             0.8,
             "#7fbc41"
            ],
            [
             0.9,
             "#4d9221"
            ],
            [
             1,
             "#276419"
            ]
           ],
           "sequential": [
            [
             0,
             "#0d0887"
            ],
            [
             0.1111111111111111,
             "#46039f"
            ],
            [
             0.2222222222222222,
             "#7201a8"
            ],
            [
             0.3333333333333333,
             "#9c179e"
            ],
            [
             0.4444444444444444,
             "#bd3786"
            ],
            [
             0.5555555555555556,
             "#d8576b"
            ],
            [
             0.6666666666666666,
             "#ed7953"
            ],
            [
             0.7777777777777778,
             "#fb9f3a"
            ],
            [
             0.8888888888888888,
             "#fdca26"
            ],
            [
             1,
             "#f0f921"
            ]
           ],
           "sequentialminus": [
            [
             0,
             "#0d0887"
            ],
            [
             0.1111111111111111,
             "#46039f"
            ],
            [
             0.2222222222222222,
             "#7201a8"
            ],
            [
             0.3333333333333333,
             "#9c179e"
            ],
            [
             0.4444444444444444,
             "#bd3786"
            ],
            [
             0.5555555555555556,
             "#d8576b"
            ],
            [
             0.6666666666666666,
             "#ed7953"
            ],
            [
             0.7777777777777778,
             "#fb9f3a"
            ],
            [
             0.8888888888888888,
             "#fdca26"
            ],
            [
             1,
             "#f0f921"
            ]
           ]
          },
          "colorway": [
           "#636efa",
           "#EF553B",
           "#00cc96",
           "#ab63fa",
           "#FFA15A",
           "#19d3f3",
           "#FF6692",
           "#B6E880",
           "#FF97FF",
           "#FECB52"
          ],
          "font": {
           "color": "#2a3f5f"
          },
          "geo": {
           "bgcolor": "white",
           "lakecolor": "white",
           "landcolor": "#E5ECF6",
           "showlakes": true,
           "showland": true,
           "subunitcolor": "white"
          },
          "hoverlabel": {
           "align": "left"
          },
          "hovermode": "closest",
          "mapbox": {
           "style": "light"
          },
          "paper_bgcolor": "white",
          "plot_bgcolor": "#E5ECF6",
          "polar": {
           "angularaxis": {
            "gridcolor": "white",
            "linecolor": "white",
            "ticks": ""
           },
           "bgcolor": "#E5ECF6",
           "radialaxis": {
            "gridcolor": "white",
            "linecolor": "white",
            "ticks": ""
           }
          },
          "scene": {
           "xaxis": {
            "backgroundcolor": "#E5ECF6",
            "gridcolor": "white",
            "gridwidth": 2,
            "linecolor": "white",
            "showbackground": true,
            "ticks": "",
            "zerolinecolor": "white"
           },
           "yaxis": {
            "backgroundcolor": "#E5ECF6",
            "gridcolor": "white",
            "gridwidth": 2,
            "linecolor": "white",
            "showbackground": true,
            "ticks": "",
            "zerolinecolor": "white"
           },
           "zaxis": {
            "backgroundcolor": "#E5ECF6",
            "gridcolor": "white",
            "gridwidth": 2,
            "linecolor": "white",
            "showbackground": true,
            "ticks": "",
            "zerolinecolor": "white"
           }
          },
          "shapedefaults": {
           "line": {
            "color": "#2a3f5f"
           }
          },
          "ternary": {
           "aaxis": {
            "gridcolor": "white",
            "linecolor": "white",
            "ticks": ""
           },
           "baxis": {
            "gridcolor": "white",
            "linecolor": "white",
            "ticks": ""
           },
           "bgcolor": "#E5ECF6",
           "caxis": {
            "gridcolor": "white",
            "linecolor": "white",
            "ticks": ""
           }
          },
          "title": {
           "x": 0.05
          },
          "xaxis": {
           "automargin": true,
           "gridcolor": "white",
           "linecolor": "white",
           "ticks": "",
           "title": {
            "standoff": 15
           },
           "zerolinecolor": "white",
           "zerolinewidth": 2
          },
          "yaxis": {
           "automargin": true,
           "gridcolor": "white",
           "linecolor": "white",
           "ticks": "",
           "title": {
            "standoff": 15
           },
           "zerolinecolor": "white",
           "zerolinewidth": 2
          }
         }
        },
        "title": {
         "text": "Sunburst Diagram"
        }
       }
      },
      "text/html": [
       "<div>                            <div id=\"4d3d54a3-ebbf-458e-9e10-eb9a37c04897\" class=\"plotly-graph-div\" style=\"height:525px; width:100%;\"></div>            <script type=\"text/javascript\">                require([\"plotly\"], function(Plotly) {                    window.PLOTLYENV=window.PLOTLYENV || {};                                    if (document.getElementById(\"4d3d54a3-ebbf-458e-9e10-eb9a37c04897\")) {                    Plotly.newPlot(                        \"4d3d54a3-ebbf-458e-9e10-eb9a37c04897\",                        [{\"branchvalues\":\"total\",\"customdata\":[[\"Other recreation services\"],[\"Women's and girls' apparel\"],[\"Household furnishings and operations\"],[\"Motor fuel\"],[\"Household operations\"],[\"Water and sewer and trash collection services\"],[\"New and used motor vehicles\"],[\"Professional services\"],[\"Furniture and bedding\"],[\"Private transportation\"],[\"Recreation\"],[\"Personal care products\"],[\"Public transportation\"],[\"Beef and veal\"],[\"Recreational reading materials\"],[\"Beverage materials including coffee and tea\"],[\"Other food at home\"],[\"Private transportation\"],[\"Food away from home\"],[\"Appliances\"],[\"Meats, poultry, and fish\"],[\"Meats, poultry, fish, and eggs\"],[\"Video and audio\"],[\"Other foods\"],[\"Pork\"],[\"Cereals and bakery products\"],[\"Food and beverages\"],[\"Footwear\"],[\"Men's and boys' apparel\"],[\"Nonalcoholic beverages and beverage materials\"],[\"Other recreation services\"],[\"Miscellaneous personal services\"],[\"Miscellaneous personal services\"],[\"-\"],[\"Household furnishings and operations\"],[\"Fresh fruits\"],[\"Miscellaneous personal services\"],[\"All items\"],[\"Personal care products\"],[\"Other recreational goods\"],[\"Fresh fruits\"],[\"Tobacco and smoking products\"],[\"Tuition, other school fees, and childcare\"],[\"Other household equipment and furnishings\"],[\"Household operations\"],[\"Furniture and bedding\"],[\"Owners' equivalent rent of residences\"],[\"Appliances\"],[\"Communication\"],[\"Apparel\"],[\"Food away from home\"],[\"Food\"],[\"Food\"],[\"Food at home\"],[\"Cereals and bakery products\"],[\"Processed fruits and vegetables\"],[\"Alcoholic beverages\"],[\"Food away from home\"],[\"Beverages\"],[\"Alcoholic beverages\"],[\"Meats, poultry, fish, and eggs\"],[\"Other recreation services\"],[\"Poultry\"],[\"Fresh fruits\"],[\"Meats, poultry, and fish\"],[\"Fuel oil and other fuels\"],[\"Food at home\"],[\"Household energy\"],[\"Juices and nonalcoholic drinks\"],[\"Housing\"],[\"Food at home\"],[\"Fats and oils\"],[\"Dairy and related products\"],[\"Education and communication\"],[\"Information technology, hardware and services\"],[\"Information technology, hardware and services\"],[\"Personal care products\"],[\"Tuition, other school fees, and childcare\"],[\"Food at home\"],[\"Postage and delivery services\"],[\"Alcoholic beverages at home\"],[\"Other household equipment and furnishings\"],[\"Professional services\"],[\"Household operations\"],[\"Beverage materials including coffee and tea\"],[\"Lodging away from home\"],[\"Dairy and related products\"],[\"Household furnishings and operations\"],[\"Information and information processing\"],[\"Fresh vegetables\"],[\"Miscellaneous personal services\"],[\"Furniture and bedding\"],[\"Food away from home\"],[\"All items\"],[\"Transportation\"],[\"Video and audio\"],[\"All items\"],[\"Other household equipment and furnishings\"],[\"New and used motor vehicles\"],[\"Apparel\"],[\"Dairy and related products\"],[\"Footwear\"],[\"Medical care commodities\"],[\"Shelter\"],[\"Food at home\"],[\"Private transportation\"],[\"Personal care\"],[\"Housekeeping supplies\"],[\"Motor vehicle maintenance and repair\"],[\"Private transportation\"],[\"Men's apparel\"],[\"Men's apparel\"],[\"Men's apparel\"],[\"Jewelry and watches\"],[\"Housekeeping supplies\"],[\"Personal care services\"],[\"Other recreation services\"],[\"Sporting goods\"],[\"Women's apparel\"],[\"Video and audio\"],[\"Tuition, other school fees, and childcare\"],[\"Tools, hardware, outdoor equipment and supplies\"],[\"Tobacco and smoking products\"],[\"Fresh fruits\"],[\"Fresh vegetables\"],[\"Household energy\"],[\"Professional services\"],[\"Tuition, other school fees, and childcare\"],[\"Hospital and related services\"],[\"Medical care services\"],[\"Alcoholic beverages at home\"],[\"Bakery products\"],[\"Sugar and sweets\"],[\"Hospital and related services\"],[\"Processed fruits and vegetables\"],[\"Meats\"],[\"Dairy and related products\"],[\"Furniture and bedding\"],[\"Meats, poultry, and fish\"],[\"Meats\"],[\"Fresh vegetables\"],[\"Pork\"],[\"Medicinal drugs\"],[\"Recreational reading materials\"],[\"Fuel oil and other fuels\"],[\"Communication\"],[\"Postage and delivery services\"],[\"Motor vehicle maintenance and repair\"],[\"New and used motor vehicles\"],[\"Private transportation\"],[\"Motor vehicle maintenance and repair\"],[\"Household operations\"],[\"Other recreational goods\"],[\"Private transportation\"],[\"Women's and girls' apparel\"],[\"Women's apparel\"],[\"Footwear\"],[\"Women's apparel\"],[\"Women's apparel\"],[\"Women's apparel\"],[\"Processed fruits and vegetables\"],[\"Pork\"],[\"Personal care\"],[\"Personal care\"],[\"Pets, pet products and services\"],[\"Owners' equivalent rent of residences\"],[\"Tools, hardware, outdoor equipment and supplies\"],[\"Video and audio\"],[\"Shelter\"],[\"Sugar and sweets\"],[\"Recreation\"],[\"Other foods\"],[\"Meats\"],[\"Lodging away from home\"],[\"Window and floor coverings and other linens\"],[\"Public transportation\"],[\"Energy services\"],[\"Other food at home\"],[\"Window and floor coverings and other linens\"],[\"Food away from home\"],[\"Apparel\"],[\"Bakery products\"],[\"Fish and seafood\"],[\"Fresh fruits and vegetables\"],[\"Fruits and vegetables\"],[\"Fresh fruits and vegetables\"],[\"Other foods\"],[\"Jewelry and watches\"],[\"Energy services\"],[\"Medical care\"],[\"Medical care\"],[\"All items\"],[\"Medical care commodities\"],[\"All items\"],[\"Other recreational goods\"],[\"Household furnishings and operations\"],[\"Tools, hardware, outdoor equipment and supplies\"],[\"Tobacco and smoking products\"],[\"Other goods and services\"],[\"Motor vehicle parts and equipment\"],[\"Shelter\"],[\"Housing\"],[\"Fuels and utilities\"],[\"Fuels and utilities\"],[\"Alcoholic beverages at home\"],[\"Apparel\"],[\"Household furnishings and operations\"],[\"Water and sewer and trash collection services\"],[\"Window and floor coverings and other linens\"],[\"Telephone services\"],[\"Recreation\"],[\"Other foods\"],[\"Tuition, other school fees, and childcare\"],[\"Information technology, hardware and services\"],[\"Information and information processing\"],[\"Video and audio\"],[\"Fats and oils\"],[\"Cereals and cereal products\"],[\"Bakery products\"],[\"Photography\"],[\"Public transportation\"],[\"New and used motor vehicles\"],[\"Juices and nonalcoholic drinks\"],[\"Household furnishings and operations\"],[\"Poultry\"],[\"Recreation\"],[\"Motor fuel\"],[\"Other goods and services\"],[\"Motor vehicle fees\"],[\"Education and communication\"],[\"All items\"],[\"Education\"],[\"Fish and seafood\"],[\"Transportation\"],[\"Medical care services\"],[\"Fruits and vegetables\"],[\"Recreation\"],[\"Photography\"],[\"Photography\"],[\"Recreation\"],[\"Video and audio\"],[\"Other food at home\"],[\"Fresh vegetables\"],[\"Other foods\"],[\"Sporting goods\"],[\"Education\"],[\"Shelter\"],[\"Beef and veal\"],[\"Beef and veal\"],[\"Beef and veal\"],[\"Pork\"],[\"Housekeeping supplies\"],[\"Medical care services\"],[\"Household furnishings and operations\"],[\"Sporting goods\"],[\"Motor vehicle fees\"],[\"Sugar and sweets\"],[\"Food and beverages\"],[\"All items\"],[\"Cereals and cereal products\"],[\"Motor vehicle maintenance and repair\"],[\"Recreational reading materials\"],[\"Video and audio\"],[\"Motor vehicle parts and equipment\"],[\"Recreation\"],[\"Apparel\"],[\"Men's apparel\"],[\"Men's and boys' apparel\"],[\"All items\"],[\"Pets, pet products and services\"],[\"Information technology, hardware and services\"],[\"New and used motor vehicles\"],[\"Motor vehicle fees\"],[\"Men's apparel\"],[\"Miscellaneous personal services\"],[\"Other foods\"],[\"Household operations\"],[\"Housing\"],[\"Other recreational goods\"],[\"Professional services\"],[\"Fats and oils\"],[\"Cereals and cereal products\"],[\"Information technology, hardware and services\"],[\"Public transportation\"],[\"Telephone services\"],[\"Miscellaneous personal services\"],[\"Nonalcoholic beverages and beverage materials\"],[\"Food at home\"],[\"Bakery products\"],[\"Appliances\"],[\"Hospital and related services\"],[\"Other household equipment and furnishings\"],[\"Medicinal drugs\"],[\"Juices and nonalcoholic drinks\"],[\"-\"],[\"Alcoholic beverages\"],[\"Alcoholic beverages at home\"],[\"All items\"],[\"Apparel\"],[\"Appliances\"],[\"Bakery products\"],[\"Beef and veal\"],[\"Beverage materials including coffee and tea\"],[\"Beverages\"],[\"Cereals and bakery products\"],[\"Cereals and cereal products\"],[\"Communication\"],[\"Dairy and related products\"],[\"Education\"],[\"Education and communication\"],[\"Energy services\"],[\"Fats and oils\"],[\"Fish and seafood\"],[\"Food\"],[\"Food and beverages\"],[\"Food at home\"],[\"Food away from home\"],[\"Footwear\"],[\"Fresh fruits\"],[\"Fresh fruits and vegetables\"],[\"Fresh vegetables\"],[\"Fruits and vegetables\"],[\"Fuel oil and other fuels\"],[\"Fuels and utilities\"],[\"Furniture and bedding\"],[\"Hospital and related services\"],[\"Household energy\"],[\"Household furnishings and operations\"],[\"Household operations\"],[\"Housekeeping supplies\"],[\"Housing\"],[\"Information and information processing\"],[\"Information technology, hardware and services\"],[\"Jewelry and watches\"],[\"Juices and nonalcoholic drinks\"],[\"Lodging away from home\"],[\"Meats\"],[\"Meats, poultry, and fish\"],[\"Meats, poultry, fish, and eggs\"],[\"Medical care\"],[\"Medical care commodities\"],[\"Medical care services\"],[\"Medicinal drugs\"],[\"Men's and boys' apparel\"],[\"Men's apparel\"],[\"Miscellaneous personal services\"],[\"Motor fuel\"],[\"Motor vehicle fees\"],[\"Motor vehicle maintenance and repair\"],[\"Motor vehicle parts and equipment\"],[\"New and used motor vehicles\"],[\"Nonalcoholic beverages and beverage materials\"],[\"Other food at home\"],[\"Other foods\"],[\"Other goods and services\"],[\"Other household equipment and furnishings\"],[\"Other recreation services\"],[\"Other recreational goods\"],[\"Owners' equivalent rent of residences\"],[\"Personal care\"],[\"Personal care products\"],[\"Personal care services\"],[\"Pets, pet products and services\"],[\"Photography\"],[\"Pork\"],[\"Postage and delivery services\"],[\"Poultry\"],[\"Private transportation\"],[\"Processed fruits and vegetables\"],[\"Professional services\"],[\"Public transportation\"],[\"Recreation\"],[\"Recreational reading materials\"],[\"Shelter\"],[\"Sporting goods\"],[\"Sugar and sweets\"],[\"Telephone services\"],[\"Tobacco and smoking products\"],[\"Tools, hardware, outdoor equipment and supplies\"],[\"Transportation\"],[\"Tuition, other school fees, and childcare\"],[\"Video and audio\"],[\"Water and sewer and trash collection services\"],[\"Window and floor coverings and other linens\"],[\"Women's and girls' apparel\"],[\"Women's apparel\"]],\"domain\":{\"x\":[0.0,1.0],\"y\":[0.0,1.0]},\"hovertemplate\":\"labels=%{label}<br>Weight=%{value}<br>parent=%{parent}<br>id=%{id}<br>Parent=%{customdata[0]}<extra></extra>\",\"ids\":[\"Other recreation services/Admissions\",\"Women's and girls' apparel/Girls' apparel\",\"Household furnishings and operations/Furniture and bedding\",\"Motor fuel/Gasoline (all types)\",\"Household operations/Gardening and lawncare services\",\"Water and sewer and trash collection services/Garbage and trash collection\",\"New and used motor vehicles/Used cars and trucks\",\"Professional services/Physicians' services\",\"Furniture and bedding/Other furniture\",\"Private transportation/Motor vehicle insurance\",\"Recreation/Recreational reading materials\",\"Personal care products/Hair, dental, shaving, and miscellaneous personal care products\",\"Public transportation/Airline fares\",\"Beef and veal/Uncooked other beef and veal\",\"Recreational reading materials/Newspapers and magazines\",\"Beverage materials including coffee and tea/Other beverage materials including tea\",\"Other food at home/Other foods\",\"Private transportation/Motor vehicle maintenance and repair\",\"Food away from home/Other food away from home\",\"Appliances/Major appliances\",\"Meats, poultry, and fish/Meats\",\"Meats, poultry, fish, and eggs/Meats, poultry, and fish\",\"Video and audio/Audio equipment\",\"Other foods/Baby food\",\"Pork/Bacon, breakfast sausage, and related products\",\"Cereals and bakery products/Bakery products\",\"Food and beverages/Beverages\",\"Footwear/Boys' and girls' footwear\",\"Men's and boys' apparel/Boys' apparel\",\"Nonalcoholic beverages and beverage materials/Beverage materials including coffee and tea\",\"Other recreation services/Fees for lessons or instructions\",\"Miscellaneous personal services/Financial services\",\"Miscellaneous personal services/Funeral expenses\",\"-/All items\",\"Household furnishings and operations/Appliances\",\"Fresh fruits/Apples\",\"Miscellaneous personal services/Apparel services other than laundry and dry cleaning\",\"All items/Apparel\",\"Personal care products/Unsampled personal care products\",\"Other recreational goods/Unsampled recreation commodities\",\"Fresh fruits/Citrus fruits\",\"Tobacco and smoking products/Cigarettes\",\"Tuition, other school fees, and childcare/Child care and nursery school\",\"Other household equipment and furnishings/Clocks, lamps, and decorator items\",\"Household operations/Unsampled household operations\",\"Furniture and bedding/Unsampled furniture\",\"Owners' equivalent rent of residences/Unsampled owners' equivalent rent of secondary residences\",\"Appliances/Unsampled appliances\",\"Communication/Information and information processing\",\"Apparel/Infants' and toddlers' apparel\",\"Food away from home/Food from vending machines and mobile vendors\",\"Food/Food away from home\",\"Food/Food at home\",\"Food at home/Cereals and bakery products\",\"Cereals and bakery products/Cereals and cereal products\",\"Processed fruits and vegetables/Frozen fruits and vegetables\",\"Alcoholic beverages/Alcoholic beverages at home\",\"Food away from home/Full service meals and snacks\",\"Beverages/Alcoholic beverages\",\"Alcoholic beverages/Alcoholic beverages away from home\",\"Meats, poultry, fish, and eggs/Eggs\",\"Other recreation services/Club membership for shopping clubs, fraternal, or other organizations, or participant sports fees\",\"Poultry/Chicken\",\"Fresh fruits/Bananas\",\"Meats, poultry, and fish/Fish and seafood\",\"Fuel oil and other fuels/Fuel oil\",\"Food at home/Fruits and vegetables\",\"Household energy/Fuel oil and other fuels\",\"Juices and nonalcoholic drinks/Frozen noncarbonated juices and drinks\",\"Housing/Fuels and utilities\",\"Food at home/Other food at home\",\"Fats and oils/Other fats and oils including peanut butter\",\"Dairy and related products/Other dairy and related products\",\"Education and communication/Communication\",\"Information technology, hardware and services/Computer software and accessories\",\"Information technology, hardware and services/Computers, peripherals, and smart home assistant devices\",\"Personal care products/Cosmetics, perfume, bath, nail preparations and implements\",\"Tuition, other school fees, and childcare/College tuition and fees\",\"Food at home/Dairy and related products\",\"Postage and delivery services/Delivery services\",\"Alcoholic beverages at home/Distilled spirits at home\",\"Other household equipment and furnishings/Dishes and flatware\",\"Professional services/Dental services\",\"Household operations/Domestic services\",\"Beverage materials including coffee and tea/Coffee\",\"Lodging away from home/Housing at school, excluding board\",\"Dairy and related products/Ice cream and related products\",\"Household furnishings and operations/Housekeeping supplies\",\"Information and information processing/Information technology, hardware and services\",\"Fresh vegetables/Lettuce\",\"Miscellaneous personal services/Legal services\",\"Furniture and bedding/Living room, kitchen, and dining room furniture\",\"Food away from home/Limited service meals and snacks\",\"All items/Recreation\",\"Transportation/Public transportation\",\"Video and audio/Recorded music and music subscriptions\",\"All items/Housing\",\"Other household equipment and furnishings/Indoor plants and flowers\",\"New and used motor vehicles/Leased cars and trucks\",\"Apparel/Jewelry and watches\",\"Dairy and related products/Milk\",\"Footwear/Men's footwear\",\"Medical care commodities/Medicinal drugs\",\"Shelter/Lodging away from home\",\"Food at home/Meats, poultry, fish, and eggs\",\"Private transportation/Motor fuel\",\"Personal care/Miscellaneous personal services\",\"Housekeeping supplies/Miscellaneous household products\",\"Motor vehicle maintenance and repair/Motor vehicle body work\",\"Private transportation/Motor vehicle fees\",\"Men's apparel/Men's shirts and sweaters\",\"Men's apparel/Men's suits, sport coats, and outerwear\",\"Men's apparel/Men's pants and shorts\",\"Jewelry and watches/Jewelry\",\"Housekeeping supplies/Household paper products\",\"Personal care services/Haircuts and other personal care services\",\"Other recreation services/Unsampled recreation services\",\"Sporting goods/Unsampled sporting goods\",\"Women's apparel/Unsampled women's apparel\",\"Video and audio/Unsampled video and audio\",\"Tuition, other school fees, and childcare/Unsampled tuition, other school fees, and childcare\",\"Tools, hardware, outdoor equipment and supplies/Unsampled tools, hardware, outdoor equipment and supplies\",\"Tobacco and smoking products/Unsampled tobacco and smoking products\",\"Fresh fruits/Other fresh fruits\",\"Fresh vegetables/Other fresh vegetables\",\"Household energy/Energy services\",\"Professional services/Eyeglasses and eye care\",\"Tuition, other school fees, and childcare/Elementary and high school tuition and fees\",\"Hospital and related services/Hospital services\",\"Medical care services/Hospital and related services\",\"Alcoholic beverages at home/Beer, ale, and other malt beverages at home\",\"Bakery products/Bread\",\"Sugar and sweets/Candy and chewing gum\",\"Hospital and related services/Care of invalids and elderly at home\",\"Processed fruits and vegetables/Canned fruits and vegetables\",\"Meats/Beef and veal\",\"Dairy and related products/Cheese and related products\",\"Furniture and bedding/Bedroom furniture\",\"Meats, poultry, and fish/Poultry\",\"Meats/Pork\",\"Fresh vegetables/Potatoes\",\"Pork/Pork chops\",\"Medicinal drugs/Prescription drugs\",\"Recreational reading materials/Recreational books\",\"Fuel oil and other fuels/Propane, kerosene, and firewood\",\"Communication/Postage and delivery services\",\"Postage and delivery services/Postage\",\"Motor vehicle maintenance and repair/Motor vehicle maintenance and servicing\",\"New and used motor vehicles/New vehicles\",\"Private transportation/Motor vehicle parts and equipment\",\"Motor vehicle maintenance and repair/Motor vehicle repair\",\"Household operations/Moving, storage, freight expense\",\"Other recreational goods/Music instruments and accessories\",\"Private transportation/New and used motor vehicles\",\"Women's and girls' apparel/Women's apparel\",\"Women's apparel/Women's dresses\",\"Footwear/Women's footwear\",\"Women's apparel/Women's outerwear\",\"Women's apparel/Women's underwear, nightwear, sportswear, and accessories\",\"Women's apparel/Women's suits and separates\",\"Processed fruits and vegetables/Other processed fruits and vegetables including dried\",\"Pork/Other pork including roasts, steaks, and ribs\",\"Personal care/Personal care products\",\"Personal care/Personal care services\",\"Pets, pet products and services/Pet services including veterinary\",\"Owners' equivalent rent of residences/Owners' equivalent rent of primary residence\",\"Tools, hardware, outdoor equipment and supplies/Outdoor equipment and supplies\",\"Video and audio/Other video equipment\",\"Shelter/Owners' equivalent rent of residences\",\"Sugar and sweets/Other sweets\",\"Recreation/Other recreational goods\",\"Other foods/Other miscellaneous foods\",\"Meats/Other meats\",\"Lodging away from home/Other lodging away from home including hotels and motels\",\"Window and floor coverings and other linens/Other linens\",\"Public transportation/Other intercity transportation\",\"Energy services/Electricity\",\"Other food at home/Fats and oils\",\"Window and floor coverings and other linens/Floor coverings\",\"Food away from home/Food at employee sites and schools\",\"Apparel/Footwear\",\"Bakery products/Fresh biscuits, rolls, muffins\",\"Fish and seafood/Fresh fish and seafood\",\"Fresh fruits and vegetables/Fresh fruits\",\"Fruits and vegetables/Fresh fruits and vegetables\",\"Fresh fruits and vegetables/Fresh vegetables\",\"Other foods/Frozen and freeze dried prepared foods\",\"Jewelry and watches/Watches\",\"Energy services/Utility (piped) gas service\",\"Medical care/Medical care services\",\"Medical care/Medical care commodities\",\"All items/Medical care\",\"Medical care commodities/Medical equipment and supplies\",\"All items/Transportation\",\"Other recreational goods/Toys\",\"Household furnishings and operations/Tools, hardware, outdoor equipment and supplies\",\"Tools, hardware, outdoor equipment and supplies/Tools, hardware and supplies\",\"Tobacco and smoking products/Tobacco products other than cigarettes\",\"Other goods and services/Tobacco and smoking products\",\"Motor vehicle parts and equipment/Tires\",\"Shelter/Tenants' and household insurance\",\"Housing/Household furnishings and operations\",\"Fuels and utilities/Household energy\",\"Fuels and utilities/Water and sewer and trash collection services\",\"Alcoholic beverages at home/Wine at home\",\"Apparel/Women's and girls' apparel\",\"Household furnishings and operations/Window and floor coverings and other linens\",\"Water and sewer and trash collection services/Water and sewerage maintenance\",\"Window and floor coverings and other linens/Window coverings\",\"Telephone services/Wireless telephone services\",\"Recreation/Sporting goods\",\"Other foods/Spices, seasonings, condiments, sauces\",\"Tuition, other school fees, and childcare/Technical and business school tuition and fees\",\"Information technology, hardware and services/Telephone hardware, calculators, and other consumer information items\",\"Information and information processing/Telephone services\",\"Video and audio/Cable and satellite television service\",\"Fats and oils/Butter and margarine\",\"Cereals and cereal products/Breakfast cereal\",\"Bakery products/Cakes, cupcakes, and cookies\",\"Photography/Unsampled photography\",\"Public transportation/Unsampled public transportation\",\"New and used motor vehicles/Car and truck rental\",\"Juices and nonalcoholic drinks/Carbonated drinks\",\"Household furnishings and operations/Other household equipment and furnishings\",\"Poultry/Other uncooked poultry including turkey\",\"Recreation/Other recreation services\",\"Motor fuel/Other motor fuels\",\"Other goods and services/Personal care\",\"Motor vehicle fees/Parking and other fees\",\"Education and communication/Education\",\"All items/Education and communication\",\"Education/Educational books and supplies\",\"Fish and seafood/Processed fish and seafood\",\"Transportation/Private transportation\",\"Medical care services/Professional services\",\"Fruits and vegetables/Processed fruits and vegetables\",\"Recreation/Pets, pet products and services\",\"Photography/Photographers and photo processing\",\"Photography/Photographic equipment and supplies\",\"Recreation/Photography\",\"Video and audio/Televisions\",\"Other food at home/Sugar and sweets\",\"Fresh vegetables/Tomatoes\",\"Other foods/Soups\",\"Sporting goods/Sports equipment\",\"Education/Tuition, other school fees, and childcare\",\"Shelter/Rent of primary residence\",\"Beef and veal/Uncooked ground beef\",\"Beef and veal/Uncooked beef roasts\",\"Beef and veal/Uncooked beef steaks\",\"Pork/Ham\",\"Housekeeping supplies/Household cleaning products\",\"Medical care services/Health insurance\",\"Household furnishings and operations/Household operations\",\"Sporting goods/Sports vehicles including bicycles\",\"Motor vehicle fees/State motor vehicle registration and license fees\",\"Sugar and sweets/Sugar and sugar substitutes\",\"Food and beverages/Food\",\"All items/Food and beverages\",\"Cereals and cereal products/Flour and prepared flour mixes\",\"Motor vehicle maintenance and repair/Unsampled service policies\",\"Recreational reading materials/Unsampled recreational reading materials\",\"Video and audio/Video discs and other media, including rental of video\",\"Motor vehicle parts and equipment/Vehicle accessories other than tires\",\"Recreation/Video and audio\",\"Apparel/Men's and boys' apparel\",\"Men's apparel/Men''s underwear, nightwear, swimwear, and accessories\",\"Men's and boys' apparel/Men's apparel\",\"All items/Other goods and services\",\"Pets, pet products and services/Pets and pet products\",\"Information technology, hardware and services/Unsampled information and information processing\",\"New and used motor vehicles/Unsampled new and used motor vehicles\",\"Motor vehicle fees/Unsampled motor vehicle fees\",\"Men's apparel/Unsampled men's apparel\",\"Miscellaneous personal services/Unsampled items\",\"Other foods/Snacks\",\"Household operations/Repair of household items\",\"Housing/Shelter\",\"Other recreational goods/Sewing machines, fabric and supplies\",\"Professional services/Services by other medical professionals\",\"Fats and oils/Salad dressing\",\"Cereals and cereal products/Rice, pasta, cornmeal\",\"Information technology, hardware and services/Internet services and electronic information providers\",\"Public transportation/Intracity transportation\",\"Telephone services/Land-line telephone services\",\"Miscellaneous personal services/Laundry and dry cleaning services\",\"Nonalcoholic beverages and beverage materials/Juices and nonalcoholic drinks\",\"Food at home/Nonalcoholic beverages and beverage materials\",\"Bakery products/Other bakery products\",\"Appliances/Other appliances\",\"Hospital and related services/Nursing homes and adult day services\",\"Other household equipment and furnishings/Nonelectric cookware and tableware\",\"Medicinal drugs/Nonprescription drugs\",\"Juices and nonalcoholic drinks/Nonfrozen noncarbonated juices and drinks\",\"-\",\"Alcoholic beverages\",\"Alcoholic beverages at home\",\"All items\",\"Apparel\",\"Appliances\",\"Bakery products\",\"Beef and veal\",\"Beverage materials including coffee and tea\",\"Beverages\",\"Cereals and bakery products\",\"Cereals and cereal products\",\"Communication\",\"Dairy and related products\",\"Education\",\"Education and communication\",\"Energy services\",\"Fats and oils\",\"Fish and seafood\",\"Food\",\"Food and beverages\",\"Food at home\",\"Food away from home\",\"Footwear\",\"Fresh fruits\",\"Fresh fruits and vegetables\",\"Fresh vegetables\",\"Fruits and vegetables\",\"Fuel oil and other fuels\",\"Fuels and utilities\",\"Furniture and bedding\",\"Hospital and related services\",\"Household energy\",\"Household furnishings and operations\",\"Household operations\",\"Housekeeping supplies\",\"Housing\",\"Information and information processing\",\"Information technology, hardware and services\",\"Jewelry and watches\",\"Juices and nonalcoholic drinks\",\"Lodging away from home\",\"Meats\",\"Meats, poultry, and fish\",\"Meats, poultry, fish, and eggs\",\"Medical care\",\"Medical care commodities\",\"Medical care services\",\"Medicinal drugs\",\"Men's and boys' apparel\",\"Men's apparel\",\"Miscellaneous personal services\",\"Motor fuel\",\"Motor vehicle fees\",\"Motor vehicle maintenance and repair\",\"Motor vehicle parts and equipment\",\"New and used motor vehicles\",\"Nonalcoholic beverages and beverage materials\",\"Other food at home\",\"Other foods\",\"Other goods and services\",\"Other household equipment and furnishings\",\"Other recreation services\",\"Other recreational goods\",\"Owners' equivalent rent of residences\",\"Personal care\",\"Personal care products\",\"Personal care services\",\"Pets, pet products and services\",\"Photography\",\"Pork\",\"Postage and delivery services\",\"Poultry\",\"Private transportation\",\"Processed fruits and vegetables\",\"Professional services\",\"Public transportation\",\"Recreation\",\"Recreational reading materials\",\"Shelter\",\"Sporting goods\",\"Sugar and sweets\",\"Telephone services\",\"Tobacco and smoking products\",\"Tools, hardware, outdoor equipment and supplies\",\"Transportation\",\"Tuition, other school fees, and childcare\",\"Video and audio\",\"Water and sewer and trash collection services\",\"Window and floor coverings and other linens\",\"Women's and girls' apparel\",\"Women's apparel\"],\"labels\":[\"Admissions\",\"Girls' apparel\",\"Furniture and bedding\",\"Gasoline (all types)\",\"Gardening and lawncare services\",\"Garbage and trash collection\",\"Used cars and trucks\",\"Physicians' services\",\"Other furniture\",\"Motor vehicle insurance\",\"Recreational reading materials\",\"Hair, dental, shaving, and miscellaneous personal care products\",\"Airline fares\",\"Uncooked other beef and veal\",\"Newspapers and magazines\",\"Other beverage materials including tea\",\"Other foods\",\"Motor vehicle maintenance and repair\",\"Other food away from home\",\"Major appliances\",\"Meats\",\"Meats, poultry, and fish\",\"Audio equipment\",\"Baby food\",\"Bacon, breakfast sausage, and related products\",\"Bakery products\",\"Beverages\",\"Boys' and girls' footwear\",\"Boys' apparel\",\"Beverage materials including coffee and tea\",\"Fees for lessons or instructions\",\"Financial services\",\"Funeral expenses\",\"All items\",\"Appliances\",\"Apples\",\"Apparel services other than laundry and dry cleaning\",\"Apparel\",\"Unsampled personal care products\",\"Unsampled recreation commodities\",\"Citrus fruits\",\"Cigarettes\",\"Child care and nursery school\",\"Clocks, lamps, and decorator items\",\"Unsampled household operations\",\"Unsampled furniture\",\"Unsampled owners' equivalent rent of secondary residences\",\"Unsampled appliances\",\"Information and information processing\",\"Infants' and toddlers' apparel\",\"Food from vending machines and mobile vendors\",\"Food away from home\",\"Food at home\",\"Cereals and bakery products\",\"Cereals and cereal products\",\"Frozen fruits and vegetables\",\"Alcoholic beverages at home\",\"Full service meals and snacks\",\"Alcoholic beverages\",\"Alcoholic beverages away from home\",\"Eggs\",\"Club membership for shopping clubs, fraternal, or other organizations, or participant sports fees\",\"Chicken\",\"Bananas\",\"Fish and seafood\",\"Fuel oil\",\"Fruits and vegetables\",\"Fuel oil and other fuels\",\"Frozen noncarbonated juices and drinks\",\"Fuels and utilities\",\"Other food at home\",\"Other fats and oils including peanut butter\",\"Other dairy and related products\",\"Communication\",\"Computer software and accessories\",\"Computers, peripherals, and smart home assistant devices\",\"Cosmetics, perfume, bath, nail preparations and implements\",\"College tuition and fees\",\"Dairy and related products\",\"Delivery services\",\"Distilled spirits at home\",\"Dishes and flatware\",\"Dental services\",\"Domestic services\",\"Coffee\",\"Housing at school, excluding board\",\"Ice cream and related products\",\"Housekeeping supplies\",\"Information technology, hardware and services\",\"Lettuce\",\"Legal services\",\"Living room, kitchen, and dining room furniture\",\"Limited service meals and snacks\",\"Recreation\",\"Public transportation\",\"Recorded music and music subscriptions\",\"Housing\",\"Indoor plants and flowers\",\"Leased cars and trucks\",\"Jewelry and watches\",\"Milk\",\"Men's footwear\",\"Medicinal drugs\",\"Lodging away from home\",\"Meats, poultry, fish, and eggs\",\"Motor fuel\",\"Miscellaneous personal services\",\"Miscellaneous household products\",\"Motor vehicle body work\",\"Motor vehicle fees\",\"Men's shirts and sweaters\",\"Men's suits, sport coats, and outerwear\",\"Men's pants and shorts\",\"Jewelry\",\"Household paper products\",\"Haircuts and other personal care services\",\"Unsampled recreation services\",\"Unsampled sporting goods\",\"Unsampled women's apparel\",\"Unsampled video and audio\",\"Unsampled tuition, other school fees, and childcare\",\"Unsampled tools, hardware, outdoor equipment and supplies\",\"Unsampled tobacco and smoking products\",\"Other fresh fruits\",\"Other fresh vegetables\",\"Energy services\",\"Eyeglasses and eye care\",\"Elementary and high school tuition and fees\",\"Hospital services\",\"Hospital and related services\",\"Beer, ale, and other malt beverages at home\",\"Bread\",\"Candy and chewing gum\",\"Care of invalids and elderly at home\",\"Canned fruits and vegetables\",\"Beef and veal\",\"Cheese and related products\",\"Bedroom furniture\",\"Poultry\",\"Pork\",\"Potatoes\",\"Pork chops\",\"Prescription drugs\",\"Recreational books\",\"Propane, kerosene, and firewood\",\"Postage and delivery services\",\"Postage\",\"Motor vehicle maintenance and servicing\",\"New vehicles\",\"Motor vehicle parts and equipment\",\"Motor vehicle repair\",\"Moving, storage, freight expense\",\"Music instruments and accessories\",\"New and used motor vehicles\",\"Women's apparel\",\"Women's dresses\",\"Women's footwear\",\"Women's outerwear\",\"Women's underwear, nightwear, sportswear, and accessories\",\"Women's suits and separates\",\"Other processed fruits and vegetables including dried\",\"Other pork including roasts, steaks, and ribs\",\"Personal care products\",\"Personal care services\",\"Pet services including veterinary\",\"Owners' equivalent rent of primary residence\",\"Outdoor equipment and supplies\",\"Other video equipment\",\"Owners' equivalent rent of residences\",\"Other sweets\",\"Other recreational goods\",\"Other miscellaneous foods\",\"Other meats\",\"Other lodging away from home including hotels and motels\",\"Other linens\",\"Other intercity transportation\",\"Electricity\",\"Fats and oils\",\"Floor coverings\",\"Food at employee sites and schools\",\"Footwear\",\"Fresh biscuits, rolls, muffins\",\"Fresh fish and seafood\",\"Fresh fruits\",\"Fresh fruits and vegetables\",\"Fresh vegetables\",\"Frozen and freeze dried prepared foods\",\"Watches\",\"Utility (piped) gas service\",\"Medical care services\",\"Medical care commodities\",\"Medical care\",\"Medical equipment and supplies\",\"Transportation\",\"Toys\",\"Tools, hardware, outdoor equipment and supplies\",\"Tools, hardware and supplies\",\"Tobacco products other than cigarettes\",\"Tobacco and smoking products\",\"Tires\",\"Tenants' and household insurance\",\"Household furnishings and operations\",\"Household energy\",\"Water and sewer and trash collection services\",\"Wine at home\",\"Women's and girls' apparel\",\"Window and floor coverings and other linens\",\"Water and sewerage maintenance\",\"Window coverings\",\"Wireless telephone services\",\"Sporting goods\",\"Spices, seasonings, condiments, sauces\",\"Technical and business school tuition and fees\",\"Telephone hardware, calculators, and other consumer information items\",\"Telephone services\",\"Cable and satellite television service\",\"Butter and margarine\",\"Breakfast cereal\",\"Cakes, cupcakes, and cookies\",\"Unsampled photography\",\"Unsampled public transportation\",\"Car and truck rental\",\"Carbonated drinks\",\"Other household equipment and furnishings\",\"Other uncooked poultry including turkey\",\"Other recreation services\",\"Other motor fuels\",\"Personal care\",\"Parking and other fees\",\"Education\",\"Education and communication\",\"Educational books and supplies\",\"Processed fish and seafood\",\"Private transportation\",\"Professional services\",\"Processed fruits and vegetables\",\"Pets, pet products and services\",\"Photographers and photo processing\",\"Photographic equipment and supplies\",\"Photography\",\"Televisions\",\"Sugar and sweets\",\"Tomatoes\",\"Soups\",\"Sports equipment\",\"Tuition, other school fees, and childcare\",\"Rent of primary residence\",\"Uncooked ground beef\",\"Uncooked beef roasts\",\"Uncooked beef steaks\",\"Ham\",\"Household cleaning products\",\"Health insurance\",\"Household operations\",\"Sports vehicles including bicycles\",\"State motor vehicle registration and license fees\",\"Sugar and sugar substitutes\",\"Food\",\"Food and beverages\",\"Flour and prepared flour mixes\",\"Unsampled service policies\",\"Unsampled recreational reading materials\",\"Video discs and other media, including rental of video\",\"Vehicle accessories other than tires\",\"Video and audio\",\"Men's and boys' apparel\",\"Men''s underwear, nightwear, swimwear, and accessories\",\"Men's apparel\",\"Other goods and services\",\"Pets and pet products\",\"Unsampled information and information processing\",\"Unsampled new and used motor vehicles\",\"Unsampled motor vehicle fees\",\"Unsampled men's apparel\",\"Unsampled items\",\"Snacks\",\"Repair of household items\",\"Shelter\",\"Sewing machines, fabric and supplies\",\"Services by other medical professionals\",\"Salad dressing\",\"Rice, pasta, cornmeal\",\"Internet services and electronic information providers\",\"Intracity transportation\",\"Land-line telephone services\",\"Laundry and dry cleaning services\",\"Juices and nonalcoholic drinks\",\"Nonalcoholic beverages and beverage materials\",\"Other bakery products\",\"Other appliances\",\"Nursing homes and adult day services\",\"Nonelectric cookware and tableware\",\"Nonprescription drugs\",\"Nonfrozen noncarbonated juices and drinks\",\"-\",\"Alcoholic beverages\",\"Alcoholic beverages at home\",\"All items\",\"Apparel\",\"Appliances\",\"Bakery products\",\"Beef and veal\",\"Beverage materials including coffee and tea\",\"Beverages\",\"Cereals and bakery products\",\"Cereals and cereal products\",\"Communication\",\"Dairy and related products\",\"Education\",\"Education and communication\",\"Energy services\",\"Fats and oils\",\"Fish and seafood\",\"Food\",\"Food and beverages\",\"Food at home\",\"Food away from home\",\"Footwear\",\"Fresh fruits\",\"Fresh fruits and vegetables\",\"Fresh vegetables\",\"Fruits and vegetables\",\"Fuel oil and other fuels\",\"Fuels and utilities\",\"Furniture and bedding\",\"Hospital and related services\",\"Household energy\",\"Household furnishings and operations\",\"Household operations\",\"Housekeeping supplies\",\"Housing\",\"Information and information processing\",\"Information technology, hardware and services\",\"Jewelry and watches\",\"Juices and nonalcoholic drinks\",\"Lodging away from home\",\"Meats\",\"Meats, poultry, and fish\",\"Meats, poultry, fish, and eggs\",\"Medical care\",\"Medical care commodities\",\"Medical care services\",\"Medicinal drugs\",\"Men's and boys' apparel\",\"Men's apparel\",\"Miscellaneous personal services\",\"Motor fuel\",\"Motor vehicle fees\",\"Motor vehicle maintenance and repair\",\"Motor vehicle parts and equipment\",\"New and used motor vehicles\",\"Nonalcoholic beverages and beverage materials\",\"Other food at home\",\"Other foods\",\"Other goods and services\",\"Other household equipment and furnishings\",\"Other recreation services\",\"Other recreational goods\",\"Owners' equivalent rent of residences\",\"Personal care\",\"Personal care products\",\"Personal care services\",\"Pets, pet products and services\",\"Photography\",\"Pork\",\"Postage and delivery services\",\"Poultry\",\"Private transportation\",\"Processed fruits and vegetables\",\"Professional services\",\"Public transportation\",\"Recreation\",\"Recreational reading materials\",\"Shelter\",\"Sporting goods\",\"Sugar and sweets\",\"Telephone services\",\"Tobacco and smoking products\",\"Tools, hardware, outdoor equipment and supplies\",\"Transportation\",\"Tuition, other school fees, and childcare\",\"Video and audio\",\"Water and sewer and trash collection services\",\"Window and floor coverings and other linens\",\"Women's and girls' apparel\",\"Women's apparel\"],\"marker\":{\"colors\":[\"#636efa\",\"#EF553B\",\"#00cc96\",\"#ab63fa\",\"#FFA15A\",\"#19d3f3\",\"#FF6692\",\"#B6E880\",\"#FF97FF\",\"#FECB52\",\"#636efa\",\"#EF553B\",\"#00cc96\",\"#ab63fa\",\"#FFA15A\",\"#19d3f3\",\"#FF6692\",\"#FECB52\",\"#B6E880\",\"#FF97FF\",\"#FECB52\",\"#636efa\",\"#EF553B\",\"#00cc96\",\"#ab63fa\",\"#FFA15A\",\"#19d3f3\",\"#FF6692\",\"#B6E880\",\"#FF97FF\",\"#636efa\",\"#FECB52\",\"#FECB52\",\"#636efa\",\"#00cc96\",\"#EF553B\",\"#FECB52\",\"#00cc96\",\"#EF553B\",\"#ab63fa\",\"#EF553B\",\"#FFA15A\",\"#19d3f3\",\"#FF6692\",\"#FFA15A\",\"#FF97FF\",\"#B6E880\",\"#FF97FF\",\"#FF97FF\",\"#FECB52\",\"#B6E880\",\"#636efa\",\"#636efa\",\"#EF553B\",\"#FFA15A\",\"#00cc96\",\"#ab63fa\",\"#B6E880\",\"#FFA15A\",\"#ab63fa\",\"#636efa\",\"#636efa\",\"#19d3f3\",\"#EF553B\",\"#FECB52\",\"#FF6692\",\"#EF553B\",\"#B6E880\",\"#FF97FF\",\"#FECB52\",\"#EF553B\",\"#636efa\",\"#EF553B\",\"#00cc96\",\"#ab63fa\",\"#ab63fa\",\"#EF553B\",\"#19d3f3\",\"#EF553B\",\"#FFA15A\",\"#19d3f3\",\"#FF6692\",\"#B6E880\",\"#FFA15A\",\"#19d3f3\",\"#FF6692\",\"#EF553B\",\"#00cc96\",\"#B6E880\",\"#FF97FF\",\"#FECB52\",\"#FF97FF\",\"#B6E880\",\"#00cc96\",\"#FECB52\",\"#EF553B\",\"#00cc96\",\"#FF6692\",\"#FF6692\",\"#FECB52\",\"#EF553B\",\"#FF6692\",\"#636efa\",\"#EF553B\",\"#EF553B\",\"#FECB52\",\"#00cc96\",\"#ab63fa\",\"#FFA15A\",\"#FECB52\",\"#19d3f3\",\"#19d3f3\",\"#19d3f3\",\"#FF6692\",\"#ab63fa\",\"#B6E880\",\"#636efa\",\"#FF97FF\",\"#FECB52\",\"#EF553B\",\"#19d3f3\",\"#636efa\",\"#FFA15A\",\"#EF553B\",\"#FF97FF\",\"#B6E880\",\"#B6E880\",\"#19d3f3\",\"#EF553B\",\"#00cc96\",\"#19d3f3\",\"#ab63fa\",\"#FFA15A\",\"#EF553B\",\"#00cc96\",\"#19d3f3\",\"#EF553B\",\"#FF97FF\",\"#FECB52\",\"#19d3f3\",\"#FF97FF\",\"#ab63fa\",\"#FF6692\",\"#FFA15A\",\"#FF6692\",\"#FF97FF\",\"#FFA15A\",\"#FFA15A\",\"#FF6692\",\"#FECB52\",\"#FFA15A\",\"#FFA15A\",\"#ab63fa\",\"#FECB52\",\"#EF553B\",\"#FECB52\",\"#FF6692\",\"#FECB52\",\"#FECB52\",\"#FECB52\",\"#00cc96\",\"#ab63fa\",\"#00cc96\",\"#00cc96\",\"#B6E880\",\"#B6E880\",\"#636efa\",\"#EF553B\",\"#EF553B\",\"#FFA15A\",\"#636efa\",\"#00cc96\",\"#19d3f3\",\"#FF6692\",\"#FF97FF\",\"#00cc96\",\"#FECB52\",\"#FF6692\",\"#FF97FF\",\"#B6E880\",\"#FECB52\",\"#ab63fa\",\"#636efa\",\"#EF553B\",\"#00cc96\",\"#EF553B\",\"#00cc96\",\"#FF6692\",\"#FECB52\",\"#ab63fa\",\"#ab63fa\",\"#00cc96\",\"#636efa\",\"#00cc96\",\"#ab63fa\",\"#00cc96\",\"#636efa\",\"#FFA15A\",\"#FFA15A\",\"#19d3f3\",\"#EF553B\",\"#FECB52\",\"#FF6692\",\"#FF6692\",\"#19d3f3\",\"#FECB52\",\"#00cc96\",\"#19d3f3\",\"#FF97FF\",\"#B6E880\",\"#636efa\",\"#00cc96\",\"#19d3f3\",\"#ab63fa\",\"#B6E880\",\"#EF553B\",\"#636efa\",\"#FF97FF\",\"#ab63fa\",\"#FECB52\",\"#00cc96\",\"#FF6692\",\"#FF97FF\",\"#00cc96\",\"#19d3f3\",\"#636efa\",\"#ab63fa\",\"#FFA15A\",\"#636efa\",\"#00cc96\",\"#00cc96\",\"#EF553B\",\"#636efa\",\"#FECB52\",\"#00cc96\",\"#00cc96\",\"#636efa\",\"#FECB52\",\"#FECB52\",\"#636efa\",\"#EF553B\",\"#FF6692\",\"#FF97FF\",\"#00cc96\",\"#FF97FF\",\"#EF553B\",\"#EF553B\",\"#ab63fa\",\"#ab63fa\",\"#ab63fa\",\"#ab63fa\",\"#ab63fa\",\"#00cc96\",\"#00cc96\",\"#FF97FF\",\"#636efa\",\"#FFA15A\",\"#19d3f3\",\"#00cc96\",\"#FF97FF\",\"#FFA15A\",\"#FFA15A\",\"#EF553B\",\"#19d3f3\",\"#636efa\",\"#FECB52\",\"#19d3f3\",\"#B6E880\",\"#00cc96\",\"#B6E880\",\"#ab63fa\",\"#FF6692\",\"#636efa\",\"#19d3f3\",\"#FECB52\",\"#00cc96\",\"#FFA15A\",\"#FECB52\",\"#ab63fa\",\"#B6E880\",\"#636efa\",\"#FF97FF\",\"#ab63fa\",\"#00cc96\",\"#B6E880\",\"#FECB52\",\"#FF97FF\",\"#EF553B\",\"#ab63fa\",\"#FF97FF\",\"#EF553B\",\"#FF6692\",\"#FF6692\",\"#FF97FF\",\"#636efa\",\"#ab63fa\",\"#19d3f3\",\"#00cc96\",\"#FECB52\",\"#FF97FF\",\"#ab63fa\",\"#ab63fa\",\"#19d3f3\",\"#FFA15A\",\"#FFA15A\",\"#FF97FF\",\"#FF97FF\",\"#EF553B\",\"#EF553B\",\"#00cc96\",\"#FECB52\",\"#636efa\",\"#636efa\",\"#636efa\",\"#19d3f3\",\"#EF553B\",\"#B6E880\",\"#FF6692\",\"#EF553B\",\"#EF553B\",\"#FF97FF\",\"#00cc96\",\"#FF6692\",\"#FF6692\",\"#FF97FF\",\"#EF553B\",\"#B6E880\",\"#00cc96\",\"#FFA15A\",\"#ab63fa\",\"#FECB52\",\"#B6E880\",\"#ab63fa\",\"#FF6692\",\"#FF97FF\",\"#FF6692\",\"#19d3f3\",\"#FECB52\",\"#636efa\",\"#ab63fa\",\"#636efa\",\"#00cc96\",\"#FF6692\",\"#B6E880\",\"#19d3f3\",\"#FECB52\",\"#ab63fa\",\"#636efa\",\"#FFA15A\",\"#19d3f3\",\"#FF6692\",\"#FF97FF\",\"#FF6692\",\"#00cc96\",\"#FFA15A\",\"#FF6692\",\"#636efa\",\"#ab63fa\",\"#B6E880\",\"#00cc96\",\"#EF553B\",\"#B6E880\",\"#B6E880\",\"#FECB52\",\"#ab63fa\",\"#FFA15A\",\"#19d3f3\",\"#FECB52\",\"#00cc96\",\"#B6E880\",\"#00cc96\",\"#636efa\",\"#FFA15A\",\"#EF553B\",\"#FF97FF\",\"#FFA15A\",\"#B6E880\",\"#FFA15A\",\"#636efa\",\"#FECB52\",\"#19d3f3\",\"#EF553B\",\"#19d3f3\",\"#FF97FF\",\"#EF553B\",\"#FECB52\"]},\"maxdepth\":2,\"name\":\"\",\"parents\":[\"Other recreation services\",\"Women's and girls' apparel\",\"Household furnishings and operations\",\"Motor fuel\",\"Household operations\",\"Water and sewer and trash collection services\",\"New and used motor vehicles\",\"Professional services\",\"Furniture and bedding\",\"Private transportation\",\"Recreation\",\"Personal care products\",\"Public transportation\",\"Beef and veal\",\"Recreational reading materials\",\"Beverage materials including coffee and tea\",\"Other food at home\",\"Private transportation\",\"Food away from home\",\"Appliances\",\"Meats, poultry, and fish\",\"Meats, poultry, fish, and eggs\",\"Video and audio\",\"Other foods\",\"Pork\",\"Cereals and bakery products\",\"Food and beverages\",\"Footwear\",\"Men's and boys' apparel\",\"Nonalcoholic beverages and beverage materials\",\"Other recreation services\",\"Miscellaneous personal services\",\"Miscellaneous personal services\",\"-\",\"Household furnishings and operations\",\"Fresh fruits\",\"Miscellaneous personal services\",\"All items\",\"Personal care products\",\"Other recreational goods\",\"Fresh fruits\",\"Tobacco and smoking products\",\"Tuition, other school fees, and childcare\",\"Other household equipment and furnishings\",\"Household operations\",\"Furniture and bedding\",\"Owners' equivalent rent of residences\",\"Appliances\",\"Communication\",\"Apparel\",\"Food away from home\",\"Food\",\"Food\",\"Food at home\",\"Cereals and bakery products\",\"Processed fruits and vegetables\",\"Alcoholic beverages\",\"Food away from home\",\"Beverages\",\"Alcoholic beverages\",\"Meats, poultry, fish, and eggs\",\"Other recreation services\",\"Poultry\",\"Fresh fruits\",\"Meats, poultry, and fish\",\"Fuel oil and other fuels\",\"Food at home\",\"Household energy\",\"Juices and nonalcoholic drinks\",\"Housing\",\"Food at home\",\"Fats and oils\",\"Dairy and related products\",\"Education and communication\",\"Information technology, hardware and services\",\"Information technology, hardware and services\",\"Personal care products\",\"Tuition, other school fees, and childcare\",\"Food at home\",\"Postage and delivery services\",\"Alcoholic beverages at home\",\"Other household equipment and furnishings\",\"Professional services\",\"Household operations\",\"Beverage materials including coffee and tea\",\"Lodging away from home\",\"Dairy and related products\",\"Household furnishings and operations\",\"Information and information processing\",\"Fresh vegetables\",\"Miscellaneous personal services\",\"Furniture and bedding\",\"Food away from home\",\"All items\",\"Transportation\",\"Video and audio\",\"All items\",\"Other household equipment and furnishings\",\"New and used motor vehicles\",\"Apparel\",\"Dairy and related products\",\"Footwear\",\"Medical care commodities\",\"Shelter\",\"Food at home\",\"Private transportation\",\"Personal care\",\"Housekeeping supplies\",\"Motor vehicle maintenance and repair\",\"Private transportation\",\"Men's apparel\",\"Men's apparel\",\"Men's apparel\",\"Jewelry and watches\",\"Housekeeping supplies\",\"Personal care services\",\"Other recreation services\",\"Sporting goods\",\"Women's apparel\",\"Video and audio\",\"Tuition, other school fees, and childcare\",\"Tools, hardware, outdoor equipment and supplies\",\"Tobacco and smoking products\",\"Fresh fruits\",\"Fresh vegetables\",\"Household energy\",\"Professional services\",\"Tuition, other school fees, and childcare\",\"Hospital and related services\",\"Medical care services\",\"Alcoholic beverages at home\",\"Bakery products\",\"Sugar and sweets\",\"Hospital and related services\",\"Processed fruits and vegetables\",\"Meats\",\"Dairy and related products\",\"Furniture and bedding\",\"Meats, poultry, and fish\",\"Meats\",\"Fresh vegetables\",\"Pork\",\"Medicinal drugs\",\"Recreational reading materials\",\"Fuel oil and other fuels\",\"Communication\",\"Postage and delivery services\",\"Motor vehicle maintenance and repair\",\"New and used motor vehicles\",\"Private transportation\",\"Motor vehicle maintenance and repair\",\"Household operations\",\"Other recreational goods\",\"Private transportation\",\"Women's and girls' apparel\",\"Women's apparel\",\"Footwear\",\"Women's apparel\",\"Women's apparel\",\"Women's apparel\",\"Processed fruits and vegetables\",\"Pork\",\"Personal care\",\"Personal care\",\"Pets, pet products and services\",\"Owners' equivalent rent of residences\",\"Tools, hardware, outdoor equipment and supplies\",\"Video and audio\",\"Shelter\",\"Sugar and sweets\",\"Recreation\",\"Other foods\",\"Meats\",\"Lodging away from home\",\"Window and floor coverings and other linens\",\"Public transportation\",\"Energy services\",\"Other food at home\",\"Window and floor coverings and other linens\",\"Food away from home\",\"Apparel\",\"Bakery products\",\"Fish and seafood\",\"Fresh fruits and vegetables\",\"Fruits and vegetables\",\"Fresh fruits and vegetables\",\"Other foods\",\"Jewelry and watches\",\"Energy services\",\"Medical care\",\"Medical care\",\"All items\",\"Medical care commodities\",\"All items\",\"Other recreational goods\",\"Household furnishings and operations\",\"Tools, hardware, outdoor equipment and supplies\",\"Tobacco and smoking products\",\"Other goods and services\",\"Motor vehicle parts and equipment\",\"Shelter\",\"Housing\",\"Fuels and utilities\",\"Fuels and utilities\",\"Alcoholic beverages at home\",\"Apparel\",\"Household furnishings and operations\",\"Water and sewer and trash collection services\",\"Window and floor coverings and other linens\",\"Telephone services\",\"Recreation\",\"Other foods\",\"Tuition, other school fees, and childcare\",\"Information technology, hardware and services\",\"Information and information processing\",\"Video and audio\",\"Fats and oils\",\"Cereals and cereal products\",\"Bakery products\",\"Photography\",\"Public transportation\",\"New and used motor vehicles\",\"Juices and nonalcoholic drinks\",\"Household furnishings and operations\",\"Poultry\",\"Recreation\",\"Motor fuel\",\"Other goods and services\",\"Motor vehicle fees\",\"Education and communication\",\"All items\",\"Education\",\"Fish and seafood\",\"Transportation\",\"Medical care services\",\"Fruits and vegetables\",\"Recreation\",\"Photography\",\"Photography\",\"Recreation\",\"Video and audio\",\"Other food at home\",\"Fresh vegetables\",\"Other foods\",\"Sporting goods\",\"Education\",\"Shelter\",\"Beef and veal\",\"Beef and veal\",\"Beef and veal\",\"Pork\",\"Housekeeping supplies\",\"Medical care services\",\"Household furnishings and operations\",\"Sporting goods\",\"Motor vehicle fees\",\"Sugar and sweets\",\"Food and beverages\",\"All items\",\"Cereals and cereal products\",\"Motor vehicle maintenance and repair\",\"Recreational reading materials\",\"Video and audio\",\"Motor vehicle parts and equipment\",\"Recreation\",\"Apparel\",\"Men's apparel\",\"Men's and boys' apparel\",\"All items\",\"Pets, pet products and services\",\"Information technology, hardware and services\",\"New and used motor vehicles\",\"Motor vehicle fees\",\"Men's apparel\",\"Miscellaneous personal services\",\"Other foods\",\"Household operations\",\"Housing\",\"Other recreational goods\",\"Professional services\",\"Fats and oils\",\"Cereals and cereal products\",\"Information technology, hardware and services\",\"Public transportation\",\"Telephone services\",\"Miscellaneous personal services\",\"Nonalcoholic beverages and beverage materials\",\"Food at home\",\"Bakery products\",\"Appliances\",\"Hospital and related services\",\"Other household equipment and furnishings\",\"Medicinal drugs\",\"Juices and nonalcoholic drinks\",\"\",\"\",\"\",\"\",\"\",\"\",\"\",\"\",\"\",\"\",\"\",\"\",\"\",\"\",\"\",\"\",\"\",\"\",\"\",\"\",\"\",\"\",\"\",\"\",\"\",\"\",\"\",\"\",\"\",\"\",\"\",\"\",\"\",\"\",\"\",\"\",\"\",\"\",\"\",\"\",\"\",\"\",\"\",\"\",\"\",\"\",\"\",\"\",\"\",\"\",\"\",\"\",\"\",\"\",\"\",\"\",\"\",\"\",\"\",\"\",\"\",\"\",\"\",\"\",\"\",\"\",\"\",\"\",\"\",\"\",\"\",\"\",\"\",\"\",\"\",\"\",\"\",\"\",\"\",\"\",\"\",\"\",\"\",\"\",\"\",\"\",\"\",\"\",\"\",\"\",\"\",\"\"],\"values\":[0.688,0.2,0.944,2.811,0.31,0.297,2.75,1.817,0.152,1.598,0.12,0.364,0.633,0.044,0.068,0.095,1.489,1.099,0.174,0.078,1.026,1.637,0.079,0.042,0.134,0.693,1.038,0.136,0.134,0.264,0.218,0.229,0.14,100.0,0.22,0.073,0.03,2.663,0.008,0.016,0.136,0.529,0.768,0.313,0.08,0.009,1.218,0.003,3.666,0.125,0.08,6.347,7.772,1.001,0.308,0.086,0.58,3.176,1.038,0.458,0.099,0.689,0.273,0.074,0.278,0.084,1.341,0.145,0.006,4.387,1.972,0.098,0.197,3.777,0.018,0.297,0.306,1.569,0.792,0.01,0.094,0.052,1.005,0.302,0.169,0.118,0.111,0.922,1.297,0.068,0.25,0.454,2.787,5.797,1.105,0.045,42.385,0.093,0.641,0.153,0.218,0.224,1.515,0.825,1.736,2.875,0.981,0.32,0.059,0.565,0.15,0.088,0.13,0.114,0.235,0.694,0.321,0.01,0.009,0.012,0.119,0.19,0.019,0.254,0.29,3.135,0.365,0.431,2.221,2.419,0.223,0.2,0.18,0.073,0.15,0.471,0.266,0.329,0.333,0.322,0.075,0.052,1.141,0.05,0.061,0.111,0.101,0.635,3.756,0.393,0.345,0.091,0.046,7.525,0.875,0.092,0.284,0.062,0.265,0.446,0.052,0.075,0.678,0.694,0.56,23.044,0.459,0.042,24.263,0.053,0.356,0.469,0.233,0.707,0.151,0.182,2.425,0.212,0.062,0.13,0.644,0.101,0.14,0.538,1.053,0.516,0.259,0.04,0.71,7.289,1.58,8.87,0.066,15.16,0.274,0.892,0.243,0.06,0.608,0.249,0.366,4.682,3.28,1.107,0.263,1.075,0.271,0.81,0.058,1.96,0.604,0.29,0.037,0.077,2.369,1.192,0.063,0.142,0.178,0.001,0.003,0.134,0.278,0.535,0.06,1.916,0.064,2.551,0.254,3.033,6.81,0.109,0.138,14.055,3.662,0.288,1.192,0.044,0.026,0.071,0.091,0.27,0.082,0.089,0.232,2.924,7.862,0.173,0.073,0.18,0.062,0.367,1.209,0.899,0.361,0.297,0.037,14.119,15.157,0.041,0.06,0.002,0.076,0.144,1.537,0.666,0.158,0.532,3.159,0.632,0.012,0.244,0.015,0.005,0.111,0.34,0.116,33.316,0.02,0.474,0.051,0.124,0.893,0.287,0.41,0.22,0.666,0.93,0.214,0.14,0.124,0.077,0.374,0.382,100.0,1.038,0.5800000000000001,100.00099999999999,2.663,0.22100000000000003,0.6930000000000001,0.47,0.264,1.038,1.001,0.307,3.777,0.792,3.033,6.8100000000000005,3.135,0.212,0.278,14.119,15.157,7.772,6.347,0.644,0.537,1.054,0.515,1.341,0.14500000000000002,4.387,0.9440000000000001,2.418,3.28,4.683,0.899,0.9219999999999999,42.385000000000005,3.6660000000000004,1.297,0.154,0.666,0.825,1.026,1.637,1.736,8.869,1.581,7.29,1.5150000000000001,0.666,0.531,0.98,2.875,0.566,1.099,0.393,7.5249999999999995,0.93,1.971,1.4889999999999999,3.1590000000000003,0.535,1.916,0.35600000000000004,24.262,2.3529999999999998,0.6779999999999999,0.694,1.1920000000000002,0.071,0.323,0.111,0.333,14.055,0.288,3.6609999999999996,1.105,5.795999999999999,0.12000000000000001,33.316,0.603,0.27,2.37,0.608,0.892,15.16,2.924,1.537,1.107,0.271,1.075,0.874],\"type\":\"sunburst\"}],                        {\"template\":{\"data\":{\"histogram2dcontour\":[{\"type\":\"histogram2dcontour\",\"colorbar\":{\"outlinewidth\":0,\"ticks\":\"\"},\"colorscale\":[[0.0,\"#0d0887\"],[0.1111111111111111,\"#46039f\"],[0.2222222222222222,\"#7201a8\"],[0.3333333333333333,\"#9c179e\"],[0.4444444444444444,\"#bd3786\"],[0.5555555555555556,\"#d8576b\"],[0.6666666666666666,\"#ed7953\"],[0.7777777777777778,\"#fb9f3a\"],[0.8888888888888888,\"#fdca26\"],[1.0,\"#f0f921\"]]}],\"choropleth\":[{\"type\":\"choropleth\",\"colorbar\":{\"outlinewidth\":0,\"ticks\":\"\"}}],\"histogram2d\":[{\"type\":\"histogram2d\",\"colorbar\":{\"outlinewidth\":0,\"ticks\":\"\"},\"colorscale\":[[0.0,\"#0d0887\"],[0.1111111111111111,\"#46039f\"],[0.2222222222222222,\"#7201a8\"],[0.3333333333333333,\"#9c179e\"],[0.4444444444444444,\"#bd3786\"],[0.5555555555555556,\"#d8576b\"],[0.6666666666666666,\"#ed7953\"],[0.7777777777777778,\"#fb9f3a\"],[0.8888888888888888,\"#fdca26\"],[1.0,\"#f0f921\"]]}],\"heatmap\":[{\"type\":\"heatmap\",\"colorbar\":{\"outlinewidth\":0,\"ticks\":\"\"},\"colorscale\":[[0.0,\"#0d0887\"],[0.1111111111111111,\"#46039f\"],[0.2222222222222222,\"#7201a8\"],[0.3333333333333333,\"#9c179e\"],[0.4444444444444444,\"#bd3786\"],[0.5555555555555556,\"#d8576b\"],[0.6666666666666666,\"#ed7953\"],[0.7777777777777778,\"#fb9f3a\"],[0.8888888888888888,\"#fdca26\"],[1.0,\"#f0f921\"]]}],\"heatmapgl\":[{\"type\":\"heatmapgl\",\"colorbar\":{\"outlinewidth\":0,\"ticks\":\"\"},\"colorscale\":[[0.0,\"#0d0887\"],[0.1111111111111111,\"#46039f\"],[0.2222222222222222,\"#7201a8\"],[0.3333333333333333,\"#9c179e\"],[0.4444444444444444,\"#bd3786\"],[0.5555555555555556,\"#d8576b\"],[0.6666666666666666,\"#ed7953\"],[0.7777777777777778,\"#fb9f3a\"],[0.8888888888888888,\"#fdca26\"],[1.0,\"#f0f921\"]]}],\"contourcarpet\":[{\"type\":\"contourcarpet\",\"colorbar\":{\"outlinewidth\":0,\"ticks\":\"\"}}],\"contour\":[{\"type\":\"contour\",\"colorbar\":{\"outlinewidth\":0,\"ticks\":\"\"},\"colorscale\":[[0.0,\"#0d0887\"],[0.1111111111111111,\"#46039f\"],[0.2222222222222222,\"#7201a8\"],[0.3333333333333333,\"#9c179e\"],[0.4444444444444444,\"#bd3786\"],[0.5555555555555556,\"#d8576b\"],[0.6666666666666666,\"#ed7953\"],[0.7777777777777778,\"#fb9f3a\"],[0.8888888888888888,\"#fdca26\"],[1.0,\"#f0f921\"]]}],\"surface\":[{\"type\":\"surface\",\"colorbar\":{\"outlinewidth\":0,\"ticks\":\"\"},\"colorscale\":[[0.0,\"#0d0887\"],[0.1111111111111111,\"#46039f\"],[0.2222222222222222,\"#7201a8\"],[0.3333333333333333,\"#9c179e\"],[0.4444444444444444,\"#bd3786\"],[0.5555555555555556,\"#d8576b\"],[0.6666666666666666,\"#ed7953\"],[0.7777777777777778,\"#fb9f3a\"],[0.8888888888888888,\"#fdca26\"],[1.0,\"#f0f921\"]]}],\"mesh3d\":[{\"type\":\"mesh3d\",\"colorbar\":{\"outlinewidth\":0,\"ticks\":\"\"}}],\"scatter\":[{\"fillpattern\":{\"fillmode\":\"overlay\",\"size\":10,\"solidity\":0.2},\"type\":\"scatter\"}],\"parcoords\":[{\"type\":\"parcoords\",\"line\":{\"colorbar\":{\"outlinewidth\":0,\"ticks\":\"\"}}}],\"scatterpolargl\":[{\"type\":\"scatterpolargl\",\"marker\":{\"colorbar\":{\"outlinewidth\":0,\"ticks\":\"\"}}}],\"bar\":[{\"error_x\":{\"color\":\"#2a3f5f\"},\"error_y\":{\"color\":\"#2a3f5f\"},\"marker\":{\"line\":{\"color\":\"#E5ECF6\",\"width\":0.5},\"pattern\":{\"fillmode\":\"overlay\",\"size\":10,\"solidity\":0.2}},\"type\":\"bar\"}],\"scattergeo\":[{\"type\":\"scattergeo\",\"marker\":{\"colorbar\":{\"outlinewidth\":0,\"ticks\":\"\"}}}],\"scatterpolar\":[{\"type\":\"scatterpolar\",\"marker\":{\"colorbar\":{\"outlinewidth\":0,\"ticks\":\"\"}}}],\"histogram\":[{\"marker\":{\"pattern\":{\"fillmode\":\"overlay\",\"size\":10,\"solidity\":0.2}},\"type\":\"histogram\"}],\"scattergl\":[{\"type\":\"scattergl\",\"marker\":{\"colorbar\":{\"outlinewidth\":0,\"ticks\":\"\"}}}],\"scatter3d\":[{\"type\":\"scatter3d\",\"line\":{\"colorbar\":{\"outlinewidth\":0,\"ticks\":\"\"}},\"marker\":{\"colorbar\":{\"outlinewidth\":0,\"ticks\":\"\"}}}],\"scattermapbox\":[{\"type\":\"scattermapbox\",\"marker\":{\"colorbar\":{\"outlinewidth\":0,\"ticks\":\"\"}}}],\"scatterternary\":[{\"type\":\"scatterternary\",\"marker\":{\"colorbar\":{\"outlinewidth\":0,\"ticks\":\"\"}}}],\"scattercarpet\":[{\"type\":\"scattercarpet\",\"marker\":{\"colorbar\":{\"outlinewidth\":0,\"ticks\":\"\"}}}],\"carpet\":[{\"aaxis\":{\"endlinecolor\":\"#2a3f5f\",\"gridcolor\":\"white\",\"linecolor\":\"white\",\"minorgridcolor\":\"white\",\"startlinecolor\":\"#2a3f5f\"},\"baxis\":{\"endlinecolor\":\"#2a3f5f\",\"gridcolor\":\"white\",\"linecolor\":\"white\",\"minorgridcolor\":\"white\",\"startlinecolor\":\"#2a3f5f\"},\"type\":\"carpet\"}],\"table\":[{\"cells\":{\"fill\":{\"color\":\"#EBF0F8\"},\"line\":{\"color\":\"white\"}},\"header\":{\"fill\":{\"color\":\"#C8D4E3\"},\"line\":{\"color\":\"white\"}},\"type\":\"table\"}],\"barpolar\":[{\"marker\":{\"line\":{\"color\":\"#E5ECF6\",\"width\":0.5},\"pattern\":{\"fillmode\":\"overlay\",\"size\":10,\"solidity\":0.2}},\"type\":\"barpolar\"}],\"pie\":[{\"automargin\":true,\"type\":\"pie\"}]},\"layout\":{\"autotypenumbers\":\"strict\",\"colorway\":[\"#636efa\",\"#EF553B\",\"#00cc96\",\"#ab63fa\",\"#FFA15A\",\"#19d3f3\",\"#FF6692\",\"#B6E880\",\"#FF97FF\",\"#FECB52\"],\"font\":{\"color\":\"#2a3f5f\"},\"hovermode\":\"closest\",\"hoverlabel\":{\"align\":\"left\"},\"paper_bgcolor\":\"white\",\"plot_bgcolor\":\"#E5ECF6\",\"polar\":{\"bgcolor\":\"#E5ECF6\",\"angularaxis\":{\"gridcolor\":\"white\",\"linecolor\":\"white\",\"ticks\":\"\"},\"radialaxis\":{\"gridcolor\":\"white\",\"linecolor\":\"white\",\"ticks\":\"\"}},\"ternary\":{\"bgcolor\":\"#E5ECF6\",\"aaxis\":{\"gridcolor\":\"white\",\"linecolor\":\"white\",\"ticks\":\"\"},\"baxis\":{\"gridcolor\":\"white\",\"linecolor\":\"white\",\"ticks\":\"\"},\"caxis\":{\"gridcolor\":\"white\",\"linecolor\":\"white\",\"ticks\":\"\"}},\"coloraxis\":{\"colorbar\":{\"outlinewidth\":0,\"ticks\":\"\"}},\"colorscale\":{\"sequential\":[[0.0,\"#0d0887\"],[0.1111111111111111,\"#46039f\"],[0.2222222222222222,\"#7201a8\"],[0.3333333333333333,\"#9c179e\"],[0.4444444444444444,\"#bd3786\"],[0.5555555555555556,\"#d8576b\"],[0.6666666666666666,\"#ed7953\"],[0.7777777777777778,\"#fb9f3a\"],[0.8888888888888888,\"#fdca26\"],[1.0,\"#f0f921\"]],\"sequentialminus\":[[0.0,\"#0d0887\"],[0.1111111111111111,\"#46039f\"],[0.2222222222222222,\"#7201a8\"],[0.3333333333333333,\"#9c179e\"],[0.4444444444444444,\"#bd3786\"],[0.5555555555555556,\"#d8576b\"],[0.6666666666666666,\"#ed7953\"],[0.7777777777777778,\"#fb9f3a\"],[0.8888888888888888,\"#fdca26\"],[1.0,\"#f0f921\"]],\"diverging\":[[0,\"#8e0152\"],[0.1,\"#c51b7d\"],[0.2,\"#de77ae\"],[0.3,\"#f1b6da\"],[0.4,\"#fde0ef\"],[0.5,\"#f7f7f7\"],[0.6,\"#e6f5d0\"],[0.7,\"#b8e186\"],[0.8,\"#7fbc41\"],[0.9,\"#4d9221\"],[1,\"#276419\"]]},\"xaxis\":{\"gridcolor\":\"white\",\"linecolor\":\"white\",\"ticks\":\"\",\"title\":{\"standoff\":15},\"zerolinecolor\":\"white\",\"automargin\":true,\"zerolinewidth\":2},\"yaxis\":{\"gridcolor\":\"white\",\"linecolor\":\"white\",\"ticks\":\"\",\"title\":{\"standoff\":15},\"zerolinecolor\":\"white\",\"automargin\":true,\"zerolinewidth\":2},\"scene\":{\"xaxis\":{\"backgroundcolor\":\"#E5ECF6\",\"gridcolor\":\"white\",\"linecolor\":\"white\",\"showbackground\":true,\"ticks\":\"\",\"zerolinecolor\":\"white\",\"gridwidth\":2},\"yaxis\":{\"backgroundcolor\":\"#E5ECF6\",\"gridcolor\":\"white\",\"linecolor\":\"white\",\"showbackground\":true,\"ticks\":\"\",\"zerolinecolor\":\"white\",\"gridwidth\":2},\"zaxis\":{\"backgroundcolor\":\"#E5ECF6\",\"gridcolor\":\"white\",\"linecolor\":\"white\",\"showbackground\":true,\"ticks\":\"\",\"zerolinecolor\":\"white\",\"gridwidth\":2}},\"shapedefaults\":{\"line\":{\"color\":\"#2a3f5f\"}},\"annotationdefaults\":{\"arrowcolor\":\"#2a3f5f\",\"arrowhead\":0,\"arrowwidth\":1},\"geo\":{\"bgcolor\":\"white\",\"landcolor\":\"#E5ECF6\",\"subunitcolor\":\"white\",\"showland\":true,\"showlakes\":true,\"lakecolor\":\"white\"},\"title\":{\"x\":0.05},\"mapbox\":{\"style\":\"light\"}}},\"legend\":{\"tracegroupgap\":0},\"margin\":{\"t\":60},\"title\":{\"text\":\"Sunburst Diagram\"},\"font\":{\"size\":10}},                        {\"responsive\": true}                    ).then(function(){\n",
       "                            \n",
       "var gd = document.getElementById('4d3d54a3-ebbf-458e-9e10-eb9a37c04897');\n",
       "var x = new MutationObserver(function (mutations, observer) {{\n",
       "        var display = window.getComputedStyle(gd).display;\n",
       "        if (!display || display === 'none') {{\n",
       "            console.log([gd, 'removed!']);\n",
       "            Plotly.purge(gd);\n",
       "            observer.disconnect();\n",
       "        }}\n",
       "}});\n",
       "\n",
       "// Listen for the removal of the full notebook cells\n",
       "var notebookContainer = gd.closest('#notebook-container');\n",
       "if (notebookContainer) {{\n",
       "    x.observe(notebookContainer, {childList: true});\n",
       "}}\n",
       "\n",
       "// Listen for the clearing of the current output cell\n",
       "var outputEl = gd.closest('.output');\n",
       "if (outputEl) {{\n",
       "    x.observe(outputEl, {childList: true});\n",
       "}}\n",
       "\n",
       "                        })                };                });            </script>        </div>"
      ]
     },
     "metadata": {},
     "output_type": "display_data"
    },
    {
     "data": {
      "application/vnd.plotly.v1+json": {
       "config": {
        "plotlyServerURL": "https://plot.ly"
       },
       "data": [
        {
         "branchvalues": "total",
         "customdata": [
          [
           "Other recreation services"
          ],
          [
           "Women's and girls' apparel"
          ],
          [
           "Household furnishings and operations"
          ],
          [
           "Motor fuel"
          ],
          [
           "Household operations"
          ],
          [
           "Water and sewer and trash collection services"
          ],
          [
           "New and used motor vehicles"
          ],
          [
           "Professional services"
          ],
          [
           "Furniture and bedding"
          ],
          [
           "Private transportation"
          ],
          [
           "Recreation"
          ],
          [
           "Personal care products"
          ],
          [
           "Public transportation"
          ],
          [
           "Beef and veal"
          ],
          [
           "Recreational reading materials"
          ],
          [
           "Beverage materials including coffee and tea"
          ],
          [
           "Other food at home"
          ],
          [
           "Private transportation"
          ],
          [
           "Food away from home"
          ],
          [
           "Appliances"
          ],
          [
           "Meats, poultry, and fish"
          ],
          [
           "Meats, poultry, fish, and eggs"
          ],
          [
           "Video and audio"
          ],
          [
           "Other foods"
          ],
          [
           "Pork"
          ],
          [
           "Cereals and bakery products"
          ],
          [
           "Food and beverages"
          ],
          [
           "Footwear"
          ],
          [
           "Men's and boys' apparel"
          ],
          [
           "Nonalcoholic beverages and beverage materials"
          ],
          [
           "Other recreation services"
          ],
          [
           "Miscellaneous personal services"
          ],
          [
           "Miscellaneous personal services"
          ],
          [
           "-"
          ],
          [
           "Household furnishings and operations"
          ],
          [
           "Fresh fruits"
          ],
          [
           "Miscellaneous personal services"
          ],
          [
           "All items"
          ],
          [
           "Personal care products"
          ],
          [
           "Other recreational goods"
          ],
          [
           "Fresh fruits"
          ],
          [
           "Tobacco and smoking products"
          ],
          [
           "Tuition, other school fees, and childcare"
          ],
          [
           "Other household equipment and furnishings"
          ],
          [
           "Household operations"
          ],
          [
           "Furniture and bedding"
          ],
          [
           "Owners' equivalent rent of residences"
          ],
          [
           "Appliances"
          ],
          [
           "Communication"
          ],
          [
           "Apparel"
          ],
          [
           "Food away from home"
          ],
          [
           "Food"
          ],
          [
           "Food"
          ],
          [
           "Food at home"
          ],
          [
           "Cereals and bakery products"
          ],
          [
           "Processed fruits and vegetables"
          ],
          [
           "Alcoholic beverages"
          ],
          [
           "Food away from home"
          ],
          [
           "Beverages"
          ],
          [
           "Alcoholic beverages"
          ],
          [
           "Meats, poultry, fish, and eggs"
          ],
          [
           "Other recreation services"
          ],
          [
           "Poultry"
          ],
          [
           "Fresh fruits"
          ],
          [
           "Meats, poultry, and fish"
          ],
          [
           "Fuel oil and other fuels"
          ],
          [
           "Food at home"
          ],
          [
           "Household energy"
          ],
          [
           "Juices and nonalcoholic drinks"
          ],
          [
           "Housing"
          ],
          [
           "Food at home"
          ],
          [
           "Fats and oils"
          ],
          [
           "Dairy and related products"
          ],
          [
           "Education and communication"
          ],
          [
           "Information technology, hardware and services"
          ],
          [
           "Information technology, hardware and services"
          ],
          [
           "Personal care products"
          ],
          [
           "Tuition, other school fees, and childcare"
          ],
          [
           "Food at home"
          ],
          [
           "Postage and delivery services"
          ],
          [
           "Alcoholic beverages at home"
          ],
          [
           "Other household equipment and furnishings"
          ],
          [
           "Professional services"
          ],
          [
           "Household operations"
          ],
          [
           "Beverage materials including coffee and tea"
          ],
          [
           "Lodging away from home"
          ],
          [
           "Dairy and related products"
          ],
          [
           "Household furnishings and operations"
          ],
          [
           "Information and information processing"
          ],
          [
           "Fresh vegetables"
          ],
          [
           "Miscellaneous personal services"
          ],
          [
           "Furniture and bedding"
          ],
          [
           "Food away from home"
          ],
          [
           "All items"
          ],
          [
           "Transportation"
          ],
          [
           "Video and audio"
          ],
          [
           "All items"
          ],
          [
           "Other household equipment and furnishings"
          ],
          [
           "New and used motor vehicles"
          ],
          [
           "Apparel"
          ],
          [
           "Dairy and related products"
          ],
          [
           "Footwear"
          ],
          [
           "Medical care commodities"
          ],
          [
           "Shelter"
          ],
          [
           "Food at home"
          ],
          [
           "Private transportation"
          ],
          [
           "Personal care"
          ],
          [
           "Housekeeping supplies"
          ],
          [
           "Motor vehicle maintenance and repair"
          ],
          [
           "Private transportation"
          ],
          [
           "Men's apparel"
          ],
          [
           "Men's apparel"
          ],
          [
           "Men's apparel"
          ],
          [
           "Jewelry and watches"
          ],
          [
           "Housekeeping supplies"
          ],
          [
           "Personal care services"
          ],
          [
           "Other recreation services"
          ],
          [
           "Sporting goods"
          ],
          [
           "Women's apparel"
          ],
          [
           "Video and audio"
          ],
          [
           "Tuition, other school fees, and childcare"
          ],
          [
           "Tools, hardware, outdoor equipment and supplies"
          ],
          [
           "Tobacco and smoking products"
          ],
          [
           "Fresh fruits"
          ],
          [
           "Fresh vegetables"
          ],
          [
           "Household energy"
          ],
          [
           "Professional services"
          ],
          [
           "Tuition, other school fees, and childcare"
          ],
          [
           "Hospital and related services"
          ],
          [
           "Medical care services"
          ],
          [
           "Alcoholic beverages at home"
          ],
          [
           "Bakery products"
          ],
          [
           "Sugar and sweets"
          ],
          [
           "Hospital and related services"
          ],
          [
           "Processed fruits and vegetables"
          ],
          [
           "Meats"
          ],
          [
           "Dairy and related products"
          ],
          [
           "Furniture and bedding"
          ],
          [
           "Meats, poultry, and fish"
          ],
          [
           "Meats"
          ],
          [
           "Fresh vegetables"
          ],
          [
           "Pork"
          ],
          [
           "Medicinal drugs"
          ],
          [
           "Recreational reading materials"
          ],
          [
           "Fuel oil and other fuels"
          ],
          [
           "Communication"
          ],
          [
           "Postage and delivery services"
          ],
          [
           "Motor vehicle maintenance and repair"
          ],
          [
           "New and used motor vehicles"
          ],
          [
           "Private transportation"
          ],
          [
           "Motor vehicle maintenance and repair"
          ],
          [
           "Household operations"
          ],
          [
           "Other recreational goods"
          ],
          [
           "Private transportation"
          ],
          [
           "Women's and girls' apparel"
          ],
          [
           "Women's apparel"
          ],
          [
           "Footwear"
          ],
          [
           "Women's apparel"
          ],
          [
           "Women's apparel"
          ],
          [
           "Women's apparel"
          ],
          [
           "Processed fruits and vegetables"
          ],
          [
           "Pork"
          ],
          [
           "Personal care"
          ],
          [
           "Personal care"
          ],
          [
           "Pets, pet products and services"
          ],
          [
           "Owners' equivalent rent of residences"
          ],
          [
           "Tools, hardware, outdoor equipment and supplies"
          ],
          [
           "Video and audio"
          ],
          [
           "Shelter"
          ],
          [
           "Sugar and sweets"
          ],
          [
           "Recreation"
          ],
          [
           "Other foods"
          ],
          [
           "Meats"
          ],
          [
           "Lodging away from home"
          ],
          [
           "Window and floor coverings and other linens"
          ],
          [
           "Public transportation"
          ],
          [
           "Energy services"
          ],
          [
           "Other food at home"
          ],
          [
           "Window and floor coverings and other linens"
          ],
          [
           "Food away from home"
          ],
          [
           "Apparel"
          ],
          [
           "Bakery products"
          ],
          [
           "Fish and seafood"
          ],
          [
           "Fresh fruits and vegetables"
          ],
          [
           "Fruits and vegetables"
          ],
          [
           "Fresh fruits and vegetables"
          ],
          [
           "Other foods"
          ],
          [
           "Jewelry and watches"
          ],
          [
           "Energy services"
          ],
          [
           "Medical care"
          ],
          [
           "Medical care"
          ],
          [
           "All items"
          ],
          [
           "Medical care commodities"
          ],
          [
           "All items"
          ],
          [
           "Other recreational goods"
          ],
          [
           "Household furnishings and operations"
          ],
          [
           "Tools, hardware, outdoor equipment and supplies"
          ],
          [
           "Tobacco and smoking products"
          ],
          [
           "Other goods and services"
          ],
          [
           "Motor vehicle parts and equipment"
          ],
          [
           "Shelter"
          ],
          [
           "Housing"
          ],
          [
           "Fuels and utilities"
          ],
          [
           "Fuels and utilities"
          ],
          [
           "Alcoholic beverages at home"
          ],
          [
           "Apparel"
          ],
          [
           "Household furnishings and operations"
          ],
          [
           "Water and sewer and trash collection services"
          ],
          [
           "Window and floor coverings and other linens"
          ],
          [
           "Telephone services"
          ],
          [
           "Recreation"
          ],
          [
           "Other foods"
          ],
          [
           "Tuition, other school fees, and childcare"
          ],
          [
           "Information technology, hardware and services"
          ],
          [
           "Information and information processing"
          ],
          [
           "Video and audio"
          ],
          [
           "Fats and oils"
          ],
          [
           "Cereals and cereal products"
          ],
          [
           "Bakery products"
          ],
          [
           "Photography"
          ],
          [
           "Public transportation"
          ],
          [
           "New and used motor vehicles"
          ],
          [
           "Juices and nonalcoholic drinks"
          ],
          [
           "Household furnishings and operations"
          ],
          [
           "Poultry"
          ],
          [
           "Recreation"
          ],
          [
           "Motor fuel"
          ],
          [
           "Other goods and services"
          ],
          [
           "Motor vehicle fees"
          ],
          [
           "Education and communication"
          ],
          [
           "All items"
          ],
          [
           "Education"
          ],
          [
           "Fish and seafood"
          ],
          [
           "Transportation"
          ],
          [
           "Medical care services"
          ],
          [
           "Fruits and vegetables"
          ],
          [
           "Recreation"
          ],
          [
           "Photography"
          ],
          [
           "Photography"
          ],
          [
           "Recreation"
          ],
          [
           "Video and audio"
          ],
          [
           "Other food at home"
          ],
          [
           "Fresh vegetables"
          ],
          [
           "Other foods"
          ],
          [
           "Sporting goods"
          ],
          [
           "Education"
          ],
          [
           "Shelter"
          ],
          [
           "Beef and veal"
          ],
          [
           "Beef and veal"
          ],
          [
           "Beef and veal"
          ],
          [
           "Pork"
          ],
          [
           "Housekeeping supplies"
          ],
          [
           "Medical care services"
          ],
          [
           "Household furnishings and operations"
          ],
          [
           "Sporting goods"
          ],
          [
           "Motor vehicle fees"
          ],
          [
           "Sugar and sweets"
          ],
          [
           "Food and beverages"
          ],
          [
           "All items"
          ],
          [
           "Cereals and cereal products"
          ],
          [
           "Motor vehicle maintenance and repair"
          ],
          [
           "Recreational reading materials"
          ],
          [
           "Video and audio"
          ],
          [
           "Motor vehicle parts and equipment"
          ],
          [
           "Recreation"
          ],
          [
           "Apparel"
          ],
          [
           "Men's apparel"
          ],
          [
           "Men's and boys' apparel"
          ],
          [
           "All items"
          ],
          [
           "Pets, pet products and services"
          ],
          [
           "Information technology, hardware and services"
          ],
          [
           "New and used motor vehicles"
          ],
          [
           "Motor vehicle fees"
          ],
          [
           "Men's apparel"
          ],
          [
           "Miscellaneous personal services"
          ],
          [
           "Other foods"
          ],
          [
           "Household operations"
          ],
          [
           "Housing"
          ],
          [
           "Other recreational goods"
          ],
          [
           "Professional services"
          ],
          [
           "Fats and oils"
          ],
          [
           "Cereals and cereal products"
          ],
          [
           "Information technology, hardware and services"
          ],
          [
           "Public transportation"
          ],
          [
           "Telephone services"
          ],
          [
           "Miscellaneous personal services"
          ],
          [
           "Nonalcoholic beverages and beverage materials"
          ],
          [
           "Food at home"
          ],
          [
           "Bakery products"
          ],
          [
           "Appliances"
          ],
          [
           "Hospital and related services"
          ],
          [
           "Other household equipment and furnishings"
          ],
          [
           "Medicinal drugs"
          ],
          [
           "Juices and nonalcoholic drinks"
          ],
          [
           "-"
          ],
          [
           "Alcoholic beverages"
          ],
          [
           "Alcoholic beverages at home"
          ],
          [
           "All items"
          ],
          [
           "Apparel"
          ],
          [
           "Appliances"
          ],
          [
           "Bakery products"
          ],
          [
           "Beef and veal"
          ],
          [
           "Beverage materials including coffee and tea"
          ],
          [
           "Beverages"
          ],
          [
           "Cereals and bakery products"
          ],
          [
           "Cereals and cereal products"
          ],
          [
           "Communication"
          ],
          [
           "Dairy and related products"
          ],
          [
           "Education"
          ],
          [
           "Education and communication"
          ],
          [
           "Energy services"
          ],
          [
           "Fats and oils"
          ],
          [
           "Fish and seafood"
          ],
          [
           "Food"
          ],
          [
           "Food and beverages"
          ],
          [
           "Food at home"
          ],
          [
           "Food away from home"
          ],
          [
           "Footwear"
          ],
          [
           "Fresh fruits"
          ],
          [
           "Fresh fruits and vegetables"
          ],
          [
           "Fresh vegetables"
          ],
          [
           "Fruits and vegetables"
          ],
          [
           "Fuel oil and other fuels"
          ],
          [
           "Fuels and utilities"
          ],
          [
           "Furniture and bedding"
          ],
          [
           "Hospital and related services"
          ],
          [
           "Household energy"
          ],
          [
           "Household furnishings and operations"
          ],
          [
           "Household operations"
          ],
          [
           "Housekeeping supplies"
          ],
          [
           "Housing"
          ],
          [
           "Information and information processing"
          ],
          [
           "Information technology, hardware and services"
          ],
          [
           "Jewelry and watches"
          ],
          [
           "Juices and nonalcoholic drinks"
          ],
          [
           "Lodging away from home"
          ],
          [
           "Meats"
          ],
          [
           "Meats, poultry, and fish"
          ],
          [
           "Meats, poultry, fish, and eggs"
          ],
          [
           "Medical care"
          ],
          [
           "Medical care commodities"
          ],
          [
           "Medical care services"
          ],
          [
           "Medicinal drugs"
          ],
          [
           "Men's and boys' apparel"
          ],
          [
           "Men's apparel"
          ],
          [
           "Miscellaneous personal services"
          ],
          [
           "Motor fuel"
          ],
          [
           "Motor vehicle fees"
          ],
          [
           "Motor vehicle maintenance and repair"
          ],
          [
           "Motor vehicle parts and equipment"
          ],
          [
           "New and used motor vehicles"
          ],
          [
           "Nonalcoholic beverages and beverage materials"
          ],
          [
           "Other food at home"
          ],
          [
           "Other foods"
          ],
          [
           "Other goods and services"
          ],
          [
           "Other household equipment and furnishings"
          ],
          [
           "Other recreation services"
          ],
          [
           "Other recreational goods"
          ],
          [
           "Owners' equivalent rent of residences"
          ],
          [
           "Personal care"
          ],
          [
           "Personal care products"
          ],
          [
           "Personal care services"
          ],
          [
           "Pets, pet products and services"
          ],
          [
           "Photography"
          ],
          [
           "Pork"
          ],
          [
           "Postage and delivery services"
          ],
          [
           "Poultry"
          ],
          [
           "Private transportation"
          ],
          [
           "Processed fruits and vegetables"
          ],
          [
           "Professional services"
          ],
          [
           "Public transportation"
          ],
          [
           "Recreation"
          ],
          [
           "Recreational reading materials"
          ],
          [
           "Shelter"
          ],
          [
           "Sporting goods"
          ],
          [
           "Sugar and sweets"
          ],
          [
           "Telephone services"
          ],
          [
           "Tobacco and smoking products"
          ],
          [
           "Tools, hardware, outdoor equipment and supplies"
          ],
          [
           "Transportation"
          ],
          [
           "Tuition, other school fees, and childcare"
          ],
          [
           "Video and audio"
          ],
          [
           "Water and sewer and trash collection services"
          ],
          [
           "Window and floor coverings and other linens"
          ],
          [
           "Women's and girls' apparel"
          ],
          [
           "Women's apparel"
          ]
         ],
         "domain": {
          "x": [
           0,
           1
          ],
          "y": [
           0,
           1
          ]
         },
         "hovertemplate": "labels=%{label}<br>Weight=%{value}<br>parent=%{parent}<br>id=%{id}<br>Parent=%{customdata[0]}<extra></extra>",
         "ids": [
          "Other recreation services/Admissions",
          "Women's and girls' apparel/Girls' apparel",
          "Household furnishings and operations/Furniture and bedding",
          "Motor fuel/Gasoline (all types)",
          "Household operations/Gardening and lawncare services",
          "Water and sewer and trash collection services/Garbage and trash collection",
          "New and used motor vehicles/Used cars and trucks",
          "Professional services/Physicians' services",
          "Furniture and bedding/Other furniture",
          "Private transportation/Motor vehicle insurance",
          "Recreation/Recreational reading materials",
          "Personal care products/Hair, dental, shaving, and miscellaneous personal care products",
          "Public transportation/Airline fares",
          "Beef and veal/Uncooked other beef and veal",
          "Recreational reading materials/Newspapers and magazines",
          "Beverage materials including coffee and tea/Other beverage materials including tea",
          "Other food at home/Other foods",
          "Private transportation/Motor vehicle maintenance and repair",
          "Food away from home/Other food away from home",
          "Appliances/Major appliances",
          "Meats, poultry, and fish/Meats",
          "Meats, poultry, fish, and eggs/Meats, poultry, and fish",
          "Video and audio/Audio equipment",
          "Other foods/Baby food",
          "Pork/Bacon, breakfast sausage, and related products",
          "Cereals and bakery products/Bakery products",
          "Food and beverages/Beverages",
          "Footwear/Boys' and girls' footwear",
          "Men's and boys' apparel/Boys' apparel",
          "Nonalcoholic beverages and beverage materials/Beverage materials including coffee and tea",
          "Other recreation services/Fees for lessons or instructions",
          "Miscellaneous personal services/Financial services",
          "Miscellaneous personal services/Funeral expenses",
          "-/All items",
          "Household furnishings and operations/Appliances",
          "Fresh fruits/Apples",
          "Miscellaneous personal services/Apparel services other than laundry and dry cleaning",
          "All items/Apparel",
          "Personal care products/Unsampled personal care products",
          "Other recreational goods/Unsampled recreation commodities",
          "Fresh fruits/Citrus fruits",
          "Tobacco and smoking products/Cigarettes",
          "Tuition, other school fees, and childcare/Child care and nursery school",
          "Other household equipment and furnishings/Clocks, lamps, and decorator items",
          "Household operations/Unsampled household operations",
          "Furniture and bedding/Unsampled furniture",
          "Owners' equivalent rent of residences/Unsampled owners' equivalent rent of secondary residences",
          "Appliances/Unsampled appliances",
          "Communication/Information and information processing",
          "Apparel/Infants' and toddlers' apparel",
          "Food away from home/Food from vending machines and mobile vendors",
          "Food/Food away from home",
          "Food/Food at home",
          "Food at home/Cereals and bakery products",
          "Cereals and bakery products/Cereals and cereal products",
          "Processed fruits and vegetables/Frozen fruits and vegetables",
          "Alcoholic beverages/Alcoholic beverages at home",
          "Food away from home/Full service meals and snacks",
          "Beverages/Alcoholic beverages",
          "Alcoholic beverages/Alcoholic beverages away from home",
          "Meats, poultry, fish, and eggs/Eggs",
          "Other recreation services/Club membership for shopping clubs, fraternal, or other organizations, or participant sports fees",
          "Poultry/Chicken",
          "Fresh fruits/Bananas",
          "Meats, poultry, and fish/Fish and seafood",
          "Fuel oil and other fuels/Fuel oil",
          "Food at home/Fruits and vegetables",
          "Household energy/Fuel oil and other fuels",
          "Juices and nonalcoholic drinks/Frozen noncarbonated juices and drinks",
          "Housing/Fuels and utilities",
          "Food at home/Other food at home",
          "Fats and oils/Other fats and oils including peanut butter",
          "Dairy and related products/Other dairy and related products",
          "Education and communication/Communication",
          "Information technology, hardware and services/Computer software and accessories",
          "Information technology, hardware and services/Computers, peripherals, and smart home assistant devices",
          "Personal care products/Cosmetics, perfume, bath, nail preparations and implements",
          "Tuition, other school fees, and childcare/College tuition and fees",
          "Food at home/Dairy and related products",
          "Postage and delivery services/Delivery services",
          "Alcoholic beverages at home/Distilled spirits at home",
          "Other household equipment and furnishings/Dishes and flatware",
          "Professional services/Dental services",
          "Household operations/Domestic services",
          "Beverage materials including coffee and tea/Coffee",
          "Lodging away from home/Housing at school, excluding board",
          "Dairy and related products/Ice cream and related products",
          "Household furnishings and operations/Housekeeping supplies",
          "Information and information processing/Information technology, hardware and services",
          "Fresh vegetables/Lettuce",
          "Miscellaneous personal services/Legal services",
          "Furniture and bedding/Living room, kitchen, and dining room furniture",
          "Food away from home/Limited service meals and snacks",
          "All items/Recreation",
          "Transportation/Public transportation",
          "Video and audio/Recorded music and music subscriptions",
          "All items/Housing",
          "Other household equipment and furnishings/Indoor plants and flowers",
          "New and used motor vehicles/Leased cars and trucks",
          "Apparel/Jewelry and watches",
          "Dairy and related products/Milk",
          "Footwear/Men's footwear",
          "Medical care commodities/Medicinal drugs",
          "Shelter/Lodging away from home",
          "Food at home/Meats, poultry, fish, and eggs",
          "Private transportation/Motor fuel",
          "Personal care/Miscellaneous personal services",
          "Housekeeping supplies/Miscellaneous household products",
          "Motor vehicle maintenance and repair/Motor vehicle body work",
          "Private transportation/Motor vehicle fees",
          "Men's apparel/Men's shirts and sweaters",
          "Men's apparel/Men's suits, sport coats, and outerwear",
          "Men's apparel/Men's pants and shorts",
          "Jewelry and watches/Jewelry",
          "Housekeeping supplies/Household paper products",
          "Personal care services/Haircuts and other personal care services",
          "Other recreation services/Unsampled recreation services",
          "Sporting goods/Unsampled sporting goods",
          "Women's apparel/Unsampled women's apparel",
          "Video and audio/Unsampled video and audio",
          "Tuition, other school fees, and childcare/Unsampled tuition, other school fees, and childcare",
          "Tools, hardware, outdoor equipment and supplies/Unsampled tools, hardware, outdoor equipment and supplies",
          "Tobacco and smoking products/Unsampled tobacco and smoking products",
          "Fresh fruits/Other fresh fruits",
          "Fresh vegetables/Other fresh vegetables",
          "Household energy/Energy services",
          "Professional services/Eyeglasses and eye care",
          "Tuition, other school fees, and childcare/Elementary and high school tuition and fees",
          "Hospital and related services/Hospital services",
          "Medical care services/Hospital and related services",
          "Alcoholic beverages at home/Beer, ale, and other malt beverages at home",
          "Bakery products/Bread",
          "Sugar and sweets/Candy and chewing gum",
          "Hospital and related services/Care of invalids and elderly at home",
          "Processed fruits and vegetables/Canned fruits and vegetables",
          "Meats/Beef and veal",
          "Dairy and related products/Cheese and related products",
          "Furniture and bedding/Bedroom furniture",
          "Meats, poultry, and fish/Poultry",
          "Meats/Pork",
          "Fresh vegetables/Potatoes",
          "Pork/Pork chops",
          "Medicinal drugs/Prescription drugs",
          "Recreational reading materials/Recreational books",
          "Fuel oil and other fuels/Propane, kerosene, and firewood",
          "Communication/Postage and delivery services",
          "Postage and delivery services/Postage",
          "Motor vehicle maintenance and repair/Motor vehicle maintenance and servicing",
          "New and used motor vehicles/New vehicles",
          "Private transportation/Motor vehicle parts and equipment",
          "Motor vehicle maintenance and repair/Motor vehicle repair",
          "Household operations/Moving, storage, freight expense",
          "Other recreational goods/Music instruments and accessories",
          "Private transportation/New and used motor vehicles",
          "Women's and girls' apparel/Women's apparel",
          "Women's apparel/Women's dresses",
          "Footwear/Women's footwear",
          "Women's apparel/Women's outerwear",
          "Women's apparel/Women's underwear, nightwear, sportswear, and accessories",
          "Women's apparel/Women's suits and separates",
          "Processed fruits and vegetables/Other processed fruits and vegetables including dried",
          "Pork/Other pork including roasts, steaks, and ribs",
          "Personal care/Personal care products",
          "Personal care/Personal care services",
          "Pets, pet products and services/Pet services including veterinary",
          "Owners' equivalent rent of residences/Owners' equivalent rent of primary residence",
          "Tools, hardware, outdoor equipment and supplies/Outdoor equipment and supplies",
          "Video and audio/Other video equipment",
          "Shelter/Owners' equivalent rent of residences",
          "Sugar and sweets/Other sweets",
          "Recreation/Other recreational goods",
          "Other foods/Other miscellaneous foods",
          "Meats/Other meats",
          "Lodging away from home/Other lodging away from home including hotels and motels",
          "Window and floor coverings and other linens/Other linens",
          "Public transportation/Other intercity transportation",
          "Energy services/Electricity",
          "Other food at home/Fats and oils",
          "Window and floor coverings and other linens/Floor coverings",
          "Food away from home/Food at employee sites and schools",
          "Apparel/Footwear",
          "Bakery products/Fresh biscuits, rolls, muffins",
          "Fish and seafood/Fresh fish and seafood",
          "Fresh fruits and vegetables/Fresh fruits",
          "Fruits and vegetables/Fresh fruits and vegetables",
          "Fresh fruits and vegetables/Fresh vegetables",
          "Other foods/Frozen and freeze dried prepared foods",
          "Jewelry and watches/Watches",
          "Energy services/Utility (piped) gas service",
          "Medical care/Medical care services",
          "Medical care/Medical care commodities",
          "All items/Medical care",
          "Medical care commodities/Medical equipment and supplies",
          "All items/Transportation",
          "Other recreational goods/Toys",
          "Household furnishings and operations/Tools, hardware, outdoor equipment and supplies",
          "Tools, hardware, outdoor equipment and supplies/Tools, hardware and supplies",
          "Tobacco and smoking products/Tobacco products other than cigarettes",
          "Other goods and services/Tobacco and smoking products",
          "Motor vehicle parts and equipment/Tires",
          "Shelter/Tenants' and household insurance",
          "Housing/Household furnishings and operations",
          "Fuels and utilities/Household energy",
          "Fuels and utilities/Water and sewer and trash collection services",
          "Alcoholic beverages at home/Wine at home",
          "Apparel/Women's and girls' apparel",
          "Household furnishings and operations/Window and floor coverings and other linens",
          "Water and sewer and trash collection services/Water and sewerage maintenance",
          "Window and floor coverings and other linens/Window coverings",
          "Telephone services/Wireless telephone services",
          "Recreation/Sporting goods",
          "Other foods/Spices, seasonings, condiments, sauces",
          "Tuition, other school fees, and childcare/Technical and business school tuition and fees",
          "Information technology, hardware and services/Telephone hardware, calculators, and other consumer information items",
          "Information and information processing/Telephone services",
          "Video and audio/Cable and satellite television service",
          "Fats and oils/Butter and margarine",
          "Cereals and cereal products/Breakfast cereal",
          "Bakery products/Cakes, cupcakes, and cookies",
          "Photography/Unsampled photography",
          "Public transportation/Unsampled public transportation",
          "New and used motor vehicles/Car and truck rental",
          "Juices and nonalcoholic drinks/Carbonated drinks",
          "Household furnishings and operations/Other household equipment and furnishings",
          "Poultry/Other uncooked poultry including turkey",
          "Recreation/Other recreation services",
          "Motor fuel/Other motor fuels",
          "Other goods and services/Personal care",
          "Motor vehicle fees/Parking and other fees",
          "Education and communication/Education",
          "All items/Education and communication",
          "Education/Educational books and supplies",
          "Fish and seafood/Processed fish and seafood",
          "Transportation/Private transportation",
          "Medical care services/Professional services",
          "Fruits and vegetables/Processed fruits and vegetables",
          "Recreation/Pets, pet products and services",
          "Photography/Photographers and photo processing",
          "Photography/Photographic equipment and supplies",
          "Recreation/Photography",
          "Video and audio/Televisions",
          "Other food at home/Sugar and sweets",
          "Fresh vegetables/Tomatoes",
          "Other foods/Soups",
          "Sporting goods/Sports equipment",
          "Education/Tuition, other school fees, and childcare",
          "Shelter/Rent of primary residence",
          "Beef and veal/Uncooked ground beef",
          "Beef and veal/Uncooked beef roasts",
          "Beef and veal/Uncooked beef steaks",
          "Pork/Ham",
          "Housekeeping supplies/Household cleaning products",
          "Medical care services/Health insurance",
          "Household furnishings and operations/Household operations",
          "Sporting goods/Sports vehicles including bicycles",
          "Motor vehicle fees/State motor vehicle registration and license fees",
          "Sugar and sweets/Sugar and sugar substitutes",
          "Food and beverages/Food",
          "All items/Food and beverages",
          "Cereals and cereal products/Flour and prepared flour mixes",
          "Motor vehicle maintenance and repair/Unsampled service policies",
          "Recreational reading materials/Unsampled recreational reading materials",
          "Video and audio/Video discs and other media, including rental of video",
          "Motor vehicle parts and equipment/Vehicle accessories other than tires",
          "Recreation/Video and audio",
          "Apparel/Men's and boys' apparel",
          "Men's apparel/Men''s underwear, nightwear, swimwear, and accessories",
          "Men's and boys' apparel/Men's apparel",
          "All items/Other goods and services",
          "Pets, pet products and services/Pets and pet products",
          "Information technology, hardware and services/Unsampled information and information processing",
          "New and used motor vehicles/Unsampled new and used motor vehicles",
          "Motor vehicle fees/Unsampled motor vehicle fees",
          "Men's apparel/Unsampled men's apparel",
          "Miscellaneous personal services/Unsampled items",
          "Other foods/Snacks",
          "Household operations/Repair of household items",
          "Housing/Shelter",
          "Other recreational goods/Sewing machines, fabric and supplies",
          "Professional services/Services by other medical professionals",
          "Fats and oils/Salad dressing",
          "Cereals and cereal products/Rice, pasta, cornmeal",
          "Information technology, hardware and services/Internet services and electronic information providers",
          "Public transportation/Intracity transportation",
          "Telephone services/Land-line telephone services",
          "Miscellaneous personal services/Laundry and dry cleaning services",
          "Nonalcoholic beverages and beverage materials/Juices and nonalcoholic drinks",
          "Food at home/Nonalcoholic beverages and beverage materials",
          "Bakery products/Other bakery products",
          "Appliances/Other appliances",
          "Hospital and related services/Nursing homes and adult day services",
          "Other household equipment and furnishings/Nonelectric cookware and tableware",
          "Medicinal drugs/Nonprescription drugs",
          "Juices and nonalcoholic drinks/Nonfrozen noncarbonated juices and drinks",
          "-",
          "Alcoholic beverages",
          "Alcoholic beverages at home",
          "All items",
          "Apparel",
          "Appliances",
          "Bakery products",
          "Beef and veal",
          "Beverage materials including coffee and tea",
          "Beverages",
          "Cereals and bakery products",
          "Cereals and cereal products",
          "Communication",
          "Dairy and related products",
          "Education",
          "Education and communication",
          "Energy services",
          "Fats and oils",
          "Fish and seafood",
          "Food",
          "Food and beverages",
          "Food at home",
          "Food away from home",
          "Footwear",
          "Fresh fruits",
          "Fresh fruits and vegetables",
          "Fresh vegetables",
          "Fruits and vegetables",
          "Fuel oil and other fuels",
          "Fuels and utilities",
          "Furniture and bedding",
          "Hospital and related services",
          "Household energy",
          "Household furnishings and operations",
          "Household operations",
          "Housekeeping supplies",
          "Housing",
          "Information and information processing",
          "Information technology, hardware and services",
          "Jewelry and watches",
          "Juices and nonalcoholic drinks",
          "Lodging away from home",
          "Meats",
          "Meats, poultry, and fish",
          "Meats, poultry, fish, and eggs",
          "Medical care",
          "Medical care commodities",
          "Medical care services",
          "Medicinal drugs",
          "Men's and boys' apparel",
          "Men's apparel",
          "Miscellaneous personal services",
          "Motor fuel",
          "Motor vehicle fees",
          "Motor vehicle maintenance and repair",
          "Motor vehicle parts and equipment",
          "New and used motor vehicles",
          "Nonalcoholic beverages and beverage materials",
          "Other food at home",
          "Other foods",
          "Other goods and services",
          "Other household equipment and furnishings",
          "Other recreation services",
          "Other recreational goods",
          "Owners' equivalent rent of residences",
          "Personal care",
          "Personal care products",
          "Personal care services",
          "Pets, pet products and services",
          "Photography",
          "Pork",
          "Postage and delivery services",
          "Poultry",
          "Private transportation",
          "Processed fruits and vegetables",
          "Professional services",
          "Public transportation",
          "Recreation",
          "Recreational reading materials",
          "Shelter",
          "Sporting goods",
          "Sugar and sweets",
          "Telephone services",
          "Tobacco and smoking products",
          "Tools, hardware, outdoor equipment and supplies",
          "Transportation",
          "Tuition, other school fees, and childcare",
          "Video and audio",
          "Water and sewer and trash collection services",
          "Window and floor coverings and other linens",
          "Women's and girls' apparel",
          "Women's apparel"
         ],
         "labels": [
          "Admissions",
          "Girls' apparel",
          "Furniture and bedding",
          "Gasoline (all types)",
          "Gardening and lawncare services",
          "Garbage and trash collection",
          "Used cars and trucks",
          "Physicians' services",
          "Other furniture",
          "Motor vehicle insurance",
          "Recreational reading materials",
          "Hair, dental, shaving, and miscellaneous personal care products",
          "Airline fares",
          "Uncooked other beef and veal",
          "Newspapers and magazines",
          "Other beverage materials including tea",
          "Other foods",
          "Motor vehicle maintenance and repair",
          "Other food away from home",
          "Major appliances",
          "Meats",
          "Meats, poultry, and fish",
          "Audio equipment",
          "Baby food",
          "Bacon, breakfast sausage, and related products",
          "Bakery products",
          "Beverages",
          "Boys' and girls' footwear",
          "Boys' apparel",
          "Beverage materials including coffee and tea",
          "Fees for lessons or instructions",
          "Financial services",
          "Funeral expenses",
          "All items",
          "Appliances",
          "Apples",
          "Apparel services other than laundry and dry cleaning",
          "Apparel",
          "Unsampled personal care products",
          "Unsampled recreation commodities",
          "Citrus fruits",
          "Cigarettes",
          "Child care and nursery school",
          "Clocks, lamps, and decorator items",
          "Unsampled household operations",
          "Unsampled furniture",
          "Unsampled owners' equivalent rent of secondary residences",
          "Unsampled appliances",
          "Information and information processing",
          "Infants' and toddlers' apparel",
          "Food from vending machines and mobile vendors",
          "Food away from home",
          "Food at home",
          "Cereals and bakery products",
          "Cereals and cereal products",
          "Frozen fruits and vegetables",
          "Alcoholic beverages at home",
          "Full service meals and snacks",
          "Alcoholic beverages",
          "Alcoholic beverages away from home",
          "Eggs",
          "Club membership for shopping clubs, fraternal, or other organizations, or participant sports fees",
          "Chicken",
          "Bananas",
          "Fish and seafood",
          "Fuel oil",
          "Fruits and vegetables",
          "Fuel oil and other fuels",
          "Frozen noncarbonated juices and drinks",
          "Fuels and utilities",
          "Other food at home",
          "Other fats and oils including peanut butter",
          "Other dairy and related products",
          "Communication",
          "Computer software and accessories",
          "Computers, peripherals, and smart home assistant devices",
          "Cosmetics, perfume, bath, nail preparations and implements",
          "College tuition and fees",
          "Dairy and related products",
          "Delivery services",
          "Distilled spirits at home",
          "Dishes and flatware",
          "Dental services",
          "Domestic services",
          "Coffee",
          "Housing at school, excluding board",
          "Ice cream and related products",
          "Housekeeping supplies",
          "Information technology, hardware and services",
          "Lettuce",
          "Legal services",
          "Living room, kitchen, and dining room furniture",
          "Limited service meals and snacks",
          "Recreation",
          "Public transportation",
          "Recorded music and music subscriptions",
          "Housing",
          "Indoor plants and flowers",
          "Leased cars and trucks",
          "Jewelry and watches",
          "Milk",
          "Men's footwear",
          "Medicinal drugs",
          "Lodging away from home",
          "Meats, poultry, fish, and eggs",
          "Motor fuel",
          "Miscellaneous personal services",
          "Miscellaneous household products",
          "Motor vehicle body work",
          "Motor vehicle fees",
          "Men's shirts and sweaters",
          "Men's suits, sport coats, and outerwear",
          "Men's pants and shorts",
          "Jewelry",
          "Household paper products",
          "Haircuts and other personal care services",
          "Unsampled recreation services",
          "Unsampled sporting goods",
          "Unsampled women's apparel",
          "Unsampled video and audio",
          "Unsampled tuition, other school fees, and childcare",
          "Unsampled tools, hardware, outdoor equipment and supplies",
          "Unsampled tobacco and smoking products",
          "Other fresh fruits",
          "Other fresh vegetables",
          "Energy services",
          "Eyeglasses and eye care",
          "Elementary and high school tuition and fees",
          "Hospital services",
          "Hospital and related services",
          "Beer, ale, and other malt beverages at home",
          "Bread",
          "Candy and chewing gum",
          "Care of invalids and elderly at home",
          "Canned fruits and vegetables",
          "Beef and veal",
          "Cheese and related products",
          "Bedroom furniture",
          "Poultry",
          "Pork",
          "Potatoes",
          "Pork chops",
          "Prescription drugs",
          "Recreational books",
          "Propane, kerosene, and firewood",
          "Postage and delivery services",
          "Postage",
          "Motor vehicle maintenance and servicing",
          "New vehicles",
          "Motor vehicle parts and equipment",
          "Motor vehicle repair",
          "Moving, storage, freight expense",
          "Music instruments and accessories",
          "New and used motor vehicles",
          "Women's apparel",
          "Women's dresses",
          "Women's footwear",
          "Women's outerwear",
          "Women's underwear, nightwear, sportswear, and accessories",
          "Women's suits and separates",
          "Other processed fruits and vegetables including dried",
          "Other pork including roasts, steaks, and ribs",
          "Personal care products",
          "Personal care services",
          "Pet services including veterinary",
          "Owners' equivalent rent of primary residence",
          "Outdoor equipment and supplies",
          "Other video equipment",
          "Owners' equivalent rent of residences",
          "Other sweets",
          "Other recreational goods",
          "Other miscellaneous foods",
          "Other meats",
          "Other lodging away from home including hotels and motels",
          "Other linens",
          "Other intercity transportation",
          "Electricity",
          "Fats and oils",
          "Floor coverings",
          "Food at employee sites and schools",
          "Footwear",
          "Fresh biscuits, rolls, muffins",
          "Fresh fish and seafood",
          "Fresh fruits",
          "Fresh fruits and vegetables",
          "Fresh vegetables",
          "Frozen and freeze dried prepared foods",
          "Watches",
          "Utility (piped) gas service",
          "Medical care services",
          "Medical care commodities",
          "Medical care",
          "Medical equipment and supplies",
          "Transportation",
          "Toys",
          "Tools, hardware, outdoor equipment and supplies",
          "Tools, hardware and supplies",
          "Tobacco products other than cigarettes",
          "Tobacco and smoking products",
          "Tires",
          "Tenants' and household insurance",
          "Household furnishings and operations",
          "Household energy",
          "Water and sewer and trash collection services",
          "Wine at home",
          "Women's and girls' apparel",
          "Window and floor coverings and other linens",
          "Water and sewerage maintenance",
          "Window coverings",
          "Wireless telephone services",
          "Sporting goods",
          "Spices, seasonings, condiments, sauces",
          "Technical and business school tuition and fees",
          "Telephone hardware, calculators, and other consumer information items",
          "Telephone services",
          "Cable and satellite television service",
          "Butter and margarine",
          "Breakfast cereal",
          "Cakes, cupcakes, and cookies",
          "Unsampled photography",
          "Unsampled public transportation",
          "Car and truck rental",
          "Carbonated drinks",
          "Other household equipment and furnishings",
          "Other uncooked poultry including turkey",
          "Other recreation services",
          "Other motor fuels",
          "Personal care",
          "Parking and other fees",
          "Education",
          "Education and communication",
          "Educational books and supplies",
          "Processed fish and seafood",
          "Private transportation",
          "Professional services",
          "Processed fruits and vegetables",
          "Pets, pet products and services",
          "Photographers and photo processing",
          "Photographic equipment and supplies",
          "Photography",
          "Televisions",
          "Sugar and sweets",
          "Tomatoes",
          "Soups",
          "Sports equipment",
          "Tuition, other school fees, and childcare",
          "Rent of primary residence",
          "Uncooked ground beef",
          "Uncooked beef roasts",
          "Uncooked beef steaks",
          "Ham",
          "Household cleaning products",
          "Health insurance",
          "Household operations",
          "Sports vehicles including bicycles",
          "State motor vehicle registration and license fees",
          "Sugar and sugar substitutes",
          "Food",
          "Food and beverages",
          "Flour and prepared flour mixes",
          "Unsampled service policies",
          "Unsampled recreational reading materials",
          "Video discs and other media, including rental of video",
          "Vehicle accessories other than tires",
          "Video and audio",
          "Men's and boys' apparel",
          "Men''s underwear, nightwear, swimwear, and accessories",
          "Men's apparel",
          "Other goods and services",
          "Pets and pet products",
          "Unsampled information and information processing",
          "Unsampled new and used motor vehicles",
          "Unsampled motor vehicle fees",
          "Unsampled men's apparel",
          "Unsampled items",
          "Snacks",
          "Repair of household items",
          "Shelter",
          "Sewing machines, fabric and supplies",
          "Services by other medical professionals",
          "Salad dressing",
          "Rice, pasta, cornmeal",
          "Internet services and electronic information providers",
          "Intracity transportation",
          "Land-line telephone services",
          "Laundry and dry cleaning services",
          "Juices and nonalcoholic drinks",
          "Nonalcoholic beverages and beverage materials",
          "Other bakery products",
          "Other appliances",
          "Nursing homes and adult day services",
          "Nonelectric cookware and tableware",
          "Nonprescription drugs",
          "Nonfrozen noncarbonated juices and drinks",
          "-",
          "Alcoholic beverages",
          "Alcoholic beverages at home",
          "All items",
          "Apparel",
          "Appliances",
          "Bakery products",
          "Beef and veal",
          "Beverage materials including coffee and tea",
          "Beverages",
          "Cereals and bakery products",
          "Cereals and cereal products",
          "Communication",
          "Dairy and related products",
          "Education",
          "Education and communication",
          "Energy services",
          "Fats and oils",
          "Fish and seafood",
          "Food",
          "Food and beverages",
          "Food at home",
          "Food away from home",
          "Footwear",
          "Fresh fruits",
          "Fresh fruits and vegetables",
          "Fresh vegetables",
          "Fruits and vegetables",
          "Fuel oil and other fuels",
          "Fuels and utilities",
          "Furniture and bedding",
          "Hospital and related services",
          "Household energy",
          "Household furnishings and operations",
          "Household operations",
          "Housekeeping supplies",
          "Housing",
          "Information and information processing",
          "Information technology, hardware and services",
          "Jewelry and watches",
          "Juices and nonalcoholic drinks",
          "Lodging away from home",
          "Meats",
          "Meats, poultry, and fish",
          "Meats, poultry, fish, and eggs",
          "Medical care",
          "Medical care commodities",
          "Medical care services",
          "Medicinal drugs",
          "Men's and boys' apparel",
          "Men's apparel",
          "Miscellaneous personal services",
          "Motor fuel",
          "Motor vehicle fees",
          "Motor vehicle maintenance and repair",
          "Motor vehicle parts and equipment",
          "New and used motor vehicles",
          "Nonalcoholic beverages and beverage materials",
          "Other food at home",
          "Other foods",
          "Other goods and services",
          "Other household equipment and furnishings",
          "Other recreation services",
          "Other recreational goods",
          "Owners' equivalent rent of residences",
          "Personal care",
          "Personal care products",
          "Personal care services",
          "Pets, pet products and services",
          "Photography",
          "Pork",
          "Postage and delivery services",
          "Poultry",
          "Private transportation",
          "Processed fruits and vegetables",
          "Professional services",
          "Public transportation",
          "Recreation",
          "Recreational reading materials",
          "Shelter",
          "Sporting goods",
          "Sugar and sweets",
          "Telephone services",
          "Tobacco and smoking products",
          "Tools, hardware, outdoor equipment and supplies",
          "Transportation",
          "Tuition, other school fees, and childcare",
          "Video and audio",
          "Water and sewer and trash collection services",
          "Window and floor coverings and other linens",
          "Women's and girls' apparel",
          "Women's apparel"
         ],
         "marker": {
          "colors": [
           "#636efa",
           "#EF553B",
           "#00cc96",
           "#ab63fa",
           "#FFA15A",
           "#19d3f3",
           "#FF6692",
           "#B6E880",
           "#FF97FF",
           "#FECB52",
           "#636efa",
           "#EF553B",
           "#00cc96",
           "#ab63fa",
           "#FFA15A",
           "#19d3f3",
           "#FF6692",
           "#FECB52",
           "#B6E880",
           "#FF97FF",
           "#FECB52",
           "#636efa",
           "#EF553B",
           "#00cc96",
           "#ab63fa",
           "#FFA15A",
           "#19d3f3",
           "#FF6692",
           "#B6E880",
           "#FF97FF",
           "#636efa",
           "#FECB52",
           "#FECB52",
           "#636efa",
           "#00cc96",
           "#EF553B",
           "#FECB52",
           "#00cc96",
           "#EF553B",
           "#ab63fa",
           "#EF553B",
           "#FFA15A",
           "#19d3f3",
           "#FF6692",
           "#FFA15A",
           "#FF97FF",
           "#B6E880",
           "#FF97FF",
           "#FF97FF",
           "#FECB52",
           "#B6E880",
           "#636efa",
           "#636efa",
           "#EF553B",
           "#FFA15A",
           "#00cc96",
           "#ab63fa",
           "#B6E880",
           "#FFA15A",
           "#ab63fa",
           "#636efa",
           "#636efa",
           "#19d3f3",
           "#EF553B",
           "#FECB52",
           "#FF6692",
           "#EF553B",
           "#B6E880",
           "#FF97FF",
           "#FECB52",
           "#EF553B",
           "#636efa",
           "#EF553B",
           "#00cc96",
           "#ab63fa",
           "#ab63fa",
           "#EF553B",
           "#19d3f3",
           "#EF553B",
           "#FFA15A",
           "#19d3f3",
           "#FF6692",
           "#B6E880",
           "#FFA15A",
           "#19d3f3",
           "#FF6692",
           "#EF553B",
           "#00cc96",
           "#B6E880",
           "#FF97FF",
           "#FECB52",
           "#FF97FF",
           "#B6E880",
           "#00cc96",
           "#FECB52",
           "#EF553B",
           "#00cc96",
           "#FF6692",
           "#FF6692",
           "#FECB52",
           "#EF553B",
           "#FF6692",
           "#636efa",
           "#EF553B",
           "#EF553B",
           "#FECB52",
           "#00cc96",
           "#ab63fa",
           "#FFA15A",
           "#FECB52",
           "#19d3f3",
           "#19d3f3",
           "#19d3f3",
           "#FF6692",
           "#ab63fa",
           "#B6E880",
           "#636efa",
           "#FF97FF",
           "#FECB52",
           "#EF553B",
           "#19d3f3",
           "#636efa",
           "#FFA15A",
           "#EF553B",
           "#FF97FF",
           "#B6E880",
           "#B6E880",
           "#19d3f3",
           "#EF553B",
           "#00cc96",
           "#19d3f3",
           "#ab63fa",
           "#FFA15A",
           "#EF553B",
           "#00cc96",
           "#19d3f3",
           "#EF553B",
           "#FF97FF",
           "#FECB52",
           "#19d3f3",
           "#FF97FF",
           "#ab63fa",
           "#FF6692",
           "#FFA15A",
           "#FF6692",
           "#FF97FF",
           "#FFA15A",
           "#FFA15A",
           "#FF6692",
           "#FECB52",
           "#FFA15A",
           "#FFA15A",
           "#ab63fa",
           "#FECB52",
           "#EF553B",
           "#FECB52",
           "#FF6692",
           "#FECB52",
           "#FECB52",
           "#FECB52",
           "#00cc96",
           "#ab63fa",
           "#00cc96",
           "#00cc96",
           "#B6E880",
           "#B6E880",
           "#636efa",
           "#EF553B",
           "#EF553B",
           "#FFA15A",
           "#636efa",
           "#00cc96",
           "#19d3f3",
           "#FF6692",
           "#FF97FF",
           "#00cc96",
           "#FECB52",
           "#FF6692",
           "#FF97FF",
           "#B6E880",
           "#FECB52",
           "#ab63fa",
           "#636efa",
           "#EF553B",
           "#00cc96",
           "#EF553B",
           "#00cc96",
           "#FF6692",
           "#FECB52",
           "#ab63fa",
           "#ab63fa",
           "#00cc96",
           "#636efa",
           "#00cc96",
           "#ab63fa",
           "#00cc96",
           "#636efa",
           "#FFA15A",
           "#FFA15A",
           "#19d3f3",
           "#EF553B",
           "#FECB52",
           "#FF6692",
           "#FF6692",
           "#19d3f3",
           "#FECB52",
           "#00cc96",
           "#19d3f3",
           "#FF97FF",
           "#B6E880",
           "#636efa",
           "#00cc96",
           "#19d3f3",
           "#ab63fa",
           "#B6E880",
           "#EF553B",
           "#636efa",
           "#FF97FF",
           "#ab63fa",
           "#FECB52",
           "#00cc96",
           "#FF6692",
           "#FF97FF",
           "#00cc96",
           "#19d3f3",
           "#636efa",
           "#ab63fa",
           "#FFA15A",
           "#636efa",
           "#00cc96",
           "#00cc96",
           "#EF553B",
           "#636efa",
           "#FECB52",
           "#00cc96",
           "#00cc96",
           "#636efa",
           "#FECB52",
           "#FECB52",
           "#636efa",
           "#EF553B",
           "#FF6692",
           "#FF97FF",
           "#00cc96",
           "#FF97FF",
           "#EF553B",
           "#EF553B",
           "#ab63fa",
           "#ab63fa",
           "#ab63fa",
           "#ab63fa",
           "#ab63fa",
           "#00cc96",
           "#00cc96",
           "#FF97FF",
           "#636efa",
           "#FFA15A",
           "#19d3f3",
           "#00cc96",
           "#FF97FF",
           "#FFA15A",
           "#FFA15A",
           "#EF553B",
           "#19d3f3",
           "#636efa",
           "#FECB52",
           "#19d3f3",
           "#B6E880",
           "#00cc96",
           "#B6E880",
           "#ab63fa",
           "#FF6692",
           "#636efa",
           "#19d3f3",
           "#FECB52",
           "#00cc96",
           "#FFA15A",
           "#FECB52",
           "#ab63fa",
           "#B6E880",
           "#636efa",
           "#FF97FF",
           "#ab63fa",
           "#00cc96",
           "#B6E880",
           "#FECB52",
           "#FF97FF",
           "#EF553B",
           "#ab63fa",
           "#FF97FF",
           "#EF553B",
           "#FF6692",
           "#FF6692",
           "#FF97FF",
           "#636efa",
           "#ab63fa",
           "#19d3f3",
           "#00cc96",
           "#FECB52",
           "#FF97FF",
           "#ab63fa",
           "#ab63fa",
           "#19d3f3",
           "#FFA15A",
           "#FFA15A",
           "#FF97FF",
           "#FF97FF",
           "#EF553B",
           "#EF553B",
           "#00cc96",
           "#FECB52",
           "#636efa",
           "#636efa",
           "#636efa",
           "#19d3f3",
           "#EF553B",
           "#B6E880",
           "#FF6692",
           "#EF553B",
           "#EF553B",
           "#FF97FF",
           "#00cc96",
           "#FF6692",
           "#FF6692",
           "#FF97FF",
           "#EF553B",
           "#B6E880",
           "#00cc96",
           "#FFA15A",
           "#ab63fa",
           "#FECB52",
           "#B6E880",
           "#ab63fa",
           "#FF6692",
           "#FF97FF",
           "#FF6692",
           "#19d3f3",
           "#FECB52",
           "#636efa",
           "#ab63fa",
           "#636efa",
           "#00cc96",
           "#FF6692",
           "#B6E880",
           "#19d3f3",
           "#FECB52",
           "#ab63fa",
           "#636efa",
           "#FFA15A",
           "#19d3f3",
           "#FF6692",
           "#FF97FF",
           "#FF6692",
           "#00cc96",
           "#FFA15A",
           "#FF6692",
           "#636efa",
           "#ab63fa",
           "#B6E880",
           "#00cc96",
           "#EF553B",
           "#B6E880",
           "#B6E880",
           "#FECB52",
           "#ab63fa",
           "#FFA15A",
           "#19d3f3",
           "#FECB52",
           "#00cc96",
           "#B6E880",
           "#00cc96",
           "#636efa",
           "#FFA15A",
           "#EF553B",
           "#FF97FF",
           "#FFA15A",
           "#B6E880",
           "#FFA15A",
           "#636efa",
           "#FECB52",
           "#19d3f3",
           "#EF553B",
           "#19d3f3",
           "#FF97FF",
           "#EF553B",
           "#FECB52"
          ]
         },
         "maxdepth": 1,
         "name": "",
         "parents": [
          "Other recreation services",
          "Women's and girls' apparel",
          "Household furnishings and operations",
          "Motor fuel",
          "Household operations",
          "Water and sewer and trash collection services",
          "New and used motor vehicles",
          "Professional services",
          "Furniture and bedding",
          "Private transportation",
          "Recreation",
          "Personal care products",
          "Public transportation",
          "Beef and veal",
          "Recreational reading materials",
          "Beverage materials including coffee and tea",
          "Other food at home",
          "Private transportation",
          "Food away from home",
          "Appliances",
          "Meats, poultry, and fish",
          "Meats, poultry, fish, and eggs",
          "Video and audio",
          "Other foods",
          "Pork",
          "Cereals and bakery products",
          "Food and beverages",
          "Footwear",
          "Men's and boys' apparel",
          "Nonalcoholic beverages and beverage materials",
          "Other recreation services",
          "Miscellaneous personal services",
          "Miscellaneous personal services",
          "-",
          "Household furnishings and operations",
          "Fresh fruits",
          "Miscellaneous personal services",
          "All items",
          "Personal care products",
          "Other recreational goods",
          "Fresh fruits",
          "Tobacco and smoking products",
          "Tuition, other school fees, and childcare",
          "Other household equipment and furnishings",
          "Household operations",
          "Furniture and bedding",
          "Owners' equivalent rent of residences",
          "Appliances",
          "Communication",
          "Apparel",
          "Food away from home",
          "Food",
          "Food",
          "Food at home",
          "Cereals and bakery products",
          "Processed fruits and vegetables",
          "Alcoholic beverages",
          "Food away from home",
          "Beverages",
          "Alcoholic beverages",
          "Meats, poultry, fish, and eggs",
          "Other recreation services",
          "Poultry",
          "Fresh fruits",
          "Meats, poultry, and fish",
          "Fuel oil and other fuels",
          "Food at home",
          "Household energy",
          "Juices and nonalcoholic drinks",
          "Housing",
          "Food at home",
          "Fats and oils",
          "Dairy and related products",
          "Education and communication",
          "Information technology, hardware and services",
          "Information technology, hardware and services",
          "Personal care products",
          "Tuition, other school fees, and childcare",
          "Food at home",
          "Postage and delivery services",
          "Alcoholic beverages at home",
          "Other household equipment and furnishings",
          "Professional services",
          "Household operations",
          "Beverage materials including coffee and tea",
          "Lodging away from home",
          "Dairy and related products",
          "Household furnishings and operations",
          "Information and information processing",
          "Fresh vegetables",
          "Miscellaneous personal services",
          "Furniture and bedding",
          "Food away from home",
          "All items",
          "Transportation",
          "Video and audio",
          "All items",
          "Other household equipment and furnishings",
          "New and used motor vehicles",
          "Apparel",
          "Dairy and related products",
          "Footwear",
          "Medical care commodities",
          "Shelter",
          "Food at home",
          "Private transportation",
          "Personal care",
          "Housekeeping supplies",
          "Motor vehicle maintenance and repair",
          "Private transportation",
          "Men's apparel",
          "Men's apparel",
          "Men's apparel",
          "Jewelry and watches",
          "Housekeeping supplies",
          "Personal care services",
          "Other recreation services",
          "Sporting goods",
          "Women's apparel",
          "Video and audio",
          "Tuition, other school fees, and childcare",
          "Tools, hardware, outdoor equipment and supplies",
          "Tobacco and smoking products",
          "Fresh fruits",
          "Fresh vegetables",
          "Household energy",
          "Professional services",
          "Tuition, other school fees, and childcare",
          "Hospital and related services",
          "Medical care services",
          "Alcoholic beverages at home",
          "Bakery products",
          "Sugar and sweets",
          "Hospital and related services",
          "Processed fruits and vegetables",
          "Meats",
          "Dairy and related products",
          "Furniture and bedding",
          "Meats, poultry, and fish",
          "Meats",
          "Fresh vegetables",
          "Pork",
          "Medicinal drugs",
          "Recreational reading materials",
          "Fuel oil and other fuels",
          "Communication",
          "Postage and delivery services",
          "Motor vehicle maintenance and repair",
          "New and used motor vehicles",
          "Private transportation",
          "Motor vehicle maintenance and repair",
          "Household operations",
          "Other recreational goods",
          "Private transportation",
          "Women's and girls' apparel",
          "Women's apparel",
          "Footwear",
          "Women's apparel",
          "Women's apparel",
          "Women's apparel",
          "Processed fruits and vegetables",
          "Pork",
          "Personal care",
          "Personal care",
          "Pets, pet products and services",
          "Owners' equivalent rent of residences",
          "Tools, hardware, outdoor equipment and supplies",
          "Video and audio",
          "Shelter",
          "Sugar and sweets",
          "Recreation",
          "Other foods",
          "Meats",
          "Lodging away from home",
          "Window and floor coverings and other linens",
          "Public transportation",
          "Energy services",
          "Other food at home",
          "Window and floor coverings and other linens",
          "Food away from home",
          "Apparel",
          "Bakery products",
          "Fish and seafood",
          "Fresh fruits and vegetables",
          "Fruits and vegetables",
          "Fresh fruits and vegetables",
          "Other foods",
          "Jewelry and watches",
          "Energy services",
          "Medical care",
          "Medical care",
          "All items",
          "Medical care commodities",
          "All items",
          "Other recreational goods",
          "Household furnishings and operations",
          "Tools, hardware, outdoor equipment and supplies",
          "Tobacco and smoking products",
          "Other goods and services",
          "Motor vehicle parts and equipment",
          "Shelter",
          "Housing",
          "Fuels and utilities",
          "Fuels and utilities",
          "Alcoholic beverages at home",
          "Apparel",
          "Household furnishings and operations",
          "Water and sewer and trash collection services",
          "Window and floor coverings and other linens",
          "Telephone services",
          "Recreation",
          "Other foods",
          "Tuition, other school fees, and childcare",
          "Information technology, hardware and services",
          "Information and information processing",
          "Video and audio",
          "Fats and oils",
          "Cereals and cereal products",
          "Bakery products",
          "Photography",
          "Public transportation",
          "New and used motor vehicles",
          "Juices and nonalcoholic drinks",
          "Household furnishings and operations",
          "Poultry",
          "Recreation",
          "Motor fuel",
          "Other goods and services",
          "Motor vehicle fees",
          "Education and communication",
          "All items",
          "Education",
          "Fish and seafood",
          "Transportation",
          "Medical care services",
          "Fruits and vegetables",
          "Recreation",
          "Photography",
          "Photography",
          "Recreation",
          "Video and audio",
          "Other food at home",
          "Fresh vegetables",
          "Other foods",
          "Sporting goods",
          "Education",
          "Shelter",
          "Beef and veal",
          "Beef and veal",
          "Beef and veal",
          "Pork",
          "Housekeeping supplies",
          "Medical care services",
          "Household furnishings and operations",
          "Sporting goods",
          "Motor vehicle fees",
          "Sugar and sweets",
          "Food and beverages",
          "All items",
          "Cereals and cereal products",
          "Motor vehicle maintenance and repair",
          "Recreational reading materials",
          "Video and audio",
          "Motor vehicle parts and equipment",
          "Recreation",
          "Apparel",
          "Men's apparel",
          "Men's and boys' apparel",
          "All items",
          "Pets, pet products and services",
          "Information technology, hardware and services",
          "New and used motor vehicles",
          "Motor vehicle fees",
          "Men's apparel",
          "Miscellaneous personal services",
          "Other foods",
          "Household operations",
          "Housing",
          "Other recreational goods",
          "Professional services",
          "Fats and oils",
          "Cereals and cereal products",
          "Information technology, hardware and services",
          "Public transportation",
          "Telephone services",
          "Miscellaneous personal services",
          "Nonalcoholic beverages and beverage materials",
          "Food at home",
          "Bakery products",
          "Appliances",
          "Hospital and related services",
          "Other household equipment and furnishings",
          "Medicinal drugs",
          "Juices and nonalcoholic drinks",
          "",
          "",
          "",
          "",
          "",
          "",
          "",
          "",
          "",
          "",
          "",
          "",
          "",
          "",
          "",
          "",
          "",
          "",
          "",
          "",
          "",
          "",
          "",
          "",
          "",
          "",
          "",
          "",
          "",
          "",
          "",
          "",
          "",
          "",
          "",
          "",
          "",
          "",
          "",
          "",
          "",
          "",
          "",
          "",
          "",
          "",
          "",
          "",
          "",
          "",
          "",
          "",
          "",
          "",
          "",
          "",
          "",
          "",
          "",
          "",
          "",
          "",
          "",
          "",
          "",
          "",
          "",
          "",
          "",
          "",
          "",
          "",
          "",
          "",
          "",
          "",
          "",
          "",
          "",
          "",
          "",
          "",
          "",
          "",
          "",
          "",
          "",
          "",
          "",
          "",
          "",
          ""
         ],
         "type": "sunburst",
         "values": [
          0.688,
          0.2,
          0.944,
          2.811,
          0.31,
          0.297,
          2.75,
          1.817,
          0.152,
          1.598,
          0.12,
          0.364,
          0.633,
          0.044,
          0.068,
          0.095,
          1.489,
          1.099,
          0.174,
          0.078,
          1.026,
          1.637,
          0.079,
          0.042,
          0.134,
          0.693,
          1.038,
          0.136,
          0.134,
          0.264,
          0.218,
          0.229,
          0.14,
          100,
          0.22,
          0.073,
          0.03,
          2.663,
          0.008,
          0.016,
          0.136,
          0.529,
          0.768,
          0.313,
          0.08,
          0.009,
          1.218,
          0.003,
          3.666,
          0.125,
          0.08,
          6.347,
          7.772,
          1.001,
          0.308,
          0.086,
          0.58,
          3.176,
          1.038,
          0.458,
          0.099,
          0.689,
          0.273,
          0.074,
          0.278,
          0.084,
          1.341,
          0.145,
          0.006,
          4.387,
          1.972,
          0.098,
          0.197,
          3.777,
          0.018,
          0.297,
          0.306,
          1.569,
          0.792,
          0.01,
          0.094,
          0.052,
          1.005,
          0.302,
          0.169,
          0.118,
          0.111,
          0.922,
          1.297,
          0.068,
          0.25,
          0.454,
          2.787,
          5.797,
          1.105,
          0.045,
          42.385,
          0.093,
          0.641,
          0.153,
          0.218,
          0.224,
          1.515,
          0.825,
          1.736,
          2.875,
          0.981,
          0.32,
          0.059,
          0.565,
          0.15,
          0.088,
          0.13,
          0.114,
          0.235,
          0.694,
          0.321,
          0.01,
          0.009,
          0.012,
          0.119,
          0.19,
          0.019,
          0.254,
          0.29,
          3.135,
          0.365,
          0.431,
          2.221,
          2.419,
          0.223,
          0.2,
          0.18,
          0.073,
          0.15,
          0.471,
          0.266,
          0.329,
          0.333,
          0.322,
          0.075,
          0.052,
          1.141,
          0.05,
          0.061,
          0.111,
          0.101,
          0.635,
          3.756,
          0.393,
          0.345,
          0.091,
          0.046,
          7.525,
          0.875,
          0.092,
          0.284,
          0.062,
          0.265,
          0.446,
          0.052,
          0.075,
          0.678,
          0.694,
          0.56,
          23.044,
          0.459,
          0.042,
          24.263,
          0.053,
          0.356,
          0.469,
          0.233,
          0.707,
          0.151,
          0.182,
          2.425,
          0.212,
          0.062,
          0.13,
          0.644,
          0.101,
          0.14,
          0.538,
          1.053,
          0.516,
          0.259,
          0.04,
          0.71,
          7.289,
          1.58,
          8.87,
          0.066,
          15.16,
          0.274,
          0.892,
          0.243,
          0.06,
          0.608,
          0.249,
          0.366,
          4.682,
          3.28,
          1.107,
          0.263,
          1.075,
          0.271,
          0.81,
          0.058,
          1.96,
          0.604,
          0.29,
          0.037,
          0.077,
          2.369,
          1.192,
          0.063,
          0.142,
          0.178,
          0.001,
          0.003,
          0.134,
          0.278,
          0.535,
          0.06,
          1.916,
          0.064,
          2.551,
          0.254,
          3.033,
          6.81,
          0.109,
          0.138,
          14.055,
          3.662,
          0.288,
          1.192,
          0.044,
          0.026,
          0.071,
          0.091,
          0.27,
          0.082,
          0.089,
          0.232,
          2.924,
          7.862,
          0.173,
          0.073,
          0.18,
          0.062,
          0.367,
          1.209,
          0.899,
          0.361,
          0.297,
          0.037,
          14.119,
          15.157,
          0.041,
          0.06,
          0.002,
          0.076,
          0.144,
          1.537,
          0.666,
          0.158,
          0.532,
          3.159,
          0.632,
          0.012,
          0.244,
          0.015,
          0.005,
          0.111,
          0.34,
          0.116,
          33.316,
          0.02,
          0.474,
          0.051,
          0.124,
          0.893,
          0.287,
          0.41,
          0.22,
          0.666,
          0.93,
          0.214,
          0.14,
          0.124,
          0.077,
          0.374,
          0.382,
          100,
          1.038,
          0.5800000000000001,
          100.00099999999999,
          2.663,
          0.22100000000000003,
          0.6930000000000001,
          0.47,
          0.264,
          1.038,
          1.001,
          0.307,
          3.777,
          0.792,
          3.033,
          6.8100000000000005,
          3.135,
          0.212,
          0.278,
          14.119,
          15.157,
          7.772,
          6.347,
          0.644,
          0.537,
          1.054,
          0.515,
          1.341,
          0.14500000000000002,
          4.387,
          0.9440000000000001,
          2.418,
          3.28,
          4.683,
          0.899,
          0.9219999999999999,
          42.385000000000005,
          3.6660000000000004,
          1.297,
          0.154,
          0.666,
          0.825,
          1.026,
          1.637,
          1.736,
          8.869,
          1.581,
          7.29,
          1.5150000000000001,
          0.666,
          0.531,
          0.98,
          2.875,
          0.566,
          1.099,
          0.393,
          7.5249999999999995,
          0.93,
          1.971,
          1.4889999999999999,
          3.1590000000000003,
          0.535,
          1.916,
          0.35600000000000004,
          24.262,
          2.3529999999999998,
          0.6779999999999999,
          0.694,
          1.1920000000000002,
          0.071,
          0.323,
          0.111,
          0.333,
          14.055,
          0.288,
          3.6609999999999996,
          1.105,
          5.795999999999999,
          0.12000000000000001,
          33.316,
          0.603,
          0.27,
          2.37,
          0.608,
          0.892,
          15.16,
          2.924,
          1.537,
          1.107,
          0.271,
          1.075,
          0.874
         ]
        }
       ],
       "layout": {
        "font": {
         "size": 10
        },
        "legend": {
         "tracegroupgap": 0
        },
        "margin": {
         "t": 60
        },
        "template": {
         "data": {
          "bar": [
           {
            "error_x": {
             "color": "#2a3f5f"
            },
            "error_y": {
             "color": "#2a3f5f"
            },
            "marker": {
             "line": {
              "color": "#E5ECF6",
              "width": 0.5
             },
             "pattern": {
              "fillmode": "overlay",
              "size": 10,
              "solidity": 0.2
             }
            },
            "type": "bar"
           }
          ],
          "barpolar": [
           {
            "marker": {
             "line": {
              "color": "#E5ECF6",
              "width": 0.5
             },
             "pattern": {
              "fillmode": "overlay",
              "size": 10,
              "solidity": 0.2
             }
            },
            "type": "barpolar"
           }
          ],
          "carpet": [
           {
            "aaxis": {
             "endlinecolor": "#2a3f5f",
             "gridcolor": "white",
             "linecolor": "white",
             "minorgridcolor": "white",
             "startlinecolor": "#2a3f5f"
            },
            "baxis": {
             "endlinecolor": "#2a3f5f",
             "gridcolor": "white",
             "linecolor": "white",
             "minorgridcolor": "white",
             "startlinecolor": "#2a3f5f"
            },
            "type": "carpet"
           }
          ],
          "choropleth": [
           {
            "colorbar": {
             "outlinewidth": 0,
             "ticks": ""
            },
            "type": "choropleth"
           }
          ],
          "contour": [
           {
            "colorbar": {
             "outlinewidth": 0,
             "ticks": ""
            },
            "colorscale": [
             [
              0,
              "#0d0887"
             ],
             [
              0.1111111111111111,
              "#46039f"
             ],
             [
              0.2222222222222222,
              "#7201a8"
             ],
             [
              0.3333333333333333,
              "#9c179e"
             ],
             [
              0.4444444444444444,
              "#bd3786"
             ],
             [
              0.5555555555555556,
              "#d8576b"
             ],
             [
              0.6666666666666666,
              "#ed7953"
             ],
             [
              0.7777777777777778,
              "#fb9f3a"
             ],
             [
              0.8888888888888888,
              "#fdca26"
             ],
             [
              1,
              "#f0f921"
             ]
            ],
            "type": "contour"
           }
          ],
          "contourcarpet": [
           {
            "colorbar": {
             "outlinewidth": 0,
             "ticks": ""
            },
            "type": "contourcarpet"
           }
          ],
          "heatmap": [
           {
            "colorbar": {
             "outlinewidth": 0,
             "ticks": ""
            },
            "colorscale": [
             [
              0,
              "#0d0887"
             ],
             [
              0.1111111111111111,
              "#46039f"
             ],
             [
              0.2222222222222222,
              "#7201a8"
             ],
             [
              0.3333333333333333,
              "#9c179e"
             ],
             [
              0.4444444444444444,
              "#bd3786"
             ],
             [
              0.5555555555555556,
              "#d8576b"
             ],
             [
              0.6666666666666666,
              "#ed7953"
             ],
             [
              0.7777777777777778,
              "#fb9f3a"
             ],
             [
              0.8888888888888888,
              "#fdca26"
             ],
             [
              1,
              "#f0f921"
             ]
            ],
            "type": "heatmap"
           }
          ],
          "heatmapgl": [
           {
            "colorbar": {
             "outlinewidth": 0,
             "ticks": ""
            },
            "colorscale": [
             [
              0,
              "#0d0887"
             ],
             [
              0.1111111111111111,
              "#46039f"
             ],
             [
              0.2222222222222222,
              "#7201a8"
             ],
             [
              0.3333333333333333,
              "#9c179e"
             ],
             [
              0.4444444444444444,
              "#bd3786"
             ],
             [
              0.5555555555555556,
              "#d8576b"
             ],
             [
              0.6666666666666666,
              "#ed7953"
             ],
             [
              0.7777777777777778,
              "#fb9f3a"
             ],
             [
              0.8888888888888888,
              "#fdca26"
             ],
             [
              1,
              "#f0f921"
             ]
            ],
            "type": "heatmapgl"
           }
          ],
          "histogram": [
           {
            "marker": {
             "pattern": {
              "fillmode": "overlay",
              "size": 10,
              "solidity": 0.2
             }
            },
            "type": "histogram"
           }
          ],
          "histogram2d": [
           {
            "colorbar": {
             "outlinewidth": 0,
             "ticks": ""
            },
            "colorscale": [
             [
              0,
              "#0d0887"
             ],
             [
              0.1111111111111111,
              "#46039f"
             ],
             [
              0.2222222222222222,
              "#7201a8"
             ],
             [
              0.3333333333333333,
              "#9c179e"
             ],
             [
              0.4444444444444444,
              "#bd3786"
             ],
             [
              0.5555555555555556,
              "#d8576b"
             ],
             [
              0.6666666666666666,
              "#ed7953"
             ],
             [
              0.7777777777777778,
              "#fb9f3a"
             ],
             [
              0.8888888888888888,
              "#fdca26"
             ],
             [
              1,
              "#f0f921"
             ]
            ],
            "type": "histogram2d"
           }
          ],
          "histogram2dcontour": [
           {
            "colorbar": {
             "outlinewidth": 0,
             "ticks": ""
            },
            "colorscale": [
             [
              0,
              "#0d0887"
             ],
             [
              0.1111111111111111,
              "#46039f"
             ],
             [
              0.2222222222222222,
              "#7201a8"
             ],
             [
              0.3333333333333333,
              "#9c179e"
             ],
             [
              0.4444444444444444,
              "#bd3786"
             ],
             [
              0.5555555555555556,
              "#d8576b"
             ],
             [
              0.6666666666666666,
              "#ed7953"
             ],
             [
              0.7777777777777778,
              "#fb9f3a"
             ],
             [
              0.8888888888888888,
              "#fdca26"
             ],
             [
              1,
              "#f0f921"
             ]
            ],
            "type": "histogram2dcontour"
           }
          ],
          "mesh3d": [
           {
            "colorbar": {
             "outlinewidth": 0,
             "ticks": ""
            },
            "type": "mesh3d"
           }
          ],
          "parcoords": [
           {
            "line": {
             "colorbar": {
              "outlinewidth": 0,
              "ticks": ""
             }
            },
            "type": "parcoords"
           }
          ],
          "pie": [
           {
            "automargin": true,
            "type": "pie"
           }
          ],
          "scatter": [
           {
            "fillpattern": {
             "fillmode": "overlay",
             "size": 10,
             "solidity": 0.2
            },
            "type": "scatter"
           }
          ],
          "scatter3d": [
           {
            "line": {
             "colorbar": {
              "outlinewidth": 0,
              "ticks": ""
             }
            },
            "marker": {
             "colorbar": {
              "outlinewidth": 0,
              "ticks": ""
             }
            },
            "type": "scatter3d"
           }
          ],
          "scattercarpet": [
           {
            "marker": {
             "colorbar": {
              "outlinewidth": 0,
              "ticks": ""
             }
            },
            "type": "scattercarpet"
           }
          ],
          "scattergeo": [
           {
            "marker": {
             "colorbar": {
              "outlinewidth": 0,
              "ticks": ""
             }
            },
            "type": "scattergeo"
           }
          ],
          "scattergl": [
           {
            "marker": {
             "colorbar": {
              "outlinewidth": 0,
              "ticks": ""
             }
            },
            "type": "scattergl"
           }
          ],
          "scattermapbox": [
           {
            "marker": {
             "colorbar": {
              "outlinewidth": 0,
              "ticks": ""
             }
            },
            "type": "scattermapbox"
           }
          ],
          "scatterpolar": [
           {
            "marker": {
             "colorbar": {
              "outlinewidth": 0,
              "ticks": ""
             }
            },
            "type": "scatterpolar"
           }
          ],
          "scatterpolargl": [
           {
            "marker": {
             "colorbar": {
              "outlinewidth": 0,
              "ticks": ""
             }
            },
            "type": "scatterpolargl"
           }
          ],
          "scatterternary": [
           {
            "marker": {
             "colorbar": {
              "outlinewidth": 0,
              "ticks": ""
             }
            },
            "type": "scatterternary"
           }
          ],
          "surface": [
           {
            "colorbar": {
             "outlinewidth": 0,
             "ticks": ""
            },
            "colorscale": [
             [
              0,
              "#0d0887"
             ],
             [
              0.1111111111111111,
              "#46039f"
             ],
             [
              0.2222222222222222,
              "#7201a8"
             ],
             [
              0.3333333333333333,
              "#9c179e"
             ],
             [
              0.4444444444444444,
              "#bd3786"
             ],
             [
              0.5555555555555556,
              "#d8576b"
             ],
             [
              0.6666666666666666,
              "#ed7953"
             ],
             [
              0.7777777777777778,
              "#fb9f3a"
             ],
             [
              0.8888888888888888,
              "#fdca26"
             ],
             [
              1,
              "#f0f921"
             ]
            ],
            "type": "surface"
           }
          ],
          "table": [
           {
            "cells": {
             "fill": {
              "color": "#EBF0F8"
             },
             "line": {
              "color": "white"
             }
            },
            "header": {
             "fill": {
              "color": "#C8D4E3"
             },
             "line": {
              "color": "white"
             }
            },
            "type": "table"
           }
          ]
         },
         "layout": {
          "annotationdefaults": {
           "arrowcolor": "#2a3f5f",
           "arrowhead": 0,
           "arrowwidth": 1
          },
          "autotypenumbers": "strict",
          "coloraxis": {
           "colorbar": {
            "outlinewidth": 0,
            "ticks": ""
           }
          },
          "colorscale": {
           "diverging": [
            [
             0,
             "#8e0152"
            ],
            [
             0.1,
             "#c51b7d"
            ],
            [
             0.2,
             "#de77ae"
            ],
            [
             0.3,
             "#f1b6da"
            ],
            [
             0.4,
             "#fde0ef"
            ],
            [
             0.5,
             "#f7f7f7"
            ],
            [
             0.6,
             "#e6f5d0"
            ],
            [
             0.7,
             "#b8e186"
            ],
            [
             0.8,
             "#7fbc41"
            ],
            [
             0.9,
             "#4d9221"
            ],
            [
             1,
             "#276419"
            ]
           ],
           "sequential": [
            [
             0,
             "#0d0887"
            ],
            [
             0.1111111111111111,
             "#46039f"
            ],
            [
             0.2222222222222222,
             "#7201a8"
            ],
            [
             0.3333333333333333,
             "#9c179e"
            ],
            [
             0.4444444444444444,
             "#bd3786"
            ],
            [
             0.5555555555555556,
             "#d8576b"
            ],
            [
             0.6666666666666666,
             "#ed7953"
            ],
            [
             0.7777777777777778,
             "#fb9f3a"
            ],
            [
             0.8888888888888888,
             "#fdca26"
            ],
            [
             1,
             "#f0f921"
            ]
           ],
           "sequentialminus": [
            [
             0,
             "#0d0887"
            ],
            [
             0.1111111111111111,
             "#46039f"
            ],
            [
             0.2222222222222222,
             "#7201a8"
            ],
            [
             0.3333333333333333,
             "#9c179e"
            ],
            [
             0.4444444444444444,
             "#bd3786"
            ],
            [
             0.5555555555555556,
             "#d8576b"
            ],
            [
             0.6666666666666666,
             "#ed7953"
            ],
            [
             0.7777777777777778,
             "#fb9f3a"
            ],
            [
             0.8888888888888888,
             "#fdca26"
            ],
            [
             1,
             "#f0f921"
            ]
           ]
          },
          "colorway": [
           "#636efa",
           "#EF553B",
           "#00cc96",
           "#ab63fa",
           "#FFA15A",
           "#19d3f3",
           "#FF6692",
           "#B6E880",
           "#FF97FF",
           "#FECB52"
          ],
          "font": {
           "color": "#2a3f5f"
          },
          "geo": {
           "bgcolor": "white",
           "lakecolor": "white",
           "landcolor": "#E5ECF6",
           "showlakes": true,
           "showland": true,
           "subunitcolor": "white"
          },
          "hoverlabel": {
           "align": "left"
          },
          "hovermode": "closest",
          "mapbox": {
           "style": "light"
          },
          "paper_bgcolor": "white",
          "plot_bgcolor": "#E5ECF6",
          "polar": {
           "angularaxis": {
            "gridcolor": "white",
            "linecolor": "white",
            "ticks": ""
           },
           "bgcolor": "#E5ECF6",
           "radialaxis": {
            "gridcolor": "white",
            "linecolor": "white",
            "ticks": ""
           }
          },
          "scene": {
           "xaxis": {
            "backgroundcolor": "#E5ECF6",
            "gridcolor": "white",
            "gridwidth": 2,
            "linecolor": "white",
            "showbackground": true,
            "ticks": "",
            "zerolinecolor": "white"
           },
           "yaxis": {
            "backgroundcolor": "#E5ECF6",
            "gridcolor": "white",
            "gridwidth": 2,
            "linecolor": "white",
            "showbackground": true,
            "ticks": "",
            "zerolinecolor": "white"
           },
           "zaxis": {
            "backgroundcolor": "#E5ECF6",
            "gridcolor": "white",
            "gridwidth": 2,
            "linecolor": "white",
            "showbackground": true,
            "ticks": "",
            "zerolinecolor": "white"
           }
          },
          "shapedefaults": {
           "line": {
            "color": "#2a3f5f"
           }
          },
          "ternary": {
           "aaxis": {
            "gridcolor": "white",
            "linecolor": "white",
            "ticks": ""
           },
           "baxis": {
            "gridcolor": "white",
            "linecolor": "white",
            "ticks": ""
           },
           "bgcolor": "#E5ECF6",
           "caxis": {
            "gridcolor": "white",
            "linecolor": "white",
            "ticks": ""
           }
          },
          "title": {
           "x": 0.05
          },
          "xaxis": {
           "automargin": true,
           "gridcolor": "white",
           "linecolor": "white",
           "ticks": "",
           "title": {
            "standoff": 15
           },
           "zerolinecolor": "white",
           "zerolinewidth": 2
          },
          "yaxis": {
           "automargin": true,
           "gridcolor": "white",
           "linecolor": "white",
           "ticks": "",
           "title": {
            "standoff": 15
           },
           "zerolinecolor": "white",
           "zerolinewidth": 2
          }
         }
        },
        "title": {
         "text": "Sunburst Diagram"
        }
       }
      },
      "text/html": [
       "<div>                            <div id=\"2f9c475a-4159-4d8f-9c79-795c84d4f383\" class=\"plotly-graph-div\" style=\"height:525px; width:100%;\"></div>            <script type=\"text/javascript\">                require([\"plotly\"], function(Plotly) {                    window.PLOTLYENV=window.PLOTLYENV || {};                                    if (document.getElementById(\"2f9c475a-4159-4d8f-9c79-795c84d4f383\")) {                    Plotly.newPlot(                        \"2f9c475a-4159-4d8f-9c79-795c84d4f383\",                        [{\"branchvalues\":\"total\",\"customdata\":[[\"Other recreation services\"],[\"Women's and girls' apparel\"],[\"Household furnishings and operations\"],[\"Motor fuel\"],[\"Household operations\"],[\"Water and sewer and trash collection services\"],[\"New and used motor vehicles\"],[\"Professional services\"],[\"Furniture and bedding\"],[\"Private transportation\"],[\"Recreation\"],[\"Personal care products\"],[\"Public transportation\"],[\"Beef and veal\"],[\"Recreational reading materials\"],[\"Beverage materials including coffee and tea\"],[\"Other food at home\"],[\"Private transportation\"],[\"Food away from home\"],[\"Appliances\"],[\"Meats, poultry, and fish\"],[\"Meats, poultry, fish, and eggs\"],[\"Video and audio\"],[\"Other foods\"],[\"Pork\"],[\"Cereals and bakery products\"],[\"Food and beverages\"],[\"Footwear\"],[\"Men's and boys' apparel\"],[\"Nonalcoholic beverages and beverage materials\"],[\"Other recreation services\"],[\"Miscellaneous personal services\"],[\"Miscellaneous personal services\"],[\"-\"],[\"Household furnishings and operations\"],[\"Fresh fruits\"],[\"Miscellaneous personal services\"],[\"All items\"],[\"Personal care products\"],[\"Other recreational goods\"],[\"Fresh fruits\"],[\"Tobacco and smoking products\"],[\"Tuition, other school fees, and childcare\"],[\"Other household equipment and furnishings\"],[\"Household operations\"],[\"Furniture and bedding\"],[\"Owners' equivalent rent of residences\"],[\"Appliances\"],[\"Communication\"],[\"Apparel\"],[\"Food away from home\"],[\"Food\"],[\"Food\"],[\"Food at home\"],[\"Cereals and bakery products\"],[\"Processed fruits and vegetables\"],[\"Alcoholic beverages\"],[\"Food away from home\"],[\"Beverages\"],[\"Alcoholic beverages\"],[\"Meats, poultry, fish, and eggs\"],[\"Other recreation services\"],[\"Poultry\"],[\"Fresh fruits\"],[\"Meats, poultry, and fish\"],[\"Fuel oil and other fuels\"],[\"Food at home\"],[\"Household energy\"],[\"Juices and nonalcoholic drinks\"],[\"Housing\"],[\"Food at home\"],[\"Fats and oils\"],[\"Dairy and related products\"],[\"Education and communication\"],[\"Information technology, hardware and services\"],[\"Information technology, hardware and services\"],[\"Personal care products\"],[\"Tuition, other school fees, and childcare\"],[\"Food at home\"],[\"Postage and delivery services\"],[\"Alcoholic beverages at home\"],[\"Other household equipment and furnishings\"],[\"Professional services\"],[\"Household operations\"],[\"Beverage materials including coffee and tea\"],[\"Lodging away from home\"],[\"Dairy and related products\"],[\"Household furnishings and operations\"],[\"Information and information processing\"],[\"Fresh vegetables\"],[\"Miscellaneous personal services\"],[\"Furniture and bedding\"],[\"Food away from home\"],[\"All items\"],[\"Transportation\"],[\"Video and audio\"],[\"All items\"],[\"Other household equipment and furnishings\"],[\"New and used motor vehicles\"],[\"Apparel\"],[\"Dairy and related products\"],[\"Footwear\"],[\"Medical care commodities\"],[\"Shelter\"],[\"Food at home\"],[\"Private transportation\"],[\"Personal care\"],[\"Housekeeping supplies\"],[\"Motor vehicle maintenance and repair\"],[\"Private transportation\"],[\"Men's apparel\"],[\"Men's apparel\"],[\"Men's apparel\"],[\"Jewelry and watches\"],[\"Housekeeping supplies\"],[\"Personal care services\"],[\"Other recreation services\"],[\"Sporting goods\"],[\"Women's apparel\"],[\"Video and audio\"],[\"Tuition, other school fees, and childcare\"],[\"Tools, hardware, outdoor equipment and supplies\"],[\"Tobacco and smoking products\"],[\"Fresh fruits\"],[\"Fresh vegetables\"],[\"Household energy\"],[\"Professional services\"],[\"Tuition, other school fees, and childcare\"],[\"Hospital and related services\"],[\"Medical care services\"],[\"Alcoholic beverages at home\"],[\"Bakery products\"],[\"Sugar and sweets\"],[\"Hospital and related services\"],[\"Processed fruits and vegetables\"],[\"Meats\"],[\"Dairy and related products\"],[\"Furniture and bedding\"],[\"Meats, poultry, and fish\"],[\"Meats\"],[\"Fresh vegetables\"],[\"Pork\"],[\"Medicinal drugs\"],[\"Recreational reading materials\"],[\"Fuel oil and other fuels\"],[\"Communication\"],[\"Postage and delivery services\"],[\"Motor vehicle maintenance and repair\"],[\"New and used motor vehicles\"],[\"Private transportation\"],[\"Motor vehicle maintenance and repair\"],[\"Household operations\"],[\"Other recreational goods\"],[\"Private transportation\"],[\"Women's and girls' apparel\"],[\"Women's apparel\"],[\"Footwear\"],[\"Women's apparel\"],[\"Women's apparel\"],[\"Women's apparel\"],[\"Processed fruits and vegetables\"],[\"Pork\"],[\"Personal care\"],[\"Personal care\"],[\"Pets, pet products and services\"],[\"Owners' equivalent rent of residences\"],[\"Tools, hardware, outdoor equipment and supplies\"],[\"Video and audio\"],[\"Shelter\"],[\"Sugar and sweets\"],[\"Recreation\"],[\"Other foods\"],[\"Meats\"],[\"Lodging away from home\"],[\"Window and floor coverings and other linens\"],[\"Public transportation\"],[\"Energy services\"],[\"Other food at home\"],[\"Window and floor coverings and other linens\"],[\"Food away from home\"],[\"Apparel\"],[\"Bakery products\"],[\"Fish and seafood\"],[\"Fresh fruits and vegetables\"],[\"Fruits and vegetables\"],[\"Fresh fruits and vegetables\"],[\"Other foods\"],[\"Jewelry and watches\"],[\"Energy services\"],[\"Medical care\"],[\"Medical care\"],[\"All items\"],[\"Medical care commodities\"],[\"All items\"],[\"Other recreational goods\"],[\"Household furnishings and operations\"],[\"Tools, hardware, outdoor equipment and supplies\"],[\"Tobacco and smoking products\"],[\"Other goods and services\"],[\"Motor vehicle parts and equipment\"],[\"Shelter\"],[\"Housing\"],[\"Fuels and utilities\"],[\"Fuels and utilities\"],[\"Alcoholic beverages at home\"],[\"Apparel\"],[\"Household furnishings and operations\"],[\"Water and sewer and trash collection services\"],[\"Window and floor coverings and other linens\"],[\"Telephone services\"],[\"Recreation\"],[\"Other foods\"],[\"Tuition, other school fees, and childcare\"],[\"Information technology, hardware and services\"],[\"Information and information processing\"],[\"Video and audio\"],[\"Fats and oils\"],[\"Cereals and cereal products\"],[\"Bakery products\"],[\"Photography\"],[\"Public transportation\"],[\"New and used motor vehicles\"],[\"Juices and nonalcoholic drinks\"],[\"Household furnishings and operations\"],[\"Poultry\"],[\"Recreation\"],[\"Motor fuel\"],[\"Other goods and services\"],[\"Motor vehicle fees\"],[\"Education and communication\"],[\"All items\"],[\"Education\"],[\"Fish and seafood\"],[\"Transportation\"],[\"Medical care services\"],[\"Fruits and vegetables\"],[\"Recreation\"],[\"Photography\"],[\"Photography\"],[\"Recreation\"],[\"Video and audio\"],[\"Other food at home\"],[\"Fresh vegetables\"],[\"Other foods\"],[\"Sporting goods\"],[\"Education\"],[\"Shelter\"],[\"Beef and veal\"],[\"Beef and veal\"],[\"Beef and veal\"],[\"Pork\"],[\"Housekeeping supplies\"],[\"Medical care services\"],[\"Household furnishings and operations\"],[\"Sporting goods\"],[\"Motor vehicle fees\"],[\"Sugar and sweets\"],[\"Food and beverages\"],[\"All items\"],[\"Cereals and cereal products\"],[\"Motor vehicle maintenance and repair\"],[\"Recreational reading materials\"],[\"Video and audio\"],[\"Motor vehicle parts and equipment\"],[\"Recreation\"],[\"Apparel\"],[\"Men's apparel\"],[\"Men's and boys' apparel\"],[\"All items\"],[\"Pets, pet products and services\"],[\"Information technology, hardware and services\"],[\"New and used motor vehicles\"],[\"Motor vehicle fees\"],[\"Men's apparel\"],[\"Miscellaneous personal services\"],[\"Other foods\"],[\"Household operations\"],[\"Housing\"],[\"Other recreational goods\"],[\"Professional services\"],[\"Fats and oils\"],[\"Cereals and cereal products\"],[\"Information technology, hardware and services\"],[\"Public transportation\"],[\"Telephone services\"],[\"Miscellaneous personal services\"],[\"Nonalcoholic beverages and beverage materials\"],[\"Food at home\"],[\"Bakery products\"],[\"Appliances\"],[\"Hospital and related services\"],[\"Other household equipment and furnishings\"],[\"Medicinal drugs\"],[\"Juices and nonalcoholic drinks\"],[\"-\"],[\"Alcoholic beverages\"],[\"Alcoholic beverages at home\"],[\"All items\"],[\"Apparel\"],[\"Appliances\"],[\"Bakery products\"],[\"Beef and veal\"],[\"Beverage materials including coffee and tea\"],[\"Beverages\"],[\"Cereals and bakery products\"],[\"Cereals and cereal products\"],[\"Communication\"],[\"Dairy and related products\"],[\"Education\"],[\"Education and communication\"],[\"Energy services\"],[\"Fats and oils\"],[\"Fish and seafood\"],[\"Food\"],[\"Food and beverages\"],[\"Food at home\"],[\"Food away from home\"],[\"Footwear\"],[\"Fresh fruits\"],[\"Fresh fruits and vegetables\"],[\"Fresh vegetables\"],[\"Fruits and vegetables\"],[\"Fuel oil and other fuels\"],[\"Fuels and utilities\"],[\"Furniture and bedding\"],[\"Hospital and related services\"],[\"Household energy\"],[\"Household furnishings and operations\"],[\"Household operations\"],[\"Housekeeping supplies\"],[\"Housing\"],[\"Information and information processing\"],[\"Information technology, hardware and services\"],[\"Jewelry and watches\"],[\"Juices and nonalcoholic drinks\"],[\"Lodging away from home\"],[\"Meats\"],[\"Meats, poultry, and fish\"],[\"Meats, poultry, fish, and eggs\"],[\"Medical care\"],[\"Medical care commodities\"],[\"Medical care services\"],[\"Medicinal drugs\"],[\"Men's and boys' apparel\"],[\"Men's apparel\"],[\"Miscellaneous personal services\"],[\"Motor fuel\"],[\"Motor vehicle fees\"],[\"Motor vehicle maintenance and repair\"],[\"Motor vehicle parts and equipment\"],[\"New and used motor vehicles\"],[\"Nonalcoholic beverages and beverage materials\"],[\"Other food at home\"],[\"Other foods\"],[\"Other goods and services\"],[\"Other household equipment and furnishings\"],[\"Other recreation services\"],[\"Other recreational goods\"],[\"Owners' equivalent rent of residences\"],[\"Personal care\"],[\"Personal care products\"],[\"Personal care services\"],[\"Pets, pet products and services\"],[\"Photography\"],[\"Pork\"],[\"Postage and delivery services\"],[\"Poultry\"],[\"Private transportation\"],[\"Processed fruits and vegetables\"],[\"Professional services\"],[\"Public transportation\"],[\"Recreation\"],[\"Recreational reading materials\"],[\"Shelter\"],[\"Sporting goods\"],[\"Sugar and sweets\"],[\"Telephone services\"],[\"Tobacco and smoking products\"],[\"Tools, hardware, outdoor equipment and supplies\"],[\"Transportation\"],[\"Tuition, other school fees, and childcare\"],[\"Video and audio\"],[\"Water and sewer and trash collection services\"],[\"Window and floor coverings and other linens\"],[\"Women's and girls' apparel\"],[\"Women's apparel\"]],\"domain\":{\"x\":[0.0,1.0],\"y\":[0.0,1.0]},\"hovertemplate\":\"labels=%{label}<br>Weight=%{value}<br>parent=%{parent}<br>id=%{id}<br>Parent=%{customdata[0]}<extra></extra>\",\"ids\":[\"Other recreation services/Admissions\",\"Women's and girls' apparel/Girls' apparel\",\"Household furnishings and operations/Furniture and bedding\",\"Motor fuel/Gasoline (all types)\",\"Household operations/Gardening and lawncare services\",\"Water and sewer and trash collection services/Garbage and trash collection\",\"New and used motor vehicles/Used cars and trucks\",\"Professional services/Physicians' services\",\"Furniture and bedding/Other furniture\",\"Private transportation/Motor vehicle insurance\",\"Recreation/Recreational reading materials\",\"Personal care products/Hair, dental, shaving, and miscellaneous personal care products\",\"Public transportation/Airline fares\",\"Beef and veal/Uncooked other beef and veal\",\"Recreational reading materials/Newspapers and magazines\",\"Beverage materials including coffee and tea/Other beverage materials including tea\",\"Other food at home/Other foods\",\"Private transportation/Motor vehicle maintenance and repair\",\"Food away from home/Other food away from home\",\"Appliances/Major appliances\",\"Meats, poultry, and fish/Meats\",\"Meats, poultry, fish, and eggs/Meats, poultry, and fish\",\"Video and audio/Audio equipment\",\"Other foods/Baby food\",\"Pork/Bacon, breakfast sausage, and related products\",\"Cereals and bakery products/Bakery products\",\"Food and beverages/Beverages\",\"Footwear/Boys' and girls' footwear\",\"Men's and boys' apparel/Boys' apparel\",\"Nonalcoholic beverages and beverage materials/Beverage materials including coffee and tea\",\"Other recreation services/Fees for lessons or instructions\",\"Miscellaneous personal services/Financial services\",\"Miscellaneous personal services/Funeral expenses\",\"-/All items\",\"Household furnishings and operations/Appliances\",\"Fresh fruits/Apples\",\"Miscellaneous personal services/Apparel services other than laundry and dry cleaning\",\"All items/Apparel\",\"Personal care products/Unsampled personal care products\",\"Other recreational goods/Unsampled recreation commodities\",\"Fresh fruits/Citrus fruits\",\"Tobacco and smoking products/Cigarettes\",\"Tuition, other school fees, and childcare/Child care and nursery school\",\"Other household equipment and furnishings/Clocks, lamps, and decorator items\",\"Household operations/Unsampled household operations\",\"Furniture and bedding/Unsampled furniture\",\"Owners' equivalent rent of residences/Unsampled owners' equivalent rent of secondary residences\",\"Appliances/Unsampled appliances\",\"Communication/Information and information processing\",\"Apparel/Infants' and toddlers' apparel\",\"Food away from home/Food from vending machines and mobile vendors\",\"Food/Food away from home\",\"Food/Food at home\",\"Food at home/Cereals and bakery products\",\"Cereals and bakery products/Cereals and cereal products\",\"Processed fruits and vegetables/Frozen fruits and vegetables\",\"Alcoholic beverages/Alcoholic beverages at home\",\"Food away from home/Full service meals and snacks\",\"Beverages/Alcoholic beverages\",\"Alcoholic beverages/Alcoholic beverages away from home\",\"Meats, poultry, fish, and eggs/Eggs\",\"Other recreation services/Club membership for shopping clubs, fraternal, or other organizations, or participant sports fees\",\"Poultry/Chicken\",\"Fresh fruits/Bananas\",\"Meats, poultry, and fish/Fish and seafood\",\"Fuel oil and other fuels/Fuel oil\",\"Food at home/Fruits and vegetables\",\"Household energy/Fuel oil and other fuels\",\"Juices and nonalcoholic drinks/Frozen noncarbonated juices and drinks\",\"Housing/Fuels and utilities\",\"Food at home/Other food at home\",\"Fats and oils/Other fats and oils including peanut butter\",\"Dairy and related products/Other dairy and related products\",\"Education and communication/Communication\",\"Information technology, hardware and services/Computer software and accessories\",\"Information technology, hardware and services/Computers, peripherals, and smart home assistant devices\",\"Personal care products/Cosmetics, perfume, bath, nail preparations and implements\",\"Tuition, other school fees, and childcare/College tuition and fees\",\"Food at home/Dairy and related products\",\"Postage and delivery services/Delivery services\",\"Alcoholic beverages at home/Distilled spirits at home\",\"Other household equipment and furnishings/Dishes and flatware\",\"Professional services/Dental services\",\"Household operations/Domestic services\",\"Beverage materials including coffee and tea/Coffee\",\"Lodging away from home/Housing at school, excluding board\",\"Dairy and related products/Ice cream and related products\",\"Household furnishings and operations/Housekeeping supplies\",\"Information and information processing/Information technology, hardware and services\",\"Fresh vegetables/Lettuce\",\"Miscellaneous personal services/Legal services\",\"Furniture and bedding/Living room, kitchen, and dining room furniture\",\"Food away from home/Limited service meals and snacks\",\"All items/Recreation\",\"Transportation/Public transportation\",\"Video and audio/Recorded music and music subscriptions\",\"All items/Housing\",\"Other household equipment and furnishings/Indoor plants and flowers\",\"New and used motor vehicles/Leased cars and trucks\",\"Apparel/Jewelry and watches\",\"Dairy and related products/Milk\",\"Footwear/Men's footwear\",\"Medical care commodities/Medicinal drugs\",\"Shelter/Lodging away from home\",\"Food at home/Meats, poultry, fish, and eggs\",\"Private transportation/Motor fuel\",\"Personal care/Miscellaneous personal services\",\"Housekeeping supplies/Miscellaneous household products\",\"Motor vehicle maintenance and repair/Motor vehicle body work\",\"Private transportation/Motor vehicle fees\",\"Men's apparel/Men's shirts and sweaters\",\"Men's apparel/Men's suits, sport coats, and outerwear\",\"Men's apparel/Men's pants and shorts\",\"Jewelry and watches/Jewelry\",\"Housekeeping supplies/Household paper products\",\"Personal care services/Haircuts and other personal care services\",\"Other recreation services/Unsampled recreation services\",\"Sporting goods/Unsampled sporting goods\",\"Women's apparel/Unsampled women's apparel\",\"Video and audio/Unsampled video and audio\",\"Tuition, other school fees, and childcare/Unsampled tuition, other school fees, and childcare\",\"Tools, hardware, outdoor equipment and supplies/Unsampled tools, hardware, outdoor equipment and supplies\",\"Tobacco and smoking products/Unsampled tobacco and smoking products\",\"Fresh fruits/Other fresh fruits\",\"Fresh vegetables/Other fresh vegetables\",\"Household energy/Energy services\",\"Professional services/Eyeglasses and eye care\",\"Tuition, other school fees, and childcare/Elementary and high school tuition and fees\",\"Hospital and related services/Hospital services\",\"Medical care services/Hospital and related services\",\"Alcoholic beverages at home/Beer, ale, and other malt beverages at home\",\"Bakery products/Bread\",\"Sugar and sweets/Candy and chewing gum\",\"Hospital and related services/Care of invalids and elderly at home\",\"Processed fruits and vegetables/Canned fruits and vegetables\",\"Meats/Beef and veal\",\"Dairy and related products/Cheese and related products\",\"Furniture and bedding/Bedroom furniture\",\"Meats, poultry, and fish/Poultry\",\"Meats/Pork\",\"Fresh vegetables/Potatoes\",\"Pork/Pork chops\",\"Medicinal drugs/Prescription drugs\",\"Recreational reading materials/Recreational books\",\"Fuel oil and other fuels/Propane, kerosene, and firewood\",\"Communication/Postage and delivery services\",\"Postage and delivery services/Postage\",\"Motor vehicle maintenance and repair/Motor vehicle maintenance and servicing\",\"New and used motor vehicles/New vehicles\",\"Private transportation/Motor vehicle parts and equipment\",\"Motor vehicle maintenance and repair/Motor vehicle repair\",\"Household operations/Moving, storage, freight expense\",\"Other recreational goods/Music instruments and accessories\",\"Private transportation/New and used motor vehicles\",\"Women's and girls' apparel/Women's apparel\",\"Women's apparel/Women's dresses\",\"Footwear/Women's footwear\",\"Women's apparel/Women's outerwear\",\"Women's apparel/Women's underwear, nightwear, sportswear, and accessories\",\"Women's apparel/Women's suits and separates\",\"Processed fruits and vegetables/Other processed fruits and vegetables including dried\",\"Pork/Other pork including roasts, steaks, and ribs\",\"Personal care/Personal care products\",\"Personal care/Personal care services\",\"Pets, pet products and services/Pet services including veterinary\",\"Owners' equivalent rent of residences/Owners' equivalent rent of primary residence\",\"Tools, hardware, outdoor equipment and supplies/Outdoor equipment and supplies\",\"Video and audio/Other video equipment\",\"Shelter/Owners' equivalent rent of residences\",\"Sugar and sweets/Other sweets\",\"Recreation/Other recreational goods\",\"Other foods/Other miscellaneous foods\",\"Meats/Other meats\",\"Lodging away from home/Other lodging away from home including hotels and motels\",\"Window and floor coverings and other linens/Other linens\",\"Public transportation/Other intercity transportation\",\"Energy services/Electricity\",\"Other food at home/Fats and oils\",\"Window and floor coverings and other linens/Floor coverings\",\"Food away from home/Food at employee sites and schools\",\"Apparel/Footwear\",\"Bakery products/Fresh biscuits, rolls, muffins\",\"Fish and seafood/Fresh fish and seafood\",\"Fresh fruits and vegetables/Fresh fruits\",\"Fruits and vegetables/Fresh fruits and vegetables\",\"Fresh fruits and vegetables/Fresh vegetables\",\"Other foods/Frozen and freeze dried prepared foods\",\"Jewelry and watches/Watches\",\"Energy services/Utility (piped) gas service\",\"Medical care/Medical care services\",\"Medical care/Medical care commodities\",\"All items/Medical care\",\"Medical care commodities/Medical equipment and supplies\",\"All items/Transportation\",\"Other recreational goods/Toys\",\"Household furnishings and operations/Tools, hardware, outdoor equipment and supplies\",\"Tools, hardware, outdoor equipment and supplies/Tools, hardware and supplies\",\"Tobacco and smoking products/Tobacco products other than cigarettes\",\"Other goods and services/Tobacco and smoking products\",\"Motor vehicle parts and equipment/Tires\",\"Shelter/Tenants' and household insurance\",\"Housing/Household furnishings and operations\",\"Fuels and utilities/Household energy\",\"Fuels and utilities/Water and sewer and trash collection services\",\"Alcoholic beverages at home/Wine at home\",\"Apparel/Women's and girls' apparel\",\"Household furnishings and operations/Window and floor coverings and other linens\",\"Water and sewer and trash collection services/Water and sewerage maintenance\",\"Window and floor coverings and other linens/Window coverings\",\"Telephone services/Wireless telephone services\",\"Recreation/Sporting goods\",\"Other foods/Spices, seasonings, condiments, sauces\",\"Tuition, other school fees, and childcare/Technical and business school tuition and fees\",\"Information technology, hardware and services/Telephone hardware, calculators, and other consumer information items\",\"Information and information processing/Telephone services\",\"Video and audio/Cable and satellite television service\",\"Fats and oils/Butter and margarine\",\"Cereals and cereal products/Breakfast cereal\",\"Bakery products/Cakes, cupcakes, and cookies\",\"Photography/Unsampled photography\",\"Public transportation/Unsampled public transportation\",\"New and used motor vehicles/Car and truck rental\",\"Juices and nonalcoholic drinks/Carbonated drinks\",\"Household furnishings and operations/Other household equipment and furnishings\",\"Poultry/Other uncooked poultry including turkey\",\"Recreation/Other recreation services\",\"Motor fuel/Other motor fuels\",\"Other goods and services/Personal care\",\"Motor vehicle fees/Parking and other fees\",\"Education and communication/Education\",\"All items/Education and communication\",\"Education/Educational books and supplies\",\"Fish and seafood/Processed fish and seafood\",\"Transportation/Private transportation\",\"Medical care services/Professional services\",\"Fruits and vegetables/Processed fruits and vegetables\",\"Recreation/Pets, pet products and services\",\"Photography/Photographers and photo processing\",\"Photography/Photographic equipment and supplies\",\"Recreation/Photography\",\"Video and audio/Televisions\",\"Other food at home/Sugar and sweets\",\"Fresh vegetables/Tomatoes\",\"Other foods/Soups\",\"Sporting goods/Sports equipment\",\"Education/Tuition, other school fees, and childcare\",\"Shelter/Rent of primary residence\",\"Beef and veal/Uncooked ground beef\",\"Beef and veal/Uncooked beef roasts\",\"Beef and veal/Uncooked beef steaks\",\"Pork/Ham\",\"Housekeeping supplies/Household cleaning products\",\"Medical care services/Health insurance\",\"Household furnishings and operations/Household operations\",\"Sporting goods/Sports vehicles including bicycles\",\"Motor vehicle fees/State motor vehicle registration and license fees\",\"Sugar and sweets/Sugar and sugar substitutes\",\"Food and beverages/Food\",\"All items/Food and beverages\",\"Cereals and cereal products/Flour and prepared flour mixes\",\"Motor vehicle maintenance and repair/Unsampled service policies\",\"Recreational reading materials/Unsampled recreational reading materials\",\"Video and audio/Video discs and other media, including rental of video\",\"Motor vehicle parts and equipment/Vehicle accessories other than tires\",\"Recreation/Video and audio\",\"Apparel/Men's and boys' apparel\",\"Men's apparel/Men''s underwear, nightwear, swimwear, and accessories\",\"Men's and boys' apparel/Men's apparel\",\"All items/Other goods and services\",\"Pets, pet products and services/Pets and pet products\",\"Information technology, hardware and services/Unsampled information and information processing\",\"New and used motor vehicles/Unsampled new and used motor vehicles\",\"Motor vehicle fees/Unsampled motor vehicle fees\",\"Men's apparel/Unsampled men's apparel\",\"Miscellaneous personal services/Unsampled items\",\"Other foods/Snacks\",\"Household operations/Repair of household items\",\"Housing/Shelter\",\"Other recreational goods/Sewing machines, fabric and supplies\",\"Professional services/Services by other medical professionals\",\"Fats and oils/Salad dressing\",\"Cereals and cereal products/Rice, pasta, cornmeal\",\"Information technology, hardware and services/Internet services and electronic information providers\",\"Public transportation/Intracity transportation\",\"Telephone services/Land-line telephone services\",\"Miscellaneous personal services/Laundry and dry cleaning services\",\"Nonalcoholic beverages and beverage materials/Juices and nonalcoholic drinks\",\"Food at home/Nonalcoholic beverages and beverage materials\",\"Bakery products/Other bakery products\",\"Appliances/Other appliances\",\"Hospital and related services/Nursing homes and adult day services\",\"Other household equipment and furnishings/Nonelectric cookware and tableware\",\"Medicinal drugs/Nonprescription drugs\",\"Juices and nonalcoholic drinks/Nonfrozen noncarbonated juices and drinks\",\"-\",\"Alcoholic beverages\",\"Alcoholic beverages at home\",\"All items\",\"Apparel\",\"Appliances\",\"Bakery products\",\"Beef and veal\",\"Beverage materials including coffee and tea\",\"Beverages\",\"Cereals and bakery products\",\"Cereals and cereal products\",\"Communication\",\"Dairy and related products\",\"Education\",\"Education and communication\",\"Energy services\",\"Fats and oils\",\"Fish and seafood\",\"Food\",\"Food and beverages\",\"Food at home\",\"Food away from home\",\"Footwear\",\"Fresh fruits\",\"Fresh fruits and vegetables\",\"Fresh vegetables\",\"Fruits and vegetables\",\"Fuel oil and other fuels\",\"Fuels and utilities\",\"Furniture and bedding\",\"Hospital and related services\",\"Household energy\",\"Household furnishings and operations\",\"Household operations\",\"Housekeeping supplies\",\"Housing\",\"Information and information processing\",\"Information technology, hardware and services\",\"Jewelry and watches\",\"Juices and nonalcoholic drinks\",\"Lodging away from home\",\"Meats\",\"Meats, poultry, and fish\",\"Meats, poultry, fish, and eggs\",\"Medical care\",\"Medical care commodities\",\"Medical care services\",\"Medicinal drugs\",\"Men's and boys' apparel\",\"Men's apparel\",\"Miscellaneous personal services\",\"Motor fuel\",\"Motor vehicle fees\",\"Motor vehicle maintenance and repair\",\"Motor vehicle parts and equipment\",\"New and used motor vehicles\",\"Nonalcoholic beverages and beverage materials\",\"Other food at home\",\"Other foods\",\"Other goods and services\",\"Other household equipment and furnishings\",\"Other recreation services\",\"Other recreational goods\",\"Owners' equivalent rent of residences\",\"Personal care\",\"Personal care products\",\"Personal care services\",\"Pets, pet products and services\",\"Photography\",\"Pork\",\"Postage and delivery services\",\"Poultry\",\"Private transportation\",\"Processed fruits and vegetables\",\"Professional services\",\"Public transportation\",\"Recreation\",\"Recreational reading materials\",\"Shelter\",\"Sporting goods\",\"Sugar and sweets\",\"Telephone services\",\"Tobacco and smoking products\",\"Tools, hardware, outdoor equipment and supplies\",\"Transportation\",\"Tuition, other school fees, and childcare\",\"Video and audio\",\"Water and sewer and trash collection services\",\"Window and floor coverings and other linens\",\"Women's and girls' apparel\",\"Women's apparel\"],\"labels\":[\"Admissions\",\"Girls' apparel\",\"Furniture and bedding\",\"Gasoline (all types)\",\"Gardening and lawncare services\",\"Garbage and trash collection\",\"Used cars and trucks\",\"Physicians' services\",\"Other furniture\",\"Motor vehicle insurance\",\"Recreational reading materials\",\"Hair, dental, shaving, and miscellaneous personal care products\",\"Airline fares\",\"Uncooked other beef and veal\",\"Newspapers and magazines\",\"Other beverage materials including tea\",\"Other foods\",\"Motor vehicle maintenance and repair\",\"Other food away from home\",\"Major appliances\",\"Meats\",\"Meats, poultry, and fish\",\"Audio equipment\",\"Baby food\",\"Bacon, breakfast sausage, and related products\",\"Bakery products\",\"Beverages\",\"Boys' and girls' footwear\",\"Boys' apparel\",\"Beverage materials including coffee and tea\",\"Fees for lessons or instructions\",\"Financial services\",\"Funeral expenses\",\"All items\",\"Appliances\",\"Apples\",\"Apparel services other than laundry and dry cleaning\",\"Apparel\",\"Unsampled personal care products\",\"Unsampled recreation commodities\",\"Citrus fruits\",\"Cigarettes\",\"Child care and nursery school\",\"Clocks, lamps, and decorator items\",\"Unsampled household operations\",\"Unsampled furniture\",\"Unsampled owners' equivalent rent of secondary residences\",\"Unsampled appliances\",\"Information and information processing\",\"Infants' and toddlers' apparel\",\"Food from vending machines and mobile vendors\",\"Food away from home\",\"Food at home\",\"Cereals and bakery products\",\"Cereals and cereal products\",\"Frozen fruits and vegetables\",\"Alcoholic beverages at home\",\"Full service meals and snacks\",\"Alcoholic beverages\",\"Alcoholic beverages away from home\",\"Eggs\",\"Club membership for shopping clubs, fraternal, or other organizations, or participant sports fees\",\"Chicken\",\"Bananas\",\"Fish and seafood\",\"Fuel oil\",\"Fruits and vegetables\",\"Fuel oil and other fuels\",\"Frozen noncarbonated juices and drinks\",\"Fuels and utilities\",\"Other food at home\",\"Other fats and oils including peanut butter\",\"Other dairy and related products\",\"Communication\",\"Computer software and accessories\",\"Computers, peripherals, and smart home assistant devices\",\"Cosmetics, perfume, bath, nail preparations and implements\",\"College tuition and fees\",\"Dairy and related products\",\"Delivery services\",\"Distilled spirits at home\",\"Dishes and flatware\",\"Dental services\",\"Domestic services\",\"Coffee\",\"Housing at school, excluding board\",\"Ice cream and related products\",\"Housekeeping supplies\",\"Information technology, hardware and services\",\"Lettuce\",\"Legal services\",\"Living room, kitchen, and dining room furniture\",\"Limited service meals and snacks\",\"Recreation\",\"Public transportation\",\"Recorded music and music subscriptions\",\"Housing\",\"Indoor plants and flowers\",\"Leased cars and trucks\",\"Jewelry and watches\",\"Milk\",\"Men's footwear\",\"Medicinal drugs\",\"Lodging away from home\",\"Meats, poultry, fish, and eggs\",\"Motor fuel\",\"Miscellaneous personal services\",\"Miscellaneous household products\",\"Motor vehicle body work\",\"Motor vehicle fees\",\"Men's shirts and sweaters\",\"Men's suits, sport coats, and outerwear\",\"Men's pants and shorts\",\"Jewelry\",\"Household paper products\",\"Haircuts and other personal care services\",\"Unsampled recreation services\",\"Unsampled sporting goods\",\"Unsampled women's apparel\",\"Unsampled video and audio\",\"Unsampled tuition, other school fees, and childcare\",\"Unsampled tools, hardware, outdoor equipment and supplies\",\"Unsampled tobacco and smoking products\",\"Other fresh fruits\",\"Other fresh vegetables\",\"Energy services\",\"Eyeglasses and eye care\",\"Elementary and high school tuition and fees\",\"Hospital services\",\"Hospital and related services\",\"Beer, ale, and other malt beverages at home\",\"Bread\",\"Candy and chewing gum\",\"Care of invalids and elderly at home\",\"Canned fruits and vegetables\",\"Beef and veal\",\"Cheese and related products\",\"Bedroom furniture\",\"Poultry\",\"Pork\",\"Potatoes\",\"Pork chops\",\"Prescription drugs\",\"Recreational books\",\"Propane, kerosene, and firewood\",\"Postage and delivery services\",\"Postage\",\"Motor vehicle maintenance and servicing\",\"New vehicles\",\"Motor vehicle parts and equipment\",\"Motor vehicle repair\",\"Moving, storage, freight expense\",\"Music instruments and accessories\",\"New and used motor vehicles\",\"Women's apparel\",\"Women's dresses\",\"Women's footwear\",\"Women's outerwear\",\"Women's underwear, nightwear, sportswear, and accessories\",\"Women's suits and separates\",\"Other processed fruits and vegetables including dried\",\"Other pork including roasts, steaks, and ribs\",\"Personal care products\",\"Personal care services\",\"Pet services including veterinary\",\"Owners' equivalent rent of primary residence\",\"Outdoor equipment and supplies\",\"Other video equipment\",\"Owners' equivalent rent of residences\",\"Other sweets\",\"Other recreational goods\",\"Other miscellaneous foods\",\"Other meats\",\"Other lodging away from home including hotels and motels\",\"Other linens\",\"Other intercity transportation\",\"Electricity\",\"Fats and oils\",\"Floor coverings\",\"Food at employee sites and schools\",\"Footwear\",\"Fresh biscuits, rolls, muffins\",\"Fresh fish and seafood\",\"Fresh fruits\",\"Fresh fruits and vegetables\",\"Fresh vegetables\",\"Frozen and freeze dried prepared foods\",\"Watches\",\"Utility (piped) gas service\",\"Medical care services\",\"Medical care commodities\",\"Medical care\",\"Medical equipment and supplies\",\"Transportation\",\"Toys\",\"Tools, hardware, outdoor equipment and supplies\",\"Tools, hardware and supplies\",\"Tobacco products other than cigarettes\",\"Tobacco and smoking products\",\"Tires\",\"Tenants' and household insurance\",\"Household furnishings and operations\",\"Household energy\",\"Water and sewer and trash collection services\",\"Wine at home\",\"Women's and girls' apparel\",\"Window and floor coverings and other linens\",\"Water and sewerage maintenance\",\"Window coverings\",\"Wireless telephone services\",\"Sporting goods\",\"Spices, seasonings, condiments, sauces\",\"Technical and business school tuition and fees\",\"Telephone hardware, calculators, and other consumer information items\",\"Telephone services\",\"Cable and satellite television service\",\"Butter and margarine\",\"Breakfast cereal\",\"Cakes, cupcakes, and cookies\",\"Unsampled photography\",\"Unsampled public transportation\",\"Car and truck rental\",\"Carbonated drinks\",\"Other household equipment and furnishings\",\"Other uncooked poultry including turkey\",\"Other recreation services\",\"Other motor fuels\",\"Personal care\",\"Parking and other fees\",\"Education\",\"Education and communication\",\"Educational books and supplies\",\"Processed fish and seafood\",\"Private transportation\",\"Professional services\",\"Processed fruits and vegetables\",\"Pets, pet products and services\",\"Photographers and photo processing\",\"Photographic equipment and supplies\",\"Photography\",\"Televisions\",\"Sugar and sweets\",\"Tomatoes\",\"Soups\",\"Sports equipment\",\"Tuition, other school fees, and childcare\",\"Rent of primary residence\",\"Uncooked ground beef\",\"Uncooked beef roasts\",\"Uncooked beef steaks\",\"Ham\",\"Household cleaning products\",\"Health insurance\",\"Household operations\",\"Sports vehicles including bicycles\",\"State motor vehicle registration and license fees\",\"Sugar and sugar substitutes\",\"Food\",\"Food and beverages\",\"Flour and prepared flour mixes\",\"Unsampled service policies\",\"Unsampled recreational reading materials\",\"Video discs and other media, including rental of video\",\"Vehicle accessories other than tires\",\"Video and audio\",\"Men's and boys' apparel\",\"Men''s underwear, nightwear, swimwear, and accessories\",\"Men's apparel\",\"Other goods and services\",\"Pets and pet products\",\"Unsampled information and information processing\",\"Unsampled new and used motor vehicles\",\"Unsampled motor vehicle fees\",\"Unsampled men's apparel\",\"Unsampled items\",\"Snacks\",\"Repair of household items\",\"Shelter\",\"Sewing machines, fabric and supplies\",\"Services by other medical professionals\",\"Salad dressing\",\"Rice, pasta, cornmeal\",\"Internet services and electronic information providers\",\"Intracity transportation\",\"Land-line telephone services\",\"Laundry and dry cleaning services\",\"Juices and nonalcoholic drinks\",\"Nonalcoholic beverages and beverage materials\",\"Other bakery products\",\"Other appliances\",\"Nursing homes and adult day services\",\"Nonelectric cookware and tableware\",\"Nonprescription drugs\",\"Nonfrozen noncarbonated juices and drinks\",\"-\",\"Alcoholic beverages\",\"Alcoholic beverages at home\",\"All items\",\"Apparel\",\"Appliances\",\"Bakery products\",\"Beef and veal\",\"Beverage materials including coffee and tea\",\"Beverages\",\"Cereals and bakery products\",\"Cereals and cereal products\",\"Communication\",\"Dairy and related products\",\"Education\",\"Education and communication\",\"Energy services\",\"Fats and oils\",\"Fish and seafood\",\"Food\",\"Food and beverages\",\"Food at home\",\"Food away from home\",\"Footwear\",\"Fresh fruits\",\"Fresh fruits and vegetables\",\"Fresh vegetables\",\"Fruits and vegetables\",\"Fuel oil and other fuels\",\"Fuels and utilities\",\"Furniture and bedding\",\"Hospital and related services\",\"Household energy\",\"Household furnishings and operations\",\"Household operations\",\"Housekeeping supplies\",\"Housing\",\"Information and information processing\",\"Information technology, hardware and services\",\"Jewelry and watches\",\"Juices and nonalcoholic drinks\",\"Lodging away from home\",\"Meats\",\"Meats, poultry, and fish\",\"Meats, poultry, fish, and eggs\",\"Medical care\",\"Medical care commodities\",\"Medical care services\",\"Medicinal drugs\",\"Men's and boys' apparel\",\"Men's apparel\",\"Miscellaneous personal services\",\"Motor fuel\",\"Motor vehicle fees\",\"Motor vehicle maintenance and repair\",\"Motor vehicle parts and equipment\",\"New and used motor vehicles\",\"Nonalcoholic beverages and beverage materials\",\"Other food at home\",\"Other foods\",\"Other goods and services\",\"Other household equipment and furnishings\",\"Other recreation services\",\"Other recreational goods\",\"Owners' equivalent rent of residences\",\"Personal care\",\"Personal care products\",\"Personal care services\",\"Pets, pet products and services\",\"Photography\",\"Pork\",\"Postage and delivery services\",\"Poultry\",\"Private transportation\",\"Processed fruits and vegetables\",\"Professional services\",\"Public transportation\",\"Recreation\",\"Recreational reading materials\",\"Shelter\",\"Sporting goods\",\"Sugar and sweets\",\"Telephone services\",\"Tobacco and smoking products\",\"Tools, hardware, outdoor equipment and supplies\",\"Transportation\",\"Tuition, other school fees, and childcare\",\"Video and audio\",\"Water and sewer and trash collection services\",\"Window and floor coverings and other linens\",\"Women's and girls' apparel\",\"Women's apparel\"],\"marker\":{\"colors\":[\"#636efa\",\"#EF553B\",\"#00cc96\",\"#ab63fa\",\"#FFA15A\",\"#19d3f3\",\"#FF6692\",\"#B6E880\",\"#FF97FF\",\"#FECB52\",\"#636efa\",\"#EF553B\",\"#00cc96\",\"#ab63fa\",\"#FFA15A\",\"#19d3f3\",\"#FF6692\",\"#FECB52\",\"#B6E880\",\"#FF97FF\",\"#FECB52\",\"#636efa\",\"#EF553B\",\"#00cc96\",\"#ab63fa\",\"#FFA15A\",\"#19d3f3\",\"#FF6692\",\"#B6E880\",\"#FF97FF\",\"#636efa\",\"#FECB52\",\"#FECB52\",\"#636efa\",\"#00cc96\",\"#EF553B\",\"#FECB52\",\"#00cc96\",\"#EF553B\",\"#ab63fa\",\"#EF553B\",\"#FFA15A\",\"#19d3f3\",\"#FF6692\",\"#FFA15A\",\"#FF97FF\",\"#B6E880\",\"#FF97FF\",\"#FF97FF\",\"#FECB52\",\"#B6E880\",\"#636efa\",\"#636efa\",\"#EF553B\",\"#FFA15A\",\"#00cc96\",\"#ab63fa\",\"#B6E880\",\"#FFA15A\",\"#ab63fa\",\"#636efa\",\"#636efa\",\"#19d3f3\",\"#EF553B\",\"#FECB52\",\"#FF6692\",\"#EF553B\",\"#B6E880\",\"#FF97FF\",\"#FECB52\",\"#EF553B\",\"#636efa\",\"#EF553B\",\"#00cc96\",\"#ab63fa\",\"#ab63fa\",\"#EF553B\",\"#19d3f3\",\"#EF553B\",\"#FFA15A\",\"#19d3f3\",\"#FF6692\",\"#B6E880\",\"#FFA15A\",\"#19d3f3\",\"#FF6692\",\"#EF553B\",\"#00cc96\",\"#B6E880\",\"#FF97FF\",\"#FECB52\",\"#FF97FF\",\"#B6E880\",\"#00cc96\",\"#FECB52\",\"#EF553B\",\"#00cc96\",\"#FF6692\",\"#FF6692\",\"#FECB52\",\"#EF553B\",\"#FF6692\",\"#636efa\",\"#EF553B\",\"#EF553B\",\"#FECB52\",\"#00cc96\",\"#ab63fa\",\"#FFA15A\",\"#FECB52\",\"#19d3f3\",\"#19d3f3\",\"#19d3f3\",\"#FF6692\",\"#ab63fa\",\"#B6E880\",\"#636efa\",\"#FF97FF\",\"#FECB52\",\"#EF553B\",\"#19d3f3\",\"#636efa\",\"#FFA15A\",\"#EF553B\",\"#FF97FF\",\"#B6E880\",\"#B6E880\",\"#19d3f3\",\"#EF553B\",\"#00cc96\",\"#19d3f3\",\"#ab63fa\",\"#FFA15A\",\"#EF553B\",\"#00cc96\",\"#19d3f3\",\"#EF553B\",\"#FF97FF\",\"#FECB52\",\"#19d3f3\",\"#FF97FF\",\"#ab63fa\",\"#FF6692\",\"#FFA15A\",\"#FF6692\",\"#FF97FF\",\"#FFA15A\",\"#FFA15A\",\"#FF6692\",\"#FECB52\",\"#FFA15A\",\"#FFA15A\",\"#ab63fa\",\"#FECB52\",\"#EF553B\",\"#FECB52\",\"#FF6692\",\"#FECB52\",\"#FECB52\",\"#FECB52\",\"#00cc96\",\"#ab63fa\",\"#00cc96\",\"#00cc96\",\"#B6E880\",\"#B6E880\",\"#636efa\",\"#EF553B\",\"#EF553B\",\"#FFA15A\",\"#636efa\",\"#00cc96\",\"#19d3f3\",\"#FF6692\",\"#FF97FF\",\"#00cc96\",\"#FECB52\",\"#FF6692\",\"#FF97FF\",\"#B6E880\",\"#FECB52\",\"#ab63fa\",\"#636efa\",\"#EF553B\",\"#00cc96\",\"#EF553B\",\"#00cc96\",\"#FF6692\",\"#FECB52\",\"#ab63fa\",\"#ab63fa\",\"#00cc96\",\"#636efa\",\"#00cc96\",\"#ab63fa\",\"#00cc96\",\"#636efa\",\"#FFA15A\",\"#FFA15A\",\"#19d3f3\",\"#EF553B\",\"#FECB52\",\"#FF6692\",\"#FF6692\",\"#19d3f3\",\"#FECB52\",\"#00cc96\",\"#19d3f3\",\"#FF97FF\",\"#B6E880\",\"#636efa\",\"#00cc96\",\"#19d3f3\",\"#ab63fa\",\"#B6E880\",\"#EF553B\",\"#636efa\",\"#FF97FF\",\"#ab63fa\",\"#FECB52\",\"#00cc96\",\"#FF6692\",\"#FF97FF\",\"#00cc96\",\"#19d3f3\",\"#636efa\",\"#ab63fa\",\"#FFA15A\",\"#636efa\",\"#00cc96\",\"#00cc96\",\"#EF553B\",\"#636efa\",\"#FECB52\",\"#00cc96\",\"#00cc96\",\"#636efa\",\"#FECB52\",\"#FECB52\",\"#636efa\",\"#EF553B\",\"#FF6692\",\"#FF97FF\",\"#00cc96\",\"#FF97FF\",\"#EF553B\",\"#EF553B\",\"#ab63fa\",\"#ab63fa\",\"#ab63fa\",\"#ab63fa\",\"#ab63fa\",\"#00cc96\",\"#00cc96\",\"#FF97FF\",\"#636efa\",\"#FFA15A\",\"#19d3f3\",\"#00cc96\",\"#FF97FF\",\"#FFA15A\",\"#FFA15A\",\"#EF553B\",\"#19d3f3\",\"#636efa\",\"#FECB52\",\"#19d3f3\",\"#B6E880\",\"#00cc96\",\"#B6E880\",\"#ab63fa\",\"#FF6692\",\"#636efa\",\"#19d3f3\",\"#FECB52\",\"#00cc96\",\"#FFA15A\",\"#FECB52\",\"#ab63fa\",\"#B6E880\",\"#636efa\",\"#FF97FF\",\"#ab63fa\",\"#00cc96\",\"#B6E880\",\"#FECB52\",\"#FF97FF\",\"#EF553B\",\"#ab63fa\",\"#FF97FF\",\"#EF553B\",\"#FF6692\",\"#FF6692\",\"#FF97FF\",\"#636efa\",\"#ab63fa\",\"#19d3f3\",\"#00cc96\",\"#FECB52\",\"#FF97FF\",\"#ab63fa\",\"#ab63fa\",\"#19d3f3\",\"#FFA15A\",\"#FFA15A\",\"#FF97FF\",\"#FF97FF\",\"#EF553B\",\"#EF553B\",\"#00cc96\",\"#FECB52\",\"#636efa\",\"#636efa\",\"#636efa\",\"#19d3f3\",\"#EF553B\",\"#B6E880\",\"#FF6692\",\"#EF553B\",\"#EF553B\",\"#FF97FF\",\"#00cc96\",\"#FF6692\",\"#FF6692\",\"#FF97FF\",\"#EF553B\",\"#B6E880\",\"#00cc96\",\"#FFA15A\",\"#ab63fa\",\"#FECB52\",\"#B6E880\",\"#ab63fa\",\"#FF6692\",\"#FF97FF\",\"#FF6692\",\"#19d3f3\",\"#FECB52\",\"#636efa\",\"#ab63fa\",\"#636efa\",\"#00cc96\",\"#FF6692\",\"#B6E880\",\"#19d3f3\",\"#FECB52\",\"#ab63fa\",\"#636efa\",\"#FFA15A\",\"#19d3f3\",\"#FF6692\",\"#FF97FF\",\"#FF6692\",\"#00cc96\",\"#FFA15A\",\"#FF6692\",\"#636efa\",\"#ab63fa\",\"#B6E880\",\"#00cc96\",\"#EF553B\",\"#B6E880\",\"#B6E880\",\"#FECB52\",\"#ab63fa\",\"#FFA15A\",\"#19d3f3\",\"#FECB52\",\"#00cc96\",\"#B6E880\",\"#00cc96\",\"#636efa\",\"#FFA15A\",\"#EF553B\",\"#FF97FF\",\"#FFA15A\",\"#B6E880\",\"#FFA15A\",\"#636efa\",\"#FECB52\",\"#19d3f3\",\"#EF553B\",\"#19d3f3\",\"#FF97FF\",\"#EF553B\",\"#FECB52\"]},\"maxdepth\":1,\"name\":\"\",\"parents\":[\"Other recreation services\",\"Women's and girls' apparel\",\"Household furnishings and operations\",\"Motor fuel\",\"Household operations\",\"Water and sewer and trash collection services\",\"New and used motor vehicles\",\"Professional services\",\"Furniture and bedding\",\"Private transportation\",\"Recreation\",\"Personal care products\",\"Public transportation\",\"Beef and veal\",\"Recreational reading materials\",\"Beverage materials including coffee and tea\",\"Other food at home\",\"Private transportation\",\"Food away from home\",\"Appliances\",\"Meats, poultry, and fish\",\"Meats, poultry, fish, and eggs\",\"Video and audio\",\"Other foods\",\"Pork\",\"Cereals and bakery products\",\"Food and beverages\",\"Footwear\",\"Men's and boys' apparel\",\"Nonalcoholic beverages and beverage materials\",\"Other recreation services\",\"Miscellaneous personal services\",\"Miscellaneous personal services\",\"-\",\"Household furnishings and operations\",\"Fresh fruits\",\"Miscellaneous personal services\",\"All items\",\"Personal care products\",\"Other recreational goods\",\"Fresh fruits\",\"Tobacco and smoking products\",\"Tuition, other school fees, and childcare\",\"Other household equipment and furnishings\",\"Household operations\",\"Furniture and bedding\",\"Owners' equivalent rent of residences\",\"Appliances\",\"Communication\",\"Apparel\",\"Food away from home\",\"Food\",\"Food\",\"Food at home\",\"Cereals and bakery products\",\"Processed fruits and vegetables\",\"Alcoholic beverages\",\"Food away from home\",\"Beverages\",\"Alcoholic beverages\",\"Meats, poultry, fish, and eggs\",\"Other recreation services\",\"Poultry\",\"Fresh fruits\",\"Meats, poultry, and fish\",\"Fuel oil and other fuels\",\"Food at home\",\"Household energy\",\"Juices and nonalcoholic drinks\",\"Housing\",\"Food at home\",\"Fats and oils\",\"Dairy and related products\",\"Education and communication\",\"Information technology, hardware and services\",\"Information technology, hardware and services\",\"Personal care products\",\"Tuition, other school fees, and childcare\",\"Food at home\",\"Postage and delivery services\",\"Alcoholic beverages at home\",\"Other household equipment and furnishings\",\"Professional services\",\"Household operations\",\"Beverage materials including coffee and tea\",\"Lodging away from home\",\"Dairy and related products\",\"Household furnishings and operations\",\"Information and information processing\",\"Fresh vegetables\",\"Miscellaneous personal services\",\"Furniture and bedding\",\"Food away from home\",\"All items\",\"Transportation\",\"Video and audio\",\"All items\",\"Other household equipment and furnishings\",\"New and used motor vehicles\",\"Apparel\",\"Dairy and related products\",\"Footwear\",\"Medical care commodities\",\"Shelter\",\"Food at home\",\"Private transportation\",\"Personal care\",\"Housekeeping supplies\",\"Motor vehicle maintenance and repair\",\"Private transportation\",\"Men's apparel\",\"Men's apparel\",\"Men's apparel\",\"Jewelry and watches\",\"Housekeeping supplies\",\"Personal care services\",\"Other recreation services\",\"Sporting goods\",\"Women's apparel\",\"Video and audio\",\"Tuition, other school fees, and childcare\",\"Tools, hardware, outdoor equipment and supplies\",\"Tobacco and smoking products\",\"Fresh fruits\",\"Fresh vegetables\",\"Household energy\",\"Professional services\",\"Tuition, other school fees, and childcare\",\"Hospital and related services\",\"Medical care services\",\"Alcoholic beverages at home\",\"Bakery products\",\"Sugar and sweets\",\"Hospital and related services\",\"Processed fruits and vegetables\",\"Meats\",\"Dairy and related products\",\"Furniture and bedding\",\"Meats, poultry, and fish\",\"Meats\",\"Fresh vegetables\",\"Pork\",\"Medicinal drugs\",\"Recreational reading materials\",\"Fuel oil and other fuels\",\"Communication\",\"Postage and delivery services\",\"Motor vehicle maintenance and repair\",\"New and used motor vehicles\",\"Private transportation\",\"Motor vehicle maintenance and repair\",\"Household operations\",\"Other recreational goods\",\"Private transportation\",\"Women's and girls' apparel\",\"Women's apparel\",\"Footwear\",\"Women's apparel\",\"Women's apparel\",\"Women's apparel\",\"Processed fruits and vegetables\",\"Pork\",\"Personal care\",\"Personal care\",\"Pets, pet products and services\",\"Owners' equivalent rent of residences\",\"Tools, hardware, outdoor equipment and supplies\",\"Video and audio\",\"Shelter\",\"Sugar and sweets\",\"Recreation\",\"Other foods\",\"Meats\",\"Lodging away from home\",\"Window and floor coverings and other linens\",\"Public transportation\",\"Energy services\",\"Other food at home\",\"Window and floor coverings and other linens\",\"Food away from home\",\"Apparel\",\"Bakery products\",\"Fish and seafood\",\"Fresh fruits and vegetables\",\"Fruits and vegetables\",\"Fresh fruits and vegetables\",\"Other foods\",\"Jewelry and watches\",\"Energy services\",\"Medical care\",\"Medical care\",\"All items\",\"Medical care commodities\",\"All items\",\"Other recreational goods\",\"Household furnishings and operations\",\"Tools, hardware, outdoor equipment and supplies\",\"Tobacco and smoking products\",\"Other goods and services\",\"Motor vehicle parts and equipment\",\"Shelter\",\"Housing\",\"Fuels and utilities\",\"Fuels and utilities\",\"Alcoholic beverages at home\",\"Apparel\",\"Household furnishings and operations\",\"Water and sewer and trash collection services\",\"Window and floor coverings and other linens\",\"Telephone services\",\"Recreation\",\"Other foods\",\"Tuition, other school fees, and childcare\",\"Information technology, hardware and services\",\"Information and information processing\",\"Video and audio\",\"Fats and oils\",\"Cereals and cereal products\",\"Bakery products\",\"Photography\",\"Public transportation\",\"New and used motor vehicles\",\"Juices and nonalcoholic drinks\",\"Household furnishings and operations\",\"Poultry\",\"Recreation\",\"Motor fuel\",\"Other goods and services\",\"Motor vehicle fees\",\"Education and communication\",\"All items\",\"Education\",\"Fish and seafood\",\"Transportation\",\"Medical care services\",\"Fruits and vegetables\",\"Recreation\",\"Photography\",\"Photography\",\"Recreation\",\"Video and audio\",\"Other food at home\",\"Fresh vegetables\",\"Other foods\",\"Sporting goods\",\"Education\",\"Shelter\",\"Beef and veal\",\"Beef and veal\",\"Beef and veal\",\"Pork\",\"Housekeeping supplies\",\"Medical care services\",\"Household furnishings and operations\",\"Sporting goods\",\"Motor vehicle fees\",\"Sugar and sweets\",\"Food and beverages\",\"All items\",\"Cereals and cereal products\",\"Motor vehicle maintenance and repair\",\"Recreational reading materials\",\"Video and audio\",\"Motor vehicle parts and equipment\",\"Recreation\",\"Apparel\",\"Men's apparel\",\"Men's and boys' apparel\",\"All items\",\"Pets, pet products and services\",\"Information technology, hardware and services\",\"New and used motor vehicles\",\"Motor vehicle fees\",\"Men's apparel\",\"Miscellaneous personal services\",\"Other foods\",\"Household operations\",\"Housing\",\"Other recreational goods\",\"Professional services\",\"Fats and oils\",\"Cereals and cereal products\",\"Information technology, hardware and services\",\"Public transportation\",\"Telephone services\",\"Miscellaneous personal services\",\"Nonalcoholic beverages and beverage materials\",\"Food at home\",\"Bakery products\",\"Appliances\",\"Hospital and related services\",\"Other household equipment and furnishings\",\"Medicinal drugs\",\"Juices and nonalcoholic drinks\",\"\",\"\",\"\",\"\",\"\",\"\",\"\",\"\",\"\",\"\",\"\",\"\",\"\",\"\",\"\",\"\",\"\",\"\",\"\",\"\",\"\",\"\",\"\",\"\",\"\",\"\",\"\",\"\",\"\",\"\",\"\",\"\",\"\",\"\",\"\",\"\",\"\",\"\",\"\",\"\",\"\",\"\",\"\",\"\",\"\",\"\",\"\",\"\",\"\",\"\",\"\",\"\",\"\",\"\",\"\",\"\",\"\",\"\",\"\",\"\",\"\",\"\",\"\",\"\",\"\",\"\",\"\",\"\",\"\",\"\",\"\",\"\",\"\",\"\",\"\",\"\",\"\",\"\",\"\",\"\",\"\",\"\",\"\",\"\",\"\",\"\",\"\",\"\",\"\",\"\",\"\",\"\"],\"values\":[0.688,0.2,0.944,2.811,0.31,0.297,2.75,1.817,0.152,1.598,0.12,0.364,0.633,0.044,0.068,0.095,1.489,1.099,0.174,0.078,1.026,1.637,0.079,0.042,0.134,0.693,1.038,0.136,0.134,0.264,0.218,0.229,0.14,100.0,0.22,0.073,0.03,2.663,0.008,0.016,0.136,0.529,0.768,0.313,0.08,0.009,1.218,0.003,3.666,0.125,0.08,6.347,7.772,1.001,0.308,0.086,0.58,3.176,1.038,0.458,0.099,0.689,0.273,0.074,0.278,0.084,1.341,0.145,0.006,4.387,1.972,0.098,0.197,3.777,0.018,0.297,0.306,1.569,0.792,0.01,0.094,0.052,1.005,0.302,0.169,0.118,0.111,0.922,1.297,0.068,0.25,0.454,2.787,5.797,1.105,0.045,42.385,0.093,0.641,0.153,0.218,0.224,1.515,0.825,1.736,2.875,0.981,0.32,0.059,0.565,0.15,0.088,0.13,0.114,0.235,0.694,0.321,0.01,0.009,0.012,0.119,0.19,0.019,0.254,0.29,3.135,0.365,0.431,2.221,2.419,0.223,0.2,0.18,0.073,0.15,0.471,0.266,0.329,0.333,0.322,0.075,0.052,1.141,0.05,0.061,0.111,0.101,0.635,3.756,0.393,0.345,0.091,0.046,7.525,0.875,0.092,0.284,0.062,0.265,0.446,0.052,0.075,0.678,0.694,0.56,23.044,0.459,0.042,24.263,0.053,0.356,0.469,0.233,0.707,0.151,0.182,2.425,0.212,0.062,0.13,0.644,0.101,0.14,0.538,1.053,0.516,0.259,0.04,0.71,7.289,1.58,8.87,0.066,15.16,0.274,0.892,0.243,0.06,0.608,0.249,0.366,4.682,3.28,1.107,0.263,1.075,0.271,0.81,0.058,1.96,0.604,0.29,0.037,0.077,2.369,1.192,0.063,0.142,0.178,0.001,0.003,0.134,0.278,0.535,0.06,1.916,0.064,2.551,0.254,3.033,6.81,0.109,0.138,14.055,3.662,0.288,1.192,0.044,0.026,0.071,0.091,0.27,0.082,0.089,0.232,2.924,7.862,0.173,0.073,0.18,0.062,0.367,1.209,0.899,0.361,0.297,0.037,14.119,15.157,0.041,0.06,0.002,0.076,0.144,1.537,0.666,0.158,0.532,3.159,0.632,0.012,0.244,0.015,0.005,0.111,0.34,0.116,33.316,0.02,0.474,0.051,0.124,0.893,0.287,0.41,0.22,0.666,0.93,0.214,0.14,0.124,0.077,0.374,0.382,100.0,1.038,0.5800000000000001,100.00099999999999,2.663,0.22100000000000003,0.6930000000000001,0.47,0.264,1.038,1.001,0.307,3.777,0.792,3.033,6.8100000000000005,3.135,0.212,0.278,14.119,15.157,7.772,6.347,0.644,0.537,1.054,0.515,1.341,0.14500000000000002,4.387,0.9440000000000001,2.418,3.28,4.683,0.899,0.9219999999999999,42.385000000000005,3.6660000000000004,1.297,0.154,0.666,0.825,1.026,1.637,1.736,8.869,1.581,7.29,1.5150000000000001,0.666,0.531,0.98,2.875,0.566,1.099,0.393,7.5249999999999995,0.93,1.971,1.4889999999999999,3.1590000000000003,0.535,1.916,0.35600000000000004,24.262,2.3529999999999998,0.6779999999999999,0.694,1.1920000000000002,0.071,0.323,0.111,0.333,14.055,0.288,3.6609999999999996,1.105,5.795999999999999,0.12000000000000001,33.316,0.603,0.27,2.37,0.608,0.892,15.16,2.924,1.537,1.107,0.271,1.075,0.874],\"type\":\"sunburst\"}],                        {\"template\":{\"data\":{\"histogram2dcontour\":[{\"type\":\"histogram2dcontour\",\"colorbar\":{\"outlinewidth\":0,\"ticks\":\"\"},\"colorscale\":[[0.0,\"#0d0887\"],[0.1111111111111111,\"#46039f\"],[0.2222222222222222,\"#7201a8\"],[0.3333333333333333,\"#9c179e\"],[0.4444444444444444,\"#bd3786\"],[0.5555555555555556,\"#d8576b\"],[0.6666666666666666,\"#ed7953\"],[0.7777777777777778,\"#fb9f3a\"],[0.8888888888888888,\"#fdca26\"],[1.0,\"#f0f921\"]]}],\"choropleth\":[{\"type\":\"choropleth\",\"colorbar\":{\"outlinewidth\":0,\"ticks\":\"\"}}],\"histogram2d\":[{\"type\":\"histogram2d\",\"colorbar\":{\"outlinewidth\":0,\"ticks\":\"\"},\"colorscale\":[[0.0,\"#0d0887\"],[0.1111111111111111,\"#46039f\"],[0.2222222222222222,\"#7201a8\"],[0.3333333333333333,\"#9c179e\"],[0.4444444444444444,\"#bd3786\"],[0.5555555555555556,\"#d8576b\"],[0.6666666666666666,\"#ed7953\"],[0.7777777777777778,\"#fb9f3a\"],[0.8888888888888888,\"#fdca26\"],[1.0,\"#f0f921\"]]}],\"heatmap\":[{\"type\":\"heatmap\",\"colorbar\":{\"outlinewidth\":0,\"ticks\":\"\"},\"colorscale\":[[0.0,\"#0d0887\"],[0.1111111111111111,\"#46039f\"],[0.2222222222222222,\"#7201a8\"],[0.3333333333333333,\"#9c179e\"],[0.4444444444444444,\"#bd3786\"],[0.5555555555555556,\"#d8576b\"],[0.6666666666666666,\"#ed7953\"],[0.7777777777777778,\"#fb9f3a\"],[0.8888888888888888,\"#fdca26\"],[1.0,\"#f0f921\"]]}],\"heatmapgl\":[{\"type\":\"heatmapgl\",\"colorbar\":{\"outlinewidth\":0,\"ticks\":\"\"},\"colorscale\":[[0.0,\"#0d0887\"],[0.1111111111111111,\"#46039f\"],[0.2222222222222222,\"#7201a8\"],[0.3333333333333333,\"#9c179e\"],[0.4444444444444444,\"#bd3786\"],[0.5555555555555556,\"#d8576b\"],[0.6666666666666666,\"#ed7953\"],[0.7777777777777778,\"#fb9f3a\"],[0.8888888888888888,\"#fdca26\"],[1.0,\"#f0f921\"]]}],\"contourcarpet\":[{\"type\":\"contourcarpet\",\"colorbar\":{\"outlinewidth\":0,\"ticks\":\"\"}}],\"contour\":[{\"type\":\"contour\",\"colorbar\":{\"outlinewidth\":0,\"ticks\":\"\"},\"colorscale\":[[0.0,\"#0d0887\"],[0.1111111111111111,\"#46039f\"],[0.2222222222222222,\"#7201a8\"],[0.3333333333333333,\"#9c179e\"],[0.4444444444444444,\"#bd3786\"],[0.5555555555555556,\"#d8576b\"],[0.6666666666666666,\"#ed7953\"],[0.7777777777777778,\"#fb9f3a\"],[0.8888888888888888,\"#fdca26\"],[1.0,\"#f0f921\"]]}],\"surface\":[{\"type\":\"surface\",\"colorbar\":{\"outlinewidth\":0,\"ticks\":\"\"},\"colorscale\":[[0.0,\"#0d0887\"],[0.1111111111111111,\"#46039f\"],[0.2222222222222222,\"#7201a8\"],[0.3333333333333333,\"#9c179e\"],[0.4444444444444444,\"#bd3786\"],[0.5555555555555556,\"#d8576b\"],[0.6666666666666666,\"#ed7953\"],[0.7777777777777778,\"#fb9f3a\"],[0.8888888888888888,\"#fdca26\"],[1.0,\"#f0f921\"]]}],\"mesh3d\":[{\"type\":\"mesh3d\",\"colorbar\":{\"outlinewidth\":0,\"ticks\":\"\"}}],\"scatter\":[{\"fillpattern\":{\"fillmode\":\"overlay\",\"size\":10,\"solidity\":0.2},\"type\":\"scatter\"}],\"parcoords\":[{\"type\":\"parcoords\",\"line\":{\"colorbar\":{\"outlinewidth\":0,\"ticks\":\"\"}}}],\"scatterpolargl\":[{\"type\":\"scatterpolargl\",\"marker\":{\"colorbar\":{\"outlinewidth\":0,\"ticks\":\"\"}}}],\"bar\":[{\"error_x\":{\"color\":\"#2a3f5f\"},\"error_y\":{\"color\":\"#2a3f5f\"},\"marker\":{\"line\":{\"color\":\"#E5ECF6\",\"width\":0.5},\"pattern\":{\"fillmode\":\"overlay\",\"size\":10,\"solidity\":0.2}},\"type\":\"bar\"}],\"scattergeo\":[{\"type\":\"scattergeo\",\"marker\":{\"colorbar\":{\"outlinewidth\":0,\"ticks\":\"\"}}}],\"scatterpolar\":[{\"type\":\"scatterpolar\",\"marker\":{\"colorbar\":{\"outlinewidth\":0,\"ticks\":\"\"}}}],\"histogram\":[{\"marker\":{\"pattern\":{\"fillmode\":\"overlay\",\"size\":10,\"solidity\":0.2}},\"type\":\"histogram\"}],\"scattergl\":[{\"type\":\"scattergl\",\"marker\":{\"colorbar\":{\"outlinewidth\":0,\"ticks\":\"\"}}}],\"scatter3d\":[{\"type\":\"scatter3d\",\"line\":{\"colorbar\":{\"outlinewidth\":0,\"ticks\":\"\"}},\"marker\":{\"colorbar\":{\"outlinewidth\":0,\"ticks\":\"\"}}}],\"scattermapbox\":[{\"type\":\"scattermapbox\",\"marker\":{\"colorbar\":{\"outlinewidth\":0,\"ticks\":\"\"}}}],\"scatterternary\":[{\"type\":\"scatterternary\",\"marker\":{\"colorbar\":{\"outlinewidth\":0,\"ticks\":\"\"}}}],\"scattercarpet\":[{\"type\":\"scattercarpet\",\"marker\":{\"colorbar\":{\"outlinewidth\":0,\"ticks\":\"\"}}}],\"carpet\":[{\"aaxis\":{\"endlinecolor\":\"#2a3f5f\",\"gridcolor\":\"white\",\"linecolor\":\"white\",\"minorgridcolor\":\"white\",\"startlinecolor\":\"#2a3f5f\"},\"baxis\":{\"endlinecolor\":\"#2a3f5f\",\"gridcolor\":\"white\",\"linecolor\":\"white\",\"minorgridcolor\":\"white\",\"startlinecolor\":\"#2a3f5f\"},\"type\":\"carpet\"}],\"table\":[{\"cells\":{\"fill\":{\"color\":\"#EBF0F8\"},\"line\":{\"color\":\"white\"}},\"header\":{\"fill\":{\"color\":\"#C8D4E3\"},\"line\":{\"color\":\"white\"}},\"type\":\"table\"}],\"barpolar\":[{\"marker\":{\"line\":{\"color\":\"#E5ECF6\",\"width\":0.5},\"pattern\":{\"fillmode\":\"overlay\",\"size\":10,\"solidity\":0.2}},\"type\":\"barpolar\"}],\"pie\":[{\"automargin\":true,\"type\":\"pie\"}]},\"layout\":{\"autotypenumbers\":\"strict\",\"colorway\":[\"#636efa\",\"#EF553B\",\"#00cc96\",\"#ab63fa\",\"#FFA15A\",\"#19d3f3\",\"#FF6692\",\"#B6E880\",\"#FF97FF\",\"#FECB52\"],\"font\":{\"color\":\"#2a3f5f\"},\"hovermode\":\"closest\",\"hoverlabel\":{\"align\":\"left\"},\"paper_bgcolor\":\"white\",\"plot_bgcolor\":\"#E5ECF6\",\"polar\":{\"bgcolor\":\"#E5ECF6\",\"angularaxis\":{\"gridcolor\":\"white\",\"linecolor\":\"white\",\"ticks\":\"\"},\"radialaxis\":{\"gridcolor\":\"white\",\"linecolor\":\"white\",\"ticks\":\"\"}},\"ternary\":{\"bgcolor\":\"#E5ECF6\",\"aaxis\":{\"gridcolor\":\"white\",\"linecolor\":\"white\",\"ticks\":\"\"},\"baxis\":{\"gridcolor\":\"white\",\"linecolor\":\"white\",\"ticks\":\"\"},\"caxis\":{\"gridcolor\":\"white\",\"linecolor\":\"white\",\"ticks\":\"\"}},\"coloraxis\":{\"colorbar\":{\"outlinewidth\":0,\"ticks\":\"\"}},\"colorscale\":{\"sequential\":[[0.0,\"#0d0887\"],[0.1111111111111111,\"#46039f\"],[0.2222222222222222,\"#7201a8\"],[0.3333333333333333,\"#9c179e\"],[0.4444444444444444,\"#bd3786\"],[0.5555555555555556,\"#d8576b\"],[0.6666666666666666,\"#ed7953\"],[0.7777777777777778,\"#fb9f3a\"],[0.8888888888888888,\"#fdca26\"],[1.0,\"#f0f921\"]],\"sequentialminus\":[[0.0,\"#0d0887\"],[0.1111111111111111,\"#46039f\"],[0.2222222222222222,\"#7201a8\"],[0.3333333333333333,\"#9c179e\"],[0.4444444444444444,\"#bd3786\"],[0.5555555555555556,\"#d8576b\"],[0.6666666666666666,\"#ed7953\"],[0.7777777777777778,\"#fb9f3a\"],[0.8888888888888888,\"#fdca26\"],[1.0,\"#f0f921\"]],\"diverging\":[[0,\"#8e0152\"],[0.1,\"#c51b7d\"],[0.2,\"#de77ae\"],[0.3,\"#f1b6da\"],[0.4,\"#fde0ef\"],[0.5,\"#f7f7f7\"],[0.6,\"#e6f5d0\"],[0.7,\"#b8e186\"],[0.8,\"#7fbc41\"],[0.9,\"#4d9221\"],[1,\"#276419\"]]},\"xaxis\":{\"gridcolor\":\"white\",\"linecolor\":\"white\",\"ticks\":\"\",\"title\":{\"standoff\":15},\"zerolinecolor\":\"white\",\"automargin\":true,\"zerolinewidth\":2},\"yaxis\":{\"gridcolor\":\"white\",\"linecolor\":\"white\",\"ticks\":\"\",\"title\":{\"standoff\":15},\"zerolinecolor\":\"white\",\"automargin\":true,\"zerolinewidth\":2},\"scene\":{\"xaxis\":{\"backgroundcolor\":\"#E5ECF6\",\"gridcolor\":\"white\",\"linecolor\":\"white\",\"showbackground\":true,\"ticks\":\"\",\"zerolinecolor\":\"white\",\"gridwidth\":2},\"yaxis\":{\"backgroundcolor\":\"#E5ECF6\",\"gridcolor\":\"white\",\"linecolor\":\"white\",\"showbackground\":true,\"ticks\":\"\",\"zerolinecolor\":\"white\",\"gridwidth\":2},\"zaxis\":{\"backgroundcolor\":\"#E5ECF6\",\"gridcolor\":\"white\",\"linecolor\":\"white\",\"showbackground\":true,\"ticks\":\"\",\"zerolinecolor\":\"white\",\"gridwidth\":2}},\"shapedefaults\":{\"line\":{\"color\":\"#2a3f5f\"}},\"annotationdefaults\":{\"arrowcolor\":\"#2a3f5f\",\"arrowhead\":0,\"arrowwidth\":1},\"geo\":{\"bgcolor\":\"white\",\"landcolor\":\"#E5ECF6\",\"subunitcolor\":\"white\",\"showland\":true,\"showlakes\":true,\"lakecolor\":\"white\"},\"title\":{\"x\":0.05},\"mapbox\":{\"style\":\"light\"}}},\"legend\":{\"tracegroupgap\":0},\"margin\":{\"t\":60},\"title\":{\"text\":\"Sunburst Diagram\"},\"font\":{\"size\":10}},                        {\"responsive\": true}                    ).then(function(){\n",
       "                            \n",
       "var gd = document.getElementById('2f9c475a-4159-4d8f-9c79-795c84d4f383');\n",
       "var x = new MutationObserver(function (mutations, observer) {{\n",
       "        var display = window.getComputedStyle(gd).display;\n",
       "        if (!display || display === 'none') {{\n",
       "            console.log([gd, 'removed!']);\n",
       "            Plotly.purge(gd);\n",
       "            observer.disconnect();\n",
       "        }}\n",
       "}});\n",
       "\n",
       "// Listen for the removal of the full notebook cells\n",
       "var notebookContainer = gd.closest('#notebook-container');\n",
       "if (notebookContainer) {{\n",
       "    x.observe(notebookContainer, {childList: true});\n",
       "}}\n",
       "\n",
       "// Listen for the clearing of the current output cell\n",
       "var outputEl = gd.closest('.output');\n",
       "if (outputEl) {{\n",
       "    x.observe(outputEl, {childList: true});\n",
       "}}\n",
       "\n",
       "                        })                };                });            </script>        </div>"
      ]
     },
     "metadata": {},
     "output_type": "display_data"
    }
   ],
   "source": [
    "\n",
    "import plotly.express as px \n",
    "import plotly.graph_objects as go\n",
    "\n",
    "\n",
    "fig2 = px.sunburst(df, path=['Parent', 'Item and Group'], values='Weight', color='Parent', maxdepth=2)\n",
    "fig2.update_layout(title_text=\"Sunburst Diagram\", font_size=10)\n",
    "fig2.show()\n",
    "\n",
    "\n",
    "fig2 = px.sunburst(df, path=['Parent', 'Item and Group'], values='Weight', color='Parent', maxdepth=1)\n",
    "fig2.update_layout(title_text=\"Sunburst Diagram\", font_size=10)\n",
    "fig2.show()\n"
   ]
  },
  {
   "cell_type": "code",
   "execution_count": 117,
   "metadata": {},
   "outputs": [
    {
     "data": {
      "application/vnd.plotly.v1+json": {
       "config": {
        "plotlyServerURL": "https://plot.ly"
       },
       "data": [
        {
         "branchvalues": "total",
         "customdata": [
          [
           "Other recreation services"
          ],
          [
           "Women's and girls' apparel"
          ],
          [
           "Household furnishings and operations"
          ],
          [
           "Motor fuel"
          ],
          [
           "Household operations"
          ],
          [
           "Water and sewer and trash collection services"
          ],
          [
           "New and used motor vehicles"
          ],
          [
           "Professional services"
          ],
          [
           "Furniture and bedding"
          ],
          [
           "Private transportation"
          ],
          [
           "Recreation"
          ],
          [
           "Personal care products"
          ],
          [
           "Public transportation"
          ],
          [
           "Beef and veal"
          ],
          [
           "Recreational reading materials"
          ],
          [
           "Beverage materials including coffee and tea"
          ],
          [
           "Other food at home"
          ],
          [
           "Private transportation"
          ],
          [
           "Food away from home"
          ],
          [
           "Appliances"
          ],
          [
           "Meats, poultry, and fish"
          ],
          [
           "Meats, poultry, fish, and eggs"
          ],
          [
           "Video and audio"
          ],
          [
           "Other foods"
          ],
          [
           "Pork"
          ],
          [
           "Cereals and bakery products"
          ],
          [
           "Food and beverages"
          ],
          [
           "Footwear"
          ],
          [
           "Men's and boys' apparel"
          ],
          [
           "Nonalcoholic beverages and beverage materials"
          ],
          [
           "Other recreation services"
          ],
          [
           "Miscellaneous personal services"
          ],
          [
           "Miscellaneous personal services"
          ],
          [
           "-"
          ],
          [
           "Household furnishings and operations"
          ],
          [
           "Fresh fruits"
          ],
          [
           "Miscellaneous personal services"
          ],
          [
           "All items"
          ],
          [
           "Personal care products"
          ],
          [
           "Other recreational goods"
          ],
          [
           "Fresh fruits"
          ],
          [
           "Tobacco and smoking products"
          ],
          [
           "Tuition, other school fees, and childcare"
          ],
          [
           "Other household equipment and furnishings"
          ],
          [
           "Household operations"
          ],
          [
           "Furniture and bedding"
          ],
          [
           "Owners' equivalent rent of residences"
          ],
          [
           "Appliances"
          ],
          [
           "Communication"
          ],
          [
           "Apparel"
          ],
          [
           "Food away from home"
          ],
          [
           "Food"
          ],
          [
           "Food"
          ],
          [
           "Food at home"
          ],
          [
           "Cereals and bakery products"
          ],
          [
           "Processed fruits and vegetables"
          ],
          [
           "Alcoholic beverages"
          ],
          [
           "Food away from home"
          ],
          [
           "Beverages"
          ],
          [
           "Alcoholic beverages"
          ],
          [
           "Meats, poultry, fish, and eggs"
          ],
          [
           "Other recreation services"
          ],
          [
           "Poultry"
          ],
          [
           "Fresh fruits"
          ],
          [
           "Meats, poultry, and fish"
          ],
          [
           "Fuel oil and other fuels"
          ],
          [
           "Food at home"
          ],
          [
           "Household energy"
          ],
          [
           "Juices and nonalcoholic drinks"
          ],
          [
           "Housing"
          ],
          [
           "Food at home"
          ],
          [
           "Fats and oils"
          ],
          [
           "Dairy and related products"
          ],
          [
           "Education and communication"
          ],
          [
           "Information technology, hardware and services"
          ],
          [
           "Information technology, hardware and services"
          ],
          [
           "Personal care products"
          ],
          [
           "Tuition, other school fees, and childcare"
          ],
          [
           "Food at home"
          ],
          [
           "Postage and delivery services"
          ],
          [
           "Alcoholic beverages at home"
          ],
          [
           "Other household equipment and furnishings"
          ],
          [
           "Professional services"
          ],
          [
           "Household operations"
          ],
          [
           "Beverage materials including coffee and tea"
          ],
          [
           "Lodging away from home"
          ],
          [
           "Dairy and related products"
          ],
          [
           "Household furnishings and operations"
          ],
          [
           "Information and information processing"
          ],
          [
           "Fresh vegetables"
          ],
          [
           "Miscellaneous personal services"
          ],
          [
           "Furniture and bedding"
          ],
          [
           "Food away from home"
          ],
          [
           "All items"
          ],
          [
           "Transportation"
          ],
          [
           "Video and audio"
          ],
          [
           "All items"
          ],
          [
           "Other household equipment and furnishings"
          ],
          [
           "New and used motor vehicles"
          ],
          [
           "Apparel"
          ],
          [
           "Dairy and related products"
          ],
          [
           "Footwear"
          ],
          [
           "Medical care commodities"
          ],
          [
           "Shelter"
          ],
          [
           "Food at home"
          ],
          [
           "Private transportation"
          ],
          [
           "Personal care"
          ],
          [
           "Housekeeping supplies"
          ],
          [
           "Motor vehicle maintenance and repair"
          ],
          [
           "Private transportation"
          ],
          [
           "Men's apparel"
          ],
          [
           "Men's apparel"
          ],
          [
           "Men's apparel"
          ],
          [
           "Jewelry and watches"
          ],
          [
           "Housekeeping supplies"
          ],
          [
           "Personal care services"
          ],
          [
           "Other recreation services"
          ],
          [
           "Sporting goods"
          ],
          [
           "Women's apparel"
          ],
          [
           "Video and audio"
          ],
          [
           "Tuition, other school fees, and childcare"
          ],
          [
           "Tools, hardware, outdoor equipment and supplies"
          ],
          [
           "Tobacco and smoking products"
          ],
          [
           "Fresh fruits"
          ],
          [
           "Fresh vegetables"
          ],
          [
           "Household energy"
          ],
          [
           "Professional services"
          ],
          [
           "Tuition, other school fees, and childcare"
          ],
          [
           "Hospital and related services"
          ],
          [
           "Medical care services"
          ],
          [
           "Alcoholic beverages at home"
          ],
          [
           "Bakery products"
          ],
          [
           "Sugar and sweets"
          ],
          [
           "Hospital and related services"
          ],
          [
           "Processed fruits and vegetables"
          ],
          [
           "Meats"
          ],
          [
           "Dairy and related products"
          ],
          [
           "Furniture and bedding"
          ],
          [
           "Meats, poultry, and fish"
          ],
          [
           "Meats"
          ],
          [
           "Fresh vegetables"
          ],
          [
           "Pork"
          ],
          [
           "Medicinal drugs"
          ],
          [
           "Recreational reading materials"
          ],
          [
           "Fuel oil and other fuels"
          ],
          [
           "Communication"
          ],
          [
           "Postage and delivery services"
          ],
          [
           "Motor vehicle maintenance and repair"
          ],
          [
           "New and used motor vehicles"
          ],
          [
           "Private transportation"
          ],
          [
           "Motor vehicle maintenance and repair"
          ],
          [
           "Household operations"
          ],
          [
           "Other recreational goods"
          ],
          [
           "Private transportation"
          ],
          [
           "Women's and girls' apparel"
          ],
          [
           "Women's apparel"
          ],
          [
           "Footwear"
          ],
          [
           "Women's apparel"
          ],
          [
           "Women's apparel"
          ],
          [
           "Women's apparel"
          ],
          [
           "Processed fruits and vegetables"
          ],
          [
           "Pork"
          ],
          [
           "Personal care"
          ],
          [
           "Personal care"
          ],
          [
           "Pets, pet products and services"
          ],
          [
           "Owners' equivalent rent of residences"
          ],
          [
           "Tools, hardware, outdoor equipment and supplies"
          ],
          [
           "Video and audio"
          ],
          [
           "Shelter"
          ],
          [
           "Sugar and sweets"
          ],
          [
           "Recreation"
          ],
          [
           "Other foods"
          ],
          [
           "Meats"
          ],
          [
           "Lodging away from home"
          ],
          [
           "Window and floor coverings and other linens"
          ],
          [
           "Public transportation"
          ],
          [
           "Energy services"
          ],
          [
           "Other food at home"
          ],
          [
           "Window and floor coverings and other linens"
          ],
          [
           "Food away from home"
          ],
          [
           "Apparel"
          ],
          [
           "Bakery products"
          ],
          [
           "Fish and seafood"
          ],
          [
           "Fresh fruits and vegetables"
          ],
          [
           "Fruits and vegetables"
          ],
          [
           "Fresh fruits and vegetables"
          ],
          [
           "Other foods"
          ],
          [
           "Jewelry and watches"
          ],
          [
           "Energy services"
          ],
          [
           "Medical care"
          ],
          [
           "Medical care"
          ],
          [
           "All items"
          ],
          [
           "Medical care commodities"
          ],
          [
           "All items"
          ],
          [
           "Other recreational goods"
          ],
          [
           "Household furnishings and operations"
          ],
          [
           "Tools, hardware, outdoor equipment and supplies"
          ],
          [
           "Tobacco and smoking products"
          ],
          [
           "Other goods and services"
          ],
          [
           "Motor vehicle parts and equipment"
          ],
          [
           "Shelter"
          ],
          [
           "Housing"
          ],
          [
           "Fuels and utilities"
          ],
          [
           "Fuels and utilities"
          ],
          [
           "Alcoholic beverages at home"
          ],
          [
           "Apparel"
          ],
          [
           "Household furnishings and operations"
          ],
          [
           "Water and sewer and trash collection services"
          ],
          [
           "Window and floor coverings and other linens"
          ],
          [
           "Telephone services"
          ],
          [
           "Recreation"
          ],
          [
           "Other foods"
          ],
          [
           "Tuition, other school fees, and childcare"
          ],
          [
           "Information technology, hardware and services"
          ],
          [
           "Information and information processing"
          ],
          [
           "Video and audio"
          ],
          [
           "Fats and oils"
          ],
          [
           "Cereals and cereal products"
          ],
          [
           "Bakery products"
          ],
          [
           "Photography"
          ],
          [
           "Public transportation"
          ],
          [
           "New and used motor vehicles"
          ],
          [
           "Juices and nonalcoholic drinks"
          ],
          [
           "Household furnishings and operations"
          ],
          [
           "Poultry"
          ],
          [
           "Recreation"
          ],
          [
           "Motor fuel"
          ],
          [
           "Other goods and services"
          ],
          [
           "Motor vehicle fees"
          ],
          [
           "Education and communication"
          ],
          [
           "All items"
          ],
          [
           "Education"
          ],
          [
           "Fish and seafood"
          ],
          [
           "Transportation"
          ],
          [
           "Medical care services"
          ],
          [
           "Fruits and vegetables"
          ],
          [
           "Recreation"
          ],
          [
           "Photography"
          ],
          [
           "Photography"
          ],
          [
           "Recreation"
          ],
          [
           "Video and audio"
          ],
          [
           "Other food at home"
          ],
          [
           "Fresh vegetables"
          ],
          [
           "Other foods"
          ],
          [
           "Sporting goods"
          ],
          [
           "Education"
          ],
          [
           "Shelter"
          ],
          [
           "Beef and veal"
          ],
          [
           "Beef and veal"
          ],
          [
           "Beef and veal"
          ],
          [
           "Pork"
          ],
          [
           "Housekeeping supplies"
          ],
          [
           "Medical care services"
          ],
          [
           "Household furnishings and operations"
          ],
          [
           "Sporting goods"
          ],
          [
           "Motor vehicle fees"
          ],
          [
           "Sugar and sweets"
          ],
          [
           "Food and beverages"
          ],
          [
           "All items"
          ],
          [
           "Cereals and cereal products"
          ],
          [
           "Motor vehicle maintenance and repair"
          ],
          [
           "Recreational reading materials"
          ],
          [
           "Video and audio"
          ],
          [
           "Motor vehicle parts and equipment"
          ],
          [
           "Recreation"
          ],
          [
           "Apparel"
          ],
          [
           "Men's apparel"
          ],
          [
           "Men's and boys' apparel"
          ],
          [
           "All items"
          ],
          [
           "Pets, pet products and services"
          ],
          [
           "Information technology, hardware and services"
          ],
          [
           "New and used motor vehicles"
          ],
          [
           "Motor vehicle fees"
          ],
          [
           "Men's apparel"
          ],
          [
           "Miscellaneous personal services"
          ],
          [
           "Other foods"
          ],
          [
           "Household operations"
          ],
          [
           "Housing"
          ],
          [
           "Other recreational goods"
          ],
          [
           "Professional services"
          ],
          [
           "Fats and oils"
          ],
          [
           "Cereals and cereal products"
          ],
          [
           "Information technology, hardware and services"
          ],
          [
           "Public transportation"
          ],
          [
           "Telephone services"
          ],
          [
           "Miscellaneous personal services"
          ],
          [
           "Nonalcoholic beverages and beverage materials"
          ],
          [
           "Food at home"
          ],
          [
           "Bakery products"
          ],
          [
           "Appliances"
          ],
          [
           "Hospital and related services"
          ],
          [
           "Other household equipment and furnishings"
          ],
          [
           "Medicinal drugs"
          ],
          [
           "Juices and nonalcoholic drinks"
          ],
          [
           "-"
          ],
          [
           "Alcoholic beverages"
          ],
          [
           "Alcoholic beverages at home"
          ],
          [
           "All items"
          ],
          [
           "Apparel"
          ],
          [
           "Appliances"
          ],
          [
           "Bakery products"
          ],
          [
           "Beef and veal"
          ],
          [
           "Beverage materials including coffee and tea"
          ],
          [
           "Beverages"
          ],
          [
           "Cereals and bakery products"
          ],
          [
           "Cereals and cereal products"
          ],
          [
           "Communication"
          ],
          [
           "Dairy and related products"
          ],
          [
           "Education"
          ],
          [
           "Education and communication"
          ],
          [
           "Energy services"
          ],
          [
           "Fats and oils"
          ],
          [
           "Fish and seafood"
          ],
          [
           "Food"
          ],
          [
           "Food and beverages"
          ],
          [
           "Food at home"
          ],
          [
           "Food away from home"
          ],
          [
           "Footwear"
          ],
          [
           "Fresh fruits"
          ],
          [
           "Fresh fruits and vegetables"
          ],
          [
           "Fresh vegetables"
          ],
          [
           "Fruits and vegetables"
          ],
          [
           "Fuel oil and other fuels"
          ],
          [
           "Fuels and utilities"
          ],
          [
           "Furniture and bedding"
          ],
          [
           "Hospital and related services"
          ],
          [
           "Household energy"
          ],
          [
           "Household furnishings and operations"
          ],
          [
           "Household operations"
          ],
          [
           "Housekeeping supplies"
          ],
          [
           "Housing"
          ],
          [
           "Information and information processing"
          ],
          [
           "Information technology, hardware and services"
          ],
          [
           "Jewelry and watches"
          ],
          [
           "Juices and nonalcoholic drinks"
          ],
          [
           "Lodging away from home"
          ],
          [
           "Meats"
          ],
          [
           "Meats, poultry, and fish"
          ],
          [
           "Meats, poultry, fish, and eggs"
          ],
          [
           "Medical care"
          ],
          [
           "Medical care commodities"
          ],
          [
           "Medical care services"
          ],
          [
           "Medicinal drugs"
          ],
          [
           "Men's and boys' apparel"
          ],
          [
           "Men's apparel"
          ],
          [
           "Miscellaneous personal services"
          ],
          [
           "Motor fuel"
          ],
          [
           "Motor vehicle fees"
          ],
          [
           "Motor vehicle maintenance and repair"
          ],
          [
           "Motor vehicle parts and equipment"
          ],
          [
           "New and used motor vehicles"
          ],
          [
           "Nonalcoholic beverages and beverage materials"
          ],
          [
           "Other food at home"
          ],
          [
           "Other foods"
          ],
          [
           "Other goods and services"
          ],
          [
           "Other household equipment and furnishings"
          ],
          [
           "Other recreation services"
          ],
          [
           "Other recreational goods"
          ],
          [
           "Owners' equivalent rent of residences"
          ],
          [
           "Personal care"
          ],
          [
           "Personal care products"
          ],
          [
           "Personal care services"
          ],
          [
           "Pets, pet products and services"
          ],
          [
           "Photography"
          ],
          [
           "Pork"
          ],
          [
           "Postage and delivery services"
          ],
          [
           "Poultry"
          ],
          [
           "Private transportation"
          ],
          [
           "Processed fruits and vegetables"
          ],
          [
           "Professional services"
          ],
          [
           "Public transportation"
          ],
          [
           "Recreation"
          ],
          [
           "Recreational reading materials"
          ],
          [
           "Shelter"
          ],
          [
           "Sporting goods"
          ],
          [
           "Sugar and sweets"
          ],
          [
           "Telephone services"
          ],
          [
           "Tobacco and smoking products"
          ],
          [
           "Tools, hardware, outdoor equipment and supplies"
          ],
          [
           "Transportation"
          ],
          [
           "Tuition, other school fees, and childcare"
          ],
          [
           "Video and audio"
          ],
          [
           "Water and sewer and trash collection services"
          ],
          [
           "Window and floor coverings and other linens"
          ],
          [
           "Women's and girls' apparel"
          ],
          [
           "Women's apparel"
          ]
         ],
         "domain": {
          "x": [
           0,
           1
          ],
          "y": [
           0,
           1
          ]
         },
         "hovertemplate": "labels=%{label}<br>Weight=%{value}<br>parent=%{parent}<br>id=%{id}<br>Parent=%{customdata[0]}<extra></extra>",
         "ids": [
          "Other recreation services/Admissions",
          "Women's and girls' apparel/Girls' apparel",
          "Household furnishings and operations/Furniture and bedding",
          "Motor fuel/Gasoline (all types)",
          "Household operations/Gardening and lawncare services",
          "Water and sewer and trash collection services/Garbage and trash collection",
          "New and used motor vehicles/Used cars and trucks",
          "Professional services/Physicians' services",
          "Furniture and bedding/Other furniture",
          "Private transportation/Motor vehicle insurance",
          "Recreation/Recreational reading materials",
          "Personal care products/Hair, dental, shaving, and miscellaneous personal care products",
          "Public transportation/Airline fares",
          "Beef and veal/Uncooked other beef and veal",
          "Recreational reading materials/Newspapers and magazines",
          "Beverage materials including coffee and tea/Other beverage materials including tea",
          "Other food at home/Other foods",
          "Private transportation/Motor vehicle maintenance and repair",
          "Food away from home/Other food away from home",
          "Appliances/Major appliances",
          "Meats, poultry, and fish/Meats",
          "Meats, poultry, fish, and eggs/Meats, poultry, and fish",
          "Video and audio/Audio equipment",
          "Other foods/Baby food",
          "Pork/Bacon, breakfast sausage, and related products",
          "Cereals and bakery products/Bakery products",
          "Food and beverages/Beverages",
          "Footwear/Boys' and girls' footwear",
          "Men's and boys' apparel/Boys' apparel",
          "Nonalcoholic beverages and beverage materials/Beverage materials including coffee and tea",
          "Other recreation services/Fees for lessons or instructions",
          "Miscellaneous personal services/Financial services",
          "Miscellaneous personal services/Funeral expenses",
          "-/All items",
          "Household furnishings and operations/Appliances",
          "Fresh fruits/Apples",
          "Miscellaneous personal services/Apparel services other than laundry and dry cleaning",
          "All items/Apparel",
          "Personal care products/Unsampled personal care products",
          "Other recreational goods/Unsampled recreation commodities",
          "Fresh fruits/Citrus fruits",
          "Tobacco and smoking products/Cigarettes",
          "Tuition, other school fees, and childcare/Child care and nursery school",
          "Other household equipment and furnishings/Clocks, lamps, and decorator items",
          "Household operations/Unsampled household operations",
          "Furniture and bedding/Unsampled furniture",
          "Owners' equivalent rent of residences/Unsampled owners' equivalent rent of secondary residences",
          "Appliances/Unsampled appliances",
          "Communication/Information and information processing",
          "Apparel/Infants' and toddlers' apparel",
          "Food away from home/Food from vending machines and mobile vendors",
          "Food/Food away from home",
          "Food/Food at home",
          "Food at home/Cereals and bakery products",
          "Cereals and bakery products/Cereals and cereal products",
          "Processed fruits and vegetables/Frozen fruits and vegetables",
          "Alcoholic beverages/Alcoholic beverages at home",
          "Food away from home/Full service meals and snacks",
          "Beverages/Alcoholic beverages",
          "Alcoholic beverages/Alcoholic beverages away from home",
          "Meats, poultry, fish, and eggs/Eggs",
          "Other recreation services/Club membership for shopping clubs, fraternal, or other organizations, or participant sports fees",
          "Poultry/Chicken",
          "Fresh fruits/Bananas",
          "Meats, poultry, and fish/Fish and seafood",
          "Fuel oil and other fuels/Fuel oil",
          "Food at home/Fruits and vegetables",
          "Household energy/Fuel oil and other fuels",
          "Juices and nonalcoholic drinks/Frozen noncarbonated juices and drinks",
          "Housing/Fuels and utilities",
          "Food at home/Other food at home",
          "Fats and oils/Other fats and oils including peanut butter",
          "Dairy and related products/Other dairy and related products",
          "Education and communication/Communication",
          "Information technology, hardware and services/Computer software and accessories",
          "Information technology, hardware and services/Computers, peripherals, and smart home assistant devices",
          "Personal care products/Cosmetics, perfume, bath, nail preparations and implements",
          "Tuition, other school fees, and childcare/College tuition and fees",
          "Food at home/Dairy and related products",
          "Postage and delivery services/Delivery services",
          "Alcoholic beverages at home/Distilled spirits at home",
          "Other household equipment and furnishings/Dishes and flatware",
          "Professional services/Dental services",
          "Household operations/Domestic services",
          "Beverage materials including coffee and tea/Coffee",
          "Lodging away from home/Housing at school, excluding board",
          "Dairy and related products/Ice cream and related products",
          "Household furnishings and operations/Housekeeping supplies",
          "Information and information processing/Information technology, hardware and services",
          "Fresh vegetables/Lettuce",
          "Miscellaneous personal services/Legal services",
          "Furniture and bedding/Living room, kitchen, and dining room furniture",
          "Food away from home/Limited service meals and snacks",
          "All items/Recreation",
          "Transportation/Public transportation",
          "Video and audio/Recorded music and music subscriptions",
          "All items/Housing",
          "Other household equipment and furnishings/Indoor plants and flowers",
          "New and used motor vehicles/Leased cars and trucks",
          "Apparel/Jewelry and watches",
          "Dairy and related products/Milk",
          "Footwear/Men's footwear",
          "Medical care commodities/Medicinal drugs",
          "Shelter/Lodging away from home",
          "Food at home/Meats, poultry, fish, and eggs",
          "Private transportation/Motor fuel",
          "Personal care/Miscellaneous personal services",
          "Housekeeping supplies/Miscellaneous household products",
          "Motor vehicle maintenance and repair/Motor vehicle body work",
          "Private transportation/Motor vehicle fees",
          "Men's apparel/Men's shirts and sweaters",
          "Men's apparel/Men's suits, sport coats, and outerwear",
          "Men's apparel/Men's pants and shorts",
          "Jewelry and watches/Jewelry",
          "Housekeeping supplies/Household paper products",
          "Personal care services/Haircuts and other personal care services",
          "Other recreation services/Unsampled recreation services",
          "Sporting goods/Unsampled sporting goods",
          "Women's apparel/Unsampled women's apparel",
          "Video and audio/Unsampled video and audio",
          "Tuition, other school fees, and childcare/Unsampled tuition, other school fees, and childcare",
          "Tools, hardware, outdoor equipment and supplies/Unsampled tools, hardware, outdoor equipment and supplies",
          "Tobacco and smoking products/Unsampled tobacco and smoking products",
          "Fresh fruits/Other fresh fruits",
          "Fresh vegetables/Other fresh vegetables",
          "Household energy/Energy services",
          "Professional services/Eyeglasses and eye care",
          "Tuition, other school fees, and childcare/Elementary and high school tuition and fees",
          "Hospital and related services/Hospital services",
          "Medical care services/Hospital and related services",
          "Alcoholic beverages at home/Beer, ale, and other malt beverages at home",
          "Bakery products/Bread",
          "Sugar and sweets/Candy and chewing gum",
          "Hospital and related services/Care of invalids and elderly at home",
          "Processed fruits and vegetables/Canned fruits and vegetables",
          "Meats/Beef and veal",
          "Dairy and related products/Cheese and related products",
          "Furniture and bedding/Bedroom furniture",
          "Meats, poultry, and fish/Poultry",
          "Meats/Pork",
          "Fresh vegetables/Potatoes",
          "Pork/Pork chops",
          "Medicinal drugs/Prescription drugs",
          "Recreational reading materials/Recreational books",
          "Fuel oil and other fuels/Propane, kerosene, and firewood",
          "Communication/Postage and delivery services",
          "Postage and delivery services/Postage",
          "Motor vehicle maintenance and repair/Motor vehicle maintenance and servicing",
          "New and used motor vehicles/New vehicles",
          "Private transportation/Motor vehicle parts and equipment",
          "Motor vehicle maintenance and repair/Motor vehicle repair",
          "Household operations/Moving, storage, freight expense",
          "Other recreational goods/Music instruments and accessories",
          "Private transportation/New and used motor vehicles",
          "Women's and girls' apparel/Women's apparel",
          "Women's apparel/Women's dresses",
          "Footwear/Women's footwear",
          "Women's apparel/Women's outerwear",
          "Women's apparel/Women's underwear, nightwear, sportswear, and accessories",
          "Women's apparel/Women's suits and separates",
          "Processed fruits and vegetables/Other processed fruits and vegetables including dried",
          "Pork/Other pork including roasts, steaks, and ribs",
          "Personal care/Personal care products",
          "Personal care/Personal care services",
          "Pets, pet products and services/Pet services including veterinary",
          "Owners' equivalent rent of residences/Owners' equivalent rent of primary residence",
          "Tools, hardware, outdoor equipment and supplies/Outdoor equipment and supplies",
          "Video and audio/Other video equipment",
          "Shelter/Owners' equivalent rent of residences",
          "Sugar and sweets/Other sweets",
          "Recreation/Other recreational goods",
          "Other foods/Other miscellaneous foods",
          "Meats/Other meats",
          "Lodging away from home/Other lodging away from home including hotels and motels",
          "Window and floor coverings and other linens/Other linens",
          "Public transportation/Other intercity transportation",
          "Energy services/Electricity",
          "Other food at home/Fats and oils",
          "Window and floor coverings and other linens/Floor coverings",
          "Food away from home/Food at employee sites and schools",
          "Apparel/Footwear",
          "Bakery products/Fresh biscuits, rolls, muffins",
          "Fish and seafood/Fresh fish and seafood",
          "Fresh fruits and vegetables/Fresh fruits",
          "Fruits and vegetables/Fresh fruits and vegetables",
          "Fresh fruits and vegetables/Fresh vegetables",
          "Other foods/Frozen and freeze dried prepared foods",
          "Jewelry and watches/Watches",
          "Energy services/Utility (piped) gas service",
          "Medical care/Medical care services",
          "Medical care/Medical care commodities",
          "All items/Medical care",
          "Medical care commodities/Medical equipment and supplies",
          "All items/Transportation",
          "Other recreational goods/Toys",
          "Household furnishings and operations/Tools, hardware, outdoor equipment and supplies",
          "Tools, hardware, outdoor equipment and supplies/Tools, hardware and supplies",
          "Tobacco and smoking products/Tobacco products other than cigarettes",
          "Other goods and services/Tobacco and smoking products",
          "Motor vehicle parts and equipment/Tires",
          "Shelter/Tenants' and household insurance",
          "Housing/Household furnishings and operations",
          "Fuels and utilities/Household energy",
          "Fuels and utilities/Water and sewer and trash collection services",
          "Alcoholic beverages at home/Wine at home",
          "Apparel/Women's and girls' apparel",
          "Household furnishings and operations/Window and floor coverings and other linens",
          "Water and sewer and trash collection services/Water and sewerage maintenance",
          "Window and floor coverings and other linens/Window coverings",
          "Telephone services/Wireless telephone services",
          "Recreation/Sporting goods",
          "Other foods/Spices, seasonings, condiments, sauces",
          "Tuition, other school fees, and childcare/Technical and business school tuition and fees",
          "Information technology, hardware and services/Telephone hardware, calculators, and other consumer information items",
          "Information and information processing/Telephone services",
          "Video and audio/Cable and satellite television service",
          "Fats and oils/Butter and margarine",
          "Cereals and cereal products/Breakfast cereal",
          "Bakery products/Cakes, cupcakes, and cookies",
          "Photography/Unsampled photography",
          "Public transportation/Unsampled public transportation",
          "New and used motor vehicles/Car and truck rental",
          "Juices and nonalcoholic drinks/Carbonated drinks",
          "Household furnishings and operations/Other household equipment and furnishings",
          "Poultry/Other uncooked poultry including turkey",
          "Recreation/Other recreation services",
          "Motor fuel/Other motor fuels",
          "Other goods and services/Personal care",
          "Motor vehicle fees/Parking and other fees",
          "Education and communication/Education",
          "All items/Education and communication",
          "Education/Educational books and supplies",
          "Fish and seafood/Processed fish and seafood",
          "Transportation/Private transportation",
          "Medical care services/Professional services",
          "Fruits and vegetables/Processed fruits and vegetables",
          "Recreation/Pets, pet products and services",
          "Photography/Photographers and photo processing",
          "Photography/Photographic equipment and supplies",
          "Recreation/Photography",
          "Video and audio/Televisions",
          "Other food at home/Sugar and sweets",
          "Fresh vegetables/Tomatoes",
          "Other foods/Soups",
          "Sporting goods/Sports equipment",
          "Education/Tuition, other school fees, and childcare",
          "Shelter/Rent of primary residence",
          "Beef and veal/Uncooked ground beef",
          "Beef and veal/Uncooked beef roasts",
          "Beef and veal/Uncooked beef steaks",
          "Pork/Ham",
          "Housekeeping supplies/Household cleaning products",
          "Medical care services/Health insurance",
          "Household furnishings and operations/Household operations",
          "Sporting goods/Sports vehicles including bicycles",
          "Motor vehicle fees/State motor vehicle registration and license fees",
          "Sugar and sweets/Sugar and sugar substitutes",
          "Food and beverages/Food",
          "All items/Food and beverages",
          "Cereals and cereal products/Flour and prepared flour mixes",
          "Motor vehicle maintenance and repair/Unsampled service policies",
          "Recreational reading materials/Unsampled recreational reading materials",
          "Video and audio/Video discs and other media, including rental of video",
          "Motor vehicle parts and equipment/Vehicle accessories other than tires",
          "Recreation/Video and audio",
          "Apparel/Men's and boys' apparel",
          "Men's apparel/Men''s underwear, nightwear, swimwear, and accessories",
          "Men's and boys' apparel/Men's apparel",
          "All items/Other goods and services",
          "Pets, pet products and services/Pets and pet products",
          "Information technology, hardware and services/Unsampled information and information processing",
          "New and used motor vehicles/Unsampled new and used motor vehicles",
          "Motor vehicle fees/Unsampled motor vehicle fees",
          "Men's apparel/Unsampled men's apparel",
          "Miscellaneous personal services/Unsampled items",
          "Other foods/Snacks",
          "Household operations/Repair of household items",
          "Housing/Shelter",
          "Other recreational goods/Sewing machines, fabric and supplies",
          "Professional services/Services by other medical professionals",
          "Fats and oils/Salad dressing",
          "Cereals and cereal products/Rice, pasta, cornmeal",
          "Information technology, hardware and services/Internet services and electronic information providers",
          "Public transportation/Intracity transportation",
          "Telephone services/Land-line telephone services",
          "Miscellaneous personal services/Laundry and dry cleaning services",
          "Nonalcoholic beverages and beverage materials/Juices and nonalcoholic drinks",
          "Food at home/Nonalcoholic beverages and beverage materials",
          "Bakery products/Other bakery products",
          "Appliances/Other appliances",
          "Hospital and related services/Nursing homes and adult day services",
          "Other household equipment and furnishings/Nonelectric cookware and tableware",
          "Medicinal drugs/Nonprescription drugs",
          "Juices and nonalcoholic drinks/Nonfrozen noncarbonated juices and drinks",
          "-",
          "Alcoholic beverages",
          "Alcoholic beverages at home",
          "All items",
          "Apparel",
          "Appliances",
          "Bakery products",
          "Beef and veal",
          "Beverage materials including coffee and tea",
          "Beverages",
          "Cereals and bakery products",
          "Cereals and cereal products",
          "Communication",
          "Dairy and related products",
          "Education",
          "Education and communication",
          "Energy services",
          "Fats and oils",
          "Fish and seafood",
          "Food",
          "Food and beverages",
          "Food at home",
          "Food away from home",
          "Footwear",
          "Fresh fruits",
          "Fresh fruits and vegetables",
          "Fresh vegetables",
          "Fruits and vegetables",
          "Fuel oil and other fuels",
          "Fuels and utilities",
          "Furniture and bedding",
          "Hospital and related services",
          "Household energy",
          "Household furnishings and operations",
          "Household operations",
          "Housekeeping supplies",
          "Housing",
          "Information and information processing",
          "Information technology, hardware and services",
          "Jewelry and watches",
          "Juices and nonalcoholic drinks",
          "Lodging away from home",
          "Meats",
          "Meats, poultry, and fish",
          "Meats, poultry, fish, and eggs",
          "Medical care",
          "Medical care commodities",
          "Medical care services",
          "Medicinal drugs",
          "Men's and boys' apparel",
          "Men's apparel",
          "Miscellaneous personal services",
          "Motor fuel",
          "Motor vehicle fees",
          "Motor vehicle maintenance and repair",
          "Motor vehicle parts and equipment",
          "New and used motor vehicles",
          "Nonalcoholic beverages and beverage materials",
          "Other food at home",
          "Other foods",
          "Other goods and services",
          "Other household equipment and furnishings",
          "Other recreation services",
          "Other recreational goods",
          "Owners' equivalent rent of residences",
          "Personal care",
          "Personal care products",
          "Personal care services",
          "Pets, pet products and services",
          "Photography",
          "Pork",
          "Postage and delivery services",
          "Poultry",
          "Private transportation",
          "Processed fruits and vegetables",
          "Professional services",
          "Public transportation",
          "Recreation",
          "Recreational reading materials",
          "Shelter",
          "Sporting goods",
          "Sugar and sweets",
          "Telephone services",
          "Tobacco and smoking products",
          "Tools, hardware, outdoor equipment and supplies",
          "Transportation",
          "Tuition, other school fees, and childcare",
          "Video and audio",
          "Water and sewer and trash collection services",
          "Window and floor coverings and other linens",
          "Women's and girls' apparel",
          "Women's apparel"
         ],
         "labels": [
          "Admissions",
          "Girls' apparel",
          "Furniture and bedding",
          "Gasoline (all types)",
          "Gardening and lawncare services",
          "Garbage and trash collection",
          "Used cars and trucks",
          "Physicians' services",
          "Other furniture",
          "Motor vehicle insurance",
          "Recreational reading materials",
          "Hair, dental, shaving, and miscellaneous personal care products",
          "Airline fares",
          "Uncooked other beef and veal",
          "Newspapers and magazines",
          "Other beverage materials including tea",
          "Other foods",
          "Motor vehicle maintenance and repair",
          "Other food away from home",
          "Major appliances",
          "Meats",
          "Meats, poultry, and fish",
          "Audio equipment",
          "Baby food",
          "Bacon, breakfast sausage, and related products",
          "Bakery products",
          "Beverages",
          "Boys' and girls' footwear",
          "Boys' apparel",
          "Beverage materials including coffee and tea",
          "Fees for lessons or instructions",
          "Financial services",
          "Funeral expenses",
          "All items",
          "Appliances",
          "Apples",
          "Apparel services other than laundry and dry cleaning",
          "Apparel",
          "Unsampled personal care products",
          "Unsampled recreation commodities",
          "Citrus fruits",
          "Cigarettes",
          "Child care and nursery school",
          "Clocks, lamps, and decorator items",
          "Unsampled household operations",
          "Unsampled furniture",
          "Unsampled owners' equivalent rent of secondary residences",
          "Unsampled appliances",
          "Information and information processing",
          "Infants' and toddlers' apparel",
          "Food from vending machines and mobile vendors",
          "Food away from home",
          "Food at home",
          "Cereals and bakery products",
          "Cereals and cereal products",
          "Frozen fruits and vegetables",
          "Alcoholic beverages at home",
          "Full service meals and snacks",
          "Alcoholic beverages",
          "Alcoholic beverages away from home",
          "Eggs",
          "Club membership for shopping clubs, fraternal, or other organizations, or participant sports fees",
          "Chicken",
          "Bananas",
          "Fish and seafood",
          "Fuel oil",
          "Fruits and vegetables",
          "Fuel oil and other fuels",
          "Frozen noncarbonated juices and drinks",
          "Fuels and utilities",
          "Other food at home",
          "Other fats and oils including peanut butter",
          "Other dairy and related products",
          "Communication",
          "Computer software and accessories",
          "Computers, peripherals, and smart home assistant devices",
          "Cosmetics, perfume, bath, nail preparations and implements",
          "College tuition and fees",
          "Dairy and related products",
          "Delivery services",
          "Distilled spirits at home",
          "Dishes and flatware",
          "Dental services",
          "Domestic services",
          "Coffee",
          "Housing at school, excluding board",
          "Ice cream and related products",
          "Housekeeping supplies",
          "Information technology, hardware and services",
          "Lettuce",
          "Legal services",
          "Living room, kitchen, and dining room furniture",
          "Limited service meals and snacks",
          "Recreation",
          "Public transportation",
          "Recorded music and music subscriptions",
          "Housing",
          "Indoor plants and flowers",
          "Leased cars and trucks",
          "Jewelry and watches",
          "Milk",
          "Men's footwear",
          "Medicinal drugs",
          "Lodging away from home",
          "Meats, poultry, fish, and eggs",
          "Motor fuel",
          "Miscellaneous personal services",
          "Miscellaneous household products",
          "Motor vehicle body work",
          "Motor vehicle fees",
          "Men's shirts and sweaters",
          "Men's suits, sport coats, and outerwear",
          "Men's pants and shorts",
          "Jewelry",
          "Household paper products",
          "Haircuts and other personal care services",
          "Unsampled recreation services",
          "Unsampled sporting goods",
          "Unsampled women's apparel",
          "Unsampled video and audio",
          "Unsampled tuition, other school fees, and childcare",
          "Unsampled tools, hardware, outdoor equipment and supplies",
          "Unsampled tobacco and smoking products",
          "Other fresh fruits",
          "Other fresh vegetables",
          "Energy services",
          "Eyeglasses and eye care",
          "Elementary and high school tuition and fees",
          "Hospital services",
          "Hospital and related services",
          "Beer, ale, and other malt beverages at home",
          "Bread",
          "Candy and chewing gum",
          "Care of invalids and elderly at home",
          "Canned fruits and vegetables",
          "Beef and veal",
          "Cheese and related products",
          "Bedroom furniture",
          "Poultry",
          "Pork",
          "Potatoes",
          "Pork chops",
          "Prescription drugs",
          "Recreational books",
          "Propane, kerosene, and firewood",
          "Postage and delivery services",
          "Postage",
          "Motor vehicle maintenance and servicing",
          "New vehicles",
          "Motor vehicle parts and equipment",
          "Motor vehicle repair",
          "Moving, storage, freight expense",
          "Music instruments and accessories",
          "New and used motor vehicles",
          "Women's apparel",
          "Women's dresses",
          "Women's footwear",
          "Women's outerwear",
          "Women's underwear, nightwear, sportswear, and accessories",
          "Women's suits and separates",
          "Other processed fruits and vegetables including dried",
          "Other pork including roasts, steaks, and ribs",
          "Personal care products",
          "Personal care services",
          "Pet services including veterinary",
          "Owners' equivalent rent of primary residence",
          "Outdoor equipment and supplies",
          "Other video equipment",
          "Owners' equivalent rent of residences",
          "Other sweets",
          "Other recreational goods",
          "Other miscellaneous foods",
          "Other meats",
          "Other lodging away from home including hotels and motels",
          "Other linens",
          "Other intercity transportation",
          "Electricity",
          "Fats and oils",
          "Floor coverings",
          "Food at employee sites and schools",
          "Footwear",
          "Fresh biscuits, rolls, muffins",
          "Fresh fish and seafood",
          "Fresh fruits",
          "Fresh fruits and vegetables",
          "Fresh vegetables",
          "Frozen and freeze dried prepared foods",
          "Watches",
          "Utility (piped) gas service",
          "Medical care services",
          "Medical care commodities",
          "Medical care",
          "Medical equipment and supplies",
          "Transportation",
          "Toys",
          "Tools, hardware, outdoor equipment and supplies",
          "Tools, hardware and supplies",
          "Tobacco products other than cigarettes",
          "Tobacco and smoking products",
          "Tires",
          "Tenants' and household insurance",
          "Household furnishings and operations",
          "Household energy",
          "Water and sewer and trash collection services",
          "Wine at home",
          "Women's and girls' apparel",
          "Window and floor coverings and other linens",
          "Water and sewerage maintenance",
          "Window coverings",
          "Wireless telephone services",
          "Sporting goods",
          "Spices, seasonings, condiments, sauces",
          "Technical and business school tuition and fees",
          "Telephone hardware, calculators, and other consumer information items",
          "Telephone services",
          "Cable and satellite television service",
          "Butter and margarine",
          "Breakfast cereal",
          "Cakes, cupcakes, and cookies",
          "Unsampled photography",
          "Unsampled public transportation",
          "Car and truck rental",
          "Carbonated drinks",
          "Other household equipment and furnishings",
          "Other uncooked poultry including turkey",
          "Other recreation services",
          "Other motor fuels",
          "Personal care",
          "Parking and other fees",
          "Education",
          "Education and communication",
          "Educational books and supplies",
          "Processed fish and seafood",
          "Private transportation",
          "Professional services",
          "Processed fruits and vegetables",
          "Pets, pet products and services",
          "Photographers and photo processing",
          "Photographic equipment and supplies",
          "Photography",
          "Televisions",
          "Sugar and sweets",
          "Tomatoes",
          "Soups",
          "Sports equipment",
          "Tuition, other school fees, and childcare",
          "Rent of primary residence",
          "Uncooked ground beef",
          "Uncooked beef roasts",
          "Uncooked beef steaks",
          "Ham",
          "Household cleaning products",
          "Health insurance",
          "Household operations",
          "Sports vehicles including bicycles",
          "State motor vehicle registration and license fees",
          "Sugar and sugar substitutes",
          "Food",
          "Food and beverages",
          "Flour and prepared flour mixes",
          "Unsampled service policies",
          "Unsampled recreational reading materials",
          "Video discs and other media, including rental of video",
          "Vehicle accessories other than tires",
          "Video and audio",
          "Men's and boys' apparel",
          "Men''s underwear, nightwear, swimwear, and accessories",
          "Men's apparel",
          "Other goods and services",
          "Pets and pet products",
          "Unsampled information and information processing",
          "Unsampled new and used motor vehicles",
          "Unsampled motor vehicle fees",
          "Unsampled men's apparel",
          "Unsampled items",
          "Snacks",
          "Repair of household items",
          "Shelter",
          "Sewing machines, fabric and supplies",
          "Services by other medical professionals",
          "Salad dressing",
          "Rice, pasta, cornmeal",
          "Internet services and electronic information providers",
          "Intracity transportation",
          "Land-line telephone services",
          "Laundry and dry cleaning services",
          "Juices and nonalcoholic drinks",
          "Nonalcoholic beverages and beverage materials",
          "Other bakery products",
          "Other appliances",
          "Nursing homes and adult day services",
          "Nonelectric cookware and tableware",
          "Nonprescription drugs",
          "Nonfrozen noncarbonated juices and drinks",
          "-",
          "Alcoholic beverages",
          "Alcoholic beverages at home",
          "All items",
          "Apparel",
          "Appliances",
          "Bakery products",
          "Beef and veal",
          "Beverage materials including coffee and tea",
          "Beverages",
          "Cereals and bakery products",
          "Cereals and cereal products",
          "Communication",
          "Dairy and related products",
          "Education",
          "Education and communication",
          "Energy services",
          "Fats and oils",
          "Fish and seafood",
          "Food",
          "Food and beverages",
          "Food at home",
          "Food away from home",
          "Footwear",
          "Fresh fruits",
          "Fresh fruits and vegetables",
          "Fresh vegetables",
          "Fruits and vegetables",
          "Fuel oil and other fuels",
          "Fuels and utilities",
          "Furniture and bedding",
          "Hospital and related services",
          "Household energy",
          "Household furnishings and operations",
          "Household operations",
          "Housekeeping supplies",
          "Housing",
          "Information and information processing",
          "Information technology, hardware and services",
          "Jewelry and watches",
          "Juices and nonalcoholic drinks",
          "Lodging away from home",
          "Meats",
          "Meats, poultry, and fish",
          "Meats, poultry, fish, and eggs",
          "Medical care",
          "Medical care commodities",
          "Medical care services",
          "Medicinal drugs",
          "Men's and boys' apparel",
          "Men's apparel",
          "Miscellaneous personal services",
          "Motor fuel",
          "Motor vehicle fees",
          "Motor vehicle maintenance and repair",
          "Motor vehicle parts and equipment",
          "New and used motor vehicles",
          "Nonalcoholic beverages and beverage materials",
          "Other food at home",
          "Other foods",
          "Other goods and services",
          "Other household equipment and furnishings",
          "Other recreation services",
          "Other recreational goods",
          "Owners' equivalent rent of residences",
          "Personal care",
          "Personal care products",
          "Personal care services",
          "Pets, pet products and services",
          "Photography",
          "Pork",
          "Postage and delivery services",
          "Poultry",
          "Private transportation",
          "Processed fruits and vegetables",
          "Professional services",
          "Public transportation",
          "Recreation",
          "Recreational reading materials",
          "Shelter",
          "Sporting goods",
          "Sugar and sweets",
          "Telephone services",
          "Tobacco and smoking products",
          "Tools, hardware, outdoor equipment and supplies",
          "Transportation",
          "Tuition, other school fees, and childcare",
          "Video and audio",
          "Water and sewer and trash collection services",
          "Window and floor coverings and other linens",
          "Women's and girls' apparel",
          "Women's apparel"
         ],
         "marker": {
          "colors": [
           "#636efa",
           "#EF553B",
           "#00cc96",
           "#ab63fa",
           "#FFA15A",
           "#19d3f3",
           "#FF6692",
           "#B6E880",
           "#FF97FF",
           "#FECB52",
           "#636efa",
           "#EF553B",
           "#00cc96",
           "#ab63fa",
           "#FFA15A",
           "#19d3f3",
           "#FF6692",
           "#FECB52",
           "#B6E880",
           "#FF97FF",
           "#FECB52",
           "#636efa",
           "#EF553B",
           "#00cc96",
           "#ab63fa",
           "#FFA15A",
           "#19d3f3",
           "#FF6692",
           "#B6E880",
           "#FF97FF",
           "#636efa",
           "#FECB52",
           "#FECB52",
           "#636efa",
           "#00cc96",
           "#EF553B",
           "#FECB52",
           "#00cc96",
           "#EF553B",
           "#ab63fa",
           "#EF553B",
           "#FFA15A",
           "#19d3f3",
           "#FF6692",
           "#FFA15A",
           "#FF97FF",
           "#B6E880",
           "#FF97FF",
           "#FF97FF",
           "#FECB52",
           "#B6E880",
           "#636efa",
           "#636efa",
           "#EF553B",
           "#FFA15A",
           "#00cc96",
           "#ab63fa",
           "#B6E880",
           "#FFA15A",
           "#ab63fa",
           "#636efa",
           "#636efa",
           "#19d3f3",
           "#EF553B",
           "#FECB52",
           "#FF6692",
           "#EF553B",
           "#B6E880",
           "#FF97FF",
           "#FECB52",
           "#EF553B",
           "#636efa",
           "#EF553B",
           "#00cc96",
           "#ab63fa",
           "#ab63fa",
           "#EF553B",
           "#19d3f3",
           "#EF553B",
           "#FFA15A",
           "#19d3f3",
           "#FF6692",
           "#B6E880",
           "#FFA15A",
           "#19d3f3",
           "#FF6692",
           "#EF553B",
           "#00cc96",
           "#B6E880",
           "#FF97FF",
           "#FECB52",
           "#FF97FF",
           "#B6E880",
           "#00cc96",
           "#FECB52",
           "#EF553B",
           "#00cc96",
           "#FF6692",
           "#FF6692",
           "#FECB52",
           "#EF553B",
           "#FF6692",
           "#636efa",
           "#EF553B",
           "#EF553B",
           "#FECB52",
           "#00cc96",
           "#ab63fa",
           "#FFA15A",
           "#FECB52",
           "#19d3f3",
           "#19d3f3",
           "#19d3f3",
           "#FF6692",
           "#ab63fa",
           "#B6E880",
           "#636efa",
           "#FF97FF",
           "#FECB52",
           "#EF553B",
           "#19d3f3",
           "#636efa",
           "#FFA15A",
           "#EF553B",
           "#FF97FF",
           "#B6E880",
           "#B6E880",
           "#19d3f3",
           "#EF553B",
           "#00cc96",
           "#19d3f3",
           "#ab63fa",
           "#FFA15A",
           "#EF553B",
           "#00cc96",
           "#19d3f3",
           "#EF553B",
           "#FF97FF",
           "#FECB52",
           "#19d3f3",
           "#FF97FF",
           "#ab63fa",
           "#FF6692",
           "#FFA15A",
           "#FF6692",
           "#FF97FF",
           "#FFA15A",
           "#FFA15A",
           "#FF6692",
           "#FECB52",
           "#FFA15A",
           "#FFA15A",
           "#ab63fa",
           "#FECB52",
           "#EF553B",
           "#FECB52",
           "#FF6692",
           "#FECB52",
           "#FECB52",
           "#FECB52",
           "#00cc96",
           "#ab63fa",
           "#00cc96",
           "#00cc96",
           "#B6E880",
           "#B6E880",
           "#636efa",
           "#EF553B",
           "#EF553B",
           "#FFA15A",
           "#636efa",
           "#00cc96",
           "#19d3f3",
           "#FF6692",
           "#FF97FF",
           "#00cc96",
           "#FECB52",
           "#FF6692",
           "#FF97FF",
           "#B6E880",
           "#FECB52",
           "#ab63fa",
           "#636efa",
           "#EF553B",
           "#00cc96",
           "#EF553B",
           "#00cc96",
           "#FF6692",
           "#FECB52",
           "#ab63fa",
           "#ab63fa",
           "#00cc96",
           "#636efa",
           "#00cc96",
           "#ab63fa",
           "#00cc96",
           "#636efa",
           "#FFA15A",
           "#FFA15A",
           "#19d3f3",
           "#EF553B",
           "#FECB52",
           "#FF6692",
           "#FF6692",
           "#19d3f3",
           "#FECB52",
           "#00cc96",
           "#19d3f3",
           "#FF97FF",
           "#B6E880",
           "#636efa",
           "#00cc96",
           "#19d3f3",
           "#ab63fa",
           "#B6E880",
           "#EF553B",
           "#636efa",
           "#FF97FF",
           "#ab63fa",
           "#FECB52",
           "#00cc96",
           "#FF6692",
           "#FF97FF",
           "#00cc96",
           "#19d3f3",
           "#636efa",
           "#ab63fa",
           "#FFA15A",
           "#636efa",
           "#00cc96",
           "#00cc96",
           "#EF553B",
           "#636efa",
           "#FECB52",
           "#00cc96",
           "#00cc96",
           "#636efa",
           "#FECB52",
           "#FECB52",
           "#636efa",
           "#EF553B",
           "#FF6692",
           "#FF97FF",
           "#00cc96",
           "#FF97FF",
           "#EF553B",
           "#EF553B",
           "#ab63fa",
           "#ab63fa",
           "#ab63fa",
           "#ab63fa",
           "#ab63fa",
           "#00cc96",
           "#00cc96",
           "#FF97FF",
           "#636efa",
           "#FFA15A",
           "#19d3f3",
           "#00cc96",
           "#FF97FF",
           "#FFA15A",
           "#FFA15A",
           "#EF553B",
           "#19d3f3",
           "#636efa",
           "#FECB52",
           "#19d3f3",
           "#B6E880",
           "#00cc96",
           "#B6E880",
           "#ab63fa",
           "#FF6692",
           "#636efa",
           "#19d3f3",
           "#FECB52",
           "#00cc96",
           "#FFA15A",
           "#FECB52",
           "#ab63fa",
           "#B6E880",
           "#636efa",
           "#FF97FF",
           "#ab63fa",
           "#00cc96",
           "#B6E880",
           "#FECB52",
           "#FF97FF",
           "#EF553B",
           "#ab63fa",
           "#FF97FF",
           "#EF553B",
           "#FF6692",
           "#FF6692",
           "#FF97FF",
           "#636efa",
           "#ab63fa",
           "#19d3f3",
           "#00cc96",
           "#FECB52",
           "#FF97FF",
           "#ab63fa",
           "#ab63fa",
           "#19d3f3",
           "#FFA15A",
           "#FFA15A",
           "#FF97FF",
           "#FF97FF",
           "#EF553B",
           "#EF553B",
           "#00cc96",
           "#FECB52",
           "#636efa",
           "#636efa",
           "#636efa",
           "#19d3f3",
           "#EF553B",
           "#B6E880",
           "#FF6692",
           "#EF553B",
           "#EF553B",
           "#FF97FF",
           "#00cc96",
           "#FF6692",
           "#FF6692",
           "#FF97FF",
           "#EF553B",
           "#B6E880",
           "#00cc96",
           "#FFA15A",
           "#ab63fa",
           "#FECB52",
           "#B6E880",
           "#ab63fa",
           "#FF6692",
           "#FF97FF",
           "#FF6692",
           "#19d3f3",
           "#FECB52",
           "#636efa",
           "#ab63fa",
           "#636efa",
           "#00cc96",
           "#FF6692",
           "#B6E880",
           "#19d3f3",
           "#FECB52",
           "#ab63fa",
           "#636efa",
           "#FFA15A",
           "#19d3f3",
           "#FF6692",
           "#FF97FF",
           "#FF6692",
           "#00cc96",
           "#FFA15A",
           "#FF6692",
           "#636efa",
           "#ab63fa",
           "#B6E880",
           "#00cc96",
           "#EF553B",
           "#B6E880",
           "#B6E880",
           "#FECB52",
           "#ab63fa",
           "#FFA15A",
           "#19d3f3",
           "#FECB52",
           "#00cc96",
           "#B6E880",
           "#00cc96",
           "#636efa",
           "#FFA15A",
           "#EF553B",
           "#FF97FF",
           "#FFA15A",
           "#B6E880",
           "#FFA15A",
           "#636efa",
           "#FECB52",
           "#19d3f3",
           "#EF553B",
           "#19d3f3",
           "#FF97FF",
           "#EF553B",
           "#FECB52"
          ]
         },
         "name": "",
         "parents": [
          "Other recreation services",
          "Women's and girls' apparel",
          "Household furnishings and operations",
          "Motor fuel",
          "Household operations",
          "Water and sewer and trash collection services",
          "New and used motor vehicles",
          "Professional services",
          "Furniture and bedding",
          "Private transportation",
          "Recreation",
          "Personal care products",
          "Public transportation",
          "Beef and veal",
          "Recreational reading materials",
          "Beverage materials including coffee and tea",
          "Other food at home",
          "Private transportation",
          "Food away from home",
          "Appliances",
          "Meats, poultry, and fish",
          "Meats, poultry, fish, and eggs",
          "Video and audio",
          "Other foods",
          "Pork",
          "Cereals and bakery products",
          "Food and beverages",
          "Footwear",
          "Men's and boys' apparel",
          "Nonalcoholic beverages and beverage materials",
          "Other recreation services",
          "Miscellaneous personal services",
          "Miscellaneous personal services",
          "-",
          "Household furnishings and operations",
          "Fresh fruits",
          "Miscellaneous personal services",
          "All items",
          "Personal care products",
          "Other recreational goods",
          "Fresh fruits",
          "Tobacco and smoking products",
          "Tuition, other school fees, and childcare",
          "Other household equipment and furnishings",
          "Household operations",
          "Furniture and bedding",
          "Owners' equivalent rent of residences",
          "Appliances",
          "Communication",
          "Apparel",
          "Food away from home",
          "Food",
          "Food",
          "Food at home",
          "Cereals and bakery products",
          "Processed fruits and vegetables",
          "Alcoholic beverages",
          "Food away from home",
          "Beverages",
          "Alcoholic beverages",
          "Meats, poultry, fish, and eggs",
          "Other recreation services",
          "Poultry",
          "Fresh fruits",
          "Meats, poultry, and fish",
          "Fuel oil and other fuels",
          "Food at home",
          "Household energy",
          "Juices and nonalcoholic drinks",
          "Housing",
          "Food at home",
          "Fats and oils",
          "Dairy and related products",
          "Education and communication",
          "Information technology, hardware and services",
          "Information technology, hardware and services",
          "Personal care products",
          "Tuition, other school fees, and childcare",
          "Food at home",
          "Postage and delivery services",
          "Alcoholic beverages at home",
          "Other household equipment and furnishings",
          "Professional services",
          "Household operations",
          "Beverage materials including coffee and tea",
          "Lodging away from home",
          "Dairy and related products",
          "Household furnishings and operations",
          "Information and information processing",
          "Fresh vegetables",
          "Miscellaneous personal services",
          "Furniture and bedding",
          "Food away from home",
          "All items",
          "Transportation",
          "Video and audio",
          "All items",
          "Other household equipment and furnishings",
          "New and used motor vehicles",
          "Apparel",
          "Dairy and related products",
          "Footwear",
          "Medical care commodities",
          "Shelter",
          "Food at home",
          "Private transportation",
          "Personal care",
          "Housekeeping supplies",
          "Motor vehicle maintenance and repair",
          "Private transportation",
          "Men's apparel",
          "Men's apparel",
          "Men's apparel",
          "Jewelry and watches",
          "Housekeeping supplies",
          "Personal care services",
          "Other recreation services",
          "Sporting goods",
          "Women's apparel",
          "Video and audio",
          "Tuition, other school fees, and childcare",
          "Tools, hardware, outdoor equipment and supplies",
          "Tobacco and smoking products",
          "Fresh fruits",
          "Fresh vegetables",
          "Household energy",
          "Professional services",
          "Tuition, other school fees, and childcare",
          "Hospital and related services",
          "Medical care services",
          "Alcoholic beverages at home",
          "Bakery products",
          "Sugar and sweets",
          "Hospital and related services",
          "Processed fruits and vegetables",
          "Meats",
          "Dairy and related products",
          "Furniture and bedding",
          "Meats, poultry, and fish",
          "Meats",
          "Fresh vegetables",
          "Pork",
          "Medicinal drugs",
          "Recreational reading materials",
          "Fuel oil and other fuels",
          "Communication",
          "Postage and delivery services",
          "Motor vehicle maintenance and repair",
          "New and used motor vehicles",
          "Private transportation",
          "Motor vehicle maintenance and repair",
          "Household operations",
          "Other recreational goods",
          "Private transportation",
          "Women's and girls' apparel",
          "Women's apparel",
          "Footwear",
          "Women's apparel",
          "Women's apparel",
          "Women's apparel",
          "Processed fruits and vegetables",
          "Pork",
          "Personal care",
          "Personal care",
          "Pets, pet products and services",
          "Owners' equivalent rent of residences",
          "Tools, hardware, outdoor equipment and supplies",
          "Video and audio",
          "Shelter",
          "Sugar and sweets",
          "Recreation",
          "Other foods",
          "Meats",
          "Lodging away from home",
          "Window and floor coverings and other linens",
          "Public transportation",
          "Energy services",
          "Other food at home",
          "Window and floor coverings and other linens",
          "Food away from home",
          "Apparel",
          "Bakery products",
          "Fish and seafood",
          "Fresh fruits and vegetables",
          "Fruits and vegetables",
          "Fresh fruits and vegetables",
          "Other foods",
          "Jewelry and watches",
          "Energy services",
          "Medical care",
          "Medical care",
          "All items",
          "Medical care commodities",
          "All items",
          "Other recreational goods",
          "Household furnishings and operations",
          "Tools, hardware, outdoor equipment and supplies",
          "Tobacco and smoking products",
          "Other goods and services",
          "Motor vehicle parts and equipment",
          "Shelter",
          "Housing",
          "Fuels and utilities",
          "Fuels and utilities",
          "Alcoholic beverages at home",
          "Apparel",
          "Household furnishings and operations",
          "Water and sewer and trash collection services",
          "Window and floor coverings and other linens",
          "Telephone services",
          "Recreation",
          "Other foods",
          "Tuition, other school fees, and childcare",
          "Information technology, hardware and services",
          "Information and information processing",
          "Video and audio",
          "Fats and oils",
          "Cereals and cereal products",
          "Bakery products",
          "Photography",
          "Public transportation",
          "New and used motor vehicles",
          "Juices and nonalcoholic drinks",
          "Household furnishings and operations",
          "Poultry",
          "Recreation",
          "Motor fuel",
          "Other goods and services",
          "Motor vehicle fees",
          "Education and communication",
          "All items",
          "Education",
          "Fish and seafood",
          "Transportation",
          "Medical care services",
          "Fruits and vegetables",
          "Recreation",
          "Photography",
          "Photography",
          "Recreation",
          "Video and audio",
          "Other food at home",
          "Fresh vegetables",
          "Other foods",
          "Sporting goods",
          "Education",
          "Shelter",
          "Beef and veal",
          "Beef and veal",
          "Beef and veal",
          "Pork",
          "Housekeeping supplies",
          "Medical care services",
          "Household furnishings and operations",
          "Sporting goods",
          "Motor vehicle fees",
          "Sugar and sweets",
          "Food and beverages",
          "All items",
          "Cereals and cereal products",
          "Motor vehicle maintenance and repair",
          "Recreational reading materials",
          "Video and audio",
          "Motor vehicle parts and equipment",
          "Recreation",
          "Apparel",
          "Men's apparel",
          "Men's and boys' apparel",
          "All items",
          "Pets, pet products and services",
          "Information technology, hardware and services",
          "New and used motor vehicles",
          "Motor vehicle fees",
          "Men's apparel",
          "Miscellaneous personal services",
          "Other foods",
          "Household operations",
          "Housing",
          "Other recreational goods",
          "Professional services",
          "Fats and oils",
          "Cereals and cereal products",
          "Information technology, hardware and services",
          "Public transportation",
          "Telephone services",
          "Miscellaneous personal services",
          "Nonalcoholic beverages and beverage materials",
          "Food at home",
          "Bakery products",
          "Appliances",
          "Hospital and related services",
          "Other household equipment and furnishings",
          "Medicinal drugs",
          "Juices and nonalcoholic drinks",
          "",
          "",
          "",
          "",
          "",
          "",
          "",
          "",
          "",
          "",
          "",
          "",
          "",
          "",
          "",
          "",
          "",
          "",
          "",
          "",
          "",
          "",
          "",
          "",
          "",
          "",
          "",
          "",
          "",
          "",
          "",
          "",
          "",
          "",
          "",
          "",
          "",
          "",
          "",
          "",
          "",
          "",
          "",
          "",
          "",
          "",
          "",
          "",
          "",
          "",
          "",
          "",
          "",
          "",
          "",
          "",
          "",
          "",
          "",
          "",
          "",
          "",
          "",
          "",
          "",
          "",
          "",
          "",
          "",
          "",
          "",
          "",
          "",
          "",
          "",
          "",
          "",
          "",
          "",
          "",
          "",
          "",
          "",
          "",
          "",
          "",
          "",
          "",
          "",
          "",
          "",
          ""
         ],
         "type": "treemap",
         "values": [
          0.688,
          0.2,
          0.944,
          2.811,
          0.31,
          0.297,
          2.75,
          1.817,
          0.152,
          1.598,
          0.12,
          0.364,
          0.633,
          0.044,
          0.068,
          0.095,
          1.489,
          1.099,
          0.174,
          0.078,
          1.026,
          1.637,
          0.079,
          0.042,
          0.134,
          0.693,
          1.038,
          0.136,
          0.134,
          0.264,
          0.218,
          0.229,
          0.14,
          100,
          0.22,
          0.073,
          0.03,
          2.663,
          0.008,
          0.016,
          0.136,
          0.529,
          0.768,
          0.313,
          0.08,
          0.009,
          1.218,
          0.003,
          3.666,
          0.125,
          0.08,
          6.347,
          7.772,
          1.001,
          0.308,
          0.086,
          0.58,
          3.176,
          1.038,
          0.458,
          0.099,
          0.689,
          0.273,
          0.074,
          0.278,
          0.084,
          1.341,
          0.145,
          0.006,
          4.387,
          1.972,
          0.098,
          0.197,
          3.777,
          0.018,
          0.297,
          0.306,
          1.569,
          0.792,
          0.01,
          0.094,
          0.052,
          1.005,
          0.302,
          0.169,
          0.118,
          0.111,
          0.922,
          1.297,
          0.068,
          0.25,
          0.454,
          2.787,
          5.797,
          1.105,
          0.045,
          42.385,
          0.093,
          0.641,
          0.153,
          0.218,
          0.224,
          1.515,
          0.825,
          1.736,
          2.875,
          0.981,
          0.32,
          0.059,
          0.565,
          0.15,
          0.088,
          0.13,
          0.114,
          0.235,
          0.694,
          0.321,
          0.01,
          0.009,
          0.012,
          0.119,
          0.19,
          0.019,
          0.254,
          0.29,
          3.135,
          0.365,
          0.431,
          2.221,
          2.419,
          0.223,
          0.2,
          0.18,
          0.073,
          0.15,
          0.471,
          0.266,
          0.329,
          0.333,
          0.322,
          0.075,
          0.052,
          1.141,
          0.05,
          0.061,
          0.111,
          0.101,
          0.635,
          3.756,
          0.393,
          0.345,
          0.091,
          0.046,
          7.525,
          0.875,
          0.092,
          0.284,
          0.062,
          0.265,
          0.446,
          0.052,
          0.075,
          0.678,
          0.694,
          0.56,
          23.044,
          0.459,
          0.042,
          24.263,
          0.053,
          0.356,
          0.469,
          0.233,
          0.707,
          0.151,
          0.182,
          2.425,
          0.212,
          0.062,
          0.13,
          0.644,
          0.101,
          0.14,
          0.538,
          1.053,
          0.516,
          0.259,
          0.04,
          0.71,
          7.289,
          1.58,
          8.87,
          0.066,
          15.16,
          0.274,
          0.892,
          0.243,
          0.06,
          0.608,
          0.249,
          0.366,
          4.682,
          3.28,
          1.107,
          0.263,
          1.075,
          0.271,
          0.81,
          0.058,
          1.96,
          0.604,
          0.29,
          0.037,
          0.077,
          2.369,
          1.192,
          0.063,
          0.142,
          0.178,
          0.001,
          0.003,
          0.134,
          0.278,
          0.535,
          0.06,
          1.916,
          0.064,
          2.551,
          0.254,
          3.033,
          6.81,
          0.109,
          0.138,
          14.055,
          3.662,
          0.288,
          1.192,
          0.044,
          0.026,
          0.071,
          0.091,
          0.27,
          0.082,
          0.089,
          0.232,
          2.924,
          7.862,
          0.173,
          0.073,
          0.18,
          0.062,
          0.367,
          1.209,
          0.899,
          0.361,
          0.297,
          0.037,
          14.119,
          15.157,
          0.041,
          0.06,
          0.002,
          0.076,
          0.144,
          1.537,
          0.666,
          0.158,
          0.532,
          3.159,
          0.632,
          0.012,
          0.244,
          0.015,
          0.005,
          0.111,
          0.34,
          0.116,
          33.316,
          0.02,
          0.474,
          0.051,
          0.124,
          0.893,
          0.287,
          0.41,
          0.22,
          0.666,
          0.93,
          0.214,
          0.14,
          0.124,
          0.077,
          0.374,
          0.382,
          100,
          1.038,
          0.5800000000000001,
          100.00099999999999,
          2.663,
          0.22100000000000003,
          0.6930000000000001,
          0.47,
          0.264,
          1.038,
          1.001,
          0.307,
          3.777,
          0.792,
          3.033,
          6.8100000000000005,
          3.135,
          0.212,
          0.278,
          14.119,
          15.157,
          7.772,
          6.347,
          0.644,
          0.537,
          1.054,
          0.515,
          1.341,
          0.14500000000000002,
          4.387,
          0.9440000000000001,
          2.418,
          3.28,
          4.683,
          0.899,
          0.9219999999999999,
          42.385000000000005,
          3.6660000000000004,
          1.297,
          0.154,
          0.666,
          0.825,
          1.026,
          1.637,
          1.736,
          8.869,
          1.581,
          7.29,
          1.5150000000000001,
          0.666,
          0.531,
          0.98,
          2.875,
          0.566,
          1.099,
          0.393,
          7.5249999999999995,
          0.93,
          1.971,
          1.4889999999999999,
          3.1590000000000003,
          0.535,
          1.916,
          0.35600000000000004,
          24.262,
          2.3529999999999998,
          0.6779999999999999,
          0.694,
          1.1920000000000002,
          0.071,
          0.323,
          0.111,
          0.333,
          14.055,
          0.288,
          3.6609999999999996,
          1.105,
          5.795999999999999,
          0.12000000000000001,
          33.316,
          0.603,
          0.27,
          2.37,
          0.608,
          0.892,
          15.16,
          2.924,
          1.537,
          1.107,
          0.271,
          1.075,
          0.874
         ]
        }
       ],
       "layout": {
        "legend": {
         "tracegroupgap": 0
        },
        "margin": {
         "t": 60
        },
        "template": {
         "data": {
          "bar": [
           {
            "error_x": {
             "color": "#2a3f5f"
            },
            "error_y": {
             "color": "#2a3f5f"
            },
            "marker": {
             "line": {
              "color": "#E5ECF6",
              "width": 0.5
             },
             "pattern": {
              "fillmode": "overlay",
              "size": 10,
              "solidity": 0.2
             }
            },
            "type": "bar"
           }
          ],
          "barpolar": [
           {
            "marker": {
             "line": {
              "color": "#E5ECF6",
              "width": 0.5
             },
             "pattern": {
              "fillmode": "overlay",
              "size": 10,
              "solidity": 0.2
             }
            },
            "type": "barpolar"
           }
          ],
          "carpet": [
           {
            "aaxis": {
             "endlinecolor": "#2a3f5f",
             "gridcolor": "white",
             "linecolor": "white",
             "minorgridcolor": "white",
             "startlinecolor": "#2a3f5f"
            },
            "baxis": {
             "endlinecolor": "#2a3f5f",
             "gridcolor": "white",
             "linecolor": "white",
             "minorgridcolor": "white",
             "startlinecolor": "#2a3f5f"
            },
            "type": "carpet"
           }
          ],
          "choropleth": [
           {
            "colorbar": {
             "outlinewidth": 0,
             "ticks": ""
            },
            "type": "choropleth"
           }
          ],
          "contour": [
           {
            "colorbar": {
             "outlinewidth": 0,
             "ticks": ""
            },
            "colorscale": [
             [
              0,
              "#0d0887"
             ],
             [
              0.1111111111111111,
              "#46039f"
             ],
             [
              0.2222222222222222,
              "#7201a8"
             ],
             [
              0.3333333333333333,
              "#9c179e"
             ],
             [
              0.4444444444444444,
              "#bd3786"
             ],
             [
              0.5555555555555556,
              "#d8576b"
             ],
             [
              0.6666666666666666,
              "#ed7953"
             ],
             [
              0.7777777777777778,
              "#fb9f3a"
             ],
             [
              0.8888888888888888,
              "#fdca26"
             ],
             [
              1,
              "#f0f921"
             ]
            ],
            "type": "contour"
           }
          ],
          "contourcarpet": [
           {
            "colorbar": {
             "outlinewidth": 0,
             "ticks": ""
            },
            "type": "contourcarpet"
           }
          ],
          "heatmap": [
           {
            "colorbar": {
             "outlinewidth": 0,
             "ticks": ""
            },
            "colorscale": [
             [
              0,
              "#0d0887"
             ],
             [
              0.1111111111111111,
              "#46039f"
             ],
             [
              0.2222222222222222,
              "#7201a8"
             ],
             [
              0.3333333333333333,
              "#9c179e"
             ],
             [
              0.4444444444444444,
              "#bd3786"
             ],
             [
              0.5555555555555556,
              "#d8576b"
             ],
             [
              0.6666666666666666,
              "#ed7953"
             ],
             [
              0.7777777777777778,
              "#fb9f3a"
             ],
             [
              0.8888888888888888,
              "#fdca26"
             ],
             [
              1,
              "#f0f921"
             ]
            ],
            "type": "heatmap"
           }
          ],
          "heatmapgl": [
           {
            "colorbar": {
             "outlinewidth": 0,
             "ticks": ""
            },
            "colorscale": [
             [
              0,
              "#0d0887"
             ],
             [
              0.1111111111111111,
              "#46039f"
             ],
             [
              0.2222222222222222,
              "#7201a8"
             ],
             [
              0.3333333333333333,
              "#9c179e"
             ],
             [
              0.4444444444444444,
              "#bd3786"
             ],
             [
              0.5555555555555556,
              "#d8576b"
             ],
             [
              0.6666666666666666,
              "#ed7953"
             ],
             [
              0.7777777777777778,
              "#fb9f3a"
             ],
             [
              0.8888888888888888,
              "#fdca26"
             ],
             [
              1,
              "#f0f921"
             ]
            ],
            "type": "heatmapgl"
           }
          ],
          "histogram": [
           {
            "marker": {
             "pattern": {
              "fillmode": "overlay",
              "size": 10,
              "solidity": 0.2
             }
            },
            "type": "histogram"
           }
          ],
          "histogram2d": [
           {
            "colorbar": {
             "outlinewidth": 0,
             "ticks": ""
            },
            "colorscale": [
             [
              0,
              "#0d0887"
             ],
             [
              0.1111111111111111,
              "#46039f"
             ],
             [
              0.2222222222222222,
              "#7201a8"
             ],
             [
              0.3333333333333333,
              "#9c179e"
             ],
             [
              0.4444444444444444,
              "#bd3786"
             ],
             [
              0.5555555555555556,
              "#d8576b"
             ],
             [
              0.6666666666666666,
              "#ed7953"
             ],
             [
              0.7777777777777778,
              "#fb9f3a"
             ],
             [
              0.8888888888888888,
              "#fdca26"
             ],
             [
              1,
              "#f0f921"
             ]
            ],
            "type": "histogram2d"
           }
          ],
          "histogram2dcontour": [
           {
            "colorbar": {
             "outlinewidth": 0,
             "ticks": ""
            },
            "colorscale": [
             [
              0,
              "#0d0887"
             ],
             [
              0.1111111111111111,
              "#46039f"
             ],
             [
              0.2222222222222222,
              "#7201a8"
             ],
             [
              0.3333333333333333,
              "#9c179e"
             ],
             [
              0.4444444444444444,
              "#bd3786"
             ],
             [
              0.5555555555555556,
              "#d8576b"
             ],
             [
              0.6666666666666666,
              "#ed7953"
             ],
             [
              0.7777777777777778,
              "#fb9f3a"
             ],
             [
              0.8888888888888888,
              "#fdca26"
             ],
             [
              1,
              "#f0f921"
             ]
            ],
            "type": "histogram2dcontour"
           }
          ],
          "mesh3d": [
           {
            "colorbar": {
             "outlinewidth": 0,
             "ticks": ""
            },
            "type": "mesh3d"
           }
          ],
          "parcoords": [
           {
            "line": {
             "colorbar": {
              "outlinewidth": 0,
              "ticks": ""
             }
            },
            "type": "parcoords"
           }
          ],
          "pie": [
           {
            "automargin": true,
            "type": "pie"
           }
          ],
          "scatter": [
           {
            "fillpattern": {
             "fillmode": "overlay",
             "size": 10,
             "solidity": 0.2
            },
            "type": "scatter"
           }
          ],
          "scatter3d": [
           {
            "line": {
             "colorbar": {
              "outlinewidth": 0,
              "ticks": ""
             }
            },
            "marker": {
             "colorbar": {
              "outlinewidth": 0,
              "ticks": ""
             }
            },
            "type": "scatter3d"
           }
          ],
          "scattercarpet": [
           {
            "marker": {
             "colorbar": {
              "outlinewidth": 0,
              "ticks": ""
             }
            },
            "type": "scattercarpet"
           }
          ],
          "scattergeo": [
           {
            "marker": {
             "colorbar": {
              "outlinewidth": 0,
              "ticks": ""
             }
            },
            "type": "scattergeo"
           }
          ],
          "scattergl": [
           {
            "marker": {
             "colorbar": {
              "outlinewidth": 0,
              "ticks": ""
             }
            },
            "type": "scattergl"
           }
          ],
          "scattermapbox": [
           {
            "marker": {
             "colorbar": {
              "outlinewidth": 0,
              "ticks": ""
             }
            },
            "type": "scattermapbox"
           }
          ],
          "scatterpolar": [
           {
            "marker": {
             "colorbar": {
              "outlinewidth": 0,
              "ticks": ""
             }
            },
            "type": "scatterpolar"
           }
          ],
          "scatterpolargl": [
           {
            "marker": {
             "colorbar": {
              "outlinewidth": 0,
              "ticks": ""
             }
            },
            "type": "scatterpolargl"
           }
          ],
          "scatterternary": [
           {
            "marker": {
             "colorbar": {
              "outlinewidth": 0,
              "ticks": ""
             }
            },
            "type": "scatterternary"
           }
          ],
          "surface": [
           {
            "colorbar": {
             "outlinewidth": 0,
             "ticks": ""
            },
            "colorscale": [
             [
              0,
              "#0d0887"
             ],
             [
              0.1111111111111111,
              "#46039f"
             ],
             [
              0.2222222222222222,
              "#7201a8"
             ],
             [
              0.3333333333333333,
              "#9c179e"
             ],
             [
              0.4444444444444444,
              "#bd3786"
             ],
             [
              0.5555555555555556,
              "#d8576b"
             ],
             [
              0.6666666666666666,
              "#ed7953"
             ],
             [
              0.7777777777777778,
              "#fb9f3a"
             ],
             [
              0.8888888888888888,
              "#fdca26"
             ],
             [
              1,
              "#f0f921"
             ]
            ],
            "type": "surface"
           }
          ],
          "table": [
           {
            "cells": {
             "fill": {
              "color": "#EBF0F8"
             },
             "line": {
              "color": "white"
             }
            },
            "header": {
             "fill": {
              "color": "#C8D4E3"
             },
             "line": {
              "color": "white"
             }
            },
            "type": "table"
           }
          ]
         },
         "layout": {
          "annotationdefaults": {
           "arrowcolor": "#2a3f5f",
           "arrowhead": 0,
           "arrowwidth": 1
          },
          "autotypenumbers": "strict",
          "coloraxis": {
           "colorbar": {
            "outlinewidth": 0,
            "ticks": ""
           }
          },
          "colorscale": {
           "diverging": [
            [
             0,
             "#8e0152"
            ],
            [
             0.1,
             "#c51b7d"
            ],
            [
             0.2,
             "#de77ae"
            ],
            [
             0.3,
             "#f1b6da"
            ],
            [
             0.4,
             "#fde0ef"
            ],
            [
             0.5,
             "#f7f7f7"
            ],
            [
             0.6,
             "#e6f5d0"
            ],
            [
             0.7,
             "#b8e186"
            ],
            [
             0.8,
             "#7fbc41"
            ],
            [
             0.9,
             "#4d9221"
            ],
            [
             1,
             "#276419"
            ]
           ],
           "sequential": [
            [
             0,
             "#0d0887"
            ],
            [
             0.1111111111111111,
             "#46039f"
            ],
            [
             0.2222222222222222,
             "#7201a8"
            ],
            [
             0.3333333333333333,
             "#9c179e"
            ],
            [
             0.4444444444444444,
             "#bd3786"
            ],
            [
             0.5555555555555556,
             "#d8576b"
            ],
            [
             0.6666666666666666,
             "#ed7953"
            ],
            [
             0.7777777777777778,
             "#fb9f3a"
            ],
            [
             0.8888888888888888,
             "#fdca26"
            ],
            [
             1,
             "#f0f921"
            ]
           ],
           "sequentialminus": [
            [
             0,
             "#0d0887"
            ],
            [
             0.1111111111111111,
             "#46039f"
            ],
            [
             0.2222222222222222,
             "#7201a8"
            ],
            [
             0.3333333333333333,
             "#9c179e"
            ],
            [
             0.4444444444444444,
             "#bd3786"
            ],
            [
             0.5555555555555556,
             "#d8576b"
            ],
            [
             0.6666666666666666,
             "#ed7953"
            ],
            [
             0.7777777777777778,
             "#fb9f3a"
            ],
            [
             0.8888888888888888,
             "#fdca26"
            ],
            [
             1,
             "#f0f921"
            ]
           ]
          },
          "colorway": [
           "#636efa",
           "#EF553B",
           "#00cc96",
           "#ab63fa",
           "#FFA15A",
           "#19d3f3",
           "#FF6692",
           "#B6E880",
           "#FF97FF",
           "#FECB52"
          ],
          "font": {
           "color": "#2a3f5f"
          },
          "geo": {
           "bgcolor": "white",
           "lakecolor": "white",
           "landcolor": "#E5ECF6",
           "showlakes": true,
           "showland": true,
           "subunitcolor": "white"
          },
          "hoverlabel": {
           "align": "left"
          },
          "hovermode": "closest",
          "mapbox": {
           "style": "light"
          },
          "paper_bgcolor": "white",
          "plot_bgcolor": "#E5ECF6",
          "polar": {
           "angularaxis": {
            "gridcolor": "white",
            "linecolor": "white",
            "ticks": ""
           },
           "bgcolor": "#E5ECF6",
           "radialaxis": {
            "gridcolor": "white",
            "linecolor": "white",
            "ticks": ""
           }
          },
          "scene": {
           "xaxis": {
            "backgroundcolor": "#E5ECF6",
            "gridcolor": "white",
            "gridwidth": 2,
            "linecolor": "white",
            "showbackground": true,
            "ticks": "",
            "zerolinecolor": "white"
           },
           "yaxis": {
            "backgroundcolor": "#E5ECF6",
            "gridcolor": "white",
            "gridwidth": 2,
            "linecolor": "white",
            "showbackground": true,
            "ticks": "",
            "zerolinecolor": "white"
           },
           "zaxis": {
            "backgroundcolor": "#E5ECF6",
            "gridcolor": "white",
            "gridwidth": 2,
            "linecolor": "white",
            "showbackground": true,
            "ticks": "",
            "zerolinecolor": "white"
           }
          },
          "shapedefaults": {
           "line": {
            "color": "#2a3f5f"
           }
          },
          "ternary": {
           "aaxis": {
            "gridcolor": "white",
            "linecolor": "white",
            "ticks": ""
           },
           "baxis": {
            "gridcolor": "white",
            "linecolor": "white",
            "ticks": ""
           },
           "bgcolor": "#E5ECF6",
           "caxis": {
            "gridcolor": "white",
            "linecolor": "white",
            "ticks": ""
           }
          },
          "title": {
           "x": 0.05
          },
          "xaxis": {
           "automargin": true,
           "gridcolor": "white",
           "linecolor": "white",
           "ticks": "",
           "title": {
            "standoff": 15
           },
           "zerolinecolor": "white",
           "zerolinewidth": 2
          },
          "yaxis": {
           "automargin": true,
           "gridcolor": "white",
           "linecolor": "white",
           "ticks": "",
           "title": {
            "standoff": 15
           },
           "zerolinecolor": "white",
           "zerolinewidth": 2
          }
         }
        }
       }
      },
      "text/html": [
       "<div>                            <div id=\"b9e1034d-ba6c-4371-b554-d758b2c646e0\" class=\"plotly-graph-div\" style=\"height:525px; width:100%;\"></div>            <script type=\"text/javascript\">                require([\"plotly\"], function(Plotly) {                    window.PLOTLYENV=window.PLOTLYENV || {};                                    if (document.getElementById(\"b9e1034d-ba6c-4371-b554-d758b2c646e0\")) {                    Plotly.newPlot(                        \"b9e1034d-ba6c-4371-b554-d758b2c646e0\",                        [{\"branchvalues\":\"total\",\"customdata\":[[\"Other recreation services\"],[\"Women's and girls' apparel\"],[\"Household furnishings and operations\"],[\"Motor fuel\"],[\"Household operations\"],[\"Water and sewer and trash collection services\"],[\"New and used motor vehicles\"],[\"Professional services\"],[\"Furniture and bedding\"],[\"Private transportation\"],[\"Recreation\"],[\"Personal care products\"],[\"Public transportation\"],[\"Beef and veal\"],[\"Recreational reading materials\"],[\"Beverage materials including coffee and tea\"],[\"Other food at home\"],[\"Private transportation\"],[\"Food away from home\"],[\"Appliances\"],[\"Meats, poultry, and fish\"],[\"Meats, poultry, fish, and eggs\"],[\"Video and audio\"],[\"Other foods\"],[\"Pork\"],[\"Cereals and bakery products\"],[\"Food and beverages\"],[\"Footwear\"],[\"Men's and boys' apparel\"],[\"Nonalcoholic beverages and beverage materials\"],[\"Other recreation services\"],[\"Miscellaneous personal services\"],[\"Miscellaneous personal services\"],[\"-\"],[\"Household furnishings and operations\"],[\"Fresh fruits\"],[\"Miscellaneous personal services\"],[\"All items\"],[\"Personal care products\"],[\"Other recreational goods\"],[\"Fresh fruits\"],[\"Tobacco and smoking products\"],[\"Tuition, other school fees, and childcare\"],[\"Other household equipment and furnishings\"],[\"Household operations\"],[\"Furniture and bedding\"],[\"Owners' equivalent rent of residences\"],[\"Appliances\"],[\"Communication\"],[\"Apparel\"],[\"Food away from home\"],[\"Food\"],[\"Food\"],[\"Food at home\"],[\"Cereals and bakery products\"],[\"Processed fruits and vegetables\"],[\"Alcoholic beverages\"],[\"Food away from home\"],[\"Beverages\"],[\"Alcoholic beverages\"],[\"Meats, poultry, fish, and eggs\"],[\"Other recreation services\"],[\"Poultry\"],[\"Fresh fruits\"],[\"Meats, poultry, and fish\"],[\"Fuel oil and other fuels\"],[\"Food at home\"],[\"Household energy\"],[\"Juices and nonalcoholic drinks\"],[\"Housing\"],[\"Food at home\"],[\"Fats and oils\"],[\"Dairy and related products\"],[\"Education and communication\"],[\"Information technology, hardware and services\"],[\"Information technology, hardware and services\"],[\"Personal care products\"],[\"Tuition, other school fees, and childcare\"],[\"Food at home\"],[\"Postage and delivery services\"],[\"Alcoholic beverages at home\"],[\"Other household equipment and furnishings\"],[\"Professional services\"],[\"Household operations\"],[\"Beverage materials including coffee and tea\"],[\"Lodging away from home\"],[\"Dairy and related products\"],[\"Household furnishings and operations\"],[\"Information and information processing\"],[\"Fresh vegetables\"],[\"Miscellaneous personal services\"],[\"Furniture and bedding\"],[\"Food away from home\"],[\"All items\"],[\"Transportation\"],[\"Video and audio\"],[\"All items\"],[\"Other household equipment and furnishings\"],[\"New and used motor vehicles\"],[\"Apparel\"],[\"Dairy and related products\"],[\"Footwear\"],[\"Medical care commodities\"],[\"Shelter\"],[\"Food at home\"],[\"Private transportation\"],[\"Personal care\"],[\"Housekeeping supplies\"],[\"Motor vehicle maintenance and repair\"],[\"Private transportation\"],[\"Men's apparel\"],[\"Men's apparel\"],[\"Men's apparel\"],[\"Jewelry and watches\"],[\"Housekeeping supplies\"],[\"Personal care services\"],[\"Other recreation services\"],[\"Sporting goods\"],[\"Women's apparel\"],[\"Video and audio\"],[\"Tuition, other school fees, and childcare\"],[\"Tools, hardware, outdoor equipment and supplies\"],[\"Tobacco and smoking products\"],[\"Fresh fruits\"],[\"Fresh vegetables\"],[\"Household energy\"],[\"Professional services\"],[\"Tuition, other school fees, and childcare\"],[\"Hospital and related services\"],[\"Medical care services\"],[\"Alcoholic beverages at home\"],[\"Bakery products\"],[\"Sugar and sweets\"],[\"Hospital and related services\"],[\"Processed fruits and vegetables\"],[\"Meats\"],[\"Dairy and related products\"],[\"Furniture and bedding\"],[\"Meats, poultry, and fish\"],[\"Meats\"],[\"Fresh vegetables\"],[\"Pork\"],[\"Medicinal drugs\"],[\"Recreational reading materials\"],[\"Fuel oil and other fuels\"],[\"Communication\"],[\"Postage and delivery services\"],[\"Motor vehicle maintenance and repair\"],[\"New and used motor vehicles\"],[\"Private transportation\"],[\"Motor vehicle maintenance and repair\"],[\"Household operations\"],[\"Other recreational goods\"],[\"Private transportation\"],[\"Women's and girls' apparel\"],[\"Women's apparel\"],[\"Footwear\"],[\"Women's apparel\"],[\"Women's apparel\"],[\"Women's apparel\"],[\"Processed fruits and vegetables\"],[\"Pork\"],[\"Personal care\"],[\"Personal care\"],[\"Pets, pet products and services\"],[\"Owners' equivalent rent of residences\"],[\"Tools, hardware, outdoor equipment and supplies\"],[\"Video and audio\"],[\"Shelter\"],[\"Sugar and sweets\"],[\"Recreation\"],[\"Other foods\"],[\"Meats\"],[\"Lodging away from home\"],[\"Window and floor coverings and other linens\"],[\"Public transportation\"],[\"Energy services\"],[\"Other food at home\"],[\"Window and floor coverings and other linens\"],[\"Food away from home\"],[\"Apparel\"],[\"Bakery products\"],[\"Fish and seafood\"],[\"Fresh fruits and vegetables\"],[\"Fruits and vegetables\"],[\"Fresh fruits and vegetables\"],[\"Other foods\"],[\"Jewelry and watches\"],[\"Energy services\"],[\"Medical care\"],[\"Medical care\"],[\"All items\"],[\"Medical care commodities\"],[\"All items\"],[\"Other recreational goods\"],[\"Household furnishings and operations\"],[\"Tools, hardware, outdoor equipment and supplies\"],[\"Tobacco and smoking products\"],[\"Other goods and services\"],[\"Motor vehicle parts and equipment\"],[\"Shelter\"],[\"Housing\"],[\"Fuels and utilities\"],[\"Fuels and utilities\"],[\"Alcoholic beverages at home\"],[\"Apparel\"],[\"Household furnishings and operations\"],[\"Water and sewer and trash collection services\"],[\"Window and floor coverings and other linens\"],[\"Telephone services\"],[\"Recreation\"],[\"Other foods\"],[\"Tuition, other school fees, and childcare\"],[\"Information technology, hardware and services\"],[\"Information and information processing\"],[\"Video and audio\"],[\"Fats and oils\"],[\"Cereals and cereal products\"],[\"Bakery products\"],[\"Photography\"],[\"Public transportation\"],[\"New and used motor vehicles\"],[\"Juices and nonalcoholic drinks\"],[\"Household furnishings and operations\"],[\"Poultry\"],[\"Recreation\"],[\"Motor fuel\"],[\"Other goods and services\"],[\"Motor vehicle fees\"],[\"Education and communication\"],[\"All items\"],[\"Education\"],[\"Fish and seafood\"],[\"Transportation\"],[\"Medical care services\"],[\"Fruits and vegetables\"],[\"Recreation\"],[\"Photography\"],[\"Photography\"],[\"Recreation\"],[\"Video and audio\"],[\"Other food at home\"],[\"Fresh vegetables\"],[\"Other foods\"],[\"Sporting goods\"],[\"Education\"],[\"Shelter\"],[\"Beef and veal\"],[\"Beef and veal\"],[\"Beef and veal\"],[\"Pork\"],[\"Housekeeping supplies\"],[\"Medical care services\"],[\"Household furnishings and operations\"],[\"Sporting goods\"],[\"Motor vehicle fees\"],[\"Sugar and sweets\"],[\"Food and beverages\"],[\"All items\"],[\"Cereals and cereal products\"],[\"Motor vehicle maintenance and repair\"],[\"Recreational reading materials\"],[\"Video and audio\"],[\"Motor vehicle parts and equipment\"],[\"Recreation\"],[\"Apparel\"],[\"Men's apparel\"],[\"Men's and boys' apparel\"],[\"All items\"],[\"Pets, pet products and services\"],[\"Information technology, hardware and services\"],[\"New and used motor vehicles\"],[\"Motor vehicle fees\"],[\"Men's apparel\"],[\"Miscellaneous personal services\"],[\"Other foods\"],[\"Household operations\"],[\"Housing\"],[\"Other recreational goods\"],[\"Professional services\"],[\"Fats and oils\"],[\"Cereals and cereal products\"],[\"Information technology, hardware and services\"],[\"Public transportation\"],[\"Telephone services\"],[\"Miscellaneous personal services\"],[\"Nonalcoholic beverages and beverage materials\"],[\"Food at home\"],[\"Bakery products\"],[\"Appliances\"],[\"Hospital and related services\"],[\"Other household equipment and furnishings\"],[\"Medicinal drugs\"],[\"Juices and nonalcoholic drinks\"],[\"-\"],[\"Alcoholic beverages\"],[\"Alcoholic beverages at home\"],[\"All items\"],[\"Apparel\"],[\"Appliances\"],[\"Bakery products\"],[\"Beef and veal\"],[\"Beverage materials including coffee and tea\"],[\"Beverages\"],[\"Cereals and bakery products\"],[\"Cereals and cereal products\"],[\"Communication\"],[\"Dairy and related products\"],[\"Education\"],[\"Education and communication\"],[\"Energy services\"],[\"Fats and oils\"],[\"Fish and seafood\"],[\"Food\"],[\"Food and beverages\"],[\"Food at home\"],[\"Food away from home\"],[\"Footwear\"],[\"Fresh fruits\"],[\"Fresh fruits and vegetables\"],[\"Fresh vegetables\"],[\"Fruits and vegetables\"],[\"Fuel oil and other fuels\"],[\"Fuels and utilities\"],[\"Furniture and bedding\"],[\"Hospital and related services\"],[\"Household energy\"],[\"Household furnishings and operations\"],[\"Household operations\"],[\"Housekeeping supplies\"],[\"Housing\"],[\"Information and information processing\"],[\"Information technology, hardware and services\"],[\"Jewelry and watches\"],[\"Juices and nonalcoholic drinks\"],[\"Lodging away from home\"],[\"Meats\"],[\"Meats, poultry, and fish\"],[\"Meats, poultry, fish, and eggs\"],[\"Medical care\"],[\"Medical care commodities\"],[\"Medical care services\"],[\"Medicinal drugs\"],[\"Men's and boys' apparel\"],[\"Men's apparel\"],[\"Miscellaneous personal services\"],[\"Motor fuel\"],[\"Motor vehicle fees\"],[\"Motor vehicle maintenance and repair\"],[\"Motor vehicle parts and equipment\"],[\"New and used motor vehicles\"],[\"Nonalcoholic beverages and beverage materials\"],[\"Other food at home\"],[\"Other foods\"],[\"Other goods and services\"],[\"Other household equipment and furnishings\"],[\"Other recreation services\"],[\"Other recreational goods\"],[\"Owners' equivalent rent of residences\"],[\"Personal care\"],[\"Personal care products\"],[\"Personal care services\"],[\"Pets, pet products and services\"],[\"Photography\"],[\"Pork\"],[\"Postage and delivery services\"],[\"Poultry\"],[\"Private transportation\"],[\"Processed fruits and vegetables\"],[\"Professional services\"],[\"Public transportation\"],[\"Recreation\"],[\"Recreational reading materials\"],[\"Shelter\"],[\"Sporting goods\"],[\"Sugar and sweets\"],[\"Telephone services\"],[\"Tobacco and smoking products\"],[\"Tools, hardware, outdoor equipment and supplies\"],[\"Transportation\"],[\"Tuition, other school fees, and childcare\"],[\"Video and audio\"],[\"Water and sewer and trash collection services\"],[\"Window and floor coverings and other linens\"],[\"Women's and girls' apparel\"],[\"Women's apparel\"]],\"domain\":{\"x\":[0.0,1.0],\"y\":[0.0,1.0]},\"hovertemplate\":\"labels=%{label}<br>Weight=%{value}<br>parent=%{parent}<br>id=%{id}<br>Parent=%{customdata[0]}<extra></extra>\",\"ids\":[\"Other recreation services/Admissions\",\"Women's and girls' apparel/Girls' apparel\",\"Household furnishings and operations/Furniture and bedding\",\"Motor fuel/Gasoline (all types)\",\"Household operations/Gardening and lawncare services\",\"Water and sewer and trash collection services/Garbage and trash collection\",\"New and used motor vehicles/Used cars and trucks\",\"Professional services/Physicians' services\",\"Furniture and bedding/Other furniture\",\"Private transportation/Motor vehicle insurance\",\"Recreation/Recreational reading materials\",\"Personal care products/Hair, dental, shaving, and miscellaneous personal care products\",\"Public transportation/Airline fares\",\"Beef and veal/Uncooked other beef and veal\",\"Recreational reading materials/Newspapers and magazines\",\"Beverage materials including coffee and tea/Other beverage materials including tea\",\"Other food at home/Other foods\",\"Private transportation/Motor vehicle maintenance and repair\",\"Food away from home/Other food away from home\",\"Appliances/Major appliances\",\"Meats, poultry, and fish/Meats\",\"Meats, poultry, fish, and eggs/Meats, poultry, and fish\",\"Video and audio/Audio equipment\",\"Other foods/Baby food\",\"Pork/Bacon, breakfast sausage, and related products\",\"Cereals and bakery products/Bakery products\",\"Food and beverages/Beverages\",\"Footwear/Boys' and girls' footwear\",\"Men's and boys' apparel/Boys' apparel\",\"Nonalcoholic beverages and beverage materials/Beverage materials including coffee and tea\",\"Other recreation services/Fees for lessons or instructions\",\"Miscellaneous personal services/Financial services\",\"Miscellaneous personal services/Funeral expenses\",\"-/All items\",\"Household furnishings and operations/Appliances\",\"Fresh fruits/Apples\",\"Miscellaneous personal services/Apparel services other than laundry and dry cleaning\",\"All items/Apparel\",\"Personal care products/Unsampled personal care products\",\"Other recreational goods/Unsampled recreation commodities\",\"Fresh fruits/Citrus fruits\",\"Tobacco and smoking products/Cigarettes\",\"Tuition, other school fees, and childcare/Child care and nursery school\",\"Other household equipment and furnishings/Clocks, lamps, and decorator items\",\"Household operations/Unsampled household operations\",\"Furniture and bedding/Unsampled furniture\",\"Owners' equivalent rent of residences/Unsampled owners' equivalent rent of secondary residences\",\"Appliances/Unsampled appliances\",\"Communication/Information and information processing\",\"Apparel/Infants' and toddlers' apparel\",\"Food away from home/Food from vending machines and mobile vendors\",\"Food/Food away from home\",\"Food/Food at home\",\"Food at home/Cereals and bakery products\",\"Cereals and bakery products/Cereals and cereal products\",\"Processed fruits and vegetables/Frozen fruits and vegetables\",\"Alcoholic beverages/Alcoholic beverages at home\",\"Food away from home/Full service meals and snacks\",\"Beverages/Alcoholic beverages\",\"Alcoholic beverages/Alcoholic beverages away from home\",\"Meats, poultry, fish, and eggs/Eggs\",\"Other recreation services/Club membership for shopping clubs, fraternal, or other organizations, or participant sports fees\",\"Poultry/Chicken\",\"Fresh fruits/Bananas\",\"Meats, poultry, and fish/Fish and seafood\",\"Fuel oil and other fuels/Fuel oil\",\"Food at home/Fruits and vegetables\",\"Household energy/Fuel oil and other fuels\",\"Juices and nonalcoholic drinks/Frozen noncarbonated juices and drinks\",\"Housing/Fuels and utilities\",\"Food at home/Other food at home\",\"Fats and oils/Other fats and oils including peanut butter\",\"Dairy and related products/Other dairy and related products\",\"Education and communication/Communication\",\"Information technology, hardware and services/Computer software and accessories\",\"Information technology, hardware and services/Computers, peripherals, and smart home assistant devices\",\"Personal care products/Cosmetics, perfume, bath, nail preparations and implements\",\"Tuition, other school fees, and childcare/College tuition and fees\",\"Food at home/Dairy and related products\",\"Postage and delivery services/Delivery services\",\"Alcoholic beverages at home/Distilled spirits at home\",\"Other household equipment and furnishings/Dishes and flatware\",\"Professional services/Dental services\",\"Household operations/Domestic services\",\"Beverage materials including coffee and tea/Coffee\",\"Lodging away from home/Housing at school, excluding board\",\"Dairy and related products/Ice cream and related products\",\"Household furnishings and operations/Housekeeping supplies\",\"Information and information processing/Information technology, hardware and services\",\"Fresh vegetables/Lettuce\",\"Miscellaneous personal services/Legal services\",\"Furniture and bedding/Living room, kitchen, and dining room furniture\",\"Food away from home/Limited service meals and snacks\",\"All items/Recreation\",\"Transportation/Public transportation\",\"Video and audio/Recorded music and music subscriptions\",\"All items/Housing\",\"Other household equipment and furnishings/Indoor plants and flowers\",\"New and used motor vehicles/Leased cars and trucks\",\"Apparel/Jewelry and watches\",\"Dairy and related products/Milk\",\"Footwear/Men's footwear\",\"Medical care commodities/Medicinal drugs\",\"Shelter/Lodging away from home\",\"Food at home/Meats, poultry, fish, and eggs\",\"Private transportation/Motor fuel\",\"Personal care/Miscellaneous personal services\",\"Housekeeping supplies/Miscellaneous household products\",\"Motor vehicle maintenance and repair/Motor vehicle body work\",\"Private transportation/Motor vehicle fees\",\"Men's apparel/Men's shirts and sweaters\",\"Men's apparel/Men's suits, sport coats, and outerwear\",\"Men's apparel/Men's pants and shorts\",\"Jewelry and watches/Jewelry\",\"Housekeeping supplies/Household paper products\",\"Personal care services/Haircuts and other personal care services\",\"Other recreation services/Unsampled recreation services\",\"Sporting goods/Unsampled sporting goods\",\"Women's apparel/Unsampled women's apparel\",\"Video and audio/Unsampled video and audio\",\"Tuition, other school fees, and childcare/Unsampled tuition, other school fees, and childcare\",\"Tools, hardware, outdoor equipment and supplies/Unsampled tools, hardware, outdoor equipment and supplies\",\"Tobacco and smoking products/Unsampled tobacco and smoking products\",\"Fresh fruits/Other fresh fruits\",\"Fresh vegetables/Other fresh vegetables\",\"Household energy/Energy services\",\"Professional services/Eyeglasses and eye care\",\"Tuition, other school fees, and childcare/Elementary and high school tuition and fees\",\"Hospital and related services/Hospital services\",\"Medical care services/Hospital and related services\",\"Alcoholic beverages at home/Beer, ale, and other malt beverages at home\",\"Bakery products/Bread\",\"Sugar and sweets/Candy and chewing gum\",\"Hospital and related services/Care of invalids and elderly at home\",\"Processed fruits and vegetables/Canned fruits and vegetables\",\"Meats/Beef and veal\",\"Dairy and related products/Cheese and related products\",\"Furniture and bedding/Bedroom furniture\",\"Meats, poultry, and fish/Poultry\",\"Meats/Pork\",\"Fresh vegetables/Potatoes\",\"Pork/Pork chops\",\"Medicinal drugs/Prescription drugs\",\"Recreational reading materials/Recreational books\",\"Fuel oil and other fuels/Propane, kerosene, and firewood\",\"Communication/Postage and delivery services\",\"Postage and delivery services/Postage\",\"Motor vehicle maintenance and repair/Motor vehicle maintenance and servicing\",\"New and used motor vehicles/New vehicles\",\"Private transportation/Motor vehicle parts and equipment\",\"Motor vehicle maintenance and repair/Motor vehicle repair\",\"Household operations/Moving, storage, freight expense\",\"Other recreational goods/Music instruments and accessories\",\"Private transportation/New and used motor vehicles\",\"Women's and girls' apparel/Women's apparel\",\"Women's apparel/Women's dresses\",\"Footwear/Women's footwear\",\"Women's apparel/Women's outerwear\",\"Women's apparel/Women's underwear, nightwear, sportswear, and accessories\",\"Women's apparel/Women's suits and separates\",\"Processed fruits and vegetables/Other processed fruits and vegetables including dried\",\"Pork/Other pork including roasts, steaks, and ribs\",\"Personal care/Personal care products\",\"Personal care/Personal care services\",\"Pets, pet products and services/Pet services including veterinary\",\"Owners' equivalent rent of residences/Owners' equivalent rent of primary residence\",\"Tools, hardware, outdoor equipment and supplies/Outdoor equipment and supplies\",\"Video and audio/Other video equipment\",\"Shelter/Owners' equivalent rent of residences\",\"Sugar and sweets/Other sweets\",\"Recreation/Other recreational goods\",\"Other foods/Other miscellaneous foods\",\"Meats/Other meats\",\"Lodging away from home/Other lodging away from home including hotels and motels\",\"Window and floor coverings and other linens/Other linens\",\"Public transportation/Other intercity transportation\",\"Energy services/Electricity\",\"Other food at home/Fats and oils\",\"Window and floor coverings and other linens/Floor coverings\",\"Food away from home/Food at employee sites and schools\",\"Apparel/Footwear\",\"Bakery products/Fresh biscuits, rolls, muffins\",\"Fish and seafood/Fresh fish and seafood\",\"Fresh fruits and vegetables/Fresh fruits\",\"Fruits and vegetables/Fresh fruits and vegetables\",\"Fresh fruits and vegetables/Fresh vegetables\",\"Other foods/Frozen and freeze dried prepared foods\",\"Jewelry and watches/Watches\",\"Energy services/Utility (piped) gas service\",\"Medical care/Medical care services\",\"Medical care/Medical care commodities\",\"All items/Medical care\",\"Medical care commodities/Medical equipment and supplies\",\"All items/Transportation\",\"Other recreational goods/Toys\",\"Household furnishings and operations/Tools, hardware, outdoor equipment and supplies\",\"Tools, hardware, outdoor equipment and supplies/Tools, hardware and supplies\",\"Tobacco and smoking products/Tobacco products other than cigarettes\",\"Other goods and services/Tobacco and smoking products\",\"Motor vehicle parts and equipment/Tires\",\"Shelter/Tenants' and household insurance\",\"Housing/Household furnishings and operations\",\"Fuels and utilities/Household energy\",\"Fuels and utilities/Water and sewer and trash collection services\",\"Alcoholic beverages at home/Wine at home\",\"Apparel/Women's and girls' apparel\",\"Household furnishings and operations/Window and floor coverings and other linens\",\"Water and sewer and trash collection services/Water and sewerage maintenance\",\"Window and floor coverings and other linens/Window coverings\",\"Telephone services/Wireless telephone services\",\"Recreation/Sporting goods\",\"Other foods/Spices, seasonings, condiments, sauces\",\"Tuition, other school fees, and childcare/Technical and business school tuition and fees\",\"Information technology, hardware and services/Telephone hardware, calculators, and other consumer information items\",\"Information and information processing/Telephone services\",\"Video and audio/Cable and satellite television service\",\"Fats and oils/Butter and margarine\",\"Cereals and cereal products/Breakfast cereal\",\"Bakery products/Cakes, cupcakes, and cookies\",\"Photography/Unsampled photography\",\"Public transportation/Unsampled public transportation\",\"New and used motor vehicles/Car and truck rental\",\"Juices and nonalcoholic drinks/Carbonated drinks\",\"Household furnishings and operations/Other household equipment and furnishings\",\"Poultry/Other uncooked poultry including turkey\",\"Recreation/Other recreation services\",\"Motor fuel/Other motor fuels\",\"Other goods and services/Personal care\",\"Motor vehicle fees/Parking and other fees\",\"Education and communication/Education\",\"All items/Education and communication\",\"Education/Educational books and supplies\",\"Fish and seafood/Processed fish and seafood\",\"Transportation/Private transportation\",\"Medical care services/Professional services\",\"Fruits and vegetables/Processed fruits and vegetables\",\"Recreation/Pets, pet products and services\",\"Photography/Photographers and photo processing\",\"Photography/Photographic equipment and supplies\",\"Recreation/Photography\",\"Video and audio/Televisions\",\"Other food at home/Sugar and sweets\",\"Fresh vegetables/Tomatoes\",\"Other foods/Soups\",\"Sporting goods/Sports equipment\",\"Education/Tuition, other school fees, and childcare\",\"Shelter/Rent of primary residence\",\"Beef and veal/Uncooked ground beef\",\"Beef and veal/Uncooked beef roasts\",\"Beef and veal/Uncooked beef steaks\",\"Pork/Ham\",\"Housekeeping supplies/Household cleaning products\",\"Medical care services/Health insurance\",\"Household furnishings and operations/Household operations\",\"Sporting goods/Sports vehicles including bicycles\",\"Motor vehicle fees/State motor vehicle registration and license fees\",\"Sugar and sweets/Sugar and sugar substitutes\",\"Food and beverages/Food\",\"All items/Food and beverages\",\"Cereals and cereal products/Flour and prepared flour mixes\",\"Motor vehicle maintenance and repair/Unsampled service policies\",\"Recreational reading materials/Unsampled recreational reading materials\",\"Video and audio/Video discs and other media, including rental of video\",\"Motor vehicle parts and equipment/Vehicle accessories other than tires\",\"Recreation/Video and audio\",\"Apparel/Men's and boys' apparel\",\"Men's apparel/Men''s underwear, nightwear, swimwear, and accessories\",\"Men's and boys' apparel/Men's apparel\",\"All items/Other goods and services\",\"Pets, pet products and services/Pets and pet products\",\"Information technology, hardware and services/Unsampled information and information processing\",\"New and used motor vehicles/Unsampled new and used motor vehicles\",\"Motor vehicle fees/Unsampled motor vehicle fees\",\"Men's apparel/Unsampled men's apparel\",\"Miscellaneous personal services/Unsampled items\",\"Other foods/Snacks\",\"Household operations/Repair of household items\",\"Housing/Shelter\",\"Other recreational goods/Sewing machines, fabric and supplies\",\"Professional services/Services by other medical professionals\",\"Fats and oils/Salad dressing\",\"Cereals and cereal products/Rice, pasta, cornmeal\",\"Information technology, hardware and services/Internet services and electronic information providers\",\"Public transportation/Intracity transportation\",\"Telephone services/Land-line telephone services\",\"Miscellaneous personal services/Laundry and dry cleaning services\",\"Nonalcoholic beverages and beverage materials/Juices and nonalcoholic drinks\",\"Food at home/Nonalcoholic beverages and beverage materials\",\"Bakery products/Other bakery products\",\"Appliances/Other appliances\",\"Hospital and related services/Nursing homes and adult day services\",\"Other household equipment and furnishings/Nonelectric cookware and tableware\",\"Medicinal drugs/Nonprescription drugs\",\"Juices and nonalcoholic drinks/Nonfrozen noncarbonated juices and drinks\",\"-\",\"Alcoholic beverages\",\"Alcoholic beverages at home\",\"All items\",\"Apparel\",\"Appliances\",\"Bakery products\",\"Beef and veal\",\"Beverage materials including coffee and tea\",\"Beverages\",\"Cereals and bakery products\",\"Cereals and cereal products\",\"Communication\",\"Dairy and related products\",\"Education\",\"Education and communication\",\"Energy services\",\"Fats and oils\",\"Fish and seafood\",\"Food\",\"Food and beverages\",\"Food at home\",\"Food away from home\",\"Footwear\",\"Fresh fruits\",\"Fresh fruits and vegetables\",\"Fresh vegetables\",\"Fruits and vegetables\",\"Fuel oil and other fuels\",\"Fuels and utilities\",\"Furniture and bedding\",\"Hospital and related services\",\"Household energy\",\"Household furnishings and operations\",\"Household operations\",\"Housekeeping supplies\",\"Housing\",\"Information and information processing\",\"Information technology, hardware and services\",\"Jewelry and watches\",\"Juices and nonalcoholic drinks\",\"Lodging away from home\",\"Meats\",\"Meats, poultry, and fish\",\"Meats, poultry, fish, and eggs\",\"Medical care\",\"Medical care commodities\",\"Medical care services\",\"Medicinal drugs\",\"Men's and boys' apparel\",\"Men's apparel\",\"Miscellaneous personal services\",\"Motor fuel\",\"Motor vehicle fees\",\"Motor vehicle maintenance and repair\",\"Motor vehicle parts and equipment\",\"New and used motor vehicles\",\"Nonalcoholic beverages and beverage materials\",\"Other food at home\",\"Other foods\",\"Other goods and services\",\"Other household equipment and furnishings\",\"Other recreation services\",\"Other recreational goods\",\"Owners' equivalent rent of residences\",\"Personal care\",\"Personal care products\",\"Personal care services\",\"Pets, pet products and services\",\"Photography\",\"Pork\",\"Postage and delivery services\",\"Poultry\",\"Private transportation\",\"Processed fruits and vegetables\",\"Professional services\",\"Public transportation\",\"Recreation\",\"Recreational reading materials\",\"Shelter\",\"Sporting goods\",\"Sugar and sweets\",\"Telephone services\",\"Tobacco and smoking products\",\"Tools, hardware, outdoor equipment and supplies\",\"Transportation\",\"Tuition, other school fees, and childcare\",\"Video and audio\",\"Water and sewer and trash collection services\",\"Window and floor coverings and other linens\",\"Women's and girls' apparel\",\"Women's apparel\"],\"labels\":[\"Admissions\",\"Girls' apparel\",\"Furniture and bedding\",\"Gasoline (all types)\",\"Gardening and lawncare services\",\"Garbage and trash collection\",\"Used cars and trucks\",\"Physicians' services\",\"Other furniture\",\"Motor vehicle insurance\",\"Recreational reading materials\",\"Hair, dental, shaving, and miscellaneous personal care products\",\"Airline fares\",\"Uncooked other beef and veal\",\"Newspapers and magazines\",\"Other beverage materials including tea\",\"Other foods\",\"Motor vehicle maintenance and repair\",\"Other food away from home\",\"Major appliances\",\"Meats\",\"Meats, poultry, and fish\",\"Audio equipment\",\"Baby food\",\"Bacon, breakfast sausage, and related products\",\"Bakery products\",\"Beverages\",\"Boys' and girls' footwear\",\"Boys' apparel\",\"Beverage materials including coffee and tea\",\"Fees for lessons or instructions\",\"Financial services\",\"Funeral expenses\",\"All items\",\"Appliances\",\"Apples\",\"Apparel services other than laundry and dry cleaning\",\"Apparel\",\"Unsampled personal care products\",\"Unsampled recreation commodities\",\"Citrus fruits\",\"Cigarettes\",\"Child care and nursery school\",\"Clocks, lamps, and decorator items\",\"Unsampled household operations\",\"Unsampled furniture\",\"Unsampled owners' equivalent rent of secondary residences\",\"Unsampled appliances\",\"Information and information processing\",\"Infants' and toddlers' apparel\",\"Food from vending machines and mobile vendors\",\"Food away from home\",\"Food at home\",\"Cereals and bakery products\",\"Cereals and cereal products\",\"Frozen fruits and vegetables\",\"Alcoholic beverages at home\",\"Full service meals and snacks\",\"Alcoholic beverages\",\"Alcoholic beverages away from home\",\"Eggs\",\"Club membership for shopping clubs, fraternal, or other organizations, or participant sports fees\",\"Chicken\",\"Bananas\",\"Fish and seafood\",\"Fuel oil\",\"Fruits and vegetables\",\"Fuel oil and other fuels\",\"Frozen noncarbonated juices and drinks\",\"Fuels and utilities\",\"Other food at home\",\"Other fats and oils including peanut butter\",\"Other dairy and related products\",\"Communication\",\"Computer software and accessories\",\"Computers, peripherals, and smart home assistant devices\",\"Cosmetics, perfume, bath, nail preparations and implements\",\"College tuition and fees\",\"Dairy and related products\",\"Delivery services\",\"Distilled spirits at home\",\"Dishes and flatware\",\"Dental services\",\"Domestic services\",\"Coffee\",\"Housing at school, excluding board\",\"Ice cream and related products\",\"Housekeeping supplies\",\"Information technology, hardware and services\",\"Lettuce\",\"Legal services\",\"Living room, kitchen, and dining room furniture\",\"Limited service meals and snacks\",\"Recreation\",\"Public transportation\",\"Recorded music and music subscriptions\",\"Housing\",\"Indoor plants and flowers\",\"Leased cars and trucks\",\"Jewelry and watches\",\"Milk\",\"Men's footwear\",\"Medicinal drugs\",\"Lodging away from home\",\"Meats, poultry, fish, and eggs\",\"Motor fuel\",\"Miscellaneous personal services\",\"Miscellaneous household products\",\"Motor vehicle body work\",\"Motor vehicle fees\",\"Men's shirts and sweaters\",\"Men's suits, sport coats, and outerwear\",\"Men's pants and shorts\",\"Jewelry\",\"Household paper products\",\"Haircuts and other personal care services\",\"Unsampled recreation services\",\"Unsampled sporting goods\",\"Unsampled women's apparel\",\"Unsampled video and audio\",\"Unsampled tuition, other school fees, and childcare\",\"Unsampled tools, hardware, outdoor equipment and supplies\",\"Unsampled tobacco and smoking products\",\"Other fresh fruits\",\"Other fresh vegetables\",\"Energy services\",\"Eyeglasses and eye care\",\"Elementary and high school tuition and fees\",\"Hospital services\",\"Hospital and related services\",\"Beer, ale, and other malt beverages at home\",\"Bread\",\"Candy and chewing gum\",\"Care of invalids and elderly at home\",\"Canned fruits and vegetables\",\"Beef and veal\",\"Cheese and related products\",\"Bedroom furniture\",\"Poultry\",\"Pork\",\"Potatoes\",\"Pork chops\",\"Prescription drugs\",\"Recreational books\",\"Propane, kerosene, and firewood\",\"Postage and delivery services\",\"Postage\",\"Motor vehicle maintenance and servicing\",\"New vehicles\",\"Motor vehicle parts and equipment\",\"Motor vehicle repair\",\"Moving, storage, freight expense\",\"Music instruments and accessories\",\"New and used motor vehicles\",\"Women's apparel\",\"Women's dresses\",\"Women's footwear\",\"Women's outerwear\",\"Women's underwear, nightwear, sportswear, and accessories\",\"Women's suits and separates\",\"Other processed fruits and vegetables including dried\",\"Other pork including roasts, steaks, and ribs\",\"Personal care products\",\"Personal care services\",\"Pet services including veterinary\",\"Owners' equivalent rent of primary residence\",\"Outdoor equipment and supplies\",\"Other video equipment\",\"Owners' equivalent rent of residences\",\"Other sweets\",\"Other recreational goods\",\"Other miscellaneous foods\",\"Other meats\",\"Other lodging away from home including hotels and motels\",\"Other linens\",\"Other intercity transportation\",\"Electricity\",\"Fats and oils\",\"Floor coverings\",\"Food at employee sites and schools\",\"Footwear\",\"Fresh biscuits, rolls, muffins\",\"Fresh fish and seafood\",\"Fresh fruits\",\"Fresh fruits and vegetables\",\"Fresh vegetables\",\"Frozen and freeze dried prepared foods\",\"Watches\",\"Utility (piped) gas service\",\"Medical care services\",\"Medical care commodities\",\"Medical care\",\"Medical equipment and supplies\",\"Transportation\",\"Toys\",\"Tools, hardware, outdoor equipment and supplies\",\"Tools, hardware and supplies\",\"Tobacco products other than cigarettes\",\"Tobacco and smoking products\",\"Tires\",\"Tenants' and household insurance\",\"Household furnishings and operations\",\"Household energy\",\"Water and sewer and trash collection services\",\"Wine at home\",\"Women's and girls' apparel\",\"Window and floor coverings and other linens\",\"Water and sewerage maintenance\",\"Window coverings\",\"Wireless telephone services\",\"Sporting goods\",\"Spices, seasonings, condiments, sauces\",\"Technical and business school tuition and fees\",\"Telephone hardware, calculators, and other consumer information items\",\"Telephone services\",\"Cable and satellite television service\",\"Butter and margarine\",\"Breakfast cereal\",\"Cakes, cupcakes, and cookies\",\"Unsampled photography\",\"Unsampled public transportation\",\"Car and truck rental\",\"Carbonated drinks\",\"Other household equipment and furnishings\",\"Other uncooked poultry including turkey\",\"Other recreation services\",\"Other motor fuels\",\"Personal care\",\"Parking and other fees\",\"Education\",\"Education and communication\",\"Educational books and supplies\",\"Processed fish and seafood\",\"Private transportation\",\"Professional services\",\"Processed fruits and vegetables\",\"Pets, pet products and services\",\"Photographers and photo processing\",\"Photographic equipment and supplies\",\"Photography\",\"Televisions\",\"Sugar and sweets\",\"Tomatoes\",\"Soups\",\"Sports equipment\",\"Tuition, other school fees, and childcare\",\"Rent of primary residence\",\"Uncooked ground beef\",\"Uncooked beef roasts\",\"Uncooked beef steaks\",\"Ham\",\"Household cleaning products\",\"Health insurance\",\"Household operations\",\"Sports vehicles including bicycles\",\"State motor vehicle registration and license fees\",\"Sugar and sugar substitutes\",\"Food\",\"Food and beverages\",\"Flour and prepared flour mixes\",\"Unsampled service policies\",\"Unsampled recreational reading materials\",\"Video discs and other media, including rental of video\",\"Vehicle accessories other than tires\",\"Video and audio\",\"Men's and boys' apparel\",\"Men''s underwear, nightwear, swimwear, and accessories\",\"Men's apparel\",\"Other goods and services\",\"Pets and pet products\",\"Unsampled information and information processing\",\"Unsampled new and used motor vehicles\",\"Unsampled motor vehicle fees\",\"Unsampled men's apparel\",\"Unsampled items\",\"Snacks\",\"Repair of household items\",\"Shelter\",\"Sewing machines, fabric and supplies\",\"Services by other medical professionals\",\"Salad dressing\",\"Rice, pasta, cornmeal\",\"Internet services and electronic information providers\",\"Intracity transportation\",\"Land-line telephone services\",\"Laundry and dry cleaning services\",\"Juices and nonalcoholic drinks\",\"Nonalcoholic beverages and beverage materials\",\"Other bakery products\",\"Other appliances\",\"Nursing homes and adult day services\",\"Nonelectric cookware and tableware\",\"Nonprescription drugs\",\"Nonfrozen noncarbonated juices and drinks\",\"-\",\"Alcoholic beverages\",\"Alcoholic beverages at home\",\"All items\",\"Apparel\",\"Appliances\",\"Bakery products\",\"Beef and veal\",\"Beverage materials including coffee and tea\",\"Beverages\",\"Cereals and bakery products\",\"Cereals and cereal products\",\"Communication\",\"Dairy and related products\",\"Education\",\"Education and communication\",\"Energy services\",\"Fats and oils\",\"Fish and seafood\",\"Food\",\"Food and beverages\",\"Food at home\",\"Food away from home\",\"Footwear\",\"Fresh fruits\",\"Fresh fruits and vegetables\",\"Fresh vegetables\",\"Fruits and vegetables\",\"Fuel oil and other fuels\",\"Fuels and utilities\",\"Furniture and bedding\",\"Hospital and related services\",\"Household energy\",\"Household furnishings and operations\",\"Household operations\",\"Housekeeping supplies\",\"Housing\",\"Information and information processing\",\"Information technology, hardware and services\",\"Jewelry and watches\",\"Juices and nonalcoholic drinks\",\"Lodging away from home\",\"Meats\",\"Meats, poultry, and fish\",\"Meats, poultry, fish, and eggs\",\"Medical care\",\"Medical care commodities\",\"Medical care services\",\"Medicinal drugs\",\"Men's and boys' apparel\",\"Men's apparel\",\"Miscellaneous personal services\",\"Motor fuel\",\"Motor vehicle fees\",\"Motor vehicle maintenance and repair\",\"Motor vehicle parts and equipment\",\"New and used motor vehicles\",\"Nonalcoholic beverages and beverage materials\",\"Other food at home\",\"Other foods\",\"Other goods and services\",\"Other household equipment and furnishings\",\"Other recreation services\",\"Other recreational goods\",\"Owners' equivalent rent of residences\",\"Personal care\",\"Personal care products\",\"Personal care services\",\"Pets, pet products and services\",\"Photography\",\"Pork\",\"Postage and delivery services\",\"Poultry\",\"Private transportation\",\"Processed fruits and vegetables\",\"Professional services\",\"Public transportation\",\"Recreation\",\"Recreational reading materials\",\"Shelter\",\"Sporting goods\",\"Sugar and sweets\",\"Telephone services\",\"Tobacco and smoking products\",\"Tools, hardware, outdoor equipment and supplies\",\"Transportation\",\"Tuition, other school fees, and childcare\",\"Video and audio\",\"Water and sewer and trash collection services\",\"Window and floor coverings and other linens\",\"Women's and girls' apparel\",\"Women's apparel\"],\"marker\":{\"colors\":[\"#636efa\",\"#EF553B\",\"#00cc96\",\"#ab63fa\",\"#FFA15A\",\"#19d3f3\",\"#FF6692\",\"#B6E880\",\"#FF97FF\",\"#FECB52\",\"#636efa\",\"#EF553B\",\"#00cc96\",\"#ab63fa\",\"#FFA15A\",\"#19d3f3\",\"#FF6692\",\"#FECB52\",\"#B6E880\",\"#FF97FF\",\"#FECB52\",\"#636efa\",\"#EF553B\",\"#00cc96\",\"#ab63fa\",\"#FFA15A\",\"#19d3f3\",\"#FF6692\",\"#B6E880\",\"#FF97FF\",\"#636efa\",\"#FECB52\",\"#FECB52\",\"#636efa\",\"#00cc96\",\"#EF553B\",\"#FECB52\",\"#00cc96\",\"#EF553B\",\"#ab63fa\",\"#EF553B\",\"#FFA15A\",\"#19d3f3\",\"#FF6692\",\"#FFA15A\",\"#FF97FF\",\"#B6E880\",\"#FF97FF\",\"#FF97FF\",\"#FECB52\",\"#B6E880\",\"#636efa\",\"#636efa\",\"#EF553B\",\"#FFA15A\",\"#00cc96\",\"#ab63fa\",\"#B6E880\",\"#FFA15A\",\"#ab63fa\",\"#636efa\",\"#636efa\",\"#19d3f3\",\"#EF553B\",\"#FECB52\",\"#FF6692\",\"#EF553B\",\"#B6E880\",\"#FF97FF\",\"#FECB52\",\"#EF553B\",\"#636efa\",\"#EF553B\",\"#00cc96\",\"#ab63fa\",\"#ab63fa\",\"#EF553B\",\"#19d3f3\",\"#EF553B\",\"#FFA15A\",\"#19d3f3\",\"#FF6692\",\"#B6E880\",\"#FFA15A\",\"#19d3f3\",\"#FF6692\",\"#EF553B\",\"#00cc96\",\"#B6E880\",\"#FF97FF\",\"#FECB52\",\"#FF97FF\",\"#B6E880\",\"#00cc96\",\"#FECB52\",\"#EF553B\",\"#00cc96\",\"#FF6692\",\"#FF6692\",\"#FECB52\",\"#EF553B\",\"#FF6692\",\"#636efa\",\"#EF553B\",\"#EF553B\",\"#FECB52\",\"#00cc96\",\"#ab63fa\",\"#FFA15A\",\"#FECB52\",\"#19d3f3\",\"#19d3f3\",\"#19d3f3\",\"#FF6692\",\"#ab63fa\",\"#B6E880\",\"#636efa\",\"#FF97FF\",\"#FECB52\",\"#EF553B\",\"#19d3f3\",\"#636efa\",\"#FFA15A\",\"#EF553B\",\"#FF97FF\",\"#B6E880\",\"#B6E880\",\"#19d3f3\",\"#EF553B\",\"#00cc96\",\"#19d3f3\",\"#ab63fa\",\"#FFA15A\",\"#EF553B\",\"#00cc96\",\"#19d3f3\",\"#EF553B\",\"#FF97FF\",\"#FECB52\",\"#19d3f3\",\"#FF97FF\",\"#ab63fa\",\"#FF6692\",\"#FFA15A\",\"#FF6692\",\"#FF97FF\",\"#FFA15A\",\"#FFA15A\",\"#FF6692\",\"#FECB52\",\"#FFA15A\",\"#FFA15A\",\"#ab63fa\",\"#FECB52\",\"#EF553B\",\"#FECB52\",\"#FF6692\",\"#FECB52\",\"#FECB52\",\"#FECB52\",\"#00cc96\",\"#ab63fa\",\"#00cc96\",\"#00cc96\",\"#B6E880\",\"#B6E880\",\"#636efa\",\"#EF553B\",\"#EF553B\",\"#FFA15A\",\"#636efa\",\"#00cc96\",\"#19d3f3\",\"#FF6692\",\"#FF97FF\",\"#00cc96\",\"#FECB52\",\"#FF6692\",\"#FF97FF\",\"#B6E880\",\"#FECB52\",\"#ab63fa\",\"#636efa\",\"#EF553B\",\"#00cc96\",\"#EF553B\",\"#00cc96\",\"#FF6692\",\"#FECB52\",\"#ab63fa\",\"#ab63fa\",\"#00cc96\",\"#636efa\",\"#00cc96\",\"#ab63fa\",\"#00cc96\",\"#636efa\",\"#FFA15A\",\"#FFA15A\",\"#19d3f3\",\"#EF553B\",\"#FECB52\",\"#FF6692\",\"#FF6692\",\"#19d3f3\",\"#FECB52\",\"#00cc96\",\"#19d3f3\",\"#FF97FF\",\"#B6E880\",\"#636efa\",\"#00cc96\",\"#19d3f3\",\"#ab63fa\",\"#B6E880\",\"#EF553B\",\"#636efa\",\"#FF97FF\",\"#ab63fa\",\"#FECB52\",\"#00cc96\",\"#FF6692\",\"#FF97FF\",\"#00cc96\",\"#19d3f3\",\"#636efa\",\"#ab63fa\",\"#FFA15A\",\"#636efa\",\"#00cc96\",\"#00cc96\",\"#EF553B\",\"#636efa\",\"#FECB52\",\"#00cc96\",\"#00cc96\",\"#636efa\",\"#FECB52\",\"#FECB52\",\"#636efa\",\"#EF553B\",\"#FF6692\",\"#FF97FF\",\"#00cc96\",\"#FF97FF\",\"#EF553B\",\"#EF553B\",\"#ab63fa\",\"#ab63fa\",\"#ab63fa\",\"#ab63fa\",\"#ab63fa\",\"#00cc96\",\"#00cc96\",\"#FF97FF\",\"#636efa\",\"#FFA15A\",\"#19d3f3\",\"#00cc96\",\"#FF97FF\",\"#FFA15A\",\"#FFA15A\",\"#EF553B\",\"#19d3f3\",\"#636efa\",\"#FECB52\",\"#19d3f3\",\"#B6E880\",\"#00cc96\",\"#B6E880\",\"#ab63fa\",\"#FF6692\",\"#636efa\",\"#19d3f3\",\"#FECB52\",\"#00cc96\",\"#FFA15A\",\"#FECB52\",\"#ab63fa\",\"#B6E880\",\"#636efa\",\"#FF97FF\",\"#ab63fa\",\"#00cc96\",\"#B6E880\",\"#FECB52\",\"#FF97FF\",\"#EF553B\",\"#ab63fa\",\"#FF97FF\",\"#EF553B\",\"#FF6692\",\"#FF6692\",\"#FF97FF\",\"#636efa\",\"#ab63fa\",\"#19d3f3\",\"#00cc96\",\"#FECB52\",\"#FF97FF\",\"#ab63fa\",\"#ab63fa\",\"#19d3f3\",\"#FFA15A\",\"#FFA15A\",\"#FF97FF\",\"#FF97FF\",\"#EF553B\",\"#EF553B\",\"#00cc96\",\"#FECB52\",\"#636efa\",\"#636efa\",\"#636efa\",\"#19d3f3\",\"#EF553B\",\"#B6E880\",\"#FF6692\",\"#EF553B\",\"#EF553B\",\"#FF97FF\",\"#00cc96\",\"#FF6692\",\"#FF6692\",\"#FF97FF\",\"#EF553B\",\"#B6E880\",\"#00cc96\",\"#FFA15A\",\"#ab63fa\",\"#FECB52\",\"#B6E880\",\"#ab63fa\",\"#FF6692\",\"#FF97FF\",\"#FF6692\",\"#19d3f3\",\"#FECB52\",\"#636efa\",\"#ab63fa\",\"#636efa\",\"#00cc96\",\"#FF6692\",\"#B6E880\",\"#19d3f3\",\"#FECB52\",\"#ab63fa\",\"#636efa\",\"#FFA15A\",\"#19d3f3\",\"#FF6692\",\"#FF97FF\",\"#FF6692\",\"#00cc96\",\"#FFA15A\",\"#FF6692\",\"#636efa\",\"#ab63fa\",\"#B6E880\",\"#00cc96\",\"#EF553B\",\"#B6E880\",\"#B6E880\",\"#FECB52\",\"#ab63fa\",\"#FFA15A\",\"#19d3f3\",\"#FECB52\",\"#00cc96\",\"#B6E880\",\"#00cc96\",\"#636efa\",\"#FFA15A\",\"#EF553B\",\"#FF97FF\",\"#FFA15A\",\"#B6E880\",\"#FFA15A\",\"#636efa\",\"#FECB52\",\"#19d3f3\",\"#EF553B\",\"#19d3f3\",\"#FF97FF\",\"#EF553B\",\"#FECB52\"]},\"name\":\"\",\"parents\":[\"Other recreation services\",\"Women's and girls' apparel\",\"Household furnishings and operations\",\"Motor fuel\",\"Household operations\",\"Water and sewer and trash collection services\",\"New and used motor vehicles\",\"Professional services\",\"Furniture and bedding\",\"Private transportation\",\"Recreation\",\"Personal care products\",\"Public transportation\",\"Beef and veal\",\"Recreational reading materials\",\"Beverage materials including coffee and tea\",\"Other food at home\",\"Private transportation\",\"Food away from home\",\"Appliances\",\"Meats, poultry, and fish\",\"Meats, poultry, fish, and eggs\",\"Video and audio\",\"Other foods\",\"Pork\",\"Cereals and bakery products\",\"Food and beverages\",\"Footwear\",\"Men's and boys' apparel\",\"Nonalcoholic beverages and beverage materials\",\"Other recreation services\",\"Miscellaneous personal services\",\"Miscellaneous personal services\",\"-\",\"Household furnishings and operations\",\"Fresh fruits\",\"Miscellaneous personal services\",\"All items\",\"Personal care products\",\"Other recreational goods\",\"Fresh fruits\",\"Tobacco and smoking products\",\"Tuition, other school fees, and childcare\",\"Other household equipment and furnishings\",\"Household operations\",\"Furniture and bedding\",\"Owners' equivalent rent of residences\",\"Appliances\",\"Communication\",\"Apparel\",\"Food away from home\",\"Food\",\"Food\",\"Food at home\",\"Cereals and bakery products\",\"Processed fruits and vegetables\",\"Alcoholic beverages\",\"Food away from home\",\"Beverages\",\"Alcoholic beverages\",\"Meats, poultry, fish, and eggs\",\"Other recreation services\",\"Poultry\",\"Fresh fruits\",\"Meats, poultry, and fish\",\"Fuel oil and other fuels\",\"Food at home\",\"Household energy\",\"Juices and nonalcoholic drinks\",\"Housing\",\"Food at home\",\"Fats and oils\",\"Dairy and related products\",\"Education and communication\",\"Information technology, hardware and services\",\"Information technology, hardware and services\",\"Personal care products\",\"Tuition, other school fees, and childcare\",\"Food at home\",\"Postage and delivery services\",\"Alcoholic beverages at home\",\"Other household equipment and furnishings\",\"Professional services\",\"Household operations\",\"Beverage materials including coffee and tea\",\"Lodging away from home\",\"Dairy and related products\",\"Household furnishings and operations\",\"Information and information processing\",\"Fresh vegetables\",\"Miscellaneous personal services\",\"Furniture and bedding\",\"Food away from home\",\"All items\",\"Transportation\",\"Video and audio\",\"All items\",\"Other household equipment and furnishings\",\"New and used motor vehicles\",\"Apparel\",\"Dairy and related products\",\"Footwear\",\"Medical care commodities\",\"Shelter\",\"Food at home\",\"Private transportation\",\"Personal care\",\"Housekeeping supplies\",\"Motor vehicle maintenance and repair\",\"Private transportation\",\"Men's apparel\",\"Men's apparel\",\"Men's apparel\",\"Jewelry and watches\",\"Housekeeping supplies\",\"Personal care services\",\"Other recreation services\",\"Sporting goods\",\"Women's apparel\",\"Video and audio\",\"Tuition, other school fees, and childcare\",\"Tools, hardware, outdoor equipment and supplies\",\"Tobacco and smoking products\",\"Fresh fruits\",\"Fresh vegetables\",\"Household energy\",\"Professional services\",\"Tuition, other school fees, and childcare\",\"Hospital and related services\",\"Medical care services\",\"Alcoholic beverages at home\",\"Bakery products\",\"Sugar and sweets\",\"Hospital and related services\",\"Processed fruits and vegetables\",\"Meats\",\"Dairy and related products\",\"Furniture and bedding\",\"Meats, poultry, and fish\",\"Meats\",\"Fresh vegetables\",\"Pork\",\"Medicinal drugs\",\"Recreational reading materials\",\"Fuel oil and other fuels\",\"Communication\",\"Postage and delivery services\",\"Motor vehicle maintenance and repair\",\"New and used motor vehicles\",\"Private transportation\",\"Motor vehicle maintenance and repair\",\"Household operations\",\"Other recreational goods\",\"Private transportation\",\"Women's and girls' apparel\",\"Women's apparel\",\"Footwear\",\"Women's apparel\",\"Women's apparel\",\"Women's apparel\",\"Processed fruits and vegetables\",\"Pork\",\"Personal care\",\"Personal care\",\"Pets, pet products and services\",\"Owners' equivalent rent of residences\",\"Tools, hardware, outdoor equipment and supplies\",\"Video and audio\",\"Shelter\",\"Sugar and sweets\",\"Recreation\",\"Other foods\",\"Meats\",\"Lodging away from home\",\"Window and floor coverings and other linens\",\"Public transportation\",\"Energy services\",\"Other food at home\",\"Window and floor coverings and other linens\",\"Food away from home\",\"Apparel\",\"Bakery products\",\"Fish and seafood\",\"Fresh fruits and vegetables\",\"Fruits and vegetables\",\"Fresh fruits and vegetables\",\"Other foods\",\"Jewelry and watches\",\"Energy services\",\"Medical care\",\"Medical care\",\"All items\",\"Medical care commodities\",\"All items\",\"Other recreational goods\",\"Household furnishings and operations\",\"Tools, hardware, outdoor equipment and supplies\",\"Tobacco and smoking products\",\"Other goods and services\",\"Motor vehicle parts and equipment\",\"Shelter\",\"Housing\",\"Fuels and utilities\",\"Fuels and utilities\",\"Alcoholic beverages at home\",\"Apparel\",\"Household furnishings and operations\",\"Water and sewer and trash collection services\",\"Window and floor coverings and other linens\",\"Telephone services\",\"Recreation\",\"Other foods\",\"Tuition, other school fees, and childcare\",\"Information technology, hardware and services\",\"Information and information processing\",\"Video and audio\",\"Fats and oils\",\"Cereals and cereal products\",\"Bakery products\",\"Photography\",\"Public transportation\",\"New and used motor vehicles\",\"Juices and nonalcoholic drinks\",\"Household furnishings and operations\",\"Poultry\",\"Recreation\",\"Motor fuel\",\"Other goods and services\",\"Motor vehicle fees\",\"Education and communication\",\"All items\",\"Education\",\"Fish and seafood\",\"Transportation\",\"Medical care services\",\"Fruits and vegetables\",\"Recreation\",\"Photography\",\"Photography\",\"Recreation\",\"Video and audio\",\"Other food at home\",\"Fresh vegetables\",\"Other foods\",\"Sporting goods\",\"Education\",\"Shelter\",\"Beef and veal\",\"Beef and veal\",\"Beef and veal\",\"Pork\",\"Housekeeping supplies\",\"Medical care services\",\"Household furnishings and operations\",\"Sporting goods\",\"Motor vehicle fees\",\"Sugar and sweets\",\"Food and beverages\",\"All items\",\"Cereals and cereal products\",\"Motor vehicle maintenance and repair\",\"Recreational reading materials\",\"Video and audio\",\"Motor vehicle parts and equipment\",\"Recreation\",\"Apparel\",\"Men's apparel\",\"Men's and boys' apparel\",\"All items\",\"Pets, pet products and services\",\"Information technology, hardware and services\",\"New and used motor vehicles\",\"Motor vehicle fees\",\"Men's apparel\",\"Miscellaneous personal services\",\"Other foods\",\"Household operations\",\"Housing\",\"Other recreational goods\",\"Professional services\",\"Fats and oils\",\"Cereals and cereal products\",\"Information technology, hardware and services\",\"Public transportation\",\"Telephone services\",\"Miscellaneous personal services\",\"Nonalcoholic beverages and beverage materials\",\"Food at home\",\"Bakery products\",\"Appliances\",\"Hospital and related services\",\"Other household equipment and furnishings\",\"Medicinal drugs\",\"Juices and nonalcoholic drinks\",\"\",\"\",\"\",\"\",\"\",\"\",\"\",\"\",\"\",\"\",\"\",\"\",\"\",\"\",\"\",\"\",\"\",\"\",\"\",\"\",\"\",\"\",\"\",\"\",\"\",\"\",\"\",\"\",\"\",\"\",\"\",\"\",\"\",\"\",\"\",\"\",\"\",\"\",\"\",\"\",\"\",\"\",\"\",\"\",\"\",\"\",\"\",\"\",\"\",\"\",\"\",\"\",\"\",\"\",\"\",\"\",\"\",\"\",\"\",\"\",\"\",\"\",\"\",\"\",\"\",\"\",\"\",\"\",\"\",\"\",\"\",\"\",\"\",\"\",\"\",\"\",\"\",\"\",\"\",\"\",\"\",\"\",\"\",\"\",\"\",\"\",\"\",\"\",\"\",\"\",\"\",\"\"],\"values\":[0.688,0.2,0.944,2.811,0.31,0.297,2.75,1.817,0.152,1.598,0.12,0.364,0.633,0.044,0.068,0.095,1.489,1.099,0.174,0.078,1.026,1.637,0.079,0.042,0.134,0.693,1.038,0.136,0.134,0.264,0.218,0.229,0.14,100.0,0.22,0.073,0.03,2.663,0.008,0.016,0.136,0.529,0.768,0.313,0.08,0.009,1.218,0.003,3.666,0.125,0.08,6.347,7.772,1.001,0.308,0.086,0.58,3.176,1.038,0.458,0.099,0.689,0.273,0.074,0.278,0.084,1.341,0.145,0.006,4.387,1.972,0.098,0.197,3.777,0.018,0.297,0.306,1.569,0.792,0.01,0.094,0.052,1.005,0.302,0.169,0.118,0.111,0.922,1.297,0.068,0.25,0.454,2.787,5.797,1.105,0.045,42.385,0.093,0.641,0.153,0.218,0.224,1.515,0.825,1.736,2.875,0.981,0.32,0.059,0.565,0.15,0.088,0.13,0.114,0.235,0.694,0.321,0.01,0.009,0.012,0.119,0.19,0.019,0.254,0.29,3.135,0.365,0.431,2.221,2.419,0.223,0.2,0.18,0.073,0.15,0.471,0.266,0.329,0.333,0.322,0.075,0.052,1.141,0.05,0.061,0.111,0.101,0.635,3.756,0.393,0.345,0.091,0.046,7.525,0.875,0.092,0.284,0.062,0.265,0.446,0.052,0.075,0.678,0.694,0.56,23.044,0.459,0.042,24.263,0.053,0.356,0.469,0.233,0.707,0.151,0.182,2.425,0.212,0.062,0.13,0.644,0.101,0.14,0.538,1.053,0.516,0.259,0.04,0.71,7.289,1.58,8.87,0.066,15.16,0.274,0.892,0.243,0.06,0.608,0.249,0.366,4.682,3.28,1.107,0.263,1.075,0.271,0.81,0.058,1.96,0.604,0.29,0.037,0.077,2.369,1.192,0.063,0.142,0.178,0.001,0.003,0.134,0.278,0.535,0.06,1.916,0.064,2.551,0.254,3.033,6.81,0.109,0.138,14.055,3.662,0.288,1.192,0.044,0.026,0.071,0.091,0.27,0.082,0.089,0.232,2.924,7.862,0.173,0.073,0.18,0.062,0.367,1.209,0.899,0.361,0.297,0.037,14.119,15.157,0.041,0.06,0.002,0.076,0.144,1.537,0.666,0.158,0.532,3.159,0.632,0.012,0.244,0.015,0.005,0.111,0.34,0.116,33.316,0.02,0.474,0.051,0.124,0.893,0.287,0.41,0.22,0.666,0.93,0.214,0.14,0.124,0.077,0.374,0.382,100.0,1.038,0.5800000000000001,100.00099999999999,2.663,0.22100000000000003,0.6930000000000001,0.47,0.264,1.038,1.001,0.307,3.777,0.792,3.033,6.8100000000000005,3.135,0.212,0.278,14.119,15.157,7.772,6.347,0.644,0.537,1.054,0.515,1.341,0.14500000000000002,4.387,0.9440000000000001,2.418,3.28,4.683,0.899,0.9219999999999999,42.385000000000005,3.6660000000000004,1.297,0.154,0.666,0.825,1.026,1.637,1.736,8.869,1.581,7.29,1.5150000000000001,0.666,0.531,0.98,2.875,0.566,1.099,0.393,7.5249999999999995,0.93,1.971,1.4889999999999999,3.1590000000000003,0.535,1.916,0.35600000000000004,24.262,2.3529999999999998,0.6779999999999999,0.694,1.1920000000000002,0.071,0.323,0.111,0.333,14.055,0.288,3.6609999999999996,1.105,5.795999999999999,0.12000000000000001,33.316,0.603,0.27,2.37,0.608,0.892,15.16,2.924,1.537,1.107,0.271,1.075,0.874],\"type\":\"treemap\"}],                        {\"template\":{\"data\":{\"histogram2dcontour\":[{\"type\":\"histogram2dcontour\",\"colorbar\":{\"outlinewidth\":0,\"ticks\":\"\"},\"colorscale\":[[0.0,\"#0d0887\"],[0.1111111111111111,\"#46039f\"],[0.2222222222222222,\"#7201a8\"],[0.3333333333333333,\"#9c179e\"],[0.4444444444444444,\"#bd3786\"],[0.5555555555555556,\"#d8576b\"],[0.6666666666666666,\"#ed7953\"],[0.7777777777777778,\"#fb9f3a\"],[0.8888888888888888,\"#fdca26\"],[1.0,\"#f0f921\"]]}],\"choropleth\":[{\"type\":\"choropleth\",\"colorbar\":{\"outlinewidth\":0,\"ticks\":\"\"}}],\"histogram2d\":[{\"type\":\"histogram2d\",\"colorbar\":{\"outlinewidth\":0,\"ticks\":\"\"},\"colorscale\":[[0.0,\"#0d0887\"],[0.1111111111111111,\"#46039f\"],[0.2222222222222222,\"#7201a8\"],[0.3333333333333333,\"#9c179e\"],[0.4444444444444444,\"#bd3786\"],[0.5555555555555556,\"#d8576b\"],[0.6666666666666666,\"#ed7953\"],[0.7777777777777778,\"#fb9f3a\"],[0.8888888888888888,\"#fdca26\"],[1.0,\"#f0f921\"]]}],\"heatmap\":[{\"type\":\"heatmap\",\"colorbar\":{\"outlinewidth\":0,\"ticks\":\"\"},\"colorscale\":[[0.0,\"#0d0887\"],[0.1111111111111111,\"#46039f\"],[0.2222222222222222,\"#7201a8\"],[0.3333333333333333,\"#9c179e\"],[0.4444444444444444,\"#bd3786\"],[0.5555555555555556,\"#d8576b\"],[0.6666666666666666,\"#ed7953\"],[0.7777777777777778,\"#fb9f3a\"],[0.8888888888888888,\"#fdca26\"],[1.0,\"#f0f921\"]]}],\"heatmapgl\":[{\"type\":\"heatmapgl\",\"colorbar\":{\"outlinewidth\":0,\"ticks\":\"\"},\"colorscale\":[[0.0,\"#0d0887\"],[0.1111111111111111,\"#46039f\"],[0.2222222222222222,\"#7201a8\"],[0.3333333333333333,\"#9c179e\"],[0.4444444444444444,\"#bd3786\"],[0.5555555555555556,\"#d8576b\"],[0.6666666666666666,\"#ed7953\"],[0.7777777777777778,\"#fb9f3a\"],[0.8888888888888888,\"#fdca26\"],[1.0,\"#f0f921\"]]}],\"contourcarpet\":[{\"type\":\"contourcarpet\",\"colorbar\":{\"outlinewidth\":0,\"ticks\":\"\"}}],\"contour\":[{\"type\":\"contour\",\"colorbar\":{\"outlinewidth\":0,\"ticks\":\"\"},\"colorscale\":[[0.0,\"#0d0887\"],[0.1111111111111111,\"#46039f\"],[0.2222222222222222,\"#7201a8\"],[0.3333333333333333,\"#9c179e\"],[0.4444444444444444,\"#bd3786\"],[0.5555555555555556,\"#d8576b\"],[0.6666666666666666,\"#ed7953\"],[0.7777777777777778,\"#fb9f3a\"],[0.8888888888888888,\"#fdca26\"],[1.0,\"#f0f921\"]]}],\"surface\":[{\"type\":\"surface\",\"colorbar\":{\"outlinewidth\":0,\"ticks\":\"\"},\"colorscale\":[[0.0,\"#0d0887\"],[0.1111111111111111,\"#46039f\"],[0.2222222222222222,\"#7201a8\"],[0.3333333333333333,\"#9c179e\"],[0.4444444444444444,\"#bd3786\"],[0.5555555555555556,\"#d8576b\"],[0.6666666666666666,\"#ed7953\"],[0.7777777777777778,\"#fb9f3a\"],[0.8888888888888888,\"#fdca26\"],[1.0,\"#f0f921\"]]}],\"mesh3d\":[{\"type\":\"mesh3d\",\"colorbar\":{\"outlinewidth\":0,\"ticks\":\"\"}}],\"scatter\":[{\"fillpattern\":{\"fillmode\":\"overlay\",\"size\":10,\"solidity\":0.2},\"type\":\"scatter\"}],\"parcoords\":[{\"type\":\"parcoords\",\"line\":{\"colorbar\":{\"outlinewidth\":0,\"ticks\":\"\"}}}],\"scatterpolargl\":[{\"type\":\"scatterpolargl\",\"marker\":{\"colorbar\":{\"outlinewidth\":0,\"ticks\":\"\"}}}],\"bar\":[{\"error_x\":{\"color\":\"#2a3f5f\"},\"error_y\":{\"color\":\"#2a3f5f\"},\"marker\":{\"line\":{\"color\":\"#E5ECF6\",\"width\":0.5},\"pattern\":{\"fillmode\":\"overlay\",\"size\":10,\"solidity\":0.2}},\"type\":\"bar\"}],\"scattergeo\":[{\"type\":\"scattergeo\",\"marker\":{\"colorbar\":{\"outlinewidth\":0,\"ticks\":\"\"}}}],\"scatterpolar\":[{\"type\":\"scatterpolar\",\"marker\":{\"colorbar\":{\"outlinewidth\":0,\"ticks\":\"\"}}}],\"histogram\":[{\"marker\":{\"pattern\":{\"fillmode\":\"overlay\",\"size\":10,\"solidity\":0.2}},\"type\":\"histogram\"}],\"scattergl\":[{\"type\":\"scattergl\",\"marker\":{\"colorbar\":{\"outlinewidth\":0,\"ticks\":\"\"}}}],\"scatter3d\":[{\"type\":\"scatter3d\",\"line\":{\"colorbar\":{\"outlinewidth\":0,\"ticks\":\"\"}},\"marker\":{\"colorbar\":{\"outlinewidth\":0,\"ticks\":\"\"}}}],\"scattermapbox\":[{\"type\":\"scattermapbox\",\"marker\":{\"colorbar\":{\"outlinewidth\":0,\"ticks\":\"\"}}}],\"scatterternary\":[{\"type\":\"scatterternary\",\"marker\":{\"colorbar\":{\"outlinewidth\":0,\"ticks\":\"\"}}}],\"scattercarpet\":[{\"type\":\"scattercarpet\",\"marker\":{\"colorbar\":{\"outlinewidth\":0,\"ticks\":\"\"}}}],\"carpet\":[{\"aaxis\":{\"endlinecolor\":\"#2a3f5f\",\"gridcolor\":\"white\",\"linecolor\":\"white\",\"minorgridcolor\":\"white\",\"startlinecolor\":\"#2a3f5f\"},\"baxis\":{\"endlinecolor\":\"#2a3f5f\",\"gridcolor\":\"white\",\"linecolor\":\"white\",\"minorgridcolor\":\"white\",\"startlinecolor\":\"#2a3f5f\"},\"type\":\"carpet\"}],\"table\":[{\"cells\":{\"fill\":{\"color\":\"#EBF0F8\"},\"line\":{\"color\":\"white\"}},\"header\":{\"fill\":{\"color\":\"#C8D4E3\"},\"line\":{\"color\":\"white\"}},\"type\":\"table\"}],\"barpolar\":[{\"marker\":{\"line\":{\"color\":\"#E5ECF6\",\"width\":0.5},\"pattern\":{\"fillmode\":\"overlay\",\"size\":10,\"solidity\":0.2}},\"type\":\"barpolar\"}],\"pie\":[{\"automargin\":true,\"type\":\"pie\"}]},\"layout\":{\"autotypenumbers\":\"strict\",\"colorway\":[\"#636efa\",\"#EF553B\",\"#00cc96\",\"#ab63fa\",\"#FFA15A\",\"#19d3f3\",\"#FF6692\",\"#B6E880\",\"#FF97FF\",\"#FECB52\"],\"font\":{\"color\":\"#2a3f5f\"},\"hovermode\":\"closest\",\"hoverlabel\":{\"align\":\"left\"},\"paper_bgcolor\":\"white\",\"plot_bgcolor\":\"#E5ECF6\",\"polar\":{\"bgcolor\":\"#E5ECF6\",\"angularaxis\":{\"gridcolor\":\"white\",\"linecolor\":\"white\",\"ticks\":\"\"},\"radialaxis\":{\"gridcolor\":\"white\",\"linecolor\":\"white\",\"ticks\":\"\"}},\"ternary\":{\"bgcolor\":\"#E5ECF6\",\"aaxis\":{\"gridcolor\":\"white\",\"linecolor\":\"white\",\"ticks\":\"\"},\"baxis\":{\"gridcolor\":\"white\",\"linecolor\":\"white\",\"ticks\":\"\"},\"caxis\":{\"gridcolor\":\"white\",\"linecolor\":\"white\",\"ticks\":\"\"}},\"coloraxis\":{\"colorbar\":{\"outlinewidth\":0,\"ticks\":\"\"}},\"colorscale\":{\"sequential\":[[0.0,\"#0d0887\"],[0.1111111111111111,\"#46039f\"],[0.2222222222222222,\"#7201a8\"],[0.3333333333333333,\"#9c179e\"],[0.4444444444444444,\"#bd3786\"],[0.5555555555555556,\"#d8576b\"],[0.6666666666666666,\"#ed7953\"],[0.7777777777777778,\"#fb9f3a\"],[0.8888888888888888,\"#fdca26\"],[1.0,\"#f0f921\"]],\"sequentialminus\":[[0.0,\"#0d0887\"],[0.1111111111111111,\"#46039f\"],[0.2222222222222222,\"#7201a8\"],[0.3333333333333333,\"#9c179e\"],[0.4444444444444444,\"#bd3786\"],[0.5555555555555556,\"#d8576b\"],[0.6666666666666666,\"#ed7953\"],[0.7777777777777778,\"#fb9f3a\"],[0.8888888888888888,\"#fdca26\"],[1.0,\"#f0f921\"]],\"diverging\":[[0,\"#8e0152\"],[0.1,\"#c51b7d\"],[0.2,\"#de77ae\"],[0.3,\"#f1b6da\"],[0.4,\"#fde0ef\"],[0.5,\"#f7f7f7\"],[0.6,\"#e6f5d0\"],[0.7,\"#b8e186\"],[0.8,\"#7fbc41\"],[0.9,\"#4d9221\"],[1,\"#276419\"]]},\"xaxis\":{\"gridcolor\":\"white\",\"linecolor\":\"white\",\"ticks\":\"\",\"title\":{\"standoff\":15},\"zerolinecolor\":\"white\",\"automargin\":true,\"zerolinewidth\":2},\"yaxis\":{\"gridcolor\":\"white\",\"linecolor\":\"white\",\"ticks\":\"\",\"title\":{\"standoff\":15},\"zerolinecolor\":\"white\",\"automargin\":true,\"zerolinewidth\":2},\"scene\":{\"xaxis\":{\"backgroundcolor\":\"#E5ECF6\",\"gridcolor\":\"white\",\"linecolor\":\"white\",\"showbackground\":true,\"ticks\":\"\",\"zerolinecolor\":\"white\",\"gridwidth\":2},\"yaxis\":{\"backgroundcolor\":\"#E5ECF6\",\"gridcolor\":\"white\",\"linecolor\":\"white\",\"showbackground\":true,\"ticks\":\"\",\"zerolinecolor\":\"white\",\"gridwidth\":2},\"zaxis\":{\"backgroundcolor\":\"#E5ECF6\",\"gridcolor\":\"white\",\"linecolor\":\"white\",\"showbackground\":true,\"ticks\":\"\",\"zerolinecolor\":\"white\",\"gridwidth\":2}},\"shapedefaults\":{\"line\":{\"color\":\"#2a3f5f\"}},\"annotationdefaults\":{\"arrowcolor\":\"#2a3f5f\",\"arrowhead\":0,\"arrowwidth\":1},\"geo\":{\"bgcolor\":\"white\",\"landcolor\":\"#E5ECF6\",\"subunitcolor\":\"white\",\"showland\":true,\"showlakes\":true,\"lakecolor\":\"white\"},\"title\":{\"x\":0.05},\"mapbox\":{\"style\":\"light\"}}},\"legend\":{\"tracegroupgap\":0},\"margin\":{\"t\":60}},                        {\"responsive\": true}                    ).then(function(){\n",
       "                            \n",
       "var gd = document.getElementById('b9e1034d-ba6c-4371-b554-d758b2c646e0');\n",
       "var x = new MutationObserver(function (mutations, observer) {{\n",
       "        var display = window.getComputedStyle(gd).display;\n",
       "        if (!display || display === 'none') {{\n",
       "            console.log([gd, 'removed!']);\n",
       "            Plotly.purge(gd);\n",
       "            observer.disconnect();\n",
       "        }}\n",
       "}});\n",
       "\n",
       "// Listen for the removal of the full notebook cells\n",
       "var notebookContainer = gd.closest('#notebook-container');\n",
       "if (notebookContainer) {{\n",
       "    x.observe(notebookContainer, {childList: true});\n",
       "}}\n",
       "\n",
       "// Listen for the clearing of the current output cell\n",
       "var outputEl = gd.closest('.output');\n",
       "if (outputEl) {{\n",
       "    x.observe(outputEl, {childList: true});\n",
       "}}\n",
       "\n",
       "                        })                };                });            </script>        </div>"
      ]
     },
     "metadata": {},
     "output_type": "display_data"
    },
    {
     "data": {
      "application/vnd.plotly.v1+json": {
       "config": {
        "plotlyServerURL": "https://plot.ly"
       },
       "data": [
        {
         "branchvalues": "total",
         "customdata": [
          [
           "Other recreation services"
          ],
          [
           "Women's and girls' apparel"
          ],
          [
           "Household furnishings and operations"
          ],
          [
           "Motor fuel"
          ],
          [
           "Household operations"
          ],
          [
           "Water and sewer and trash collection services"
          ],
          [
           "New and used motor vehicles"
          ],
          [
           "Professional services"
          ],
          [
           "Furniture and bedding"
          ],
          [
           "Private transportation"
          ],
          [
           "Recreation"
          ],
          [
           "Personal care products"
          ],
          [
           "Public transportation"
          ],
          [
           "Beef and veal"
          ],
          [
           "Recreational reading materials"
          ],
          [
           "Beverage materials including coffee and tea"
          ],
          [
           "Other food at home"
          ],
          [
           "Private transportation"
          ],
          [
           "Food away from home"
          ],
          [
           "Appliances"
          ],
          [
           "Meats, poultry, and fish"
          ],
          [
           "Meats, poultry, fish, and eggs"
          ],
          [
           "Video and audio"
          ],
          [
           "Other foods"
          ],
          [
           "Pork"
          ],
          [
           "Cereals and bakery products"
          ],
          [
           "Food and beverages"
          ],
          [
           "Footwear"
          ],
          [
           "Men's and boys' apparel"
          ],
          [
           "Nonalcoholic beverages and beverage materials"
          ],
          [
           "Other recreation services"
          ],
          [
           "Miscellaneous personal services"
          ],
          [
           "Miscellaneous personal services"
          ],
          [
           "-"
          ],
          [
           "Household furnishings and operations"
          ],
          [
           "Fresh fruits"
          ],
          [
           "Miscellaneous personal services"
          ],
          [
           "All items"
          ],
          [
           "Personal care products"
          ],
          [
           "Other recreational goods"
          ],
          [
           "Fresh fruits"
          ],
          [
           "Tobacco and smoking products"
          ],
          [
           "Tuition, other school fees, and childcare"
          ],
          [
           "Other household equipment and furnishings"
          ],
          [
           "Household operations"
          ],
          [
           "Furniture and bedding"
          ],
          [
           "Owners' equivalent rent of residences"
          ],
          [
           "Appliances"
          ],
          [
           "Communication"
          ],
          [
           "Apparel"
          ],
          [
           "Food away from home"
          ],
          [
           "Food"
          ],
          [
           "Food"
          ],
          [
           "Food at home"
          ],
          [
           "Cereals and bakery products"
          ],
          [
           "Processed fruits and vegetables"
          ],
          [
           "Alcoholic beverages"
          ],
          [
           "Food away from home"
          ],
          [
           "Beverages"
          ],
          [
           "Alcoholic beverages"
          ],
          [
           "Meats, poultry, fish, and eggs"
          ],
          [
           "Other recreation services"
          ],
          [
           "Poultry"
          ],
          [
           "Fresh fruits"
          ],
          [
           "Meats, poultry, and fish"
          ],
          [
           "Fuel oil and other fuels"
          ],
          [
           "Food at home"
          ],
          [
           "Household energy"
          ],
          [
           "Juices and nonalcoholic drinks"
          ],
          [
           "Housing"
          ],
          [
           "Food at home"
          ],
          [
           "Fats and oils"
          ],
          [
           "Dairy and related products"
          ],
          [
           "Education and communication"
          ],
          [
           "Information technology, hardware and services"
          ],
          [
           "Information technology, hardware and services"
          ],
          [
           "Personal care products"
          ],
          [
           "Tuition, other school fees, and childcare"
          ],
          [
           "Food at home"
          ],
          [
           "Postage and delivery services"
          ],
          [
           "Alcoholic beverages at home"
          ],
          [
           "Other household equipment and furnishings"
          ],
          [
           "Professional services"
          ],
          [
           "Household operations"
          ],
          [
           "Beverage materials including coffee and tea"
          ],
          [
           "Lodging away from home"
          ],
          [
           "Dairy and related products"
          ],
          [
           "Household furnishings and operations"
          ],
          [
           "Information and information processing"
          ],
          [
           "Fresh vegetables"
          ],
          [
           "Miscellaneous personal services"
          ],
          [
           "Furniture and bedding"
          ],
          [
           "Food away from home"
          ],
          [
           "All items"
          ],
          [
           "Transportation"
          ],
          [
           "Video and audio"
          ],
          [
           "All items"
          ],
          [
           "Other household equipment and furnishings"
          ],
          [
           "New and used motor vehicles"
          ],
          [
           "Apparel"
          ],
          [
           "Dairy and related products"
          ],
          [
           "Footwear"
          ],
          [
           "Medical care commodities"
          ],
          [
           "Shelter"
          ],
          [
           "Food at home"
          ],
          [
           "Private transportation"
          ],
          [
           "Personal care"
          ],
          [
           "Housekeeping supplies"
          ],
          [
           "Motor vehicle maintenance and repair"
          ],
          [
           "Private transportation"
          ],
          [
           "Men's apparel"
          ],
          [
           "Men's apparel"
          ],
          [
           "Men's apparel"
          ],
          [
           "Jewelry and watches"
          ],
          [
           "Housekeeping supplies"
          ],
          [
           "Personal care services"
          ],
          [
           "Other recreation services"
          ],
          [
           "Sporting goods"
          ],
          [
           "Women's apparel"
          ],
          [
           "Video and audio"
          ],
          [
           "Tuition, other school fees, and childcare"
          ],
          [
           "Tools, hardware, outdoor equipment and supplies"
          ],
          [
           "Tobacco and smoking products"
          ],
          [
           "Fresh fruits"
          ],
          [
           "Fresh vegetables"
          ],
          [
           "Household energy"
          ],
          [
           "Professional services"
          ],
          [
           "Tuition, other school fees, and childcare"
          ],
          [
           "Hospital and related services"
          ],
          [
           "Medical care services"
          ],
          [
           "Alcoholic beverages at home"
          ],
          [
           "Bakery products"
          ],
          [
           "Sugar and sweets"
          ],
          [
           "Hospital and related services"
          ],
          [
           "Processed fruits and vegetables"
          ],
          [
           "Meats"
          ],
          [
           "Dairy and related products"
          ],
          [
           "Furniture and bedding"
          ],
          [
           "Meats, poultry, and fish"
          ],
          [
           "Meats"
          ],
          [
           "Fresh vegetables"
          ],
          [
           "Pork"
          ],
          [
           "Medicinal drugs"
          ],
          [
           "Recreational reading materials"
          ],
          [
           "Fuel oil and other fuels"
          ],
          [
           "Communication"
          ],
          [
           "Postage and delivery services"
          ],
          [
           "Motor vehicle maintenance and repair"
          ],
          [
           "New and used motor vehicles"
          ],
          [
           "Private transportation"
          ],
          [
           "Motor vehicle maintenance and repair"
          ],
          [
           "Household operations"
          ],
          [
           "Other recreational goods"
          ],
          [
           "Private transportation"
          ],
          [
           "Women's and girls' apparel"
          ],
          [
           "Women's apparel"
          ],
          [
           "Footwear"
          ],
          [
           "Women's apparel"
          ],
          [
           "Women's apparel"
          ],
          [
           "Women's apparel"
          ],
          [
           "Processed fruits and vegetables"
          ],
          [
           "Pork"
          ],
          [
           "Personal care"
          ],
          [
           "Personal care"
          ],
          [
           "Pets, pet products and services"
          ],
          [
           "Owners' equivalent rent of residences"
          ],
          [
           "Tools, hardware, outdoor equipment and supplies"
          ],
          [
           "Video and audio"
          ],
          [
           "Shelter"
          ],
          [
           "Sugar and sweets"
          ],
          [
           "Recreation"
          ],
          [
           "Other foods"
          ],
          [
           "Meats"
          ],
          [
           "Lodging away from home"
          ],
          [
           "Window and floor coverings and other linens"
          ],
          [
           "Public transportation"
          ],
          [
           "Energy services"
          ],
          [
           "Other food at home"
          ],
          [
           "Window and floor coverings and other linens"
          ],
          [
           "Food away from home"
          ],
          [
           "Apparel"
          ],
          [
           "Bakery products"
          ],
          [
           "Fish and seafood"
          ],
          [
           "Fresh fruits and vegetables"
          ],
          [
           "Fruits and vegetables"
          ],
          [
           "Fresh fruits and vegetables"
          ],
          [
           "Other foods"
          ],
          [
           "Jewelry and watches"
          ],
          [
           "Energy services"
          ],
          [
           "Medical care"
          ],
          [
           "Medical care"
          ],
          [
           "All items"
          ],
          [
           "Medical care commodities"
          ],
          [
           "All items"
          ],
          [
           "Other recreational goods"
          ],
          [
           "Household furnishings and operations"
          ],
          [
           "Tools, hardware, outdoor equipment and supplies"
          ],
          [
           "Tobacco and smoking products"
          ],
          [
           "Other goods and services"
          ],
          [
           "Motor vehicle parts and equipment"
          ],
          [
           "Shelter"
          ],
          [
           "Housing"
          ],
          [
           "Fuels and utilities"
          ],
          [
           "Fuels and utilities"
          ],
          [
           "Alcoholic beverages at home"
          ],
          [
           "Apparel"
          ],
          [
           "Household furnishings and operations"
          ],
          [
           "Water and sewer and trash collection services"
          ],
          [
           "Window and floor coverings and other linens"
          ],
          [
           "Telephone services"
          ],
          [
           "Recreation"
          ],
          [
           "Other foods"
          ],
          [
           "Tuition, other school fees, and childcare"
          ],
          [
           "Information technology, hardware and services"
          ],
          [
           "Information and information processing"
          ],
          [
           "Video and audio"
          ],
          [
           "Fats and oils"
          ],
          [
           "Cereals and cereal products"
          ],
          [
           "Bakery products"
          ],
          [
           "Photography"
          ],
          [
           "Public transportation"
          ],
          [
           "New and used motor vehicles"
          ],
          [
           "Juices and nonalcoholic drinks"
          ],
          [
           "Household furnishings and operations"
          ],
          [
           "Poultry"
          ],
          [
           "Recreation"
          ],
          [
           "Motor fuel"
          ],
          [
           "Other goods and services"
          ],
          [
           "Motor vehicle fees"
          ],
          [
           "Education and communication"
          ],
          [
           "All items"
          ],
          [
           "Education"
          ],
          [
           "Fish and seafood"
          ],
          [
           "Transportation"
          ],
          [
           "Medical care services"
          ],
          [
           "Fruits and vegetables"
          ],
          [
           "Recreation"
          ],
          [
           "Photography"
          ],
          [
           "Photography"
          ],
          [
           "Recreation"
          ],
          [
           "Video and audio"
          ],
          [
           "Other food at home"
          ],
          [
           "Fresh vegetables"
          ],
          [
           "Other foods"
          ],
          [
           "Sporting goods"
          ],
          [
           "Education"
          ],
          [
           "Shelter"
          ],
          [
           "Beef and veal"
          ],
          [
           "Beef and veal"
          ],
          [
           "Beef and veal"
          ],
          [
           "Pork"
          ],
          [
           "Housekeeping supplies"
          ],
          [
           "Medical care services"
          ],
          [
           "Household furnishings and operations"
          ],
          [
           "Sporting goods"
          ],
          [
           "Motor vehicle fees"
          ],
          [
           "Sugar and sweets"
          ],
          [
           "Food and beverages"
          ],
          [
           "All items"
          ],
          [
           "Cereals and cereal products"
          ],
          [
           "Motor vehicle maintenance and repair"
          ],
          [
           "Recreational reading materials"
          ],
          [
           "Video and audio"
          ],
          [
           "Motor vehicle parts and equipment"
          ],
          [
           "Recreation"
          ],
          [
           "Apparel"
          ],
          [
           "Men's apparel"
          ],
          [
           "Men's and boys' apparel"
          ],
          [
           "All items"
          ],
          [
           "Pets, pet products and services"
          ],
          [
           "Information technology, hardware and services"
          ],
          [
           "New and used motor vehicles"
          ],
          [
           "Motor vehicle fees"
          ],
          [
           "Men's apparel"
          ],
          [
           "Miscellaneous personal services"
          ],
          [
           "Other foods"
          ],
          [
           "Household operations"
          ],
          [
           "Housing"
          ],
          [
           "Other recreational goods"
          ],
          [
           "Professional services"
          ],
          [
           "Fats and oils"
          ],
          [
           "Cereals and cereal products"
          ],
          [
           "Information technology, hardware and services"
          ],
          [
           "Public transportation"
          ],
          [
           "Telephone services"
          ],
          [
           "Miscellaneous personal services"
          ],
          [
           "Nonalcoholic beverages and beverage materials"
          ],
          [
           "Food at home"
          ],
          [
           "Bakery products"
          ],
          [
           "Appliances"
          ],
          [
           "Hospital and related services"
          ],
          [
           "Other household equipment and furnishings"
          ],
          [
           "Medicinal drugs"
          ],
          [
           "Juices and nonalcoholic drinks"
          ],
          [
           "-"
          ],
          [
           "Alcoholic beverages"
          ],
          [
           "Alcoholic beverages at home"
          ],
          [
           "All items"
          ],
          [
           "Apparel"
          ],
          [
           "Appliances"
          ],
          [
           "Bakery products"
          ],
          [
           "Beef and veal"
          ],
          [
           "Beverage materials including coffee and tea"
          ],
          [
           "Beverages"
          ],
          [
           "Cereals and bakery products"
          ],
          [
           "Cereals and cereal products"
          ],
          [
           "Communication"
          ],
          [
           "Dairy and related products"
          ],
          [
           "Education"
          ],
          [
           "Education and communication"
          ],
          [
           "Energy services"
          ],
          [
           "Fats and oils"
          ],
          [
           "Fish and seafood"
          ],
          [
           "Food"
          ],
          [
           "Food and beverages"
          ],
          [
           "Food at home"
          ],
          [
           "Food away from home"
          ],
          [
           "Footwear"
          ],
          [
           "Fresh fruits"
          ],
          [
           "Fresh fruits and vegetables"
          ],
          [
           "Fresh vegetables"
          ],
          [
           "Fruits and vegetables"
          ],
          [
           "Fuel oil and other fuels"
          ],
          [
           "Fuels and utilities"
          ],
          [
           "Furniture and bedding"
          ],
          [
           "Hospital and related services"
          ],
          [
           "Household energy"
          ],
          [
           "Household furnishings and operations"
          ],
          [
           "Household operations"
          ],
          [
           "Housekeeping supplies"
          ],
          [
           "Housing"
          ],
          [
           "Information and information processing"
          ],
          [
           "Information technology, hardware and services"
          ],
          [
           "Jewelry and watches"
          ],
          [
           "Juices and nonalcoholic drinks"
          ],
          [
           "Lodging away from home"
          ],
          [
           "Meats"
          ],
          [
           "Meats, poultry, and fish"
          ],
          [
           "Meats, poultry, fish, and eggs"
          ],
          [
           "Medical care"
          ],
          [
           "Medical care commodities"
          ],
          [
           "Medical care services"
          ],
          [
           "Medicinal drugs"
          ],
          [
           "Men's and boys' apparel"
          ],
          [
           "Men's apparel"
          ],
          [
           "Miscellaneous personal services"
          ],
          [
           "Motor fuel"
          ],
          [
           "Motor vehicle fees"
          ],
          [
           "Motor vehicle maintenance and repair"
          ],
          [
           "Motor vehicle parts and equipment"
          ],
          [
           "New and used motor vehicles"
          ],
          [
           "Nonalcoholic beverages and beverage materials"
          ],
          [
           "Other food at home"
          ],
          [
           "Other foods"
          ],
          [
           "Other goods and services"
          ],
          [
           "Other household equipment and furnishings"
          ],
          [
           "Other recreation services"
          ],
          [
           "Other recreational goods"
          ],
          [
           "Owners' equivalent rent of residences"
          ],
          [
           "Personal care"
          ],
          [
           "Personal care products"
          ],
          [
           "Personal care services"
          ],
          [
           "Pets, pet products and services"
          ],
          [
           "Photography"
          ],
          [
           "Pork"
          ],
          [
           "Postage and delivery services"
          ],
          [
           "Poultry"
          ],
          [
           "Private transportation"
          ],
          [
           "Processed fruits and vegetables"
          ],
          [
           "Professional services"
          ],
          [
           "Public transportation"
          ],
          [
           "Recreation"
          ],
          [
           "Recreational reading materials"
          ],
          [
           "Shelter"
          ],
          [
           "Sporting goods"
          ],
          [
           "Sugar and sweets"
          ],
          [
           "Telephone services"
          ],
          [
           "Tobacco and smoking products"
          ],
          [
           "Tools, hardware, outdoor equipment and supplies"
          ],
          [
           "Transportation"
          ],
          [
           "Tuition, other school fees, and childcare"
          ],
          [
           "Video and audio"
          ],
          [
           "Water and sewer and trash collection services"
          ],
          [
           "Window and floor coverings and other linens"
          ],
          [
           "Women's and girls' apparel"
          ],
          [
           "Women's apparel"
          ]
         ],
         "domain": {
          "x": [
           0,
           1
          ],
          "y": [
           0,
           1
          ]
         },
         "hovertemplate": "labels=%{label}<br>Weight=%{value}<br>parent=%{parent}<br>id=%{id}<br>Parent=%{customdata[0]}<extra></extra>",
         "ids": [
          "Other recreation services/Admissions",
          "Women's and girls' apparel/Girls' apparel",
          "Household furnishings and operations/Furniture and bedding",
          "Motor fuel/Gasoline (all types)",
          "Household operations/Gardening and lawncare services",
          "Water and sewer and trash collection services/Garbage and trash collection",
          "New and used motor vehicles/Used cars and trucks",
          "Professional services/Physicians' services",
          "Furniture and bedding/Other furniture",
          "Private transportation/Motor vehicle insurance",
          "Recreation/Recreational reading materials",
          "Personal care products/Hair, dental, shaving, and miscellaneous personal care products",
          "Public transportation/Airline fares",
          "Beef and veal/Uncooked other beef and veal",
          "Recreational reading materials/Newspapers and magazines",
          "Beverage materials including coffee and tea/Other beverage materials including tea",
          "Other food at home/Other foods",
          "Private transportation/Motor vehicle maintenance and repair",
          "Food away from home/Other food away from home",
          "Appliances/Major appliances",
          "Meats, poultry, and fish/Meats",
          "Meats, poultry, fish, and eggs/Meats, poultry, and fish",
          "Video and audio/Audio equipment",
          "Other foods/Baby food",
          "Pork/Bacon, breakfast sausage, and related products",
          "Cereals and bakery products/Bakery products",
          "Food and beverages/Beverages",
          "Footwear/Boys' and girls' footwear",
          "Men's and boys' apparel/Boys' apparel",
          "Nonalcoholic beverages and beverage materials/Beverage materials including coffee and tea",
          "Other recreation services/Fees for lessons or instructions",
          "Miscellaneous personal services/Financial services",
          "Miscellaneous personal services/Funeral expenses",
          "-/All items",
          "Household furnishings and operations/Appliances",
          "Fresh fruits/Apples",
          "Miscellaneous personal services/Apparel services other than laundry and dry cleaning",
          "All items/Apparel",
          "Personal care products/Unsampled personal care products",
          "Other recreational goods/Unsampled recreation commodities",
          "Fresh fruits/Citrus fruits",
          "Tobacco and smoking products/Cigarettes",
          "Tuition, other school fees, and childcare/Child care and nursery school",
          "Other household equipment and furnishings/Clocks, lamps, and decorator items",
          "Household operations/Unsampled household operations",
          "Furniture and bedding/Unsampled furniture",
          "Owners' equivalent rent of residences/Unsampled owners' equivalent rent of secondary residences",
          "Appliances/Unsampled appliances",
          "Communication/Information and information processing",
          "Apparel/Infants' and toddlers' apparel",
          "Food away from home/Food from vending machines and mobile vendors",
          "Food/Food away from home",
          "Food/Food at home",
          "Food at home/Cereals and bakery products",
          "Cereals and bakery products/Cereals and cereal products",
          "Processed fruits and vegetables/Frozen fruits and vegetables",
          "Alcoholic beverages/Alcoholic beverages at home",
          "Food away from home/Full service meals and snacks",
          "Beverages/Alcoholic beverages",
          "Alcoholic beverages/Alcoholic beverages away from home",
          "Meats, poultry, fish, and eggs/Eggs",
          "Other recreation services/Club membership for shopping clubs, fraternal, or other organizations, or participant sports fees",
          "Poultry/Chicken",
          "Fresh fruits/Bananas",
          "Meats, poultry, and fish/Fish and seafood",
          "Fuel oil and other fuels/Fuel oil",
          "Food at home/Fruits and vegetables",
          "Household energy/Fuel oil and other fuels",
          "Juices and nonalcoholic drinks/Frozen noncarbonated juices and drinks",
          "Housing/Fuels and utilities",
          "Food at home/Other food at home",
          "Fats and oils/Other fats and oils including peanut butter",
          "Dairy and related products/Other dairy and related products",
          "Education and communication/Communication",
          "Information technology, hardware and services/Computer software and accessories",
          "Information technology, hardware and services/Computers, peripherals, and smart home assistant devices",
          "Personal care products/Cosmetics, perfume, bath, nail preparations and implements",
          "Tuition, other school fees, and childcare/College tuition and fees",
          "Food at home/Dairy and related products",
          "Postage and delivery services/Delivery services",
          "Alcoholic beverages at home/Distilled spirits at home",
          "Other household equipment and furnishings/Dishes and flatware",
          "Professional services/Dental services",
          "Household operations/Domestic services",
          "Beverage materials including coffee and tea/Coffee",
          "Lodging away from home/Housing at school, excluding board",
          "Dairy and related products/Ice cream and related products",
          "Household furnishings and operations/Housekeeping supplies",
          "Information and information processing/Information technology, hardware and services",
          "Fresh vegetables/Lettuce",
          "Miscellaneous personal services/Legal services",
          "Furniture and bedding/Living room, kitchen, and dining room furniture",
          "Food away from home/Limited service meals and snacks",
          "All items/Recreation",
          "Transportation/Public transportation",
          "Video and audio/Recorded music and music subscriptions",
          "All items/Housing",
          "Other household equipment and furnishings/Indoor plants and flowers",
          "New and used motor vehicles/Leased cars and trucks",
          "Apparel/Jewelry and watches",
          "Dairy and related products/Milk",
          "Footwear/Men's footwear",
          "Medical care commodities/Medicinal drugs",
          "Shelter/Lodging away from home",
          "Food at home/Meats, poultry, fish, and eggs",
          "Private transportation/Motor fuel",
          "Personal care/Miscellaneous personal services",
          "Housekeeping supplies/Miscellaneous household products",
          "Motor vehicle maintenance and repair/Motor vehicle body work",
          "Private transportation/Motor vehicle fees",
          "Men's apparel/Men's shirts and sweaters",
          "Men's apparel/Men's suits, sport coats, and outerwear",
          "Men's apparel/Men's pants and shorts",
          "Jewelry and watches/Jewelry",
          "Housekeeping supplies/Household paper products",
          "Personal care services/Haircuts and other personal care services",
          "Other recreation services/Unsampled recreation services",
          "Sporting goods/Unsampled sporting goods",
          "Women's apparel/Unsampled women's apparel",
          "Video and audio/Unsampled video and audio",
          "Tuition, other school fees, and childcare/Unsampled tuition, other school fees, and childcare",
          "Tools, hardware, outdoor equipment and supplies/Unsampled tools, hardware, outdoor equipment and supplies",
          "Tobacco and smoking products/Unsampled tobacco and smoking products",
          "Fresh fruits/Other fresh fruits",
          "Fresh vegetables/Other fresh vegetables",
          "Household energy/Energy services",
          "Professional services/Eyeglasses and eye care",
          "Tuition, other school fees, and childcare/Elementary and high school tuition and fees",
          "Hospital and related services/Hospital services",
          "Medical care services/Hospital and related services",
          "Alcoholic beverages at home/Beer, ale, and other malt beverages at home",
          "Bakery products/Bread",
          "Sugar and sweets/Candy and chewing gum",
          "Hospital and related services/Care of invalids and elderly at home",
          "Processed fruits and vegetables/Canned fruits and vegetables",
          "Meats/Beef and veal",
          "Dairy and related products/Cheese and related products",
          "Furniture and bedding/Bedroom furniture",
          "Meats, poultry, and fish/Poultry",
          "Meats/Pork",
          "Fresh vegetables/Potatoes",
          "Pork/Pork chops",
          "Medicinal drugs/Prescription drugs",
          "Recreational reading materials/Recreational books",
          "Fuel oil and other fuels/Propane, kerosene, and firewood",
          "Communication/Postage and delivery services",
          "Postage and delivery services/Postage",
          "Motor vehicle maintenance and repair/Motor vehicle maintenance and servicing",
          "New and used motor vehicles/New vehicles",
          "Private transportation/Motor vehicle parts and equipment",
          "Motor vehicle maintenance and repair/Motor vehicle repair",
          "Household operations/Moving, storage, freight expense",
          "Other recreational goods/Music instruments and accessories",
          "Private transportation/New and used motor vehicles",
          "Women's and girls' apparel/Women's apparel",
          "Women's apparel/Women's dresses",
          "Footwear/Women's footwear",
          "Women's apparel/Women's outerwear",
          "Women's apparel/Women's underwear, nightwear, sportswear, and accessories",
          "Women's apparel/Women's suits and separates",
          "Processed fruits and vegetables/Other processed fruits and vegetables including dried",
          "Pork/Other pork including roasts, steaks, and ribs",
          "Personal care/Personal care products",
          "Personal care/Personal care services",
          "Pets, pet products and services/Pet services including veterinary",
          "Owners' equivalent rent of residences/Owners' equivalent rent of primary residence",
          "Tools, hardware, outdoor equipment and supplies/Outdoor equipment and supplies",
          "Video and audio/Other video equipment",
          "Shelter/Owners' equivalent rent of residences",
          "Sugar and sweets/Other sweets",
          "Recreation/Other recreational goods",
          "Other foods/Other miscellaneous foods",
          "Meats/Other meats",
          "Lodging away from home/Other lodging away from home including hotels and motels",
          "Window and floor coverings and other linens/Other linens",
          "Public transportation/Other intercity transportation",
          "Energy services/Electricity",
          "Other food at home/Fats and oils",
          "Window and floor coverings and other linens/Floor coverings",
          "Food away from home/Food at employee sites and schools",
          "Apparel/Footwear",
          "Bakery products/Fresh biscuits, rolls, muffins",
          "Fish and seafood/Fresh fish and seafood",
          "Fresh fruits and vegetables/Fresh fruits",
          "Fruits and vegetables/Fresh fruits and vegetables",
          "Fresh fruits and vegetables/Fresh vegetables",
          "Other foods/Frozen and freeze dried prepared foods",
          "Jewelry and watches/Watches",
          "Energy services/Utility (piped) gas service",
          "Medical care/Medical care services",
          "Medical care/Medical care commodities",
          "All items/Medical care",
          "Medical care commodities/Medical equipment and supplies",
          "All items/Transportation",
          "Other recreational goods/Toys",
          "Household furnishings and operations/Tools, hardware, outdoor equipment and supplies",
          "Tools, hardware, outdoor equipment and supplies/Tools, hardware and supplies",
          "Tobacco and smoking products/Tobacco products other than cigarettes",
          "Other goods and services/Tobacco and smoking products",
          "Motor vehicle parts and equipment/Tires",
          "Shelter/Tenants' and household insurance",
          "Housing/Household furnishings and operations",
          "Fuels and utilities/Household energy",
          "Fuels and utilities/Water and sewer and trash collection services",
          "Alcoholic beverages at home/Wine at home",
          "Apparel/Women's and girls' apparel",
          "Household furnishings and operations/Window and floor coverings and other linens",
          "Water and sewer and trash collection services/Water and sewerage maintenance",
          "Window and floor coverings and other linens/Window coverings",
          "Telephone services/Wireless telephone services",
          "Recreation/Sporting goods",
          "Other foods/Spices, seasonings, condiments, sauces",
          "Tuition, other school fees, and childcare/Technical and business school tuition and fees",
          "Information technology, hardware and services/Telephone hardware, calculators, and other consumer information items",
          "Information and information processing/Telephone services",
          "Video and audio/Cable and satellite television service",
          "Fats and oils/Butter and margarine",
          "Cereals and cereal products/Breakfast cereal",
          "Bakery products/Cakes, cupcakes, and cookies",
          "Photography/Unsampled photography",
          "Public transportation/Unsampled public transportation",
          "New and used motor vehicles/Car and truck rental",
          "Juices and nonalcoholic drinks/Carbonated drinks",
          "Household furnishings and operations/Other household equipment and furnishings",
          "Poultry/Other uncooked poultry including turkey",
          "Recreation/Other recreation services",
          "Motor fuel/Other motor fuels",
          "Other goods and services/Personal care",
          "Motor vehicle fees/Parking and other fees",
          "Education and communication/Education",
          "All items/Education and communication",
          "Education/Educational books and supplies",
          "Fish and seafood/Processed fish and seafood",
          "Transportation/Private transportation",
          "Medical care services/Professional services",
          "Fruits and vegetables/Processed fruits and vegetables",
          "Recreation/Pets, pet products and services",
          "Photography/Photographers and photo processing",
          "Photography/Photographic equipment and supplies",
          "Recreation/Photography",
          "Video and audio/Televisions",
          "Other food at home/Sugar and sweets",
          "Fresh vegetables/Tomatoes",
          "Other foods/Soups",
          "Sporting goods/Sports equipment",
          "Education/Tuition, other school fees, and childcare",
          "Shelter/Rent of primary residence",
          "Beef and veal/Uncooked ground beef",
          "Beef and veal/Uncooked beef roasts",
          "Beef and veal/Uncooked beef steaks",
          "Pork/Ham",
          "Housekeeping supplies/Household cleaning products",
          "Medical care services/Health insurance",
          "Household furnishings and operations/Household operations",
          "Sporting goods/Sports vehicles including bicycles",
          "Motor vehicle fees/State motor vehicle registration and license fees",
          "Sugar and sweets/Sugar and sugar substitutes",
          "Food and beverages/Food",
          "All items/Food and beverages",
          "Cereals and cereal products/Flour and prepared flour mixes",
          "Motor vehicle maintenance and repair/Unsampled service policies",
          "Recreational reading materials/Unsampled recreational reading materials",
          "Video and audio/Video discs and other media, including rental of video",
          "Motor vehicle parts and equipment/Vehicle accessories other than tires",
          "Recreation/Video and audio",
          "Apparel/Men's and boys' apparel",
          "Men's apparel/Men''s underwear, nightwear, swimwear, and accessories",
          "Men's and boys' apparel/Men's apparel",
          "All items/Other goods and services",
          "Pets, pet products and services/Pets and pet products",
          "Information technology, hardware and services/Unsampled information and information processing",
          "New and used motor vehicles/Unsampled new and used motor vehicles",
          "Motor vehicle fees/Unsampled motor vehicle fees",
          "Men's apparel/Unsampled men's apparel",
          "Miscellaneous personal services/Unsampled items",
          "Other foods/Snacks",
          "Household operations/Repair of household items",
          "Housing/Shelter",
          "Other recreational goods/Sewing machines, fabric and supplies",
          "Professional services/Services by other medical professionals",
          "Fats and oils/Salad dressing",
          "Cereals and cereal products/Rice, pasta, cornmeal",
          "Information technology, hardware and services/Internet services and electronic information providers",
          "Public transportation/Intracity transportation",
          "Telephone services/Land-line telephone services",
          "Miscellaneous personal services/Laundry and dry cleaning services",
          "Nonalcoholic beverages and beverage materials/Juices and nonalcoholic drinks",
          "Food at home/Nonalcoholic beverages and beverage materials",
          "Bakery products/Other bakery products",
          "Appliances/Other appliances",
          "Hospital and related services/Nursing homes and adult day services",
          "Other household equipment and furnishings/Nonelectric cookware and tableware",
          "Medicinal drugs/Nonprescription drugs",
          "Juices and nonalcoholic drinks/Nonfrozen noncarbonated juices and drinks",
          "-",
          "Alcoholic beverages",
          "Alcoholic beverages at home",
          "All items",
          "Apparel",
          "Appliances",
          "Bakery products",
          "Beef and veal",
          "Beverage materials including coffee and tea",
          "Beverages",
          "Cereals and bakery products",
          "Cereals and cereal products",
          "Communication",
          "Dairy and related products",
          "Education",
          "Education and communication",
          "Energy services",
          "Fats and oils",
          "Fish and seafood",
          "Food",
          "Food and beverages",
          "Food at home",
          "Food away from home",
          "Footwear",
          "Fresh fruits",
          "Fresh fruits and vegetables",
          "Fresh vegetables",
          "Fruits and vegetables",
          "Fuel oil and other fuels",
          "Fuels and utilities",
          "Furniture and bedding",
          "Hospital and related services",
          "Household energy",
          "Household furnishings and operations",
          "Household operations",
          "Housekeeping supplies",
          "Housing",
          "Information and information processing",
          "Information technology, hardware and services",
          "Jewelry and watches",
          "Juices and nonalcoholic drinks",
          "Lodging away from home",
          "Meats",
          "Meats, poultry, and fish",
          "Meats, poultry, fish, and eggs",
          "Medical care",
          "Medical care commodities",
          "Medical care services",
          "Medicinal drugs",
          "Men's and boys' apparel",
          "Men's apparel",
          "Miscellaneous personal services",
          "Motor fuel",
          "Motor vehicle fees",
          "Motor vehicle maintenance and repair",
          "Motor vehicle parts and equipment",
          "New and used motor vehicles",
          "Nonalcoholic beverages and beverage materials",
          "Other food at home",
          "Other foods",
          "Other goods and services",
          "Other household equipment and furnishings",
          "Other recreation services",
          "Other recreational goods",
          "Owners' equivalent rent of residences",
          "Personal care",
          "Personal care products",
          "Personal care services",
          "Pets, pet products and services",
          "Photography",
          "Pork",
          "Postage and delivery services",
          "Poultry",
          "Private transportation",
          "Processed fruits and vegetables",
          "Professional services",
          "Public transportation",
          "Recreation",
          "Recreational reading materials",
          "Shelter",
          "Sporting goods",
          "Sugar and sweets",
          "Telephone services",
          "Tobacco and smoking products",
          "Tools, hardware, outdoor equipment and supplies",
          "Transportation",
          "Tuition, other school fees, and childcare",
          "Video and audio",
          "Water and sewer and trash collection services",
          "Window and floor coverings and other linens",
          "Women's and girls' apparel",
          "Women's apparel"
         ],
         "labels": [
          "Admissions",
          "Girls' apparel",
          "Furniture and bedding",
          "Gasoline (all types)",
          "Gardening and lawncare services",
          "Garbage and trash collection",
          "Used cars and trucks",
          "Physicians' services",
          "Other furniture",
          "Motor vehicle insurance",
          "Recreational reading materials",
          "Hair, dental, shaving, and miscellaneous personal care products",
          "Airline fares",
          "Uncooked other beef and veal",
          "Newspapers and magazines",
          "Other beverage materials including tea",
          "Other foods",
          "Motor vehicle maintenance and repair",
          "Other food away from home",
          "Major appliances",
          "Meats",
          "Meats, poultry, and fish",
          "Audio equipment",
          "Baby food",
          "Bacon, breakfast sausage, and related products",
          "Bakery products",
          "Beverages",
          "Boys' and girls' footwear",
          "Boys' apparel",
          "Beverage materials including coffee and tea",
          "Fees for lessons or instructions",
          "Financial services",
          "Funeral expenses",
          "All items",
          "Appliances",
          "Apples",
          "Apparel services other than laundry and dry cleaning",
          "Apparel",
          "Unsampled personal care products",
          "Unsampled recreation commodities",
          "Citrus fruits",
          "Cigarettes",
          "Child care and nursery school",
          "Clocks, lamps, and decorator items",
          "Unsampled household operations",
          "Unsampled furniture",
          "Unsampled owners' equivalent rent of secondary residences",
          "Unsampled appliances",
          "Information and information processing",
          "Infants' and toddlers' apparel",
          "Food from vending machines and mobile vendors",
          "Food away from home",
          "Food at home",
          "Cereals and bakery products",
          "Cereals and cereal products",
          "Frozen fruits and vegetables",
          "Alcoholic beverages at home",
          "Full service meals and snacks",
          "Alcoholic beverages",
          "Alcoholic beverages away from home",
          "Eggs",
          "Club membership for shopping clubs, fraternal, or other organizations, or participant sports fees",
          "Chicken",
          "Bananas",
          "Fish and seafood",
          "Fuel oil",
          "Fruits and vegetables",
          "Fuel oil and other fuels",
          "Frozen noncarbonated juices and drinks",
          "Fuels and utilities",
          "Other food at home",
          "Other fats and oils including peanut butter",
          "Other dairy and related products",
          "Communication",
          "Computer software and accessories",
          "Computers, peripherals, and smart home assistant devices",
          "Cosmetics, perfume, bath, nail preparations and implements",
          "College tuition and fees",
          "Dairy and related products",
          "Delivery services",
          "Distilled spirits at home",
          "Dishes and flatware",
          "Dental services",
          "Domestic services",
          "Coffee",
          "Housing at school, excluding board",
          "Ice cream and related products",
          "Housekeeping supplies",
          "Information technology, hardware and services",
          "Lettuce",
          "Legal services",
          "Living room, kitchen, and dining room furniture",
          "Limited service meals and snacks",
          "Recreation",
          "Public transportation",
          "Recorded music and music subscriptions",
          "Housing",
          "Indoor plants and flowers",
          "Leased cars and trucks",
          "Jewelry and watches",
          "Milk",
          "Men's footwear",
          "Medicinal drugs",
          "Lodging away from home",
          "Meats, poultry, fish, and eggs",
          "Motor fuel",
          "Miscellaneous personal services",
          "Miscellaneous household products",
          "Motor vehicle body work",
          "Motor vehicle fees",
          "Men's shirts and sweaters",
          "Men's suits, sport coats, and outerwear",
          "Men's pants and shorts",
          "Jewelry",
          "Household paper products",
          "Haircuts and other personal care services",
          "Unsampled recreation services",
          "Unsampled sporting goods",
          "Unsampled women's apparel",
          "Unsampled video and audio",
          "Unsampled tuition, other school fees, and childcare",
          "Unsampled tools, hardware, outdoor equipment and supplies",
          "Unsampled tobacco and smoking products",
          "Other fresh fruits",
          "Other fresh vegetables",
          "Energy services",
          "Eyeglasses and eye care",
          "Elementary and high school tuition and fees",
          "Hospital services",
          "Hospital and related services",
          "Beer, ale, and other malt beverages at home",
          "Bread",
          "Candy and chewing gum",
          "Care of invalids and elderly at home",
          "Canned fruits and vegetables",
          "Beef and veal",
          "Cheese and related products",
          "Bedroom furniture",
          "Poultry",
          "Pork",
          "Potatoes",
          "Pork chops",
          "Prescription drugs",
          "Recreational books",
          "Propane, kerosene, and firewood",
          "Postage and delivery services",
          "Postage",
          "Motor vehicle maintenance and servicing",
          "New vehicles",
          "Motor vehicle parts and equipment",
          "Motor vehicle repair",
          "Moving, storage, freight expense",
          "Music instruments and accessories",
          "New and used motor vehicles",
          "Women's apparel",
          "Women's dresses",
          "Women's footwear",
          "Women's outerwear",
          "Women's underwear, nightwear, sportswear, and accessories",
          "Women's suits and separates",
          "Other processed fruits and vegetables including dried",
          "Other pork including roasts, steaks, and ribs",
          "Personal care products",
          "Personal care services",
          "Pet services including veterinary",
          "Owners' equivalent rent of primary residence",
          "Outdoor equipment and supplies",
          "Other video equipment",
          "Owners' equivalent rent of residences",
          "Other sweets",
          "Other recreational goods",
          "Other miscellaneous foods",
          "Other meats",
          "Other lodging away from home including hotels and motels",
          "Other linens",
          "Other intercity transportation",
          "Electricity",
          "Fats and oils",
          "Floor coverings",
          "Food at employee sites and schools",
          "Footwear",
          "Fresh biscuits, rolls, muffins",
          "Fresh fish and seafood",
          "Fresh fruits",
          "Fresh fruits and vegetables",
          "Fresh vegetables",
          "Frozen and freeze dried prepared foods",
          "Watches",
          "Utility (piped) gas service",
          "Medical care services",
          "Medical care commodities",
          "Medical care",
          "Medical equipment and supplies",
          "Transportation",
          "Toys",
          "Tools, hardware, outdoor equipment and supplies",
          "Tools, hardware and supplies",
          "Tobacco products other than cigarettes",
          "Tobacco and smoking products",
          "Tires",
          "Tenants' and household insurance",
          "Household furnishings and operations",
          "Household energy",
          "Water and sewer and trash collection services",
          "Wine at home",
          "Women's and girls' apparel",
          "Window and floor coverings and other linens",
          "Water and sewerage maintenance",
          "Window coverings",
          "Wireless telephone services",
          "Sporting goods",
          "Spices, seasonings, condiments, sauces",
          "Technical and business school tuition and fees",
          "Telephone hardware, calculators, and other consumer information items",
          "Telephone services",
          "Cable and satellite television service",
          "Butter and margarine",
          "Breakfast cereal",
          "Cakes, cupcakes, and cookies",
          "Unsampled photography",
          "Unsampled public transportation",
          "Car and truck rental",
          "Carbonated drinks",
          "Other household equipment and furnishings",
          "Other uncooked poultry including turkey",
          "Other recreation services",
          "Other motor fuels",
          "Personal care",
          "Parking and other fees",
          "Education",
          "Education and communication",
          "Educational books and supplies",
          "Processed fish and seafood",
          "Private transportation",
          "Professional services",
          "Processed fruits and vegetables",
          "Pets, pet products and services",
          "Photographers and photo processing",
          "Photographic equipment and supplies",
          "Photography",
          "Televisions",
          "Sugar and sweets",
          "Tomatoes",
          "Soups",
          "Sports equipment",
          "Tuition, other school fees, and childcare",
          "Rent of primary residence",
          "Uncooked ground beef",
          "Uncooked beef roasts",
          "Uncooked beef steaks",
          "Ham",
          "Household cleaning products",
          "Health insurance",
          "Household operations",
          "Sports vehicles including bicycles",
          "State motor vehicle registration and license fees",
          "Sugar and sugar substitutes",
          "Food",
          "Food and beverages",
          "Flour and prepared flour mixes",
          "Unsampled service policies",
          "Unsampled recreational reading materials",
          "Video discs and other media, including rental of video",
          "Vehicle accessories other than tires",
          "Video and audio",
          "Men's and boys' apparel",
          "Men''s underwear, nightwear, swimwear, and accessories",
          "Men's apparel",
          "Other goods and services",
          "Pets and pet products",
          "Unsampled information and information processing",
          "Unsampled new and used motor vehicles",
          "Unsampled motor vehicle fees",
          "Unsampled men's apparel",
          "Unsampled items",
          "Snacks",
          "Repair of household items",
          "Shelter",
          "Sewing machines, fabric and supplies",
          "Services by other medical professionals",
          "Salad dressing",
          "Rice, pasta, cornmeal",
          "Internet services and electronic information providers",
          "Intracity transportation",
          "Land-line telephone services",
          "Laundry and dry cleaning services",
          "Juices and nonalcoholic drinks",
          "Nonalcoholic beverages and beverage materials",
          "Other bakery products",
          "Other appliances",
          "Nursing homes and adult day services",
          "Nonelectric cookware and tableware",
          "Nonprescription drugs",
          "Nonfrozen noncarbonated juices and drinks",
          "-",
          "Alcoholic beverages",
          "Alcoholic beverages at home",
          "All items",
          "Apparel",
          "Appliances",
          "Bakery products",
          "Beef and veal",
          "Beverage materials including coffee and tea",
          "Beverages",
          "Cereals and bakery products",
          "Cereals and cereal products",
          "Communication",
          "Dairy and related products",
          "Education",
          "Education and communication",
          "Energy services",
          "Fats and oils",
          "Fish and seafood",
          "Food",
          "Food and beverages",
          "Food at home",
          "Food away from home",
          "Footwear",
          "Fresh fruits",
          "Fresh fruits and vegetables",
          "Fresh vegetables",
          "Fruits and vegetables",
          "Fuel oil and other fuels",
          "Fuels and utilities",
          "Furniture and bedding",
          "Hospital and related services",
          "Household energy",
          "Household furnishings and operations",
          "Household operations",
          "Housekeeping supplies",
          "Housing",
          "Information and information processing",
          "Information technology, hardware and services",
          "Jewelry and watches",
          "Juices and nonalcoholic drinks",
          "Lodging away from home",
          "Meats",
          "Meats, poultry, and fish",
          "Meats, poultry, fish, and eggs",
          "Medical care",
          "Medical care commodities",
          "Medical care services",
          "Medicinal drugs",
          "Men's and boys' apparel",
          "Men's apparel",
          "Miscellaneous personal services",
          "Motor fuel",
          "Motor vehicle fees",
          "Motor vehicle maintenance and repair",
          "Motor vehicle parts and equipment",
          "New and used motor vehicles",
          "Nonalcoholic beverages and beverage materials",
          "Other food at home",
          "Other foods",
          "Other goods and services",
          "Other household equipment and furnishings",
          "Other recreation services",
          "Other recreational goods",
          "Owners' equivalent rent of residences",
          "Personal care",
          "Personal care products",
          "Personal care services",
          "Pets, pet products and services",
          "Photography",
          "Pork",
          "Postage and delivery services",
          "Poultry",
          "Private transportation",
          "Processed fruits and vegetables",
          "Professional services",
          "Public transportation",
          "Recreation",
          "Recreational reading materials",
          "Shelter",
          "Sporting goods",
          "Sugar and sweets",
          "Telephone services",
          "Tobacco and smoking products",
          "Tools, hardware, outdoor equipment and supplies",
          "Transportation",
          "Tuition, other school fees, and childcare",
          "Video and audio",
          "Water and sewer and trash collection services",
          "Window and floor coverings and other linens",
          "Women's and girls' apparel",
          "Women's apparel"
         ],
         "marker": {
          "colors": [
           "#636efa",
           "#EF553B",
           "#00cc96",
           "#ab63fa",
           "#FFA15A",
           "#19d3f3",
           "#FF6692",
           "#B6E880",
           "#FF97FF",
           "#FECB52",
           "#636efa",
           "#EF553B",
           "#00cc96",
           "#ab63fa",
           "#FFA15A",
           "#19d3f3",
           "#FF6692",
           "#FECB52",
           "#B6E880",
           "#FF97FF",
           "#FECB52",
           "#636efa",
           "#EF553B",
           "#00cc96",
           "#ab63fa",
           "#FFA15A",
           "#19d3f3",
           "#FF6692",
           "#B6E880",
           "#FF97FF",
           "#636efa",
           "#FECB52",
           "#FECB52",
           "#636efa",
           "#00cc96",
           "#EF553B",
           "#FECB52",
           "#00cc96",
           "#EF553B",
           "#ab63fa",
           "#EF553B",
           "#FFA15A",
           "#19d3f3",
           "#FF6692",
           "#FFA15A",
           "#FF97FF",
           "#B6E880",
           "#FF97FF",
           "#FF97FF",
           "#FECB52",
           "#B6E880",
           "#636efa",
           "#636efa",
           "#EF553B",
           "#FFA15A",
           "#00cc96",
           "#ab63fa",
           "#B6E880",
           "#FFA15A",
           "#ab63fa",
           "#636efa",
           "#636efa",
           "#19d3f3",
           "#EF553B",
           "#FECB52",
           "#FF6692",
           "#EF553B",
           "#B6E880",
           "#FF97FF",
           "#FECB52",
           "#EF553B",
           "#636efa",
           "#EF553B",
           "#00cc96",
           "#ab63fa",
           "#ab63fa",
           "#EF553B",
           "#19d3f3",
           "#EF553B",
           "#FFA15A",
           "#19d3f3",
           "#FF6692",
           "#B6E880",
           "#FFA15A",
           "#19d3f3",
           "#FF6692",
           "#EF553B",
           "#00cc96",
           "#B6E880",
           "#FF97FF",
           "#FECB52",
           "#FF97FF",
           "#B6E880",
           "#00cc96",
           "#FECB52",
           "#EF553B",
           "#00cc96",
           "#FF6692",
           "#FF6692",
           "#FECB52",
           "#EF553B",
           "#FF6692",
           "#636efa",
           "#EF553B",
           "#EF553B",
           "#FECB52",
           "#00cc96",
           "#ab63fa",
           "#FFA15A",
           "#FECB52",
           "#19d3f3",
           "#19d3f3",
           "#19d3f3",
           "#FF6692",
           "#ab63fa",
           "#B6E880",
           "#636efa",
           "#FF97FF",
           "#FECB52",
           "#EF553B",
           "#19d3f3",
           "#636efa",
           "#FFA15A",
           "#EF553B",
           "#FF97FF",
           "#B6E880",
           "#B6E880",
           "#19d3f3",
           "#EF553B",
           "#00cc96",
           "#19d3f3",
           "#ab63fa",
           "#FFA15A",
           "#EF553B",
           "#00cc96",
           "#19d3f3",
           "#EF553B",
           "#FF97FF",
           "#FECB52",
           "#19d3f3",
           "#FF97FF",
           "#ab63fa",
           "#FF6692",
           "#FFA15A",
           "#FF6692",
           "#FF97FF",
           "#FFA15A",
           "#FFA15A",
           "#FF6692",
           "#FECB52",
           "#FFA15A",
           "#FFA15A",
           "#ab63fa",
           "#FECB52",
           "#EF553B",
           "#FECB52",
           "#FF6692",
           "#FECB52",
           "#FECB52",
           "#FECB52",
           "#00cc96",
           "#ab63fa",
           "#00cc96",
           "#00cc96",
           "#B6E880",
           "#B6E880",
           "#636efa",
           "#EF553B",
           "#EF553B",
           "#FFA15A",
           "#636efa",
           "#00cc96",
           "#19d3f3",
           "#FF6692",
           "#FF97FF",
           "#00cc96",
           "#FECB52",
           "#FF6692",
           "#FF97FF",
           "#B6E880",
           "#FECB52",
           "#ab63fa",
           "#636efa",
           "#EF553B",
           "#00cc96",
           "#EF553B",
           "#00cc96",
           "#FF6692",
           "#FECB52",
           "#ab63fa",
           "#ab63fa",
           "#00cc96",
           "#636efa",
           "#00cc96",
           "#ab63fa",
           "#00cc96",
           "#636efa",
           "#FFA15A",
           "#FFA15A",
           "#19d3f3",
           "#EF553B",
           "#FECB52",
           "#FF6692",
           "#FF6692",
           "#19d3f3",
           "#FECB52",
           "#00cc96",
           "#19d3f3",
           "#FF97FF",
           "#B6E880",
           "#636efa",
           "#00cc96",
           "#19d3f3",
           "#ab63fa",
           "#B6E880",
           "#EF553B",
           "#636efa",
           "#FF97FF",
           "#ab63fa",
           "#FECB52",
           "#00cc96",
           "#FF6692",
           "#FF97FF",
           "#00cc96",
           "#19d3f3",
           "#636efa",
           "#ab63fa",
           "#FFA15A",
           "#636efa",
           "#00cc96",
           "#00cc96",
           "#EF553B",
           "#636efa",
           "#FECB52",
           "#00cc96",
           "#00cc96",
           "#636efa",
           "#FECB52",
           "#FECB52",
           "#636efa",
           "#EF553B",
           "#FF6692",
           "#FF97FF",
           "#00cc96",
           "#FF97FF",
           "#EF553B",
           "#EF553B",
           "#ab63fa",
           "#ab63fa",
           "#ab63fa",
           "#ab63fa",
           "#ab63fa",
           "#00cc96",
           "#00cc96",
           "#FF97FF",
           "#636efa",
           "#FFA15A",
           "#19d3f3",
           "#00cc96",
           "#FF97FF",
           "#FFA15A",
           "#FFA15A",
           "#EF553B",
           "#19d3f3",
           "#636efa",
           "#FECB52",
           "#19d3f3",
           "#B6E880",
           "#00cc96",
           "#B6E880",
           "#ab63fa",
           "#FF6692",
           "#636efa",
           "#19d3f3",
           "#FECB52",
           "#00cc96",
           "#FFA15A",
           "#FECB52",
           "#ab63fa",
           "#B6E880",
           "#636efa",
           "#FF97FF",
           "#ab63fa",
           "#00cc96",
           "#B6E880",
           "#FECB52",
           "#FF97FF",
           "#EF553B",
           "#ab63fa",
           "#FF97FF",
           "#EF553B",
           "#FF6692",
           "#FF6692",
           "#FF97FF",
           "#636efa",
           "#ab63fa",
           "#19d3f3",
           "#00cc96",
           "#FECB52",
           "#FF97FF",
           "#ab63fa",
           "#ab63fa",
           "#19d3f3",
           "#FFA15A",
           "#FFA15A",
           "#FF97FF",
           "#FF97FF",
           "#EF553B",
           "#EF553B",
           "#00cc96",
           "#FECB52",
           "#636efa",
           "#636efa",
           "#636efa",
           "#19d3f3",
           "#EF553B",
           "#B6E880",
           "#FF6692",
           "#EF553B",
           "#EF553B",
           "#FF97FF",
           "#00cc96",
           "#FF6692",
           "#FF6692",
           "#FF97FF",
           "#EF553B",
           "#B6E880",
           "#00cc96",
           "#FFA15A",
           "#ab63fa",
           "#FECB52",
           "#B6E880",
           "#ab63fa",
           "#FF6692",
           "#FF97FF",
           "#FF6692",
           "#19d3f3",
           "#FECB52",
           "#636efa",
           "#ab63fa",
           "#636efa",
           "#00cc96",
           "#FF6692",
           "#B6E880",
           "#19d3f3",
           "#FECB52",
           "#ab63fa",
           "#636efa",
           "#FFA15A",
           "#19d3f3",
           "#FF6692",
           "#FF97FF",
           "#FF6692",
           "#00cc96",
           "#FFA15A",
           "#FF6692",
           "#636efa",
           "#ab63fa",
           "#B6E880",
           "#00cc96",
           "#EF553B",
           "#B6E880",
           "#B6E880",
           "#FECB52",
           "#ab63fa",
           "#FFA15A",
           "#19d3f3",
           "#FECB52",
           "#00cc96",
           "#B6E880",
           "#00cc96",
           "#636efa",
           "#FFA15A",
           "#EF553B",
           "#FF97FF",
           "#FFA15A",
           "#B6E880",
           "#FFA15A",
           "#636efa",
           "#FECB52",
           "#19d3f3",
           "#EF553B",
           "#19d3f3",
           "#FF97FF",
           "#EF553B",
           "#FECB52"
          ]
         },
         "maxdepth": 1,
         "name": "",
         "parents": [
          "Other recreation services",
          "Women's and girls' apparel",
          "Household furnishings and operations",
          "Motor fuel",
          "Household operations",
          "Water and sewer and trash collection services",
          "New and used motor vehicles",
          "Professional services",
          "Furniture and bedding",
          "Private transportation",
          "Recreation",
          "Personal care products",
          "Public transportation",
          "Beef and veal",
          "Recreational reading materials",
          "Beverage materials including coffee and tea",
          "Other food at home",
          "Private transportation",
          "Food away from home",
          "Appliances",
          "Meats, poultry, and fish",
          "Meats, poultry, fish, and eggs",
          "Video and audio",
          "Other foods",
          "Pork",
          "Cereals and bakery products",
          "Food and beverages",
          "Footwear",
          "Men's and boys' apparel",
          "Nonalcoholic beverages and beverage materials",
          "Other recreation services",
          "Miscellaneous personal services",
          "Miscellaneous personal services",
          "-",
          "Household furnishings and operations",
          "Fresh fruits",
          "Miscellaneous personal services",
          "All items",
          "Personal care products",
          "Other recreational goods",
          "Fresh fruits",
          "Tobacco and smoking products",
          "Tuition, other school fees, and childcare",
          "Other household equipment and furnishings",
          "Household operations",
          "Furniture and bedding",
          "Owners' equivalent rent of residences",
          "Appliances",
          "Communication",
          "Apparel",
          "Food away from home",
          "Food",
          "Food",
          "Food at home",
          "Cereals and bakery products",
          "Processed fruits and vegetables",
          "Alcoholic beverages",
          "Food away from home",
          "Beverages",
          "Alcoholic beverages",
          "Meats, poultry, fish, and eggs",
          "Other recreation services",
          "Poultry",
          "Fresh fruits",
          "Meats, poultry, and fish",
          "Fuel oil and other fuels",
          "Food at home",
          "Household energy",
          "Juices and nonalcoholic drinks",
          "Housing",
          "Food at home",
          "Fats and oils",
          "Dairy and related products",
          "Education and communication",
          "Information technology, hardware and services",
          "Information technology, hardware and services",
          "Personal care products",
          "Tuition, other school fees, and childcare",
          "Food at home",
          "Postage and delivery services",
          "Alcoholic beverages at home",
          "Other household equipment and furnishings",
          "Professional services",
          "Household operations",
          "Beverage materials including coffee and tea",
          "Lodging away from home",
          "Dairy and related products",
          "Household furnishings and operations",
          "Information and information processing",
          "Fresh vegetables",
          "Miscellaneous personal services",
          "Furniture and bedding",
          "Food away from home",
          "All items",
          "Transportation",
          "Video and audio",
          "All items",
          "Other household equipment and furnishings",
          "New and used motor vehicles",
          "Apparel",
          "Dairy and related products",
          "Footwear",
          "Medical care commodities",
          "Shelter",
          "Food at home",
          "Private transportation",
          "Personal care",
          "Housekeeping supplies",
          "Motor vehicle maintenance and repair",
          "Private transportation",
          "Men's apparel",
          "Men's apparel",
          "Men's apparel",
          "Jewelry and watches",
          "Housekeeping supplies",
          "Personal care services",
          "Other recreation services",
          "Sporting goods",
          "Women's apparel",
          "Video and audio",
          "Tuition, other school fees, and childcare",
          "Tools, hardware, outdoor equipment and supplies",
          "Tobacco and smoking products",
          "Fresh fruits",
          "Fresh vegetables",
          "Household energy",
          "Professional services",
          "Tuition, other school fees, and childcare",
          "Hospital and related services",
          "Medical care services",
          "Alcoholic beverages at home",
          "Bakery products",
          "Sugar and sweets",
          "Hospital and related services",
          "Processed fruits and vegetables",
          "Meats",
          "Dairy and related products",
          "Furniture and bedding",
          "Meats, poultry, and fish",
          "Meats",
          "Fresh vegetables",
          "Pork",
          "Medicinal drugs",
          "Recreational reading materials",
          "Fuel oil and other fuels",
          "Communication",
          "Postage and delivery services",
          "Motor vehicle maintenance and repair",
          "New and used motor vehicles",
          "Private transportation",
          "Motor vehicle maintenance and repair",
          "Household operations",
          "Other recreational goods",
          "Private transportation",
          "Women's and girls' apparel",
          "Women's apparel",
          "Footwear",
          "Women's apparel",
          "Women's apparel",
          "Women's apparel",
          "Processed fruits and vegetables",
          "Pork",
          "Personal care",
          "Personal care",
          "Pets, pet products and services",
          "Owners' equivalent rent of residences",
          "Tools, hardware, outdoor equipment and supplies",
          "Video and audio",
          "Shelter",
          "Sugar and sweets",
          "Recreation",
          "Other foods",
          "Meats",
          "Lodging away from home",
          "Window and floor coverings and other linens",
          "Public transportation",
          "Energy services",
          "Other food at home",
          "Window and floor coverings and other linens",
          "Food away from home",
          "Apparel",
          "Bakery products",
          "Fish and seafood",
          "Fresh fruits and vegetables",
          "Fruits and vegetables",
          "Fresh fruits and vegetables",
          "Other foods",
          "Jewelry and watches",
          "Energy services",
          "Medical care",
          "Medical care",
          "All items",
          "Medical care commodities",
          "All items",
          "Other recreational goods",
          "Household furnishings and operations",
          "Tools, hardware, outdoor equipment and supplies",
          "Tobacco and smoking products",
          "Other goods and services",
          "Motor vehicle parts and equipment",
          "Shelter",
          "Housing",
          "Fuels and utilities",
          "Fuels and utilities",
          "Alcoholic beverages at home",
          "Apparel",
          "Household furnishings and operations",
          "Water and sewer and trash collection services",
          "Window and floor coverings and other linens",
          "Telephone services",
          "Recreation",
          "Other foods",
          "Tuition, other school fees, and childcare",
          "Information technology, hardware and services",
          "Information and information processing",
          "Video and audio",
          "Fats and oils",
          "Cereals and cereal products",
          "Bakery products",
          "Photography",
          "Public transportation",
          "New and used motor vehicles",
          "Juices and nonalcoholic drinks",
          "Household furnishings and operations",
          "Poultry",
          "Recreation",
          "Motor fuel",
          "Other goods and services",
          "Motor vehicle fees",
          "Education and communication",
          "All items",
          "Education",
          "Fish and seafood",
          "Transportation",
          "Medical care services",
          "Fruits and vegetables",
          "Recreation",
          "Photography",
          "Photography",
          "Recreation",
          "Video and audio",
          "Other food at home",
          "Fresh vegetables",
          "Other foods",
          "Sporting goods",
          "Education",
          "Shelter",
          "Beef and veal",
          "Beef and veal",
          "Beef and veal",
          "Pork",
          "Housekeeping supplies",
          "Medical care services",
          "Household furnishings and operations",
          "Sporting goods",
          "Motor vehicle fees",
          "Sugar and sweets",
          "Food and beverages",
          "All items",
          "Cereals and cereal products",
          "Motor vehicle maintenance and repair",
          "Recreational reading materials",
          "Video and audio",
          "Motor vehicle parts and equipment",
          "Recreation",
          "Apparel",
          "Men's apparel",
          "Men's and boys' apparel",
          "All items",
          "Pets, pet products and services",
          "Information technology, hardware and services",
          "New and used motor vehicles",
          "Motor vehicle fees",
          "Men's apparel",
          "Miscellaneous personal services",
          "Other foods",
          "Household operations",
          "Housing",
          "Other recreational goods",
          "Professional services",
          "Fats and oils",
          "Cereals and cereal products",
          "Information technology, hardware and services",
          "Public transportation",
          "Telephone services",
          "Miscellaneous personal services",
          "Nonalcoholic beverages and beverage materials",
          "Food at home",
          "Bakery products",
          "Appliances",
          "Hospital and related services",
          "Other household equipment and furnishings",
          "Medicinal drugs",
          "Juices and nonalcoholic drinks",
          "",
          "",
          "",
          "",
          "",
          "",
          "",
          "",
          "",
          "",
          "",
          "",
          "",
          "",
          "",
          "",
          "",
          "",
          "",
          "",
          "",
          "",
          "",
          "",
          "",
          "",
          "",
          "",
          "",
          "",
          "",
          "",
          "",
          "",
          "",
          "",
          "",
          "",
          "",
          "",
          "",
          "",
          "",
          "",
          "",
          "",
          "",
          "",
          "",
          "",
          "",
          "",
          "",
          "",
          "",
          "",
          "",
          "",
          "",
          "",
          "",
          "",
          "",
          "",
          "",
          "",
          "",
          "",
          "",
          "",
          "",
          "",
          "",
          "",
          "",
          "",
          "",
          "",
          "",
          "",
          "",
          "",
          "",
          "",
          "",
          "",
          "",
          "",
          "",
          "",
          "",
          ""
         ],
         "type": "treemap",
         "values": [
          0.688,
          0.2,
          0.944,
          2.811,
          0.31,
          0.297,
          2.75,
          1.817,
          0.152,
          1.598,
          0.12,
          0.364,
          0.633,
          0.044,
          0.068,
          0.095,
          1.489,
          1.099,
          0.174,
          0.078,
          1.026,
          1.637,
          0.079,
          0.042,
          0.134,
          0.693,
          1.038,
          0.136,
          0.134,
          0.264,
          0.218,
          0.229,
          0.14,
          100,
          0.22,
          0.073,
          0.03,
          2.663,
          0.008,
          0.016,
          0.136,
          0.529,
          0.768,
          0.313,
          0.08,
          0.009,
          1.218,
          0.003,
          3.666,
          0.125,
          0.08,
          6.347,
          7.772,
          1.001,
          0.308,
          0.086,
          0.58,
          3.176,
          1.038,
          0.458,
          0.099,
          0.689,
          0.273,
          0.074,
          0.278,
          0.084,
          1.341,
          0.145,
          0.006,
          4.387,
          1.972,
          0.098,
          0.197,
          3.777,
          0.018,
          0.297,
          0.306,
          1.569,
          0.792,
          0.01,
          0.094,
          0.052,
          1.005,
          0.302,
          0.169,
          0.118,
          0.111,
          0.922,
          1.297,
          0.068,
          0.25,
          0.454,
          2.787,
          5.797,
          1.105,
          0.045,
          42.385,
          0.093,
          0.641,
          0.153,
          0.218,
          0.224,
          1.515,
          0.825,
          1.736,
          2.875,
          0.981,
          0.32,
          0.059,
          0.565,
          0.15,
          0.088,
          0.13,
          0.114,
          0.235,
          0.694,
          0.321,
          0.01,
          0.009,
          0.012,
          0.119,
          0.19,
          0.019,
          0.254,
          0.29,
          3.135,
          0.365,
          0.431,
          2.221,
          2.419,
          0.223,
          0.2,
          0.18,
          0.073,
          0.15,
          0.471,
          0.266,
          0.329,
          0.333,
          0.322,
          0.075,
          0.052,
          1.141,
          0.05,
          0.061,
          0.111,
          0.101,
          0.635,
          3.756,
          0.393,
          0.345,
          0.091,
          0.046,
          7.525,
          0.875,
          0.092,
          0.284,
          0.062,
          0.265,
          0.446,
          0.052,
          0.075,
          0.678,
          0.694,
          0.56,
          23.044,
          0.459,
          0.042,
          24.263,
          0.053,
          0.356,
          0.469,
          0.233,
          0.707,
          0.151,
          0.182,
          2.425,
          0.212,
          0.062,
          0.13,
          0.644,
          0.101,
          0.14,
          0.538,
          1.053,
          0.516,
          0.259,
          0.04,
          0.71,
          7.289,
          1.58,
          8.87,
          0.066,
          15.16,
          0.274,
          0.892,
          0.243,
          0.06,
          0.608,
          0.249,
          0.366,
          4.682,
          3.28,
          1.107,
          0.263,
          1.075,
          0.271,
          0.81,
          0.058,
          1.96,
          0.604,
          0.29,
          0.037,
          0.077,
          2.369,
          1.192,
          0.063,
          0.142,
          0.178,
          0.001,
          0.003,
          0.134,
          0.278,
          0.535,
          0.06,
          1.916,
          0.064,
          2.551,
          0.254,
          3.033,
          6.81,
          0.109,
          0.138,
          14.055,
          3.662,
          0.288,
          1.192,
          0.044,
          0.026,
          0.071,
          0.091,
          0.27,
          0.082,
          0.089,
          0.232,
          2.924,
          7.862,
          0.173,
          0.073,
          0.18,
          0.062,
          0.367,
          1.209,
          0.899,
          0.361,
          0.297,
          0.037,
          14.119,
          15.157,
          0.041,
          0.06,
          0.002,
          0.076,
          0.144,
          1.537,
          0.666,
          0.158,
          0.532,
          3.159,
          0.632,
          0.012,
          0.244,
          0.015,
          0.005,
          0.111,
          0.34,
          0.116,
          33.316,
          0.02,
          0.474,
          0.051,
          0.124,
          0.893,
          0.287,
          0.41,
          0.22,
          0.666,
          0.93,
          0.214,
          0.14,
          0.124,
          0.077,
          0.374,
          0.382,
          100,
          1.038,
          0.5800000000000001,
          100.00099999999999,
          2.663,
          0.22100000000000003,
          0.6930000000000001,
          0.47,
          0.264,
          1.038,
          1.001,
          0.307,
          3.777,
          0.792,
          3.033,
          6.8100000000000005,
          3.135,
          0.212,
          0.278,
          14.119,
          15.157,
          7.772,
          6.347,
          0.644,
          0.537,
          1.054,
          0.515,
          1.341,
          0.14500000000000002,
          4.387,
          0.9440000000000001,
          2.418,
          3.28,
          4.683,
          0.899,
          0.9219999999999999,
          42.385000000000005,
          3.6660000000000004,
          1.297,
          0.154,
          0.666,
          0.825,
          1.026,
          1.637,
          1.736,
          8.869,
          1.581,
          7.29,
          1.5150000000000001,
          0.666,
          0.531,
          0.98,
          2.875,
          0.566,
          1.099,
          0.393,
          7.5249999999999995,
          0.93,
          1.971,
          1.4889999999999999,
          3.1590000000000003,
          0.535,
          1.916,
          0.35600000000000004,
          24.262,
          2.3529999999999998,
          0.6779999999999999,
          0.694,
          1.1920000000000002,
          0.071,
          0.323,
          0.111,
          0.333,
          14.055,
          0.288,
          3.6609999999999996,
          1.105,
          5.795999999999999,
          0.12000000000000001,
          33.316,
          0.603,
          0.27,
          2.37,
          0.608,
          0.892,
          15.16,
          2.924,
          1.537,
          1.107,
          0.271,
          1.075,
          0.874
         ]
        }
       ],
       "layout": {
        "legend": {
         "tracegroupgap": 0
        },
        "margin": {
         "t": 60
        },
        "template": {
         "data": {
          "bar": [
           {
            "error_x": {
             "color": "#2a3f5f"
            },
            "error_y": {
             "color": "#2a3f5f"
            },
            "marker": {
             "line": {
              "color": "#E5ECF6",
              "width": 0.5
             },
             "pattern": {
              "fillmode": "overlay",
              "size": 10,
              "solidity": 0.2
             }
            },
            "type": "bar"
           }
          ],
          "barpolar": [
           {
            "marker": {
             "line": {
              "color": "#E5ECF6",
              "width": 0.5
             },
             "pattern": {
              "fillmode": "overlay",
              "size": 10,
              "solidity": 0.2
             }
            },
            "type": "barpolar"
           }
          ],
          "carpet": [
           {
            "aaxis": {
             "endlinecolor": "#2a3f5f",
             "gridcolor": "white",
             "linecolor": "white",
             "minorgridcolor": "white",
             "startlinecolor": "#2a3f5f"
            },
            "baxis": {
             "endlinecolor": "#2a3f5f",
             "gridcolor": "white",
             "linecolor": "white",
             "minorgridcolor": "white",
             "startlinecolor": "#2a3f5f"
            },
            "type": "carpet"
           }
          ],
          "choropleth": [
           {
            "colorbar": {
             "outlinewidth": 0,
             "ticks": ""
            },
            "type": "choropleth"
           }
          ],
          "contour": [
           {
            "colorbar": {
             "outlinewidth": 0,
             "ticks": ""
            },
            "colorscale": [
             [
              0,
              "#0d0887"
             ],
             [
              0.1111111111111111,
              "#46039f"
             ],
             [
              0.2222222222222222,
              "#7201a8"
             ],
             [
              0.3333333333333333,
              "#9c179e"
             ],
             [
              0.4444444444444444,
              "#bd3786"
             ],
             [
              0.5555555555555556,
              "#d8576b"
             ],
             [
              0.6666666666666666,
              "#ed7953"
             ],
             [
              0.7777777777777778,
              "#fb9f3a"
             ],
             [
              0.8888888888888888,
              "#fdca26"
             ],
             [
              1,
              "#f0f921"
             ]
            ],
            "type": "contour"
           }
          ],
          "contourcarpet": [
           {
            "colorbar": {
             "outlinewidth": 0,
             "ticks": ""
            },
            "type": "contourcarpet"
           }
          ],
          "heatmap": [
           {
            "colorbar": {
             "outlinewidth": 0,
             "ticks": ""
            },
            "colorscale": [
             [
              0,
              "#0d0887"
             ],
             [
              0.1111111111111111,
              "#46039f"
             ],
             [
              0.2222222222222222,
              "#7201a8"
             ],
             [
              0.3333333333333333,
              "#9c179e"
             ],
             [
              0.4444444444444444,
              "#bd3786"
             ],
             [
              0.5555555555555556,
              "#d8576b"
             ],
             [
              0.6666666666666666,
              "#ed7953"
             ],
             [
              0.7777777777777778,
              "#fb9f3a"
             ],
             [
              0.8888888888888888,
              "#fdca26"
             ],
             [
              1,
              "#f0f921"
             ]
            ],
            "type": "heatmap"
           }
          ],
          "heatmapgl": [
           {
            "colorbar": {
             "outlinewidth": 0,
             "ticks": ""
            },
            "colorscale": [
             [
              0,
              "#0d0887"
             ],
             [
              0.1111111111111111,
              "#46039f"
             ],
             [
              0.2222222222222222,
              "#7201a8"
             ],
             [
              0.3333333333333333,
              "#9c179e"
             ],
             [
              0.4444444444444444,
              "#bd3786"
             ],
             [
              0.5555555555555556,
              "#d8576b"
             ],
             [
              0.6666666666666666,
              "#ed7953"
             ],
             [
              0.7777777777777778,
              "#fb9f3a"
             ],
             [
              0.8888888888888888,
              "#fdca26"
             ],
             [
              1,
              "#f0f921"
             ]
            ],
            "type": "heatmapgl"
           }
          ],
          "histogram": [
           {
            "marker": {
             "pattern": {
              "fillmode": "overlay",
              "size": 10,
              "solidity": 0.2
             }
            },
            "type": "histogram"
           }
          ],
          "histogram2d": [
           {
            "colorbar": {
             "outlinewidth": 0,
             "ticks": ""
            },
            "colorscale": [
             [
              0,
              "#0d0887"
             ],
             [
              0.1111111111111111,
              "#46039f"
             ],
             [
              0.2222222222222222,
              "#7201a8"
             ],
             [
              0.3333333333333333,
              "#9c179e"
             ],
             [
              0.4444444444444444,
              "#bd3786"
             ],
             [
              0.5555555555555556,
              "#d8576b"
             ],
             [
              0.6666666666666666,
              "#ed7953"
             ],
             [
              0.7777777777777778,
              "#fb9f3a"
             ],
             [
              0.8888888888888888,
              "#fdca26"
             ],
             [
              1,
              "#f0f921"
             ]
            ],
            "type": "histogram2d"
           }
          ],
          "histogram2dcontour": [
           {
            "colorbar": {
             "outlinewidth": 0,
             "ticks": ""
            },
            "colorscale": [
             [
              0,
              "#0d0887"
             ],
             [
              0.1111111111111111,
              "#46039f"
             ],
             [
              0.2222222222222222,
              "#7201a8"
             ],
             [
              0.3333333333333333,
              "#9c179e"
             ],
             [
              0.4444444444444444,
              "#bd3786"
             ],
             [
              0.5555555555555556,
              "#d8576b"
             ],
             [
              0.6666666666666666,
              "#ed7953"
             ],
             [
              0.7777777777777778,
              "#fb9f3a"
             ],
             [
              0.8888888888888888,
              "#fdca26"
             ],
             [
              1,
              "#f0f921"
             ]
            ],
            "type": "histogram2dcontour"
           }
          ],
          "mesh3d": [
           {
            "colorbar": {
             "outlinewidth": 0,
             "ticks": ""
            },
            "type": "mesh3d"
           }
          ],
          "parcoords": [
           {
            "line": {
             "colorbar": {
              "outlinewidth": 0,
              "ticks": ""
             }
            },
            "type": "parcoords"
           }
          ],
          "pie": [
           {
            "automargin": true,
            "type": "pie"
           }
          ],
          "scatter": [
           {
            "fillpattern": {
             "fillmode": "overlay",
             "size": 10,
             "solidity": 0.2
            },
            "type": "scatter"
           }
          ],
          "scatter3d": [
           {
            "line": {
             "colorbar": {
              "outlinewidth": 0,
              "ticks": ""
             }
            },
            "marker": {
             "colorbar": {
              "outlinewidth": 0,
              "ticks": ""
             }
            },
            "type": "scatter3d"
           }
          ],
          "scattercarpet": [
           {
            "marker": {
             "colorbar": {
              "outlinewidth": 0,
              "ticks": ""
             }
            },
            "type": "scattercarpet"
           }
          ],
          "scattergeo": [
           {
            "marker": {
             "colorbar": {
              "outlinewidth": 0,
              "ticks": ""
             }
            },
            "type": "scattergeo"
           }
          ],
          "scattergl": [
           {
            "marker": {
             "colorbar": {
              "outlinewidth": 0,
              "ticks": ""
             }
            },
            "type": "scattergl"
           }
          ],
          "scattermapbox": [
           {
            "marker": {
             "colorbar": {
              "outlinewidth": 0,
              "ticks": ""
             }
            },
            "type": "scattermapbox"
           }
          ],
          "scatterpolar": [
           {
            "marker": {
             "colorbar": {
              "outlinewidth": 0,
              "ticks": ""
             }
            },
            "type": "scatterpolar"
           }
          ],
          "scatterpolargl": [
           {
            "marker": {
             "colorbar": {
              "outlinewidth": 0,
              "ticks": ""
             }
            },
            "type": "scatterpolargl"
           }
          ],
          "scatterternary": [
           {
            "marker": {
             "colorbar": {
              "outlinewidth": 0,
              "ticks": ""
             }
            },
            "type": "scatterternary"
           }
          ],
          "surface": [
           {
            "colorbar": {
             "outlinewidth": 0,
             "ticks": ""
            },
            "colorscale": [
             [
              0,
              "#0d0887"
             ],
             [
              0.1111111111111111,
              "#46039f"
             ],
             [
              0.2222222222222222,
              "#7201a8"
             ],
             [
              0.3333333333333333,
              "#9c179e"
             ],
             [
              0.4444444444444444,
              "#bd3786"
             ],
             [
              0.5555555555555556,
              "#d8576b"
             ],
             [
              0.6666666666666666,
              "#ed7953"
             ],
             [
              0.7777777777777778,
              "#fb9f3a"
             ],
             [
              0.8888888888888888,
              "#fdca26"
             ],
             [
              1,
              "#f0f921"
             ]
            ],
            "type": "surface"
           }
          ],
          "table": [
           {
            "cells": {
             "fill": {
              "color": "#EBF0F8"
             },
             "line": {
              "color": "white"
             }
            },
            "header": {
             "fill": {
              "color": "#C8D4E3"
             },
             "line": {
              "color": "white"
             }
            },
            "type": "table"
           }
          ]
         },
         "layout": {
          "annotationdefaults": {
           "arrowcolor": "#2a3f5f",
           "arrowhead": 0,
           "arrowwidth": 1
          },
          "autotypenumbers": "strict",
          "coloraxis": {
           "colorbar": {
            "outlinewidth": 0,
            "ticks": ""
           }
          },
          "colorscale": {
           "diverging": [
            [
             0,
             "#8e0152"
            ],
            [
             0.1,
             "#c51b7d"
            ],
            [
             0.2,
             "#de77ae"
            ],
            [
             0.3,
             "#f1b6da"
            ],
            [
             0.4,
             "#fde0ef"
            ],
            [
             0.5,
             "#f7f7f7"
            ],
            [
             0.6,
             "#e6f5d0"
            ],
            [
             0.7,
             "#b8e186"
            ],
            [
             0.8,
             "#7fbc41"
            ],
            [
             0.9,
             "#4d9221"
            ],
            [
             1,
             "#276419"
            ]
           ],
           "sequential": [
            [
             0,
             "#0d0887"
            ],
            [
             0.1111111111111111,
             "#46039f"
            ],
            [
             0.2222222222222222,
             "#7201a8"
            ],
            [
             0.3333333333333333,
             "#9c179e"
            ],
            [
             0.4444444444444444,
             "#bd3786"
            ],
            [
             0.5555555555555556,
             "#d8576b"
            ],
            [
             0.6666666666666666,
             "#ed7953"
            ],
            [
             0.7777777777777778,
             "#fb9f3a"
            ],
            [
             0.8888888888888888,
             "#fdca26"
            ],
            [
             1,
             "#f0f921"
            ]
           ],
           "sequentialminus": [
            [
             0,
             "#0d0887"
            ],
            [
             0.1111111111111111,
             "#46039f"
            ],
            [
             0.2222222222222222,
             "#7201a8"
            ],
            [
             0.3333333333333333,
             "#9c179e"
            ],
            [
             0.4444444444444444,
             "#bd3786"
            ],
            [
             0.5555555555555556,
             "#d8576b"
            ],
            [
             0.6666666666666666,
             "#ed7953"
            ],
            [
             0.7777777777777778,
             "#fb9f3a"
            ],
            [
             0.8888888888888888,
             "#fdca26"
            ],
            [
             1,
             "#f0f921"
            ]
           ]
          },
          "colorway": [
           "#636efa",
           "#EF553B",
           "#00cc96",
           "#ab63fa",
           "#FFA15A",
           "#19d3f3",
           "#FF6692",
           "#B6E880",
           "#FF97FF",
           "#FECB52"
          ],
          "font": {
           "color": "#2a3f5f"
          },
          "geo": {
           "bgcolor": "white",
           "lakecolor": "white",
           "landcolor": "#E5ECF6",
           "showlakes": true,
           "showland": true,
           "subunitcolor": "white"
          },
          "hoverlabel": {
           "align": "left"
          },
          "hovermode": "closest",
          "mapbox": {
           "style": "light"
          },
          "paper_bgcolor": "white",
          "plot_bgcolor": "#E5ECF6",
          "polar": {
           "angularaxis": {
            "gridcolor": "white",
            "linecolor": "white",
            "ticks": ""
           },
           "bgcolor": "#E5ECF6",
           "radialaxis": {
            "gridcolor": "white",
            "linecolor": "white",
            "ticks": ""
           }
          },
          "scene": {
           "xaxis": {
            "backgroundcolor": "#E5ECF6",
            "gridcolor": "white",
            "gridwidth": 2,
            "linecolor": "white",
            "showbackground": true,
            "ticks": "",
            "zerolinecolor": "white"
           },
           "yaxis": {
            "backgroundcolor": "#E5ECF6",
            "gridcolor": "white",
            "gridwidth": 2,
            "linecolor": "white",
            "showbackground": true,
            "ticks": "",
            "zerolinecolor": "white"
           },
           "zaxis": {
            "backgroundcolor": "#E5ECF6",
            "gridcolor": "white",
            "gridwidth": 2,
            "linecolor": "white",
            "showbackground": true,
            "ticks": "",
            "zerolinecolor": "white"
           }
          },
          "shapedefaults": {
           "line": {
            "color": "#2a3f5f"
           }
          },
          "ternary": {
           "aaxis": {
            "gridcolor": "white",
            "linecolor": "white",
            "ticks": ""
           },
           "baxis": {
            "gridcolor": "white",
            "linecolor": "white",
            "ticks": ""
           },
           "bgcolor": "#E5ECF6",
           "caxis": {
            "gridcolor": "white",
            "linecolor": "white",
            "ticks": ""
           }
          },
          "title": {
           "x": 0.05
          },
          "xaxis": {
           "automargin": true,
           "gridcolor": "white",
           "linecolor": "white",
           "ticks": "",
           "title": {
            "standoff": 15
           },
           "zerolinecolor": "white",
           "zerolinewidth": 2
          },
          "yaxis": {
           "automargin": true,
           "gridcolor": "white",
           "linecolor": "white",
           "ticks": "",
           "title": {
            "standoff": 15
           },
           "zerolinecolor": "white",
           "zerolinewidth": 2
          }
         }
        }
       }
      },
      "text/html": [
       "<div>                            <div id=\"0f16e986-f425-4d89-b3fe-dde8b90aa9f7\" class=\"plotly-graph-div\" style=\"height:525px; width:100%;\"></div>            <script type=\"text/javascript\">                require([\"plotly\"], function(Plotly) {                    window.PLOTLYENV=window.PLOTLYENV || {};                                    if (document.getElementById(\"0f16e986-f425-4d89-b3fe-dde8b90aa9f7\")) {                    Plotly.newPlot(                        \"0f16e986-f425-4d89-b3fe-dde8b90aa9f7\",                        [{\"branchvalues\":\"total\",\"customdata\":[[\"Other recreation services\"],[\"Women's and girls' apparel\"],[\"Household furnishings and operations\"],[\"Motor fuel\"],[\"Household operations\"],[\"Water and sewer and trash collection services\"],[\"New and used motor vehicles\"],[\"Professional services\"],[\"Furniture and bedding\"],[\"Private transportation\"],[\"Recreation\"],[\"Personal care products\"],[\"Public transportation\"],[\"Beef and veal\"],[\"Recreational reading materials\"],[\"Beverage materials including coffee and tea\"],[\"Other food at home\"],[\"Private transportation\"],[\"Food away from home\"],[\"Appliances\"],[\"Meats, poultry, and fish\"],[\"Meats, poultry, fish, and eggs\"],[\"Video and audio\"],[\"Other foods\"],[\"Pork\"],[\"Cereals and bakery products\"],[\"Food and beverages\"],[\"Footwear\"],[\"Men's and boys' apparel\"],[\"Nonalcoholic beverages and beverage materials\"],[\"Other recreation services\"],[\"Miscellaneous personal services\"],[\"Miscellaneous personal services\"],[\"-\"],[\"Household furnishings and operations\"],[\"Fresh fruits\"],[\"Miscellaneous personal services\"],[\"All items\"],[\"Personal care products\"],[\"Other recreational goods\"],[\"Fresh fruits\"],[\"Tobacco and smoking products\"],[\"Tuition, other school fees, and childcare\"],[\"Other household equipment and furnishings\"],[\"Household operations\"],[\"Furniture and bedding\"],[\"Owners' equivalent rent of residences\"],[\"Appliances\"],[\"Communication\"],[\"Apparel\"],[\"Food away from home\"],[\"Food\"],[\"Food\"],[\"Food at home\"],[\"Cereals and bakery products\"],[\"Processed fruits and vegetables\"],[\"Alcoholic beverages\"],[\"Food away from home\"],[\"Beverages\"],[\"Alcoholic beverages\"],[\"Meats, poultry, fish, and eggs\"],[\"Other recreation services\"],[\"Poultry\"],[\"Fresh fruits\"],[\"Meats, poultry, and fish\"],[\"Fuel oil and other fuels\"],[\"Food at home\"],[\"Household energy\"],[\"Juices and nonalcoholic drinks\"],[\"Housing\"],[\"Food at home\"],[\"Fats and oils\"],[\"Dairy and related products\"],[\"Education and communication\"],[\"Information technology, hardware and services\"],[\"Information technology, hardware and services\"],[\"Personal care products\"],[\"Tuition, other school fees, and childcare\"],[\"Food at home\"],[\"Postage and delivery services\"],[\"Alcoholic beverages at home\"],[\"Other household equipment and furnishings\"],[\"Professional services\"],[\"Household operations\"],[\"Beverage materials including coffee and tea\"],[\"Lodging away from home\"],[\"Dairy and related products\"],[\"Household furnishings and operations\"],[\"Information and information processing\"],[\"Fresh vegetables\"],[\"Miscellaneous personal services\"],[\"Furniture and bedding\"],[\"Food away from home\"],[\"All items\"],[\"Transportation\"],[\"Video and audio\"],[\"All items\"],[\"Other household equipment and furnishings\"],[\"New and used motor vehicles\"],[\"Apparel\"],[\"Dairy and related products\"],[\"Footwear\"],[\"Medical care commodities\"],[\"Shelter\"],[\"Food at home\"],[\"Private transportation\"],[\"Personal care\"],[\"Housekeeping supplies\"],[\"Motor vehicle maintenance and repair\"],[\"Private transportation\"],[\"Men's apparel\"],[\"Men's apparel\"],[\"Men's apparel\"],[\"Jewelry and watches\"],[\"Housekeeping supplies\"],[\"Personal care services\"],[\"Other recreation services\"],[\"Sporting goods\"],[\"Women's apparel\"],[\"Video and audio\"],[\"Tuition, other school fees, and childcare\"],[\"Tools, hardware, outdoor equipment and supplies\"],[\"Tobacco and smoking products\"],[\"Fresh fruits\"],[\"Fresh vegetables\"],[\"Household energy\"],[\"Professional services\"],[\"Tuition, other school fees, and childcare\"],[\"Hospital and related services\"],[\"Medical care services\"],[\"Alcoholic beverages at home\"],[\"Bakery products\"],[\"Sugar and sweets\"],[\"Hospital and related services\"],[\"Processed fruits and vegetables\"],[\"Meats\"],[\"Dairy and related products\"],[\"Furniture and bedding\"],[\"Meats, poultry, and fish\"],[\"Meats\"],[\"Fresh vegetables\"],[\"Pork\"],[\"Medicinal drugs\"],[\"Recreational reading materials\"],[\"Fuel oil and other fuels\"],[\"Communication\"],[\"Postage and delivery services\"],[\"Motor vehicle maintenance and repair\"],[\"New and used motor vehicles\"],[\"Private transportation\"],[\"Motor vehicle maintenance and repair\"],[\"Household operations\"],[\"Other recreational goods\"],[\"Private transportation\"],[\"Women's and girls' apparel\"],[\"Women's apparel\"],[\"Footwear\"],[\"Women's apparel\"],[\"Women's apparel\"],[\"Women's apparel\"],[\"Processed fruits and vegetables\"],[\"Pork\"],[\"Personal care\"],[\"Personal care\"],[\"Pets, pet products and services\"],[\"Owners' equivalent rent of residences\"],[\"Tools, hardware, outdoor equipment and supplies\"],[\"Video and audio\"],[\"Shelter\"],[\"Sugar and sweets\"],[\"Recreation\"],[\"Other foods\"],[\"Meats\"],[\"Lodging away from home\"],[\"Window and floor coverings and other linens\"],[\"Public transportation\"],[\"Energy services\"],[\"Other food at home\"],[\"Window and floor coverings and other linens\"],[\"Food away from home\"],[\"Apparel\"],[\"Bakery products\"],[\"Fish and seafood\"],[\"Fresh fruits and vegetables\"],[\"Fruits and vegetables\"],[\"Fresh fruits and vegetables\"],[\"Other foods\"],[\"Jewelry and watches\"],[\"Energy services\"],[\"Medical care\"],[\"Medical care\"],[\"All items\"],[\"Medical care commodities\"],[\"All items\"],[\"Other recreational goods\"],[\"Household furnishings and operations\"],[\"Tools, hardware, outdoor equipment and supplies\"],[\"Tobacco and smoking products\"],[\"Other goods and services\"],[\"Motor vehicle parts and equipment\"],[\"Shelter\"],[\"Housing\"],[\"Fuels and utilities\"],[\"Fuels and utilities\"],[\"Alcoholic beverages at home\"],[\"Apparel\"],[\"Household furnishings and operations\"],[\"Water and sewer and trash collection services\"],[\"Window and floor coverings and other linens\"],[\"Telephone services\"],[\"Recreation\"],[\"Other foods\"],[\"Tuition, other school fees, and childcare\"],[\"Information technology, hardware and services\"],[\"Information and information processing\"],[\"Video and audio\"],[\"Fats and oils\"],[\"Cereals and cereal products\"],[\"Bakery products\"],[\"Photography\"],[\"Public transportation\"],[\"New and used motor vehicles\"],[\"Juices and nonalcoholic drinks\"],[\"Household furnishings and operations\"],[\"Poultry\"],[\"Recreation\"],[\"Motor fuel\"],[\"Other goods and services\"],[\"Motor vehicle fees\"],[\"Education and communication\"],[\"All items\"],[\"Education\"],[\"Fish and seafood\"],[\"Transportation\"],[\"Medical care services\"],[\"Fruits and vegetables\"],[\"Recreation\"],[\"Photography\"],[\"Photography\"],[\"Recreation\"],[\"Video and audio\"],[\"Other food at home\"],[\"Fresh vegetables\"],[\"Other foods\"],[\"Sporting goods\"],[\"Education\"],[\"Shelter\"],[\"Beef and veal\"],[\"Beef and veal\"],[\"Beef and veal\"],[\"Pork\"],[\"Housekeeping supplies\"],[\"Medical care services\"],[\"Household furnishings and operations\"],[\"Sporting goods\"],[\"Motor vehicle fees\"],[\"Sugar and sweets\"],[\"Food and beverages\"],[\"All items\"],[\"Cereals and cereal products\"],[\"Motor vehicle maintenance and repair\"],[\"Recreational reading materials\"],[\"Video and audio\"],[\"Motor vehicle parts and equipment\"],[\"Recreation\"],[\"Apparel\"],[\"Men's apparel\"],[\"Men's and boys' apparel\"],[\"All items\"],[\"Pets, pet products and services\"],[\"Information technology, hardware and services\"],[\"New and used motor vehicles\"],[\"Motor vehicle fees\"],[\"Men's apparel\"],[\"Miscellaneous personal services\"],[\"Other foods\"],[\"Household operations\"],[\"Housing\"],[\"Other recreational goods\"],[\"Professional services\"],[\"Fats and oils\"],[\"Cereals and cereal products\"],[\"Information technology, hardware and services\"],[\"Public transportation\"],[\"Telephone services\"],[\"Miscellaneous personal services\"],[\"Nonalcoholic beverages and beverage materials\"],[\"Food at home\"],[\"Bakery products\"],[\"Appliances\"],[\"Hospital and related services\"],[\"Other household equipment and furnishings\"],[\"Medicinal drugs\"],[\"Juices and nonalcoholic drinks\"],[\"-\"],[\"Alcoholic beverages\"],[\"Alcoholic beverages at home\"],[\"All items\"],[\"Apparel\"],[\"Appliances\"],[\"Bakery products\"],[\"Beef and veal\"],[\"Beverage materials including coffee and tea\"],[\"Beverages\"],[\"Cereals and bakery products\"],[\"Cereals and cereal products\"],[\"Communication\"],[\"Dairy and related products\"],[\"Education\"],[\"Education and communication\"],[\"Energy services\"],[\"Fats and oils\"],[\"Fish and seafood\"],[\"Food\"],[\"Food and beverages\"],[\"Food at home\"],[\"Food away from home\"],[\"Footwear\"],[\"Fresh fruits\"],[\"Fresh fruits and vegetables\"],[\"Fresh vegetables\"],[\"Fruits and vegetables\"],[\"Fuel oil and other fuels\"],[\"Fuels and utilities\"],[\"Furniture and bedding\"],[\"Hospital and related services\"],[\"Household energy\"],[\"Household furnishings and operations\"],[\"Household operations\"],[\"Housekeeping supplies\"],[\"Housing\"],[\"Information and information processing\"],[\"Information technology, hardware and services\"],[\"Jewelry and watches\"],[\"Juices and nonalcoholic drinks\"],[\"Lodging away from home\"],[\"Meats\"],[\"Meats, poultry, and fish\"],[\"Meats, poultry, fish, and eggs\"],[\"Medical care\"],[\"Medical care commodities\"],[\"Medical care services\"],[\"Medicinal drugs\"],[\"Men's and boys' apparel\"],[\"Men's apparel\"],[\"Miscellaneous personal services\"],[\"Motor fuel\"],[\"Motor vehicle fees\"],[\"Motor vehicle maintenance and repair\"],[\"Motor vehicle parts and equipment\"],[\"New and used motor vehicles\"],[\"Nonalcoholic beverages and beverage materials\"],[\"Other food at home\"],[\"Other foods\"],[\"Other goods and services\"],[\"Other household equipment and furnishings\"],[\"Other recreation services\"],[\"Other recreational goods\"],[\"Owners' equivalent rent of residences\"],[\"Personal care\"],[\"Personal care products\"],[\"Personal care services\"],[\"Pets, pet products and services\"],[\"Photography\"],[\"Pork\"],[\"Postage and delivery services\"],[\"Poultry\"],[\"Private transportation\"],[\"Processed fruits and vegetables\"],[\"Professional services\"],[\"Public transportation\"],[\"Recreation\"],[\"Recreational reading materials\"],[\"Shelter\"],[\"Sporting goods\"],[\"Sugar and sweets\"],[\"Telephone services\"],[\"Tobacco and smoking products\"],[\"Tools, hardware, outdoor equipment and supplies\"],[\"Transportation\"],[\"Tuition, other school fees, and childcare\"],[\"Video and audio\"],[\"Water and sewer and trash collection services\"],[\"Window and floor coverings and other linens\"],[\"Women's and girls' apparel\"],[\"Women's apparel\"]],\"domain\":{\"x\":[0.0,1.0],\"y\":[0.0,1.0]},\"hovertemplate\":\"labels=%{label}<br>Weight=%{value}<br>parent=%{parent}<br>id=%{id}<br>Parent=%{customdata[0]}<extra></extra>\",\"ids\":[\"Other recreation services/Admissions\",\"Women's and girls' apparel/Girls' apparel\",\"Household furnishings and operations/Furniture and bedding\",\"Motor fuel/Gasoline (all types)\",\"Household operations/Gardening and lawncare services\",\"Water and sewer and trash collection services/Garbage and trash collection\",\"New and used motor vehicles/Used cars and trucks\",\"Professional services/Physicians' services\",\"Furniture and bedding/Other furniture\",\"Private transportation/Motor vehicle insurance\",\"Recreation/Recreational reading materials\",\"Personal care products/Hair, dental, shaving, and miscellaneous personal care products\",\"Public transportation/Airline fares\",\"Beef and veal/Uncooked other beef and veal\",\"Recreational reading materials/Newspapers and magazines\",\"Beverage materials including coffee and tea/Other beverage materials including tea\",\"Other food at home/Other foods\",\"Private transportation/Motor vehicle maintenance and repair\",\"Food away from home/Other food away from home\",\"Appliances/Major appliances\",\"Meats, poultry, and fish/Meats\",\"Meats, poultry, fish, and eggs/Meats, poultry, and fish\",\"Video and audio/Audio equipment\",\"Other foods/Baby food\",\"Pork/Bacon, breakfast sausage, and related products\",\"Cereals and bakery products/Bakery products\",\"Food and beverages/Beverages\",\"Footwear/Boys' and girls' footwear\",\"Men's and boys' apparel/Boys' apparel\",\"Nonalcoholic beverages and beverage materials/Beverage materials including coffee and tea\",\"Other recreation services/Fees for lessons or instructions\",\"Miscellaneous personal services/Financial services\",\"Miscellaneous personal services/Funeral expenses\",\"-/All items\",\"Household furnishings and operations/Appliances\",\"Fresh fruits/Apples\",\"Miscellaneous personal services/Apparel services other than laundry and dry cleaning\",\"All items/Apparel\",\"Personal care products/Unsampled personal care products\",\"Other recreational goods/Unsampled recreation commodities\",\"Fresh fruits/Citrus fruits\",\"Tobacco and smoking products/Cigarettes\",\"Tuition, other school fees, and childcare/Child care and nursery school\",\"Other household equipment and furnishings/Clocks, lamps, and decorator items\",\"Household operations/Unsampled household operations\",\"Furniture and bedding/Unsampled furniture\",\"Owners' equivalent rent of residences/Unsampled owners' equivalent rent of secondary residences\",\"Appliances/Unsampled appliances\",\"Communication/Information and information processing\",\"Apparel/Infants' and toddlers' apparel\",\"Food away from home/Food from vending machines and mobile vendors\",\"Food/Food away from home\",\"Food/Food at home\",\"Food at home/Cereals and bakery products\",\"Cereals and bakery products/Cereals and cereal products\",\"Processed fruits and vegetables/Frozen fruits and vegetables\",\"Alcoholic beverages/Alcoholic beverages at home\",\"Food away from home/Full service meals and snacks\",\"Beverages/Alcoholic beverages\",\"Alcoholic beverages/Alcoholic beverages away from home\",\"Meats, poultry, fish, and eggs/Eggs\",\"Other recreation services/Club membership for shopping clubs, fraternal, or other organizations, or participant sports fees\",\"Poultry/Chicken\",\"Fresh fruits/Bananas\",\"Meats, poultry, and fish/Fish and seafood\",\"Fuel oil and other fuels/Fuel oil\",\"Food at home/Fruits and vegetables\",\"Household energy/Fuel oil and other fuels\",\"Juices and nonalcoholic drinks/Frozen noncarbonated juices and drinks\",\"Housing/Fuels and utilities\",\"Food at home/Other food at home\",\"Fats and oils/Other fats and oils including peanut butter\",\"Dairy and related products/Other dairy and related products\",\"Education and communication/Communication\",\"Information technology, hardware and services/Computer software and accessories\",\"Information technology, hardware and services/Computers, peripherals, and smart home assistant devices\",\"Personal care products/Cosmetics, perfume, bath, nail preparations and implements\",\"Tuition, other school fees, and childcare/College tuition and fees\",\"Food at home/Dairy and related products\",\"Postage and delivery services/Delivery services\",\"Alcoholic beverages at home/Distilled spirits at home\",\"Other household equipment and furnishings/Dishes and flatware\",\"Professional services/Dental services\",\"Household operations/Domestic services\",\"Beverage materials including coffee and tea/Coffee\",\"Lodging away from home/Housing at school, excluding board\",\"Dairy and related products/Ice cream and related products\",\"Household furnishings and operations/Housekeeping supplies\",\"Information and information processing/Information technology, hardware and services\",\"Fresh vegetables/Lettuce\",\"Miscellaneous personal services/Legal services\",\"Furniture and bedding/Living room, kitchen, and dining room furniture\",\"Food away from home/Limited service meals and snacks\",\"All items/Recreation\",\"Transportation/Public transportation\",\"Video and audio/Recorded music and music subscriptions\",\"All items/Housing\",\"Other household equipment and furnishings/Indoor plants and flowers\",\"New and used motor vehicles/Leased cars and trucks\",\"Apparel/Jewelry and watches\",\"Dairy and related products/Milk\",\"Footwear/Men's footwear\",\"Medical care commodities/Medicinal drugs\",\"Shelter/Lodging away from home\",\"Food at home/Meats, poultry, fish, and eggs\",\"Private transportation/Motor fuel\",\"Personal care/Miscellaneous personal services\",\"Housekeeping supplies/Miscellaneous household products\",\"Motor vehicle maintenance and repair/Motor vehicle body work\",\"Private transportation/Motor vehicle fees\",\"Men's apparel/Men's shirts and sweaters\",\"Men's apparel/Men's suits, sport coats, and outerwear\",\"Men's apparel/Men's pants and shorts\",\"Jewelry and watches/Jewelry\",\"Housekeeping supplies/Household paper products\",\"Personal care services/Haircuts and other personal care services\",\"Other recreation services/Unsampled recreation services\",\"Sporting goods/Unsampled sporting goods\",\"Women's apparel/Unsampled women's apparel\",\"Video and audio/Unsampled video and audio\",\"Tuition, other school fees, and childcare/Unsampled tuition, other school fees, and childcare\",\"Tools, hardware, outdoor equipment and supplies/Unsampled tools, hardware, outdoor equipment and supplies\",\"Tobacco and smoking products/Unsampled tobacco and smoking products\",\"Fresh fruits/Other fresh fruits\",\"Fresh vegetables/Other fresh vegetables\",\"Household energy/Energy services\",\"Professional services/Eyeglasses and eye care\",\"Tuition, other school fees, and childcare/Elementary and high school tuition and fees\",\"Hospital and related services/Hospital services\",\"Medical care services/Hospital and related services\",\"Alcoholic beverages at home/Beer, ale, and other malt beverages at home\",\"Bakery products/Bread\",\"Sugar and sweets/Candy and chewing gum\",\"Hospital and related services/Care of invalids and elderly at home\",\"Processed fruits and vegetables/Canned fruits and vegetables\",\"Meats/Beef and veal\",\"Dairy and related products/Cheese and related products\",\"Furniture and bedding/Bedroom furniture\",\"Meats, poultry, and fish/Poultry\",\"Meats/Pork\",\"Fresh vegetables/Potatoes\",\"Pork/Pork chops\",\"Medicinal drugs/Prescription drugs\",\"Recreational reading materials/Recreational books\",\"Fuel oil and other fuels/Propane, kerosene, and firewood\",\"Communication/Postage and delivery services\",\"Postage and delivery services/Postage\",\"Motor vehicle maintenance and repair/Motor vehicle maintenance and servicing\",\"New and used motor vehicles/New vehicles\",\"Private transportation/Motor vehicle parts and equipment\",\"Motor vehicle maintenance and repair/Motor vehicle repair\",\"Household operations/Moving, storage, freight expense\",\"Other recreational goods/Music instruments and accessories\",\"Private transportation/New and used motor vehicles\",\"Women's and girls' apparel/Women's apparel\",\"Women's apparel/Women's dresses\",\"Footwear/Women's footwear\",\"Women's apparel/Women's outerwear\",\"Women's apparel/Women's underwear, nightwear, sportswear, and accessories\",\"Women's apparel/Women's suits and separates\",\"Processed fruits and vegetables/Other processed fruits and vegetables including dried\",\"Pork/Other pork including roasts, steaks, and ribs\",\"Personal care/Personal care products\",\"Personal care/Personal care services\",\"Pets, pet products and services/Pet services including veterinary\",\"Owners' equivalent rent of residences/Owners' equivalent rent of primary residence\",\"Tools, hardware, outdoor equipment and supplies/Outdoor equipment and supplies\",\"Video and audio/Other video equipment\",\"Shelter/Owners' equivalent rent of residences\",\"Sugar and sweets/Other sweets\",\"Recreation/Other recreational goods\",\"Other foods/Other miscellaneous foods\",\"Meats/Other meats\",\"Lodging away from home/Other lodging away from home including hotels and motels\",\"Window and floor coverings and other linens/Other linens\",\"Public transportation/Other intercity transportation\",\"Energy services/Electricity\",\"Other food at home/Fats and oils\",\"Window and floor coverings and other linens/Floor coverings\",\"Food away from home/Food at employee sites and schools\",\"Apparel/Footwear\",\"Bakery products/Fresh biscuits, rolls, muffins\",\"Fish and seafood/Fresh fish and seafood\",\"Fresh fruits and vegetables/Fresh fruits\",\"Fruits and vegetables/Fresh fruits and vegetables\",\"Fresh fruits and vegetables/Fresh vegetables\",\"Other foods/Frozen and freeze dried prepared foods\",\"Jewelry and watches/Watches\",\"Energy services/Utility (piped) gas service\",\"Medical care/Medical care services\",\"Medical care/Medical care commodities\",\"All items/Medical care\",\"Medical care commodities/Medical equipment and supplies\",\"All items/Transportation\",\"Other recreational goods/Toys\",\"Household furnishings and operations/Tools, hardware, outdoor equipment and supplies\",\"Tools, hardware, outdoor equipment and supplies/Tools, hardware and supplies\",\"Tobacco and smoking products/Tobacco products other than cigarettes\",\"Other goods and services/Tobacco and smoking products\",\"Motor vehicle parts and equipment/Tires\",\"Shelter/Tenants' and household insurance\",\"Housing/Household furnishings and operations\",\"Fuels and utilities/Household energy\",\"Fuels and utilities/Water and sewer and trash collection services\",\"Alcoholic beverages at home/Wine at home\",\"Apparel/Women's and girls' apparel\",\"Household furnishings and operations/Window and floor coverings and other linens\",\"Water and sewer and trash collection services/Water and sewerage maintenance\",\"Window and floor coverings and other linens/Window coverings\",\"Telephone services/Wireless telephone services\",\"Recreation/Sporting goods\",\"Other foods/Spices, seasonings, condiments, sauces\",\"Tuition, other school fees, and childcare/Technical and business school tuition and fees\",\"Information technology, hardware and services/Telephone hardware, calculators, and other consumer information items\",\"Information and information processing/Telephone services\",\"Video and audio/Cable and satellite television service\",\"Fats and oils/Butter and margarine\",\"Cereals and cereal products/Breakfast cereal\",\"Bakery products/Cakes, cupcakes, and cookies\",\"Photography/Unsampled photography\",\"Public transportation/Unsampled public transportation\",\"New and used motor vehicles/Car and truck rental\",\"Juices and nonalcoholic drinks/Carbonated drinks\",\"Household furnishings and operations/Other household equipment and furnishings\",\"Poultry/Other uncooked poultry including turkey\",\"Recreation/Other recreation services\",\"Motor fuel/Other motor fuels\",\"Other goods and services/Personal care\",\"Motor vehicle fees/Parking and other fees\",\"Education and communication/Education\",\"All items/Education and communication\",\"Education/Educational books and supplies\",\"Fish and seafood/Processed fish and seafood\",\"Transportation/Private transportation\",\"Medical care services/Professional services\",\"Fruits and vegetables/Processed fruits and vegetables\",\"Recreation/Pets, pet products and services\",\"Photography/Photographers and photo processing\",\"Photography/Photographic equipment and supplies\",\"Recreation/Photography\",\"Video and audio/Televisions\",\"Other food at home/Sugar and sweets\",\"Fresh vegetables/Tomatoes\",\"Other foods/Soups\",\"Sporting goods/Sports equipment\",\"Education/Tuition, other school fees, and childcare\",\"Shelter/Rent of primary residence\",\"Beef and veal/Uncooked ground beef\",\"Beef and veal/Uncooked beef roasts\",\"Beef and veal/Uncooked beef steaks\",\"Pork/Ham\",\"Housekeeping supplies/Household cleaning products\",\"Medical care services/Health insurance\",\"Household furnishings and operations/Household operations\",\"Sporting goods/Sports vehicles including bicycles\",\"Motor vehicle fees/State motor vehicle registration and license fees\",\"Sugar and sweets/Sugar and sugar substitutes\",\"Food and beverages/Food\",\"All items/Food and beverages\",\"Cereals and cereal products/Flour and prepared flour mixes\",\"Motor vehicle maintenance and repair/Unsampled service policies\",\"Recreational reading materials/Unsampled recreational reading materials\",\"Video and audio/Video discs and other media, including rental of video\",\"Motor vehicle parts and equipment/Vehicle accessories other than tires\",\"Recreation/Video and audio\",\"Apparel/Men's and boys' apparel\",\"Men's apparel/Men''s underwear, nightwear, swimwear, and accessories\",\"Men's and boys' apparel/Men's apparel\",\"All items/Other goods and services\",\"Pets, pet products and services/Pets and pet products\",\"Information technology, hardware and services/Unsampled information and information processing\",\"New and used motor vehicles/Unsampled new and used motor vehicles\",\"Motor vehicle fees/Unsampled motor vehicle fees\",\"Men's apparel/Unsampled men's apparel\",\"Miscellaneous personal services/Unsampled items\",\"Other foods/Snacks\",\"Household operations/Repair of household items\",\"Housing/Shelter\",\"Other recreational goods/Sewing machines, fabric and supplies\",\"Professional services/Services by other medical professionals\",\"Fats and oils/Salad dressing\",\"Cereals and cereal products/Rice, pasta, cornmeal\",\"Information technology, hardware and services/Internet services and electronic information providers\",\"Public transportation/Intracity transportation\",\"Telephone services/Land-line telephone services\",\"Miscellaneous personal services/Laundry and dry cleaning services\",\"Nonalcoholic beverages and beverage materials/Juices and nonalcoholic drinks\",\"Food at home/Nonalcoholic beverages and beverage materials\",\"Bakery products/Other bakery products\",\"Appliances/Other appliances\",\"Hospital and related services/Nursing homes and adult day services\",\"Other household equipment and furnishings/Nonelectric cookware and tableware\",\"Medicinal drugs/Nonprescription drugs\",\"Juices and nonalcoholic drinks/Nonfrozen noncarbonated juices and drinks\",\"-\",\"Alcoholic beverages\",\"Alcoholic beverages at home\",\"All items\",\"Apparel\",\"Appliances\",\"Bakery products\",\"Beef and veal\",\"Beverage materials including coffee and tea\",\"Beverages\",\"Cereals and bakery products\",\"Cereals and cereal products\",\"Communication\",\"Dairy and related products\",\"Education\",\"Education and communication\",\"Energy services\",\"Fats and oils\",\"Fish and seafood\",\"Food\",\"Food and beverages\",\"Food at home\",\"Food away from home\",\"Footwear\",\"Fresh fruits\",\"Fresh fruits and vegetables\",\"Fresh vegetables\",\"Fruits and vegetables\",\"Fuel oil and other fuels\",\"Fuels and utilities\",\"Furniture and bedding\",\"Hospital and related services\",\"Household energy\",\"Household furnishings and operations\",\"Household operations\",\"Housekeeping supplies\",\"Housing\",\"Information and information processing\",\"Information technology, hardware and services\",\"Jewelry and watches\",\"Juices and nonalcoholic drinks\",\"Lodging away from home\",\"Meats\",\"Meats, poultry, and fish\",\"Meats, poultry, fish, and eggs\",\"Medical care\",\"Medical care commodities\",\"Medical care services\",\"Medicinal drugs\",\"Men's and boys' apparel\",\"Men's apparel\",\"Miscellaneous personal services\",\"Motor fuel\",\"Motor vehicle fees\",\"Motor vehicle maintenance and repair\",\"Motor vehicle parts and equipment\",\"New and used motor vehicles\",\"Nonalcoholic beverages and beverage materials\",\"Other food at home\",\"Other foods\",\"Other goods and services\",\"Other household equipment and furnishings\",\"Other recreation services\",\"Other recreational goods\",\"Owners' equivalent rent of residences\",\"Personal care\",\"Personal care products\",\"Personal care services\",\"Pets, pet products and services\",\"Photography\",\"Pork\",\"Postage and delivery services\",\"Poultry\",\"Private transportation\",\"Processed fruits and vegetables\",\"Professional services\",\"Public transportation\",\"Recreation\",\"Recreational reading materials\",\"Shelter\",\"Sporting goods\",\"Sugar and sweets\",\"Telephone services\",\"Tobacco and smoking products\",\"Tools, hardware, outdoor equipment and supplies\",\"Transportation\",\"Tuition, other school fees, and childcare\",\"Video and audio\",\"Water and sewer and trash collection services\",\"Window and floor coverings and other linens\",\"Women's and girls' apparel\",\"Women's apparel\"],\"labels\":[\"Admissions\",\"Girls' apparel\",\"Furniture and bedding\",\"Gasoline (all types)\",\"Gardening and lawncare services\",\"Garbage and trash collection\",\"Used cars and trucks\",\"Physicians' services\",\"Other furniture\",\"Motor vehicle insurance\",\"Recreational reading materials\",\"Hair, dental, shaving, and miscellaneous personal care products\",\"Airline fares\",\"Uncooked other beef and veal\",\"Newspapers and magazines\",\"Other beverage materials including tea\",\"Other foods\",\"Motor vehicle maintenance and repair\",\"Other food away from home\",\"Major appliances\",\"Meats\",\"Meats, poultry, and fish\",\"Audio equipment\",\"Baby food\",\"Bacon, breakfast sausage, and related products\",\"Bakery products\",\"Beverages\",\"Boys' and girls' footwear\",\"Boys' apparel\",\"Beverage materials including coffee and tea\",\"Fees for lessons or instructions\",\"Financial services\",\"Funeral expenses\",\"All items\",\"Appliances\",\"Apples\",\"Apparel services other than laundry and dry cleaning\",\"Apparel\",\"Unsampled personal care products\",\"Unsampled recreation commodities\",\"Citrus fruits\",\"Cigarettes\",\"Child care and nursery school\",\"Clocks, lamps, and decorator items\",\"Unsampled household operations\",\"Unsampled furniture\",\"Unsampled owners' equivalent rent of secondary residences\",\"Unsampled appliances\",\"Information and information processing\",\"Infants' and toddlers' apparel\",\"Food from vending machines and mobile vendors\",\"Food away from home\",\"Food at home\",\"Cereals and bakery products\",\"Cereals and cereal products\",\"Frozen fruits and vegetables\",\"Alcoholic beverages at home\",\"Full service meals and snacks\",\"Alcoholic beverages\",\"Alcoholic beverages away from home\",\"Eggs\",\"Club membership for shopping clubs, fraternal, or other organizations, or participant sports fees\",\"Chicken\",\"Bananas\",\"Fish and seafood\",\"Fuel oil\",\"Fruits and vegetables\",\"Fuel oil and other fuels\",\"Frozen noncarbonated juices and drinks\",\"Fuels and utilities\",\"Other food at home\",\"Other fats and oils including peanut butter\",\"Other dairy and related products\",\"Communication\",\"Computer software and accessories\",\"Computers, peripherals, and smart home assistant devices\",\"Cosmetics, perfume, bath, nail preparations and implements\",\"College tuition and fees\",\"Dairy and related products\",\"Delivery services\",\"Distilled spirits at home\",\"Dishes and flatware\",\"Dental services\",\"Domestic services\",\"Coffee\",\"Housing at school, excluding board\",\"Ice cream and related products\",\"Housekeeping supplies\",\"Information technology, hardware and services\",\"Lettuce\",\"Legal services\",\"Living room, kitchen, and dining room furniture\",\"Limited service meals and snacks\",\"Recreation\",\"Public transportation\",\"Recorded music and music subscriptions\",\"Housing\",\"Indoor plants and flowers\",\"Leased cars and trucks\",\"Jewelry and watches\",\"Milk\",\"Men's footwear\",\"Medicinal drugs\",\"Lodging away from home\",\"Meats, poultry, fish, and eggs\",\"Motor fuel\",\"Miscellaneous personal services\",\"Miscellaneous household products\",\"Motor vehicle body work\",\"Motor vehicle fees\",\"Men's shirts and sweaters\",\"Men's suits, sport coats, and outerwear\",\"Men's pants and shorts\",\"Jewelry\",\"Household paper products\",\"Haircuts and other personal care services\",\"Unsampled recreation services\",\"Unsampled sporting goods\",\"Unsampled women's apparel\",\"Unsampled video and audio\",\"Unsampled tuition, other school fees, and childcare\",\"Unsampled tools, hardware, outdoor equipment and supplies\",\"Unsampled tobacco and smoking products\",\"Other fresh fruits\",\"Other fresh vegetables\",\"Energy services\",\"Eyeglasses and eye care\",\"Elementary and high school tuition and fees\",\"Hospital services\",\"Hospital and related services\",\"Beer, ale, and other malt beverages at home\",\"Bread\",\"Candy and chewing gum\",\"Care of invalids and elderly at home\",\"Canned fruits and vegetables\",\"Beef and veal\",\"Cheese and related products\",\"Bedroom furniture\",\"Poultry\",\"Pork\",\"Potatoes\",\"Pork chops\",\"Prescription drugs\",\"Recreational books\",\"Propane, kerosene, and firewood\",\"Postage and delivery services\",\"Postage\",\"Motor vehicle maintenance and servicing\",\"New vehicles\",\"Motor vehicle parts and equipment\",\"Motor vehicle repair\",\"Moving, storage, freight expense\",\"Music instruments and accessories\",\"New and used motor vehicles\",\"Women's apparel\",\"Women's dresses\",\"Women's footwear\",\"Women's outerwear\",\"Women's underwear, nightwear, sportswear, and accessories\",\"Women's suits and separates\",\"Other processed fruits and vegetables including dried\",\"Other pork including roasts, steaks, and ribs\",\"Personal care products\",\"Personal care services\",\"Pet services including veterinary\",\"Owners' equivalent rent of primary residence\",\"Outdoor equipment and supplies\",\"Other video equipment\",\"Owners' equivalent rent of residences\",\"Other sweets\",\"Other recreational goods\",\"Other miscellaneous foods\",\"Other meats\",\"Other lodging away from home including hotels and motels\",\"Other linens\",\"Other intercity transportation\",\"Electricity\",\"Fats and oils\",\"Floor coverings\",\"Food at employee sites and schools\",\"Footwear\",\"Fresh biscuits, rolls, muffins\",\"Fresh fish and seafood\",\"Fresh fruits\",\"Fresh fruits and vegetables\",\"Fresh vegetables\",\"Frozen and freeze dried prepared foods\",\"Watches\",\"Utility (piped) gas service\",\"Medical care services\",\"Medical care commodities\",\"Medical care\",\"Medical equipment and supplies\",\"Transportation\",\"Toys\",\"Tools, hardware, outdoor equipment and supplies\",\"Tools, hardware and supplies\",\"Tobacco products other than cigarettes\",\"Tobacco and smoking products\",\"Tires\",\"Tenants' and household insurance\",\"Household furnishings and operations\",\"Household energy\",\"Water and sewer and trash collection services\",\"Wine at home\",\"Women's and girls' apparel\",\"Window and floor coverings and other linens\",\"Water and sewerage maintenance\",\"Window coverings\",\"Wireless telephone services\",\"Sporting goods\",\"Spices, seasonings, condiments, sauces\",\"Technical and business school tuition and fees\",\"Telephone hardware, calculators, and other consumer information items\",\"Telephone services\",\"Cable and satellite television service\",\"Butter and margarine\",\"Breakfast cereal\",\"Cakes, cupcakes, and cookies\",\"Unsampled photography\",\"Unsampled public transportation\",\"Car and truck rental\",\"Carbonated drinks\",\"Other household equipment and furnishings\",\"Other uncooked poultry including turkey\",\"Other recreation services\",\"Other motor fuels\",\"Personal care\",\"Parking and other fees\",\"Education\",\"Education and communication\",\"Educational books and supplies\",\"Processed fish and seafood\",\"Private transportation\",\"Professional services\",\"Processed fruits and vegetables\",\"Pets, pet products and services\",\"Photographers and photo processing\",\"Photographic equipment and supplies\",\"Photography\",\"Televisions\",\"Sugar and sweets\",\"Tomatoes\",\"Soups\",\"Sports equipment\",\"Tuition, other school fees, and childcare\",\"Rent of primary residence\",\"Uncooked ground beef\",\"Uncooked beef roasts\",\"Uncooked beef steaks\",\"Ham\",\"Household cleaning products\",\"Health insurance\",\"Household operations\",\"Sports vehicles including bicycles\",\"State motor vehicle registration and license fees\",\"Sugar and sugar substitutes\",\"Food\",\"Food and beverages\",\"Flour and prepared flour mixes\",\"Unsampled service policies\",\"Unsampled recreational reading materials\",\"Video discs and other media, including rental of video\",\"Vehicle accessories other than tires\",\"Video and audio\",\"Men's and boys' apparel\",\"Men''s underwear, nightwear, swimwear, and accessories\",\"Men's apparel\",\"Other goods and services\",\"Pets and pet products\",\"Unsampled information and information processing\",\"Unsampled new and used motor vehicles\",\"Unsampled motor vehicle fees\",\"Unsampled men's apparel\",\"Unsampled items\",\"Snacks\",\"Repair of household items\",\"Shelter\",\"Sewing machines, fabric and supplies\",\"Services by other medical professionals\",\"Salad dressing\",\"Rice, pasta, cornmeal\",\"Internet services and electronic information providers\",\"Intracity transportation\",\"Land-line telephone services\",\"Laundry and dry cleaning services\",\"Juices and nonalcoholic drinks\",\"Nonalcoholic beverages and beverage materials\",\"Other bakery products\",\"Other appliances\",\"Nursing homes and adult day services\",\"Nonelectric cookware and tableware\",\"Nonprescription drugs\",\"Nonfrozen noncarbonated juices and drinks\",\"-\",\"Alcoholic beverages\",\"Alcoholic beverages at home\",\"All items\",\"Apparel\",\"Appliances\",\"Bakery products\",\"Beef and veal\",\"Beverage materials including coffee and tea\",\"Beverages\",\"Cereals and bakery products\",\"Cereals and cereal products\",\"Communication\",\"Dairy and related products\",\"Education\",\"Education and communication\",\"Energy services\",\"Fats and oils\",\"Fish and seafood\",\"Food\",\"Food and beverages\",\"Food at home\",\"Food away from home\",\"Footwear\",\"Fresh fruits\",\"Fresh fruits and vegetables\",\"Fresh vegetables\",\"Fruits and vegetables\",\"Fuel oil and other fuels\",\"Fuels and utilities\",\"Furniture and bedding\",\"Hospital and related services\",\"Household energy\",\"Household furnishings and operations\",\"Household operations\",\"Housekeeping supplies\",\"Housing\",\"Information and information processing\",\"Information technology, hardware and services\",\"Jewelry and watches\",\"Juices and nonalcoholic drinks\",\"Lodging away from home\",\"Meats\",\"Meats, poultry, and fish\",\"Meats, poultry, fish, and eggs\",\"Medical care\",\"Medical care commodities\",\"Medical care services\",\"Medicinal drugs\",\"Men's and boys' apparel\",\"Men's apparel\",\"Miscellaneous personal services\",\"Motor fuel\",\"Motor vehicle fees\",\"Motor vehicle maintenance and repair\",\"Motor vehicle parts and equipment\",\"New and used motor vehicles\",\"Nonalcoholic beverages and beverage materials\",\"Other food at home\",\"Other foods\",\"Other goods and services\",\"Other household equipment and furnishings\",\"Other recreation services\",\"Other recreational goods\",\"Owners' equivalent rent of residences\",\"Personal care\",\"Personal care products\",\"Personal care services\",\"Pets, pet products and services\",\"Photography\",\"Pork\",\"Postage and delivery services\",\"Poultry\",\"Private transportation\",\"Processed fruits and vegetables\",\"Professional services\",\"Public transportation\",\"Recreation\",\"Recreational reading materials\",\"Shelter\",\"Sporting goods\",\"Sugar and sweets\",\"Telephone services\",\"Tobacco and smoking products\",\"Tools, hardware, outdoor equipment and supplies\",\"Transportation\",\"Tuition, other school fees, and childcare\",\"Video and audio\",\"Water and sewer and trash collection services\",\"Window and floor coverings and other linens\",\"Women's and girls' apparel\",\"Women's apparel\"],\"marker\":{\"colors\":[\"#636efa\",\"#EF553B\",\"#00cc96\",\"#ab63fa\",\"#FFA15A\",\"#19d3f3\",\"#FF6692\",\"#B6E880\",\"#FF97FF\",\"#FECB52\",\"#636efa\",\"#EF553B\",\"#00cc96\",\"#ab63fa\",\"#FFA15A\",\"#19d3f3\",\"#FF6692\",\"#FECB52\",\"#B6E880\",\"#FF97FF\",\"#FECB52\",\"#636efa\",\"#EF553B\",\"#00cc96\",\"#ab63fa\",\"#FFA15A\",\"#19d3f3\",\"#FF6692\",\"#B6E880\",\"#FF97FF\",\"#636efa\",\"#FECB52\",\"#FECB52\",\"#636efa\",\"#00cc96\",\"#EF553B\",\"#FECB52\",\"#00cc96\",\"#EF553B\",\"#ab63fa\",\"#EF553B\",\"#FFA15A\",\"#19d3f3\",\"#FF6692\",\"#FFA15A\",\"#FF97FF\",\"#B6E880\",\"#FF97FF\",\"#FF97FF\",\"#FECB52\",\"#B6E880\",\"#636efa\",\"#636efa\",\"#EF553B\",\"#FFA15A\",\"#00cc96\",\"#ab63fa\",\"#B6E880\",\"#FFA15A\",\"#ab63fa\",\"#636efa\",\"#636efa\",\"#19d3f3\",\"#EF553B\",\"#FECB52\",\"#FF6692\",\"#EF553B\",\"#B6E880\",\"#FF97FF\",\"#FECB52\",\"#EF553B\",\"#636efa\",\"#EF553B\",\"#00cc96\",\"#ab63fa\",\"#ab63fa\",\"#EF553B\",\"#19d3f3\",\"#EF553B\",\"#FFA15A\",\"#19d3f3\",\"#FF6692\",\"#B6E880\",\"#FFA15A\",\"#19d3f3\",\"#FF6692\",\"#EF553B\",\"#00cc96\",\"#B6E880\",\"#FF97FF\",\"#FECB52\",\"#FF97FF\",\"#B6E880\",\"#00cc96\",\"#FECB52\",\"#EF553B\",\"#00cc96\",\"#FF6692\",\"#FF6692\",\"#FECB52\",\"#EF553B\",\"#FF6692\",\"#636efa\",\"#EF553B\",\"#EF553B\",\"#FECB52\",\"#00cc96\",\"#ab63fa\",\"#FFA15A\",\"#FECB52\",\"#19d3f3\",\"#19d3f3\",\"#19d3f3\",\"#FF6692\",\"#ab63fa\",\"#B6E880\",\"#636efa\",\"#FF97FF\",\"#FECB52\",\"#EF553B\",\"#19d3f3\",\"#636efa\",\"#FFA15A\",\"#EF553B\",\"#FF97FF\",\"#B6E880\",\"#B6E880\",\"#19d3f3\",\"#EF553B\",\"#00cc96\",\"#19d3f3\",\"#ab63fa\",\"#FFA15A\",\"#EF553B\",\"#00cc96\",\"#19d3f3\",\"#EF553B\",\"#FF97FF\",\"#FECB52\",\"#19d3f3\",\"#FF97FF\",\"#ab63fa\",\"#FF6692\",\"#FFA15A\",\"#FF6692\",\"#FF97FF\",\"#FFA15A\",\"#FFA15A\",\"#FF6692\",\"#FECB52\",\"#FFA15A\",\"#FFA15A\",\"#ab63fa\",\"#FECB52\",\"#EF553B\",\"#FECB52\",\"#FF6692\",\"#FECB52\",\"#FECB52\",\"#FECB52\",\"#00cc96\",\"#ab63fa\",\"#00cc96\",\"#00cc96\",\"#B6E880\",\"#B6E880\",\"#636efa\",\"#EF553B\",\"#EF553B\",\"#FFA15A\",\"#636efa\",\"#00cc96\",\"#19d3f3\",\"#FF6692\",\"#FF97FF\",\"#00cc96\",\"#FECB52\",\"#FF6692\",\"#FF97FF\",\"#B6E880\",\"#FECB52\",\"#ab63fa\",\"#636efa\",\"#EF553B\",\"#00cc96\",\"#EF553B\",\"#00cc96\",\"#FF6692\",\"#FECB52\",\"#ab63fa\",\"#ab63fa\",\"#00cc96\",\"#636efa\",\"#00cc96\",\"#ab63fa\",\"#00cc96\",\"#636efa\",\"#FFA15A\",\"#FFA15A\",\"#19d3f3\",\"#EF553B\",\"#FECB52\",\"#FF6692\",\"#FF6692\",\"#19d3f3\",\"#FECB52\",\"#00cc96\",\"#19d3f3\",\"#FF97FF\",\"#B6E880\",\"#636efa\",\"#00cc96\",\"#19d3f3\",\"#ab63fa\",\"#B6E880\",\"#EF553B\",\"#636efa\",\"#FF97FF\",\"#ab63fa\",\"#FECB52\",\"#00cc96\",\"#FF6692\",\"#FF97FF\",\"#00cc96\",\"#19d3f3\",\"#636efa\",\"#ab63fa\",\"#FFA15A\",\"#636efa\",\"#00cc96\",\"#00cc96\",\"#EF553B\",\"#636efa\",\"#FECB52\",\"#00cc96\",\"#00cc96\",\"#636efa\",\"#FECB52\",\"#FECB52\",\"#636efa\",\"#EF553B\",\"#FF6692\",\"#FF97FF\",\"#00cc96\",\"#FF97FF\",\"#EF553B\",\"#EF553B\",\"#ab63fa\",\"#ab63fa\",\"#ab63fa\",\"#ab63fa\",\"#ab63fa\",\"#00cc96\",\"#00cc96\",\"#FF97FF\",\"#636efa\",\"#FFA15A\",\"#19d3f3\",\"#00cc96\",\"#FF97FF\",\"#FFA15A\",\"#FFA15A\",\"#EF553B\",\"#19d3f3\",\"#636efa\",\"#FECB52\",\"#19d3f3\",\"#B6E880\",\"#00cc96\",\"#B6E880\",\"#ab63fa\",\"#FF6692\",\"#636efa\",\"#19d3f3\",\"#FECB52\",\"#00cc96\",\"#FFA15A\",\"#FECB52\",\"#ab63fa\",\"#B6E880\",\"#636efa\",\"#FF97FF\",\"#ab63fa\",\"#00cc96\",\"#B6E880\",\"#FECB52\",\"#FF97FF\",\"#EF553B\",\"#ab63fa\",\"#FF97FF\",\"#EF553B\",\"#FF6692\",\"#FF6692\",\"#FF97FF\",\"#636efa\",\"#ab63fa\",\"#19d3f3\",\"#00cc96\",\"#FECB52\",\"#FF97FF\",\"#ab63fa\",\"#ab63fa\",\"#19d3f3\",\"#FFA15A\",\"#FFA15A\",\"#FF97FF\",\"#FF97FF\",\"#EF553B\",\"#EF553B\",\"#00cc96\",\"#FECB52\",\"#636efa\",\"#636efa\",\"#636efa\",\"#19d3f3\",\"#EF553B\",\"#B6E880\",\"#FF6692\",\"#EF553B\",\"#EF553B\",\"#FF97FF\",\"#00cc96\",\"#FF6692\",\"#FF6692\",\"#FF97FF\",\"#EF553B\",\"#B6E880\",\"#00cc96\",\"#FFA15A\",\"#ab63fa\",\"#FECB52\",\"#B6E880\",\"#ab63fa\",\"#FF6692\",\"#FF97FF\",\"#FF6692\",\"#19d3f3\",\"#FECB52\",\"#636efa\",\"#ab63fa\",\"#636efa\",\"#00cc96\",\"#FF6692\",\"#B6E880\",\"#19d3f3\",\"#FECB52\",\"#ab63fa\",\"#636efa\",\"#FFA15A\",\"#19d3f3\",\"#FF6692\",\"#FF97FF\",\"#FF6692\",\"#00cc96\",\"#FFA15A\",\"#FF6692\",\"#636efa\",\"#ab63fa\",\"#B6E880\",\"#00cc96\",\"#EF553B\",\"#B6E880\",\"#B6E880\",\"#FECB52\",\"#ab63fa\",\"#FFA15A\",\"#19d3f3\",\"#FECB52\",\"#00cc96\",\"#B6E880\",\"#00cc96\",\"#636efa\",\"#FFA15A\",\"#EF553B\",\"#FF97FF\",\"#FFA15A\",\"#B6E880\",\"#FFA15A\",\"#636efa\",\"#FECB52\",\"#19d3f3\",\"#EF553B\",\"#19d3f3\",\"#FF97FF\",\"#EF553B\",\"#FECB52\"]},\"maxdepth\":1,\"name\":\"\",\"parents\":[\"Other recreation services\",\"Women's and girls' apparel\",\"Household furnishings and operations\",\"Motor fuel\",\"Household operations\",\"Water and sewer and trash collection services\",\"New and used motor vehicles\",\"Professional services\",\"Furniture and bedding\",\"Private transportation\",\"Recreation\",\"Personal care products\",\"Public transportation\",\"Beef and veal\",\"Recreational reading materials\",\"Beverage materials including coffee and tea\",\"Other food at home\",\"Private transportation\",\"Food away from home\",\"Appliances\",\"Meats, poultry, and fish\",\"Meats, poultry, fish, and eggs\",\"Video and audio\",\"Other foods\",\"Pork\",\"Cereals and bakery products\",\"Food and beverages\",\"Footwear\",\"Men's and boys' apparel\",\"Nonalcoholic beverages and beverage materials\",\"Other recreation services\",\"Miscellaneous personal services\",\"Miscellaneous personal services\",\"-\",\"Household furnishings and operations\",\"Fresh fruits\",\"Miscellaneous personal services\",\"All items\",\"Personal care products\",\"Other recreational goods\",\"Fresh fruits\",\"Tobacco and smoking products\",\"Tuition, other school fees, and childcare\",\"Other household equipment and furnishings\",\"Household operations\",\"Furniture and bedding\",\"Owners' equivalent rent of residences\",\"Appliances\",\"Communication\",\"Apparel\",\"Food away from home\",\"Food\",\"Food\",\"Food at home\",\"Cereals and bakery products\",\"Processed fruits and vegetables\",\"Alcoholic beverages\",\"Food away from home\",\"Beverages\",\"Alcoholic beverages\",\"Meats, poultry, fish, and eggs\",\"Other recreation services\",\"Poultry\",\"Fresh fruits\",\"Meats, poultry, and fish\",\"Fuel oil and other fuels\",\"Food at home\",\"Household energy\",\"Juices and nonalcoholic drinks\",\"Housing\",\"Food at home\",\"Fats and oils\",\"Dairy and related products\",\"Education and communication\",\"Information technology, hardware and services\",\"Information technology, hardware and services\",\"Personal care products\",\"Tuition, other school fees, and childcare\",\"Food at home\",\"Postage and delivery services\",\"Alcoholic beverages at home\",\"Other household equipment and furnishings\",\"Professional services\",\"Household operations\",\"Beverage materials including coffee and tea\",\"Lodging away from home\",\"Dairy and related products\",\"Household furnishings and operations\",\"Information and information processing\",\"Fresh vegetables\",\"Miscellaneous personal services\",\"Furniture and bedding\",\"Food away from home\",\"All items\",\"Transportation\",\"Video and audio\",\"All items\",\"Other household equipment and furnishings\",\"New and used motor vehicles\",\"Apparel\",\"Dairy and related products\",\"Footwear\",\"Medical care commodities\",\"Shelter\",\"Food at home\",\"Private transportation\",\"Personal care\",\"Housekeeping supplies\",\"Motor vehicle maintenance and repair\",\"Private transportation\",\"Men's apparel\",\"Men's apparel\",\"Men's apparel\",\"Jewelry and watches\",\"Housekeeping supplies\",\"Personal care services\",\"Other recreation services\",\"Sporting goods\",\"Women's apparel\",\"Video and audio\",\"Tuition, other school fees, and childcare\",\"Tools, hardware, outdoor equipment and supplies\",\"Tobacco and smoking products\",\"Fresh fruits\",\"Fresh vegetables\",\"Household energy\",\"Professional services\",\"Tuition, other school fees, and childcare\",\"Hospital and related services\",\"Medical care services\",\"Alcoholic beverages at home\",\"Bakery products\",\"Sugar and sweets\",\"Hospital and related services\",\"Processed fruits and vegetables\",\"Meats\",\"Dairy and related products\",\"Furniture and bedding\",\"Meats, poultry, and fish\",\"Meats\",\"Fresh vegetables\",\"Pork\",\"Medicinal drugs\",\"Recreational reading materials\",\"Fuel oil and other fuels\",\"Communication\",\"Postage and delivery services\",\"Motor vehicle maintenance and repair\",\"New and used motor vehicles\",\"Private transportation\",\"Motor vehicle maintenance and repair\",\"Household operations\",\"Other recreational goods\",\"Private transportation\",\"Women's and girls' apparel\",\"Women's apparel\",\"Footwear\",\"Women's apparel\",\"Women's apparel\",\"Women's apparel\",\"Processed fruits and vegetables\",\"Pork\",\"Personal care\",\"Personal care\",\"Pets, pet products and services\",\"Owners' equivalent rent of residences\",\"Tools, hardware, outdoor equipment and supplies\",\"Video and audio\",\"Shelter\",\"Sugar and sweets\",\"Recreation\",\"Other foods\",\"Meats\",\"Lodging away from home\",\"Window and floor coverings and other linens\",\"Public transportation\",\"Energy services\",\"Other food at home\",\"Window and floor coverings and other linens\",\"Food away from home\",\"Apparel\",\"Bakery products\",\"Fish and seafood\",\"Fresh fruits and vegetables\",\"Fruits and vegetables\",\"Fresh fruits and vegetables\",\"Other foods\",\"Jewelry and watches\",\"Energy services\",\"Medical care\",\"Medical care\",\"All items\",\"Medical care commodities\",\"All items\",\"Other recreational goods\",\"Household furnishings and operations\",\"Tools, hardware, outdoor equipment and supplies\",\"Tobacco and smoking products\",\"Other goods and services\",\"Motor vehicle parts and equipment\",\"Shelter\",\"Housing\",\"Fuels and utilities\",\"Fuels and utilities\",\"Alcoholic beverages at home\",\"Apparel\",\"Household furnishings and operations\",\"Water and sewer and trash collection services\",\"Window and floor coverings and other linens\",\"Telephone services\",\"Recreation\",\"Other foods\",\"Tuition, other school fees, and childcare\",\"Information technology, hardware and services\",\"Information and information processing\",\"Video and audio\",\"Fats and oils\",\"Cereals and cereal products\",\"Bakery products\",\"Photography\",\"Public transportation\",\"New and used motor vehicles\",\"Juices and nonalcoholic drinks\",\"Household furnishings and operations\",\"Poultry\",\"Recreation\",\"Motor fuel\",\"Other goods and services\",\"Motor vehicle fees\",\"Education and communication\",\"All items\",\"Education\",\"Fish and seafood\",\"Transportation\",\"Medical care services\",\"Fruits and vegetables\",\"Recreation\",\"Photography\",\"Photography\",\"Recreation\",\"Video and audio\",\"Other food at home\",\"Fresh vegetables\",\"Other foods\",\"Sporting goods\",\"Education\",\"Shelter\",\"Beef and veal\",\"Beef and veal\",\"Beef and veal\",\"Pork\",\"Housekeeping supplies\",\"Medical care services\",\"Household furnishings and operations\",\"Sporting goods\",\"Motor vehicle fees\",\"Sugar and sweets\",\"Food and beverages\",\"All items\",\"Cereals and cereal products\",\"Motor vehicle maintenance and repair\",\"Recreational reading materials\",\"Video and audio\",\"Motor vehicle parts and equipment\",\"Recreation\",\"Apparel\",\"Men's apparel\",\"Men's and boys' apparel\",\"All items\",\"Pets, pet products and services\",\"Information technology, hardware and services\",\"New and used motor vehicles\",\"Motor vehicle fees\",\"Men's apparel\",\"Miscellaneous personal services\",\"Other foods\",\"Household operations\",\"Housing\",\"Other recreational goods\",\"Professional services\",\"Fats and oils\",\"Cereals and cereal products\",\"Information technology, hardware and services\",\"Public transportation\",\"Telephone services\",\"Miscellaneous personal services\",\"Nonalcoholic beverages and beverage materials\",\"Food at home\",\"Bakery products\",\"Appliances\",\"Hospital and related services\",\"Other household equipment and furnishings\",\"Medicinal drugs\",\"Juices and nonalcoholic drinks\",\"\",\"\",\"\",\"\",\"\",\"\",\"\",\"\",\"\",\"\",\"\",\"\",\"\",\"\",\"\",\"\",\"\",\"\",\"\",\"\",\"\",\"\",\"\",\"\",\"\",\"\",\"\",\"\",\"\",\"\",\"\",\"\",\"\",\"\",\"\",\"\",\"\",\"\",\"\",\"\",\"\",\"\",\"\",\"\",\"\",\"\",\"\",\"\",\"\",\"\",\"\",\"\",\"\",\"\",\"\",\"\",\"\",\"\",\"\",\"\",\"\",\"\",\"\",\"\",\"\",\"\",\"\",\"\",\"\",\"\",\"\",\"\",\"\",\"\",\"\",\"\",\"\",\"\",\"\",\"\",\"\",\"\",\"\",\"\",\"\",\"\",\"\",\"\",\"\",\"\",\"\",\"\"],\"values\":[0.688,0.2,0.944,2.811,0.31,0.297,2.75,1.817,0.152,1.598,0.12,0.364,0.633,0.044,0.068,0.095,1.489,1.099,0.174,0.078,1.026,1.637,0.079,0.042,0.134,0.693,1.038,0.136,0.134,0.264,0.218,0.229,0.14,100.0,0.22,0.073,0.03,2.663,0.008,0.016,0.136,0.529,0.768,0.313,0.08,0.009,1.218,0.003,3.666,0.125,0.08,6.347,7.772,1.001,0.308,0.086,0.58,3.176,1.038,0.458,0.099,0.689,0.273,0.074,0.278,0.084,1.341,0.145,0.006,4.387,1.972,0.098,0.197,3.777,0.018,0.297,0.306,1.569,0.792,0.01,0.094,0.052,1.005,0.302,0.169,0.118,0.111,0.922,1.297,0.068,0.25,0.454,2.787,5.797,1.105,0.045,42.385,0.093,0.641,0.153,0.218,0.224,1.515,0.825,1.736,2.875,0.981,0.32,0.059,0.565,0.15,0.088,0.13,0.114,0.235,0.694,0.321,0.01,0.009,0.012,0.119,0.19,0.019,0.254,0.29,3.135,0.365,0.431,2.221,2.419,0.223,0.2,0.18,0.073,0.15,0.471,0.266,0.329,0.333,0.322,0.075,0.052,1.141,0.05,0.061,0.111,0.101,0.635,3.756,0.393,0.345,0.091,0.046,7.525,0.875,0.092,0.284,0.062,0.265,0.446,0.052,0.075,0.678,0.694,0.56,23.044,0.459,0.042,24.263,0.053,0.356,0.469,0.233,0.707,0.151,0.182,2.425,0.212,0.062,0.13,0.644,0.101,0.14,0.538,1.053,0.516,0.259,0.04,0.71,7.289,1.58,8.87,0.066,15.16,0.274,0.892,0.243,0.06,0.608,0.249,0.366,4.682,3.28,1.107,0.263,1.075,0.271,0.81,0.058,1.96,0.604,0.29,0.037,0.077,2.369,1.192,0.063,0.142,0.178,0.001,0.003,0.134,0.278,0.535,0.06,1.916,0.064,2.551,0.254,3.033,6.81,0.109,0.138,14.055,3.662,0.288,1.192,0.044,0.026,0.071,0.091,0.27,0.082,0.089,0.232,2.924,7.862,0.173,0.073,0.18,0.062,0.367,1.209,0.899,0.361,0.297,0.037,14.119,15.157,0.041,0.06,0.002,0.076,0.144,1.537,0.666,0.158,0.532,3.159,0.632,0.012,0.244,0.015,0.005,0.111,0.34,0.116,33.316,0.02,0.474,0.051,0.124,0.893,0.287,0.41,0.22,0.666,0.93,0.214,0.14,0.124,0.077,0.374,0.382,100.0,1.038,0.5800000000000001,100.00099999999999,2.663,0.22100000000000003,0.6930000000000001,0.47,0.264,1.038,1.001,0.307,3.777,0.792,3.033,6.8100000000000005,3.135,0.212,0.278,14.119,15.157,7.772,6.347,0.644,0.537,1.054,0.515,1.341,0.14500000000000002,4.387,0.9440000000000001,2.418,3.28,4.683,0.899,0.9219999999999999,42.385000000000005,3.6660000000000004,1.297,0.154,0.666,0.825,1.026,1.637,1.736,8.869,1.581,7.29,1.5150000000000001,0.666,0.531,0.98,2.875,0.566,1.099,0.393,7.5249999999999995,0.93,1.971,1.4889999999999999,3.1590000000000003,0.535,1.916,0.35600000000000004,24.262,2.3529999999999998,0.6779999999999999,0.694,1.1920000000000002,0.071,0.323,0.111,0.333,14.055,0.288,3.6609999999999996,1.105,5.795999999999999,0.12000000000000001,33.316,0.603,0.27,2.37,0.608,0.892,15.16,2.924,1.537,1.107,0.271,1.075,0.874],\"type\":\"treemap\"}],                        {\"template\":{\"data\":{\"histogram2dcontour\":[{\"type\":\"histogram2dcontour\",\"colorbar\":{\"outlinewidth\":0,\"ticks\":\"\"},\"colorscale\":[[0.0,\"#0d0887\"],[0.1111111111111111,\"#46039f\"],[0.2222222222222222,\"#7201a8\"],[0.3333333333333333,\"#9c179e\"],[0.4444444444444444,\"#bd3786\"],[0.5555555555555556,\"#d8576b\"],[0.6666666666666666,\"#ed7953\"],[0.7777777777777778,\"#fb9f3a\"],[0.8888888888888888,\"#fdca26\"],[1.0,\"#f0f921\"]]}],\"choropleth\":[{\"type\":\"choropleth\",\"colorbar\":{\"outlinewidth\":0,\"ticks\":\"\"}}],\"histogram2d\":[{\"type\":\"histogram2d\",\"colorbar\":{\"outlinewidth\":0,\"ticks\":\"\"},\"colorscale\":[[0.0,\"#0d0887\"],[0.1111111111111111,\"#46039f\"],[0.2222222222222222,\"#7201a8\"],[0.3333333333333333,\"#9c179e\"],[0.4444444444444444,\"#bd3786\"],[0.5555555555555556,\"#d8576b\"],[0.6666666666666666,\"#ed7953\"],[0.7777777777777778,\"#fb9f3a\"],[0.8888888888888888,\"#fdca26\"],[1.0,\"#f0f921\"]]}],\"heatmap\":[{\"type\":\"heatmap\",\"colorbar\":{\"outlinewidth\":0,\"ticks\":\"\"},\"colorscale\":[[0.0,\"#0d0887\"],[0.1111111111111111,\"#46039f\"],[0.2222222222222222,\"#7201a8\"],[0.3333333333333333,\"#9c179e\"],[0.4444444444444444,\"#bd3786\"],[0.5555555555555556,\"#d8576b\"],[0.6666666666666666,\"#ed7953\"],[0.7777777777777778,\"#fb9f3a\"],[0.8888888888888888,\"#fdca26\"],[1.0,\"#f0f921\"]]}],\"heatmapgl\":[{\"type\":\"heatmapgl\",\"colorbar\":{\"outlinewidth\":0,\"ticks\":\"\"},\"colorscale\":[[0.0,\"#0d0887\"],[0.1111111111111111,\"#46039f\"],[0.2222222222222222,\"#7201a8\"],[0.3333333333333333,\"#9c179e\"],[0.4444444444444444,\"#bd3786\"],[0.5555555555555556,\"#d8576b\"],[0.6666666666666666,\"#ed7953\"],[0.7777777777777778,\"#fb9f3a\"],[0.8888888888888888,\"#fdca26\"],[1.0,\"#f0f921\"]]}],\"contourcarpet\":[{\"type\":\"contourcarpet\",\"colorbar\":{\"outlinewidth\":0,\"ticks\":\"\"}}],\"contour\":[{\"type\":\"contour\",\"colorbar\":{\"outlinewidth\":0,\"ticks\":\"\"},\"colorscale\":[[0.0,\"#0d0887\"],[0.1111111111111111,\"#46039f\"],[0.2222222222222222,\"#7201a8\"],[0.3333333333333333,\"#9c179e\"],[0.4444444444444444,\"#bd3786\"],[0.5555555555555556,\"#d8576b\"],[0.6666666666666666,\"#ed7953\"],[0.7777777777777778,\"#fb9f3a\"],[0.8888888888888888,\"#fdca26\"],[1.0,\"#f0f921\"]]}],\"surface\":[{\"type\":\"surface\",\"colorbar\":{\"outlinewidth\":0,\"ticks\":\"\"},\"colorscale\":[[0.0,\"#0d0887\"],[0.1111111111111111,\"#46039f\"],[0.2222222222222222,\"#7201a8\"],[0.3333333333333333,\"#9c179e\"],[0.4444444444444444,\"#bd3786\"],[0.5555555555555556,\"#d8576b\"],[0.6666666666666666,\"#ed7953\"],[0.7777777777777778,\"#fb9f3a\"],[0.8888888888888888,\"#fdca26\"],[1.0,\"#f0f921\"]]}],\"mesh3d\":[{\"type\":\"mesh3d\",\"colorbar\":{\"outlinewidth\":0,\"ticks\":\"\"}}],\"scatter\":[{\"fillpattern\":{\"fillmode\":\"overlay\",\"size\":10,\"solidity\":0.2},\"type\":\"scatter\"}],\"parcoords\":[{\"type\":\"parcoords\",\"line\":{\"colorbar\":{\"outlinewidth\":0,\"ticks\":\"\"}}}],\"scatterpolargl\":[{\"type\":\"scatterpolargl\",\"marker\":{\"colorbar\":{\"outlinewidth\":0,\"ticks\":\"\"}}}],\"bar\":[{\"error_x\":{\"color\":\"#2a3f5f\"},\"error_y\":{\"color\":\"#2a3f5f\"},\"marker\":{\"line\":{\"color\":\"#E5ECF6\",\"width\":0.5},\"pattern\":{\"fillmode\":\"overlay\",\"size\":10,\"solidity\":0.2}},\"type\":\"bar\"}],\"scattergeo\":[{\"type\":\"scattergeo\",\"marker\":{\"colorbar\":{\"outlinewidth\":0,\"ticks\":\"\"}}}],\"scatterpolar\":[{\"type\":\"scatterpolar\",\"marker\":{\"colorbar\":{\"outlinewidth\":0,\"ticks\":\"\"}}}],\"histogram\":[{\"marker\":{\"pattern\":{\"fillmode\":\"overlay\",\"size\":10,\"solidity\":0.2}},\"type\":\"histogram\"}],\"scattergl\":[{\"type\":\"scattergl\",\"marker\":{\"colorbar\":{\"outlinewidth\":0,\"ticks\":\"\"}}}],\"scatter3d\":[{\"type\":\"scatter3d\",\"line\":{\"colorbar\":{\"outlinewidth\":0,\"ticks\":\"\"}},\"marker\":{\"colorbar\":{\"outlinewidth\":0,\"ticks\":\"\"}}}],\"scattermapbox\":[{\"type\":\"scattermapbox\",\"marker\":{\"colorbar\":{\"outlinewidth\":0,\"ticks\":\"\"}}}],\"scatterternary\":[{\"type\":\"scatterternary\",\"marker\":{\"colorbar\":{\"outlinewidth\":0,\"ticks\":\"\"}}}],\"scattercarpet\":[{\"type\":\"scattercarpet\",\"marker\":{\"colorbar\":{\"outlinewidth\":0,\"ticks\":\"\"}}}],\"carpet\":[{\"aaxis\":{\"endlinecolor\":\"#2a3f5f\",\"gridcolor\":\"white\",\"linecolor\":\"white\",\"minorgridcolor\":\"white\",\"startlinecolor\":\"#2a3f5f\"},\"baxis\":{\"endlinecolor\":\"#2a3f5f\",\"gridcolor\":\"white\",\"linecolor\":\"white\",\"minorgridcolor\":\"white\",\"startlinecolor\":\"#2a3f5f\"},\"type\":\"carpet\"}],\"table\":[{\"cells\":{\"fill\":{\"color\":\"#EBF0F8\"},\"line\":{\"color\":\"white\"}},\"header\":{\"fill\":{\"color\":\"#C8D4E3\"},\"line\":{\"color\":\"white\"}},\"type\":\"table\"}],\"barpolar\":[{\"marker\":{\"line\":{\"color\":\"#E5ECF6\",\"width\":0.5},\"pattern\":{\"fillmode\":\"overlay\",\"size\":10,\"solidity\":0.2}},\"type\":\"barpolar\"}],\"pie\":[{\"automargin\":true,\"type\":\"pie\"}]},\"layout\":{\"autotypenumbers\":\"strict\",\"colorway\":[\"#636efa\",\"#EF553B\",\"#00cc96\",\"#ab63fa\",\"#FFA15A\",\"#19d3f3\",\"#FF6692\",\"#B6E880\",\"#FF97FF\",\"#FECB52\"],\"font\":{\"color\":\"#2a3f5f\"},\"hovermode\":\"closest\",\"hoverlabel\":{\"align\":\"left\"},\"paper_bgcolor\":\"white\",\"plot_bgcolor\":\"#E5ECF6\",\"polar\":{\"bgcolor\":\"#E5ECF6\",\"angularaxis\":{\"gridcolor\":\"white\",\"linecolor\":\"white\",\"ticks\":\"\"},\"radialaxis\":{\"gridcolor\":\"white\",\"linecolor\":\"white\",\"ticks\":\"\"}},\"ternary\":{\"bgcolor\":\"#E5ECF6\",\"aaxis\":{\"gridcolor\":\"white\",\"linecolor\":\"white\",\"ticks\":\"\"},\"baxis\":{\"gridcolor\":\"white\",\"linecolor\":\"white\",\"ticks\":\"\"},\"caxis\":{\"gridcolor\":\"white\",\"linecolor\":\"white\",\"ticks\":\"\"}},\"coloraxis\":{\"colorbar\":{\"outlinewidth\":0,\"ticks\":\"\"}},\"colorscale\":{\"sequential\":[[0.0,\"#0d0887\"],[0.1111111111111111,\"#46039f\"],[0.2222222222222222,\"#7201a8\"],[0.3333333333333333,\"#9c179e\"],[0.4444444444444444,\"#bd3786\"],[0.5555555555555556,\"#d8576b\"],[0.6666666666666666,\"#ed7953\"],[0.7777777777777778,\"#fb9f3a\"],[0.8888888888888888,\"#fdca26\"],[1.0,\"#f0f921\"]],\"sequentialminus\":[[0.0,\"#0d0887\"],[0.1111111111111111,\"#46039f\"],[0.2222222222222222,\"#7201a8\"],[0.3333333333333333,\"#9c179e\"],[0.4444444444444444,\"#bd3786\"],[0.5555555555555556,\"#d8576b\"],[0.6666666666666666,\"#ed7953\"],[0.7777777777777778,\"#fb9f3a\"],[0.8888888888888888,\"#fdca26\"],[1.0,\"#f0f921\"]],\"diverging\":[[0,\"#8e0152\"],[0.1,\"#c51b7d\"],[0.2,\"#de77ae\"],[0.3,\"#f1b6da\"],[0.4,\"#fde0ef\"],[0.5,\"#f7f7f7\"],[0.6,\"#e6f5d0\"],[0.7,\"#b8e186\"],[0.8,\"#7fbc41\"],[0.9,\"#4d9221\"],[1,\"#276419\"]]},\"xaxis\":{\"gridcolor\":\"white\",\"linecolor\":\"white\",\"ticks\":\"\",\"title\":{\"standoff\":15},\"zerolinecolor\":\"white\",\"automargin\":true,\"zerolinewidth\":2},\"yaxis\":{\"gridcolor\":\"white\",\"linecolor\":\"white\",\"ticks\":\"\",\"title\":{\"standoff\":15},\"zerolinecolor\":\"white\",\"automargin\":true,\"zerolinewidth\":2},\"scene\":{\"xaxis\":{\"backgroundcolor\":\"#E5ECF6\",\"gridcolor\":\"white\",\"linecolor\":\"white\",\"showbackground\":true,\"ticks\":\"\",\"zerolinecolor\":\"white\",\"gridwidth\":2},\"yaxis\":{\"backgroundcolor\":\"#E5ECF6\",\"gridcolor\":\"white\",\"linecolor\":\"white\",\"showbackground\":true,\"ticks\":\"\",\"zerolinecolor\":\"white\",\"gridwidth\":2},\"zaxis\":{\"backgroundcolor\":\"#E5ECF6\",\"gridcolor\":\"white\",\"linecolor\":\"white\",\"showbackground\":true,\"ticks\":\"\",\"zerolinecolor\":\"white\",\"gridwidth\":2}},\"shapedefaults\":{\"line\":{\"color\":\"#2a3f5f\"}},\"annotationdefaults\":{\"arrowcolor\":\"#2a3f5f\",\"arrowhead\":0,\"arrowwidth\":1},\"geo\":{\"bgcolor\":\"white\",\"landcolor\":\"#E5ECF6\",\"subunitcolor\":\"white\",\"showland\":true,\"showlakes\":true,\"lakecolor\":\"white\"},\"title\":{\"x\":0.05},\"mapbox\":{\"style\":\"light\"}}},\"legend\":{\"tracegroupgap\":0},\"margin\":{\"t\":60}},                        {\"responsive\": true}                    ).then(function(){\n",
       "                            \n",
       "var gd = document.getElementById('0f16e986-f425-4d89-b3fe-dde8b90aa9f7');\n",
       "var x = new MutationObserver(function (mutations, observer) {{\n",
       "        var display = window.getComputedStyle(gd).display;\n",
       "        if (!display || display === 'none') {{\n",
       "            console.log([gd, 'removed!']);\n",
       "            Plotly.purge(gd);\n",
       "            observer.disconnect();\n",
       "        }}\n",
       "}});\n",
       "\n",
       "// Listen for the removal of the full notebook cells\n",
       "var notebookContainer = gd.closest('#notebook-container');\n",
       "if (notebookContainer) {{\n",
       "    x.observe(notebookContainer, {childList: true});\n",
       "}}\n",
       "\n",
       "// Listen for the clearing of the current output cell\n",
       "var outputEl = gd.closest('.output');\n",
       "if (outputEl) {{\n",
       "    x.observe(outputEl, {childList: true});\n",
       "}}\n",
       "\n",
       "                        })                };                });            </script>        </div>"
      ]
     },
     "metadata": {},
     "output_type": "display_data"
    }
   ],
   "source": [
    "\n",
    "fig3 = px.treemap(df, path=['Parent', 'Item and Group'], values='Weight', color='Parent')\n",
    "fig3.show()\n",
    "\n",
    "fig3 = px.treemap(df, path=['Parent', 'Item and Group'], values='Weight', color='Parent', maxdepth=1)\n",
    "fig3.show()\n"
   ]
  },
  {
   "cell_type": "code",
   "execution_count": 126,
   "metadata": {
    "scrolled": false
   },
   "outputs": [
    {
     "data": {
      "application/vnd.plotly.v1+json": {
       "config": {
        "plotlyServerURL": "https://plot.ly"
       },
       "data": [
        {
         "link": {
          "source": [
           0,
           1,
           2,
           3,
           4,
           5,
           5,
           5,
           4,
           9,
           9,
           9,
           9,
           3,
           14,
           15,
           16,
           17,
           17,
           17,
           17,
           16,
           22,
           22,
           22,
           22,
           16,
           15,
           28,
           28,
           15,
           31,
           31,
           14,
           3,
           35,
           35,
           35,
           35,
           3,
           40,
           41,
           42,
           42,
           42,
           42,
           41,
           47,
           47,
           47,
           47,
           40,
           52,
           52,
           52,
           3,
           56,
           57,
           57,
           57,
           56,
           61,
           61,
           3,
           64,
           65,
           65,
           65,
           64,
           69,
           69,
           69,
           64,
           73,
           73,
           73,
           73,
           73,
           73,
           2,
           80,
           80,
           80,
           80,
           80,
           1,
           86,
           87,
           88,
           88,
           88,
           87,
           0,
           93,
           94,
           94,
           96,
           96,
           94,
           99,
           99,
           94,
           93,
           103,
           104,
           105,
           105,
           104,
           108,
           108,
           103,
           111,
           111,
           93,
           114,
           115,
           115,
           115,
           114,
           119,
           119,
           119,
           119,
           114,
           124,
           124,
           124,
           114,
           128,
           128,
           128,
           128,
           114,
           133,
           133,
           133,
           114,
           137,
           137,
           137,
           114,
           141,
           141,
           141,
           141,
           141,
           0,
           147,
           148,
           149,
           149,
           149,
           149,
           149,
           148,
           147,
           156,
           157,
           157,
           157,
           157,
           157,
           156,
           147,
           164,
           164,
           164,
           147,
           147,
           169,
           169,
           0,
           172,
           173,
           174,
           174,
           174,
           174,
           174,
           173,
           180,
           180,
           173,
           183,
           183,
           173,
           186,
           186,
           186,
           186,
           173,
           173,
           192,
           192,
           192,
           172,
           196,
           196,
           196,
           196,
           0,
           201,
           202,
           203,
           203,
           202,
           201,
           207,
           208,
           208,
           208,
           208,
           207,
           213,
           213,
           213,
           207,
           0,
           218,
           219,
           219,
           219,
           219,
           219,
           219,
           219,
           218,
           227,
           227,
           218,
           230,
           230,
           230,
           218,
           234,
           234,
           234,
           218,
           238,
           238,
           238,
           238,
           218,
           243,
           243,
           243,
           243,
           218,
           248,
           248,
           248,
           0,
           252,
           253,
           253,
           255,
           255,
           255,
           255,
           255,
           252,
           261,
           262,
           262,
           261,
           265,
           266,
           266,
           265,
           269,
           269,
           269,
           269,
           269,
           0,
           275,
           276,
           276,
           276,
           275,
           280,
           281,
           281,
           281,
           280,
           285,
           280,
           287,
           287,
           287,
           287,
           287,
           287
          ],
          "target": [
           1,
           2,
           3,
           4,
           5,
           6,
           7,
           8,
           9,
           10,
           11,
           12,
           13,
           14,
           15,
           16,
           17,
           18,
           19,
           20,
           21,
           22,
           23,
           24,
           25,
           26,
           27,
           28,
           29,
           30,
           31,
           32,
           33,
           34,
           35,
           36,
           37,
           38,
           39,
           40,
           41,
           42,
           43,
           44,
           45,
           46,
           47,
           48,
           49,
           50,
           51,
           52,
           53,
           54,
           55,
           56,
           57,
           58,
           59,
           60,
           61,
           62,
           63,
           64,
           65,
           66,
           67,
           68,
           69,
           70,
           71,
           72,
           73,
           74,
           75,
           76,
           77,
           78,
           79,
           80,
           81,
           82,
           83,
           84,
           85,
           86,
           87,
           88,
           89,
           90,
           91,
           92,
           93,
           94,
           95,
           96,
           97,
           98,
           99,
           100,
           101,
           102,
           103,
           104,
           105,
           106,
           107,
           108,
           109,
           110,
           111,
           112,
           113,
           114,
           115,
           116,
           117,
           118,
           119,
           120,
           121,
           122,
           123,
           124,
           125,
           126,
           127,
           128,
           129,
           130,
           131,
           132,
           133,
           134,
           135,
           136,
           137,
           138,
           139,
           140,
           141,
           142,
           143,
           144,
           145,
           146,
           147,
           148,
           149,
           150,
           151,
           152,
           153,
           154,
           155,
           156,
           157,
           158,
           159,
           160,
           161,
           162,
           163,
           164,
           165,
           166,
           167,
           168,
           169,
           170,
           171,
           172,
           173,
           174,
           175,
           176,
           177,
           178,
           179,
           180,
           181,
           182,
           183,
           184,
           185,
           186,
           187,
           188,
           189,
           190,
           191,
           192,
           193,
           194,
           195,
           196,
           197,
           198,
           199,
           200,
           201,
           202,
           203,
           204,
           205,
           206,
           207,
           208,
           209,
           210,
           211,
           212,
           213,
           214,
           215,
           216,
           217,
           218,
           219,
           220,
           221,
           222,
           223,
           224,
           225,
           226,
           227,
           228,
           229,
           230,
           231,
           232,
           233,
           234,
           235,
           236,
           237,
           238,
           239,
           240,
           241,
           242,
           243,
           244,
           245,
           246,
           247,
           248,
           249,
           250,
           251,
           252,
           253,
           254,
           255,
           256,
           257,
           258,
           259,
           260,
           261,
           262,
           263,
           264,
           265,
           266,
           267,
           268,
           269,
           270,
           271,
           272,
           273,
           274,
           275,
           276,
           277,
           278,
           279,
           280,
           281,
           282,
           283,
           284,
           285,
           286,
           287,
           288,
           289,
           290,
           291,
           292,
           293
          ],
          "value": [
           15.157,
           14.119,
           7.772,
           1.001,
           0.308,
           0.041,
           0.142,
           0.124,
           0.693,
           0.2,
           0.101,
           0.178,
           0.214,
           1.736,
           1.637,
           1.026,
           0.471,
           0.173,
           0.073,
           0.18,
           0.044,
           0.322,
           0.134,
           0.062,
           0.052,
           0.075,
           0.233,
           0.333,
           0.273,
           0.06,
           0.278,
           0.14,
           0.138,
           0.099,
           0.792,
           0.218,
           0.266,
           0.111,
           0.197,
           1.341,
           1.053,
           0.538,
           0.073,
           0.074,
           0.136,
           0.254,
           0.516,
           0.075,
           0.068,
           0.082,
           0.29,
           0.288,
           0.15,
           0.086,
           0.052,
           0.93,
           0.666,
           0.278,
           0.006,
           0.382,
           0.264,
           0.169,
           0.095,
           1.972,
           0.27,
           0.037,
           0.18,
           0.053,
           0.212,
           0.063,
           0.051,
           0.098,
           1.489,
           0.089,
           0.259,
           0.34,
           0.29,
           0.042,
           0.469,
           6.347,
           3.176,
           2.787,
           0.13,
           0.08,
           0.174,
           1.038,
           1.038,
           0.58,
           0.223,
           0.094,
           0.263,
           0.458,
           42.385,
           33.316,
           7.862,
           0.825,
           0.118,
           0.707,
           24.263,
           23.044,
           1.218,
           0.366,
           4.387,
           3.28,
           0.145,
           0.084,
           0.061,
           3.135,
           2.425,
           0.71,
           1.107,
           0.81,
           0.297,
           4.682,
           0.271,
           0.062,
           0.058,
           0.151,
           0.944,
           0.329,
           0.454,
           0.152,
           0.009,
           0.22,
           0.078,
           0.14,
           0.003,
           0.535,
           0.313,
           0.093,
           0.052,
           0.077,
           0.892,
           0.243,
           0.459,
           0.19,
           0.922,
           0.367,
           0.235,
           0.32,
           0.899,
           0.302,
           0.31,
           0.091,
           0.116,
           0.08,
           2.663,
           0.666,
           0.532,
           0.088,
           0.158,
           0.15,
           0.13,
           0.005,
           0.134,
           1.075,
           0.875,
           0.062,
           0.092,
           0.446,
           0.265,
           0.009,
           0.2,
           0.644,
           0.224,
           0.136,
           0.284,
           0.125,
           0.153,
           0.04,
           0.114,
           15.16,
           14.055,
           7.525,
           3.756,
           2.75,
           0.641,
           0.134,
           0.244,
           2.875,
           2.811,
           0.064,
           0.393,
           0.249,
           0.144,
           1.099,
           0.059,
           0.635,
           0.345,
           0.06,
           1.598,
           0.565,
           0.297,
           0.254,
           0.015,
           1.105,
           0.633,
           0.182,
           0.287,
           0.003,
           8.87,
           1.58,
           1.515,
           1.141,
           0.374,
           0.066,
           7.289,
           3.662,
           1.817,
           1.005,
           0.365,
           0.474,
           2.419,
           2.221,
           0.124,
           0.073,
           1.209,
           5.797,
           1.537,
           0.091,
           1.192,
           0.042,
           0.076,
           0.079,
           0.045,
           0.012,
           1.192,
           0.632,
           0.56,
           0.604,
           0.361,
           0.232,
           0.01,
           0.071,
           0.026,
           0.044,
           0.001,
           0.356,
           0.274,
           0.02,
           0.046,
           0.016,
           1.916,
           0.689,
           0.688,
           0.218,
           0.321,
           0.12,
           0.068,
           0.05,
           0.002,
           6.81,
           3.033,
           0.109,
           2.924,
           1.569,
           0.431,
           0.768,
           0.037,
           0.119,
           3.777,
           0.111,
           0.101,
           0.01,
           3.666,
           2.369,
           1.96,
           0.41,
           1.297,
           0.297,
           0.018,
           0.893,
           0.077,
           0.012,
           3.159,
           0.608,
           0.529,
           0.06,
           0.019,
           2.551,
           0.678,
           0.364,
           0.306,
           0.008,
           0.694,
           0.694,
           0.981,
           0.25,
           0.14,
           0.22,
           0.03,
           0.229,
           0.111
          ]
         },
         "node": {
          "color": "blue",
          "hovertemplate": "%{label} is %{value} of spending",
          "label": [
           "All items",
           "Food and beverages",
           "Food",
           "Food at home",
           "Cereals and bakery products",
           "Cereals and cereal products",
           "Flour and prepared flour mixes",
           "Breakfast cereal",
           "Rice, pasta, cornmeal",
           "Bakery products",
           "Bread",
           "Fresh biscuits, rolls, muffins",
           "Cakes, cupcakes, and cookies",
           "Other bakery products",
           "Meats, poultry, fish, and eggs",
           "Meats, poultry, and fish",
           "Meats",
           "Beef and veal",
           "Uncooked ground beef",
           "Uncooked beef roasts",
           "Uncooked beef steaks",
           "Uncooked other beef and veal",
           "Pork",
           "Bacon, breakfast sausage, and related products",
           "Ham",
           "Pork chops",
           "Other pork including roasts, steaks, and ribs",
           "Other meats",
           "Poultry",
           "Chicken",
           "Other uncooked poultry including turkey",
           "Fish and seafood",
           "Fresh fish and seafood",
           "Processed fish and seafood",
           "Eggs",
           "Dairy and related products",
           "Milk",
           "Cheese and related products",
           "Ice cream and related products",
           "Other dairy and related products",
           "Fruits and vegetables",
           "Fresh fruits and vegetables",
           "Fresh fruits",
           "Apples",
           "Bananas",
           "Citrus fruits",
           "Other fresh fruits",
           "Fresh vegetables",
           "Potatoes",
           "Lettuce",
           "Tomatoes",
           "Other fresh vegetables",
           "Processed fruits and vegetables",
           "Canned fruits and vegetables",
           "Frozen fruits and vegetables",
           "Other processed fruits and vegetables including dried",
           "Nonalcoholic beverages and beverage materials",
           "Juices and nonalcoholic drinks",
           "Carbonated drinks",
           "Frozen noncarbonated juices and drinks",
           "Nonfrozen noncarbonated juices and drinks",
           "Beverage materials including coffee and tea",
           "Coffee",
           "Other beverage materials including tea",
           "Other food at home",
           "Sugar and sweets",
           "Sugar and sugar substitutes",
           "Candy and chewing gum",
           "Other sweets",
           "Fats and oils",
           "Butter and margarine",
           "Salad dressing",
           "Other fats and oils including peanut butter",
           "Other foods",
           "Soups",
           "Frozen and freeze dried prepared foods",
           "Snacks",
           "Spices, seasonings, condiments, sauces",
           "Baby food",
           "Other miscellaneous foods",
           "Food away from home",
           "Full service meals and snacks",
           "Limited service meals and snacks",
           "Food at employee sites and schools",
           "Food from vending machines and mobile vendors",
           "Other food away from home",
           "Beverages",
           "Alcoholic beverages",
           "Alcoholic beverages at home",
           "Beer, ale, and other malt beverages at home",
           "Distilled spirits at home",
           "Wine at home",
           "Alcoholic beverages away from home",
           "Housing",
           "Shelter",
           "Rent of primary residence",
           "Lodging away from home",
           "Housing at school, excluding board",
           "Other lodging away from home including hotels and motels",
           "Owners' equivalent rent of residences",
           "Owners' equivalent rent of primary residence",
           "Unsampled owners' equivalent rent of secondary residences",
           "Tenants' and household insurance",
           "Fuels and utilities",
           "Household energy",
           "Fuel oil and other fuels",
           "Fuel oil",
           "Propane, kerosene, and firewood",
           "Energy services",
           "Electricity",
           "Utility (piped) gas service",
           "Water and sewer and trash collection services",
           "Water and sewerage maintenance",
           "Garbage and trash collection",
           "Household furnishings and operations",
           "Window and floor coverings and other linens",
           "Floor coverings",
           "Window coverings",
           "Other linens",
           "Furniture and bedding",
           "Bedroom furniture",
           "Living room, kitchen, and dining room furniture",
           "Other furniture",
           "Unsampled furniture",
           "Appliances",
           "Major appliances",
           "Other appliances",
           "Unsampled appliances",
           "Other household equipment and furnishings",
           "Clocks, lamps, and decorator items",
           "Indoor plants and flowers",
           "Dishes and flatware",
           "Nonelectric cookware and tableware",
           "Tools, hardware, outdoor equipment and supplies",
           "Tools, hardware and supplies",
           "Outdoor equipment and supplies",
           "Unsampled tools, hardware, outdoor equipment and supplies",
           "Housekeeping supplies",
           "Household cleaning products",
           "Household paper products",
           "Miscellaneous household products",
           "Household operations",
           "Domestic services",
           "Gardening and lawncare services",
           "Moving, storage, freight expense",
           "Repair of household items",
           "Unsampled household operations",
           "Apparel",
           "Men's and boys' apparel",
           "Men's apparel",
           "Men's suits, sport coats, and outerwear",
           "Men''s underwear, nightwear, swimwear, and accessories",
           "Men's shirts and sweaters",
           "Men's pants and shorts",
           "Unsampled men's apparel",
           "Boys' apparel",
           "Women's and girls' apparel",
           "Women's apparel",
           "Women's outerwear",
           "Women's dresses",
           "Women's suits and separates",
           "Women's underwear, nightwear, sportswear, and accessories",
           "Unsampled women's apparel",
           "Girls' apparel",
           "Footwear",
           "Men's footwear",
           "Boys' and girls' footwear",
           "Women's footwear",
           "Infants' and toddlers' apparel",
           "Jewelry and watches",
           "Watches",
           "Jewelry",
           "Transportation",
           "Private transportation",
           "New and used motor vehicles",
           "New vehicles",
           "Used cars and trucks",
           "Leased cars and trucks",
           "Car and truck rental",
           "Unsampled new and used motor vehicles",
           "Motor fuel",
           "Gasoline (all types)",
           "Other motor fuels",
           "Motor vehicle parts and equipment",
           "Tires",
           "Vehicle accessories other than tires",
           "Motor vehicle maintenance and repair",
           "Motor vehicle body work",
           "Motor vehicle maintenance and servicing",
           "Motor vehicle repair",
           "Unsampled service policies",
           "Motor vehicle insurance",
           "Motor vehicle fees",
           "State motor vehicle registration and license fees",
           "Parking and other fees",
           "Unsampled motor vehicle fees",
           "Public transportation",
           "Airline fares",
           "Other intercity transportation",
           "Intracity transportation",
           "Unsampled public transportation",
           "Medical care",
           "Medical care commodities",
           "Medicinal drugs",
           "Prescription drugs",
           "Nonprescription drugs",
           "Medical equipment and supplies",
           "Medical care services",
           "Professional services",
           "Physicians' services",
           "Dental services",
           "Eyeglasses and eye care",
           "Services by other medical professionals",
           "Hospital and related services",
           "Hospital services",
           "Nursing homes and adult day services",
           "Care of invalids and elderly at home",
           "Health insurance",
           "Recreation",
           "Video and audio",
           "Televisions",
           "Cable and satellite television service",
           "Other video equipment",
           "Video discs and other media, including rental of video",
           "Audio equipment",
           "Recorded music and music subscriptions",
           "Unsampled video and audio",
           "Pets, pet products and services",
           "Pets and pet products",
           "Pet services including veterinary",
           "Sporting goods",
           "Sports vehicles including bicycles",
           "Sports equipment",
           "Unsampled sporting goods",
           "Photography",
           "Photographic equipment and supplies",
           "Photographers and photo processing",
           "Unsampled photography",
           "Other recreational goods",
           "Toys",
           "Sewing machines, fabric and supplies",
           "Music instruments and accessories",
           "Unsampled recreation commodities",
           "Other recreation services",
           "Club membership for shopping clubs, fraternal, or other organizations, or participant sports fees",
           "Admissions",
           "Fees for lessons or instructions",
           "Unsampled recreation services",
           "Recreational reading materials",
           "Newspapers and magazines",
           "Recreational books",
           "Unsampled recreational reading materials",
           "Education and communication",
           "Education",
           "Educational books and supplies",
           "Tuition, other school fees, and childcare",
           "College tuition and fees",
           "Elementary and high school tuition and fees",
           "Child care and nursery school",
           "Technical and business school tuition and fees",
           "Unsampled tuition, other school fees, and childcare",
           "Communication",
           "Postage and delivery services",
           "Postage",
           "Delivery services",
           "Information and information processing",
           "Telephone services",
           "Wireless telephone services",
           "Land-line telephone services",
           "Information technology, hardware and services",
           "Computers, peripherals, and smart home assistant devices",
           "Computer software and accessories",
           "Internet services and electronic information providers",
           "Telephone hardware, calculators, and other consumer information items",
           "Unsampled information and information processing",
           "Other goods and services",
           "Tobacco and smoking products",
           "Cigarettes",
           "Tobacco products other than cigarettes",
           "Unsampled tobacco and smoking products",
           "Personal care",
           "Personal care products",
           "Hair, dental, shaving, and miscellaneous personal care products",
           "Cosmetics, perfume, bath, nail preparations and implements",
           "Unsampled personal care products",
           "Personal care services",
           "Haircuts and other personal care services",
           "Miscellaneous personal services",
           "Legal services",
           "Funeral expenses",
           "Laundry and dry cleaning services",
           "Apparel services other than laundry and dry cleaning",
           "Financial services",
           "Unsampled items"
          ],
          "line": {
           "color": "black",
           "width": 0.5
          },
          "pad": 15,
          "thickness": 20
         },
         "type": "sankey",
         "valueformat": ".1f",
         "valuesuffix": "%"
        }
       ],
       "layout": {
        "template": {
         "data": {
          "bar": [
           {
            "error_x": {
             "color": "#2a3f5f"
            },
            "error_y": {
             "color": "#2a3f5f"
            },
            "marker": {
             "line": {
              "color": "#E5ECF6",
              "width": 0.5
             },
             "pattern": {
              "fillmode": "overlay",
              "size": 10,
              "solidity": 0.2
             }
            },
            "type": "bar"
           }
          ],
          "barpolar": [
           {
            "marker": {
             "line": {
              "color": "#E5ECF6",
              "width": 0.5
             },
             "pattern": {
              "fillmode": "overlay",
              "size": 10,
              "solidity": 0.2
             }
            },
            "type": "barpolar"
           }
          ],
          "carpet": [
           {
            "aaxis": {
             "endlinecolor": "#2a3f5f",
             "gridcolor": "white",
             "linecolor": "white",
             "minorgridcolor": "white",
             "startlinecolor": "#2a3f5f"
            },
            "baxis": {
             "endlinecolor": "#2a3f5f",
             "gridcolor": "white",
             "linecolor": "white",
             "minorgridcolor": "white",
             "startlinecolor": "#2a3f5f"
            },
            "type": "carpet"
           }
          ],
          "choropleth": [
           {
            "colorbar": {
             "outlinewidth": 0,
             "ticks": ""
            },
            "type": "choropleth"
           }
          ],
          "contour": [
           {
            "colorbar": {
             "outlinewidth": 0,
             "ticks": ""
            },
            "colorscale": [
             [
              0,
              "#0d0887"
             ],
             [
              0.1111111111111111,
              "#46039f"
             ],
             [
              0.2222222222222222,
              "#7201a8"
             ],
             [
              0.3333333333333333,
              "#9c179e"
             ],
             [
              0.4444444444444444,
              "#bd3786"
             ],
             [
              0.5555555555555556,
              "#d8576b"
             ],
             [
              0.6666666666666666,
              "#ed7953"
             ],
             [
              0.7777777777777778,
              "#fb9f3a"
             ],
             [
              0.8888888888888888,
              "#fdca26"
             ],
             [
              1,
              "#f0f921"
             ]
            ],
            "type": "contour"
           }
          ],
          "contourcarpet": [
           {
            "colorbar": {
             "outlinewidth": 0,
             "ticks": ""
            },
            "type": "contourcarpet"
           }
          ],
          "heatmap": [
           {
            "colorbar": {
             "outlinewidth": 0,
             "ticks": ""
            },
            "colorscale": [
             [
              0,
              "#0d0887"
             ],
             [
              0.1111111111111111,
              "#46039f"
             ],
             [
              0.2222222222222222,
              "#7201a8"
             ],
             [
              0.3333333333333333,
              "#9c179e"
             ],
             [
              0.4444444444444444,
              "#bd3786"
             ],
             [
              0.5555555555555556,
              "#d8576b"
             ],
             [
              0.6666666666666666,
              "#ed7953"
             ],
             [
              0.7777777777777778,
              "#fb9f3a"
             ],
             [
              0.8888888888888888,
              "#fdca26"
             ],
             [
              1,
              "#f0f921"
             ]
            ],
            "type": "heatmap"
           }
          ],
          "heatmapgl": [
           {
            "colorbar": {
             "outlinewidth": 0,
             "ticks": ""
            },
            "colorscale": [
             [
              0,
              "#0d0887"
             ],
             [
              0.1111111111111111,
              "#46039f"
             ],
             [
              0.2222222222222222,
              "#7201a8"
             ],
             [
              0.3333333333333333,
              "#9c179e"
             ],
             [
              0.4444444444444444,
              "#bd3786"
             ],
             [
              0.5555555555555556,
              "#d8576b"
             ],
             [
              0.6666666666666666,
              "#ed7953"
             ],
             [
              0.7777777777777778,
              "#fb9f3a"
             ],
             [
              0.8888888888888888,
              "#fdca26"
             ],
             [
              1,
              "#f0f921"
             ]
            ],
            "type": "heatmapgl"
           }
          ],
          "histogram": [
           {
            "marker": {
             "pattern": {
              "fillmode": "overlay",
              "size": 10,
              "solidity": 0.2
             }
            },
            "type": "histogram"
           }
          ],
          "histogram2d": [
           {
            "colorbar": {
             "outlinewidth": 0,
             "ticks": ""
            },
            "colorscale": [
             [
              0,
              "#0d0887"
             ],
             [
              0.1111111111111111,
              "#46039f"
             ],
             [
              0.2222222222222222,
              "#7201a8"
             ],
             [
              0.3333333333333333,
              "#9c179e"
             ],
             [
              0.4444444444444444,
              "#bd3786"
             ],
             [
              0.5555555555555556,
              "#d8576b"
             ],
             [
              0.6666666666666666,
              "#ed7953"
             ],
             [
              0.7777777777777778,
              "#fb9f3a"
             ],
             [
              0.8888888888888888,
              "#fdca26"
             ],
             [
              1,
              "#f0f921"
             ]
            ],
            "type": "histogram2d"
           }
          ],
          "histogram2dcontour": [
           {
            "colorbar": {
             "outlinewidth": 0,
             "ticks": ""
            },
            "colorscale": [
             [
              0,
              "#0d0887"
             ],
             [
              0.1111111111111111,
              "#46039f"
             ],
             [
              0.2222222222222222,
              "#7201a8"
             ],
             [
              0.3333333333333333,
              "#9c179e"
             ],
             [
              0.4444444444444444,
              "#bd3786"
             ],
             [
              0.5555555555555556,
              "#d8576b"
             ],
             [
              0.6666666666666666,
              "#ed7953"
             ],
             [
              0.7777777777777778,
              "#fb9f3a"
             ],
             [
              0.8888888888888888,
              "#fdca26"
             ],
             [
              1,
              "#f0f921"
             ]
            ],
            "type": "histogram2dcontour"
           }
          ],
          "mesh3d": [
           {
            "colorbar": {
             "outlinewidth": 0,
             "ticks": ""
            },
            "type": "mesh3d"
           }
          ],
          "parcoords": [
           {
            "line": {
             "colorbar": {
              "outlinewidth": 0,
              "ticks": ""
             }
            },
            "type": "parcoords"
           }
          ],
          "pie": [
           {
            "automargin": true,
            "type": "pie"
           }
          ],
          "scatter": [
           {
            "fillpattern": {
             "fillmode": "overlay",
             "size": 10,
             "solidity": 0.2
            },
            "type": "scatter"
           }
          ],
          "scatter3d": [
           {
            "line": {
             "colorbar": {
              "outlinewidth": 0,
              "ticks": ""
             }
            },
            "marker": {
             "colorbar": {
              "outlinewidth": 0,
              "ticks": ""
             }
            },
            "type": "scatter3d"
           }
          ],
          "scattercarpet": [
           {
            "marker": {
             "colorbar": {
              "outlinewidth": 0,
              "ticks": ""
             }
            },
            "type": "scattercarpet"
           }
          ],
          "scattergeo": [
           {
            "marker": {
             "colorbar": {
              "outlinewidth": 0,
              "ticks": ""
             }
            },
            "type": "scattergeo"
           }
          ],
          "scattergl": [
           {
            "marker": {
             "colorbar": {
              "outlinewidth": 0,
              "ticks": ""
             }
            },
            "type": "scattergl"
           }
          ],
          "scattermapbox": [
           {
            "marker": {
             "colorbar": {
              "outlinewidth": 0,
              "ticks": ""
             }
            },
            "type": "scattermapbox"
           }
          ],
          "scatterpolar": [
           {
            "marker": {
             "colorbar": {
              "outlinewidth": 0,
              "ticks": ""
             }
            },
            "type": "scatterpolar"
           }
          ],
          "scatterpolargl": [
           {
            "marker": {
             "colorbar": {
              "outlinewidth": 0,
              "ticks": ""
             }
            },
            "type": "scatterpolargl"
           }
          ],
          "scatterternary": [
           {
            "marker": {
             "colorbar": {
              "outlinewidth": 0,
              "ticks": ""
             }
            },
            "type": "scatterternary"
           }
          ],
          "surface": [
           {
            "colorbar": {
             "outlinewidth": 0,
             "ticks": ""
            },
            "colorscale": [
             [
              0,
              "#0d0887"
             ],
             [
              0.1111111111111111,
              "#46039f"
             ],
             [
              0.2222222222222222,
              "#7201a8"
             ],
             [
              0.3333333333333333,
              "#9c179e"
             ],
             [
              0.4444444444444444,
              "#bd3786"
             ],
             [
              0.5555555555555556,
              "#d8576b"
             ],
             [
              0.6666666666666666,
              "#ed7953"
             ],
             [
              0.7777777777777778,
              "#fb9f3a"
             ],
             [
              0.8888888888888888,
              "#fdca26"
             ],
             [
              1,
              "#f0f921"
             ]
            ],
            "type": "surface"
           }
          ],
          "table": [
           {
            "cells": {
             "fill": {
              "color": "#EBF0F8"
             },
             "line": {
              "color": "white"
             }
            },
            "header": {
             "fill": {
              "color": "#C8D4E3"
             },
             "line": {
              "color": "white"
             }
            },
            "type": "table"
           }
          ]
         },
         "layout": {
          "annotationdefaults": {
           "arrowcolor": "#2a3f5f",
           "arrowhead": 0,
           "arrowwidth": 1
          },
          "autotypenumbers": "strict",
          "coloraxis": {
           "colorbar": {
            "outlinewidth": 0,
            "ticks": ""
           }
          },
          "colorscale": {
           "diverging": [
            [
             0,
             "#8e0152"
            ],
            [
             0.1,
             "#c51b7d"
            ],
            [
             0.2,
             "#de77ae"
            ],
            [
             0.3,
             "#f1b6da"
            ],
            [
             0.4,
             "#fde0ef"
            ],
            [
             0.5,
             "#f7f7f7"
            ],
            [
             0.6,
             "#e6f5d0"
            ],
            [
             0.7,
             "#b8e186"
            ],
            [
             0.8,
             "#7fbc41"
            ],
            [
             0.9,
             "#4d9221"
            ],
            [
             1,
             "#276419"
            ]
           ],
           "sequential": [
            [
             0,
             "#0d0887"
            ],
            [
             0.1111111111111111,
             "#46039f"
            ],
            [
             0.2222222222222222,
             "#7201a8"
            ],
            [
             0.3333333333333333,
             "#9c179e"
            ],
            [
             0.4444444444444444,
             "#bd3786"
            ],
            [
             0.5555555555555556,
             "#d8576b"
            ],
            [
             0.6666666666666666,
             "#ed7953"
            ],
            [
             0.7777777777777778,
             "#fb9f3a"
            ],
            [
             0.8888888888888888,
             "#fdca26"
            ],
            [
             1,
             "#f0f921"
            ]
           ],
           "sequentialminus": [
            [
             0,
             "#0d0887"
            ],
            [
             0.1111111111111111,
             "#46039f"
            ],
            [
             0.2222222222222222,
             "#7201a8"
            ],
            [
             0.3333333333333333,
             "#9c179e"
            ],
            [
             0.4444444444444444,
             "#bd3786"
            ],
            [
             0.5555555555555556,
             "#d8576b"
            ],
            [
             0.6666666666666666,
             "#ed7953"
            ],
            [
             0.7777777777777778,
             "#fb9f3a"
            ],
            [
             0.8888888888888888,
             "#fdca26"
            ],
            [
             1,
             "#f0f921"
            ]
           ]
          },
          "colorway": [
           "#636efa",
           "#EF553B",
           "#00cc96",
           "#ab63fa",
           "#FFA15A",
           "#19d3f3",
           "#FF6692",
           "#B6E880",
           "#FF97FF",
           "#FECB52"
          ],
          "font": {
           "color": "#2a3f5f"
          },
          "geo": {
           "bgcolor": "white",
           "lakecolor": "white",
           "landcolor": "#E5ECF6",
           "showlakes": true,
           "showland": true,
           "subunitcolor": "white"
          },
          "hoverlabel": {
           "align": "left"
          },
          "hovermode": "closest",
          "mapbox": {
           "style": "light"
          },
          "paper_bgcolor": "white",
          "plot_bgcolor": "#E5ECF6",
          "polar": {
           "angularaxis": {
            "gridcolor": "white",
            "linecolor": "white",
            "ticks": ""
           },
           "bgcolor": "#E5ECF6",
           "radialaxis": {
            "gridcolor": "white",
            "linecolor": "white",
            "ticks": ""
           }
          },
          "scene": {
           "xaxis": {
            "backgroundcolor": "#E5ECF6",
            "gridcolor": "white",
            "gridwidth": 2,
            "linecolor": "white",
            "showbackground": true,
            "ticks": "",
            "zerolinecolor": "white"
           },
           "yaxis": {
            "backgroundcolor": "#E5ECF6",
            "gridcolor": "white",
            "gridwidth": 2,
            "linecolor": "white",
            "showbackground": true,
            "ticks": "",
            "zerolinecolor": "white"
           },
           "zaxis": {
            "backgroundcolor": "#E5ECF6",
            "gridcolor": "white",
            "gridwidth": 2,
            "linecolor": "white",
            "showbackground": true,
            "ticks": "",
            "zerolinecolor": "white"
           }
          },
          "shapedefaults": {
           "line": {
            "color": "#2a3f5f"
           }
          },
          "ternary": {
           "aaxis": {
            "gridcolor": "white",
            "linecolor": "white",
            "ticks": ""
           },
           "baxis": {
            "gridcolor": "white",
            "linecolor": "white",
            "ticks": ""
           },
           "bgcolor": "#E5ECF6",
           "caxis": {
            "gridcolor": "white",
            "linecolor": "white",
            "ticks": ""
           }
          },
          "title": {
           "x": 0.05
          },
          "xaxis": {
           "automargin": true,
           "gridcolor": "white",
           "linecolor": "white",
           "ticks": "",
           "title": {
            "standoff": 15
           },
           "zerolinecolor": "white",
           "zerolinewidth": 2
          },
          "yaxis": {
           "automargin": true,
           "gridcolor": "white",
           "linecolor": "white",
           "ticks": "",
           "title": {
            "standoff": 15
           },
           "zerolinecolor": "white",
           "zerolinewidth": 2
          }
         }
        }
       }
      },
      "text/html": [
       "<div>                            <div id=\"bce358f8-350f-46a5-ade6-ffa261325a26\" class=\"plotly-graph-div\" style=\"height:525px; width:100%;\"></div>            <script type=\"text/javascript\">                require([\"plotly\"], function(Plotly) {                    window.PLOTLYENV=window.PLOTLYENV || {};                                    if (document.getElementById(\"bce358f8-350f-46a5-ade6-ffa261325a26\")) {                    Plotly.newPlot(                        \"bce358f8-350f-46a5-ade6-ffa261325a26\",                        [{\"link\":{\"source\":[0,1,2,3,4,5,5,5,4,9,9,9,9,3,14,15,16,17,17,17,17,16,22,22,22,22,16,15,28,28,15,31,31,14,3,35,35,35,35,3,40,41,42,42,42,42,41,47,47,47,47,40,52,52,52,3,56,57,57,57,56,61,61,3,64,65,65,65,64,69,69,69,64,73,73,73,73,73,73,2,80,80,80,80,80,1,86,87,88,88,88,87,0,93,94,94,96,96,94,99,99,94,93,103,104,105,105,104,108,108,103,111,111,93,114,115,115,115,114,119,119,119,119,114,124,124,124,114,128,128,128,128,114,133,133,133,114,137,137,137,114,141,141,141,141,141,0,147,148,149,149,149,149,149,148,147,156,157,157,157,157,157,156,147,164,164,164,147,147,169,169,0,172,173,174,174,174,174,174,173,180,180,173,183,183,173,186,186,186,186,173,173,192,192,192,172,196,196,196,196,0,201,202,203,203,202,201,207,208,208,208,208,207,213,213,213,207,0,218,219,219,219,219,219,219,219,218,227,227,218,230,230,230,218,234,234,234,218,238,238,238,238,218,243,243,243,243,218,248,248,248,0,252,253,253,255,255,255,255,255,252,261,262,262,261,265,266,266,265,269,269,269,269,269,0,275,276,276,276,275,280,281,281,281,280,285,280,287,287,287,287,287,287],\"target\":[1,2,3,4,5,6,7,8,9,10,11,12,13,14,15,16,17,18,19,20,21,22,23,24,25,26,27,28,29,30,31,32,33,34,35,36,37,38,39,40,41,42,43,44,45,46,47,48,49,50,51,52,53,54,55,56,57,58,59,60,61,62,63,64,65,66,67,68,69,70,71,72,73,74,75,76,77,78,79,80,81,82,83,84,85,86,87,88,89,90,91,92,93,94,95,96,97,98,99,100,101,102,103,104,105,106,107,108,109,110,111,112,113,114,115,116,117,118,119,120,121,122,123,124,125,126,127,128,129,130,131,132,133,134,135,136,137,138,139,140,141,142,143,144,145,146,147,148,149,150,151,152,153,154,155,156,157,158,159,160,161,162,163,164,165,166,167,168,169,170,171,172,173,174,175,176,177,178,179,180,181,182,183,184,185,186,187,188,189,190,191,192,193,194,195,196,197,198,199,200,201,202,203,204,205,206,207,208,209,210,211,212,213,214,215,216,217,218,219,220,221,222,223,224,225,226,227,228,229,230,231,232,233,234,235,236,237,238,239,240,241,242,243,244,245,246,247,248,249,250,251,252,253,254,255,256,257,258,259,260,261,262,263,264,265,266,267,268,269,270,271,272,273,274,275,276,277,278,279,280,281,282,283,284,285,286,287,288,289,290,291,292,293],\"value\":[15.157,14.119,7.772,1.001,0.308,0.041,0.142,0.124,0.693,0.2,0.101,0.178,0.214,1.736,1.637,1.026,0.471,0.173,0.073,0.18,0.044,0.322,0.134,0.062,0.052,0.075,0.233,0.333,0.273,0.06,0.278,0.14,0.138,0.099,0.792,0.218,0.266,0.111,0.197,1.341,1.053,0.538,0.073,0.074,0.136,0.254,0.516,0.075,0.068,0.082,0.29,0.288,0.15,0.086,0.052,0.93,0.666,0.278,0.006,0.382,0.264,0.169,0.095,1.972,0.27,0.037,0.18,0.053,0.212,0.063,0.051,0.098,1.489,0.089,0.259,0.34,0.29,0.042,0.469,6.347,3.176,2.787,0.13,0.08,0.174,1.038,1.038,0.58,0.223,0.094,0.263,0.458,42.385,33.316,7.862,0.825,0.118,0.707,24.263,23.044,1.218,0.366,4.387,3.28,0.145,0.084,0.061,3.135,2.425,0.71,1.107,0.81,0.297,4.682,0.271,0.062,0.058,0.151,0.944,0.329,0.454,0.152,0.009,0.22,0.078,0.14,0.003,0.535,0.313,0.093,0.052,0.077,0.892,0.243,0.459,0.19,0.922,0.367,0.235,0.32,0.899,0.302,0.31,0.091,0.116,0.08,2.663,0.666,0.532,0.088,0.158,0.15,0.13,0.005,0.134,1.075,0.875,0.062,0.092,0.446,0.265,0.009,0.2,0.644,0.224,0.136,0.284,0.125,0.153,0.04,0.114,15.16,14.055,7.525,3.756,2.75,0.641,0.134,0.244,2.875,2.811,0.064,0.393,0.249,0.144,1.099,0.059,0.635,0.345,0.06,1.598,0.565,0.297,0.254,0.015,1.105,0.633,0.182,0.287,0.003,8.87,1.58,1.515,1.141,0.374,0.066,7.289,3.662,1.817,1.005,0.365,0.474,2.419,2.221,0.124,0.073,1.209,5.797,1.537,0.091,1.192,0.042,0.076,0.079,0.045,0.012,1.192,0.632,0.56,0.604,0.361,0.232,0.01,0.071,0.026,0.044,0.001,0.356,0.274,0.02,0.046,0.016,1.916,0.689,0.688,0.218,0.321,0.12,0.068,0.05,0.002,6.81,3.033,0.109,2.924,1.569,0.431,0.768,0.037,0.119,3.777,0.111,0.101,0.01,3.666,2.369,1.96,0.41,1.297,0.297,0.018,0.893,0.077,0.012,3.159,0.608,0.529,0.06,0.019,2.551,0.678,0.364,0.306,0.008,0.694,0.694,0.981,0.25,0.14,0.22,0.03,0.229,0.111]},\"node\":{\"color\":\"blue\",\"hovertemplate\":\"%{label} is %{value} of spending\",\"label\":[\"All items\",\"Food and beverages\",\"Food\",\"Food at home\",\"Cereals and bakery products\",\"Cereals and cereal products\",\"Flour and prepared flour mixes\",\"Breakfast cereal\",\"Rice, pasta, cornmeal\",\"Bakery products\",\"Bread\",\"Fresh biscuits, rolls, muffins\",\"Cakes, cupcakes, and cookies\",\"Other bakery products\",\"Meats, poultry, fish, and eggs\",\"Meats, poultry, and fish\",\"Meats\",\"Beef and veal\",\"Uncooked ground beef\",\"Uncooked beef roasts\",\"Uncooked beef steaks\",\"Uncooked other beef and veal\",\"Pork\",\"Bacon, breakfast sausage, and related products\",\"Ham\",\"Pork chops\",\"Other pork including roasts, steaks, and ribs\",\"Other meats\",\"Poultry\",\"Chicken\",\"Other uncooked poultry including turkey\",\"Fish and seafood\",\"Fresh fish and seafood\",\"Processed fish and seafood\",\"Eggs\",\"Dairy and related products\",\"Milk\",\"Cheese and related products\",\"Ice cream and related products\",\"Other dairy and related products\",\"Fruits and vegetables\",\"Fresh fruits and vegetables\",\"Fresh fruits\",\"Apples\",\"Bananas\",\"Citrus fruits\",\"Other fresh fruits\",\"Fresh vegetables\",\"Potatoes\",\"Lettuce\",\"Tomatoes\",\"Other fresh vegetables\",\"Processed fruits and vegetables\",\"Canned fruits and vegetables\",\"Frozen fruits and vegetables\",\"Other processed fruits and vegetables including dried\",\"Nonalcoholic beverages and beverage materials\",\"Juices and nonalcoholic drinks\",\"Carbonated drinks\",\"Frozen noncarbonated juices and drinks\",\"Nonfrozen noncarbonated juices and drinks\",\"Beverage materials including coffee and tea\",\"Coffee\",\"Other beverage materials including tea\",\"Other food at home\",\"Sugar and sweets\",\"Sugar and sugar substitutes\",\"Candy and chewing gum\",\"Other sweets\",\"Fats and oils\",\"Butter and margarine\",\"Salad dressing\",\"Other fats and oils including peanut butter\",\"Other foods\",\"Soups\",\"Frozen and freeze dried prepared foods\",\"Snacks\",\"Spices, seasonings, condiments, sauces\",\"Baby food\",\"Other miscellaneous foods\",\"Food away from home\",\"Full service meals and snacks\",\"Limited service meals and snacks\",\"Food at employee sites and schools\",\"Food from vending machines and mobile vendors\",\"Other food away from home\",\"Beverages\",\"Alcoholic beverages\",\"Alcoholic beverages at home\",\"Beer, ale, and other malt beverages at home\",\"Distilled spirits at home\",\"Wine at home\",\"Alcoholic beverages away from home\",\"Housing\",\"Shelter\",\"Rent of primary residence\",\"Lodging away from home\",\"Housing at school, excluding board\",\"Other lodging away from home including hotels and motels\",\"Owners' equivalent rent of residences\",\"Owners' equivalent rent of primary residence\",\"Unsampled owners' equivalent rent of secondary residences\",\"Tenants' and household insurance\",\"Fuels and utilities\",\"Household energy\",\"Fuel oil and other fuels\",\"Fuel oil\",\"Propane, kerosene, and firewood\",\"Energy services\",\"Electricity\",\"Utility (piped) gas service\",\"Water and sewer and trash collection services\",\"Water and sewerage maintenance\",\"Garbage and trash collection\",\"Household furnishings and operations\",\"Window and floor coverings and other linens\",\"Floor coverings\",\"Window coverings\",\"Other linens\",\"Furniture and bedding\",\"Bedroom furniture\",\"Living room, kitchen, and dining room furniture\",\"Other furniture\",\"Unsampled furniture\",\"Appliances\",\"Major appliances\",\"Other appliances\",\"Unsampled appliances\",\"Other household equipment and furnishings\",\"Clocks, lamps, and decorator items\",\"Indoor plants and flowers\",\"Dishes and flatware\",\"Nonelectric cookware and tableware\",\"Tools, hardware, outdoor equipment and supplies\",\"Tools, hardware and supplies\",\"Outdoor equipment and supplies\",\"Unsampled tools, hardware, outdoor equipment and supplies\",\"Housekeeping supplies\",\"Household cleaning products\",\"Household paper products\",\"Miscellaneous household products\",\"Household operations\",\"Domestic services\",\"Gardening and lawncare services\",\"Moving, storage, freight expense\",\"Repair of household items\",\"Unsampled household operations\",\"Apparel\",\"Men's and boys' apparel\",\"Men's apparel\",\"Men's suits, sport coats, and outerwear\",\"Men''s underwear, nightwear, swimwear, and accessories\",\"Men's shirts and sweaters\",\"Men's pants and shorts\",\"Unsampled men's apparel\",\"Boys' apparel\",\"Women's and girls' apparel\",\"Women's apparel\",\"Women's outerwear\",\"Women's dresses\",\"Women's suits and separates\",\"Women's underwear, nightwear, sportswear, and accessories\",\"Unsampled women's apparel\",\"Girls' apparel\",\"Footwear\",\"Men's footwear\",\"Boys' and girls' footwear\",\"Women's footwear\",\"Infants' and toddlers' apparel\",\"Jewelry and watches\",\"Watches\",\"Jewelry\",\"Transportation\",\"Private transportation\",\"New and used motor vehicles\",\"New vehicles\",\"Used cars and trucks\",\"Leased cars and trucks\",\"Car and truck rental\",\"Unsampled new and used motor vehicles\",\"Motor fuel\",\"Gasoline (all types)\",\"Other motor fuels\",\"Motor vehicle parts and equipment\",\"Tires\",\"Vehicle accessories other than tires\",\"Motor vehicle maintenance and repair\",\"Motor vehicle body work\",\"Motor vehicle maintenance and servicing\",\"Motor vehicle repair\",\"Unsampled service policies\",\"Motor vehicle insurance\",\"Motor vehicle fees\",\"State motor vehicle registration and license fees\",\"Parking and other fees\",\"Unsampled motor vehicle fees\",\"Public transportation\",\"Airline fares\",\"Other intercity transportation\",\"Intracity transportation\",\"Unsampled public transportation\",\"Medical care\",\"Medical care commodities\",\"Medicinal drugs\",\"Prescription drugs\",\"Nonprescription drugs\",\"Medical equipment and supplies\",\"Medical care services\",\"Professional services\",\"Physicians' services\",\"Dental services\",\"Eyeglasses and eye care\",\"Services by other medical professionals\",\"Hospital and related services\",\"Hospital services\",\"Nursing homes and adult day services\",\"Care of invalids and elderly at home\",\"Health insurance\",\"Recreation\",\"Video and audio\",\"Televisions\",\"Cable and satellite television service\",\"Other video equipment\",\"Video discs and other media, including rental of video\",\"Audio equipment\",\"Recorded music and music subscriptions\",\"Unsampled video and audio\",\"Pets, pet products and services\",\"Pets and pet products\",\"Pet services including veterinary\",\"Sporting goods\",\"Sports vehicles including bicycles\",\"Sports equipment\",\"Unsampled sporting goods\",\"Photography\",\"Photographic equipment and supplies\",\"Photographers and photo processing\",\"Unsampled photography\",\"Other recreational goods\",\"Toys\",\"Sewing machines, fabric and supplies\",\"Music instruments and accessories\",\"Unsampled recreation commodities\",\"Other recreation services\",\"Club membership for shopping clubs, fraternal, or other organizations, or participant sports fees\",\"Admissions\",\"Fees for lessons or instructions\",\"Unsampled recreation services\",\"Recreational reading materials\",\"Newspapers and magazines\",\"Recreational books\",\"Unsampled recreational reading materials\",\"Education and communication\",\"Education\",\"Educational books and supplies\",\"Tuition, other school fees, and childcare\",\"College tuition and fees\",\"Elementary and high school tuition and fees\",\"Child care and nursery school\",\"Technical and business school tuition and fees\",\"Unsampled tuition, other school fees, and childcare\",\"Communication\",\"Postage and delivery services\",\"Postage\",\"Delivery services\",\"Information and information processing\",\"Telephone services\",\"Wireless telephone services\",\"Land-line telephone services\",\"Information technology, hardware and services\",\"Computers, peripherals, and smart home assistant devices\",\"Computer software and accessories\",\"Internet services and electronic information providers\",\"Telephone hardware, calculators, and other consumer information items\",\"Unsampled information and information processing\",\"Other goods and services\",\"Tobacco and smoking products\",\"Cigarettes\",\"Tobacco products other than cigarettes\",\"Unsampled tobacco and smoking products\",\"Personal care\",\"Personal care products\",\"Hair, dental, shaving, and miscellaneous personal care products\",\"Cosmetics, perfume, bath, nail preparations and implements\",\"Unsampled personal care products\",\"Personal care services\",\"Haircuts and other personal care services\",\"Miscellaneous personal services\",\"Legal services\",\"Funeral expenses\",\"Laundry and dry cleaning services\",\"Apparel services other than laundry and dry cleaning\",\"Financial services\",\"Unsampled items\"],\"line\":{\"color\":\"black\",\"width\":0.5},\"pad\":15,\"thickness\":20},\"valueformat\":\".1f\",\"valuesuffix\":\"%\",\"type\":\"sankey\"}],                        {\"template\":{\"data\":{\"histogram2dcontour\":[{\"type\":\"histogram2dcontour\",\"colorbar\":{\"outlinewidth\":0,\"ticks\":\"\"},\"colorscale\":[[0.0,\"#0d0887\"],[0.1111111111111111,\"#46039f\"],[0.2222222222222222,\"#7201a8\"],[0.3333333333333333,\"#9c179e\"],[0.4444444444444444,\"#bd3786\"],[0.5555555555555556,\"#d8576b\"],[0.6666666666666666,\"#ed7953\"],[0.7777777777777778,\"#fb9f3a\"],[0.8888888888888888,\"#fdca26\"],[1.0,\"#f0f921\"]]}],\"choropleth\":[{\"type\":\"choropleth\",\"colorbar\":{\"outlinewidth\":0,\"ticks\":\"\"}}],\"histogram2d\":[{\"type\":\"histogram2d\",\"colorbar\":{\"outlinewidth\":0,\"ticks\":\"\"},\"colorscale\":[[0.0,\"#0d0887\"],[0.1111111111111111,\"#46039f\"],[0.2222222222222222,\"#7201a8\"],[0.3333333333333333,\"#9c179e\"],[0.4444444444444444,\"#bd3786\"],[0.5555555555555556,\"#d8576b\"],[0.6666666666666666,\"#ed7953\"],[0.7777777777777778,\"#fb9f3a\"],[0.8888888888888888,\"#fdca26\"],[1.0,\"#f0f921\"]]}],\"heatmap\":[{\"type\":\"heatmap\",\"colorbar\":{\"outlinewidth\":0,\"ticks\":\"\"},\"colorscale\":[[0.0,\"#0d0887\"],[0.1111111111111111,\"#46039f\"],[0.2222222222222222,\"#7201a8\"],[0.3333333333333333,\"#9c179e\"],[0.4444444444444444,\"#bd3786\"],[0.5555555555555556,\"#d8576b\"],[0.6666666666666666,\"#ed7953\"],[0.7777777777777778,\"#fb9f3a\"],[0.8888888888888888,\"#fdca26\"],[1.0,\"#f0f921\"]]}],\"heatmapgl\":[{\"type\":\"heatmapgl\",\"colorbar\":{\"outlinewidth\":0,\"ticks\":\"\"},\"colorscale\":[[0.0,\"#0d0887\"],[0.1111111111111111,\"#46039f\"],[0.2222222222222222,\"#7201a8\"],[0.3333333333333333,\"#9c179e\"],[0.4444444444444444,\"#bd3786\"],[0.5555555555555556,\"#d8576b\"],[0.6666666666666666,\"#ed7953\"],[0.7777777777777778,\"#fb9f3a\"],[0.8888888888888888,\"#fdca26\"],[1.0,\"#f0f921\"]]}],\"contourcarpet\":[{\"type\":\"contourcarpet\",\"colorbar\":{\"outlinewidth\":0,\"ticks\":\"\"}}],\"contour\":[{\"type\":\"contour\",\"colorbar\":{\"outlinewidth\":0,\"ticks\":\"\"},\"colorscale\":[[0.0,\"#0d0887\"],[0.1111111111111111,\"#46039f\"],[0.2222222222222222,\"#7201a8\"],[0.3333333333333333,\"#9c179e\"],[0.4444444444444444,\"#bd3786\"],[0.5555555555555556,\"#d8576b\"],[0.6666666666666666,\"#ed7953\"],[0.7777777777777778,\"#fb9f3a\"],[0.8888888888888888,\"#fdca26\"],[1.0,\"#f0f921\"]]}],\"surface\":[{\"type\":\"surface\",\"colorbar\":{\"outlinewidth\":0,\"ticks\":\"\"},\"colorscale\":[[0.0,\"#0d0887\"],[0.1111111111111111,\"#46039f\"],[0.2222222222222222,\"#7201a8\"],[0.3333333333333333,\"#9c179e\"],[0.4444444444444444,\"#bd3786\"],[0.5555555555555556,\"#d8576b\"],[0.6666666666666666,\"#ed7953\"],[0.7777777777777778,\"#fb9f3a\"],[0.8888888888888888,\"#fdca26\"],[1.0,\"#f0f921\"]]}],\"mesh3d\":[{\"type\":\"mesh3d\",\"colorbar\":{\"outlinewidth\":0,\"ticks\":\"\"}}],\"scatter\":[{\"fillpattern\":{\"fillmode\":\"overlay\",\"size\":10,\"solidity\":0.2},\"type\":\"scatter\"}],\"parcoords\":[{\"type\":\"parcoords\",\"line\":{\"colorbar\":{\"outlinewidth\":0,\"ticks\":\"\"}}}],\"scatterpolargl\":[{\"type\":\"scatterpolargl\",\"marker\":{\"colorbar\":{\"outlinewidth\":0,\"ticks\":\"\"}}}],\"bar\":[{\"error_x\":{\"color\":\"#2a3f5f\"},\"error_y\":{\"color\":\"#2a3f5f\"},\"marker\":{\"line\":{\"color\":\"#E5ECF6\",\"width\":0.5},\"pattern\":{\"fillmode\":\"overlay\",\"size\":10,\"solidity\":0.2}},\"type\":\"bar\"}],\"scattergeo\":[{\"type\":\"scattergeo\",\"marker\":{\"colorbar\":{\"outlinewidth\":0,\"ticks\":\"\"}}}],\"scatterpolar\":[{\"type\":\"scatterpolar\",\"marker\":{\"colorbar\":{\"outlinewidth\":0,\"ticks\":\"\"}}}],\"histogram\":[{\"marker\":{\"pattern\":{\"fillmode\":\"overlay\",\"size\":10,\"solidity\":0.2}},\"type\":\"histogram\"}],\"scattergl\":[{\"type\":\"scattergl\",\"marker\":{\"colorbar\":{\"outlinewidth\":0,\"ticks\":\"\"}}}],\"scatter3d\":[{\"type\":\"scatter3d\",\"line\":{\"colorbar\":{\"outlinewidth\":0,\"ticks\":\"\"}},\"marker\":{\"colorbar\":{\"outlinewidth\":0,\"ticks\":\"\"}}}],\"scattermapbox\":[{\"type\":\"scattermapbox\",\"marker\":{\"colorbar\":{\"outlinewidth\":0,\"ticks\":\"\"}}}],\"scatterternary\":[{\"type\":\"scatterternary\",\"marker\":{\"colorbar\":{\"outlinewidth\":0,\"ticks\":\"\"}}}],\"scattercarpet\":[{\"type\":\"scattercarpet\",\"marker\":{\"colorbar\":{\"outlinewidth\":0,\"ticks\":\"\"}}}],\"carpet\":[{\"aaxis\":{\"endlinecolor\":\"#2a3f5f\",\"gridcolor\":\"white\",\"linecolor\":\"white\",\"minorgridcolor\":\"white\",\"startlinecolor\":\"#2a3f5f\"},\"baxis\":{\"endlinecolor\":\"#2a3f5f\",\"gridcolor\":\"white\",\"linecolor\":\"white\",\"minorgridcolor\":\"white\",\"startlinecolor\":\"#2a3f5f\"},\"type\":\"carpet\"}],\"table\":[{\"cells\":{\"fill\":{\"color\":\"#EBF0F8\"},\"line\":{\"color\":\"white\"}},\"header\":{\"fill\":{\"color\":\"#C8D4E3\"},\"line\":{\"color\":\"white\"}},\"type\":\"table\"}],\"barpolar\":[{\"marker\":{\"line\":{\"color\":\"#E5ECF6\",\"width\":0.5},\"pattern\":{\"fillmode\":\"overlay\",\"size\":10,\"solidity\":0.2}},\"type\":\"barpolar\"}],\"pie\":[{\"automargin\":true,\"type\":\"pie\"}]},\"layout\":{\"autotypenumbers\":\"strict\",\"colorway\":[\"#636efa\",\"#EF553B\",\"#00cc96\",\"#ab63fa\",\"#FFA15A\",\"#19d3f3\",\"#FF6692\",\"#B6E880\",\"#FF97FF\",\"#FECB52\"],\"font\":{\"color\":\"#2a3f5f\"},\"hovermode\":\"closest\",\"hoverlabel\":{\"align\":\"left\"},\"paper_bgcolor\":\"white\",\"plot_bgcolor\":\"#E5ECF6\",\"polar\":{\"bgcolor\":\"#E5ECF6\",\"angularaxis\":{\"gridcolor\":\"white\",\"linecolor\":\"white\",\"ticks\":\"\"},\"radialaxis\":{\"gridcolor\":\"white\",\"linecolor\":\"white\",\"ticks\":\"\"}},\"ternary\":{\"bgcolor\":\"#E5ECF6\",\"aaxis\":{\"gridcolor\":\"white\",\"linecolor\":\"white\",\"ticks\":\"\"},\"baxis\":{\"gridcolor\":\"white\",\"linecolor\":\"white\",\"ticks\":\"\"},\"caxis\":{\"gridcolor\":\"white\",\"linecolor\":\"white\",\"ticks\":\"\"}},\"coloraxis\":{\"colorbar\":{\"outlinewidth\":0,\"ticks\":\"\"}},\"colorscale\":{\"sequential\":[[0.0,\"#0d0887\"],[0.1111111111111111,\"#46039f\"],[0.2222222222222222,\"#7201a8\"],[0.3333333333333333,\"#9c179e\"],[0.4444444444444444,\"#bd3786\"],[0.5555555555555556,\"#d8576b\"],[0.6666666666666666,\"#ed7953\"],[0.7777777777777778,\"#fb9f3a\"],[0.8888888888888888,\"#fdca26\"],[1.0,\"#f0f921\"]],\"sequentialminus\":[[0.0,\"#0d0887\"],[0.1111111111111111,\"#46039f\"],[0.2222222222222222,\"#7201a8\"],[0.3333333333333333,\"#9c179e\"],[0.4444444444444444,\"#bd3786\"],[0.5555555555555556,\"#d8576b\"],[0.6666666666666666,\"#ed7953\"],[0.7777777777777778,\"#fb9f3a\"],[0.8888888888888888,\"#fdca26\"],[1.0,\"#f0f921\"]],\"diverging\":[[0,\"#8e0152\"],[0.1,\"#c51b7d\"],[0.2,\"#de77ae\"],[0.3,\"#f1b6da\"],[0.4,\"#fde0ef\"],[0.5,\"#f7f7f7\"],[0.6,\"#e6f5d0\"],[0.7,\"#b8e186\"],[0.8,\"#7fbc41\"],[0.9,\"#4d9221\"],[1,\"#276419\"]]},\"xaxis\":{\"gridcolor\":\"white\",\"linecolor\":\"white\",\"ticks\":\"\",\"title\":{\"standoff\":15},\"zerolinecolor\":\"white\",\"automargin\":true,\"zerolinewidth\":2},\"yaxis\":{\"gridcolor\":\"white\",\"linecolor\":\"white\",\"ticks\":\"\",\"title\":{\"standoff\":15},\"zerolinecolor\":\"white\",\"automargin\":true,\"zerolinewidth\":2},\"scene\":{\"xaxis\":{\"backgroundcolor\":\"#E5ECF6\",\"gridcolor\":\"white\",\"linecolor\":\"white\",\"showbackground\":true,\"ticks\":\"\",\"zerolinecolor\":\"white\",\"gridwidth\":2},\"yaxis\":{\"backgroundcolor\":\"#E5ECF6\",\"gridcolor\":\"white\",\"linecolor\":\"white\",\"showbackground\":true,\"ticks\":\"\",\"zerolinecolor\":\"white\",\"gridwidth\":2},\"zaxis\":{\"backgroundcolor\":\"#E5ECF6\",\"gridcolor\":\"white\",\"linecolor\":\"white\",\"showbackground\":true,\"ticks\":\"\",\"zerolinecolor\":\"white\",\"gridwidth\":2}},\"shapedefaults\":{\"line\":{\"color\":\"#2a3f5f\"}},\"annotationdefaults\":{\"arrowcolor\":\"#2a3f5f\",\"arrowhead\":0,\"arrowwidth\":1},\"geo\":{\"bgcolor\":\"white\",\"landcolor\":\"#E5ECF6\",\"subunitcolor\":\"white\",\"showland\":true,\"showlakes\":true,\"lakecolor\":\"white\"},\"title\":{\"x\":0.05},\"mapbox\":{\"style\":\"light\"}}}},                        {\"responsive\": true}                    ).then(function(){\n",
       "                            \n",
       "var gd = document.getElementById('bce358f8-350f-46a5-ade6-ffa261325a26');\n",
       "var x = new MutationObserver(function (mutations, observer) {{\n",
       "        var display = window.getComputedStyle(gd).display;\n",
       "        if (!display || display === 'none') {{\n",
       "            console.log([gd, 'removed!']);\n",
       "            Plotly.purge(gd);\n",
       "            observer.disconnect();\n",
       "        }}\n",
       "}});\n",
       "\n",
       "// Listen for the removal of the full notebook cells\n",
       "var notebookContainer = gd.closest('#notebook-container');\n",
       "if (notebookContainer) {{\n",
       "    x.observe(notebookContainer, {childList: true});\n",
       "}}\n",
       "\n",
       "// Listen for the clearing of the current output cell\n",
       "var outputEl = gd.closest('.output');\n",
       "if (outputEl) {{\n",
       "    x.observe(outputEl, {childList: true});\n",
       "}}\n",
       "\n",
       "                        })                };                });            </script>        </div>"
      ]
     },
     "metadata": {},
     "output_type": "display_data"
    }
   ],
   "source": [
    "\n",
    "# Get the data in the format Plotly wants\n",
    "label_dict = { df['Item and Group'][i] : i for i in range(0, len(df) ) }\n",
    "\n",
    "\n",
    "# Initialize empty arrays\n",
    "source = []\n",
    "target = []\n",
    "value = []\n",
    "\n",
    "for i, row in df.iterrows():\n",
    "    # Skip the root level\n",
    "    if row[\"Item and Group\"] != 'All items': \n",
    "        source.append(label_dict[row[\"Parent\"]])\n",
    "        target.append(label_dict[row[\"Item and Group\"]])\n",
    "        value.append(row[\"Weight\"])   \n",
    "        \n",
    "# Plot the figure\n",
    "sankey_full = go.Figure(data=[go.Sankey(\n",
    "    valueformat = \".1f\",\n",
    "    valuesuffix = \"%\",\n",
    "    node = dict(\n",
    "      pad = 15,\n",
    "      thickness = 20,\n",
    "      line = dict(color = \"black\", width = 0.5),\n",
    "      label = df[\"Item and Group\"].to_list(),\n",
    "      color = \"blue\",\n",
    "      hovertemplate='%{label} is %{value} of spending',\n",
    "    ),\n",
    "    link = dict(\n",
    "      source = source, # indices correspond to labels, eg A1, A2, A1, B1, ...\n",
    "      target = target,\n",
    "      value = value\n",
    "  ))])\n",
    "\n",
    "sankey_full.show()\n"
   ]
  },
  {
   "cell_type": "code",
   "execution_count": 123,
   "metadata": {},
   "outputs": [
    {
     "data": {
      "application/vnd.plotly.v1+json": {
       "config": {
        "plotlyServerURL": "https://plot.ly"
       },
       "data": [
        {
         "hoverinfo": "none",
         "line": {
          "color": "#888",
          "width": 0.5
         },
         "mode": "lines",
         "type": "scatter",
         "x": [
          0.00715707890234205,
          -0.10211137027237101,
          null,
          0.00715707890234205,
          0.1442410973312206,
          null,
          0.00715707890234205,
          -0.031400491592311154,
          null,
          -0.10211137027237101,
          -0.25010391217940736,
          null,
          -0.10211137027237101,
          -0.187385348482235,
          null,
          -0.10211137027237101,
          -0.15072310612400802,
          null,
          -0.10211137027237101,
          -0.05956609899136321,
          null,
          -0.10211137027237101,
          -0.050589491225967544,
          null,
          -0.10211137027237101,
          -0.04032588383033871,
          null,
          -0.10211137027237101,
          0.006380443501837298,
          null,
          0.1442410973312206,
          0.26134673894896826,
          null,
          0.1442410973312206,
          0.10176766683150658,
          null,
          0.26134673894896826,
          0.3771083720798255,
          null,
          0.26134673894896826,
          0.4042869552886822,
          null,
          0.26134673894896826,
          0.3178107833836484,
          null,
          0.26134673894896826,
          0.2653212938573479,
          null,
          0.26134673894896826,
          0.32917165771204543,
          null,
          0.26134673894896826,
          0.20923885886390642,
          null,
          0.3771083720798255,
          0.5048372736154102,
          null,
          0.3771083720798255,
          0.5253817999793752,
          null,
          0.5048372736154102,
          0.6222044085038487,
          null,
          0.5048372736154102,
          0.657669641772225,
          null,
          0.5048372736154102,
          0.6426653639018275,
          null,
          0.5253817999793752,
          0.6319660161574564,
          null,
          0.5253817999793752,
          0.6731803858093223,
          null,
          0.5253817999793752,
          0.6592815707074476,
          null,
          0.5253817999793752,
          0.6437906838807087,
          null,
          0.4042869552886822,
          0.5891708278971162,
          null,
          0.4042869552886822,
          0.49074595711469465,
          null,
          0.5891708278971162,
          0.750518964122539,
          null,
          0.5891708278971162,
          0.6882309260210626,
          null,
          0.5891708278971162,
          0.6588037955284142,
          null,
          0.750518964122539,
          0.873058126275172,
          null,
          0.750518964122539,
          0.8733474663417702,
          null,
          0.750518964122539,
          0.8347373101236667,
          null,
          0.873058126275172,
          0.9565788293445141,
          null,
          0.873058126275172,
          0.9840241290335073,
          null,
          0.873058126275172,
          1,
          null,
          0.873058126275172,
          0.9999057120824882,
          null,
          0.8733474663417702,
          0.9989553968232497,
          null,
          0.8733474663417702,
          0.9953572766514649,
          null,
          0.8733474663417702,
          0.9733396816358216,
          null,
          0.8733474663417702,
          0.9423930941356535,
          null,
          0.6882309260210626,
          0.8093651447868614,
          null,
          0.6882309260210626,
          0.7797581766808288,
          null,
          0.6588037955284142,
          0.760875239270026,
          null,
          0.6588037955284142,
          0.7204088174530181,
          null,
          0.3178107833836484,
          0.429906859565747,
          null,
          0.3178107833836484,
          0.440006112409134,
          null,
          0.3178107833836484,
          0.4021897597484766,
          null,
          0.3178107833836484,
          0.3399908499570386,
          null,
          0.2653212938573479,
          0.24693432726429557,
          null,
          0.2653212938573479,
          0.36317268098912775,
          null,
          0.24693432726429557,
          0.34532686064537726,
          null,
          0.24693432726429557,
          0.1761970904018549,
          null,
          0.34532686064537726,
          0.48303984284948953,
          null,
          0.34532686064537726,
          0.434629925966144,
          null,
          0.34532686064537726,
          0.3750129649736467,
          null,
          0.34532686064537726,
          0.3132686616463519,
          null,
          0.1761970904018549,
          0.2338733502381026,
          null,
          0.1761970904018549,
          0.1733549108046728,
          null,
          0.1761970904018549,
          0.11445162937024289,
          null,
          0.1761970904018549,
          0.06420065197063718,
          null,
          0.36317268098912775,
          0.5045889753786882,
          null,
          0.36317268098912775,
          0.46700385160851643,
          null,
          0.36317268098912775,
          0.40300963800506207,
          null,
          0.32917165771204543,
          0.4717923263713732,
          null,
          0.32917165771204543,
          0.4055548516474952,
          null,
          0.4717923263713732,
          0.6105802318726844,
          null,
          0.4717923263713732,
          0.5911151369956996,
          null,
          0.4717923263713732,
          0.5632480486656671,
          null,
          0.4055548516474952,
          0.535832199854939,
          null,
          0.4055548516474952,
          0.47709370036119636,
          null,
          0.20923885886390642,
          0.2920660153203056,
          null,
          0.20923885886390642,
          0.20109119930867445,
          null,
          0.20923885886390642,
          0.12061948099922383,
          null,
          0.2920660153203056,
          0.4145809533178017,
          null,
          0.2920660153203056,
          0.36748560700900756,
          null,
          0.2920660153203056,
          0.31396598737795683,
          null,
          0.20109119930867445,
          0.2748551498143532,
          null,
          0.20109119930867445,
          0.22201539288308644,
          null,
          0.20109119930867445,
          0.12879796229004603,
          null,
          0.12061948099922383,
          0.17946341218487555,
          null,
          0.12061948099922383,
          0.1304184820662792,
          null,
          0.12061948099922383,
          0.07307416412480246,
          null,
          0.12061948099922383,
          0.06477027185256766,
          null,
          0.12061948099922383,
          0.009815649387905542,
          null,
          0.12061948099922383,
          0.01890351896783094,
          null,
          0.10176766683150658,
          0.18666879980794246,
          null,
          0.10176766683150658,
          0.12318994147524964,
          null,
          0.10176766683150658,
          0.07951383606411473,
          null,
          0.10176766683150658,
          0.03700430470098888,
          null,
          0.10176766683150658,
          0.019812578481686233,
          null,
          -0.031400491592311154,
          -0.11554220613730452,
          null,
          -0.11554220613730452,
          -0.2101590787831205,
          null,
          -0.11554220613730452,
          -0.14245304937217243,
          null,
          -0.2101590787831205,
          -0.22679356791759092,
          null,
          -0.2101590787831205,
          -0.281587379032671,
          null,
          -0.2101590787831205,
          -0.3295481274416686,
          null,
          -0.25010391217940736,
          -0.26365294035752596,
          null,
          -0.25010391217940736,
          -0.2993702072531324,
          null,
          -0.25010391217940736,
          -0.4106608289525456,
          null,
          -0.26365294035752596,
          -0.27369258472345726,
          null,
          -0.26365294035752596,
          -0.2738968943219031,
          null,
          -0.26365294035752596,
          -0.3471360258907782,
          null,
          -0.26365294035752596,
          -0.35134337670823507,
          null,
          -0.2738968943219031,
          -0.30355657554005144,
          null,
          -0.2738968943219031,
          -0.3684337000965892,
          null,
          -0.3471360258907782,
          -0.40867997868642103,
          null,
          -0.3471360258907782,
          -0.46435567714420517,
          null,
          -0.2993702072531324,
          -0.4122728169444523,
          null,
          -0.2993702072531324,
          -0.31416938383313747,
          null,
          -0.4122728169444523,
          -0.4925838948892998,
          null,
          -0.4122728169444523,
          -0.5727216037776207,
          null,
          -0.4925838948892998,
          -0.5502157857040118,
          null,
          -0.4925838948892998,
          -0.6186311722377016,
          null,
          -0.5727216037776207,
          -0.6812420198926168,
          null,
          -0.5727216037776207,
          -0.7327558875294288,
          null,
          -0.31416938383313747,
          -0.34029888771716216,
          null,
          -0.31416938383313747,
          -0.4085697019786392,
          null,
          -0.4106608289525456,
          -0.4416910340545637,
          null,
          -0.4106608289525456,
          -0.4822037926522045,
          null,
          -0.4106608289525456,
          -0.4814492544971479,
          null,
          -0.4106608289525456,
          -0.5321213749204564,
          null,
          -0.4106608289525456,
          -0.4915594030815881,
          null,
          -0.4106608289525456,
          -0.48512358674774664,
          null,
          -0.4106608289525456,
          -0.5418591342424036,
          null,
          -0.4416910340545637,
          -0.4938906939008487,
          null,
          -0.4416910340545637,
          -0.5485799397944436,
          null,
          -0.4416910340545637,
          -0.5951313613132092,
          null,
          -0.4822037926522045,
          -0.5274748450371332,
          null,
          -0.4822037926522045,
          -0.5837539140782748,
          null,
          -0.4822037926522045,
          -0.6265604365726241,
          null,
          -0.4822037926522045,
          -0.6501409723011453,
          null,
          -0.4814492544971479,
          -0.5778627002427563,
          null,
          -0.4814492544971479,
          -0.6292739627820181,
          null,
          -0.4814492544971479,
          -0.6535374221832323,
          null,
          -0.5321213749204564,
          -0.6693655332301373,
          null,
          -0.5321213749204564,
          -0.6938111276161648,
          null,
          -0.5321213749204564,
          -0.7109637122596828,
          null,
          -0.5321213749204564,
          -0.6824270584457828,
          null,
          -0.4915594030815881,
          -0.6405703169337061,
          null,
          -0.4915594030815881,
          -0.6629683441257944,
          null,
          -0.4915594030815881,
          -0.6188454314258609,
          null,
          -0.48512358674774664,
          -0.646599072282268,
          null,
          -0.48512358674774664,
          -0.5911369441402649,
          null,
          -0.48512358674774664,
          -0.6481293055423006,
          null,
          -0.5418591342424036,
          -0.7121345387211383,
          null,
          -0.5418591342424036,
          -0.7098084761085934,
          null,
          -0.5418591342424036,
          -0.7005189579907147,
          null,
          -0.5418591342424036,
          -0.6871508725399679,
          null,
          -0.5418591342424036,
          -0.6352131670962966,
          null,
          -0.187385348482235,
          -0.31628647453982367,
          null,
          -0.187385348482235,
          -0.28628343657266025,
          null,
          -0.187385348482235,
          -0.2692804608306862,
          null,
          -0.187385348482235,
          -0.207388523571777,
          null,
          -0.187385348482235,
          -0.20209583342625015,
          null,
          -0.31628647453982367,
          -0.4960587657158285,
          null,
          -0.31628647453982367,
          -0.4145902260682131,
          null,
          -0.4960587657158285,
          -0.6465350642944897,
          null,
          -0.4960587657158285,
          -0.6603940680674452,
          null,
          -0.4960587657158285,
          -0.6237908126730033,
          null,
          -0.4960587657158285,
          -0.630310432030288,
          null,
          -0.4960587657158285,
          -0.5631997279246372,
          null,
          -0.28628343657266025,
          -0.442680281788451,
          null,
          -0.28628343657266025,
          -0.3767663970263538,
          null,
          -0.442680281788451,
          -0.5945711347657688,
          null,
          -0.442680281788451,
          -0.5992833976093747,
          null,
          -0.442680281788451,
          -0.5682716192913829,
          null,
          -0.442680281788451,
          -0.5305389078858663,
          null,
          -0.442680281788451,
          -0.4667244376734527,
          null,
          -0.2692804608306862,
          -0.3672377609802324,
          null,
          -0.2692804608306862,
          -0.3956867903427805,
          null,
          -0.2692804608306862,
          -0.3897745839614369,
          null,
          -0.20209583342625015,
          -0.20057822068543887,
          null,
          -0.20209583342625015,
          -0.30142369375373,
          null,
          -0.15072310612400802,
          -0.22752209974613544,
          null,
          -0.15072310612400802,
          -0.16234659864245754,
          null,
          -0.22752209974613544,
          -0.3638297714163489,
          null,
          -0.22752209974613544,
          -0.3606374242696194,
          null,
          -0.22752209974613544,
          -0.26532923438168904,
          null,
          -0.22752209974613544,
          -0.23506833379143352,
          null,
          -0.22752209974613544,
          -0.2907736831557475,
          null,
          -0.22752209974613544,
          -0.17253500452441814,
          null,
          -0.3638297714163489,
          -0.5138956466982891,
          null,
          -0.3638297714163489,
          -0.5053483987272143,
          null,
          -0.3638297714163489,
          -0.4690583608468649,
          null,
          -0.3638297714163489,
          -0.4240155851220259,
          null,
          -0.3638297714163489,
          -0.3942343359619919,
          null,
          -0.3606374242696194,
          -0.5137863312616704,
          null,
          -0.3606374242696194,
          -0.45695116729079227,
          null,
          -0.26532923438168904,
          -0.37077686291526446,
          null,
          -0.26532923438168904,
          -0.29334248292384013,
          null,
          -0.23506833379143352,
          -0.34441656261303033,
          null,
          -0.23506833379143352,
          -0.3010131249879855,
          null,
          -0.23506833379143352,
          -0.24244083171984082,
          null,
          -0.23506833379143352,
          -0.19228063110272034,
          null,
          -0.17253500452441814,
          -0.23754529468801408,
          null,
          -0.17253500452441814,
          -0.163945727393287,
          null,
          -0.17253500452441814,
          -0.1190262612114452,
          null,
          -0.16234659864245754,
          -0.30284318162949353,
          null,
          -0.16234659864245754,
          -0.251285193264563,
          null,
          -0.16234659864245754,
          -0.1461516622544069,
          null,
          -0.16234659864245754,
          -0.0941283606659626,
          null,
          -0.05956609899136321,
          -0.07018032395237585,
          null,
          -0.05956609899136321,
          0.04566926202843718,
          null,
          -0.07018032395237585,
          -0.08738274825618808,
          null,
          -0.07018032395237585,
          -0.02775831980793002,
          null,
          -0.08738274825618808,
          -0.1470056428359264,
          null,
          -0.08738274825618808,
          -0.047220018481753036,
          null,
          0.04566926202843718,
          0.08035076024500451,
          null,
          0.04566926202843718,
          0.19337331937885377,
          null,
          0.04566926202843718,
          0.10923651247404514,
          null,
          0.08035076024500451,
          0.040942368971581745,
          null,
          0.08035076024500451,
          0.10488306785764219,
          null,
          0.08035076024500451,
          0.15803988661363205,
          null,
          0.08035076024500451,
          0.204372515672444,
          null,
          0.19337331937885377,
          0.25586615369871196,
          null,
          0.19337331937885377,
          0.31557211022504184,
          null,
          0.19337331937885377,
          0.34624693451272404,
          null,
          -0.050589491225967544,
          0.073879556526095,
          null,
          -0.050589491225967544,
          -0.11705214137693207,
          null,
          -0.050589491225967544,
          -0.005875129554237252,
          null,
          -0.050589491225967544,
          0.021731812301415392,
          null,
          -0.050589491225967544,
          -0.025787466948529524,
          null,
          -0.050589491225967544,
          -0.08410760286325523,
          null,
          -0.050589491225967544,
          -0.11146282547269057,
          null,
          0.073879556526095,
          0.1421618539546112,
          null,
          0.073879556526095,
          0.19471896840677802,
          null,
          0.073879556526095,
          0.23277710368140397,
          null,
          0.073879556526095,
          0.2201381480010085,
          null,
          0.073879556526095,
          0.18324394461795668,
          null,
          0.073879556526095,
          0.19242182627477414,
          null,
          0.073879556526095,
          0.1378079985773353,
          null,
          -0.11705214137693207,
          -0.18465404496661983,
          null,
          -0.11705214137693207,
          -0.23074903764237378,
          null,
          -0.005875129554237252,
          0.023307256853649257,
          null,
          -0.005875129554237252,
          0.13010001294436777,
          null,
          -0.005875129554237252,
          0.09219262447724137,
          null,
          0.021731812301415392,
          0.15799318573070442,
          null,
          0.021731812301415392,
          0.0751826517826463,
          null,
          0.021731812301415392,
          0.14980199640848382,
          null,
          -0.025787466948529524,
          0.04663682819323352,
          null,
          -0.025787466948529524,
          0.0029437704685343685,
          null,
          -0.025787466948529524,
          -0.07721686302497721,
          null,
          -0.025787466948529524,
          0.10023709264983506,
          null,
          -0.08410760286325523,
          -0.0931407308498446,
          null,
          -0.08410760286325523,
          -0.1457075858655928,
          null,
          -0.08410760286325523,
          -0.17675144547815766,
          null,
          -0.08410760286325523,
          -0.037157904962230856,
          null,
          -0.11146282547269057,
          -0.2239395704345264,
          null,
          -0.11146282547269057,
          -0.12231278451128762,
          null,
          -0.11146282547269057,
          -0.18914998443734024,
          null,
          -0.04032588383033871,
          -0.03468139715686461,
          null,
          -0.04032588383033871,
          0.07954400487787618,
          null,
          -0.03468139715686461,
          0.024603132775370486,
          null,
          -0.03468139715686461,
          -0.024666703919245345,
          null,
          -0.024666703919245345,
          -0.011777289149632806,
          null,
          -0.024666703919245345,
          -0.10364352711307936,
          null,
          -0.024666703919245345,
          -0.062188673814818345,
          null,
          -0.024666703919245345,
          0.04042732535616739,
          null,
          -0.024666703919245345,
          0.08287525875257336,
          null,
          0.07954400487787618,
          0.2142670840516551,
          null,
          0.07954400487787618,
          0.15899711329737004,
          null,
          0.2142670840516551,
          0.3246595561337431,
          null,
          0.2142670840516551,
          0.3726844651185865,
          null,
          0.15899711329737004,
          0.14968231830214743,
          null,
          0.15899711329737004,
          0.29464440174074513,
          null,
          0.14968231830214743,
          0.10879447834524043,
          null,
          0.14968231830214743,
          0.18580437589783647,
          null,
          0.29464440174074513,
          0.27634557566676404,
          null,
          0.29464440174074513,
          0.3284697924181214,
          null,
          0.29464440174074513,
          0.3790195051071757,
          null,
          0.29464440174074513,
          0.42059462662432195,
          null,
          0.29464440174074513,
          0.4512627711425479,
          null,
          0.006380443501837298,
          0.09056165167095787,
          null,
          0.006380443501837298,
          0.17198261989183425,
          null,
          0.09056165167095787,
          0.15611071500555604,
          null,
          0.09056165167095787,
          0.22599882952896055,
          null,
          0.09056165167095787,
          0.24769121680812692,
          null,
          0.17198261989183425,
          0.25306496679675916,
          null,
          0.17198261989183425,
          0.29482783233056253,
          null,
          0.17198261989183425,
          0.3371050976169262,
          null,
          0.25306496679675916,
          0.28742874959271747,
          null,
          0.25306496679675916,
          0.3614929972390329,
          null,
          0.25306496679675916,
          0.3986791020559555,
          null,
          0.29482783233056253,
          0.4479937284678117,
          null,
          0.3371050976169262,
          0.4411227276126328,
          null,
          0.3371050976169262,
          0.41493133389126036,
          null,
          0.3371050976169262,
          0.4762591411825199,
          null,
          0.3371050976169262,
          0.4526544404127955,
          null,
          0.3371050976169262,
          0.4876856598375544,
          null,
          0.3371050976169262,
          0.466267481558672,
          null
         ],
         "y": [
          0.04509430288083315,
          -0.0985920316229374,
          null,
          0.04509430288083315,
          0.16927876596062308,
          null,
          0.04509430288083315,
          0.15511403224640608,
          null,
          -0.0985920316229374,
          -0.00834653618249876,
          null,
          -0.0985920316229374,
          -0.142257443736213,
          null,
          -0.0985920316229374,
          -0.20885953658669484,
          null,
          -0.0985920316229374,
          -0.17866735314201526,
          null,
          -0.0985920316229374,
          -0.046892401632153094,
          null,
          -0.0985920316229374,
          -0.20409740965772058,
          null,
          -0.0985920316229374,
          -0.1390214080426098,
          null,
          0.16927876596062308,
          0.2808890210778624,
          null,
          0.16927876596062308,
          0.25674795972000636,
          null,
          0.2808890210778624,
          0.19580038727219348,
          null,
          0.2808890210778624,
          0.26198800377903636,
          null,
          0.2808890210778624,
          0.2642212980480834,
          null,
          0.2808890210778624,
          0.4158807377764602,
          null,
          0.2808890210778624,
          0.3261569315389221,
          null,
          0.2808890210778624,
          0.42279477311351227,
          null,
          0.19580038727219348,
          0.11466794643606107,
          null,
          0.19580038727219348,
          0.175473645802543,
          null,
          0.11466794643606107,
          0.015554223648661167,
          null,
          0.11466794643606107,
          0.04735419860361992,
          null,
          0.11466794643606107,
          0.13564636225476528,
          null,
          0.175473645802543,
          0.07567041507896255,
          null,
          0.175473645802543,
          0.11736996333725247,
          null,
          0.175473645802543,
          0.19250265104298625,
          null,
          0.175473645802543,
          0.25312631043907824,
          null,
          0.26198800377903636,
          0.28196185776176924,
          null,
          0.26198800377903636,
          0.22939813493467945,
          null,
          0.28196185776176924,
          0.2260893597699827,
          null,
          0.28196185776176924,
          0.33594231926066503,
          null,
          0.28196185776176924,
          0.4143791766850489,
          null,
          0.2260893597699827,
          0.12381412525586365,
          null,
          0.2260893597699827,
          0.31509765157342257,
          null,
          0.2260893597699827,
          0.18883158881101467,
          null,
          0.12381412525586365,
          0.011995372890618658,
          null,
          0.12381412525586365,
          0.057007521667932465,
          null,
          0.12381412525586365,
          0.11472061105543166,
          null,
          0.12381412525586365,
          0.17602764414413508,
          null,
          0.31509765157342257,
          0.26828972791733413,
          null,
          0.31509765157342257,
          0.33462237241077336,
          null,
          0.31509765157342257,
          0.3995392910394996,
          null,
          0.31509765157342257,
          0.45214381341190574,
          null,
          0.33594231926066503,
          0.37664699186047884,
          null,
          0.33594231926066503,
          0.4594000345231952,
          null,
          0.4143791766850489,
          0.5117878795677305,
          null,
          0.4143791766850489,
          0.5604154329943547,
          null,
          0.2642212980480834,
          0.19544866770324695,
          null,
          0.2642212980480834,
          0.2795544655570722,
          null,
          0.2642212980480834,
          0.3421005560419835,
          null,
          0.2642212980480834,
          0.38384824866853823,
          null,
          0.4158807377764602,
          0.5939683031717202,
          null,
          0.4158807377764602,
          0.49952935841596424,
          null,
          0.5939683031717202,
          0.7335596850121111,
          null,
          0.5939683031717202,
          0.7583933761373133,
          null,
          0.7335596850121111,
          0.7973587997988837,
          null,
          0.7335596850121111,
          0.8335353605486375,
          null,
          0.7335596850121111,
          0.8605892604599775,
          null,
          0.7335596850121111,
          0.8713794100005858,
          null,
          0.7583933761373133,
          0.8846858749336217,
          null,
          0.7583933761373133,
          0.8916581330386978,
          null,
          0.7583933761373133,
          0.8837055746326454,
          null,
          0.7583933761373133,
          0.8649036176885201,
          null,
          0.49952935841596424,
          0.5592737156746264,
          null,
          0.49952935841596424,
          0.6136845630961594,
          null,
          0.49952935841596424,
          0.6366292810266239,
          null,
          0.3261569315389221,
          0.36789705387915783,
          null,
          0.3261569315389221,
          0.4344768379952316,
          null,
          0.36789705387915783,
          0.36303119388153277,
          null,
          0.36789705387915783,
          0.43847899321547423,
          null,
          0.36789705387915783,
          0.49170067564393405,
          null,
          0.4344768379952316,
          0.5235589452356996,
          null,
          0.4344768379952316,
          0.5722552118035679,
          null,
          0.42279477311351227,
          0.5146675276347086,
          null,
          0.42279477311351227,
          0.5318201446925452,
          null,
          0.42279477311351227,
          0.5616607804709107,
          null,
          0.5146675276347086,
          0.5974565264227698,
          null,
          0.5146675276347086,
          0.6451754164354809,
          null,
          0.5146675276347086,
          0.6647265352750812,
          null,
          0.5318201446925452,
          0.6663172230866962,
          null,
          0.5318201446925452,
          0.6883426205437926,
          null,
          0.5318201446925452,
          0.6610195323711411,
          null,
          0.5616607804709107,
          0.6843663830316792,
          null,
          0.5616607804709107,
          0.7120962786511662,
          null,
          0.5616607804709107,
          0.7138037897387499,
          null,
          0.5616607804709107,
          0.6554492865885593,
          null,
          0.5616607804709107,
          0.6461322461476509,
          null,
          0.5616607804709107,
          0.6932232292974086,
          null,
          0.25674795972000636,
          0.26942120984619905,
          null,
          0.25674795972000636,
          0.3412542195407907,
          null,
          0.25674795972000636,
          0.3759640323446525,
          null,
          0.25674795972000636,
          0.36119704857652846,
          null,
          0.25674795972000636,
          0.397373069111472,
          null,
          0.15511403224640608,
          0.3225551879638266,
          null,
          0.3225551879638266,
          0.4831799548607949,
          null,
          0.3225551879638266,
          0.43741819335698706,
          null,
          0.4831799548607949,
          0.6236436970154411,
          null,
          0.4831799548607949,
          0.6125479960287189,
          null,
          0.4831799548607949,
          0.5881509689383403,
          null,
          -0.00834653618249876,
          0.09302362731879177,
          null,
          -0.00834653618249876,
          0.1031307489286397,
          null,
          -0.00834653618249876,
          0.011681839640018251,
          null,
          0.09302362731879177,
          0.18468032190193376,
          null,
          0.09302362731879177,
          0.2583336601525427,
          null,
          0.09302362731879177,
          0.22056393862828746,
          null,
          0.09302362731879177,
          0.1184430037565699,
          null,
          0.2583336601525427,
          0.40862791167295426,
          null,
          0.2583336601525427,
          0.39701330743941515,
          null,
          0.22056393862828746,
          0.3718694556288548,
          null,
          0.22056393862828746,
          0.3448333827173174,
          null,
          0.1031307489286397,
          0.2412507325370782,
          null,
          0.1031307489286397,
          0.2555817660495408,
          null,
          0.2412507325370782,
          0.40085415521967566,
          null,
          0.2412507325370782,
          0.3321251021421114,
          null,
          0.40085415521967566,
          0.5327495696569114,
          null,
          0.40085415521967566,
          0.4851397510434664,
          null,
          0.3321251021421114,
          0.4285738655608069,
          null,
          0.3321251021421114,
          0.3569210189084881,
          null,
          0.2555817660495408,
          0.41276756705450557,
          null,
          0.2555817660495408,
          0.396567361164625,
          null,
          0.011681839640018251,
          0.11588129843406919,
          null,
          0.011681839640018251,
          0.13403906553139538,
          null,
          0.011681839640018251,
          0.06829345123054664,
          null,
          0.011681839640018251,
          0.04422724985230511,
          null,
          0.011681839640018251,
          -0.020438967792924104,
          null,
          0.011681839640018251,
          -0.07397280958609447,
          null,
          0.011681839640018251,
          -0.057328770927032674,
          null,
          0.11588129843406919,
          0.2657839863729386,
          null,
          0.11588129843406919,
          0.23834658104078582,
          null,
          0.11588129843406919,
          0.1698184253932478,
          null,
          0.13403906553139538,
          0.28058347345347706,
          null,
          0.13403906553139538,
          0.26283764932839065,
          null,
          0.13403906553139538,
          0.22698971113364622,
          null,
          0.13403906553139538,
          0.18165020051190744,
          null,
          0.06829345123054664,
          0.20312889441592746,
          null,
          0.06829345123054664,
          0.1329533741123423,
          null,
          0.06829345123054664,
          0.08126262633883216,
          null,
          0.04422724985230511,
          0.1530991320189354,
          null,
          0.04422724985230511,
          0.10949568020290625,
          null,
          0.04422724985230511,
          0.05830829800097959,
          null,
          0.04422724985230511,
          0.012402377613051702,
          null,
          -0.020438967792924104,
          0.03673592218468732,
          null,
          -0.020438967792924104,
          -0.03428519373306807,
          null,
          -0.020438967792924104,
          -0.10970518108491241,
          null,
          -0.07397280958609447,
          -0.06961670463083688,
          null,
          -0.07397280958609447,
          -0.17667124529703704,
          null,
          -0.07397280958609447,
          -0.140689163827012,
          null,
          -0.057328770927032674,
          -0.05116144247245856,
          null,
          -0.057328770927032674,
          -0.0016247531065284558,
          null,
          -0.057328770927032674,
          -0.09655213919701848,
          null,
          -0.057328770927032674,
          -0.14222165797349945,
          null,
          -0.057328770927032674,
          -0.17079710552966224,
          null,
          -0.142257443736213,
          -0.17697329444670482,
          null,
          -0.142257443736213,
          -0.22698095797340465,
          null,
          -0.142257443736213,
          -0.11010287838150443,
          null,
          -0.142257443736213,
          -0.09781239295966203,
          null,
          -0.142257443736213,
          -0.21452346964641442,
          null,
          -0.17697329444670482,
          -0.25860491589253837,
          null,
          -0.17697329444670482,
          -0.20597967732634795,
          null,
          -0.25860491589253837,
          -0.23164045659621774,
          null,
          -0.25860491589253837,
          -0.27509636693663964,
          null,
          -0.25860491589253837,
          -0.3651799378792681,
          null,
          -0.25860491589253837,
          -0.3110017575371137,
          null,
          -0.25860491589253837,
          -0.3922734223191202,
          null,
          -0.22698095797340465,
          -0.34617726604561727,
          null,
          -0.22698095797340465,
          -0.27490867026595606,
          null,
          -0.34617726604561727,
          -0.3342911898233044,
          null,
          -0.34617726604561727,
          -0.3943856936309738,
          null,
          -0.34617726604561727,
          -0.44014028618002604,
          null,
          -0.34617726604561727,
          -0.47597730087645707,
          null,
          -0.34617726604561727,
          -0.4952156395437542,
          null,
          -0.11010287838150443,
          -0.043361970065348955,
          null,
          -0.11010287838150443,
          -0.10461212676166498,
          null,
          -0.11010287838150443,
          -0.16710918155351753,
          null,
          -0.21452346964641442,
          -0.34795174113298777,
          null,
          -0.21452346964641442,
          -0.3165313113446949,
          null,
          -0.20885953658669484,
          -0.37972914387669676,
          null,
          -0.20885953658669484,
          -0.27301196654736093,
          null,
          -0.37972914387669676,
          -0.4676019935782088,
          null,
          -0.37972914387669676,
          -0.3982769690089732,
          null,
          -0.37972914387669676,
          -0.47090081555086977,
          null,
          -0.37972914387669676,
          -0.5233701138553523,
          null,
          -0.37972914387669676,
          -0.3968915761468368,
          null,
          -0.37972914387669676,
          -0.5066771612204998,
          null,
          -0.4676019935782088,
          -0.4955552350652096,
          null,
          -0.4676019935782088,
          -0.5421842984309677,
          null,
          -0.4676019935782088,
          -0.5838860707924243,
          null,
          -0.4676019935782088,
          -0.5929554193435596,
          null,
          -0.4676019935782088,
          -0.6305209150372416,
          null,
          -0.3982769690089732,
          -0.44646549177031586,
          null,
          -0.3982769690089732,
          -0.530962738297725,
          null,
          -0.47090081555086977,
          -0.5942061350076997,
          null,
          -0.47090081555086977,
          -0.6316954685107493,
          null,
          -0.5233701138553523,
          -0.6406839061453408,
          null,
          -0.5233701138553523,
          -0.6733380316087475,
          null,
          -0.5233701138553523,
          -0.688602956541691,
          null,
          -0.5233701138553523,
          -0.6666726746978942,
          null,
          -0.5066771612204998,
          -0.6489543613889951,
          null,
          -0.5066771612204998,
          -0.681537748884886,
          null,
          -0.5066771612204998,
          -0.6444376420436636,
          null,
          -0.27301196654736093,
          -0.28580171882905475,
          null,
          -0.27301196654736093,
          -0.3387585830412953,
          null,
          -0.27301196654736093,
          -0.39908017176117333,
          null,
          -0.27301196654736093,
          -0.38986273066192373,
          null,
          -0.17866735314201526,
          -0.2909332909612612,
          null,
          -0.17866735314201526,
          -0.30781853132382553,
          null,
          -0.2909332909612612,
          -0.4746474855059906,
          null,
          -0.2909332909612612,
          -0.4026051921485909,
          null,
          -0.4746474855059906,
          -0.6340016977038803,
          null,
          -0.4746474855059906,
          -0.6419330248515538,
          null,
          -0.30781853132382553,
          -0.48166612659292257,
          null,
          -0.30781853132382553,
          -0.39425570648770136,
          null,
          -0.30781853132382553,
          -0.37264608085619927,
          null,
          -0.48166612659292257,
          -0.6334772538309343,
          null,
          -0.48166612659292257,
          -0.6376476373385196,
          null,
          -0.48166612659292257,
          -0.6093204533687099,
          null,
          -0.48166612659292257,
          -0.5810639838563623,
          null,
          -0.39425570648770136,
          -0.5418458818067171,
          null,
          -0.39425570648770136,
          -0.5053681901564566,
          null,
          -0.39425570648770136,
          -0.431010901850924,
          null,
          -0.046892401632153094,
          -0.06040777333687412,
          null,
          -0.046892401632153094,
          -0.04282121129732971,
          null,
          -0.046892401632153094,
          -0.10548750913654592,
          null,
          -0.046892401632153094,
          -0.017825802248667633,
          null,
          -0.046892401632153094,
          0.03530882498062583,
          null,
          -0.046892401632153094,
          0.062297643776490184,
          null,
          -0.046892401632153094,
          0.009215174977143163,
          null,
          -0.06040777333687412,
          -0.1616131887486046,
          null,
          -0.06040777333687412,
          -0.13821367117030875,
          null,
          -0.06040777333687412,
          -0.08029530563952277,
          null,
          -0.06040777333687412,
          -0.02790958701721216,
          null,
          -0.06040777333687412,
          -0.08235926007022533,
          null,
          -0.06040777333687412,
          0.014807168915053865,
          null,
          -0.06040777333687412,
          0.0184474263512847,
          null,
          -0.04282121129732971,
          0.07114974706139059,
          null,
          -0.04282121129732971,
          -0.04662373173425017,
          null,
          -0.10548750913654592,
          -0.22630107143973602,
          null,
          -0.10548750913654592,
          -0.11284453113606875,
          null,
          -0.10548750913654592,
          -0.20786078289332352,
          null,
          -0.017825802248667633,
          -0.03499543819877523,
          null,
          -0.017825802248667633,
          0.10012968971408537,
          null,
          -0.017825802248667633,
          0.05177080372974551,
          null,
          0.03530882498062583,
          0.13769692527247362,
          null,
          0.03530882498062583,
          0.1725117936242429,
          null,
          0.03530882498062583,
          0.16232675043324227,
          null,
          0.03530882498062583,
          0.07584383581762276,
          null,
          0.062297643776490184,
          0.2140069733224251,
          null,
          0.062297643776490184,
          0.2051984779041995,
          null,
          0.062297643776490184,
          0.16107990327728386,
          null,
          0.062297643776490184,
          0.19411317200921893,
          null,
          0.009215174977143163,
          0.03963633363116897,
          null,
          0.009215174977143163,
          0.15104239922273263,
          null,
          0.009215174977143163,
          0.12589609578206384,
          null,
          -0.20409740965772058,
          -0.33503523220779124,
          null,
          -0.20409740965772058,
          -0.3223102662059564,
          null,
          -0.33503523220779124,
          -0.4205520560162847,
          null,
          -0.33503523220779124,
          -0.5255684432014539,
          null,
          -0.5255684432014539,
          -0.6718144118399336,
          null,
          -0.5255684432014539,
          -0.6611397813894501,
          null,
          -0.5255684432014539,
          -0.687798331864965,
          null,
          -0.5255684432014539,
          -0.6691179122074726,
          null,
          -0.5255684432014539,
          -0.6224464466920581,
          null,
          -0.3223102662059564,
          -0.36739701375887907,
          null,
          -0.3223102662059564,
          -0.4962552514723519,
          null,
          -0.36739701375887907,
          -0.4784702564687879,
          null,
          -0.36739701375887907,
          -0.40479677858572005,
          null,
          -0.4962552514723519,
          -0.6659999296072342,
          null,
          -0.4962552514723519,
          -0.6163857684955528,
          null,
          -0.6659999296072342,
          -0.8228911420324952,
          null,
          -0.6659999296072342,
          -0.8079886264292527,
          null,
          -0.6163857684955528,
          -0.7682693971452742,
          null,
          -0.6163857684955528,
          -0.7477939147659229,
          null,
          -0.6163857684955528,
          -0.7156718593220245,
          null,
          -0.6163857684955528,
          -0.6745352415114954,
          null,
          -0.6163857684955528,
          -0.631050844267866,
          null,
          -0.1390214080426098,
          -0.1685922644316708,
          null,
          -0.1390214080426098,
          -0.21904699554301485,
          null,
          -0.1685922644316708,
          -0.29311652259525117,
          null,
          -0.1685922644316708,
          -0.22569553463196135,
          null,
          -0.1685922644316708,
          -0.1450947384396799,
          null,
          -0.21904699554301485,
          -0.3463903018952466,
          null,
          -0.21904699554301485,
          -0.18589725433741136,
          null,
          -0.21904699554301485,
          -0.2640247080362485,
          null,
          -0.3463903018952466,
          -0.5010408756463222,
          null,
          -0.3463903018952466,
          -0.4732889673755021,
          null,
          -0.3463903018952466,
          -0.42362367504240894,
          null,
          -0.18589725433741136,
          -0.19115211535844234,
          null,
          -0.2640247080362485,
          -0.3985279750697386,
          null,
          -0.2640247080362485,
          -0.3603412610460277,
          null,
          -0.2640247080362485,
          -0.34130124724075084,
          null,
          -0.2640247080362485,
          -0.29479792540921,
          null,
          -0.2640247080362485,
          -0.2640372620382112,
          null,
          -0.2640247080362485,
          -0.22034769206387927,
          null
         ]
        },
        {
         "hoverinfo": "text",
         "marker": {
          "color": [
           1,
           0,
           2,
           3,
           4,
           5,
           6,
           6,
           6,
           5,
           6,
           6,
           6,
           6,
           4,
           5,
           6,
           7,
           8,
           8,
           8,
           8,
           7,
           8,
           8,
           8,
           8,
           7,
           6,
           7,
           7,
           6,
           7,
           7,
           5,
           4,
           5,
           5,
           5,
           5,
           4,
           5,
           6,
           7,
           7,
           7,
           7,
           6,
           7,
           7,
           7,
           7,
           5,
           6,
           6,
           6,
           4,
           5,
           6,
           6,
           6,
           5,
           6,
           6,
           4,
           5,
           6,
           6,
           6,
           5,
           6,
           6,
           6,
           5,
           6,
           6,
           6,
           6,
           6,
           6,
           3,
           4,
           4,
           4,
           4,
           4,
           2,
           3,
           4,
           5,
           5,
           5,
           4,
           1,
           2,
           3,
           3,
           4,
           4,
           3,
           4,
           4,
           3,
           2,
           3,
           4,
           5,
           5,
           4,
           5,
           5,
           3,
           4,
           4,
           2,
           3,
           4,
           4,
           4,
           3,
           4,
           4,
           4,
           4,
           3,
           4,
           4,
           4,
           3,
           4,
           4,
           4,
           4,
           3,
           4,
           4,
           4,
           3,
           4,
           4,
           4,
           3,
           4,
           4,
           4,
           4,
           4,
           1,
           2,
           3,
           4,
           4,
           4,
           4,
           4,
           3,
           2,
           3,
           4,
           4,
           4,
           4,
           4,
           3,
           2,
           3,
           3,
           3,
           2,
           2,
           3,
           3,
           1,
           2,
           3,
           4,
           4,
           4,
           4,
           4,
           3,
           4,
           4,
           3,
           4,
           4,
           3,
           4,
           4,
           4,
           4,
           3,
           3,
           4,
           4,
           4,
           2,
           3,
           3,
           3,
           3,
           1,
           2,
           3,
           4,
           4,
           3,
           2,
           3,
           4,
           4,
           4,
           4,
           3,
           4,
           4,
           4,
           3,
           1,
           2,
           3,
           3,
           3,
           3,
           3,
           3,
           3,
           2,
           3,
           3,
           2,
           3,
           3,
           3,
           2,
           3,
           3,
           3,
           2,
           3,
           3,
           3,
           3,
           2,
           3,
           3,
           3,
           3,
           2,
           3,
           3,
           3,
           1,
           2,
           3,
           3,
           4,
           4,
           4,
           4,
           4,
           2,
           3,
           4,
           4,
           3,
           4,
           5,
           5,
           4,
           5,
           5,
           5,
           5,
           5,
           1,
           2,
           3,
           3,
           3,
           2,
           3,
           4,
           4,
           4,
           3,
           4,
           3,
           4,
           4,
           4,
           4,
           4,
           4
          ],
          "colorbar": {
           "thickness": 15,
           "title": {
            "side": "right",
            "text": "Indent Level"
           },
           "xanchor": "left"
          },
          "colorscale": [
           [
            0,
            "rgb(255,255,217)"
           ],
           [
            0.125,
            "rgb(237,248,177)"
           ],
           [
            0.25,
            "rgb(199,233,180)"
           ],
           [
            0.375,
            "rgb(127,205,187)"
           ],
           [
            0.5,
            "rgb(65,182,196)"
           ],
           [
            0.625,
            "rgb(29,145,192)"
           ],
           [
            0.75,
            "rgb(34,94,168)"
           ],
           [
            0.875,
            "rgb(37,52,148)"
           ],
           [
            1,
            "rgb(8,29,88)"
           ]
          ],
          "line": {
           "width": 2
          },
          "reversescale": true,
          "showscale": true,
          "size": 10
         },
         "mode": "markers",
         "text": [
          "Food and beverages 15.16%",
          "All items 100.00%",
          "Food 14.12%",
          "Food at home 7.77%",
          "Cereals and bakery products 1.00%",
          "Cereals and cereal products 0.31%",
          "Flour and prepared flour mixes 0.04%",
          "Breakfast cereal 0.14%",
          "Rice, pasta, cornmeal 0.12%",
          "Bakery products 0.69%",
          "Bread 0.20%",
          "Fresh biscuits, rolls, muffins 0.10%",
          "Cakes, cupcakes, and cookies 0.18%",
          "Other bakery products 0.21%",
          "Meats, poultry, fish, and eggs 1.74%",
          "Meats, poultry, and fish 1.64%",
          "Meats 1.03%",
          "Beef and veal 0.47%",
          "Uncooked ground beef 0.17%",
          "Uncooked beef roasts 0.07%",
          "Uncooked beef steaks 0.18%",
          "Uncooked other beef and veal 0.04%",
          "Pork 0.32%",
          "Bacon, breakfast sausage, and related products 0.13%",
          "Ham 0.06%",
          "Pork chops 0.05%",
          "Other pork including roasts, steaks, and ribs 0.07%",
          "Other meats 0.23%",
          "Poultry 0.33%",
          "Chicken 0.27%",
          "Other uncooked poultry including turkey 0.06%",
          "Fish and seafood 0.28%",
          "Fresh fish and seafood 0.14%",
          "Processed fish and seafood 0.14%",
          "Eggs 0.10%",
          "Dairy and related products 0.79%",
          "Milk 0.22%",
          "Cheese and related products 0.27%",
          "Ice cream and related products 0.11%",
          "Other dairy and related products 0.20%",
          "Fruits and vegetables 1.34%",
          "Fresh fruits and vegetables 1.05%",
          "Fresh fruits 0.54%",
          "Apples 0.07%",
          "Bananas 0.07%",
          "Citrus fruits 0.14%",
          "Other fresh fruits 0.25%",
          "Fresh vegetables 0.52%",
          "Potatoes 0.07%",
          "Lettuce 0.07%",
          "Tomatoes 0.08%",
          "Other fresh vegetables 0.29%",
          "Processed fruits and vegetables 0.29%",
          "Canned fruits and vegetables 0.15%",
          "Frozen fruits and vegetables 0.09%",
          "Other processed fruits and vegetables including dried 0.05%",
          "Nonalcoholic beverages and beverage materials 0.93%",
          "Juices and nonalcoholic drinks 0.67%",
          "Carbonated drinks 0.28%",
          "Frozen noncarbonated juices and drinks 0.01%",
          "Nonfrozen noncarbonated juices and drinks 0.38%",
          "Beverage materials including coffee and tea 0.26%",
          "Coffee 0.17%",
          "Other beverage materials including tea 0.10%",
          "Other food at home 1.97%",
          "Sugar and sweets 0.27%",
          "Sugar and sugar substitutes 0.04%",
          "Candy and chewing gum 0.18%",
          "Other sweets 0.05%",
          "Fats and oils 0.21%",
          "Butter and margarine 0.06%",
          "Salad dressing 0.05%",
          "Other fats and oils including peanut butter 0.10%",
          "Other foods 1.49%",
          "Soups 0.09%",
          "Frozen and freeze dried prepared foods 0.26%",
          "Snacks 0.34%",
          "Spices, seasonings, condiments, sauces 0.29%",
          "Baby food 0.04%",
          "Other miscellaneous foods 0.47%",
          "Food away from home 6.35%",
          "Full service meals and snacks 3.18%",
          "Limited service meals and snacks 2.79%",
          "Food at employee sites and schools 0.13%",
          "Food from vending machines and mobile vendors 0.08%",
          "Other food away from home 0.17%",
          "Beverages 1.04%",
          "Alcoholic beverages 1.04%",
          "Alcoholic beverages at home 0.58%",
          "Beer, ale, and other malt beverages at home 0.22%",
          "Distilled spirits at home 0.09%",
          "Wine at home 0.26%",
          "Alcoholic beverages away from home 0.46%",
          "Housing 42.38%",
          "Shelter 33.32%",
          "Rent of primary residence 7.86%",
          "Lodging away from home 0.82%",
          "Housing at school, excluding board 0.12%",
          "Other lodging away from home including hotels and motels 0.71%",
          "Owners' equivalent rent of residences 24.26%",
          "Owners' equivalent rent of primary residence 23.04%",
          "Unsampled owners' equivalent rent of secondary residences 1.22%",
          "Tenants' and household insurance 0.37%",
          "Fuels and utilities 4.39%",
          "Household energy 3.28%",
          "Fuel oil and other fuels 0.14%",
          "Fuel oil 0.08%",
          "Propane, kerosene, and firewood 0.06%",
          "Energy services 3.13%",
          "Electricity 2.42%",
          "Utility (piped) gas service 0.71%",
          "Water and sewer and trash collection services 1.11%",
          "Water and sewerage maintenance 0.81%",
          "Garbage and trash collection 0.30%",
          "Household furnishings and operations 4.68%",
          "Window and floor coverings and other linens 0.27%",
          "Floor coverings 0.06%",
          "Window coverings 0.06%",
          "Other linens 0.15%",
          "Furniture and bedding 0.94%",
          "Bedroom furniture 0.33%",
          "Living room, kitchen, and dining room furniture 0.45%",
          "Other furniture 0.15%",
          "Unsampled furniture 0.01%",
          "Appliances 0.22%",
          "Major appliances 0.08%",
          "Other appliances 0.14%",
          "Unsampled appliances 0.00%",
          "Other household equipment and furnishings 0.54%",
          "Clocks, lamps, and decorator items 0.31%",
          "Indoor plants and flowers 0.09%",
          "Dishes and flatware 0.05%",
          "Nonelectric cookware and tableware 0.08%",
          "Tools, hardware, outdoor equipment and supplies 0.89%",
          "Tools, hardware and supplies 0.24%",
          "Outdoor equipment and supplies 0.46%",
          "Unsampled tools, hardware, outdoor equipment and supplies 0.19%",
          "Housekeeping supplies 0.92%",
          "Household cleaning products 0.37%",
          "Household paper products 0.23%",
          "Miscellaneous household products 0.32%",
          "Household operations 0.90%",
          "Domestic services 0.30%",
          "Gardening and lawncare services 0.31%",
          "Moving, storage, freight expense 0.09%",
          "Repair of household items 0.12%",
          "Unsampled household operations 0.08%",
          "Apparel 2.66%",
          "Men's and boys' apparel 0.67%",
          "Men's apparel 0.53%",
          "Men's suits, sport coats, and outerwear 0.09%",
          "Men''s underwear, nightwear, swimwear, and accessories 0.16%",
          "Men's shirts and sweaters 0.15%",
          "Men's pants and shorts 0.13%",
          "Unsampled men's apparel 0.01%",
          "Boys' apparel 0.13%",
          "Women's and girls' apparel 1.07%",
          "Women's apparel 0.88%",
          "Women's outerwear 0.06%",
          "Women's dresses 0.09%",
          "Women's suits and separates 0.45%",
          "Women's underwear, nightwear, sportswear, and accessories 0.27%",
          "Unsampled women's apparel 0.01%",
          "Girls' apparel 0.20%",
          "Footwear 0.64%",
          "Men's footwear 0.22%",
          "Boys' and girls' footwear 0.14%",
          "Women's footwear 0.28%",
          "Infants' and toddlers' apparel 0.12%",
          "Jewelry and watches 0.15%",
          "Watches 0.04%",
          "Jewelry 0.11%",
          "Transportation 15.16%",
          "Private transportation 14.05%",
          "New and used motor vehicles 7.53%",
          "New vehicles 3.76%",
          "Used cars and trucks 2.75%",
          "Leased cars and trucks 0.64%",
          "Car and truck rental 0.13%",
          "Unsampled new and used motor vehicles 0.24%",
          "Motor fuel 2.88%",
          "Gasoline (all types) 2.81%",
          "Other motor fuels 0.06%",
          "Motor vehicle parts and equipment 0.39%",
          "Tires 0.25%",
          "Vehicle accessories other than tires 0.14%",
          "Motor vehicle maintenance and repair 1.10%",
          "Motor vehicle body work 0.06%",
          "Motor vehicle maintenance and servicing 0.64%",
          "Motor vehicle repair 0.34%",
          "Unsampled service policies 0.06%",
          "Motor vehicle insurance 1.60%",
          "Motor vehicle fees 0.56%",
          "State motor vehicle registration and license fees 0.30%",
          "Parking and other fees 0.25%",
          "Unsampled motor vehicle fees 0.01%",
          "Public transportation 1.10%",
          "Airline fares 0.63%",
          "Other intercity transportation 0.18%",
          "Intracity transportation 0.29%",
          "Unsampled public transportation 0.00%",
          "Medical care 8.87%",
          "Medical care commodities 1.58%",
          "Medicinal drugs 1.51%",
          "Prescription drugs 1.14%",
          "Nonprescription drugs 0.37%",
          "Medical equipment and supplies 0.07%",
          "Medical care services 7.29%",
          "Professional services 3.66%",
          "Physicians' services 1.82%",
          "Dental services 1.00%",
          "Eyeglasses and eye care 0.36%",
          "Services by other medical professionals 0.47%",
          "Hospital and related services 2.42%",
          "Hospital services 2.22%",
          "Nursing homes and adult day services 0.12%",
          "Care of invalids and elderly at home 0.07%",
          "Health insurance 1.21%",
          "Recreation 5.80%",
          "Video and audio 1.54%",
          "Televisions 0.09%",
          "Cable and satellite television service 1.19%",
          "Other video equipment 0.04%",
          "Video discs and other media, including rental of video 0.08%",
          "Audio equipment 0.08%",
          "Recorded music and music subscriptions 0.04%",
          "Unsampled video and audio 0.01%",
          "Pets, pet products and services 1.19%",
          "Pets and pet products 0.63%",
          "Pet services including veterinary 0.56%",
          "Sporting goods 0.60%",
          "Sports vehicles including bicycles 0.36%",
          "Sports equipment 0.23%",
          "Unsampled sporting goods 0.01%",
          "Photography 0.07%",
          "Photographic equipment and supplies 0.03%",
          "Photographers and photo processing 0.04%",
          "Unsampled photography 0.00%",
          "Other recreational goods 0.36%",
          "Toys 0.27%",
          "Sewing machines, fabric and supplies 0.02%",
          "Music instruments and accessories 0.05%",
          "Unsampled recreation commodities 0.02%",
          "Other recreation services 1.92%",
          "Club membership for shopping clubs, fraternal, or other organizations, or participant sports fees 0.69%",
          "Admissions 0.69%",
          "Fees for lessons or instructions 0.22%",
          "Unsampled recreation services 0.32%",
          "Recreational reading materials 0.12%",
          "Newspapers and magazines 0.07%",
          "Recreational books 0.05%",
          "Unsampled recreational reading materials 0.00%",
          "Education and communication 6.81%",
          "Education 3.03%",
          "Educational books and supplies 0.11%",
          "Tuition, other school fees, and childcare 2.92%",
          "College tuition and fees 1.57%",
          "Elementary and high school tuition and fees 0.43%",
          "Child care and nursery school 0.77%",
          "Technical and business school tuition and fees 0.04%",
          "Unsampled tuition, other school fees, and childcare 0.12%",
          "Communication 3.78%",
          "Postage and delivery services 0.11%",
          "Postage 0.10%",
          "Delivery services 0.01%",
          "Information and information processing 3.67%",
          "Telephone services 2.37%",
          "Wireless telephone services 1.96%",
          "Land-line telephone services 0.41%",
          "Information technology, hardware and services 1.30%",
          "Computers, peripherals, and smart home assistant devices 0.30%",
          "Computer software and accessories 0.02%",
          "Internet services and electronic information providers 0.89%",
          "Telephone hardware, calculators, and other consumer information items 0.08%",
          "Unsampled information and information processing 0.01%",
          "Other goods and services 3.16%",
          "Tobacco and smoking products 0.61%",
          "Cigarettes 0.53%",
          "Tobacco products other than cigarettes 0.06%",
          "Unsampled tobacco and smoking products 0.02%",
          "Personal care 2.55%",
          "Personal care products 0.68%",
          "Hair, dental, shaving, and miscellaneous personal care products 0.36%",
          "Cosmetics, perfume, bath, nail preparations and implements 0.31%",
          "Unsampled personal care products 0.01%",
          "Personal care services 0.69%",
          "Haircuts and other personal care services 0.69%",
          "Miscellaneous personal services 0.98%",
          "Legal services 0.25%",
          "Funeral expenses 0.14%",
          "Laundry and dry cleaning services 0.22%",
          "Apparel services other than laundry and dry cleaning 0.03%",
          "Financial services 0.23%",
          "Unsampled items 0.11%"
         ],
         "type": "scatter",
         "x": [
          0.00715707890234205,
          -0.10211137027237101,
          0.1442410973312206,
          0.26134673894896826,
          0.3771083720798255,
          0.5048372736154102,
          0.6222044085038487,
          0.657669641772225,
          0.6426653639018275,
          0.5253817999793752,
          0.6319660161574564,
          0.6731803858093223,
          0.6592815707074476,
          0.6437906838807087,
          0.4042869552886822,
          0.5891708278971162,
          0.750518964122539,
          0.873058126275172,
          0.9565788293445141,
          0.9840241290335073,
          1,
          0.9999057120824882,
          0.8733474663417702,
          0.9989553968232497,
          0.9953572766514649,
          0.9733396816358216,
          0.9423930941356535,
          0.8347373101236667,
          0.6882309260210626,
          0.8093651447868614,
          0.7797581766808288,
          0.6588037955284142,
          0.760875239270026,
          0.7204088174530181,
          0.49074595711469465,
          0.3178107833836484,
          0.429906859565747,
          0.440006112409134,
          0.4021897597484766,
          0.3399908499570386,
          0.2653212938573479,
          0.24693432726429557,
          0.34532686064537726,
          0.48303984284948953,
          0.434629925966144,
          0.3750129649736467,
          0.3132686616463519,
          0.1761970904018549,
          0.2338733502381026,
          0.1733549108046728,
          0.11445162937024289,
          0.06420065197063718,
          0.36317268098912775,
          0.5045889753786882,
          0.46700385160851643,
          0.40300963800506207,
          0.32917165771204543,
          0.4717923263713732,
          0.6105802318726844,
          0.5911151369956996,
          0.5632480486656671,
          0.4055548516474952,
          0.535832199854939,
          0.47709370036119636,
          0.20923885886390642,
          0.2920660153203056,
          0.4145809533178017,
          0.36748560700900756,
          0.31396598737795683,
          0.20109119930867445,
          0.2748551498143532,
          0.22201539288308644,
          0.12879796229004603,
          0.12061948099922383,
          0.17946341218487555,
          0.1304184820662792,
          0.07307416412480246,
          0.06477027185256766,
          0.009815649387905542,
          0.01890351896783094,
          0.10176766683150658,
          0.18666879980794246,
          0.12318994147524964,
          0.07951383606411473,
          0.03700430470098888,
          0.019812578481686233,
          -0.031400491592311154,
          -0.11554220613730452,
          -0.2101590787831205,
          -0.22679356791759092,
          -0.281587379032671,
          -0.3295481274416686,
          -0.14245304937217243,
          -0.25010391217940736,
          -0.26365294035752596,
          -0.27369258472345726,
          -0.2738968943219031,
          -0.30355657554005144,
          -0.3684337000965892,
          -0.3471360258907782,
          -0.40867997868642103,
          -0.46435567714420517,
          -0.35134337670823507,
          -0.2993702072531324,
          -0.4122728169444523,
          -0.4925838948892998,
          -0.5502157857040118,
          -0.6186311722377016,
          -0.5727216037776207,
          -0.6812420198926168,
          -0.7327558875294288,
          -0.31416938383313747,
          -0.34029888771716216,
          -0.4085697019786392,
          -0.4106608289525456,
          -0.4416910340545637,
          -0.4938906939008487,
          -0.5485799397944436,
          -0.5951313613132092,
          -0.4822037926522045,
          -0.5274748450371332,
          -0.5837539140782748,
          -0.6265604365726241,
          -0.6501409723011453,
          -0.4814492544971479,
          -0.5778627002427563,
          -0.6292739627820181,
          -0.6535374221832323,
          -0.5321213749204564,
          -0.6693655332301373,
          -0.6938111276161648,
          -0.7109637122596828,
          -0.6824270584457828,
          -0.4915594030815881,
          -0.6405703169337061,
          -0.6629683441257944,
          -0.6188454314258609,
          -0.48512358674774664,
          -0.646599072282268,
          -0.5911369441402649,
          -0.6481293055423006,
          -0.5418591342424036,
          -0.7121345387211383,
          -0.7098084761085934,
          -0.7005189579907147,
          -0.6871508725399679,
          -0.6352131670962966,
          -0.187385348482235,
          -0.31628647453982367,
          -0.4960587657158285,
          -0.6465350642944897,
          -0.6603940680674452,
          -0.6237908126730033,
          -0.630310432030288,
          -0.5631997279246372,
          -0.4145902260682131,
          -0.28628343657266025,
          -0.442680281788451,
          -0.5945711347657688,
          -0.5992833976093747,
          -0.5682716192913829,
          -0.5305389078858663,
          -0.4667244376734527,
          -0.3767663970263538,
          -0.2692804608306862,
          -0.3672377609802324,
          -0.3956867903427805,
          -0.3897745839614369,
          -0.207388523571777,
          -0.20209583342625015,
          -0.20057822068543887,
          -0.30142369375373,
          -0.15072310612400802,
          -0.22752209974613544,
          -0.3638297714163489,
          -0.5138956466982891,
          -0.5053483987272143,
          -0.4690583608468649,
          -0.4240155851220259,
          -0.3942343359619919,
          -0.3606374242696194,
          -0.5137863312616704,
          -0.45695116729079227,
          -0.26532923438168904,
          -0.37077686291526446,
          -0.29334248292384013,
          -0.23506833379143352,
          -0.34441656261303033,
          -0.3010131249879855,
          -0.24244083171984082,
          -0.19228063110272034,
          -0.2907736831557475,
          -0.17253500452441814,
          -0.23754529468801408,
          -0.163945727393287,
          -0.1190262612114452,
          -0.16234659864245754,
          -0.30284318162949353,
          -0.251285193264563,
          -0.1461516622544069,
          -0.0941283606659626,
          -0.05956609899136321,
          -0.07018032395237585,
          -0.08738274825618808,
          -0.1470056428359264,
          -0.047220018481753036,
          -0.02775831980793002,
          0.04566926202843718,
          0.08035076024500451,
          0.040942368971581745,
          0.10488306785764219,
          0.15803988661363205,
          0.204372515672444,
          0.19337331937885377,
          0.25586615369871196,
          0.31557211022504184,
          0.34624693451272404,
          0.10923651247404514,
          -0.050589491225967544,
          0.073879556526095,
          0.1421618539546112,
          0.19471896840677802,
          0.23277710368140397,
          0.2201381480010085,
          0.18324394461795668,
          0.19242182627477414,
          0.1378079985773353,
          -0.11705214137693207,
          -0.18465404496661983,
          -0.23074903764237378,
          -0.005875129554237252,
          0.023307256853649257,
          0.13010001294436777,
          0.09219262447724137,
          0.021731812301415392,
          0.15799318573070442,
          0.0751826517826463,
          0.14980199640848382,
          -0.025787466948529524,
          0.04663682819323352,
          0.0029437704685343685,
          -0.07721686302497721,
          0.10023709264983506,
          -0.08410760286325523,
          -0.0931407308498446,
          -0.1457075858655928,
          -0.17675144547815766,
          -0.037157904962230856,
          -0.11146282547269057,
          -0.2239395704345264,
          -0.12231278451128762,
          -0.18914998443734024,
          -0.04032588383033871,
          -0.03468139715686461,
          0.024603132775370486,
          -0.024666703919245345,
          -0.011777289149632806,
          -0.10364352711307936,
          -0.062188673814818345,
          0.04042732535616739,
          0.08287525875257336,
          0.07954400487787618,
          0.2142670840516551,
          0.3246595561337431,
          0.3726844651185865,
          0.15899711329737004,
          0.14968231830214743,
          0.10879447834524043,
          0.18580437589783647,
          0.29464440174074513,
          0.27634557566676404,
          0.3284697924181214,
          0.3790195051071757,
          0.42059462662432195,
          0.4512627711425479,
          0.006380443501837298,
          0.09056165167095787,
          0.15611071500555604,
          0.22599882952896055,
          0.24769121680812692,
          0.17198261989183425,
          0.25306496679675916,
          0.28742874959271747,
          0.3614929972390329,
          0.3986791020559555,
          0.29482783233056253,
          0.4479937284678117,
          0.3371050976169262,
          0.4411227276126328,
          0.41493133389126036,
          0.4762591411825199,
          0.4526544404127955,
          0.4876856598375544,
          0.466267481558672
         ],
         "y": [
          0.04509430288083315,
          -0.0985920316229374,
          0.16927876596062308,
          0.2808890210778624,
          0.19580038727219348,
          0.11466794643606107,
          0.015554223648661167,
          0.04735419860361992,
          0.13564636225476528,
          0.175473645802543,
          0.07567041507896255,
          0.11736996333725247,
          0.19250265104298625,
          0.25312631043907824,
          0.26198800377903636,
          0.28196185776176924,
          0.2260893597699827,
          0.12381412525586365,
          0.011995372890618658,
          0.057007521667932465,
          0.11472061105543166,
          0.17602764414413508,
          0.31509765157342257,
          0.26828972791733413,
          0.33462237241077336,
          0.3995392910394996,
          0.45214381341190574,
          0.18883158881101467,
          0.33594231926066503,
          0.37664699186047884,
          0.4594000345231952,
          0.4143791766850489,
          0.5117878795677305,
          0.5604154329943547,
          0.22939813493467945,
          0.2642212980480834,
          0.19544866770324695,
          0.2795544655570722,
          0.3421005560419835,
          0.38384824866853823,
          0.4158807377764602,
          0.5939683031717202,
          0.7335596850121111,
          0.7973587997988837,
          0.8335353605486375,
          0.8605892604599775,
          0.8713794100005858,
          0.7583933761373133,
          0.8846858749336217,
          0.8916581330386978,
          0.8837055746326454,
          0.8649036176885201,
          0.49952935841596424,
          0.5592737156746264,
          0.6136845630961594,
          0.6366292810266239,
          0.3261569315389221,
          0.36789705387915783,
          0.36303119388153277,
          0.43847899321547423,
          0.49170067564393405,
          0.4344768379952316,
          0.5235589452356996,
          0.5722552118035679,
          0.42279477311351227,
          0.5146675276347086,
          0.5974565264227698,
          0.6451754164354809,
          0.6647265352750812,
          0.5318201446925452,
          0.6663172230866962,
          0.6883426205437926,
          0.6610195323711411,
          0.5616607804709107,
          0.6843663830316792,
          0.7120962786511662,
          0.7138037897387499,
          0.6554492865885593,
          0.6461322461476509,
          0.6932232292974086,
          0.25674795972000636,
          0.26942120984619905,
          0.3412542195407907,
          0.3759640323446525,
          0.36119704857652846,
          0.397373069111472,
          0.15511403224640608,
          0.3225551879638266,
          0.4831799548607949,
          0.6236436970154411,
          0.6125479960287189,
          0.5881509689383403,
          0.43741819335698706,
          -0.00834653618249876,
          0.09302362731879177,
          0.18468032190193376,
          0.2583336601525427,
          0.40862791167295426,
          0.39701330743941515,
          0.22056393862828746,
          0.3718694556288548,
          0.3448333827173174,
          0.1184430037565699,
          0.1031307489286397,
          0.2412507325370782,
          0.40085415521967566,
          0.5327495696569114,
          0.4851397510434664,
          0.3321251021421114,
          0.4285738655608069,
          0.3569210189084881,
          0.2555817660495408,
          0.41276756705450557,
          0.396567361164625,
          0.011681839640018251,
          0.11588129843406919,
          0.2657839863729386,
          0.23834658104078582,
          0.1698184253932478,
          0.13403906553139538,
          0.28058347345347706,
          0.26283764932839065,
          0.22698971113364622,
          0.18165020051190744,
          0.06829345123054664,
          0.20312889441592746,
          0.1329533741123423,
          0.08126262633883216,
          0.04422724985230511,
          0.1530991320189354,
          0.10949568020290625,
          0.05830829800097959,
          0.012402377613051702,
          -0.020438967792924104,
          0.03673592218468732,
          -0.03428519373306807,
          -0.10970518108491241,
          -0.07397280958609447,
          -0.06961670463083688,
          -0.17667124529703704,
          -0.140689163827012,
          -0.057328770927032674,
          -0.05116144247245856,
          -0.0016247531065284558,
          -0.09655213919701848,
          -0.14222165797349945,
          -0.17079710552966224,
          -0.142257443736213,
          -0.17697329444670482,
          -0.25860491589253837,
          -0.23164045659621774,
          -0.27509636693663964,
          -0.3651799378792681,
          -0.3110017575371137,
          -0.3922734223191202,
          -0.20597967732634795,
          -0.22698095797340465,
          -0.34617726604561727,
          -0.3342911898233044,
          -0.3943856936309738,
          -0.44014028618002604,
          -0.47597730087645707,
          -0.4952156395437542,
          -0.27490867026595606,
          -0.11010287838150443,
          -0.043361970065348955,
          -0.10461212676166498,
          -0.16710918155351753,
          -0.09781239295966203,
          -0.21452346964641442,
          -0.34795174113298777,
          -0.3165313113446949,
          -0.20885953658669484,
          -0.37972914387669676,
          -0.4676019935782088,
          -0.4955552350652096,
          -0.5421842984309677,
          -0.5838860707924243,
          -0.5929554193435596,
          -0.6305209150372416,
          -0.3982769690089732,
          -0.44646549177031586,
          -0.530962738297725,
          -0.47090081555086977,
          -0.5942061350076997,
          -0.6316954685107493,
          -0.5233701138553523,
          -0.6406839061453408,
          -0.6733380316087475,
          -0.688602956541691,
          -0.6666726746978942,
          -0.3968915761468368,
          -0.5066771612204998,
          -0.6489543613889951,
          -0.681537748884886,
          -0.6444376420436636,
          -0.27301196654736093,
          -0.28580171882905475,
          -0.3387585830412953,
          -0.39908017176117333,
          -0.38986273066192373,
          -0.17866735314201526,
          -0.2909332909612612,
          -0.4746474855059906,
          -0.6340016977038803,
          -0.6419330248515538,
          -0.4026051921485909,
          -0.30781853132382553,
          -0.48166612659292257,
          -0.6334772538309343,
          -0.6376476373385196,
          -0.6093204533687099,
          -0.5810639838563623,
          -0.39425570648770136,
          -0.5418458818067171,
          -0.5053681901564566,
          -0.431010901850924,
          -0.37264608085619927,
          -0.046892401632153094,
          -0.06040777333687412,
          -0.1616131887486046,
          -0.13821367117030875,
          -0.08029530563952277,
          -0.02790958701721216,
          -0.08235926007022533,
          0.014807168915053865,
          0.0184474263512847,
          -0.04282121129732971,
          0.07114974706139059,
          -0.04662373173425017,
          -0.10548750913654592,
          -0.22630107143973602,
          -0.11284453113606875,
          -0.20786078289332352,
          -0.017825802248667633,
          -0.03499543819877523,
          0.10012968971408537,
          0.05177080372974551,
          0.03530882498062583,
          0.13769692527247362,
          0.1725117936242429,
          0.16232675043324227,
          0.07584383581762276,
          0.062297643776490184,
          0.2140069733224251,
          0.2051984779041995,
          0.16107990327728386,
          0.19411317200921893,
          0.009215174977143163,
          0.03963633363116897,
          0.15104239922273263,
          0.12589609578206384,
          -0.20409740965772058,
          -0.33503523220779124,
          -0.4205520560162847,
          -0.5255684432014539,
          -0.6718144118399336,
          -0.6611397813894501,
          -0.687798331864965,
          -0.6691179122074726,
          -0.6224464466920581,
          -0.3223102662059564,
          -0.36739701375887907,
          -0.4784702564687879,
          -0.40479677858572005,
          -0.4962552514723519,
          -0.6659999296072342,
          -0.8228911420324952,
          -0.8079886264292527,
          -0.6163857684955528,
          -0.7682693971452742,
          -0.7477939147659229,
          -0.7156718593220245,
          -0.6745352415114954,
          -0.631050844267866,
          -0.1390214080426098,
          -0.1685922644316708,
          -0.29311652259525117,
          -0.22569553463196135,
          -0.1450947384396799,
          -0.21904699554301485,
          -0.3463903018952466,
          -0.5010408756463222,
          -0.4732889673755021,
          -0.42362367504240894,
          -0.18589725433741136,
          -0.19115211535844234,
          -0.2640247080362485,
          -0.3985279750697386,
          -0.3603412610460277,
          -0.34130124724075084,
          -0.29479792540921,
          -0.2640372620382112,
          -0.22034769206387927
         ]
        }
       ],
       "layout": {
        "hovermode": "closest",
        "margin": {
         "b": 20,
         "l": 5,
         "r": 5,
         "t": 40
        },
        "showlegend": false,
        "template": {
         "data": {
          "bar": [
           {
            "error_x": {
             "color": "#2a3f5f"
            },
            "error_y": {
             "color": "#2a3f5f"
            },
            "marker": {
             "line": {
              "color": "#E5ECF6",
              "width": 0.5
             },
             "pattern": {
              "fillmode": "overlay",
              "size": 10,
              "solidity": 0.2
             }
            },
            "type": "bar"
           }
          ],
          "barpolar": [
           {
            "marker": {
             "line": {
              "color": "#E5ECF6",
              "width": 0.5
             },
             "pattern": {
              "fillmode": "overlay",
              "size": 10,
              "solidity": 0.2
             }
            },
            "type": "barpolar"
           }
          ],
          "carpet": [
           {
            "aaxis": {
             "endlinecolor": "#2a3f5f",
             "gridcolor": "white",
             "linecolor": "white",
             "minorgridcolor": "white",
             "startlinecolor": "#2a3f5f"
            },
            "baxis": {
             "endlinecolor": "#2a3f5f",
             "gridcolor": "white",
             "linecolor": "white",
             "minorgridcolor": "white",
             "startlinecolor": "#2a3f5f"
            },
            "type": "carpet"
           }
          ],
          "choropleth": [
           {
            "colorbar": {
             "outlinewidth": 0,
             "ticks": ""
            },
            "type": "choropleth"
           }
          ],
          "contour": [
           {
            "colorbar": {
             "outlinewidth": 0,
             "ticks": ""
            },
            "colorscale": [
             [
              0,
              "#0d0887"
             ],
             [
              0.1111111111111111,
              "#46039f"
             ],
             [
              0.2222222222222222,
              "#7201a8"
             ],
             [
              0.3333333333333333,
              "#9c179e"
             ],
             [
              0.4444444444444444,
              "#bd3786"
             ],
             [
              0.5555555555555556,
              "#d8576b"
             ],
             [
              0.6666666666666666,
              "#ed7953"
             ],
             [
              0.7777777777777778,
              "#fb9f3a"
             ],
             [
              0.8888888888888888,
              "#fdca26"
             ],
             [
              1,
              "#f0f921"
             ]
            ],
            "type": "contour"
           }
          ],
          "contourcarpet": [
           {
            "colorbar": {
             "outlinewidth": 0,
             "ticks": ""
            },
            "type": "contourcarpet"
           }
          ],
          "heatmap": [
           {
            "colorbar": {
             "outlinewidth": 0,
             "ticks": ""
            },
            "colorscale": [
             [
              0,
              "#0d0887"
             ],
             [
              0.1111111111111111,
              "#46039f"
             ],
             [
              0.2222222222222222,
              "#7201a8"
             ],
             [
              0.3333333333333333,
              "#9c179e"
             ],
             [
              0.4444444444444444,
              "#bd3786"
             ],
             [
              0.5555555555555556,
              "#d8576b"
             ],
             [
              0.6666666666666666,
              "#ed7953"
             ],
             [
              0.7777777777777778,
              "#fb9f3a"
             ],
             [
              0.8888888888888888,
              "#fdca26"
             ],
             [
              1,
              "#f0f921"
             ]
            ],
            "type": "heatmap"
           }
          ],
          "heatmapgl": [
           {
            "colorbar": {
             "outlinewidth": 0,
             "ticks": ""
            },
            "colorscale": [
             [
              0,
              "#0d0887"
             ],
             [
              0.1111111111111111,
              "#46039f"
             ],
             [
              0.2222222222222222,
              "#7201a8"
             ],
             [
              0.3333333333333333,
              "#9c179e"
             ],
             [
              0.4444444444444444,
              "#bd3786"
             ],
             [
              0.5555555555555556,
              "#d8576b"
             ],
             [
              0.6666666666666666,
              "#ed7953"
             ],
             [
              0.7777777777777778,
              "#fb9f3a"
             ],
             [
              0.8888888888888888,
              "#fdca26"
             ],
             [
              1,
              "#f0f921"
             ]
            ],
            "type": "heatmapgl"
           }
          ],
          "histogram": [
           {
            "marker": {
             "pattern": {
              "fillmode": "overlay",
              "size": 10,
              "solidity": 0.2
             }
            },
            "type": "histogram"
           }
          ],
          "histogram2d": [
           {
            "colorbar": {
             "outlinewidth": 0,
             "ticks": ""
            },
            "colorscale": [
             [
              0,
              "#0d0887"
             ],
             [
              0.1111111111111111,
              "#46039f"
             ],
             [
              0.2222222222222222,
              "#7201a8"
             ],
             [
              0.3333333333333333,
              "#9c179e"
             ],
             [
              0.4444444444444444,
              "#bd3786"
             ],
             [
              0.5555555555555556,
              "#d8576b"
             ],
             [
              0.6666666666666666,
              "#ed7953"
             ],
             [
              0.7777777777777778,
              "#fb9f3a"
             ],
             [
              0.8888888888888888,
              "#fdca26"
             ],
             [
              1,
              "#f0f921"
             ]
            ],
            "type": "histogram2d"
           }
          ],
          "histogram2dcontour": [
           {
            "colorbar": {
             "outlinewidth": 0,
             "ticks": ""
            },
            "colorscale": [
             [
              0,
              "#0d0887"
             ],
             [
              0.1111111111111111,
              "#46039f"
             ],
             [
              0.2222222222222222,
              "#7201a8"
             ],
             [
              0.3333333333333333,
              "#9c179e"
             ],
             [
              0.4444444444444444,
              "#bd3786"
             ],
             [
              0.5555555555555556,
              "#d8576b"
             ],
             [
              0.6666666666666666,
              "#ed7953"
             ],
             [
              0.7777777777777778,
              "#fb9f3a"
             ],
             [
              0.8888888888888888,
              "#fdca26"
             ],
             [
              1,
              "#f0f921"
             ]
            ],
            "type": "histogram2dcontour"
           }
          ],
          "mesh3d": [
           {
            "colorbar": {
             "outlinewidth": 0,
             "ticks": ""
            },
            "type": "mesh3d"
           }
          ],
          "parcoords": [
           {
            "line": {
             "colorbar": {
              "outlinewidth": 0,
              "ticks": ""
             }
            },
            "type": "parcoords"
           }
          ],
          "pie": [
           {
            "automargin": true,
            "type": "pie"
           }
          ],
          "scatter": [
           {
            "fillpattern": {
             "fillmode": "overlay",
             "size": 10,
             "solidity": 0.2
            },
            "type": "scatter"
           }
          ],
          "scatter3d": [
           {
            "line": {
             "colorbar": {
              "outlinewidth": 0,
              "ticks": ""
             }
            },
            "marker": {
             "colorbar": {
              "outlinewidth": 0,
              "ticks": ""
             }
            },
            "type": "scatter3d"
           }
          ],
          "scattercarpet": [
           {
            "marker": {
             "colorbar": {
              "outlinewidth": 0,
              "ticks": ""
             }
            },
            "type": "scattercarpet"
           }
          ],
          "scattergeo": [
           {
            "marker": {
             "colorbar": {
              "outlinewidth": 0,
              "ticks": ""
             }
            },
            "type": "scattergeo"
           }
          ],
          "scattergl": [
           {
            "marker": {
             "colorbar": {
              "outlinewidth": 0,
              "ticks": ""
             }
            },
            "type": "scattergl"
           }
          ],
          "scattermapbox": [
           {
            "marker": {
             "colorbar": {
              "outlinewidth": 0,
              "ticks": ""
             }
            },
            "type": "scattermapbox"
           }
          ],
          "scatterpolar": [
           {
            "marker": {
             "colorbar": {
              "outlinewidth": 0,
              "ticks": ""
             }
            },
            "type": "scatterpolar"
           }
          ],
          "scatterpolargl": [
           {
            "marker": {
             "colorbar": {
              "outlinewidth": 0,
              "ticks": ""
             }
            },
            "type": "scatterpolargl"
           }
          ],
          "scatterternary": [
           {
            "marker": {
             "colorbar": {
              "outlinewidth": 0,
              "ticks": ""
             }
            },
            "type": "scatterternary"
           }
          ],
          "surface": [
           {
            "colorbar": {
             "outlinewidth": 0,
             "ticks": ""
            },
            "colorscale": [
             [
              0,
              "#0d0887"
             ],
             [
              0.1111111111111111,
              "#46039f"
             ],
             [
              0.2222222222222222,
              "#7201a8"
             ],
             [
              0.3333333333333333,
              "#9c179e"
             ],
             [
              0.4444444444444444,
              "#bd3786"
             ],
             [
              0.5555555555555556,
              "#d8576b"
             ],
             [
              0.6666666666666666,
              "#ed7953"
             ],
             [
              0.7777777777777778,
              "#fb9f3a"
             ],
             [
              0.8888888888888888,
              "#fdca26"
             ],
             [
              1,
              "#f0f921"
             ]
            ],
            "type": "surface"
           }
          ],
          "table": [
           {
            "cells": {
             "fill": {
              "color": "#EBF0F8"
             },
             "line": {
              "color": "white"
             }
            },
            "header": {
             "fill": {
              "color": "#C8D4E3"
             },
             "line": {
              "color": "white"
             }
            },
            "type": "table"
           }
          ]
         },
         "layout": {
          "annotationdefaults": {
           "arrowcolor": "#2a3f5f",
           "arrowhead": 0,
           "arrowwidth": 1
          },
          "autotypenumbers": "strict",
          "coloraxis": {
           "colorbar": {
            "outlinewidth": 0,
            "ticks": ""
           }
          },
          "colorscale": {
           "diverging": [
            [
             0,
             "#8e0152"
            ],
            [
             0.1,
             "#c51b7d"
            ],
            [
             0.2,
             "#de77ae"
            ],
            [
             0.3,
             "#f1b6da"
            ],
            [
             0.4,
             "#fde0ef"
            ],
            [
             0.5,
             "#f7f7f7"
            ],
            [
             0.6,
             "#e6f5d0"
            ],
            [
             0.7,
             "#b8e186"
            ],
            [
             0.8,
             "#7fbc41"
            ],
            [
             0.9,
             "#4d9221"
            ],
            [
             1,
             "#276419"
            ]
           ],
           "sequential": [
            [
             0,
             "#0d0887"
            ],
            [
             0.1111111111111111,
             "#46039f"
            ],
            [
             0.2222222222222222,
             "#7201a8"
            ],
            [
             0.3333333333333333,
             "#9c179e"
            ],
            [
             0.4444444444444444,
             "#bd3786"
            ],
            [
             0.5555555555555556,
             "#d8576b"
            ],
            [
             0.6666666666666666,
             "#ed7953"
            ],
            [
             0.7777777777777778,
             "#fb9f3a"
            ],
            [
             0.8888888888888888,
             "#fdca26"
            ],
            [
             1,
             "#f0f921"
            ]
           ],
           "sequentialminus": [
            [
             0,
             "#0d0887"
            ],
            [
             0.1111111111111111,
             "#46039f"
            ],
            [
             0.2222222222222222,
             "#7201a8"
            ],
            [
             0.3333333333333333,
             "#9c179e"
            ],
            [
             0.4444444444444444,
             "#bd3786"
            ],
            [
             0.5555555555555556,
             "#d8576b"
            ],
            [
             0.6666666666666666,
             "#ed7953"
            ],
            [
             0.7777777777777778,
             "#fb9f3a"
            ],
            [
             0.8888888888888888,
             "#fdca26"
            ],
            [
             1,
             "#f0f921"
            ]
           ]
          },
          "colorway": [
           "#636efa",
           "#EF553B",
           "#00cc96",
           "#ab63fa",
           "#FFA15A",
           "#19d3f3",
           "#FF6692",
           "#B6E880",
           "#FF97FF",
           "#FECB52"
          ],
          "font": {
           "color": "#2a3f5f"
          },
          "geo": {
           "bgcolor": "white",
           "lakecolor": "white",
           "landcolor": "#E5ECF6",
           "showlakes": true,
           "showland": true,
           "subunitcolor": "white"
          },
          "hoverlabel": {
           "align": "left"
          },
          "hovermode": "closest",
          "mapbox": {
           "style": "light"
          },
          "paper_bgcolor": "white",
          "plot_bgcolor": "#E5ECF6",
          "polar": {
           "angularaxis": {
            "gridcolor": "white",
            "linecolor": "white",
            "ticks": ""
           },
           "bgcolor": "#E5ECF6",
           "radialaxis": {
            "gridcolor": "white",
            "linecolor": "white",
            "ticks": ""
           }
          },
          "scene": {
           "xaxis": {
            "backgroundcolor": "#E5ECF6",
            "gridcolor": "white",
            "gridwidth": 2,
            "linecolor": "white",
            "showbackground": true,
            "ticks": "",
            "zerolinecolor": "white"
           },
           "yaxis": {
            "backgroundcolor": "#E5ECF6",
            "gridcolor": "white",
            "gridwidth": 2,
            "linecolor": "white",
            "showbackground": true,
            "ticks": "",
            "zerolinecolor": "white"
           },
           "zaxis": {
            "backgroundcolor": "#E5ECF6",
            "gridcolor": "white",
            "gridwidth": 2,
            "linecolor": "white",
            "showbackground": true,
            "ticks": "",
            "zerolinecolor": "white"
           }
          },
          "shapedefaults": {
           "line": {
            "color": "#2a3f5f"
           }
          },
          "ternary": {
           "aaxis": {
            "gridcolor": "white",
            "linecolor": "white",
            "ticks": ""
           },
           "baxis": {
            "gridcolor": "white",
            "linecolor": "white",
            "ticks": ""
           },
           "bgcolor": "#E5ECF6",
           "caxis": {
            "gridcolor": "white",
            "linecolor": "white",
            "ticks": ""
           }
          },
          "title": {
           "x": 0.05
          },
          "xaxis": {
           "automargin": true,
           "gridcolor": "white",
           "linecolor": "white",
           "ticks": "",
           "title": {
            "standoff": 15
           },
           "zerolinecolor": "white",
           "zerolinewidth": 2
          },
          "yaxis": {
           "automargin": true,
           "gridcolor": "white",
           "linecolor": "white",
           "ticks": "",
           "title": {
            "standoff": 15
           },
           "zerolinecolor": "white",
           "zerolinewidth": 2
          }
         }
        },
        "title": {
         "font": {
          "size": 16
         },
         "text": "8-Level network graph"
        },
        "xaxis": {
         "showgrid": false,
         "showticklabels": false,
         "zeroline": false
        },
        "yaxis": {
         "showgrid": false,
         "showticklabels": false,
         "zeroline": false
        }
       }
      },
      "text/html": [
       "<div>                            <div id=\"e43770c7-0a36-4346-8bb9-dc78e3b2c752\" class=\"plotly-graph-div\" style=\"height:525px; width:100%;\"></div>            <script type=\"text/javascript\">                require([\"plotly\"], function(Plotly) {                    window.PLOTLYENV=window.PLOTLYENV || {};                                    if (document.getElementById(\"e43770c7-0a36-4346-8bb9-dc78e3b2c752\")) {                    Plotly.newPlot(                        \"e43770c7-0a36-4346-8bb9-dc78e3b2c752\",                        [{\"hoverinfo\":\"none\",\"line\":{\"color\":\"#888\",\"width\":0.5},\"mode\":\"lines\",\"x\":[0.00715707890234205,-0.10211137027237101,null,0.00715707890234205,0.1442410973312206,null,0.00715707890234205,-0.031400491592311154,null,-0.10211137027237101,-0.25010391217940736,null,-0.10211137027237101,-0.187385348482235,null,-0.10211137027237101,-0.15072310612400802,null,-0.10211137027237101,-0.05956609899136321,null,-0.10211137027237101,-0.050589491225967544,null,-0.10211137027237101,-0.04032588383033871,null,-0.10211137027237101,0.006380443501837298,null,0.1442410973312206,0.26134673894896826,null,0.1442410973312206,0.10176766683150658,null,0.26134673894896826,0.3771083720798255,null,0.26134673894896826,0.4042869552886822,null,0.26134673894896826,0.3178107833836484,null,0.26134673894896826,0.2653212938573479,null,0.26134673894896826,0.32917165771204543,null,0.26134673894896826,0.20923885886390642,null,0.3771083720798255,0.5048372736154102,null,0.3771083720798255,0.5253817999793752,null,0.5048372736154102,0.6222044085038487,null,0.5048372736154102,0.657669641772225,null,0.5048372736154102,0.6426653639018275,null,0.5253817999793752,0.6319660161574564,null,0.5253817999793752,0.6731803858093223,null,0.5253817999793752,0.6592815707074476,null,0.5253817999793752,0.6437906838807087,null,0.4042869552886822,0.5891708278971162,null,0.4042869552886822,0.49074595711469465,null,0.5891708278971162,0.750518964122539,null,0.5891708278971162,0.6882309260210626,null,0.5891708278971162,0.6588037955284142,null,0.750518964122539,0.873058126275172,null,0.750518964122539,0.8733474663417702,null,0.750518964122539,0.8347373101236667,null,0.873058126275172,0.9565788293445141,null,0.873058126275172,0.9840241290335073,null,0.873058126275172,1.0,null,0.873058126275172,0.9999057120824882,null,0.8733474663417702,0.9989553968232497,null,0.8733474663417702,0.9953572766514649,null,0.8733474663417702,0.9733396816358216,null,0.8733474663417702,0.9423930941356535,null,0.6882309260210626,0.8093651447868614,null,0.6882309260210626,0.7797581766808288,null,0.6588037955284142,0.760875239270026,null,0.6588037955284142,0.7204088174530181,null,0.3178107833836484,0.429906859565747,null,0.3178107833836484,0.440006112409134,null,0.3178107833836484,0.4021897597484766,null,0.3178107833836484,0.3399908499570386,null,0.2653212938573479,0.24693432726429557,null,0.2653212938573479,0.36317268098912775,null,0.24693432726429557,0.34532686064537726,null,0.24693432726429557,0.1761970904018549,null,0.34532686064537726,0.48303984284948953,null,0.34532686064537726,0.434629925966144,null,0.34532686064537726,0.3750129649736467,null,0.34532686064537726,0.3132686616463519,null,0.1761970904018549,0.2338733502381026,null,0.1761970904018549,0.1733549108046728,null,0.1761970904018549,0.11445162937024289,null,0.1761970904018549,0.06420065197063718,null,0.36317268098912775,0.5045889753786882,null,0.36317268098912775,0.46700385160851643,null,0.36317268098912775,0.40300963800506207,null,0.32917165771204543,0.4717923263713732,null,0.32917165771204543,0.4055548516474952,null,0.4717923263713732,0.6105802318726844,null,0.4717923263713732,0.5911151369956996,null,0.4717923263713732,0.5632480486656671,null,0.4055548516474952,0.535832199854939,null,0.4055548516474952,0.47709370036119636,null,0.20923885886390642,0.2920660153203056,null,0.20923885886390642,0.20109119930867445,null,0.20923885886390642,0.12061948099922383,null,0.2920660153203056,0.4145809533178017,null,0.2920660153203056,0.36748560700900756,null,0.2920660153203056,0.31396598737795683,null,0.20109119930867445,0.2748551498143532,null,0.20109119930867445,0.22201539288308644,null,0.20109119930867445,0.12879796229004603,null,0.12061948099922383,0.17946341218487555,null,0.12061948099922383,0.1304184820662792,null,0.12061948099922383,0.07307416412480246,null,0.12061948099922383,0.06477027185256766,null,0.12061948099922383,0.009815649387905542,null,0.12061948099922383,0.01890351896783094,null,0.10176766683150658,0.18666879980794246,null,0.10176766683150658,0.12318994147524964,null,0.10176766683150658,0.07951383606411473,null,0.10176766683150658,0.03700430470098888,null,0.10176766683150658,0.019812578481686233,null,-0.031400491592311154,-0.11554220613730452,null,-0.11554220613730452,-0.2101590787831205,null,-0.11554220613730452,-0.14245304937217243,null,-0.2101590787831205,-0.22679356791759092,null,-0.2101590787831205,-0.281587379032671,null,-0.2101590787831205,-0.3295481274416686,null,-0.25010391217940736,-0.26365294035752596,null,-0.25010391217940736,-0.2993702072531324,null,-0.25010391217940736,-0.4106608289525456,null,-0.26365294035752596,-0.27369258472345726,null,-0.26365294035752596,-0.2738968943219031,null,-0.26365294035752596,-0.3471360258907782,null,-0.26365294035752596,-0.35134337670823507,null,-0.2738968943219031,-0.30355657554005144,null,-0.2738968943219031,-0.3684337000965892,null,-0.3471360258907782,-0.40867997868642103,null,-0.3471360258907782,-0.46435567714420517,null,-0.2993702072531324,-0.4122728169444523,null,-0.2993702072531324,-0.31416938383313747,null,-0.4122728169444523,-0.4925838948892998,null,-0.4122728169444523,-0.5727216037776207,null,-0.4925838948892998,-0.5502157857040118,null,-0.4925838948892998,-0.6186311722377016,null,-0.5727216037776207,-0.6812420198926168,null,-0.5727216037776207,-0.7327558875294288,null,-0.31416938383313747,-0.34029888771716216,null,-0.31416938383313747,-0.4085697019786392,null,-0.4106608289525456,-0.4416910340545637,null,-0.4106608289525456,-0.4822037926522045,null,-0.4106608289525456,-0.4814492544971479,null,-0.4106608289525456,-0.5321213749204564,null,-0.4106608289525456,-0.4915594030815881,null,-0.4106608289525456,-0.48512358674774664,null,-0.4106608289525456,-0.5418591342424036,null,-0.4416910340545637,-0.4938906939008487,null,-0.4416910340545637,-0.5485799397944436,null,-0.4416910340545637,-0.5951313613132092,null,-0.4822037926522045,-0.5274748450371332,null,-0.4822037926522045,-0.5837539140782748,null,-0.4822037926522045,-0.6265604365726241,null,-0.4822037926522045,-0.6501409723011453,null,-0.4814492544971479,-0.5778627002427563,null,-0.4814492544971479,-0.6292739627820181,null,-0.4814492544971479,-0.6535374221832323,null,-0.5321213749204564,-0.6693655332301373,null,-0.5321213749204564,-0.6938111276161648,null,-0.5321213749204564,-0.7109637122596828,null,-0.5321213749204564,-0.6824270584457828,null,-0.4915594030815881,-0.6405703169337061,null,-0.4915594030815881,-0.6629683441257944,null,-0.4915594030815881,-0.6188454314258609,null,-0.48512358674774664,-0.646599072282268,null,-0.48512358674774664,-0.5911369441402649,null,-0.48512358674774664,-0.6481293055423006,null,-0.5418591342424036,-0.7121345387211383,null,-0.5418591342424036,-0.7098084761085934,null,-0.5418591342424036,-0.7005189579907147,null,-0.5418591342424036,-0.6871508725399679,null,-0.5418591342424036,-0.6352131670962966,null,-0.187385348482235,-0.31628647453982367,null,-0.187385348482235,-0.28628343657266025,null,-0.187385348482235,-0.2692804608306862,null,-0.187385348482235,-0.207388523571777,null,-0.187385348482235,-0.20209583342625015,null,-0.31628647453982367,-0.4960587657158285,null,-0.31628647453982367,-0.4145902260682131,null,-0.4960587657158285,-0.6465350642944897,null,-0.4960587657158285,-0.6603940680674452,null,-0.4960587657158285,-0.6237908126730033,null,-0.4960587657158285,-0.630310432030288,null,-0.4960587657158285,-0.5631997279246372,null,-0.28628343657266025,-0.442680281788451,null,-0.28628343657266025,-0.3767663970263538,null,-0.442680281788451,-0.5945711347657688,null,-0.442680281788451,-0.5992833976093747,null,-0.442680281788451,-0.5682716192913829,null,-0.442680281788451,-0.5305389078858663,null,-0.442680281788451,-0.4667244376734527,null,-0.2692804608306862,-0.3672377609802324,null,-0.2692804608306862,-0.3956867903427805,null,-0.2692804608306862,-0.3897745839614369,null,-0.20209583342625015,-0.20057822068543887,null,-0.20209583342625015,-0.30142369375373,null,-0.15072310612400802,-0.22752209974613544,null,-0.15072310612400802,-0.16234659864245754,null,-0.22752209974613544,-0.3638297714163489,null,-0.22752209974613544,-0.3606374242696194,null,-0.22752209974613544,-0.26532923438168904,null,-0.22752209974613544,-0.23506833379143352,null,-0.22752209974613544,-0.2907736831557475,null,-0.22752209974613544,-0.17253500452441814,null,-0.3638297714163489,-0.5138956466982891,null,-0.3638297714163489,-0.5053483987272143,null,-0.3638297714163489,-0.4690583608468649,null,-0.3638297714163489,-0.4240155851220259,null,-0.3638297714163489,-0.3942343359619919,null,-0.3606374242696194,-0.5137863312616704,null,-0.3606374242696194,-0.45695116729079227,null,-0.26532923438168904,-0.37077686291526446,null,-0.26532923438168904,-0.29334248292384013,null,-0.23506833379143352,-0.34441656261303033,null,-0.23506833379143352,-0.3010131249879855,null,-0.23506833379143352,-0.24244083171984082,null,-0.23506833379143352,-0.19228063110272034,null,-0.17253500452441814,-0.23754529468801408,null,-0.17253500452441814,-0.163945727393287,null,-0.17253500452441814,-0.1190262612114452,null,-0.16234659864245754,-0.30284318162949353,null,-0.16234659864245754,-0.251285193264563,null,-0.16234659864245754,-0.1461516622544069,null,-0.16234659864245754,-0.0941283606659626,null,-0.05956609899136321,-0.07018032395237585,null,-0.05956609899136321,0.04566926202843718,null,-0.07018032395237585,-0.08738274825618808,null,-0.07018032395237585,-0.02775831980793002,null,-0.08738274825618808,-0.1470056428359264,null,-0.08738274825618808,-0.047220018481753036,null,0.04566926202843718,0.08035076024500451,null,0.04566926202843718,0.19337331937885377,null,0.04566926202843718,0.10923651247404514,null,0.08035076024500451,0.040942368971581745,null,0.08035076024500451,0.10488306785764219,null,0.08035076024500451,0.15803988661363205,null,0.08035076024500451,0.204372515672444,null,0.19337331937885377,0.25586615369871196,null,0.19337331937885377,0.31557211022504184,null,0.19337331937885377,0.34624693451272404,null,-0.050589491225967544,0.073879556526095,null,-0.050589491225967544,-0.11705214137693207,null,-0.050589491225967544,-0.005875129554237252,null,-0.050589491225967544,0.021731812301415392,null,-0.050589491225967544,-0.025787466948529524,null,-0.050589491225967544,-0.08410760286325523,null,-0.050589491225967544,-0.11146282547269057,null,0.073879556526095,0.1421618539546112,null,0.073879556526095,0.19471896840677802,null,0.073879556526095,0.23277710368140397,null,0.073879556526095,0.2201381480010085,null,0.073879556526095,0.18324394461795668,null,0.073879556526095,0.19242182627477414,null,0.073879556526095,0.1378079985773353,null,-0.11705214137693207,-0.18465404496661983,null,-0.11705214137693207,-0.23074903764237378,null,-0.005875129554237252,0.023307256853649257,null,-0.005875129554237252,0.13010001294436777,null,-0.005875129554237252,0.09219262447724137,null,0.021731812301415392,0.15799318573070442,null,0.021731812301415392,0.0751826517826463,null,0.021731812301415392,0.14980199640848382,null,-0.025787466948529524,0.04663682819323352,null,-0.025787466948529524,0.0029437704685343685,null,-0.025787466948529524,-0.07721686302497721,null,-0.025787466948529524,0.10023709264983506,null,-0.08410760286325523,-0.0931407308498446,null,-0.08410760286325523,-0.1457075858655928,null,-0.08410760286325523,-0.17675144547815766,null,-0.08410760286325523,-0.037157904962230856,null,-0.11146282547269057,-0.2239395704345264,null,-0.11146282547269057,-0.12231278451128762,null,-0.11146282547269057,-0.18914998443734024,null,-0.04032588383033871,-0.03468139715686461,null,-0.04032588383033871,0.07954400487787618,null,-0.03468139715686461,0.024603132775370486,null,-0.03468139715686461,-0.024666703919245345,null,-0.024666703919245345,-0.011777289149632806,null,-0.024666703919245345,-0.10364352711307936,null,-0.024666703919245345,-0.062188673814818345,null,-0.024666703919245345,0.04042732535616739,null,-0.024666703919245345,0.08287525875257336,null,0.07954400487787618,0.2142670840516551,null,0.07954400487787618,0.15899711329737004,null,0.2142670840516551,0.3246595561337431,null,0.2142670840516551,0.3726844651185865,null,0.15899711329737004,0.14968231830214743,null,0.15899711329737004,0.29464440174074513,null,0.14968231830214743,0.10879447834524043,null,0.14968231830214743,0.18580437589783647,null,0.29464440174074513,0.27634557566676404,null,0.29464440174074513,0.3284697924181214,null,0.29464440174074513,0.3790195051071757,null,0.29464440174074513,0.42059462662432195,null,0.29464440174074513,0.4512627711425479,null,0.006380443501837298,0.09056165167095787,null,0.006380443501837298,0.17198261989183425,null,0.09056165167095787,0.15611071500555604,null,0.09056165167095787,0.22599882952896055,null,0.09056165167095787,0.24769121680812692,null,0.17198261989183425,0.25306496679675916,null,0.17198261989183425,0.29482783233056253,null,0.17198261989183425,0.3371050976169262,null,0.25306496679675916,0.28742874959271747,null,0.25306496679675916,0.3614929972390329,null,0.25306496679675916,0.3986791020559555,null,0.29482783233056253,0.4479937284678117,null,0.3371050976169262,0.4411227276126328,null,0.3371050976169262,0.41493133389126036,null,0.3371050976169262,0.4762591411825199,null,0.3371050976169262,0.4526544404127955,null,0.3371050976169262,0.4876856598375544,null,0.3371050976169262,0.466267481558672,null],\"y\":[0.04509430288083315,-0.0985920316229374,null,0.04509430288083315,0.16927876596062308,null,0.04509430288083315,0.15511403224640608,null,-0.0985920316229374,-0.00834653618249876,null,-0.0985920316229374,-0.142257443736213,null,-0.0985920316229374,-0.20885953658669484,null,-0.0985920316229374,-0.17866735314201526,null,-0.0985920316229374,-0.046892401632153094,null,-0.0985920316229374,-0.20409740965772058,null,-0.0985920316229374,-0.1390214080426098,null,0.16927876596062308,0.2808890210778624,null,0.16927876596062308,0.25674795972000636,null,0.2808890210778624,0.19580038727219348,null,0.2808890210778624,0.26198800377903636,null,0.2808890210778624,0.2642212980480834,null,0.2808890210778624,0.4158807377764602,null,0.2808890210778624,0.3261569315389221,null,0.2808890210778624,0.42279477311351227,null,0.19580038727219348,0.11466794643606107,null,0.19580038727219348,0.175473645802543,null,0.11466794643606107,0.015554223648661167,null,0.11466794643606107,0.04735419860361992,null,0.11466794643606107,0.13564636225476528,null,0.175473645802543,0.07567041507896255,null,0.175473645802543,0.11736996333725247,null,0.175473645802543,0.19250265104298625,null,0.175473645802543,0.25312631043907824,null,0.26198800377903636,0.28196185776176924,null,0.26198800377903636,0.22939813493467945,null,0.28196185776176924,0.2260893597699827,null,0.28196185776176924,0.33594231926066503,null,0.28196185776176924,0.4143791766850489,null,0.2260893597699827,0.12381412525586365,null,0.2260893597699827,0.31509765157342257,null,0.2260893597699827,0.18883158881101467,null,0.12381412525586365,0.011995372890618658,null,0.12381412525586365,0.057007521667932465,null,0.12381412525586365,0.11472061105543166,null,0.12381412525586365,0.17602764414413508,null,0.31509765157342257,0.26828972791733413,null,0.31509765157342257,0.33462237241077336,null,0.31509765157342257,0.3995392910394996,null,0.31509765157342257,0.45214381341190574,null,0.33594231926066503,0.37664699186047884,null,0.33594231926066503,0.4594000345231952,null,0.4143791766850489,0.5117878795677305,null,0.4143791766850489,0.5604154329943547,null,0.2642212980480834,0.19544866770324695,null,0.2642212980480834,0.2795544655570722,null,0.2642212980480834,0.3421005560419835,null,0.2642212980480834,0.38384824866853823,null,0.4158807377764602,0.5939683031717202,null,0.4158807377764602,0.49952935841596424,null,0.5939683031717202,0.7335596850121111,null,0.5939683031717202,0.7583933761373133,null,0.7335596850121111,0.7973587997988837,null,0.7335596850121111,0.8335353605486375,null,0.7335596850121111,0.8605892604599775,null,0.7335596850121111,0.8713794100005858,null,0.7583933761373133,0.8846858749336217,null,0.7583933761373133,0.8916581330386978,null,0.7583933761373133,0.8837055746326454,null,0.7583933761373133,0.8649036176885201,null,0.49952935841596424,0.5592737156746264,null,0.49952935841596424,0.6136845630961594,null,0.49952935841596424,0.6366292810266239,null,0.3261569315389221,0.36789705387915783,null,0.3261569315389221,0.4344768379952316,null,0.36789705387915783,0.36303119388153277,null,0.36789705387915783,0.43847899321547423,null,0.36789705387915783,0.49170067564393405,null,0.4344768379952316,0.5235589452356996,null,0.4344768379952316,0.5722552118035679,null,0.42279477311351227,0.5146675276347086,null,0.42279477311351227,0.5318201446925452,null,0.42279477311351227,0.5616607804709107,null,0.5146675276347086,0.5974565264227698,null,0.5146675276347086,0.6451754164354809,null,0.5146675276347086,0.6647265352750812,null,0.5318201446925452,0.6663172230866962,null,0.5318201446925452,0.6883426205437926,null,0.5318201446925452,0.6610195323711411,null,0.5616607804709107,0.6843663830316792,null,0.5616607804709107,0.7120962786511662,null,0.5616607804709107,0.7138037897387499,null,0.5616607804709107,0.6554492865885593,null,0.5616607804709107,0.6461322461476509,null,0.5616607804709107,0.6932232292974086,null,0.25674795972000636,0.26942120984619905,null,0.25674795972000636,0.3412542195407907,null,0.25674795972000636,0.3759640323446525,null,0.25674795972000636,0.36119704857652846,null,0.25674795972000636,0.397373069111472,null,0.15511403224640608,0.3225551879638266,null,0.3225551879638266,0.4831799548607949,null,0.3225551879638266,0.43741819335698706,null,0.4831799548607949,0.6236436970154411,null,0.4831799548607949,0.6125479960287189,null,0.4831799548607949,0.5881509689383403,null,-0.00834653618249876,0.09302362731879177,null,-0.00834653618249876,0.1031307489286397,null,-0.00834653618249876,0.011681839640018251,null,0.09302362731879177,0.18468032190193376,null,0.09302362731879177,0.2583336601525427,null,0.09302362731879177,0.22056393862828746,null,0.09302362731879177,0.1184430037565699,null,0.2583336601525427,0.40862791167295426,null,0.2583336601525427,0.39701330743941515,null,0.22056393862828746,0.3718694556288548,null,0.22056393862828746,0.3448333827173174,null,0.1031307489286397,0.2412507325370782,null,0.1031307489286397,0.2555817660495408,null,0.2412507325370782,0.40085415521967566,null,0.2412507325370782,0.3321251021421114,null,0.40085415521967566,0.5327495696569114,null,0.40085415521967566,0.4851397510434664,null,0.3321251021421114,0.4285738655608069,null,0.3321251021421114,0.3569210189084881,null,0.2555817660495408,0.41276756705450557,null,0.2555817660495408,0.396567361164625,null,0.011681839640018251,0.11588129843406919,null,0.011681839640018251,0.13403906553139538,null,0.011681839640018251,0.06829345123054664,null,0.011681839640018251,0.04422724985230511,null,0.011681839640018251,-0.020438967792924104,null,0.011681839640018251,-0.07397280958609447,null,0.011681839640018251,-0.057328770927032674,null,0.11588129843406919,0.2657839863729386,null,0.11588129843406919,0.23834658104078582,null,0.11588129843406919,0.1698184253932478,null,0.13403906553139538,0.28058347345347706,null,0.13403906553139538,0.26283764932839065,null,0.13403906553139538,0.22698971113364622,null,0.13403906553139538,0.18165020051190744,null,0.06829345123054664,0.20312889441592746,null,0.06829345123054664,0.1329533741123423,null,0.06829345123054664,0.08126262633883216,null,0.04422724985230511,0.1530991320189354,null,0.04422724985230511,0.10949568020290625,null,0.04422724985230511,0.05830829800097959,null,0.04422724985230511,0.012402377613051702,null,-0.020438967792924104,0.03673592218468732,null,-0.020438967792924104,-0.03428519373306807,null,-0.020438967792924104,-0.10970518108491241,null,-0.07397280958609447,-0.06961670463083688,null,-0.07397280958609447,-0.17667124529703704,null,-0.07397280958609447,-0.140689163827012,null,-0.057328770927032674,-0.05116144247245856,null,-0.057328770927032674,-0.0016247531065284558,null,-0.057328770927032674,-0.09655213919701848,null,-0.057328770927032674,-0.14222165797349945,null,-0.057328770927032674,-0.17079710552966224,null,-0.142257443736213,-0.17697329444670482,null,-0.142257443736213,-0.22698095797340465,null,-0.142257443736213,-0.11010287838150443,null,-0.142257443736213,-0.09781239295966203,null,-0.142257443736213,-0.21452346964641442,null,-0.17697329444670482,-0.25860491589253837,null,-0.17697329444670482,-0.20597967732634795,null,-0.25860491589253837,-0.23164045659621774,null,-0.25860491589253837,-0.27509636693663964,null,-0.25860491589253837,-0.3651799378792681,null,-0.25860491589253837,-0.3110017575371137,null,-0.25860491589253837,-0.3922734223191202,null,-0.22698095797340465,-0.34617726604561727,null,-0.22698095797340465,-0.27490867026595606,null,-0.34617726604561727,-0.3342911898233044,null,-0.34617726604561727,-0.3943856936309738,null,-0.34617726604561727,-0.44014028618002604,null,-0.34617726604561727,-0.47597730087645707,null,-0.34617726604561727,-0.4952156395437542,null,-0.11010287838150443,-0.043361970065348955,null,-0.11010287838150443,-0.10461212676166498,null,-0.11010287838150443,-0.16710918155351753,null,-0.21452346964641442,-0.34795174113298777,null,-0.21452346964641442,-0.3165313113446949,null,-0.20885953658669484,-0.37972914387669676,null,-0.20885953658669484,-0.27301196654736093,null,-0.37972914387669676,-0.4676019935782088,null,-0.37972914387669676,-0.3982769690089732,null,-0.37972914387669676,-0.47090081555086977,null,-0.37972914387669676,-0.5233701138553523,null,-0.37972914387669676,-0.3968915761468368,null,-0.37972914387669676,-0.5066771612204998,null,-0.4676019935782088,-0.4955552350652096,null,-0.4676019935782088,-0.5421842984309677,null,-0.4676019935782088,-0.5838860707924243,null,-0.4676019935782088,-0.5929554193435596,null,-0.4676019935782088,-0.6305209150372416,null,-0.3982769690089732,-0.44646549177031586,null,-0.3982769690089732,-0.530962738297725,null,-0.47090081555086977,-0.5942061350076997,null,-0.47090081555086977,-0.6316954685107493,null,-0.5233701138553523,-0.6406839061453408,null,-0.5233701138553523,-0.6733380316087475,null,-0.5233701138553523,-0.688602956541691,null,-0.5233701138553523,-0.6666726746978942,null,-0.5066771612204998,-0.6489543613889951,null,-0.5066771612204998,-0.681537748884886,null,-0.5066771612204998,-0.6444376420436636,null,-0.27301196654736093,-0.28580171882905475,null,-0.27301196654736093,-0.3387585830412953,null,-0.27301196654736093,-0.39908017176117333,null,-0.27301196654736093,-0.38986273066192373,null,-0.17866735314201526,-0.2909332909612612,null,-0.17866735314201526,-0.30781853132382553,null,-0.2909332909612612,-0.4746474855059906,null,-0.2909332909612612,-0.4026051921485909,null,-0.4746474855059906,-0.6340016977038803,null,-0.4746474855059906,-0.6419330248515538,null,-0.30781853132382553,-0.48166612659292257,null,-0.30781853132382553,-0.39425570648770136,null,-0.30781853132382553,-0.37264608085619927,null,-0.48166612659292257,-0.6334772538309343,null,-0.48166612659292257,-0.6376476373385196,null,-0.48166612659292257,-0.6093204533687099,null,-0.48166612659292257,-0.5810639838563623,null,-0.39425570648770136,-0.5418458818067171,null,-0.39425570648770136,-0.5053681901564566,null,-0.39425570648770136,-0.431010901850924,null,-0.046892401632153094,-0.06040777333687412,null,-0.046892401632153094,-0.04282121129732971,null,-0.046892401632153094,-0.10548750913654592,null,-0.046892401632153094,-0.017825802248667633,null,-0.046892401632153094,0.03530882498062583,null,-0.046892401632153094,0.062297643776490184,null,-0.046892401632153094,0.009215174977143163,null,-0.06040777333687412,-0.1616131887486046,null,-0.06040777333687412,-0.13821367117030875,null,-0.06040777333687412,-0.08029530563952277,null,-0.06040777333687412,-0.02790958701721216,null,-0.06040777333687412,-0.08235926007022533,null,-0.06040777333687412,0.014807168915053865,null,-0.06040777333687412,0.0184474263512847,null,-0.04282121129732971,0.07114974706139059,null,-0.04282121129732971,-0.04662373173425017,null,-0.10548750913654592,-0.22630107143973602,null,-0.10548750913654592,-0.11284453113606875,null,-0.10548750913654592,-0.20786078289332352,null,-0.017825802248667633,-0.03499543819877523,null,-0.017825802248667633,0.10012968971408537,null,-0.017825802248667633,0.05177080372974551,null,0.03530882498062583,0.13769692527247362,null,0.03530882498062583,0.1725117936242429,null,0.03530882498062583,0.16232675043324227,null,0.03530882498062583,0.07584383581762276,null,0.062297643776490184,0.2140069733224251,null,0.062297643776490184,0.2051984779041995,null,0.062297643776490184,0.16107990327728386,null,0.062297643776490184,0.19411317200921893,null,0.009215174977143163,0.03963633363116897,null,0.009215174977143163,0.15104239922273263,null,0.009215174977143163,0.12589609578206384,null,-0.20409740965772058,-0.33503523220779124,null,-0.20409740965772058,-0.3223102662059564,null,-0.33503523220779124,-0.4205520560162847,null,-0.33503523220779124,-0.5255684432014539,null,-0.5255684432014539,-0.6718144118399336,null,-0.5255684432014539,-0.6611397813894501,null,-0.5255684432014539,-0.687798331864965,null,-0.5255684432014539,-0.6691179122074726,null,-0.5255684432014539,-0.6224464466920581,null,-0.3223102662059564,-0.36739701375887907,null,-0.3223102662059564,-0.4962552514723519,null,-0.36739701375887907,-0.4784702564687879,null,-0.36739701375887907,-0.40479677858572005,null,-0.4962552514723519,-0.6659999296072342,null,-0.4962552514723519,-0.6163857684955528,null,-0.6659999296072342,-0.8228911420324952,null,-0.6659999296072342,-0.8079886264292527,null,-0.6163857684955528,-0.7682693971452742,null,-0.6163857684955528,-0.7477939147659229,null,-0.6163857684955528,-0.7156718593220245,null,-0.6163857684955528,-0.6745352415114954,null,-0.6163857684955528,-0.631050844267866,null,-0.1390214080426098,-0.1685922644316708,null,-0.1390214080426098,-0.21904699554301485,null,-0.1685922644316708,-0.29311652259525117,null,-0.1685922644316708,-0.22569553463196135,null,-0.1685922644316708,-0.1450947384396799,null,-0.21904699554301485,-0.3463903018952466,null,-0.21904699554301485,-0.18589725433741136,null,-0.21904699554301485,-0.2640247080362485,null,-0.3463903018952466,-0.5010408756463222,null,-0.3463903018952466,-0.4732889673755021,null,-0.3463903018952466,-0.42362367504240894,null,-0.18589725433741136,-0.19115211535844234,null,-0.2640247080362485,-0.3985279750697386,null,-0.2640247080362485,-0.3603412610460277,null,-0.2640247080362485,-0.34130124724075084,null,-0.2640247080362485,-0.29479792540921,null,-0.2640247080362485,-0.2640372620382112,null,-0.2640247080362485,-0.22034769206387927,null],\"type\":\"scatter\"},{\"hoverinfo\":\"text\",\"marker\":{\"color\":[1,0,2,3,4,5,6,6,6,5,6,6,6,6,4,5,6,7,8,8,8,8,7,8,8,8,8,7,6,7,7,6,7,7,5,4,5,5,5,5,4,5,6,7,7,7,7,6,7,7,7,7,5,6,6,6,4,5,6,6,6,5,6,6,4,5,6,6,6,5,6,6,6,5,6,6,6,6,6,6,3,4,4,4,4,4,2,3,4,5,5,5,4,1,2,3,3,4,4,3,4,4,3,2,3,4,5,5,4,5,5,3,4,4,2,3,4,4,4,3,4,4,4,4,3,4,4,4,3,4,4,4,4,3,4,4,4,3,4,4,4,3,4,4,4,4,4,1,2,3,4,4,4,4,4,3,2,3,4,4,4,4,4,3,2,3,3,3,2,2,3,3,1,2,3,4,4,4,4,4,3,4,4,3,4,4,3,4,4,4,4,3,3,4,4,4,2,3,3,3,3,1,2,3,4,4,3,2,3,4,4,4,4,3,4,4,4,3,1,2,3,3,3,3,3,3,3,2,3,3,2,3,3,3,2,3,3,3,2,3,3,3,3,2,3,3,3,3,2,3,3,3,1,2,3,3,4,4,4,4,4,2,3,4,4,3,4,5,5,4,5,5,5,5,5,1,2,3,3,3,2,3,4,4,4,3,4,3,4,4,4,4,4,4],\"colorbar\":{\"thickness\":15,\"title\":{\"side\":\"right\",\"text\":\"Indent Level\"},\"xanchor\":\"left\"},\"colorscale\":[[0.0,\"rgb(255,255,217)\"],[0.125,\"rgb(237,248,177)\"],[0.25,\"rgb(199,233,180)\"],[0.375,\"rgb(127,205,187)\"],[0.5,\"rgb(65,182,196)\"],[0.625,\"rgb(29,145,192)\"],[0.75,\"rgb(34,94,168)\"],[0.875,\"rgb(37,52,148)\"],[1.0,\"rgb(8,29,88)\"]],\"line\":{\"width\":2},\"reversescale\":true,\"showscale\":true,\"size\":10},\"mode\":\"markers\",\"text\":[\"Food and beverages 15.16%\",\"All items 100.00%\",\"Food 14.12%\",\"Food at home 7.77%\",\"Cereals and bakery products 1.00%\",\"Cereals and cereal products 0.31%\",\"Flour and prepared flour mixes 0.04%\",\"Breakfast cereal 0.14%\",\"Rice, pasta, cornmeal 0.12%\",\"Bakery products 0.69%\",\"Bread 0.20%\",\"Fresh biscuits, rolls, muffins 0.10%\",\"Cakes, cupcakes, and cookies 0.18%\",\"Other bakery products 0.21%\",\"Meats, poultry, fish, and eggs 1.74%\",\"Meats, poultry, and fish 1.64%\",\"Meats 1.03%\",\"Beef and veal 0.47%\",\"Uncooked ground beef 0.17%\",\"Uncooked beef roasts 0.07%\",\"Uncooked beef steaks 0.18%\",\"Uncooked other beef and veal 0.04%\",\"Pork 0.32%\",\"Bacon, breakfast sausage, and related products 0.13%\",\"Ham 0.06%\",\"Pork chops 0.05%\",\"Other pork including roasts, steaks, and ribs 0.07%\",\"Other meats 0.23%\",\"Poultry 0.33%\",\"Chicken 0.27%\",\"Other uncooked poultry including turkey 0.06%\",\"Fish and seafood 0.28%\",\"Fresh fish and seafood 0.14%\",\"Processed fish and seafood 0.14%\",\"Eggs 0.10%\",\"Dairy and related products 0.79%\",\"Milk 0.22%\",\"Cheese and related products 0.27%\",\"Ice cream and related products 0.11%\",\"Other dairy and related products 0.20%\",\"Fruits and vegetables 1.34%\",\"Fresh fruits and vegetables 1.05%\",\"Fresh fruits 0.54%\",\"Apples 0.07%\",\"Bananas 0.07%\",\"Citrus fruits 0.14%\",\"Other fresh fruits 0.25%\",\"Fresh vegetables 0.52%\",\"Potatoes 0.07%\",\"Lettuce 0.07%\",\"Tomatoes 0.08%\",\"Other fresh vegetables 0.29%\",\"Processed fruits and vegetables 0.29%\",\"Canned fruits and vegetables 0.15%\",\"Frozen fruits and vegetables 0.09%\",\"Other processed fruits and vegetables including dried 0.05%\",\"Nonalcoholic beverages and beverage materials 0.93%\",\"Juices and nonalcoholic drinks 0.67%\",\"Carbonated drinks 0.28%\",\"Frozen noncarbonated juices and drinks 0.01%\",\"Nonfrozen noncarbonated juices and drinks 0.38%\",\"Beverage materials including coffee and tea 0.26%\",\"Coffee 0.17%\",\"Other beverage materials including tea 0.10%\",\"Other food at home 1.97%\",\"Sugar and sweets 0.27%\",\"Sugar and sugar substitutes 0.04%\",\"Candy and chewing gum 0.18%\",\"Other sweets 0.05%\",\"Fats and oils 0.21%\",\"Butter and margarine 0.06%\",\"Salad dressing 0.05%\",\"Other fats and oils including peanut butter 0.10%\",\"Other foods 1.49%\",\"Soups 0.09%\",\"Frozen and freeze dried prepared foods 0.26%\",\"Snacks 0.34%\",\"Spices, seasonings, condiments, sauces 0.29%\",\"Baby food 0.04%\",\"Other miscellaneous foods 0.47%\",\"Food away from home 6.35%\",\"Full service meals and snacks 3.18%\",\"Limited service meals and snacks 2.79%\",\"Food at employee sites and schools 0.13%\",\"Food from vending machines and mobile vendors 0.08%\",\"Other food away from home 0.17%\",\"Beverages 1.04%\",\"Alcoholic beverages 1.04%\",\"Alcoholic beverages at home 0.58%\",\"Beer, ale, and other malt beverages at home 0.22%\",\"Distilled spirits at home 0.09%\",\"Wine at home 0.26%\",\"Alcoholic beverages away from home 0.46%\",\"Housing 42.38%\",\"Shelter 33.32%\",\"Rent of primary residence 7.86%\",\"Lodging away from home 0.82%\",\"Housing at school, excluding board 0.12%\",\"Other lodging away from home including hotels and motels 0.71%\",\"Owners' equivalent rent of residences 24.26%\",\"Owners' equivalent rent of primary residence 23.04%\",\"Unsampled owners' equivalent rent of secondary residences 1.22%\",\"Tenants' and household insurance 0.37%\",\"Fuels and utilities 4.39%\",\"Household energy 3.28%\",\"Fuel oil and other fuels 0.14%\",\"Fuel oil 0.08%\",\"Propane, kerosene, and firewood 0.06%\",\"Energy services 3.13%\",\"Electricity 2.42%\",\"Utility (piped) gas service 0.71%\",\"Water and sewer and trash collection services 1.11%\",\"Water and sewerage maintenance 0.81%\",\"Garbage and trash collection 0.30%\",\"Household furnishings and operations 4.68%\",\"Window and floor coverings and other linens 0.27%\",\"Floor coverings 0.06%\",\"Window coverings 0.06%\",\"Other linens 0.15%\",\"Furniture and bedding 0.94%\",\"Bedroom furniture 0.33%\",\"Living room, kitchen, and dining room furniture 0.45%\",\"Other furniture 0.15%\",\"Unsampled furniture 0.01%\",\"Appliances 0.22%\",\"Major appliances 0.08%\",\"Other appliances 0.14%\",\"Unsampled appliances 0.00%\",\"Other household equipment and furnishings 0.54%\",\"Clocks, lamps, and decorator items 0.31%\",\"Indoor plants and flowers 0.09%\",\"Dishes and flatware 0.05%\",\"Nonelectric cookware and tableware 0.08%\",\"Tools, hardware, outdoor equipment and supplies 0.89%\",\"Tools, hardware and supplies 0.24%\",\"Outdoor equipment and supplies 0.46%\",\"Unsampled tools, hardware, outdoor equipment and supplies 0.19%\",\"Housekeeping supplies 0.92%\",\"Household cleaning products 0.37%\",\"Household paper products 0.23%\",\"Miscellaneous household products 0.32%\",\"Household operations 0.90%\",\"Domestic services 0.30%\",\"Gardening and lawncare services 0.31%\",\"Moving, storage, freight expense 0.09%\",\"Repair of household items 0.12%\",\"Unsampled household operations 0.08%\",\"Apparel 2.66%\",\"Men's and boys' apparel 0.67%\",\"Men's apparel 0.53%\",\"Men's suits, sport coats, and outerwear 0.09%\",\"Men''s underwear, nightwear, swimwear, and accessories 0.16%\",\"Men's shirts and sweaters 0.15%\",\"Men's pants and shorts 0.13%\",\"Unsampled men's apparel 0.01%\",\"Boys' apparel 0.13%\",\"Women's and girls' apparel 1.07%\",\"Women's apparel 0.88%\",\"Women's outerwear 0.06%\",\"Women's dresses 0.09%\",\"Women's suits and separates 0.45%\",\"Women's underwear, nightwear, sportswear, and accessories 0.27%\",\"Unsampled women's apparel 0.01%\",\"Girls' apparel 0.20%\",\"Footwear 0.64%\",\"Men's footwear 0.22%\",\"Boys' and girls' footwear 0.14%\",\"Women's footwear 0.28%\",\"Infants' and toddlers' apparel 0.12%\",\"Jewelry and watches 0.15%\",\"Watches 0.04%\",\"Jewelry 0.11%\",\"Transportation 15.16%\",\"Private transportation 14.05%\",\"New and used motor vehicles 7.53%\",\"New vehicles 3.76%\",\"Used cars and trucks 2.75%\",\"Leased cars and trucks 0.64%\",\"Car and truck rental 0.13%\",\"Unsampled new and used motor vehicles 0.24%\",\"Motor fuel 2.88%\",\"Gasoline (all types) 2.81%\",\"Other motor fuels 0.06%\",\"Motor vehicle parts and equipment 0.39%\",\"Tires 0.25%\",\"Vehicle accessories other than tires 0.14%\",\"Motor vehicle maintenance and repair 1.10%\",\"Motor vehicle body work 0.06%\",\"Motor vehicle maintenance and servicing 0.64%\",\"Motor vehicle repair 0.34%\",\"Unsampled service policies 0.06%\",\"Motor vehicle insurance 1.60%\",\"Motor vehicle fees 0.56%\",\"State motor vehicle registration and license fees 0.30%\",\"Parking and other fees 0.25%\",\"Unsampled motor vehicle fees 0.01%\",\"Public transportation 1.10%\",\"Airline fares 0.63%\",\"Other intercity transportation 0.18%\",\"Intracity transportation 0.29%\",\"Unsampled public transportation 0.00%\",\"Medical care 8.87%\",\"Medical care commodities 1.58%\",\"Medicinal drugs 1.51%\",\"Prescription drugs 1.14%\",\"Nonprescription drugs 0.37%\",\"Medical equipment and supplies 0.07%\",\"Medical care services 7.29%\",\"Professional services 3.66%\",\"Physicians' services 1.82%\",\"Dental services 1.00%\",\"Eyeglasses and eye care 0.36%\",\"Services by other medical professionals 0.47%\",\"Hospital and related services 2.42%\",\"Hospital services 2.22%\",\"Nursing homes and adult day services 0.12%\",\"Care of invalids and elderly at home 0.07%\",\"Health insurance 1.21%\",\"Recreation 5.80%\",\"Video and audio 1.54%\",\"Televisions 0.09%\",\"Cable and satellite television service 1.19%\",\"Other video equipment 0.04%\",\"Video discs and other media, including rental of video 0.08%\",\"Audio equipment 0.08%\",\"Recorded music and music subscriptions 0.04%\",\"Unsampled video and audio 0.01%\",\"Pets, pet products and services 1.19%\",\"Pets and pet products 0.63%\",\"Pet services including veterinary 0.56%\",\"Sporting goods 0.60%\",\"Sports vehicles including bicycles 0.36%\",\"Sports equipment 0.23%\",\"Unsampled sporting goods 0.01%\",\"Photography 0.07%\",\"Photographic equipment and supplies 0.03%\",\"Photographers and photo processing 0.04%\",\"Unsampled photography 0.00%\",\"Other recreational goods 0.36%\",\"Toys 0.27%\",\"Sewing machines, fabric and supplies 0.02%\",\"Music instruments and accessories 0.05%\",\"Unsampled recreation commodities 0.02%\",\"Other recreation services 1.92%\",\"Club membership for shopping clubs, fraternal, or other organizations, or participant sports fees 0.69%\",\"Admissions 0.69%\",\"Fees for lessons or instructions 0.22%\",\"Unsampled recreation services 0.32%\",\"Recreational reading materials 0.12%\",\"Newspapers and magazines 0.07%\",\"Recreational books 0.05%\",\"Unsampled recreational reading materials 0.00%\",\"Education and communication 6.81%\",\"Education 3.03%\",\"Educational books and supplies 0.11%\",\"Tuition, other school fees, and childcare 2.92%\",\"College tuition and fees 1.57%\",\"Elementary and high school tuition and fees 0.43%\",\"Child care and nursery school 0.77%\",\"Technical and business school tuition and fees 0.04%\",\"Unsampled tuition, other school fees, and childcare 0.12%\",\"Communication 3.78%\",\"Postage and delivery services 0.11%\",\"Postage 0.10%\",\"Delivery services 0.01%\",\"Information and information processing 3.67%\",\"Telephone services 2.37%\",\"Wireless telephone services 1.96%\",\"Land-line telephone services 0.41%\",\"Information technology, hardware and services 1.30%\",\"Computers, peripherals, and smart home assistant devices 0.30%\",\"Computer software and accessories 0.02%\",\"Internet services and electronic information providers 0.89%\",\"Telephone hardware, calculators, and other consumer information items 0.08%\",\"Unsampled information and information processing 0.01%\",\"Other goods and services 3.16%\",\"Tobacco and smoking products 0.61%\",\"Cigarettes 0.53%\",\"Tobacco products other than cigarettes 0.06%\",\"Unsampled tobacco and smoking products 0.02%\",\"Personal care 2.55%\",\"Personal care products 0.68%\",\"Hair, dental, shaving, and miscellaneous personal care products 0.36%\",\"Cosmetics, perfume, bath, nail preparations and implements 0.31%\",\"Unsampled personal care products 0.01%\",\"Personal care services 0.69%\",\"Haircuts and other personal care services 0.69%\",\"Miscellaneous personal services 0.98%\",\"Legal services 0.25%\",\"Funeral expenses 0.14%\",\"Laundry and dry cleaning services 0.22%\",\"Apparel services other than laundry and dry cleaning 0.03%\",\"Financial services 0.23%\",\"Unsampled items 0.11%\"],\"x\":[0.00715707890234205,-0.10211137027237101,0.1442410973312206,0.26134673894896826,0.3771083720798255,0.5048372736154102,0.6222044085038487,0.657669641772225,0.6426653639018275,0.5253817999793752,0.6319660161574564,0.6731803858093223,0.6592815707074476,0.6437906838807087,0.4042869552886822,0.5891708278971162,0.750518964122539,0.873058126275172,0.9565788293445141,0.9840241290335073,1.0,0.9999057120824882,0.8733474663417702,0.9989553968232497,0.9953572766514649,0.9733396816358216,0.9423930941356535,0.8347373101236667,0.6882309260210626,0.8093651447868614,0.7797581766808288,0.6588037955284142,0.760875239270026,0.7204088174530181,0.49074595711469465,0.3178107833836484,0.429906859565747,0.440006112409134,0.4021897597484766,0.3399908499570386,0.2653212938573479,0.24693432726429557,0.34532686064537726,0.48303984284948953,0.434629925966144,0.3750129649736467,0.3132686616463519,0.1761970904018549,0.2338733502381026,0.1733549108046728,0.11445162937024289,0.06420065197063718,0.36317268098912775,0.5045889753786882,0.46700385160851643,0.40300963800506207,0.32917165771204543,0.4717923263713732,0.6105802318726844,0.5911151369956996,0.5632480486656671,0.4055548516474952,0.535832199854939,0.47709370036119636,0.20923885886390642,0.2920660153203056,0.4145809533178017,0.36748560700900756,0.31396598737795683,0.20109119930867445,0.2748551498143532,0.22201539288308644,0.12879796229004603,0.12061948099922383,0.17946341218487555,0.1304184820662792,0.07307416412480246,0.06477027185256766,0.009815649387905542,0.01890351896783094,0.10176766683150658,0.18666879980794246,0.12318994147524964,0.07951383606411473,0.03700430470098888,0.019812578481686233,-0.031400491592311154,-0.11554220613730452,-0.2101590787831205,-0.22679356791759092,-0.281587379032671,-0.3295481274416686,-0.14245304937217243,-0.25010391217940736,-0.26365294035752596,-0.27369258472345726,-0.2738968943219031,-0.30355657554005144,-0.3684337000965892,-0.3471360258907782,-0.40867997868642103,-0.46435567714420517,-0.35134337670823507,-0.2993702072531324,-0.4122728169444523,-0.4925838948892998,-0.5502157857040118,-0.6186311722377016,-0.5727216037776207,-0.6812420198926168,-0.7327558875294288,-0.31416938383313747,-0.34029888771716216,-0.4085697019786392,-0.4106608289525456,-0.4416910340545637,-0.4938906939008487,-0.5485799397944436,-0.5951313613132092,-0.4822037926522045,-0.5274748450371332,-0.5837539140782748,-0.6265604365726241,-0.6501409723011453,-0.4814492544971479,-0.5778627002427563,-0.6292739627820181,-0.6535374221832323,-0.5321213749204564,-0.6693655332301373,-0.6938111276161648,-0.7109637122596828,-0.6824270584457828,-0.4915594030815881,-0.6405703169337061,-0.6629683441257944,-0.6188454314258609,-0.48512358674774664,-0.646599072282268,-0.5911369441402649,-0.6481293055423006,-0.5418591342424036,-0.7121345387211383,-0.7098084761085934,-0.7005189579907147,-0.6871508725399679,-0.6352131670962966,-0.187385348482235,-0.31628647453982367,-0.4960587657158285,-0.6465350642944897,-0.6603940680674452,-0.6237908126730033,-0.630310432030288,-0.5631997279246372,-0.4145902260682131,-0.28628343657266025,-0.442680281788451,-0.5945711347657688,-0.5992833976093747,-0.5682716192913829,-0.5305389078858663,-0.4667244376734527,-0.3767663970263538,-0.2692804608306862,-0.3672377609802324,-0.3956867903427805,-0.3897745839614369,-0.207388523571777,-0.20209583342625015,-0.20057822068543887,-0.30142369375373,-0.15072310612400802,-0.22752209974613544,-0.3638297714163489,-0.5138956466982891,-0.5053483987272143,-0.4690583608468649,-0.4240155851220259,-0.3942343359619919,-0.3606374242696194,-0.5137863312616704,-0.45695116729079227,-0.26532923438168904,-0.37077686291526446,-0.29334248292384013,-0.23506833379143352,-0.34441656261303033,-0.3010131249879855,-0.24244083171984082,-0.19228063110272034,-0.2907736831557475,-0.17253500452441814,-0.23754529468801408,-0.163945727393287,-0.1190262612114452,-0.16234659864245754,-0.30284318162949353,-0.251285193264563,-0.1461516622544069,-0.0941283606659626,-0.05956609899136321,-0.07018032395237585,-0.08738274825618808,-0.1470056428359264,-0.047220018481753036,-0.02775831980793002,0.04566926202843718,0.08035076024500451,0.040942368971581745,0.10488306785764219,0.15803988661363205,0.204372515672444,0.19337331937885377,0.25586615369871196,0.31557211022504184,0.34624693451272404,0.10923651247404514,-0.050589491225967544,0.073879556526095,0.1421618539546112,0.19471896840677802,0.23277710368140397,0.2201381480010085,0.18324394461795668,0.19242182627477414,0.1378079985773353,-0.11705214137693207,-0.18465404496661983,-0.23074903764237378,-0.005875129554237252,0.023307256853649257,0.13010001294436777,0.09219262447724137,0.021731812301415392,0.15799318573070442,0.0751826517826463,0.14980199640848382,-0.025787466948529524,0.04663682819323352,0.0029437704685343685,-0.07721686302497721,0.10023709264983506,-0.08410760286325523,-0.0931407308498446,-0.1457075858655928,-0.17675144547815766,-0.037157904962230856,-0.11146282547269057,-0.2239395704345264,-0.12231278451128762,-0.18914998443734024,-0.04032588383033871,-0.03468139715686461,0.024603132775370486,-0.024666703919245345,-0.011777289149632806,-0.10364352711307936,-0.062188673814818345,0.04042732535616739,0.08287525875257336,0.07954400487787618,0.2142670840516551,0.3246595561337431,0.3726844651185865,0.15899711329737004,0.14968231830214743,0.10879447834524043,0.18580437589783647,0.29464440174074513,0.27634557566676404,0.3284697924181214,0.3790195051071757,0.42059462662432195,0.4512627711425479,0.006380443501837298,0.09056165167095787,0.15611071500555604,0.22599882952896055,0.24769121680812692,0.17198261989183425,0.25306496679675916,0.28742874959271747,0.3614929972390329,0.3986791020559555,0.29482783233056253,0.4479937284678117,0.3371050976169262,0.4411227276126328,0.41493133389126036,0.4762591411825199,0.4526544404127955,0.4876856598375544,0.466267481558672],\"y\":[0.04509430288083315,-0.0985920316229374,0.16927876596062308,0.2808890210778624,0.19580038727219348,0.11466794643606107,0.015554223648661167,0.04735419860361992,0.13564636225476528,0.175473645802543,0.07567041507896255,0.11736996333725247,0.19250265104298625,0.25312631043907824,0.26198800377903636,0.28196185776176924,0.2260893597699827,0.12381412525586365,0.011995372890618658,0.057007521667932465,0.11472061105543166,0.17602764414413508,0.31509765157342257,0.26828972791733413,0.33462237241077336,0.3995392910394996,0.45214381341190574,0.18883158881101467,0.33594231926066503,0.37664699186047884,0.4594000345231952,0.4143791766850489,0.5117878795677305,0.5604154329943547,0.22939813493467945,0.2642212980480834,0.19544866770324695,0.2795544655570722,0.3421005560419835,0.38384824866853823,0.4158807377764602,0.5939683031717202,0.7335596850121111,0.7973587997988837,0.8335353605486375,0.8605892604599775,0.8713794100005858,0.7583933761373133,0.8846858749336217,0.8916581330386978,0.8837055746326454,0.8649036176885201,0.49952935841596424,0.5592737156746264,0.6136845630961594,0.6366292810266239,0.3261569315389221,0.36789705387915783,0.36303119388153277,0.43847899321547423,0.49170067564393405,0.4344768379952316,0.5235589452356996,0.5722552118035679,0.42279477311351227,0.5146675276347086,0.5974565264227698,0.6451754164354809,0.6647265352750812,0.5318201446925452,0.6663172230866962,0.6883426205437926,0.6610195323711411,0.5616607804709107,0.6843663830316792,0.7120962786511662,0.7138037897387499,0.6554492865885593,0.6461322461476509,0.6932232292974086,0.25674795972000636,0.26942120984619905,0.3412542195407907,0.3759640323446525,0.36119704857652846,0.397373069111472,0.15511403224640608,0.3225551879638266,0.4831799548607949,0.6236436970154411,0.6125479960287189,0.5881509689383403,0.43741819335698706,-0.00834653618249876,0.09302362731879177,0.18468032190193376,0.2583336601525427,0.40862791167295426,0.39701330743941515,0.22056393862828746,0.3718694556288548,0.3448333827173174,0.1184430037565699,0.1031307489286397,0.2412507325370782,0.40085415521967566,0.5327495696569114,0.4851397510434664,0.3321251021421114,0.4285738655608069,0.3569210189084881,0.2555817660495408,0.41276756705450557,0.396567361164625,0.011681839640018251,0.11588129843406919,0.2657839863729386,0.23834658104078582,0.1698184253932478,0.13403906553139538,0.28058347345347706,0.26283764932839065,0.22698971113364622,0.18165020051190744,0.06829345123054664,0.20312889441592746,0.1329533741123423,0.08126262633883216,0.04422724985230511,0.1530991320189354,0.10949568020290625,0.05830829800097959,0.012402377613051702,-0.020438967792924104,0.03673592218468732,-0.03428519373306807,-0.10970518108491241,-0.07397280958609447,-0.06961670463083688,-0.17667124529703704,-0.140689163827012,-0.057328770927032674,-0.05116144247245856,-0.0016247531065284558,-0.09655213919701848,-0.14222165797349945,-0.17079710552966224,-0.142257443736213,-0.17697329444670482,-0.25860491589253837,-0.23164045659621774,-0.27509636693663964,-0.3651799378792681,-0.3110017575371137,-0.3922734223191202,-0.20597967732634795,-0.22698095797340465,-0.34617726604561727,-0.3342911898233044,-0.3943856936309738,-0.44014028618002604,-0.47597730087645707,-0.4952156395437542,-0.27490867026595606,-0.11010287838150443,-0.043361970065348955,-0.10461212676166498,-0.16710918155351753,-0.09781239295966203,-0.21452346964641442,-0.34795174113298777,-0.3165313113446949,-0.20885953658669484,-0.37972914387669676,-0.4676019935782088,-0.4955552350652096,-0.5421842984309677,-0.5838860707924243,-0.5929554193435596,-0.6305209150372416,-0.3982769690089732,-0.44646549177031586,-0.530962738297725,-0.47090081555086977,-0.5942061350076997,-0.6316954685107493,-0.5233701138553523,-0.6406839061453408,-0.6733380316087475,-0.688602956541691,-0.6666726746978942,-0.3968915761468368,-0.5066771612204998,-0.6489543613889951,-0.681537748884886,-0.6444376420436636,-0.27301196654736093,-0.28580171882905475,-0.3387585830412953,-0.39908017176117333,-0.38986273066192373,-0.17866735314201526,-0.2909332909612612,-0.4746474855059906,-0.6340016977038803,-0.6419330248515538,-0.4026051921485909,-0.30781853132382553,-0.48166612659292257,-0.6334772538309343,-0.6376476373385196,-0.6093204533687099,-0.5810639838563623,-0.39425570648770136,-0.5418458818067171,-0.5053681901564566,-0.431010901850924,-0.37264608085619927,-0.046892401632153094,-0.06040777333687412,-0.1616131887486046,-0.13821367117030875,-0.08029530563952277,-0.02790958701721216,-0.08235926007022533,0.014807168915053865,0.0184474263512847,-0.04282121129732971,0.07114974706139059,-0.04662373173425017,-0.10548750913654592,-0.22630107143973602,-0.11284453113606875,-0.20786078289332352,-0.017825802248667633,-0.03499543819877523,0.10012968971408537,0.05177080372974551,0.03530882498062583,0.13769692527247362,0.1725117936242429,0.16232675043324227,0.07584383581762276,0.062297643776490184,0.2140069733224251,0.2051984779041995,0.16107990327728386,0.19411317200921893,0.009215174977143163,0.03963633363116897,0.15104239922273263,0.12589609578206384,-0.20409740965772058,-0.33503523220779124,-0.4205520560162847,-0.5255684432014539,-0.6718144118399336,-0.6611397813894501,-0.687798331864965,-0.6691179122074726,-0.6224464466920581,-0.3223102662059564,-0.36739701375887907,-0.4784702564687879,-0.40479677858572005,-0.4962552514723519,-0.6659999296072342,-0.8228911420324952,-0.8079886264292527,-0.6163857684955528,-0.7682693971452742,-0.7477939147659229,-0.7156718593220245,-0.6745352415114954,-0.631050844267866,-0.1390214080426098,-0.1685922644316708,-0.29311652259525117,-0.22569553463196135,-0.1450947384396799,-0.21904699554301485,-0.3463903018952466,-0.5010408756463222,-0.4732889673755021,-0.42362367504240894,-0.18589725433741136,-0.19115211535844234,-0.2640247080362485,-0.3985279750697386,-0.3603412610460277,-0.34130124724075084,-0.29479792540921,-0.2640372620382112,-0.22034769206387927],\"type\":\"scatter\"}],                        {\"hovermode\":\"closest\",\"margin\":{\"b\":20,\"l\":5,\"r\":5,\"t\":40},\"showlegend\":false,\"title\":{\"font\":{\"size\":16},\"text\":\"8-Level network graph\"},\"xaxis\":{\"showgrid\":false,\"showticklabels\":false,\"zeroline\":false},\"yaxis\":{\"showgrid\":false,\"showticklabels\":false,\"zeroline\":false},\"template\":{\"data\":{\"histogram2dcontour\":[{\"type\":\"histogram2dcontour\",\"colorbar\":{\"outlinewidth\":0,\"ticks\":\"\"},\"colorscale\":[[0.0,\"#0d0887\"],[0.1111111111111111,\"#46039f\"],[0.2222222222222222,\"#7201a8\"],[0.3333333333333333,\"#9c179e\"],[0.4444444444444444,\"#bd3786\"],[0.5555555555555556,\"#d8576b\"],[0.6666666666666666,\"#ed7953\"],[0.7777777777777778,\"#fb9f3a\"],[0.8888888888888888,\"#fdca26\"],[1.0,\"#f0f921\"]]}],\"choropleth\":[{\"type\":\"choropleth\",\"colorbar\":{\"outlinewidth\":0,\"ticks\":\"\"}}],\"histogram2d\":[{\"type\":\"histogram2d\",\"colorbar\":{\"outlinewidth\":0,\"ticks\":\"\"},\"colorscale\":[[0.0,\"#0d0887\"],[0.1111111111111111,\"#46039f\"],[0.2222222222222222,\"#7201a8\"],[0.3333333333333333,\"#9c179e\"],[0.4444444444444444,\"#bd3786\"],[0.5555555555555556,\"#d8576b\"],[0.6666666666666666,\"#ed7953\"],[0.7777777777777778,\"#fb9f3a\"],[0.8888888888888888,\"#fdca26\"],[1.0,\"#f0f921\"]]}],\"heatmap\":[{\"type\":\"heatmap\",\"colorbar\":{\"outlinewidth\":0,\"ticks\":\"\"},\"colorscale\":[[0.0,\"#0d0887\"],[0.1111111111111111,\"#46039f\"],[0.2222222222222222,\"#7201a8\"],[0.3333333333333333,\"#9c179e\"],[0.4444444444444444,\"#bd3786\"],[0.5555555555555556,\"#d8576b\"],[0.6666666666666666,\"#ed7953\"],[0.7777777777777778,\"#fb9f3a\"],[0.8888888888888888,\"#fdca26\"],[1.0,\"#f0f921\"]]}],\"heatmapgl\":[{\"type\":\"heatmapgl\",\"colorbar\":{\"outlinewidth\":0,\"ticks\":\"\"},\"colorscale\":[[0.0,\"#0d0887\"],[0.1111111111111111,\"#46039f\"],[0.2222222222222222,\"#7201a8\"],[0.3333333333333333,\"#9c179e\"],[0.4444444444444444,\"#bd3786\"],[0.5555555555555556,\"#d8576b\"],[0.6666666666666666,\"#ed7953\"],[0.7777777777777778,\"#fb9f3a\"],[0.8888888888888888,\"#fdca26\"],[1.0,\"#f0f921\"]]}],\"contourcarpet\":[{\"type\":\"contourcarpet\",\"colorbar\":{\"outlinewidth\":0,\"ticks\":\"\"}}],\"contour\":[{\"type\":\"contour\",\"colorbar\":{\"outlinewidth\":0,\"ticks\":\"\"},\"colorscale\":[[0.0,\"#0d0887\"],[0.1111111111111111,\"#46039f\"],[0.2222222222222222,\"#7201a8\"],[0.3333333333333333,\"#9c179e\"],[0.4444444444444444,\"#bd3786\"],[0.5555555555555556,\"#d8576b\"],[0.6666666666666666,\"#ed7953\"],[0.7777777777777778,\"#fb9f3a\"],[0.8888888888888888,\"#fdca26\"],[1.0,\"#f0f921\"]]}],\"surface\":[{\"type\":\"surface\",\"colorbar\":{\"outlinewidth\":0,\"ticks\":\"\"},\"colorscale\":[[0.0,\"#0d0887\"],[0.1111111111111111,\"#46039f\"],[0.2222222222222222,\"#7201a8\"],[0.3333333333333333,\"#9c179e\"],[0.4444444444444444,\"#bd3786\"],[0.5555555555555556,\"#d8576b\"],[0.6666666666666666,\"#ed7953\"],[0.7777777777777778,\"#fb9f3a\"],[0.8888888888888888,\"#fdca26\"],[1.0,\"#f0f921\"]]}],\"mesh3d\":[{\"type\":\"mesh3d\",\"colorbar\":{\"outlinewidth\":0,\"ticks\":\"\"}}],\"scatter\":[{\"fillpattern\":{\"fillmode\":\"overlay\",\"size\":10,\"solidity\":0.2},\"type\":\"scatter\"}],\"parcoords\":[{\"type\":\"parcoords\",\"line\":{\"colorbar\":{\"outlinewidth\":0,\"ticks\":\"\"}}}],\"scatterpolargl\":[{\"type\":\"scatterpolargl\",\"marker\":{\"colorbar\":{\"outlinewidth\":0,\"ticks\":\"\"}}}],\"bar\":[{\"error_x\":{\"color\":\"#2a3f5f\"},\"error_y\":{\"color\":\"#2a3f5f\"},\"marker\":{\"line\":{\"color\":\"#E5ECF6\",\"width\":0.5},\"pattern\":{\"fillmode\":\"overlay\",\"size\":10,\"solidity\":0.2}},\"type\":\"bar\"}],\"scattergeo\":[{\"type\":\"scattergeo\",\"marker\":{\"colorbar\":{\"outlinewidth\":0,\"ticks\":\"\"}}}],\"scatterpolar\":[{\"type\":\"scatterpolar\",\"marker\":{\"colorbar\":{\"outlinewidth\":0,\"ticks\":\"\"}}}],\"histogram\":[{\"marker\":{\"pattern\":{\"fillmode\":\"overlay\",\"size\":10,\"solidity\":0.2}},\"type\":\"histogram\"}],\"scattergl\":[{\"type\":\"scattergl\",\"marker\":{\"colorbar\":{\"outlinewidth\":0,\"ticks\":\"\"}}}],\"scatter3d\":[{\"type\":\"scatter3d\",\"line\":{\"colorbar\":{\"outlinewidth\":0,\"ticks\":\"\"}},\"marker\":{\"colorbar\":{\"outlinewidth\":0,\"ticks\":\"\"}}}],\"scattermapbox\":[{\"type\":\"scattermapbox\",\"marker\":{\"colorbar\":{\"outlinewidth\":0,\"ticks\":\"\"}}}],\"scatterternary\":[{\"type\":\"scatterternary\",\"marker\":{\"colorbar\":{\"outlinewidth\":0,\"ticks\":\"\"}}}],\"scattercarpet\":[{\"type\":\"scattercarpet\",\"marker\":{\"colorbar\":{\"outlinewidth\":0,\"ticks\":\"\"}}}],\"carpet\":[{\"aaxis\":{\"endlinecolor\":\"#2a3f5f\",\"gridcolor\":\"white\",\"linecolor\":\"white\",\"minorgridcolor\":\"white\",\"startlinecolor\":\"#2a3f5f\"},\"baxis\":{\"endlinecolor\":\"#2a3f5f\",\"gridcolor\":\"white\",\"linecolor\":\"white\",\"minorgridcolor\":\"white\",\"startlinecolor\":\"#2a3f5f\"},\"type\":\"carpet\"}],\"table\":[{\"cells\":{\"fill\":{\"color\":\"#EBF0F8\"},\"line\":{\"color\":\"white\"}},\"header\":{\"fill\":{\"color\":\"#C8D4E3\"},\"line\":{\"color\":\"white\"}},\"type\":\"table\"}],\"barpolar\":[{\"marker\":{\"line\":{\"color\":\"#E5ECF6\",\"width\":0.5},\"pattern\":{\"fillmode\":\"overlay\",\"size\":10,\"solidity\":0.2}},\"type\":\"barpolar\"}],\"pie\":[{\"automargin\":true,\"type\":\"pie\"}]},\"layout\":{\"autotypenumbers\":\"strict\",\"colorway\":[\"#636efa\",\"#EF553B\",\"#00cc96\",\"#ab63fa\",\"#FFA15A\",\"#19d3f3\",\"#FF6692\",\"#B6E880\",\"#FF97FF\",\"#FECB52\"],\"font\":{\"color\":\"#2a3f5f\"},\"hovermode\":\"closest\",\"hoverlabel\":{\"align\":\"left\"},\"paper_bgcolor\":\"white\",\"plot_bgcolor\":\"#E5ECF6\",\"polar\":{\"bgcolor\":\"#E5ECF6\",\"angularaxis\":{\"gridcolor\":\"white\",\"linecolor\":\"white\",\"ticks\":\"\"},\"radialaxis\":{\"gridcolor\":\"white\",\"linecolor\":\"white\",\"ticks\":\"\"}},\"ternary\":{\"bgcolor\":\"#E5ECF6\",\"aaxis\":{\"gridcolor\":\"white\",\"linecolor\":\"white\",\"ticks\":\"\"},\"baxis\":{\"gridcolor\":\"white\",\"linecolor\":\"white\",\"ticks\":\"\"},\"caxis\":{\"gridcolor\":\"white\",\"linecolor\":\"white\",\"ticks\":\"\"}},\"coloraxis\":{\"colorbar\":{\"outlinewidth\":0,\"ticks\":\"\"}},\"colorscale\":{\"sequential\":[[0.0,\"#0d0887\"],[0.1111111111111111,\"#46039f\"],[0.2222222222222222,\"#7201a8\"],[0.3333333333333333,\"#9c179e\"],[0.4444444444444444,\"#bd3786\"],[0.5555555555555556,\"#d8576b\"],[0.6666666666666666,\"#ed7953\"],[0.7777777777777778,\"#fb9f3a\"],[0.8888888888888888,\"#fdca26\"],[1.0,\"#f0f921\"]],\"sequentialminus\":[[0.0,\"#0d0887\"],[0.1111111111111111,\"#46039f\"],[0.2222222222222222,\"#7201a8\"],[0.3333333333333333,\"#9c179e\"],[0.4444444444444444,\"#bd3786\"],[0.5555555555555556,\"#d8576b\"],[0.6666666666666666,\"#ed7953\"],[0.7777777777777778,\"#fb9f3a\"],[0.8888888888888888,\"#fdca26\"],[1.0,\"#f0f921\"]],\"diverging\":[[0,\"#8e0152\"],[0.1,\"#c51b7d\"],[0.2,\"#de77ae\"],[0.3,\"#f1b6da\"],[0.4,\"#fde0ef\"],[0.5,\"#f7f7f7\"],[0.6,\"#e6f5d0\"],[0.7,\"#b8e186\"],[0.8,\"#7fbc41\"],[0.9,\"#4d9221\"],[1,\"#276419\"]]},\"xaxis\":{\"gridcolor\":\"white\",\"linecolor\":\"white\",\"ticks\":\"\",\"title\":{\"standoff\":15},\"zerolinecolor\":\"white\",\"automargin\":true,\"zerolinewidth\":2},\"yaxis\":{\"gridcolor\":\"white\",\"linecolor\":\"white\",\"ticks\":\"\",\"title\":{\"standoff\":15},\"zerolinecolor\":\"white\",\"automargin\":true,\"zerolinewidth\":2},\"scene\":{\"xaxis\":{\"backgroundcolor\":\"#E5ECF6\",\"gridcolor\":\"white\",\"linecolor\":\"white\",\"showbackground\":true,\"ticks\":\"\",\"zerolinecolor\":\"white\",\"gridwidth\":2},\"yaxis\":{\"backgroundcolor\":\"#E5ECF6\",\"gridcolor\":\"white\",\"linecolor\":\"white\",\"showbackground\":true,\"ticks\":\"\",\"zerolinecolor\":\"white\",\"gridwidth\":2},\"zaxis\":{\"backgroundcolor\":\"#E5ECF6\",\"gridcolor\":\"white\",\"linecolor\":\"white\",\"showbackground\":true,\"ticks\":\"\",\"zerolinecolor\":\"white\",\"gridwidth\":2}},\"shapedefaults\":{\"line\":{\"color\":\"#2a3f5f\"}},\"annotationdefaults\":{\"arrowcolor\":\"#2a3f5f\",\"arrowhead\":0,\"arrowwidth\":1},\"geo\":{\"bgcolor\":\"white\",\"landcolor\":\"#E5ECF6\",\"subunitcolor\":\"white\",\"showland\":true,\"showlakes\":true,\"lakecolor\":\"white\"},\"title\":{\"x\":0.05},\"mapbox\":{\"style\":\"light\"}}}},                        {\"responsive\": true}                    ).then(function(){\n",
       "                            \n",
       "var gd = document.getElementById('e43770c7-0a36-4346-8bb9-dc78e3b2c752');\n",
       "var x = new MutationObserver(function (mutations, observer) {{\n",
       "        var display = window.getComputedStyle(gd).display;\n",
       "        if (!display || display === 'none') {{\n",
       "            console.log([gd, 'removed!']);\n",
       "            Plotly.purge(gd);\n",
       "            observer.disconnect();\n",
       "        }}\n",
       "}});\n",
       "\n",
       "// Listen for the removal of the full notebook cells\n",
       "var notebookContainer = gd.closest('#notebook-container');\n",
       "if (notebookContainer) {{\n",
       "    x.observe(notebookContainer, {childList: true});\n",
       "}}\n",
       "\n",
       "// Listen for the clearing of the current output cell\n",
       "var outputEl = gd.closest('.output');\n",
       "if (outputEl) {{\n",
       "    x.observe(outputEl, {childList: true});\n",
       "}}\n",
       "\n",
       "                        })                };                });            </script>        </div>"
      ]
     },
     "metadata": {},
     "output_type": "display_data"
    }
   ],
   "source": [
    "\n",
    "import networkx as nx \n",
    "\n",
    "# Convert the data into networkx format\n",
    "G = nx.from_pandas_edgelist(df[df[\"Item and Group\"] != 'All items'], \n",
    "                            source = 'Item and Group', target = 'Parent', edge_attr = 'Weight')\n",
    "\n",
    "# Set the positions of the nodes in the graph - other options are spring, planar or spectral\n",
    "pos = nx.kamada_kawai_layout(G, weight = None)\n",
    "for n, p in pos.items():\n",
    "    G.nodes[n]['pos'] = p\n",
    "    \n",
    "# Add weight and depth attributes to the nodes\n",
    "for x in df[\"Item and Group\"]: \n",
    "    G.nodes[x]['Weight'] = df[df[\"Item and Group\"] == x][\"Weight\"].values[0]\n",
    "    G.nodes[x]['Depth'] = df[df[\"Item and Group\"] == x][\"Indent Level\"].values[0]\n",
    "    \n",
    "# Add position info to edges\n",
    "edge_x = []\n",
    "edge_y = []\n",
    "\n",
    "for edge in G.edges():\n",
    "    x0, y0 = G.nodes[edge[0]]['pos']\n",
    "    x1, y1 = G.nodes[edge[1]]['pos']\n",
    "    edge_x.append(x0)\n",
    "    edge_x.append(x1)\n",
    "    edge_x.append(None)\n",
    "    edge_y.append(y0)\n",
    "    edge_y.append(y1)\n",
    "    edge_y.append(None)\n",
    "\n",
    "# Draw the edges\n",
    "edge_trace = go.Scatter(\n",
    "    x=edge_x, y=edge_y,\n",
    "    line=dict(width=0.5, color='#888'),\n",
    "    hoverinfo='none',\n",
    "    mode='lines')\n",
    "\n",
    "node_x = []\n",
    "node_y = []\n",
    "\n",
    "for node in G.nodes():\n",
    "    x, y = G.nodes[node]['pos']\n",
    "    node_x.append(x)\n",
    "    node_y.append(y)\n",
    "\n",
    "# Draw the nodes\n",
    "node_trace = go.Scatter(\n",
    "    x=node_x, y=node_y,\n",
    "    mode='markers',\n",
    "    hoverinfo='text',\n",
    "    marker=dict(\n",
    "        showscale=True,\n",
    "        colorscale='YlGnBu',\n",
    "        reversescale=True,\n",
    "        color=[],\n",
    "        size=10,\n",
    "        colorbar=dict(\n",
    "            thickness=15,\n",
    "            title='Indent Level',\n",
    "            xanchor='left',\n",
    "            titleside='right'\n",
    "        ),\n",
    "        line_width=2))\n",
    "\n",
    "node_depth = []\n",
    "node_text = []\n",
    "\n",
    "for n in G.nodes.items():\n",
    "    node_depth.append(n[1][\"Depth\"])\n",
    "    node_text.append(n[0] + \" {0:.2f}%\".format(n[1][\"Weight\"]))\n",
    "                         \n",
    "node_trace.marker.color = node_depth\n",
    "node_trace.text = node_text\n",
    "\n",
    "# Draw the full graph\n",
    "graph = go.Figure(data=[edge_trace, node_trace],\n",
    "             layout=go.Layout(\n",
    "                title='8-Level network graph',\n",
    "                titlefont_size=16,\n",
    "                showlegend=False,\n",
    "                hovermode='closest',\n",
    "                margin=dict(b=20,l=5,r=5,t=40),\n",
    "                xaxis=dict(showgrid=False, zeroline=False, showticklabels=False),\n",
    "                yaxis=dict(showgrid=False, zeroline=False, showticklabels=False))\n",
    "                )\n",
    "graph.show()\n"
   ]
  },
  {
   "cell_type": "code",
   "execution_count": 125,
   "metadata": {},
   "outputs": [
    {
     "name": "stdout",
     "output_type": "stream",
     "text": [
      "Warning: When  cdn_resources is 'local' jupyter notebook has issues displaying graphics on chrome/safari. Use cdn_resources='in_line' or cdn_resources='remote' if you have issues viewing graphics in a notebook.\n",
      "example.html\n"
     ]
    },
    {
     "data": {
      "text/html": [
       "\n",
       "        <iframe\n",
       "            width=\"100%\"\n",
       "            height=\"600px\"\n",
       "            src=\"example.html\"\n",
       "            frameborder=\"0\"\n",
       "            allowfullscreen\n",
       "            \n",
       "        ></iframe>\n",
       "        "
      ],
      "text/plain": [
       "<IPython.lib.display.IFrame at 0x2b6a93802e0>"
      ]
     },
     "execution_count": 125,
     "metadata": {},
     "output_type": "execute_result"
    }
   ],
   "source": [
    "\n",
    "import pandas as pd\n",
    "import networkx as nx\n",
    "import matplotlib.pyplot as plt\n",
    "\n",
    "G = nx.from_pandas_edgelist(df, source='Item and Group', target='Parent', edge_attr='Weight')\n",
    "\n",
    "from pyvis.network import Network\n",
    "net = Network(notebook=True)\n",
    "net.from_nx(G)\n",
    "net.show('example.html')\n"
   ]
  },
  {
   "cell_type": "code",
   "execution_count": null,
   "metadata": {},
   "outputs": [],
   "source": [
    "\n",
    "# https://towardsdatascience.com/visualize-hierarchical-data-using-plotly-and-datapane-7e5abe2686e1\n"
   ]
  }
 ],
 "metadata": {
  "kernelspec": {
   "display_name": "Python 3 (ipykernel)",
   "language": "python",
   "name": "python3"
  },
  "language_info": {
   "codemirror_mode": {
    "name": "ipython",
    "version": 3
   },
   "file_extension": ".py",
   "mimetype": "text/x-python",
   "name": "python",
   "nbconvert_exporter": "python",
   "pygments_lexer": "ipython3",
   "version": "3.10.9"
  }
 },
 "nbformat": 4,
 "nbformat_minor": 4
}
