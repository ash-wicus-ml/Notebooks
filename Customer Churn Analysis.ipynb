{
 "cells": [
  {
   "cell_type": "code",
   "execution_count": 1,
   "metadata": {},
   "outputs": [],
   "source": [
    "\n",
    "# Churn analysis, often used in the context of customer churn, involves identifying and predicting the \n",
    "# customers who are likely to stop using a product or service. Here's a simple example using scikit-learn \n",
    "# in Python for a hypothetical dataset.\n"
   ]
  },
  {
   "cell_type": "code",
   "execution_count": 12,
   "metadata": {},
   "outputs": [
    {
     "name": "stdout",
     "output_type": "stream",
     "text": [
      "   CustomerID  Age  MonthlySpend  ContractMonths  Churn\n",
      "0           1   56     89.772433              11      0\n",
      "1           2   46     78.174965               6      0\n",
      "2           3   32    188.328543               4      1\n",
      "3           4   60     85.398063               9      0\n",
      "4           5   25     90.251824               9      0\n",
      "Accuracy: 0.80\n"
     ]
    }
   ],
   "source": [
    "\n",
    "import pandas as pd\n",
    "import numpy as np\n",
    "from sklearn.model_selection import train_test_split\n",
    "from sklearn.ensemble import RandomForestClassifier\n",
    "from sklearn.metrics import accuracy_score, classification_report, confusion_matrix\n",
    "from sklearn.preprocessing import StandardScaler\n",
    "from sklearn.pipeline import Pipeline\n",
    "from sklearn.impute import SimpleImputer\n",
    "\n",
    "pd.set_option('display.max_rows', None)\n",
    "\n",
    "\n",
    "# Assuming you have a dataset with features and a binary target variable 'Churn' (1 for churn, 0 for no churn)\n",
    "# Set seed for reproducibility\n",
    "np.random.seed(42)\n",
    "\n",
    "# Generate random sample data\n",
    "data = {\n",
    "    'CustomerID': np.arange(1, 10001),\n",
    "    'Age': np.random.randint(18, 65, size=10000),\n",
    "    'MonthlySpend': np.random.uniform(20, 200, size=10000),\n",
    "    'ContractMonths': np.random.randint(1, 25, size=10000),\n",
    "    'Churn': np.random.choice([0, 1], size=10000, p=[0.8, 0.2])\n",
    "}\n",
    "\n",
    "df = pd.DataFrame(data)\n",
    "\n",
    "# Display the DataFrame\n",
    "print(df.head())\n",
    "\n",
    "\n",
    "# Assume 'Churn' is the target variable\n",
    "X = df.drop('Churn', axis=1)\n",
    "y = df['Churn']\n",
    "\n",
    "# Split the data into training and testing sets\n",
    "X_train, X_test, y_train, y_test = train_test_split(X, y, test_size=0.2, random_state=42)\n",
    "\n",
    "# Define a pipeline for preprocessing and modeling\n",
    "pipeline = Pipeline([\n",
    "    ('imputer', SimpleImputer(strategy='mean')),  # Handle missing values\n",
    "    ('scaler', StandardScaler()),  # Standardize features\n",
    "    ('classifier', RandomForestClassifier(n_estimators=100, random_state=42))  # Random Forest Classifier\n",
    "])\n",
    "\n",
    "\n",
    "# Train the model using the pipeline\n",
    "pipeline.fit(X_train, y_train)\n",
    "\n",
    "# Make predictions on the test set\n",
    "y_pred = pipeline.predict(X_test)\n",
    "\n",
    "# Evaluate the model\n",
    "accuracy = accuracy_score(y_test, y_pred)\n",
    "print(f'Accuracy: {accuracy:.2f}')\n"
   ]
  },
  {
   "cell_type": "code",
   "execution_count": 13,
   "metadata": {},
   "outputs": [
    {
     "name": "stdout",
     "output_type": "stream",
     "text": [
      "Classification Report:\n",
      "              precision    recall  f1-score   support\n",
      "\n",
      "           0       0.80      0.99      0.89      1605\n",
      "           1       0.20      0.01      0.02       395\n",
      "\n",
      "    accuracy                           0.80      2000\n",
      "   macro avg       0.50      0.50      0.45      2000\n",
      "weighted avg       0.68      0.80      0.72      2000\n",
      "\n",
      "Confusion Matrix:\n",
      "[[1589   16]\n",
      " [ 391    4]]\n"
     ]
    }
   ],
   "source": [
    "\n",
    "# Print classification report and confusion matrix\n",
    "print('Classification Report:')\n",
    "print(classification_report(y_test, y_pred))\n",
    "\n",
    "print('Confusion Matrix:')\n",
    "print(confusion_matrix(y_test, y_pred))\n"
   ]
  },
  {
   "cell_type": "code",
   "execution_count": 14,
   "metadata": {},
   "outputs": [],
   "source": [
    "\n",
    "### How can we interpret the Confusion Matrix?\n",
    "\n",
    "# A confusion matrix is a table that is often used to describe the performance of a classification model on a set of \n",
    "# data for which the true values are known. It provides a summary of the model's predictions and the actual outcomes.\n",
    "\n",
    "# In the context of a binary classification problem (such as churn prediction with classes \"churn\" and \"no churn\"), \n",
    "# a confusion matrix has four entries:\n",
    "\n",
    "\n",
    "# True Positive (TP): The number of instances where the model correctly predicted \"churn\" (positive class).\n",
    "\n",
    "# True Negative (TN): The number of instances where the model correctly predicted \"no churn\" (negative class).\n",
    "\n",
    "# False Positive (FP): The number of instances where the model incorrectly predicted \"churn\" when the actual class \n",
    "# was \"no churn.\" Also known as a Type I error.\n",
    "\n",
    "# False Negative (FN): The number of instances where the model incorrectly predicted \"no churn\" when the actual \n",
    "# class was \"churn.\" Also known as a Type II error.\n",
    "        \n",
    "    \n",
    "# Accuracy: (TP + TN) / (TP + TN + FP + FN) - Overall accuracy of the model.\n",
    "\n",
    "# Precision: TP / (TP + FP) - The proportion of true positive predictions among all positive predictions. It \n",
    "# indicates the accuracy of positive predictions.\n",
    "\n",
    "# Recall: TP / (TP + FN) - The proportion of actual positives that were \n",
    "# correctly predicted by the model.\n",
    "\n",
    "# Specificity: TN / (TN + FP) - The proportion of actual negatives that were correctly predicted by the model.\n",
    "\n",
    "# F1 Score: 2 * (Precision * Recall) / (Precision + Recall) - A harmonic mean of precision and recall, balancing \n",
    "# the two metrics.\n",
    "\n",
    "\n",
    "# These metrics help you understand different aspects of the model's performance. For example, high precision \n",
    " #indicates that the model has a low rate of false positives, while high recall suggests a low rate of false negatives.\n",
    "\n",
    "\n",
    "# In the context of churn analysis, you might be particularly interested in minimizing false negatives (customers \n",
    "# who actually churn but are not identified) to ensure that you take proactive measures to retain as many \n",
    "# potentially churning customers as possible.\n"
   ]
  },
  {
   "cell_type": "code",
   "execution_count": 15,
   "metadata": {},
   "outputs": [
    {
     "name": "stdout",
     "output_type": "stream",
     "text": [
      "(2000, 5)\n",
      "      CustomerID  Age  MonthlySpend  ContractMonths  Churn  PredictedChurn\n",
      "265          266   18    170.903523               2      0               1\n",
      "1347        1348   53     30.152244               1      0               1\n",
      "1575        1576   43     96.307496               3      0               1\n",
      "1793        1794   25    170.140085              11      0               1\n",
      "2236        2237   43    187.465998               1      1               1\n",
      "3470        3471   55     70.267750              17      0               1\n",
      "3846        3847   40    122.147458              19      0               1\n",
      "4130        4131   37    153.950779               2      0               1\n",
      "5212        5213   38     24.343900              21      1               1\n",
      "5323        5324   34     58.741892               2      1               1\n",
      "5454        5455   51    127.619289               1      0               1\n",
      "5576        5577   42    143.385065              18      0               1\n",
      "6223        6224   64     86.814603               1      0               1\n",
      "6408        6409   39    188.823972              17      0               1\n",
      "7619        7620   49    110.608032               7      0               1\n",
      "7886        7887   45    192.261245               9      0               1\n",
      "7896        7897   21     39.444557              21      0               1\n",
      "8694        8695   38     61.224514              11      0               1\n",
      "8944        8945   32     38.371121              16      1               1\n",
      "9068        9069   59     44.826138              23      0               1\n"
     ]
    },
    {
     "name": "stderr",
     "output_type": "stream",
     "text": [
      "C:\\Users\\ryan_\\AppData\\Local\\Temp\\ipykernel_24532\\4093404802.py:22: SettingWithCopyWarning: \n",
      "A value is trying to be set on a copy of a slice from a DataFrame.\n",
      "Try using .loc[row_indexer,col_indexer] = value instead\n",
      "\n",
      "See the caveats in the documentation: https://pandas.pydata.org/pandas-docs/stable/user_guide/indexing.html#returning-a-view-versus-a-copy\n",
      "  subset_df['PredictedChurn'] = y_pred\n"
     ]
    }
   ],
   "source": [
    "\n",
    "### Finally, we nned to map y_pred back to the original DataFrame based on indices!!!\n",
    "\n",
    "# You made predictions on a subset of your data, possibly the testing set. \n",
    "# Your_subset_indices refers to the indices of the subset of your original DataFrame for which you \n",
    "# made predictions. These indices might correspond to the testing set indices or any other subset \n",
    "# you chose to make predictions on.\n",
    "\n",
    "# If you used a train-test split, you might have the testing set indices stored separately. \n",
    "# For example, if you used train_test_split from scikit-learn, you can access the testing set \n",
    "# indices using the .index attribute of the test set.\n",
    "\n",
    "# Assuming you have a DataFrame 'df' and 'y_pred' containing predictions\n",
    "# Extract the subset of the original DataFrame that corresponds to the predictions\n",
    "\n",
    "your_subset_indices = X_test.index\n",
    "subset_df = df.loc[df.index.isin(your_subset_indices)]\n",
    "\n",
    "print(subset_df.shape)\n",
    "\n",
    "# Check if the lengths match before adding the column\n",
    "if len(subset_df) == len(y_pred):\n",
    "    subset_df['PredictedChurn'] = y_pred\n",
    "    predicted_churners = subset_df[subset_df['PredictedChurn'] == 1]\n",
    "    print(predicted_churners)\n",
    "else:\n",
    "    print(\"Error: Subset DataFrame and y_pred have different lengths.\")\n",
    "    "
   ]
  },
  {
   "cell_type": "code",
   "execution_count": 17,
   "metadata": {},
   "outputs": [
    {
     "name": "stdout",
     "output_type": "stream",
     "text": [
      "(10000, 6)\n"
     ]
    }
   ],
   "source": [
    "\n",
    "# Assuming you have obtained 'your_subset_indices' and 'predicted_churners'\n",
    "predicted_churners_original = df.iloc[your_subset_indices].loc[predicted_churners.index]\n",
    "\n",
    "# Create a new column 'PredictedChurn' and initialize with NaN\n",
    "df['PredictedChurn'] = np.nan\n",
    "\n",
    "# Map the predicted churners back to the original DataFrame\n",
    "df.loc[predicted_churners_original.index, 'PredictedChurn'] = 1\n",
    "\n",
    "# Fill NaN values with 0 for non-churners\n",
    "df['PredictedChurn'].fillna(0, inplace=True)\n",
    "\n",
    "# Display the DataFrame with the new column\n",
    "print(df.shape)\n"
   ]
  },
  {
   "cell_type": "code",
   "execution_count": null,
   "metadata": {},
   "outputs": [],
   "source": [
    "\n",
    "# The end game in churn analysis is to identify customers who are at a higher risk of churning and take proactive \n",
    "# measures to retain them. Once you've identified potential churners using your model, you can implement various \n",
    "# retention strategies. Here are some common approaches:\n",
    "\n",
    "# 1. Incentives and Discounts: Offer special incentives, discounts, or exclusive deals to customers who are \n",
    "# identified as likely to churn. This could be in the form of personalized coupons, loyalty rewards, or \n",
    "# special promotions.\n",
    "\n",
    "# 2. Personalized Communication: Reach out to customers with personalized communication. Send targeted emails, \n",
    "# messages, or notifications to address their specific concerns, provide assistance, or showcase new features \n",
    "# that might be relevant to them.\n",
    "\n",
    "# 3. Feedback and Surveys: Collect feedback from customers who are considering leaving. Understand the reasons \n",
    "# behind their potential churn and use this information to improve your product or service.\n",
    "\n",
    "# 4. Customer Support Intervention: Proactively engage with potentially churning customers through customer \n",
    "# support channels. Offer assistance, address issues, and ensure they have a positive experience.\n",
    "\n",
    "# 5. Retention Campaigns: Run targeted retention campaigns that focus on providing value to specific customer \n",
    "# segments. This could involve showcasing new features, highlighting the benefits of your product, or offering \n",
    "# limited-time promotions.\n",
    "\n",
    "# 6. Enhanced Customer Experience: Invest in improving overall customer experience. A positive customer \n",
    "# experience can contribute significantly to customer retention. Ensure that your product or service meets \n",
    "# and exceeds customer expectations.\n",
    "\n",
    "# 7 Subscription Plan Adjustments: If applicable, consider adjusting subscription plans based on the needs \n",
    "# and feedback of potentially churning customers. This could involve providing more flexibility, additional \n",
    "# services, or adjusting pricing.\n",
    "\n",
    "# 8. Customer Loyalty Programs: Implement loyalty programs that reward customers for their continued use of \n",
    "# your product or service. Loyalty points, exclusive access, or special privileges can incentivize customers to stay.\n",
    "\n",
    "# The specific strategy will depend on your business model, industry, and the nature of your product or service. \n",
    "# Churn analysis is a crucial step in reducing customer attrition and maximizing customer retention. It allows \n",
    "# businesses to proactively address potential issues, strengthen customer relationships, and ultimately \n",
    "# improve the overall customer lifetime value.\n",
    "\n",
    "\n",
    "# The specific strategy will depend on your business model, industry, and the nature of your product or service. \n",
    "# Churn analysis is a crucial step in reducing customer attrition and maximizing customer retention. It allows \n",
    "# businesses to proactively address potential issues, strengthen customer relationships, and ultimately improve \n",
    "# the overall customer lifetime value.\n"
   ]
  },
  {
   "cell_type": "code",
   "execution_count": 19,
   "metadata": {},
   "outputs": [
    {
     "data": {
      "text/plain": [
       "<Axes: xlabel='timeline'>"
      ]
     },
     "execution_count": 19,
     "metadata": {},
     "output_type": "execute_result"
    },
    {
     "data": {
      "image/png": "[encoded data removed]",
      "text/plain": [
       "<Figure size 640x480 with 1 Axes>"
      ]
     },
     "metadata": {},
     "output_type": "display_data"
    }
   ],
   "source": [
    "\n",
    "from lifelines import KaplanMeierFitter\n",
    "\n",
    "# Create a Kaplan-Meier Survival Curve\n",
    "kmf = KaplanMeierFitter()\n",
    "kmf.fit(durations=df['Age'], event_observed=df['Churn'])\n",
    "\n",
    "# Plot the survival curve\n",
    "kmf.plot_survival_function(show_censors=True)\n"
   ]
  },
  {
   "cell_type": "code",
   "execution_count": null,
   "metadata": {},
   "outputs": [],
   "source": [
    "\n",
    "# The KaplanMeierFitter is an estimator for the survival function, which gives the probability that an event \n",
    "# (e.g., churn) has not occurred up to a certain time point.\n",
    "\n",
    "# The plot_survival_function method is used to visualize the estimated survival function. The plot typically shows \n",
    "# the survival probability over time.\n",
    "\n",
    "# Setting show_censors=True adds vertical tick marks (censors) at the observed event times.\n",
    "\n",
    "# Survival Function (y-axis): Represents the probability that a customer has not churned up to a specific time point. \n",
    "# Higher values indicate a higher probability of survival (not churning).\n",
    "\n",
    "# Time (x-axis): Represents the time duration or observation period.\n",
    "\n",
    "# Censor Marks: Represent censored data points where the event did not occur by the observed time.\n",
    "\n",
    "# By looking at the survival curve, you can gain insights into the likelihood of customers continuing without \n",
    "# churning over time. If the curve drops steeply, it indicates a higher churn rate, whereas a flatter curve \n",
    "# suggests a lower churn rate.\n"
   ]
  },
  {
   "cell_type": "code",
   "execution_count": 1,
   "metadata": {},
   "outputs": [],
   "source": [
    "\n",
    "# End...\n"
   ]
  }
 ],
 "metadata": {
  "kernelspec": {
   "display_name": "Python 3 (ipykernel)",
   "language": "python",
   "name": "python3"
  },
  "language_info": {
   "codemirror_mode": {
    "name": "ipython",
    "version": 3
   },
   "file_extension": ".py",
   "mimetype": "text/x-python",
   "name": "python",
   "nbconvert_exporter": "python",
   "pygments_lexer": "ipython3",
   "version": "3.11.5"
  }
 },
 "nbformat": 4,
 "nbformat_minor": 4
}
