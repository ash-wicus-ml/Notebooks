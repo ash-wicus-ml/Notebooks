{
 "cells": [
  {
   "cell_type": "code",
   "execution_count": null,
   "metadata": {},
   "outputs": [],
   "source": [
    "\n",
    "# Gurobi is a powerful optimization solver that excels at handling linear programming, mixed-integer programming, and \n",
    "# quadratic programming problems. \n",
    "\n",
    "# Imagine a manufacturing company with multiple products, production lines, and resource constraints. The goal is to \n",
    "# maximize profit while considering constraints on production capacities, raw material availability, and labor hours.\n"
   ]
  },
  {
   "cell_type": "code",
   "execution_count": 1,
   "metadata": {
    "scrolled": true
   },
   "outputs": [
    {
     "name": "stdout",
     "output_type": "stream",
     "text": [
      "  Product  Profit  Capacity  Labor_Hours\n",
      "0       A      10       100            2\n",
      "1       B      15       150            3\n",
      "2       C      20       200            4\n"
     ]
    }
   ],
   "source": [
    "\n",
    "from gurobipy import GRB, Model\n",
    "\n",
    "import pandas as pd\n",
    "from gurobipy import Model, GRB\n",
    "\n",
    "# Sample DataFrame\n",
    "data = {\n",
    "    'Product': ['A', 'B', 'C'],\n",
    "    'Profit': [10, 15, 20],\n",
    "    'Capacity': [100, 150, 200],\n",
    "    'Labor_Hours': [2, 3, 4]\n",
    "}\n",
    "\n",
    "df = pd.DataFrame(data)\n",
    "print(df)\n"
   ]
  },
  {
   "cell_type": "code",
   "execution_count": 2,
   "metadata": {},
   "outputs": [
    {
     "name": "stdout",
     "output_type": "stream",
     "text": [
      "Restricted license - for non-production use only - expires 2025-11-24\n",
      "Gurobi Optimizer version 11.0.0 build v11.0.0rc2 (win64 - Windows 10.0 (19045.2))\n",
      "\n",
      "CPU model: Intel(R) Core(TM) i7-8665U CPU @ 1.90GHz, instruction set [SSE2|AVX|AVX2]\n",
      "Thread count: 4 physical cores, 8 logical processors, using up to 8 threads\n",
      "\n",
      "Optimize a model with 2 rows, 3 columns and 6 nonzeros\n",
      "Model fingerprint: 0x200ca71d\n",
      "Variable types: 0 continuous, 3 integer (0 binary)\n",
      "Coefficient statistics:\n",
      "  Matrix range     [2e+00, 2e+02]\n",
      "  Objective range  [1e+01, 2e+01]\n",
      "  Bounds range     [0e+00, 0e+00]\n",
      "  RHS range        [5e+02, 1e+03]\n",
      "Found heuristic solution: objective 50.0000000\n",
      "Presolve removed 2 rows and 3 columns\n",
      "Presolve time: 0.00s\n",
      "Presolve: All rows and columns removed\n",
      "\n",
      "Explored 0 nodes (0 simplex iterations) in 0.03 seconds (0.00 work units)\n",
      "Thread count was 1 (of 8 available processors)\n",
      "\n",
      "Solution count 1: 50 \n",
      "\n",
      "Optimal solution found (tolerance 1.00e-04)\n",
      "Best objective 5.000000000000e+01, best bound 5.000000000000e+01, gap 0.0000%\n",
      "Optimal Solution:\n",
      "A: 5.0\n",
      "B: 0.0\n",
      "C: -0.0\n",
      "Total Profit: 50.0\n"
     ]
    }
   ],
   "source": [
    "\n",
    "# Create a Gurobi model\n",
    "model = Model(\"production_model\")\n",
    "\n",
    "# Define decision variables\n",
    "products = df['Product'].tolist()\n",
    "production = model.addVars(products, name=\"production\", vtype=GRB.INTEGER)\n",
    "\n",
    "\n",
    "# Set objective function\n",
    "model.setObjective(production.prod(df.set_index('Product')['Profit'].to_dict()), sense=GRB.MAXIMIZE)\n",
    "\n",
    "\n",
    "# Add constraints\n",
    "model.addConstr(production.prod(df.set_index('Product')['Capacity'].to_dict()) <= 500, \"capacity_constraint\")\n",
    "model.addConstr(production.prod(df.set_index('Product')['Labor_Hours'].to_dict()) <= 1200, \"labor_hours_constraint\")\n",
    "\n",
    "\n",
    "# Optimize the model\n",
    "model.optimize()\n",
    "\n",
    "\n",
    "# Print the results\n",
    "if model.status == GRB.OPTIMAL:\n",
    "    print(\"Optimal Solution:\")\n",
    "    for product in products:\n",
    "        print(f\"{product}: {production[product].x}\")\n",
    "    print(f\"Total Profit: {model.objVal}\")\n",
    "else:\n",
    "    print(\"No optimal solution found.\")\n",
    "    \n"
   ]
  },
  {
   "cell_type": "code",
   "execution_count": 3,
   "metadata": {},
   "outputs": [],
   "source": [
    "\n",
    "# A: 5.0: The optimal solution suggests producing 5 units of Product A.\n",
    "# B: 0.0: The optimal solution suggests not producing any units of Product B.\n",
    "# C: -0.0: The negative sign is a representation of very close to zero. It suggests producing a negligible amount (close to zero) of Product C.\n",
    "# The total profit, in this case, is $50.0!\n",
    "\n",
    "\n",
    "\n",
    "# This script creates an optimization model, defines decision variables, sets the objective function, adds constraints, and then solves \n",
    "# the model using Gurobi. The results are then displayed, including the optimal quantities and the maximum total profit.\n",
    "\n",
    "# The objective function in an optimization problem defines the quantity that the optimization process seeks to either maximize or minimize. \n",
    "# In the context of the production planning problem using Gurobi, the objective function is formulated to maximize the total profit generated \n",
    "# by producing different products on various production lines.\n"
   ]
  }
 ],
 "metadata": {
  "kernelspec": {
   "display_name": "Python 3 (ipykernel)",
   "language": "python",
   "name": "python3"
  },
  "language_info": {
   "codemirror_mode": {
    "name": "ipython",
    "version": 3
   },
   "file_extension": ".py",
   "mimetype": "text/x-python",
   "name": "python",
   "nbconvert_exporter": "python",
   "pygments_lexer": "ipython3",
   "version": "3.10.9"
  }
 },
 "nbformat": 4,
 "nbformat_minor": 4
}
