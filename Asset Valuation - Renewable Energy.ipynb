{
 "cells": [
  {
   "cell_type": "code",
   "execution_count": 23,
   "metadata": {},
   "outputs": [],
   "source": [
    "\n",
    "# When doing valuations for any asset we need to consider the following:\n",
    "\n",
    "# Identify Key Factors Influencing Value\n",
    "# Capacity (MW): The maximum output.\n",
    "# Annual Generation (MWh): Average annual electricity production.\n",
    "# Remaining Useful Life: Age of the plant and remaining operational life.\n",
    "# Incentives: Tax credits, subsidies, and renewable energy certificates.\n",
    "# Revenue Streams: PPAs, feed-in tariffs, and market prices.\n",
    "# Installation and Maintenance Costs: Initial investment and ongoing expenses.\n",
    "    \n",
    "# Financial Modeling\n",
    "# Discounted Cash Flow (DCF) Analysis: Project future cash flows and discount them to present value using an appropriate discount rate.\n",
    "# Revenue Projections: Estimate future revenues based on capacity, efficiency, market prices, and contractual agreements.\n",
    "# Cost Projections: Estimate future costs, including O&M, capital expenditures, and decommissioning costs.\n",
    "# Discount Rate: Choose a discount rate that reflects the risk profile of the asset (typically the weighted average cost of capital - WACC).\n",
    "\n",
    "# Risk Assessment\n",
    "# Operational Risks: Technical performance, maintenance requirements, and downtime.\n",
    "# Market Risks: Fluctuations in energy prices, changes in demand, and competitive landscape.\n",
    "# Regulatory Risks: Changes in government policies, subsidies, and environmental regulations.\n",
    "# Financial Risks: Interest rate changes, currency fluctuations, and availability of financing.\n",
    "\n",
    "# Sensitivity Analysis\n",
    "# Perform sensitivity analysis to understand how changes in key assumptions (e.g., discount rate, capacity factor, market prices) \n",
    "# impact the valuation.\n"
   ]
  },
  {
   "cell_type": "code",
   "execution_count": 24,
   "metadata": {},
   "outputs": [
    {
     "name": "stdout",
     "output_type": "stream",
     "text": [
      "Net Present Value (NPV) of the solar array: $52,318,209.11\n"
     ]
    }
   ],
   "source": [
    "\n",
    "# Solar Array Analysis and Valuation\n",
    "\n",
    "# 1. Identify Key Factors Influencing Value\n",
    "# 2. Financial Modeling\n",
    "# 3. Risk Assessment\n",
    "# 4. Sensitivity Analysis\n",
    "# 5. Software and Tools\n",
    "\n",
    "\n",
    "import numpy as np\n",
    "\n",
    "# Parameters\n",
    "capacity_mw = 50  # Capacity in MW\n",
    "capacity_factor = 0.20  # Capacity factor\n",
    "annual_degradation = 0.005  # 0.5% degradation per year\n",
    "electricity_price = 50  # $ per MWh\n",
    "opex_per_mw = 20  # Operating expenses per MW per year\n",
    "lifetime_years = 25  # Operational life\n",
    "discount_rate = 0.07  # Discount rate\n",
    "\n",
    "# Annual generation in MWh\n",
    "annual_generation_mwh = capacity_mw * capacity_factor * 8760\n",
    "\n",
    "# Cash flow projections\n",
    "cash_flows = []\n",
    "for year in range(lifetime_years):\n",
    "    annual_generation = annual_generation_mwh * (1 - annual_degradation) ** year\n",
    "    revenue = annual_generation * electricity_price\n",
    "    opex = opex_per_mw * capacity_mw\n",
    "    cash_flow = revenue - opex\n",
    "    discounted_cash_flow = cash_flow / (1 + discount_rate) ** year\n",
    "    cash_flows.append(discounted_cash_flow)\n",
    "\n",
    "# Net present value (NPV)\n",
    "npv = np.sum(cash_flows)\n",
    "print(f\"Net Present Value (NPV) of the solar array: ${npv:,.2f}\")\n"
   ]
  },
  {
   "cell_type": "code",
   "execution_count": 25,
   "metadata": {},
   "outputs": [
    {
     "name": "stdout",
     "output_type": "stream",
     "text": [
      "Internal Rate of Return (IRR) for the solar array: 49.98%\n"
     ]
    }
   ],
   "source": [
    "\n",
    "# Internal Rate of Return (IRR)\n",
    "# We need to do a few things: \n",
    "# Define Cash Flows, \n",
    "# Set Up Cash Flows\n",
    "# Compute Net Present Value (NPV)\n",
    "# Find the rate that makes the NPV equal to zero\n",
    "\n",
    "import numpy as np\n",
    "from scipy.optimize import fsolve\n",
    "import numpy_financial as npf  # Import numpy_financial for NPV function\n",
    "\n",
    "# Define cash flows for the solar array example\n",
    "initial_investment = -5000000  # Example initial investment\n",
    "annual_revenues = 3000000  # Example annual revenue from electricity sales\n",
    "annual_opex = 500000  # Example annual operating expenses\n",
    "\n",
    "# Generate cash flows over a period of 20 years for example\n",
    "cash_flows = [initial_investment]  # Start with initial investment\n",
    "for year in range(1, 21):\n",
    "    cash_flow = annual_revenues - annual_opex\n",
    "    cash_flows.append(cash_flow)\n",
    "\n",
    "# Define the NPV function to find IRR\n",
    "def npv_func(rate, cash_flows):\n",
    "    return npf.npv(rate, cash_flows)\n",
    "\n",
    "# Calculate IRR using fsolve\n",
    "irr_result = fsolve(lambda x: npv_func(x, cash_flows), 0.05)\n",
    "\n",
    "print(f\"Internal Rate of Return (IRR) for the solar array: {irr_result[0]:.2%}\")\n"
   ]
  },
  {
   "cell_type": "code",
   "execution_count": 18,
   "metadata": {},
   "outputs": [],
   "source": [
    "\n",
    "# Wind Turbine / Wind Farm Analysis and Valuation\n",
    "\n",
    "# Net Present Value (NPV)\n",
    "# Parameters to Consider:\n",
    "# Capacity: Rated capacity of the wind turbine or total capacity of the wind farm in MW.\n",
    "# Capacity Factor: Typical capacity factor for wind turbines in your region.\n",
    "# Annual Degradation: Potential annual degradation or decline in performance.\n",
    "# Electricity Price: Price per MWh of electricity generated.\n",
    "# Operating Expenses (OPEX): Annual maintenance and operational costs per MW.\n",
    "# Lifetime: Operational life of the wind turbine or wind farm.\n",
    "# Discount Rate: Rate used to discount future cash flows.\n",
    "\n",
    "\n",
    "# We need to know the following\n",
    "# Annual Power Generation\n",
    "# Cash Flow Projection\n",
    "# Discounted Cash Flow (DCF)\n",
    "# Net Present Value (NPV)\n",
    "# Sensitivity Analysis\n"
   ]
  },
  {
   "cell_type": "code",
   "execution_count": 26,
   "metadata": {},
   "outputs": [
    {
     "name": "stdout",
     "output_type": "stream",
     "text": [
      "Net Present Value (NPV) of the wind farm: $85,096,499.82\n"
     ]
    }
   ],
   "source": [
    "\n",
    "# Wind Analysis and Valuation\n",
    "\n",
    "import numpy as np\n",
    "\n",
    "# Parameters (example values)\n",
    "capacity_mw = 50  # Capacity in MW\n",
    "capacity_factor = 0.35  # Capacity factor\n",
    "annual_degradation = 0.02  # 2% annual degradation\n",
    "electricity_price = 60  # $ per MWh\n",
    "opex_per_mw = 25  # Operating expenses per MW per year\n",
    "lifetime_years = 20  # Operational life\n",
    "discount_rate = 0.08  # Discount rate\n",
    "\n",
    "# Annual generation in MWh\n",
    "annual_generation_mwh = capacity_mw * capacity_factor * 8760\n",
    "\n",
    "# Cash flow projections\n",
    "cash_flows = []\n",
    "for year in range(lifetime_years):\n",
    "    annual_generation = annual_generation_mwh * (1 - annual_degradation) ** year\n",
    "    revenue = annual_generation * electricity_price\n",
    "    opex = opex_per_mw * capacity_mw\n",
    "    cash_flow = revenue - opex\n",
    "    discounted_cash_flow = cash_flow / (1 + discount_rate) ** year\n",
    "    cash_flows.append(discounted_cash_flow)\n",
    "\n",
    "# Net present value (NPV)\n",
    "npv = np.sum(cash_flows)\n",
    "\n",
    "print(f\"Net Present Value (NPV) of the wind farm: ${npv:,.2f}\")\n"
   ]
  },
  {
   "cell_type": "code",
   "execution_count": 32,
   "metadata": {},
   "outputs": [
    {
     "name": "stdout",
     "output_type": "stream",
     "text": [
      "Internal Rate of Return (IRR) for the wind farm: 513.03%\n"
     ]
    }
   ],
   "source": [
    "\n",
    "# Internal Rate of Return (IRR)\n",
    "import numpy as np\n",
    "from scipy.optimize import fsolve\n",
    "import numpy_financial as npf  # Import numpy_financial for NPV function\n",
    "\n",
    "# Define cash flows for the wind farm example\n",
    "cash_flows = [-5000000]  # Initial investment\n",
    "for year in range(1, 21):  # Assuming 20 years of cash flows\n",
    "    annual_generation = annual_generation_mwh * (1 - annual_degradation) ** year\n",
    "    revenue = annual_generation * electricity_price\n",
    "    opex = opex_per_mw * capacity_mw\n",
    "    cash_flow = revenue - opex\n",
    "    cash_flows.append(cash_flow)\n",
    "\n",
    "# Define the NPV function to find IRR\n",
    "def npv_func(rate, cash_flows):\n",
    "    return npf.npv(rate, cash_flows)\n",
    "\n",
    "# Calculate IRR using fsolve\n",
    "irr_result = fsolve(lambda x: npv_func(x, cash_flows), 0.05)\n",
    "\n",
    "print(f\"Internal Rate of Return (IRR) for the wind farm: {irr_result[0]:.2%}\")\n"
   ]
  },
  {
   "cell_type": "code",
   "execution_count": null,
   "metadata": {},
   "outputs": [],
   "source": [
    "\n",
    "# Hydroelectric Plant (Hydro Plant) Valuation\n",
    "\n",
    "\n",
    "# Parameters to Consider:\n",
    "# Capacity: Installed capacity of the hydro plant in MW.\n",
    "# Capacity Factor: Capacity factor based on water availability and flow.\n",
    "# Annual Generation: Estimate annual electricity generation based on capacity factor and local conditions.\n",
    "# OPEX: Operating expenses including maintenance, operations, and potential environmental costs.\n",
    "# Capital Expenditure (CAPEX): Initial investment and potential major maintenance costs.\n",
    "# Revenue: Price per MWh of electricity generated.\n",
    "# Discount Rate: Rate used to discount future cash flows.\n",
    "# Environmental Impact: Consider any environmental impact assessments and compliance costs.\n"
   ]
  },
  {
   "cell_type": "code",
   "execution_count": 28,
   "metadata": {},
   "outputs": [
    {
     "name": "stdout",
     "output_type": "stream",
     "text": [
      "Net Present Value (NPV) of the hydro plant: $507,204,043.22\n"
     ]
    }
   ],
   "source": [
    "\n",
    "# Hydro Analysis and Valuation\n",
    "\n",
    "# Just like we saw in the prior example, we need Annual CF, DCF, NPV, and we need to understand the risk profile of the asset.\n",
    "\n",
    "capacity_mw = 100  # Capacity in MW\n",
    "capacity_factor = 0.50  # Capacity factor\n",
    "annual_generation_mwh = capacity_mw * capacity_factor * 8760  # Annual generation in MWh\n",
    "revenue_per_mwh = 70  # Revenue per MWh\n",
    "opex_per_mw = 30  # Operating expenses per MW per year\n",
    "capex_initial = 5000000  # Initial capital expenditure\n",
    "lifetime_years = 50  # Operational life\n",
    "discount_rate = 0.06  # Discount rate\n",
    "\n",
    "# Calculate annual cash flows\n",
    "cash_flows = []\n",
    "for year in range(lifetime_years):\n",
    "    annual_revenue = annual_generation_mwh * revenue_per_mwh\n",
    "    annual_opex = opex_per_mw * capacity_mw\n",
    "    if year == 0:\n",
    "        cash_flow = annual_revenue - annual_opex - capex_initial\n",
    "    else:\n",
    "        cash_flow = annual_revenue - annual_opex\n",
    "    discounted_cash_flow = cash_flow / (1 + discount_rate) ** year\n",
    "    cash_flows.append(discounted_cash_flow)\n",
    "\n",
    "# Calculate NPV\n",
    "npv = np.sum(cash_flows)\n",
    "\n",
    "print(f\"Net Present Value (NPV) of the hydro plant: ${npv:,.2f}\")\n"
   ]
  },
  {
   "cell_type": "code",
   "execution_count": 29,
   "metadata": {},
   "outputs": [
    {
     "name": "stdout",
     "output_type": "stream",
     "text": [
      "Internal Rate of Return (IRR) for the hydro plant: 529.04%\n"
     ]
    }
   ],
   "source": [
    "\n",
    "# Internal Rate of Return (IRR)\n",
    "# Define cash flows for the hydro plant example\n",
    "cash_flows = [-5000000]  # Initial investment\n",
    "for year in range(1, 51):  # Assuming 50 years of cash flows\n",
    "    annual_revenue = annual_generation_mwh * revenue_per_mwh\n",
    "    annual_opex = opex_per_mw * capacity_mw\n",
    "    if year == 1:\n",
    "        cash_flow = annual_revenue - annual_opex - capex_initial\n",
    "    else:\n",
    "        cash_flow = annual_revenue - annual_opex\n",
    "    cash_flows.append(cash_flow)\n",
    "\n",
    "# Calculate IRR using fsolve\n",
    "irr_result = fsolve(lambda x: npv_func(x, cash_flows), 0.05)\n",
    "\n",
    "print(f\"Internal Rate of Return (IRR) for the hydro plant: {irr_result[0]:.2%}\")\n"
   ]
  },
  {
   "cell_type": "code",
   "execution_count": null,
   "metadata": {},
   "outputs": [],
   "source": [
    "\n",
    "# So, why are the wind and hydro asset generating IRRs literally 10x higher than the solar asset?\n",
    "\n",
    "# Scale of Investment and Cash Flows:\n",
    "# Wind and Hydro Assets: These projects often involve larger initial investments compared to solar due \n",
    "# to the costs associated with construction, equipment, and infrastructure (e.g., turbines for wind, dam \n",
    "# and turbines for hydro). If the initial investment is high relative to the cash flows generated, it can \n",
    "# result in a higher IRR.\n",
    "\n",
    "# Duration and Pattern of Cash Flows:\n",
    "# Wind and Hydro Assets: These projects typically have longer lifespans and can generate cash flows over \n",
    "# several decades, especially hydro projects which can operate for 50 years or more. The longer duration of \n",
    "#  cash flows can magnify the impact of returns, contributing to higher IRR values.\n",
    "\n",
    "# Discount Rate Sensitivity:\n",
    "# IRR is sensitive to the discount rate used in its calculation. A higher IRR indicates that the project's \n",
    "#  cash flows are more heavily weighted towards the early years relative to the initial investment. The \n",
    "# formula assumes reinvestment at the IRR rate, which can exaggerate returns if the project generates \n",
    "# significant cash flows early on.\n"
   ]
  },
  {
   "cell_type": "code",
   "execution_count": null,
   "metadata": {},
   "outputs": [],
   "source": [
    "\n",
    "# In summary:\n",
    "# Assumptions and Model Inputs\n",
    "# Potential Reasons for High IRR Values\n",
    "# Low Initial Investment Relative to Cash Flows\n",
    "\n",
    "\n",
    "\n",
    "# Finally, common sense needs to be applied!!\n",
    "\n",
    "# Comparative Benchmarking: Compare the IRR values against industry benchmarks for similar projects. \n",
    "# Industry standards vary by region, technology, and project size, providing context for evaluating \n",
    "# whether the IRR is realistic.\n",
    "\n",
    "# Risk Considerations: Evaluate the project's risk profile and assess whether the IRR reflects an \n",
    "# appropriate return given the associated risks (e.g., regulatory changes, technological obsolescence, \n",
    "# operational risks).\n",
    "\n",
    "# Financial Modeling Validation: Ensure that the financial model used for IRR calculation is robust, \n",
    "# considers realistic scenarios, and incorporates sensitivity analysis to understand the range of \n",
    "# potential outcomes.\n"
   ]
  },
  {
   "cell_type": "code",
   "execution_count": 20,
   "metadata": {},
   "outputs": [],
   "source": [
    "\n",
    "# END!!!\n"
   ]
  }
 ],
 "metadata": {
  "kernelspec": {
   "display_name": "Python 3 (ipykernel)",
   "language": "python",
   "name": "python3"
  },
  "language_info": {
   "codemirror_mode": {
    "name": "ipython",
    "version": 3
   },
   "file_extension": ".py",
   "mimetype": "text/x-python",
   "name": "python",
   "nbconvert_exporter": "python",
   "pygments_lexer": "ipython3",
   "version": "3.11.7"
  }
 },
 "nbformat": 4,
 "nbformat_minor": 4
}
