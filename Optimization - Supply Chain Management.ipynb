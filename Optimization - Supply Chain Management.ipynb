{
 "cells": [
  {
   "cell_type": "code",
   "execution_count": 1,
   "metadata": {},
   "outputs": [],
   "source": [
    "\n",
    "# Supply chain management (SCM) involves the coordination and optimization of various processes to ensure the \n",
    "# efficient flow of goods and services from the point of origin to the final consumer. A common problem in supply \n",
    "# chain management is optimizing inventory levels to minimize costs while meeting demand. \n",
    "\n",
    "# Let's say are managing inventory for a retail store, and you want to determine the optimal order quantity \n",
    "# for a product to minimize holding costs and stockouts.\n"
   ]
  },
  {
   "cell_type": "code",
   "execution_count": 2,
   "metadata": {},
   "outputs": [
    {
     "data": {
      "text/html": [
       "<div>\n",
       "<style scoped>\n",
       "    .dataframe tbody tr th:only-of-type {\n",
       "        vertical-align: middle;\n",
       "    }\n",
       "\n",
       "    .dataframe tbody tr th {\n",
       "        vertical-align: top;\n",
       "    }\n",
       "\n",
       "    .dataframe thead th {\n",
       "        text-align: right;\n",
       "    }\n",
       "</style>\n",
       "<table border=\"1\" class=\"dataframe\">\n",
       "  <thead>\n",
       "    <tr style=\"text-align: right;\">\n",
       "      <th></th>\n",
       "      <th>Product</th>\n",
       "      <th>Month</th>\n",
       "      <th>Demand</th>\n",
       "      <th>LeadTime</th>\n",
       "      <th>EOQ</th>\n",
       "      <th>OptimalOrderQuantity</th>\n",
       "    </tr>\n",
       "  </thead>\n",
       "  <tbody>\n",
       "    <tr>\n",
       "      <th>0</th>\n",
       "      <td>Product_A</td>\n",
       "      <td>1</td>\n",
       "      <td>54.967142</td>\n",
       "      <td>5.208864</td>\n",
       "      <td>52.424775</td>\n",
       "      <td>52</td>\n",
       "    </tr>\n",
       "    <tr>\n",
       "      <th>1</th>\n",
       "      <td>Product_A</td>\n",
       "      <td>2</td>\n",
       "      <td>48.617357</td>\n",
       "      <td>3.040330</td>\n",
       "      <td>49.303832</td>\n",
       "      <td>49</td>\n",
       "    </tr>\n",
       "    <tr>\n",
       "      <th>2</th>\n",
       "      <td>Product_A</td>\n",
       "      <td>3</td>\n",
       "      <td>56.476885</td>\n",
       "      <td>3.671814</td>\n",
       "      <td>53.139856</td>\n",
       "      <td>53</td>\n",
       "    </tr>\n",
       "    <tr>\n",
       "      <th>3</th>\n",
       "      <td>Product_A</td>\n",
       "      <td>4</td>\n",
       "      <td>65.230299</td>\n",
       "      <td>5.196861</td>\n",
       "      <td>57.109675</td>\n",
       "      <td>57</td>\n",
       "    </tr>\n",
       "    <tr>\n",
       "      <th>4</th>\n",
       "      <td>Product_A</td>\n",
       "      <td>5</td>\n",
       "      <td>47.658466</td>\n",
       "      <td>5.738467</td>\n",
       "      <td>48.815196</td>\n",
       "      <td>49</td>\n",
       "    </tr>\n",
       "  </tbody>\n",
       "</table>\n",
       "</div>"
      ],
      "text/plain": [
       "     Product  Month     Demand  LeadTime        EOQ  OptimalOrderQuantity\n",
       "0  Product_A      1  54.967142  5.208864  52.424775                    52\n",
       "1  Product_A      2  48.617357  3.040330  49.303832                    49\n",
       "2  Product_A      3  56.476885  3.671814  53.139856                    53\n",
       "3  Product_A      4  65.230299  5.196861  57.109675                    57\n",
       "4  Product_A      5  47.658466  5.738467  48.815196                    49"
      ]
     },
     "execution_count": 2,
     "metadata": {},
     "output_type": "execute_result"
    }
   ],
   "source": [
    "\n",
    "import pandas as pd\n",
    "import numpy as np\n",
    "\n",
    "np.random.seed(42)\n",
    "\n",
    "# Generate sample data\n",
    "products = ['Product_A', 'Product_B', 'Product_C']\n",
    "demand_mean = [50, 30, 40]\n",
    "demand_std = [10, 5, 8]\n",
    "lead_time_mean = [5, 3, 4]\n",
    "lead_time_std = [1, 0.5, 0.8]\n",
    "\n",
    "data = {\n",
    "    'Product': np.repeat(products, 12),\n",
    "    'Month': np.tile(range(1, 13), len(products)),\n",
    "    'Demand': np.random.normal(np.repeat(demand_mean, 12), np.repeat(demand_std, 12)),\n",
    "    'LeadTime': np.random.normal(np.repeat(lead_time_mean, 12), np.repeat(lead_time_std, 12))\n",
    "}\n",
    "\n",
    "df = pd.DataFrame(data)\n",
    "df\n",
    "\n",
    "\n",
    "def calculate_eoq(demand, holding_cost, ordering_cost):\n",
    "    \"\"\"\n",
    "    Calculate Economic Order Quantity (EOQ).\n",
    "    \"\"\"\n",
    "    return np.sqrt((2 * demand * ordering_cost) / holding_cost)\n",
    "\n",
    "def calculate_optimal_order_quantity(df, holding_cost, ordering_cost):\n",
    "    \"\"\"\n",
    "    Calculate the optimal order quantity for each product.\n",
    "    \"\"\"\n",
    "    df['EOQ'] = df.apply(lambda row: calculate_eoq(row['Demand'], holding_cost, ordering_cost), axis=1)\n",
    "    df['OptimalOrderQuantity'] = np.round(df['EOQ']).astype(int)\n",
    "    return df\n",
    "\n",
    "# Assume holding cost and ordering cost for each product\n",
    "holding_cost = 2  # Cost of holding one unit in inventory for one month\n",
    "ordering_cost = 50  # Cost of placing one order\n",
    "\n",
    "df = calculate_optimal_order_quantity(df, holding_cost, ordering_cost)\n",
    "df.head()\n"
   ]
  },
  {
   "cell_type": "code",
   "execution_count": 3,
   "metadata": {},
   "outputs": [],
   "source": [
    "\n",
    "# EOQ = Economic Order Quantity\n",
    "\n",
    "# EOQ is a calculation that helps businesses determine the optimal order quantity to minimize the total \n",
    "# inventory costs, which include ordering costs and holding costs.\n",
    "\n",
    "# The goal of EOQ is to find the order quantity that minimizes the total costs associated with ordering \n",
    "# and holding inventory.\n",
    "\n",
    "\n",
    "# EOQ = OptimalOrderQuantity\n",
    "\n",
    "# Optimal Order Quantity, in the context of the supply chain management example, refers to the specific \n",
    "# quantity that has been calculated as the optimal order quantity using the EOQ model.\n",
    "\n",
    "# This is the order quantity that, according to the EOQ model, will result in the lowest total cost.\n"
   ]
  },
  {
   "cell_type": "code",
   "execution_count": 4,
   "metadata": {},
   "outputs": [
    {
     "data": {
      "image/png": "[encoded data removed]",
      "text/plain": [
       "<Figure size 1000x600 with 1 Axes>"
      ]
     },
     "metadata": {},
     "output_type": "display_data"
    }
   ],
   "source": [
    "\n",
    "import matplotlib.pyplot as plt\n",
    "import seaborn as sns\n",
    "\n",
    "# Plot the optimal order quantity\n",
    "plt.figure(figsize=(10, 6))\n",
    "sns.barplot(x='Product', y='OptimalOrderQuantity', data=df, palette='viridis')\n",
    "plt.title('Optimal Order Quantity for Each Product')\n",
    "plt.xlabel('Product')\n",
    "plt.ylabel('Optimal Order Quantity')\n",
    "plt.show()\n"
   ]
  },
  {
   "cell_type": "code",
   "execution_count": 5,
   "metadata": {},
   "outputs": [],
   "source": [
    "\n",
    "# This is a simplified example, and real-world supply chain problems can be much more complex, involving multiple \n",
    "# products, suppliers, warehouses, and distribution centers. More advanced optimization models, such as the \n",
    "# Newsvendor Model or stochastic programming or ScipyOptimize, may be more applicable in certain scenarios.\n"
   ]
  }
 ],
 "metadata": {
  "kernelspec": {
   "display_name": "Python 3 (ipykernel)",
   "language": "python",
   "name": "python3"
  },
  "language_info": {
   "codemirror_mode": {
    "name": "ipython",
    "version": 3
   },
   "file_extension": ".py",
   "mimetype": "text/x-python",
   "name": "python",
   "nbconvert_exporter": "python",
   "pygments_lexer": "ipython3",
   "version": "3.10.9"
  }
 },
 "nbformat": 4,
 "nbformat_minor": 4
}
