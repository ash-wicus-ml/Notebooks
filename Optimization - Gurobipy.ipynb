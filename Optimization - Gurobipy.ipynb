{
 "cells": [
  {
   "cell_type": "code",
   "execution_count": 2,
   "id": "6355efc3",
   "metadata": {},
   "outputs": [],
   "source": [
    "\n",
    "# To model and solve a power generation optimization problem using Gurobi in Python, you'll need to formulate your \n",
    "# problem as a mathematical optimization model. Here's a simplified example using linear programming. In a real-world \n",
    "# scenario, you might need a more sophisticated model depending on the specifics of your system.\n",
    "\n",
    "# Let's assume you have data for water flow, weather, temperature, sunshine, rainfall over the past year, and you \n",
    "# want to maximize power generation based on these factors.\n",
    "\n",
    "# Essentialls, gurobipy is the Python interface for Gurobi Optimization, a powerful optimization solver. \n",
    "# Gurobi Optimization is a commercial optimization solver that provides state-of-the-art performance for a wide \n",
    "# range of mathematical programming problems, including linear programming (LP), quadratic programming (QP), \n",
    "# mixed-integer programming (MIP), and more\n"
   ]
  },
  {
   "cell_type": "code",
   "execution_count": 3,
   "id": "5a6f48f8",
   "metadata": {},
   "outputs": [
    {
     "name": "stdout",
     "output_type": "stream",
     "text": [
      "Restricted license - for non-production use only - expires 2025-11-24\n",
      "Gurobi Optimizer version 11.0.0 build v11.0.0rc2 (win64 - Windows 11.0 (22621.2))\n",
      "\n",
      "CPU model: 13th Gen Intel(R) Core(TM) i5-1335U, instruction set [SSE2|AVX|AVX2]\n",
      "Thread count: 10 physical cores, 12 logical processors, using up to 12 threads\n",
      "\n",
      "Optimize a model with 48 rows, 12 columns and 48 nonzeros\n",
      "Model fingerprint: 0x0eb96b49\n",
      "Coefficient statistics:\n",
      "  Matrix range     [1e+00, 1e+00]\n",
      "  Objective range  [1e+00, 1e+00]\n",
      "  Bounds range     [0e+00, 0e+00]\n",
      "  RHS range        [1e+00, 3e+02]\n",
      "Presolve removed 48 rows and 12 columns\n",
      "Presolve time: 0.04s\n",
      "Presolve: All rows and columns removed\n",
      "Iteration    Objective       Primal Inf.    Dual Inf.      Time\n",
      "       0    2.1000000e+01   0.000000e+00   0.000000e+00      0s\n",
      "\n",
      "Solved in 0 iterations and 0.05 seconds (0.00 work units)\n",
      "Optimal objective  2.100000000e+01\n"
     ]
    }
   ],
   "source": [
    "\n",
    "import pandas as pd\n",
    "\n",
    "# Sample data for the past year\n",
    "data = {\n",
    "    'Month': ['Jan', 'Feb', 'Mar', 'Apr', 'May', 'Jun', 'Jul', 'Aug', 'Sep', 'Oct', 'Nov', 'Dec'],\n",
    "    'Water_Flow': [100, 120, 90, 80, 110, 130, 150, 140, 120, 100, 80, 90],\n",
    "    'Temperature': [15, 18, 20, 25, 28, 30, 32, 28, 25, 20, 18, 16],\n",
    "    'Sunshine': [6, 7, 8, 9, 10, 11, 12, 11, 10, 8, 7, 6],\n",
    "    'Rainfall': [50, 40, 30, 20, 10, 5, 5, 10, 15, 25, 35, 45],\n",
    "}\n",
    "\n",
    "df = pd.DataFrame(data)\n",
    "df\n",
    "\n",
    "\n",
    "import gurobipy as gp\n",
    "from gurobipy import GRB\n",
    "\n",
    "# Create a Gurobi model\n",
    "model = gp.Model(\"power_generation\")\n",
    "\n",
    "\n",
    "# Variables\n",
    "months = df['Month'].tolist()\n",
    "water_flow = df['Water_Flow'].tolist()\n",
    "temperature = df['Temperature'].tolist()\n",
    "sunshine = df['Sunshine'].tolist()\n",
    "rainfall = df['Rainfall'].tolist()\n",
    "\n",
    "\n",
    "\n",
    "# Defines decision variables for power generation in each month and sets the objective to maximize \n",
    "# the total power generation over the year.\n",
    "# Power generation variables for each month\n",
    "power_gen = model.addVars(months, name=\"Power_Generation\", lb=0)\n",
    "\n",
    "# Objective: Maximize total power generation over the year\n",
    "model.setObjective(gp.quicksum(power_gen[month] for month in months), sense=GRB.MAXIMIZE)\n",
    "\n",
    "\n",
    "# Adds constraints for each month based on the factors: 'Water_Flow', 'Temperature', 'Sunshine', and \n",
    "# 'Rainfall'. Adjusts coefficients according to the influence of each factor on power generation.\n",
    "# Constraints: Power generation based on water flow and other factors\n",
    "for month in months:\n",
    "    model.addConstr(power_gen[month] <= 2 * water_flow[months.index(month)], f\"Water_Flow_Constraint_{month}\")\n",
    "    model.addConstr(power_gen[month] <= 0.5 * temperature[months.index(month)], f\"Temperature_Constraint_{month}\")\n",
    "    model.addConstr(power_gen[month] <= 0.2 * sunshine[months.index(month)], f\"Sunshine_Constraint_{month}\")\n",
    "    model.addConstr(power_gen[month] <= 1.5 * rainfall[months.index(month)], f\"Rainfall_Constraint_{month}\")\n",
    "\n",
    "    \n",
    "# Optimize the model\n",
    "model.optimize()\n"
   ]
  },
  {
   "cell_type": "code",
   "execution_count": 4,
   "id": "515c048d",
   "metadata": {},
   "outputs": [
    {
     "name": "stdout",
     "output_type": "stream",
     "text": [
      "Optimal Power Generation:\n",
      "Jan: 1.2000000000000002 MW\n",
      "Feb: 1.4000000000000001 MW\n",
      "Mar: 1.6 MW\n",
      "Apr: 1.8 MW\n",
      "May: 2.0 MW\n",
      "Jun: 2.2 MW\n",
      "Jul: 2.4000000000000004 MW\n",
      "Aug: 2.2 MW\n",
      "Sep: 2.0 MW\n",
      "Oct: 1.6 MW\n",
      "Nov: 1.4000000000000001 MW\n",
      "Dec: 1.2000000000000002 MW\n"
     ]
    }
   ],
   "source": [
    "\n",
    "# Print the optimal solution\n",
    "print(\"Optimal Power Generation:\")\n",
    "for month in months:\n",
    "    print(f\"{month}: {power_gen[month].x} MW\")\n",
    "    "
   ]
  },
  {
   "cell_type": "code",
   "execution_count": 1,
   "id": "295154c6",
   "metadata": {},
   "outputs": [],
   "source": [
    "\n",
    "# This code sets up an optimization model using Gurobi to maximize power generation over the year while \n",
    "# considering constraints based on water flow, temperature, sunshine, and rainfall. The coefficients in \n",
    "# the constraints can be adjusted to reflect the impact of each factor on power generation. The final output \n",
    "# shows the optimal power generation values for each month.\n"
   ]
  }
 ],
 "metadata": {
  "kernelspec": {
   "display_name": "Python 3 (ipykernel)",
   "language": "python",
   "name": "python3"
  },
  "language_info": {
   "codemirror_mode": {
    "name": "ipython",
    "version": 3
   },
   "file_extension": ".py",
   "mimetype": "text/x-python",
   "name": "python",
   "nbconvert_exporter": "python",
   "pygments_lexer": "ipython3",
   "version": "3.11.5"
  }
 },
 "nbformat": 4,
 "nbformat_minor": 5
}
