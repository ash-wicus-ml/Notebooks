{
 "cells": [
  {
   "cell_type": "code",
   "execution_count": 1,
   "metadata": {},
   "outputs": [
    {
     "name": "stdout",
     "output_type": "stream",
     "text": [
      "<class 'list'>\n"
     ]
    }
   ],
   "source": [
    "\n",
    "# A file-watcher (directory-watcher) is a process which monitors a specific directory for the arrival of any files. The file-watcher, \n",
    "# upon the arrival of any file, will trigger a follow-up process.\n",
    "# Unless a file-watcher is in place, someone would manually need to monitor for the arrival of the \n",
    "# said file before manually kicking off the relevant daily process.\n",
    "\n",
    "import time\n",
    "import os\n",
    "import shutil\n",
    "\n",
    "directory_path = 'C:\\\\Users\\\\ryans\\\\Desktop\\\\from_folder\\\\'\n",
    "destination_path = 'C:\\\\Users\\\\ryans\\\\Desktop\\\\to_folder\\\\'\n",
    "\n",
    "while True:\n",
    "    files = os.listdir(directory_path)\n",
    "    for file in files:\n",
    "        filepath = directory_path + file\n",
    "        ##BEGIN: USE CASE SPECIFIC##\n",
    "        ordernumber = file[5:].split('.csv')[0]\n",
    "        orderlines = []\n",
    "        with open(filepath,'r') as f:\n",
    "            for line in f:\n",
    "                line = line.strip()\n",
    "                orderlines.append('{},{}\\n'.format(ordernumber,line))\n",
    "\n",
    "        with open('C:\\\\Users\\\\ryans\\\\Desktop\\\\updates.csv','a') as f:\n",
    "            for line in orderlines:\n",
    "                f.write(line)\n",
    "        ##END: USE CASE SPECIFIC##\n",
    "\n",
    "        destination_file = destination_path + file\n",
    "        shutil.move(filepath, destination_file)\n",
    "\n",
    "    time.sleep(10)\n",
    "\n",
    "    "
   ]
  }
 ],
 "metadata": {
  "kernelspec": {
   "display_name": "Python 3 (ipykernel)",
   "language": "python",
   "name": "python3"
  },
  "language_info": {
   "codemirror_mode": {
    "name": "ipython",
    "version": 3
   },
   "file_extension": ".py",
   "mimetype": "text/x-python",
   "name": "python",
   "nbconvert_exporter": "python",
   "pygments_lexer": "ipython3",
   "version": "3.10.9"
  }
 },
 "nbformat": 4,
 "nbformat_minor": 4
}
