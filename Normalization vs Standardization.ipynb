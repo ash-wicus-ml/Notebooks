{
 "cells": [
  {
   "cell_type": "code",
   "execution_count": 16,
   "metadata": {},
   "outputs": [],
   "source": [
    "\n",
    "# Feature scaling is one of the most important data preprocessing step in machine learning. \n",
    "# Algorithms that compute the distance between the features are biased towards numerically larger \n",
    "# values if the data is not scaled.\n",
    "\n",
    "# There are several ways to do feature scaling. Some of the more popular techniques include:\n",
    "# Absolute Maximum Scaling\n",
    "# Min-Max Scaling\n",
    "# Normalization\n",
    "# Standardization\n",
    "# Robust Scaling\n"
   ]
  },
  {
   "cell_type": "code",
   "execution_count": 24,
   "metadata": {},
   "outputs": [
    {
     "name": "stdout",
     "output_type": "stream",
     "text": [
      "Index(['mpg', 'cyl', 'disp', 'hp', 'drat', 'wt', 'qsec', 'vs', 'am', 'gear',\n",
      "       'carb'],\n",
      "      dtype='object')\n"
     ]
    },
    {
     "data": {
      "text/html": [
       "<div>\n",
       "<style scoped>\n",
       "    .dataframe tbody tr th:only-of-type {\n",
       "        vertical-align: middle;\n",
       "    }\n",
       "\n",
       "    .dataframe tbody tr th {\n",
       "        vertical-align: top;\n",
       "    }\n",
       "\n",
       "    .dataframe thead th {\n",
       "        text-align: right;\n",
       "    }\n",
       "</style>\n",
       "<table border=\"1\" class=\"dataframe\">\n",
       "  <thead>\n",
       "    <tr style=\"text-align: right;\">\n",
       "      <th></th>\n",
       "      <th>mpg</th>\n",
       "      <th>cyl</th>\n",
       "      <th>disp</th>\n",
       "      <th>hp</th>\n",
       "      <th>drat</th>\n",
       "      <th>wt</th>\n",
       "      <th>qsec</th>\n",
       "      <th>vs</th>\n",
       "      <th>am</th>\n",
       "      <th>gear</th>\n",
       "      <th>carb</th>\n",
       "    </tr>\n",
       "  </thead>\n",
       "  <tbody>\n",
       "    <tr>\n",
       "      <th>Mazda RX4</th>\n",
       "      <td>21.0</td>\n",
       "      <td>6</td>\n",
       "      <td>160.0</td>\n",
       "      <td>110</td>\n",
       "      <td>3.90</td>\n",
       "      <td>2.620</td>\n",
       "      <td>16.46</td>\n",
       "      <td>0</td>\n",
       "      <td>1</td>\n",
       "      <td>4</td>\n",
       "      <td>4</td>\n",
       "    </tr>\n",
       "    <tr>\n",
       "      <th>Mazda RX4 Wag</th>\n",
       "      <td>21.0</td>\n",
       "      <td>6</td>\n",
       "      <td>160.0</td>\n",
       "      <td>110</td>\n",
       "      <td>3.90</td>\n",
       "      <td>2.875</td>\n",
       "      <td>17.02</td>\n",
       "      <td>0</td>\n",
       "      <td>1</td>\n",
       "      <td>4</td>\n",
       "      <td>4</td>\n",
       "    </tr>\n",
       "    <tr>\n",
       "      <th>Datsun 710</th>\n",
       "      <td>22.8</td>\n",
       "      <td>4</td>\n",
       "      <td>108.0</td>\n",
       "      <td>93</td>\n",
       "      <td>3.85</td>\n",
       "      <td>2.320</td>\n",
       "      <td>18.61</td>\n",
       "      <td>1</td>\n",
       "      <td>1</td>\n",
       "      <td>4</td>\n",
       "      <td>1</td>\n",
       "    </tr>\n",
       "    <tr>\n",
       "      <th>Hornet 4 Drive</th>\n",
       "      <td>21.4</td>\n",
       "      <td>6</td>\n",
       "      <td>258.0</td>\n",
       "      <td>110</td>\n",
       "      <td>3.08</td>\n",
       "      <td>3.215</td>\n",
       "      <td>19.44</td>\n",
       "      <td>1</td>\n",
       "      <td>0</td>\n",
       "      <td>3</td>\n",
       "      <td>1</td>\n",
       "    </tr>\n",
       "    <tr>\n",
       "      <th>Hornet Sportabout</th>\n",
       "      <td>18.7</td>\n",
       "      <td>8</td>\n",
       "      <td>360.0</td>\n",
       "      <td>175</td>\n",
       "      <td>3.15</td>\n",
       "      <td>3.440</td>\n",
       "      <td>17.02</td>\n",
       "      <td>0</td>\n",
       "      <td>0</td>\n",
       "      <td>3</td>\n",
       "      <td>2</td>\n",
       "    </tr>\n",
       "  </tbody>\n",
       "</table>\n",
       "</div>"
      ],
      "text/plain": [
       "                    mpg  cyl   disp   hp  drat     wt   qsec  vs  am  gear  \\\n",
       "Mazda RX4          21.0    6  160.0  110  3.90  2.620  16.46   0   1     4   \n",
       "Mazda RX4 Wag      21.0    6  160.0  110  3.90  2.875  17.02   0   1     4   \n",
       "Datsun 710         22.8    4  108.0   93  3.85  2.320  18.61   1   1     4   \n",
       "Hornet 4 Drive     21.4    6  258.0  110  3.08  3.215  19.44   1   0     3   \n",
       "Hornet Sportabout  18.7    8  360.0  175  3.15  3.440  17.02   0   0     3   \n",
       "\n",
       "                   carb  \n",
       "Mazda RX4             4  \n",
       "Mazda RX4 Wag         4  \n",
       "Datsun 710            1  \n",
       "Hornet 4 Drive        1  \n",
       "Hornet Sportabout     2  "
      ]
     },
     "execution_count": 24,
     "metadata": {},
     "output_type": "execute_result"
    }
   ],
   "source": [
    "\n",
    "import numpy as np\n",
    "import pandas as pd\n",
    "import matplotlib.pyplot as plt\n",
    "import seaborn as sns\n",
    "from pylab import rcParams\n",
    "import seaborn as sb\n",
    "import scipy\n",
    "from scipy.stats import spearmanr\n",
    "from sklearn import datasets\n",
    "import statsmodels.api as sm\n",
    "import numpy as np\n",
    "import pandas as pd\n",
    "\n",
    "mtcars = sm.datasets.get_rdataset(\"mtcars\", \"datasets\", cache=True).data\n",
    "df = pd.DataFrame(mtcars)\n",
    "print(df.columns)\n",
    "df.head()\n"
   ]
  },
  {
   "cell_type": "code",
   "execution_count": 18,
   "metadata": {},
   "outputs": [
    {
     "data": {
      "text/html": [
       "<div>\n",
       "<style scoped>\n",
       "    .dataframe tbody tr th:only-of-type {\n",
       "        vertical-align: middle;\n",
       "    }\n",
       "\n",
       "    .dataframe tbody tr th {\n",
       "        vertical-align: top;\n",
       "    }\n",
       "\n",
       "    .dataframe thead th {\n",
       "        text-align: right;\n",
       "    }\n",
       "</style>\n",
       "<table border=\"1\" class=\"dataframe\">\n",
       "  <thead>\n",
       "    <tr style=\"text-align: right;\">\n",
       "      <th></th>\n",
       "      <th>variable</th>\n",
       "      <th>value</th>\n",
       "    </tr>\n",
       "  </thead>\n",
       "  <tbody>\n",
       "    <tr>\n",
       "      <th>0</th>\n",
       "      <td>mpg</td>\n",
       "      <td>21.0</td>\n",
       "    </tr>\n",
       "    <tr>\n",
       "      <th>1</th>\n",
       "      <td>mpg</td>\n",
       "      <td>21.0</td>\n",
       "    </tr>\n",
       "    <tr>\n",
       "      <th>2</th>\n",
       "      <td>mpg</td>\n",
       "      <td>22.8</td>\n",
       "    </tr>\n",
       "    <tr>\n",
       "      <th>3</th>\n",
       "      <td>mpg</td>\n",
       "      <td>21.4</td>\n",
       "    </tr>\n",
       "    <tr>\n",
       "      <th>4</th>\n",
       "      <td>mpg</td>\n",
       "      <td>18.7</td>\n",
       "    </tr>\n",
       "    <tr>\n",
       "      <th>...</th>\n",
       "      <td>...</td>\n",
       "      <td>...</td>\n",
       "    </tr>\n",
       "    <tr>\n",
       "      <th>347</th>\n",
       "      <td>carb</td>\n",
       "      <td>2.0</td>\n",
       "    </tr>\n",
       "    <tr>\n",
       "      <th>348</th>\n",
       "      <td>carb</td>\n",
       "      <td>4.0</td>\n",
       "    </tr>\n",
       "    <tr>\n",
       "      <th>349</th>\n",
       "      <td>carb</td>\n",
       "      <td>6.0</td>\n",
       "    </tr>\n",
       "    <tr>\n",
       "      <th>350</th>\n",
       "      <td>carb</td>\n",
       "      <td>8.0</td>\n",
       "    </tr>\n",
       "    <tr>\n",
       "      <th>351</th>\n",
       "      <td>carb</td>\n",
       "      <td>2.0</td>\n",
       "    </tr>\n",
       "  </tbody>\n",
       "</table>\n",
       "<p>352 rows × 2 columns</p>\n",
       "</div>"
      ],
      "text/plain": [
       "    variable  value\n",
       "0        mpg   21.0\n",
       "1        mpg   21.0\n",
       "2        mpg   22.8\n",
       "3        mpg   21.4\n",
       "4        mpg   18.7\n",
       "..       ...    ...\n",
       "347     carb    2.0\n",
       "348     carb    4.0\n",
       "349     carb    6.0\n",
       "350     carb    8.0\n",
       "351     carb    2.0\n",
       "\n",
       "[352 rows x 2 columns]"
      ]
     },
     "execution_count": 18,
     "metadata": {},
     "output_type": "execute_result"
    }
   ],
   "source": [
    "\n",
    "# Let's reshare our dataframe aso we can look at outliers\n",
    "\n",
    "df_stacked = pd.melt(df)\n",
    "df_stacked\n"
   ]
  },
  {
   "cell_type": "code",
   "execution_count": 19,
   "metadata": {},
   "outputs": [
    {
     "data": {
      "application/vnd.plotly.v1+json": {
       "config": {
        "plotlyServerURL": "https://plot.ly"
       },
       "data": [
        {
         "alignmentgroup": "True",
         "hovertemplate": "variable=%{x}<br>value=%{y}<extra></extra>",
         "legendgroup": "mpg",
         "marker": {
          "color": "#636efa"
         },
         "name": "mpg",
         "notched": false,
         "offsetgroup": "mpg",
         "orientation": "v",
         "quartilemethod": "exclusive",
         "showlegend": true,
         "type": "box",
         "x": [
          "mpg",
          "mpg",
          "mpg",
          "mpg",
          "mpg",
          "mpg",
          "mpg",
          "mpg",
          "mpg",
          "mpg",
          "mpg",
          "mpg",
          "mpg",
          "mpg",
          "mpg",
          "mpg",
          "mpg",
          "mpg",
          "mpg",
          "mpg",
          "mpg",
          "mpg",
          "mpg",
          "mpg",
          "mpg",
          "mpg",
          "mpg",
          "mpg",
          "mpg",
          "mpg",
          "mpg",
          "mpg"
         ],
         "x0": " ",
         "xaxis": "x",
         "y": [
          21,
          21,
          22.8,
          21.4,
          18.7,
          18.1,
          14.3,
          24.4,
          22.8,
          19.2,
          17.8,
          16.4,
          17.3,
          15.2,
          10.4,
          10.4,
          14.7,
          32.4,
          30.4,
          33.9,
          21.5,
          15.5,
          15.2,
          13.3,
          19.2,
          27.3,
          26,
          30.4,
          15.8,
          19.7,
          15,
          21.4
         ],
         "y0": " ",
         "yaxis": "y"
        },
        {
         "alignmentgroup": "True",
         "hovertemplate": "variable=%{x}<br>value=%{y}<extra></extra>",
         "legendgroup": "cyl",
         "marker": {
          "color": "#EF553B"
         },
         "name": "cyl",
         "notched": false,
         "offsetgroup": "cyl",
         "orientation": "v",
         "quartilemethod": "exclusive",
         "showlegend": true,
         "type": "box",
         "x": [
          "cyl",
          "cyl",
          "cyl",
          "cyl",
          "cyl",
          "cyl",
          "cyl",
          "cyl",
          "cyl",
          "cyl",
          "cyl",
          "cyl",
          "cyl",
          "cyl",
          "cyl",
          "cyl",
          "cyl",
          "cyl",
          "cyl",
          "cyl",
          "cyl",
          "cyl",
          "cyl",
          "cyl",
          "cyl",
          "cyl",
          "cyl",
          "cyl",
          "cyl",
          "cyl",
          "cyl",
          "cyl"
         ],
         "x0": " ",
         "xaxis": "x",
         "y": [
          6,
          6,
          4,
          6,
          8,
          6,
          8,
          4,
          4,
          6,
          6,
          8,
          8,
          8,
          8,
          8,
          8,
          4,
          4,
          4,
          4,
          8,
          8,
          8,
          8,
          4,
          4,
          4,
          8,
          6,
          8,
          4
         ],
         "y0": " ",
         "yaxis": "y"
        },
        {
         "alignmentgroup": "True",
         "hovertemplate": "variable=%{x}<br>value=%{y}<extra></extra>",
         "legendgroup": "disp",
         "marker": {
          "color": "#00cc96"
         },
         "name": "disp",
         "notched": false,
         "offsetgroup": "disp",
         "orientation": "v",
         "quartilemethod": "exclusive",
         "showlegend": true,
         "type": "box",
         "x": [
          "disp",
          "disp",
          "disp",
          "disp",
          "disp",
          "disp",
          "disp",
          "disp",
          "disp",
          "disp",
          "disp",
          "disp",
          "disp",
          "disp",
          "disp",
          "disp",
          "disp",
          "disp",
          "disp",
          "disp",
          "disp",
          "disp",
          "disp",
          "disp",
          "disp",
          "disp",
          "disp",
          "disp",
          "disp",
          "disp",
          "disp",
          "disp"
         ],
         "x0": " ",
         "xaxis": "x",
         "y": [
          160,
          160,
          108,
          258,
          360,
          225,
          360,
          146.7,
          140.8,
          167.6,
          167.6,
          275.8,
          275.8,
          275.8,
          472,
          460,
          440,
          78.7,
          75.7,
          71.1,
          120.1,
          318,
          304,
          350,
          400,
          79,
          120.3,
          95.1,
          351,
          145,
          301,
          121
         ],
         "y0": " ",
         "yaxis": "y"
        },
        {
         "alignmentgroup": "True",
         "hovertemplate": "variable=%{x}<br>value=%{y}<extra></extra>",
         "legendgroup": "hp",
         "marker": {
          "color": "#ab63fa"
         },
         "name": "hp",
         "notched": false,
         "offsetgroup": "hp",
         "orientation": "v",
         "quartilemethod": "exclusive",
         "showlegend": true,
         "type": "box",
         "x": [
          "hp",
          "hp",
          "hp",
          "hp",
          "hp",
          "hp",
          "hp",
          "hp",
          "hp",
          "hp",
          "hp",
          "hp",
          "hp",
          "hp",
          "hp",
          "hp",
          "hp",
          "hp",
          "hp",
          "hp",
          "hp",
          "hp",
          "hp",
          "hp",
          "hp",
          "hp",
          "hp",
          "hp",
          "hp",
          "hp",
          "hp",
          "hp"
         ],
         "x0": " ",
         "xaxis": "x",
         "y": [
          110,
          110,
          93,
          110,
          175,
          105,
          245,
          62,
          95,
          123,
          123,
          180,
          180,
          180,
          205,
          215,
          230,
          66,
          52,
          65,
          97,
          150,
          150,
          245,
          175,
          66,
          91,
          113,
          264,
          175,
          335,
          109
         ],
         "y0": " ",
         "yaxis": "y"
        },
        {
         "alignmentgroup": "True",
         "hovertemplate": "variable=%{x}<br>value=%{y}<extra></extra>",
         "legendgroup": "drat",
         "marker": {
          "color": "#FFA15A"
         },
         "name": "drat",
         "notched": false,
         "offsetgroup": "drat",
         "orientation": "v",
         "quartilemethod": "exclusive",
         "showlegend": true,
         "type": "box",
         "x": [
          "drat",
          "drat",
          "drat",
          "drat",
          "drat",
          "drat",
          "drat",
          "drat",
          "drat",
          "drat",
          "drat",
          "drat",
          "drat",
          "drat",
          "drat",
          "drat",
          "drat",
          "drat",
          "drat",
          "drat",
          "drat",
          "drat",
          "drat",
          "drat",
          "drat",
          "drat",
          "drat",
          "drat",
          "drat",
          "drat",
          "drat",
          "drat"
         ],
         "x0": " ",
         "xaxis": "x",
         "y": [
          3.9,
          3.9,
          3.85,
          3.08,
          3.15,
          2.76,
          3.21,
          3.69,
          3.92,
          3.92,
          3.92,
          3.07,
          3.07,
          3.07,
          2.93,
          3,
          3.23,
          4.08,
          4.93,
          4.22,
          3.7,
          2.76,
          3.15,
          3.73,
          3.08,
          4.08,
          4.43,
          3.77,
          4.22,
          3.62,
          3.54,
          4.11
         ],
         "y0": " ",
         "yaxis": "y"
        },
        {
         "alignmentgroup": "True",
         "hovertemplate": "variable=%{x}<br>value=%{y}<extra></extra>",
         "legendgroup": "wt",
         "marker": {
          "color": "#19d3f3"
         },
         "name": "wt",
         "notched": false,
         "offsetgroup": "wt",
         "orientation": "v",
         "quartilemethod": "exclusive",
         "showlegend": true,
         "type": "box",
         "x": [
          "wt",
          "wt",
          "wt",
          "wt",
          "wt",
          "wt",
          "wt",
          "wt",
          "wt",
          "wt",
          "wt",
          "wt",
          "wt",
          "wt",
          "wt",
          "wt",
          "wt",
          "wt",
          "wt",
          "wt",
          "wt",
          "wt",
          "wt",
          "wt",
          "wt",
          "wt",
          "wt",
          "wt",
          "wt",
          "wt",
          "wt",
          "wt"
         ],
         "x0": " ",
         "xaxis": "x",
         "y": [
          2.62,
          2.875,
          2.32,
          3.215,
          3.44,
          3.46,
          3.57,
          3.19,
          3.15,
          3.44,
          3.44,
          4.07,
          3.73,
          3.78,
          5.25,
          5.424,
          5.345,
          2.2,
          1.615,
          1.835,
          2.465,
          3.52,
          3.435,
          3.84,
          3.845,
          1.935,
          2.14,
          1.513,
          3.17,
          2.77,
          3.57,
          2.78
         ],
         "y0": " ",
         "yaxis": "y"
        },
        {
         "alignmentgroup": "True",
         "hovertemplate": "variable=%{x}<br>value=%{y}<extra></extra>",
         "legendgroup": "qsec",
         "marker": {
          "color": "#FF6692"
         },
         "name": "qsec",
         "notched": false,
         "offsetgroup": "qsec",
         "orientation": "v",
         "quartilemethod": "exclusive",
         "showlegend": true,
         "type": "box",
         "x": [
          "qsec",
          "qsec",
          "qsec",
          "qsec",
          "qsec",
          "qsec",
          "qsec",
          "qsec",
          "qsec",
          "qsec",
          "qsec",
          "qsec",
          "qsec",
          "qsec",
          "qsec",
          "qsec",
          "qsec",
          "qsec",
          "qsec",
          "qsec",
          "qsec",
          "qsec",
          "qsec",
          "qsec",
          "qsec",
          "qsec",
          "qsec",
          "qsec",
          "qsec",
          "qsec",
          "qsec",
          "qsec"
         ],
         "x0": " ",
         "xaxis": "x",
         "y": [
          16.46,
          17.02,
          18.61,
          19.44,
          17.02,
          20.22,
          15.84,
          20,
          22.9,
          18.3,
          18.9,
          17.4,
          17.6,
          18,
          17.98,
          17.82,
          17.42,
          19.47,
          18.52,
          19.9,
          20.01,
          16.87,
          17.3,
          15.41,
          17.05,
          18.9,
          16.7,
          16.9,
          14.5,
          15.5,
          14.6,
          18.6
         ],
         "y0": " ",
         "yaxis": "y"
        },
        {
         "alignmentgroup": "True",
         "hovertemplate": "variable=%{x}<br>value=%{y}<extra></extra>",
         "legendgroup": "vs",
         "marker": {
          "color": "#B6E880"
         },
         "name": "vs",
         "notched": false,
         "offsetgroup": "vs",
         "orientation": "v",
         "quartilemethod": "exclusive",
         "showlegend": true,
         "type": "box",
         "x": [
          "vs",
          "vs",
          "vs",
          "vs",
          "vs",
          "vs",
          "vs",
          "vs",
          "vs",
          "vs",
          "vs",
          "vs",
          "vs",
          "vs",
          "vs",
          "vs",
          "vs",
          "vs",
          "vs",
          "vs",
          "vs",
          "vs",
          "vs",
          "vs",
          "vs",
          "vs",
          "vs",
          "vs",
          "vs",
          "vs",
          "vs",
          "vs"
         ],
         "x0": " ",
         "xaxis": "x",
         "y": [
          0,
          0,
          1,
          1,
          0,
          1,
          0,
          1,
          1,
          1,
          1,
          0,
          0,
          0,
          0,
          0,
          0,
          1,
          1,
          1,
          1,
          0,
          0,
          0,
          0,
          1,
          0,
          1,
          0,
          0,
          0,
          1
         ],
         "y0": " ",
         "yaxis": "y"
        },
        {
         "alignmentgroup": "True",
         "hovertemplate": "variable=%{x}<br>value=%{y}<extra></extra>",
         "legendgroup": "am",
         "marker": {
          "color": "#FF97FF"
         },
         "name": "am",
         "notched": false,
         "offsetgroup": "am",
         "orientation": "v",
         "quartilemethod": "exclusive",
         "showlegend": true,
         "type": "box",
         "x": [
          "am",
          "am",
          "am",
          "am",
          "am",
          "am",
          "am",
          "am",
          "am",
          "am",
          "am",
          "am",
          "am",
          "am",
          "am",
          "am",
          "am",
          "am",
          "am",
          "am",
          "am",
          "am",
          "am",
          "am",
          "am",
          "am",
          "am",
          "am",
          "am",
          "am",
          "am",
          "am"
         ],
         "x0": " ",
         "xaxis": "x",
         "y": [
          1,
          1,
          1,
          0,
          0,
          0,
          0,
          0,
          0,
          0,
          0,
          0,
          0,
          0,
          0,
          0,
          0,
          1,
          1,
          1,
          0,
          0,
          0,
          0,
          0,
          1,
          1,
          1,
          1,
          1,
          1,
          1
         ],
         "y0": " ",
         "yaxis": "y"
        },
        {
         "alignmentgroup": "True",
         "hovertemplate": "variable=%{x}<br>value=%{y}<extra></extra>",
         "legendgroup": "gear",
         "marker": {
          "color": "#FECB52"
         },
         "name": "gear",
         "notched": false,
         "offsetgroup": "gear",
         "orientation": "v",
         "quartilemethod": "exclusive",
         "showlegend": true,
         "type": "box",
         "x": [
          "gear",
          "gear",
          "gear",
          "gear",
          "gear",
          "gear",
          "gear",
          "gear",
          "gear",
          "gear",
          "gear",
          "gear",
          "gear",
          "gear",
          "gear",
          "gear",
          "gear",
          "gear",
          "gear",
          "gear",
          "gear",
          "gear",
          "gear",
          "gear",
          "gear",
          "gear",
          "gear",
          "gear",
          "gear",
          "gear",
          "gear",
          "gear"
         ],
         "x0": " ",
         "xaxis": "x",
         "y": [
          4,
          4,
          4,
          3,
          3,
          3,
          3,
          4,
          4,
          4,
          4,
          3,
          3,
          3,
          3,
          3,
          3,
          4,
          4,
          4,
          3,
          3,
          3,
          3,
          3,
          4,
          5,
          5,
          5,
          5,
          5,
          4
         ],
         "y0": " ",
         "yaxis": "y"
        },
        {
         "alignmentgroup": "True",
         "hovertemplate": "variable=%{x}<br>value=%{y}<extra></extra>",
         "legendgroup": "carb",
         "marker": {
          "color": "#636efa"
         },
         "name": "carb",
         "notched": false,
         "offsetgroup": "carb",
         "orientation": "v",
         "quartilemethod": "exclusive",
         "showlegend": true,
         "type": "box",
         "x": [
          "carb",
          "carb",
          "carb",
          "carb",
          "carb",
          "carb",
          "carb",
          "carb",
          "carb",
          "carb",
          "carb",
          "carb",
          "carb",
          "carb",
          "carb",
          "carb",
          "carb",
          "carb",
          "carb",
          "carb",
          "carb",
          "carb",
          "carb",
          "carb",
          "carb",
          "carb",
          "carb",
          "carb",
          "carb",
          "carb",
          "carb",
          "carb"
         ],
         "x0": " ",
         "xaxis": "x",
         "y": [
          4,
          4,
          1,
          1,
          2,
          1,
          4,
          2,
          2,
          4,
          4,
          3,
          3,
          3,
          4,
          4,
          4,
          1,
          2,
          1,
          1,
          2,
          2,
          4,
          2,
          1,
          2,
          2,
          4,
          6,
          8,
          2
         ],
         "y0": " ",
         "yaxis": "y"
        }
       ],
       "layout": {
        "boxmode": "overlay",
        "legend": {
         "title": {
          "text": "variable"
         },
         "tracegroupgap": 0
        },
        "margin": {
         "t": 60
        },
        "template": {
         "data": {
          "bar": [
           {
            "error_x": {
             "color": "#2a3f5f"
            },
            "error_y": {
             "color": "#2a3f5f"
            },
            "marker": {
             "line": {
              "color": "#E5ECF6",
              "width": 0.5
             },
             "pattern": {
              "fillmode": "overlay",
              "size": 10,
              "solidity": 0.2
             }
            },
            "type": "bar"
           }
          ],
          "barpolar": [
           {
            "marker": {
             "line": {
              "color": "#E5ECF6",
              "width": 0.5
             },
             "pattern": {
              "fillmode": "overlay",
              "size": 10,
              "solidity": 0.2
             }
            },
            "type": "barpolar"
           }
          ],
          "carpet": [
           {
            "aaxis": {
             "endlinecolor": "#2a3f5f",
             "gridcolor": "white",
             "linecolor": "white",
             "minorgridcolor": "white",
             "startlinecolor": "#2a3f5f"
            },
            "baxis": {
             "endlinecolor": "#2a3f5f",
             "gridcolor": "white",
             "linecolor": "white",
             "minorgridcolor": "white",
             "startlinecolor": "#2a3f5f"
            },
            "type": "carpet"
           }
          ],
          "choropleth": [
           {
            "colorbar": {
             "outlinewidth": 0,
             "ticks": ""
            },
            "type": "choropleth"
           }
          ],
          "contour": [
           {
            "colorbar": {
             "outlinewidth": 0,
             "ticks": ""
            },
            "colorscale": [
             [
              0,
              "#0d0887"
             ],
             [
              0.1111111111111111,
              "#46039f"
             ],
             [
              0.2222222222222222,
              "#7201a8"
             ],
             [
              0.3333333333333333,
              "#9c179e"
             ],
             [
              0.4444444444444444,
              "#bd3786"
             ],
             [
              0.5555555555555556,
              "#d8576b"
             ],
             [
              0.6666666666666666,
              "#ed7953"
             ],
             [
              0.7777777777777778,
              "#fb9f3a"
             ],
             [
              0.8888888888888888,
              "#fdca26"
             ],
             [
              1,
              "#f0f921"
             ]
            ],
            "type": "contour"
           }
          ],
          "contourcarpet": [
           {
            "colorbar": {
             "outlinewidth": 0,
             "ticks": ""
            },
            "type": "contourcarpet"
           }
          ],
          "heatmap": [
           {
            "colorbar": {
             "outlinewidth": 0,
             "ticks": ""
            },
            "colorscale": [
             [
              0,
              "#0d0887"
             ],
             [
              0.1111111111111111,
              "#46039f"
             ],
             [
              0.2222222222222222,
              "#7201a8"
             ],
             [
              0.3333333333333333,
              "#9c179e"
             ],
             [
              0.4444444444444444,
              "#bd3786"
             ],
             [
              0.5555555555555556,
              "#d8576b"
             ],
             [
              0.6666666666666666,
              "#ed7953"
             ],
             [
              0.7777777777777778,
              "#fb9f3a"
             ],
             [
              0.8888888888888888,
              "#fdca26"
             ],
             [
              1,
              "#f0f921"
             ]
            ],
            "type": "heatmap"
           }
          ],
          "heatmapgl": [
           {
            "colorbar": {
             "outlinewidth": 0,
             "ticks": ""
            },
            "colorscale": [
             [
              0,
              "#0d0887"
             ],
             [
              0.1111111111111111,
              "#46039f"
             ],
             [
              0.2222222222222222,
              "#7201a8"
             ],
             [
              0.3333333333333333,
              "#9c179e"
             ],
             [
              0.4444444444444444,
              "#bd3786"
             ],
             [
              0.5555555555555556,
              "#d8576b"
             ],
             [
              0.6666666666666666,
              "#ed7953"
             ],
             [
              0.7777777777777778,
              "#fb9f3a"
             ],
             [
              0.8888888888888888,
              "#fdca26"
             ],
             [
              1,
              "#f0f921"
             ]
            ],
            "type": "heatmapgl"
           }
          ],
          "histogram": [
           {
            "marker": {
             "pattern": {
              "fillmode": "overlay",
              "size": 10,
              "solidity": 0.2
             }
            },
            "type": "histogram"
           }
          ],
          "histogram2d": [
           {
            "colorbar": {
             "outlinewidth": 0,
             "ticks": ""
            },
            "colorscale": [
             [
              0,
              "#0d0887"
             ],
             [
              0.1111111111111111,
              "#46039f"
             ],
             [
              0.2222222222222222,
              "#7201a8"
             ],
             [
              0.3333333333333333,
              "#9c179e"
             ],
             [
              0.4444444444444444,
              "#bd3786"
             ],
             [
              0.5555555555555556,
              "#d8576b"
             ],
             [
              0.6666666666666666,
              "#ed7953"
             ],
             [
              0.7777777777777778,
              "#fb9f3a"
             ],
             [
              0.8888888888888888,
              "#fdca26"
             ],
             [
              1,
              "#f0f921"
             ]
            ],
            "type": "histogram2d"
           }
          ],
          "histogram2dcontour": [
           {
            "colorbar": {
             "outlinewidth": 0,
             "ticks": ""
            },
            "colorscale": [
             [
              0,
              "#0d0887"
             ],
             [
              0.1111111111111111,
              "#46039f"
             ],
             [
              0.2222222222222222,
              "#7201a8"
             ],
             [
              0.3333333333333333,
              "#9c179e"
             ],
             [
              0.4444444444444444,
              "#bd3786"
             ],
             [
              0.5555555555555556,
              "#d8576b"
             ],
             [
              0.6666666666666666,
              "#ed7953"
             ],
             [
              0.7777777777777778,
              "#fb9f3a"
             ],
             [
              0.8888888888888888,
              "#fdca26"
             ],
             [
              1,
              "#f0f921"
             ]
            ],
            "type": "histogram2dcontour"
           }
          ],
          "mesh3d": [
           {
            "colorbar": {
             "outlinewidth": 0,
             "ticks": ""
            },
            "type": "mesh3d"
           }
          ],
          "parcoords": [
           {
            "line": {
             "colorbar": {
              "outlinewidth": 0,
              "ticks": ""
             }
            },
            "type": "parcoords"
           }
          ],
          "pie": [
           {
            "automargin": true,
            "type": "pie"
           }
          ],
          "scatter": [
           {
            "fillpattern": {
             "fillmode": "overlay",
             "size": 10,
             "solidity": 0.2
            },
            "type": "scatter"
           }
          ],
          "scatter3d": [
           {
            "line": {
             "colorbar": {
              "outlinewidth": 0,
              "ticks": ""
             }
            },
            "marker": {
             "colorbar": {
              "outlinewidth": 0,
              "ticks": ""
             }
            },
            "type": "scatter3d"
           }
          ],
          "scattercarpet": [
           {
            "marker": {
             "colorbar": {
              "outlinewidth": 0,
              "ticks": ""
             }
            },
            "type": "scattercarpet"
           }
          ],
          "scattergeo": [
           {
            "marker": {
             "colorbar": {
              "outlinewidth": 0,
              "ticks": ""
             }
            },
            "type": "scattergeo"
           }
          ],
          "scattergl": [
           {
            "marker": {
             "colorbar": {
              "outlinewidth": 0,
              "ticks": ""
             }
            },
            "type": "scattergl"
           }
          ],
          "scattermapbox": [
           {
            "marker": {
             "colorbar": {
              "outlinewidth": 0,
              "ticks": ""
             }
            },
            "type": "scattermapbox"
           }
          ],
          "scatterpolar": [
           {
            "marker": {
             "colorbar": {
              "outlinewidth": 0,
              "ticks": ""
             }
            },
            "type": "scatterpolar"
           }
          ],
          "scatterpolargl": [
           {
            "marker": {
             "colorbar": {
              "outlinewidth": 0,
              "ticks": ""
             }
            },
            "type": "scatterpolargl"
           }
          ],
          "scatterternary": [
           {
            "marker": {
             "colorbar": {
              "outlinewidth": 0,
              "ticks": ""
             }
            },
            "type": "scatterternary"
           }
          ],
          "surface": [
           {
            "colorbar": {
             "outlinewidth": 0,
             "ticks": ""
            },
            "colorscale": [
             [
              0,
              "#0d0887"
             ],
             [
              0.1111111111111111,
              "#46039f"
             ],
             [
              0.2222222222222222,
              "#7201a8"
             ],
             [
              0.3333333333333333,
              "#9c179e"
             ],
             [
              0.4444444444444444,
              "#bd3786"
             ],
             [
              0.5555555555555556,
              "#d8576b"
             ],
             [
              0.6666666666666666,
              "#ed7953"
             ],
             [
              0.7777777777777778,
              "#fb9f3a"
             ],
             [
              0.8888888888888888,
              "#fdca26"
             ],
             [
              1,
              "#f0f921"
             ]
            ],
            "type": "surface"
           }
          ],
          "table": [
           {
            "cells": {
             "fill": {
              "color": "#EBF0F8"
             },
             "line": {
              "color": "white"
             }
            },
            "header": {
             "fill": {
              "color": "#C8D4E3"
             },
             "line": {
              "color": "white"
             }
            },
            "type": "table"
           }
          ]
         },
         "layout": {
          "annotationdefaults": {
           "arrowcolor": "#2a3f5f",
           "arrowhead": 0,
           "arrowwidth": 1
          },
          "autotypenumbers": "strict",
          "coloraxis": {
           "colorbar": {
            "outlinewidth": 0,
            "ticks": ""
           }
          },
          "colorscale": {
           "diverging": [
            [
             0,
             "#8e0152"
            ],
            [
             0.1,
             "#c51b7d"
            ],
            [
             0.2,
             "#de77ae"
            ],
            [
             0.3,
             "#f1b6da"
            ],
            [
             0.4,
             "#fde0ef"
            ],
            [
             0.5,
             "#f7f7f7"
            ],
            [
             0.6,
             "#e6f5d0"
            ],
            [
             0.7,
             "#b8e186"
            ],
            [
             0.8,
             "#7fbc41"
            ],
            [
             0.9,
             "#4d9221"
            ],
            [
             1,
             "#276419"
            ]
           ],
           "sequential": [
            [
             0,
             "#0d0887"
            ],
            [
             0.1111111111111111,
             "#46039f"
            ],
            [
             0.2222222222222222,
             "#7201a8"
            ],
            [
             0.3333333333333333,
             "#9c179e"
            ],
            [
             0.4444444444444444,
             "#bd3786"
            ],
            [
             0.5555555555555556,
             "#d8576b"
            ],
            [
             0.6666666666666666,
             "#ed7953"
            ],
            [
             0.7777777777777778,
             "#fb9f3a"
            ],
            [
             0.8888888888888888,
             "#fdca26"
            ],
            [
             1,
             "#f0f921"
            ]
           ],
           "sequentialminus": [
            [
             0,
             "#0d0887"
            ],
            [
             0.1111111111111111,
             "#46039f"
            ],
            [
             0.2222222222222222,
             "#7201a8"
            ],
            [
             0.3333333333333333,
             "#9c179e"
            ],
            [
             0.4444444444444444,
             "#bd3786"
            ],
            [
             0.5555555555555556,
             "#d8576b"
            ],
            [
             0.6666666666666666,
             "#ed7953"
            ],
            [
             0.7777777777777778,
             "#fb9f3a"
            ],
            [
             0.8888888888888888,
             "#fdca26"
            ],
            [
             1,
             "#f0f921"
            ]
           ]
          },
          "colorway": [
           "#636efa",
           "#EF553B",
           "#00cc96",
           "#ab63fa",
           "#FFA15A",
           "#19d3f3",
           "#FF6692",
           "#B6E880",
           "#FF97FF",
           "#FECB52"
          ],
          "font": {
           "color": "#2a3f5f"
          },
          "geo": {
           "bgcolor": "white",
           "lakecolor": "white",
           "landcolor": "#E5ECF6",
           "showlakes": true,
           "showland": true,
           "subunitcolor": "white"
          },
          "hoverlabel": {
           "align": "left"
          },
          "hovermode": "closest",
          "mapbox": {
           "style": "light"
          },
          "paper_bgcolor": "white",
          "plot_bgcolor": "#E5ECF6",
          "polar": {
           "angularaxis": {
            "gridcolor": "white",
            "linecolor": "white",
            "ticks": ""
           },
           "bgcolor": "#E5ECF6",
           "radialaxis": {
            "gridcolor": "white",
            "linecolor": "white",
            "ticks": ""
           }
          },
          "scene": {
           "xaxis": {
            "backgroundcolor": "#E5ECF6",
            "gridcolor": "white",
            "gridwidth": 2,
            "linecolor": "white",
            "showbackground": true,
            "ticks": "",
            "zerolinecolor": "white"
           },
           "yaxis": {
            "backgroundcolor": "#E5ECF6",
            "gridcolor": "white",
            "gridwidth": 2,
            "linecolor": "white",
            "showbackground": true,
            "ticks": "",
            "zerolinecolor": "white"
           },
           "zaxis": {
            "backgroundcolor": "#E5ECF6",
            "gridcolor": "white",
            "gridwidth": 2,
            "linecolor": "white",
            "showbackground": true,
            "ticks": "",
            "zerolinecolor": "white"
           }
          },
          "shapedefaults": {
           "line": {
            "color": "#2a3f5f"
           }
          },
          "ternary": {
           "aaxis": {
            "gridcolor": "white",
            "linecolor": "white",
            "ticks": ""
           },
           "baxis": {
            "gridcolor": "white",
            "linecolor": "white",
            "ticks": ""
           },
           "bgcolor": "#E5ECF6",
           "caxis": {
            "gridcolor": "white",
            "linecolor": "white",
            "ticks": ""
           }
          },
          "title": {
           "x": 0.05
          },
          "xaxis": {
           "automargin": true,
           "gridcolor": "white",
           "linecolor": "white",
           "ticks": "",
           "title": {
            "standoff": 15
           },
           "zerolinecolor": "white",
           "zerolinewidth": 2
          },
          "yaxis": {
           "automargin": true,
           "gridcolor": "white",
           "linecolor": "white",
           "ticks": "",
           "title": {
            "standoff": 15
           },
           "zerolinecolor": "white",
           "zerolinewidth": 2
          }
         }
        },
        "xaxis": {
         "anchor": "y",
         "categoryarray": [
          "mpg",
          "cyl",
          "disp",
          "hp",
          "drat",
          "wt",
          "qsec",
          "vs",
          "am",
          "gear",
          "carb"
         ],
         "categoryorder": "array",
         "domain": [
          0,
          1
         ],
         "title": {
          "text": "variable"
         }
        },
        "yaxis": {
         "anchor": "x",
         "domain": [
          0,
          1
         ],
         "title": {
          "text": "value"
         }
        }
       }
      },
      "text/html": [
       "<div>                            <div id=\"6e53b523-5cbf-45c2-9650-08ef89960945\" class=\"plotly-graph-div\" style=\"height:525px; width:100%;\"></div>            <script type=\"text/javascript\">                require([\"plotly\"], function(Plotly) {                    window.PLOTLYENV=window.PLOTLYENV || {};                                    if (document.getElementById(\"6e53b523-5cbf-45c2-9650-08ef89960945\")) {                    Plotly.newPlot(                        \"6e53b523-5cbf-45c2-9650-08ef89960945\",                        [{\"alignmentgroup\":\"True\",\"hovertemplate\":\"variable=%{x}<br>value=%{y}<extra></extra>\",\"legendgroup\":\"mpg\",\"marker\":{\"color\":\"#636efa\"},\"name\":\"mpg\",\"notched\":false,\"offsetgroup\":\"mpg\",\"orientation\":\"v\",\"showlegend\":true,\"x\":[\"mpg\",\"mpg\",\"mpg\",\"mpg\",\"mpg\",\"mpg\",\"mpg\",\"mpg\",\"mpg\",\"mpg\",\"mpg\",\"mpg\",\"mpg\",\"mpg\",\"mpg\",\"mpg\",\"mpg\",\"mpg\",\"mpg\",\"mpg\",\"mpg\",\"mpg\",\"mpg\",\"mpg\",\"mpg\",\"mpg\",\"mpg\",\"mpg\",\"mpg\",\"mpg\",\"mpg\",\"mpg\"],\"x0\":\" \",\"xaxis\":\"x\",\"y\":[21.0,21.0,22.8,21.4,18.7,18.1,14.3,24.4,22.8,19.2,17.8,16.4,17.3,15.2,10.4,10.4,14.7,32.4,30.4,33.9,21.5,15.5,15.2,13.3,19.2,27.3,26.0,30.4,15.8,19.7,15.0,21.4],\"y0\":\" \",\"yaxis\":\"y\",\"type\":\"box\",\"quartilemethod\":\"exclusive\"},{\"alignmentgroup\":\"True\",\"hovertemplate\":\"variable=%{x}<br>value=%{y}<extra></extra>\",\"legendgroup\":\"cyl\",\"marker\":{\"color\":\"#EF553B\"},\"name\":\"cyl\",\"notched\":false,\"offsetgroup\":\"cyl\",\"orientation\":\"v\",\"showlegend\":true,\"x\":[\"cyl\",\"cyl\",\"cyl\",\"cyl\",\"cyl\",\"cyl\",\"cyl\",\"cyl\",\"cyl\",\"cyl\",\"cyl\",\"cyl\",\"cyl\",\"cyl\",\"cyl\",\"cyl\",\"cyl\",\"cyl\",\"cyl\",\"cyl\",\"cyl\",\"cyl\",\"cyl\",\"cyl\",\"cyl\",\"cyl\",\"cyl\",\"cyl\",\"cyl\",\"cyl\",\"cyl\",\"cyl\"],\"x0\":\" \",\"xaxis\":\"x\",\"y\":[6.0,6.0,4.0,6.0,8.0,6.0,8.0,4.0,4.0,6.0,6.0,8.0,8.0,8.0,8.0,8.0,8.0,4.0,4.0,4.0,4.0,8.0,8.0,8.0,8.0,4.0,4.0,4.0,8.0,6.0,8.0,4.0],\"y0\":\" \",\"yaxis\":\"y\",\"type\":\"box\",\"quartilemethod\":\"exclusive\"},{\"alignmentgroup\":\"True\",\"hovertemplate\":\"variable=%{x}<br>value=%{y}<extra></extra>\",\"legendgroup\":\"disp\",\"marker\":{\"color\":\"#00cc96\"},\"name\":\"disp\",\"notched\":false,\"offsetgroup\":\"disp\",\"orientation\":\"v\",\"showlegend\":true,\"x\":[\"disp\",\"disp\",\"disp\",\"disp\",\"disp\",\"disp\",\"disp\",\"disp\",\"disp\",\"disp\",\"disp\",\"disp\",\"disp\",\"disp\",\"disp\",\"disp\",\"disp\",\"disp\",\"disp\",\"disp\",\"disp\",\"disp\",\"disp\",\"disp\",\"disp\",\"disp\",\"disp\",\"disp\",\"disp\",\"disp\",\"disp\",\"disp\"],\"x0\":\" \",\"xaxis\":\"x\",\"y\":[160.0,160.0,108.0,258.0,360.0,225.0,360.0,146.7,140.8,167.6,167.6,275.8,275.8,275.8,472.0,460.0,440.0,78.7,75.7,71.1,120.1,318.0,304.0,350.0,400.0,79.0,120.3,95.1,351.0,145.0,301.0,121.0],\"y0\":\" \",\"yaxis\":\"y\",\"type\":\"box\",\"quartilemethod\":\"exclusive\"},{\"alignmentgroup\":\"True\",\"hovertemplate\":\"variable=%{x}<br>value=%{y}<extra></extra>\",\"legendgroup\":\"hp\",\"marker\":{\"color\":\"#ab63fa\"},\"name\":\"hp\",\"notched\":false,\"offsetgroup\":\"hp\",\"orientation\":\"v\",\"showlegend\":true,\"x\":[\"hp\",\"hp\",\"hp\",\"hp\",\"hp\",\"hp\",\"hp\",\"hp\",\"hp\",\"hp\",\"hp\",\"hp\",\"hp\",\"hp\",\"hp\",\"hp\",\"hp\",\"hp\",\"hp\",\"hp\",\"hp\",\"hp\",\"hp\",\"hp\",\"hp\",\"hp\",\"hp\",\"hp\",\"hp\",\"hp\",\"hp\",\"hp\"],\"x0\":\" \",\"xaxis\":\"x\",\"y\":[110.0,110.0,93.0,110.0,175.0,105.0,245.0,62.0,95.0,123.0,123.0,180.0,180.0,180.0,205.0,215.0,230.0,66.0,52.0,65.0,97.0,150.0,150.0,245.0,175.0,66.0,91.0,113.0,264.0,175.0,335.0,109.0],\"y0\":\" \",\"yaxis\":\"y\",\"type\":\"box\",\"quartilemethod\":\"exclusive\"},{\"alignmentgroup\":\"True\",\"hovertemplate\":\"variable=%{x}<br>value=%{y}<extra></extra>\",\"legendgroup\":\"drat\",\"marker\":{\"color\":\"#FFA15A\"},\"name\":\"drat\",\"notched\":false,\"offsetgroup\":\"drat\",\"orientation\":\"v\",\"showlegend\":true,\"x\":[\"drat\",\"drat\",\"drat\",\"drat\",\"drat\",\"drat\",\"drat\",\"drat\",\"drat\",\"drat\",\"drat\",\"drat\",\"drat\",\"drat\",\"drat\",\"drat\",\"drat\",\"drat\",\"drat\",\"drat\",\"drat\",\"drat\",\"drat\",\"drat\",\"drat\",\"drat\",\"drat\",\"drat\",\"drat\",\"drat\",\"drat\",\"drat\"],\"x0\":\" \",\"xaxis\":\"x\",\"y\":[3.9,3.9,3.85,3.08,3.15,2.76,3.21,3.69,3.92,3.92,3.92,3.07,3.07,3.07,2.93,3.0,3.23,4.08,4.93,4.22,3.7,2.76,3.15,3.73,3.08,4.08,4.43,3.77,4.22,3.62,3.54,4.11],\"y0\":\" \",\"yaxis\":\"y\",\"type\":\"box\",\"quartilemethod\":\"exclusive\"},{\"alignmentgroup\":\"True\",\"hovertemplate\":\"variable=%{x}<br>value=%{y}<extra></extra>\",\"legendgroup\":\"wt\",\"marker\":{\"color\":\"#19d3f3\"},\"name\":\"wt\",\"notched\":false,\"offsetgroup\":\"wt\",\"orientation\":\"v\",\"showlegend\":true,\"x\":[\"wt\",\"wt\",\"wt\",\"wt\",\"wt\",\"wt\",\"wt\",\"wt\",\"wt\",\"wt\",\"wt\",\"wt\",\"wt\",\"wt\",\"wt\",\"wt\",\"wt\",\"wt\",\"wt\",\"wt\",\"wt\",\"wt\",\"wt\",\"wt\",\"wt\",\"wt\",\"wt\",\"wt\",\"wt\",\"wt\",\"wt\",\"wt\"],\"x0\":\" \",\"xaxis\":\"x\",\"y\":[2.62,2.875,2.32,3.215,3.44,3.46,3.57,3.19,3.15,3.44,3.44,4.07,3.73,3.78,5.25,5.424,5.345,2.2,1.615,1.835,2.465,3.52,3.435,3.84,3.845,1.935,2.14,1.513,3.17,2.77,3.57,2.78],\"y0\":\" \",\"yaxis\":\"y\",\"type\":\"box\",\"quartilemethod\":\"exclusive\"},{\"alignmentgroup\":\"True\",\"hovertemplate\":\"variable=%{x}<br>value=%{y}<extra></extra>\",\"legendgroup\":\"qsec\",\"marker\":{\"color\":\"#FF6692\"},\"name\":\"qsec\",\"notched\":false,\"offsetgroup\":\"qsec\",\"orientation\":\"v\",\"showlegend\":true,\"x\":[\"qsec\",\"qsec\",\"qsec\",\"qsec\",\"qsec\",\"qsec\",\"qsec\",\"qsec\",\"qsec\",\"qsec\",\"qsec\",\"qsec\",\"qsec\",\"qsec\",\"qsec\",\"qsec\",\"qsec\",\"qsec\",\"qsec\",\"qsec\",\"qsec\",\"qsec\",\"qsec\",\"qsec\",\"qsec\",\"qsec\",\"qsec\",\"qsec\",\"qsec\",\"qsec\",\"qsec\",\"qsec\"],\"x0\":\" \",\"xaxis\":\"x\",\"y\":[16.46,17.02,18.61,19.44,17.02,20.22,15.84,20.0,22.9,18.3,18.9,17.4,17.6,18.0,17.98,17.82,17.42,19.47,18.52,19.9,20.01,16.87,17.3,15.41,17.05,18.9,16.7,16.9,14.5,15.5,14.6,18.6],\"y0\":\" \",\"yaxis\":\"y\",\"type\":\"box\",\"quartilemethod\":\"exclusive\"},{\"alignmentgroup\":\"True\",\"hovertemplate\":\"variable=%{x}<br>value=%{y}<extra></extra>\",\"legendgroup\":\"vs\",\"marker\":{\"color\":\"#B6E880\"},\"name\":\"vs\",\"notched\":false,\"offsetgroup\":\"vs\",\"orientation\":\"v\",\"showlegend\":true,\"x\":[\"vs\",\"vs\",\"vs\",\"vs\",\"vs\",\"vs\",\"vs\",\"vs\",\"vs\",\"vs\",\"vs\",\"vs\",\"vs\",\"vs\",\"vs\",\"vs\",\"vs\",\"vs\",\"vs\",\"vs\",\"vs\",\"vs\",\"vs\",\"vs\",\"vs\",\"vs\",\"vs\",\"vs\",\"vs\",\"vs\",\"vs\",\"vs\"],\"x0\":\" \",\"xaxis\":\"x\",\"y\":[0.0,0.0,1.0,1.0,0.0,1.0,0.0,1.0,1.0,1.0,1.0,0.0,0.0,0.0,0.0,0.0,0.0,1.0,1.0,1.0,1.0,0.0,0.0,0.0,0.0,1.0,0.0,1.0,0.0,0.0,0.0,1.0],\"y0\":\" \",\"yaxis\":\"y\",\"type\":\"box\",\"quartilemethod\":\"exclusive\"},{\"alignmentgroup\":\"True\",\"hovertemplate\":\"variable=%{x}<br>value=%{y}<extra></extra>\",\"legendgroup\":\"am\",\"marker\":{\"color\":\"#FF97FF\"},\"name\":\"am\",\"notched\":false,\"offsetgroup\":\"am\",\"orientation\":\"v\",\"showlegend\":true,\"x\":[\"am\",\"am\",\"am\",\"am\",\"am\",\"am\",\"am\",\"am\",\"am\",\"am\",\"am\",\"am\",\"am\",\"am\",\"am\",\"am\",\"am\",\"am\",\"am\",\"am\",\"am\",\"am\",\"am\",\"am\",\"am\",\"am\",\"am\",\"am\",\"am\",\"am\",\"am\",\"am\"],\"x0\":\" \",\"xaxis\":\"x\",\"y\":[1.0,1.0,1.0,0.0,0.0,0.0,0.0,0.0,0.0,0.0,0.0,0.0,0.0,0.0,0.0,0.0,0.0,1.0,1.0,1.0,0.0,0.0,0.0,0.0,0.0,1.0,1.0,1.0,1.0,1.0,1.0,1.0],\"y0\":\" \",\"yaxis\":\"y\",\"type\":\"box\",\"quartilemethod\":\"exclusive\"},{\"alignmentgroup\":\"True\",\"hovertemplate\":\"variable=%{x}<br>value=%{y}<extra></extra>\",\"legendgroup\":\"gear\",\"marker\":{\"color\":\"#FECB52\"},\"name\":\"gear\",\"notched\":false,\"offsetgroup\":\"gear\",\"orientation\":\"v\",\"showlegend\":true,\"x\":[\"gear\",\"gear\",\"gear\",\"gear\",\"gear\",\"gear\",\"gear\",\"gear\",\"gear\",\"gear\",\"gear\",\"gear\",\"gear\",\"gear\",\"gear\",\"gear\",\"gear\",\"gear\",\"gear\",\"gear\",\"gear\",\"gear\",\"gear\",\"gear\",\"gear\",\"gear\",\"gear\",\"gear\",\"gear\",\"gear\",\"gear\",\"gear\"],\"x0\":\" \",\"xaxis\":\"x\",\"y\":[4.0,4.0,4.0,3.0,3.0,3.0,3.0,4.0,4.0,4.0,4.0,3.0,3.0,3.0,3.0,3.0,3.0,4.0,4.0,4.0,3.0,3.0,3.0,3.0,3.0,4.0,5.0,5.0,5.0,5.0,5.0,4.0],\"y0\":\" \",\"yaxis\":\"y\",\"type\":\"box\",\"quartilemethod\":\"exclusive\"},{\"alignmentgroup\":\"True\",\"hovertemplate\":\"variable=%{x}<br>value=%{y}<extra></extra>\",\"legendgroup\":\"carb\",\"marker\":{\"color\":\"#636efa\"},\"name\":\"carb\",\"notched\":false,\"offsetgroup\":\"carb\",\"orientation\":\"v\",\"showlegend\":true,\"x\":[\"carb\",\"carb\",\"carb\",\"carb\",\"carb\",\"carb\",\"carb\",\"carb\",\"carb\",\"carb\",\"carb\",\"carb\",\"carb\",\"carb\",\"carb\",\"carb\",\"carb\",\"carb\",\"carb\",\"carb\",\"carb\",\"carb\",\"carb\",\"carb\",\"carb\",\"carb\",\"carb\",\"carb\",\"carb\",\"carb\",\"carb\",\"carb\"],\"x0\":\" \",\"xaxis\":\"x\",\"y\":[4.0,4.0,1.0,1.0,2.0,1.0,4.0,2.0,2.0,4.0,4.0,3.0,3.0,3.0,4.0,4.0,4.0,1.0,2.0,1.0,1.0,2.0,2.0,4.0,2.0,1.0,2.0,2.0,4.0,6.0,8.0,2.0],\"y0\":\" \",\"yaxis\":\"y\",\"type\":\"box\",\"quartilemethod\":\"exclusive\"}],                        {\"template\":{\"data\":{\"histogram2dcontour\":[{\"type\":\"histogram2dcontour\",\"colorbar\":{\"outlinewidth\":0,\"ticks\":\"\"},\"colorscale\":[[0.0,\"#0d0887\"],[0.1111111111111111,\"#46039f\"],[0.2222222222222222,\"#7201a8\"],[0.3333333333333333,\"#9c179e\"],[0.4444444444444444,\"#bd3786\"],[0.5555555555555556,\"#d8576b\"],[0.6666666666666666,\"#ed7953\"],[0.7777777777777778,\"#fb9f3a\"],[0.8888888888888888,\"#fdca26\"],[1.0,\"#f0f921\"]]}],\"choropleth\":[{\"type\":\"choropleth\",\"colorbar\":{\"outlinewidth\":0,\"ticks\":\"\"}}],\"histogram2d\":[{\"type\":\"histogram2d\",\"colorbar\":{\"outlinewidth\":0,\"ticks\":\"\"},\"colorscale\":[[0.0,\"#0d0887\"],[0.1111111111111111,\"#46039f\"],[0.2222222222222222,\"#7201a8\"],[0.3333333333333333,\"#9c179e\"],[0.4444444444444444,\"#bd3786\"],[0.5555555555555556,\"#d8576b\"],[0.6666666666666666,\"#ed7953\"],[0.7777777777777778,\"#fb9f3a\"],[0.8888888888888888,\"#fdca26\"],[1.0,\"#f0f921\"]]}],\"heatmap\":[{\"type\":\"heatmap\",\"colorbar\":{\"outlinewidth\":0,\"ticks\":\"\"},\"colorscale\":[[0.0,\"#0d0887\"],[0.1111111111111111,\"#46039f\"],[0.2222222222222222,\"#7201a8\"],[0.3333333333333333,\"#9c179e\"],[0.4444444444444444,\"#bd3786\"],[0.5555555555555556,\"#d8576b\"],[0.6666666666666666,\"#ed7953\"],[0.7777777777777778,\"#fb9f3a\"],[0.8888888888888888,\"#fdca26\"],[1.0,\"#f0f921\"]]}],\"heatmapgl\":[{\"type\":\"heatmapgl\",\"colorbar\":{\"outlinewidth\":0,\"ticks\":\"\"},\"colorscale\":[[0.0,\"#0d0887\"],[0.1111111111111111,\"#46039f\"],[0.2222222222222222,\"#7201a8\"],[0.3333333333333333,\"#9c179e\"],[0.4444444444444444,\"#bd3786\"],[0.5555555555555556,\"#d8576b\"],[0.6666666666666666,\"#ed7953\"],[0.7777777777777778,\"#fb9f3a\"],[0.8888888888888888,\"#fdca26\"],[1.0,\"#f0f921\"]]}],\"contourcarpet\":[{\"type\":\"contourcarpet\",\"colorbar\":{\"outlinewidth\":0,\"ticks\":\"\"}}],\"contour\":[{\"type\":\"contour\",\"colorbar\":{\"outlinewidth\":0,\"ticks\":\"\"},\"colorscale\":[[0.0,\"#0d0887\"],[0.1111111111111111,\"#46039f\"],[0.2222222222222222,\"#7201a8\"],[0.3333333333333333,\"#9c179e\"],[0.4444444444444444,\"#bd3786\"],[0.5555555555555556,\"#d8576b\"],[0.6666666666666666,\"#ed7953\"],[0.7777777777777778,\"#fb9f3a\"],[0.8888888888888888,\"#fdca26\"],[1.0,\"#f0f921\"]]}],\"surface\":[{\"type\":\"surface\",\"colorbar\":{\"outlinewidth\":0,\"ticks\":\"\"},\"colorscale\":[[0.0,\"#0d0887\"],[0.1111111111111111,\"#46039f\"],[0.2222222222222222,\"#7201a8\"],[0.3333333333333333,\"#9c179e\"],[0.4444444444444444,\"#bd3786\"],[0.5555555555555556,\"#d8576b\"],[0.6666666666666666,\"#ed7953\"],[0.7777777777777778,\"#fb9f3a\"],[0.8888888888888888,\"#fdca26\"],[1.0,\"#f0f921\"]]}],\"mesh3d\":[{\"type\":\"mesh3d\",\"colorbar\":{\"outlinewidth\":0,\"ticks\":\"\"}}],\"scatter\":[{\"fillpattern\":{\"fillmode\":\"overlay\",\"size\":10,\"solidity\":0.2},\"type\":\"scatter\"}],\"parcoords\":[{\"type\":\"parcoords\",\"line\":{\"colorbar\":{\"outlinewidth\":0,\"ticks\":\"\"}}}],\"scatterpolargl\":[{\"type\":\"scatterpolargl\",\"marker\":{\"colorbar\":{\"outlinewidth\":0,\"ticks\":\"\"}}}],\"bar\":[{\"error_x\":{\"color\":\"#2a3f5f\"},\"error_y\":{\"color\":\"#2a3f5f\"},\"marker\":{\"line\":{\"color\":\"#E5ECF6\",\"width\":0.5},\"pattern\":{\"fillmode\":\"overlay\",\"size\":10,\"solidity\":0.2}},\"type\":\"bar\"}],\"scattergeo\":[{\"type\":\"scattergeo\",\"marker\":{\"colorbar\":{\"outlinewidth\":0,\"ticks\":\"\"}}}],\"scatterpolar\":[{\"type\":\"scatterpolar\",\"marker\":{\"colorbar\":{\"outlinewidth\":0,\"ticks\":\"\"}}}],\"histogram\":[{\"marker\":{\"pattern\":{\"fillmode\":\"overlay\",\"size\":10,\"solidity\":0.2}},\"type\":\"histogram\"}],\"scattergl\":[{\"type\":\"scattergl\",\"marker\":{\"colorbar\":{\"outlinewidth\":0,\"ticks\":\"\"}}}],\"scatter3d\":[{\"type\":\"scatter3d\",\"line\":{\"colorbar\":{\"outlinewidth\":0,\"ticks\":\"\"}},\"marker\":{\"colorbar\":{\"outlinewidth\":0,\"ticks\":\"\"}}}],\"scattermapbox\":[{\"type\":\"scattermapbox\",\"marker\":{\"colorbar\":{\"outlinewidth\":0,\"ticks\":\"\"}}}],\"scatterternary\":[{\"type\":\"scatterternary\",\"marker\":{\"colorbar\":{\"outlinewidth\":0,\"ticks\":\"\"}}}],\"scattercarpet\":[{\"type\":\"scattercarpet\",\"marker\":{\"colorbar\":{\"outlinewidth\":0,\"ticks\":\"\"}}}],\"carpet\":[{\"aaxis\":{\"endlinecolor\":\"#2a3f5f\",\"gridcolor\":\"white\",\"linecolor\":\"white\",\"minorgridcolor\":\"white\",\"startlinecolor\":\"#2a3f5f\"},\"baxis\":{\"endlinecolor\":\"#2a3f5f\",\"gridcolor\":\"white\",\"linecolor\":\"white\",\"minorgridcolor\":\"white\",\"startlinecolor\":\"#2a3f5f\"},\"type\":\"carpet\"}],\"table\":[{\"cells\":{\"fill\":{\"color\":\"#EBF0F8\"},\"line\":{\"color\":\"white\"}},\"header\":{\"fill\":{\"color\":\"#C8D4E3\"},\"line\":{\"color\":\"white\"}},\"type\":\"table\"}],\"barpolar\":[{\"marker\":{\"line\":{\"color\":\"#E5ECF6\",\"width\":0.5},\"pattern\":{\"fillmode\":\"overlay\",\"size\":10,\"solidity\":0.2}},\"type\":\"barpolar\"}],\"pie\":[{\"automargin\":true,\"type\":\"pie\"}]},\"layout\":{\"autotypenumbers\":\"strict\",\"colorway\":[\"#636efa\",\"#EF553B\",\"#00cc96\",\"#ab63fa\",\"#FFA15A\",\"#19d3f3\",\"#FF6692\",\"#B6E880\",\"#FF97FF\",\"#FECB52\"],\"font\":{\"color\":\"#2a3f5f\"},\"hovermode\":\"closest\",\"hoverlabel\":{\"align\":\"left\"},\"paper_bgcolor\":\"white\",\"plot_bgcolor\":\"#E5ECF6\",\"polar\":{\"bgcolor\":\"#E5ECF6\",\"angularaxis\":{\"gridcolor\":\"white\",\"linecolor\":\"white\",\"ticks\":\"\"},\"radialaxis\":{\"gridcolor\":\"white\",\"linecolor\":\"white\",\"ticks\":\"\"}},\"ternary\":{\"bgcolor\":\"#E5ECF6\",\"aaxis\":{\"gridcolor\":\"white\",\"linecolor\":\"white\",\"ticks\":\"\"},\"baxis\":{\"gridcolor\":\"white\",\"linecolor\":\"white\",\"ticks\":\"\"},\"caxis\":{\"gridcolor\":\"white\",\"linecolor\":\"white\",\"ticks\":\"\"}},\"coloraxis\":{\"colorbar\":{\"outlinewidth\":0,\"ticks\":\"\"}},\"colorscale\":{\"sequential\":[[0.0,\"#0d0887\"],[0.1111111111111111,\"#46039f\"],[0.2222222222222222,\"#7201a8\"],[0.3333333333333333,\"#9c179e\"],[0.4444444444444444,\"#bd3786\"],[0.5555555555555556,\"#d8576b\"],[0.6666666666666666,\"#ed7953\"],[0.7777777777777778,\"#fb9f3a\"],[0.8888888888888888,\"#fdca26\"],[1.0,\"#f0f921\"]],\"sequentialminus\":[[0.0,\"#0d0887\"],[0.1111111111111111,\"#46039f\"],[0.2222222222222222,\"#7201a8\"],[0.3333333333333333,\"#9c179e\"],[0.4444444444444444,\"#bd3786\"],[0.5555555555555556,\"#d8576b\"],[0.6666666666666666,\"#ed7953\"],[0.7777777777777778,\"#fb9f3a\"],[0.8888888888888888,\"#fdca26\"],[1.0,\"#f0f921\"]],\"diverging\":[[0,\"#8e0152\"],[0.1,\"#c51b7d\"],[0.2,\"#de77ae\"],[0.3,\"#f1b6da\"],[0.4,\"#fde0ef\"],[0.5,\"#f7f7f7\"],[0.6,\"#e6f5d0\"],[0.7,\"#b8e186\"],[0.8,\"#7fbc41\"],[0.9,\"#4d9221\"],[1,\"#276419\"]]},\"xaxis\":{\"gridcolor\":\"white\",\"linecolor\":\"white\",\"ticks\":\"\",\"title\":{\"standoff\":15},\"zerolinecolor\":\"white\",\"automargin\":true,\"zerolinewidth\":2},\"yaxis\":{\"gridcolor\":\"white\",\"linecolor\":\"white\",\"ticks\":\"\",\"title\":{\"standoff\":15},\"zerolinecolor\":\"white\",\"automargin\":true,\"zerolinewidth\":2},\"scene\":{\"xaxis\":{\"backgroundcolor\":\"#E5ECF6\",\"gridcolor\":\"white\",\"linecolor\":\"white\",\"showbackground\":true,\"ticks\":\"\",\"zerolinecolor\":\"white\",\"gridwidth\":2},\"yaxis\":{\"backgroundcolor\":\"#E5ECF6\",\"gridcolor\":\"white\",\"linecolor\":\"white\",\"showbackground\":true,\"ticks\":\"\",\"zerolinecolor\":\"white\",\"gridwidth\":2},\"zaxis\":{\"backgroundcolor\":\"#E5ECF6\",\"gridcolor\":\"white\",\"linecolor\":\"white\",\"showbackground\":true,\"ticks\":\"\",\"zerolinecolor\":\"white\",\"gridwidth\":2}},\"shapedefaults\":{\"line\":{\"color\":\"#2a3f5f\"}},\"annotationdefaults\":{\"arrowcolor\":\"#2a3f5f\",\"arrowhead\":0,\"arrowwidth\":1},\"geo\":{\"bgcolor\":\"white\",\"landcolor\":\"#E5ECF6\",\"subunitcolor\":\"white\",\"showland\":true,\"showlakes\":true,\"lakecolor\":\"white\"},\"title\":{\"x\":0.05},\"mapbox\":{\"style\":\"light\"}}},\"xaxis\":{\"anchor\":\"y\",\"domain\":[0.0,1.0],\"title\":{\"text\":\"variable\"},\"categoryorder\":\"array\",\"categoryarray\":[\"mpg\",\"cyl\",\"disp\",\"hp\",\"drat\",\"wt\",\"qsec\",\"vs\",\"am\",\"gear\",\"carb\"]},\"yaxis\":{\"anchor\":\"x\",\"domain\":[0.0,1.0],\"title\":{\"text\":\"value\"}},\"legend\":{\"title\":{\"text\":\"variable\"},\"tracegroupgap\":0},\"margin\":{\"t\":60},\"boxmode\":\"overlay\"},                        {\"responsive\": true}                    ).then(function(){\n",
       "                            \n",
       "var gd = document.getElementById('6e53b523-5cbf-45c2-9650-08ef89960945');\n",
       "var x = new MutationObserver(function (mutations, observer) {{\n",
       "        var display = window.getComputedStyle(gd).display;\n",
       "        if (!display || display === 'none') {{\n",
       "            console.log([gd, 'removed!']);\n",
       "            Plotly.purge(gd);\n",
       "            observer.disconnect();\n",
       "        }}\n",
       "}});\n",
       "\n",
       "// Listen for the removal of the full notebook cells\n",
       "var notebookContainer = gd.closest('#notebook-container');\n",
       "if (notebookContainer) {{\n",
       "    x.observe(notebookContainer, {childList: true});\n",
       "}}\n",
       "\n",
       "// Listen for the clearing of the current output cell\n",
       "var outputEl = gd.closest('.output');\n",
       "if (outputEl) {{\n",
       "    x.observe(outputEl, {childList: true});\n",
       "}}\n",
       "\n",
       "                        })                };                });            </script>        </div>"
      ]
     },
     "metadata": {},
     "output_type": "display_data"
    }
   ],
   "source": [
    "\n",
    "# Here we can see the distributions of the dataset, inclusing outliers\n",
    "\n",
    "import plotly.express as px\n",
    "\n",
    "fig = px.box(df_stacked, x=\"variable\", y=\"value\", color=\"variable\")\n",
    "fig.update_traces(quartilemethod=\"exclusive\") # or \"inclusive\", or \"linear\" by default\n",
    "fig.show()\n"
   ]
  },
  {
   "cell_type": "code",
   "execution_count": 43,
   "metadata": {},
   "outputs": [
    {
     "data": {
      "image/jpeg": "[encoded data removed]",
      "text/plain": [
       "<IPython.core.display.Image object>"
      ]
     },
     "execution_count": 43,
     "metadata": {
      "image/jpeg": {
       "height": 800,
       "width": 800
      }
     },
     "output_type": "execute_result"
    }
   ],
   "source": [
    "\n",
    "from IPython.display import Image\n",
    "from IPython.core.display import HTML \n",
    "PATH = 'C:\\\\Users\\\\'\n",
    "Image(filename = PATH + \"1.JPG\", width=800, height=800)\n"
   ]
  },
  {
   "cell_type": "code",
   "execution_count": 25,
   "metadata": {},
   "outputs": [
    {
     "data": {
      "text/plain": [
       "3.1847333937160287"
      ]
     },
     "execution_count": 25,
     "metadata": {},
     "output_type": "execute_result"
    }
   ],
   "source": [
    "\n",
    "# Here, with no scaling applied, we can see that the Root Mean Square Error is higher than we see in \n",
    "# the example below.\n",
    "\n",
    "y = df['mpg']\n",
    "df.drop('mpg',axis=1,inplace=True)\n",
    "\n",
    "from sklearn.model_selection import train_test_split\n",
    "x_train,x_test,y_train,y_test = train_test_split(df,y,test_size=0.2)\n",
    "\n",
    "from sklearn.linear_model import LinearRegression\n",
    "lr = LinearRegression()\n",
    "lr.fit(x_train,y_train)\n",
    "pred = lr.predict(x_test)\n",
    "\n",
    "from sklearn import metrics\n",
    "rmse = np.sqrt(metrics.mean_squared_error(y_test,pred))\n",
    "rmse\n"
   ]
  },
  {
   "cell_type": "code",
   "execution_count": 26,
   "metadata": {},
   "outputs": [
    {
     "data": {
      "text/plain": [
       "3.102560133841517"
      ]
     },
     "execution_count": 26,
     "metadata": {},
     "output_type": "execute_result"
    }
   ],
   "source": [
    "\n",
    "# Normalization...\n",
    "# Now, after applying the MinMaxScaler, we can see that the Root Mean Square Error is lower than we see in \n",
    "# the example above.\n",
    "\n",
    "from sklearn.preprocessing import MinMaxScaler\n",
    "sc = MinMaxScaler()\n",
    "sc.fit(df)\n",
    "df = sc.transform(df)\n",
    "from sklearn.model_selection import train_test_split\n",
    "x_train,x_test,y_train,y_test = train_test_split(df,y,test_size=0.2)\n",
    "\n",
    "from sklearn.linear_model import LinearRegression\n",
    "lr = LinearRegression()\n",
    "lr.fit(x_train,y_train)\n",
    "pred = lr.predict(x_test)\n",
    "\n",
    "from sklearn import metrics\n",
    "rmse = np.sqrt(metrics.mean_squared_error(y_test,pred))\n",
    "rmse\n"
   ]
  },
  {
   "cell_type": "code",
   "execution_count": 40,
   "metadata": {},
   "outputs": [
    {
     "data": {
      "text/plain": [
       "2.592765823098643"
      ]
     },
     "execution_count": 40,
     "metadata": {},
     "output_type": "execute_result"
    }
   ],
   "source": [
    "\n",
    "# Standardization...\n",
    "# Now, after applying the StandardScaler, we can see that the Root Mean Square Error is even lower than we see in \n",
    "# the example above.\n",
    "\n",
    "from sklearn.preprocessing import StandardScaler\n",
    "sc = StandardScaler()\n",
    "sc.fit(df)\n",
    "df = sc.transform(df)\n",
    "from sklearn.model_selection import train_test_split\n",
    "x_train,x_test,y_train,y_test = train_test_split(df,y,test_size=0.2)\n",
    "\n",
    "from sklearn.linear_model import LinearRegression\n",
    "lr = LinearRegression()\n",
    "lr.fit(x_train,y_train)\n",
    "pred = lr.predict(x_test)\n",
    "\n",
    "from sklearn import metrics\n",
    "rmse = np.sqrt(metrics.mean_squared_error(y_test,pred))\n",
    "rmse\n"
   ]
  },
  {
   "cell_type": "code",
   "execution_count": 29,
   "metadata": {},
   "outputs": [
    {
     "data": {
      "text/html": [
       "<div>\n",
       "<style scoped>\n",
       "    .dataframe tbody tr th:only-of-type {\n",
       "        vertical-align: middle;\n",
       "    }\n",
       "\n",
       "    .dataframe tbody tr th {\n",
       "        vertical-align: top;\n",
       "    }\n",
       "\n",
       "    .dataframe thead tr th {\n",
       "        text-align: left;\n",
       "    }\n",
       "</style>\n",
       "<table border=\"1\" class=\"dataframe\">\n",
       "  <thead>\n",
       "    <tr>\n",
       "      <th></th>\n",
       "      <th>cyl</th>\n",
       "      <th>disp</th>\n",
       "      <th>hp</th>\n",
       "      <th>drat</th>\n",
       "      <th>wt</th>\n",
       "      <th>qsec</th>\n",
       "      <th>vs</th>\n",
       "      <th>am</th>\n",
       "      <th>gear</th>\n",
       "      <th>carb</th>\n",
       "    </tr>\n",
       "  </thead>\n",
       "  <tbody>\n",
       "    <tr>\n",
       "      <th>0</th>\n",
       "      <td>-0.106668</td>\n",
       "      <td>-0.579750</td>\n",
       "      <td>-0.543655</td>\n",
       "      <td>0.576594</td>\n",
       "      <td>-0.620167</td>\n",
       "      <td>-0.789601</td>\n",
       "      <td>-0.881917</td>\n",
       "      <td>1.208941</td>\n",
       "      <td>0.430331</td>\n",
       "      <td>0.746967</td>\n",
       "    </tr>\n",
       "    <tr>\n",
       "      <th>1</th>\n",
       "      <td>-0.106668</td>\n",
       "      <td>-0.579750</td>\n",
       "      <td>-0.543655</td>\n",
       "      <td>0.576594</td>\n",
       "      <td>-0.355382</td>\n",
       "      <td>-0.471202</td>\n",
       "      <td>-0.881917</td>\n",
       "      <td>1.208941</td>\n",
       "      <td>0.430331</td>\n",
       "      <td>0.746967</td>\n",
       "    </tr>\n",
       "    <tr>\n",
       "      <th>2</th>\n",
       "      <td>-1.244457</td>\n",
       "      <td>-1.006026</td>\n",
       "      <td>-0.795570</td>\n",
       "      <td>0.481584</td>\n",
       "      <td>-0.931678</td>\n",
       "      <td>0.432823</td>\n",
       "      <td>1.133893</td>\n",
       "      <td>1.208941</td>\n",
       "      <td>0.430331</td>\n",
       "      <td>-1.140108</td>\n",
       "    </tr>\n",
       "    <tr>\n",
       "      <th>3</th>\n",
       "      <td>-0.106668</td>\n",
       "      <td>0.223615</td>\n",
       "      <td>-0.543655</td>\n",
       "      <td>-0.981576</td>\n",
       "      <td>-0.002336</td>\n",
       "      <td>0.904736</td>\n",
       "      <td>1.133893</td>\n",
       "      <td>-0.827170</td>\n",
       "      <td>-0.946729</td>\n",
       "      <td>-1.140108</td>\n",
       "    </tr>\n",
       "    <tr>\n",
       "      <th>4</th>\n",
       "      <td>1.031121</td>\n",
       "      <td>1.059772</td>\n",
       "      <td>0.419550</td>\n",
       "      <td>-0.848562</td>\n",
       "      <td>0.231297</td>\n",
       "      <td>-0.471202</td>\n",
       "      <td>-0.881917</td>\n",
       "      <td>-0.827170</td>\n",
       "      <td>-0.946729</td>\n",
       "      <td>-0.511083</td>\n",
       "    </tr>\n",
       "  </tbody>\n",
       "</table>\n",
       "</div>"
      ],
      "text/plain": [
       "        cyl      disp        hp      drat        wt      qsec        vs  \\\n",
       "0 -0.106668 -0.579750 -0.543655  0.576594 -0.620167 -0.789601 -0.881917   \n",
       "1 -0.106668 -0.579750 -0.543655  0.576594 -0.355382 -0.471202 -0.881917   \n",
       "2 -1.244457 -1.006026 -0.795570  0.481584 -0.931678  0.432823  1.133893   \n",
       "3 -0.106668  0.223615 -0.543655 -0.981576 -0.002336  0.904736  1.133893   \n",
       "4  1.031121  1.059772  0.419550 -0.848562  0.231297 -0.471202 -0.881917   \n",
       "\n",
       "         am      gear      carb  \n",
       "0  1.208941  0.430331  0.746967  \n",
       "1  1.208941  0.430331  0.746967  \n",
       "2  1.208941  0.430331 -1.140108  \n",
       "3 -0.827170 -0.946729 -1.140108  \n",
       "4 -0.827170 -0.946729 -0.511083  "
      ]
     },
     "execution_count": 29,
     "metadata": {},
     "output_type": "execute_result"
    }
   ],
   "source": [
    "\n",
    "df_from_array = pd.DataFrame(df, columns=[['cyl', 'disp', 'hp', 'drat', 'wt', 'qsec', 'vs', 'am', 'gear','carb']])\n",
    "df_from_array.head()\n"
   ]
  },
  {
   "cell_type": "code",
   "execution_count": 33,
   "metadata": {},
   "outputs": [
    {
     "data": {
      "text/html": [
       "<div>\n",
       "<style scoped>\n",
       "    .dataframe tbody tr th:only-of-type {\n",
       "        vertical-align: middle;\n",
       "    }\n",
       "\n",
       "    .dataframe tbody tr th {\n",
       "        vertical-align: top;\n",
       "    }\n",
       "\n",
       "    .dataframe thead th {\n",
       "        text-align: right;\n",
       "    }\n",
       "</style>\n",
       "<table border=\"1\" class=\"dataframe\">\n",
       "  <thead>\n",
       "    <tr style=\"text-align: right;\">\n",
       "      <th></th>\n",
       "      <th>variable</th>\n",
       "      <th>value</th>\n",
       "    </tr>\n",
       "  </thead>\n",
       "  <tbody>\n",
       "    <tr>\n",
       "      <th>0</th>\n",
       "      <td>cyl</td>\n",
       "      <td>-0.106668</td>\n",
       "    </tr>\n",
       "    <tr>\n",
       "      <th>1</th>\n",
       "      <td>cyl</td>\n",
       "      <td>-0.106668</td>\n",
       "    </tr>\n",
       "    <tr>\n",
       "      <th>2</th>\n",
       "      <td>cyl</td>\n",
       "      <td>-1.244457</td>\n",
       "    </tr>\n",
       "    <tr>\n",
       "      <th>3</th>\n",
       "      <td>cyl</td>\n",
       "      <td>-0.106668</td>\n",
       "    </tr>\n",
       "    <tr>\n",
       "      <th>4</th>\n",
       "      <td>cyl</td>\n",
       "      <td>1.031121</td>\n",
       "    </tr>\n",
       "  </tbody>\n",
       "</table>\n",
       "</div>"
      ],
      "text/plain": [
       "  variable     value\n",
       "0      cyl -0.106668\n",
       "1      cyl -0.106668\n",
       "2      cyl -1.244457\n",
       "3      cyl -0.106668\n",
       "4      cyl  1.031121"
      ]
     },
     "execution_count": 33,
     "metadata": {},
     "output_type": "execute_result"
    }
   ],
   "source": [
    "\n",
    "df_stacked = pd.melt(df_from_array)\n",
    "df_stacked.columns=['variable','value']\n",
    "df_stacked.head()\n"
   ]
  },
  {
   "cell_type": "code",
   "execution_count": 34,
   "metadata": {},
   "outputs": [
    {
     "data": {
      "application/vnd.plotly.v1+json": {
       "config": {
        "plotlyServerURL": "https://plot.ly"
       },
       "data": [
        {
         "alignmentgroup": "True",
         "hovertemplate": "variable=%{x}<br>value=%{y}<extra></extra>",
         "legendgroup": "cyl",
         "marker": {
          "color": "#636efa"
         },
         "name": "cyl",
         "notched": false,
         "offsetgroup": "cyl",
         "orientation": "v",
         "quartilemethod": "exclusive",
         "showlegend": true,
         "type": "box",
         "x": [
          "cyl",
          "cyl",
          "cyl",
          "cyl",
          "cyl",
          "cyl",
          "cyl",
          "cyl",
          "cyl",
          "cyl",
          "cyl",
          "cyl",
          "cyl",
          "cyl",
          "cyl",
          "cyl",
          "cyl",
          "cyl",
          "cyl",
          "cyl",
          "cyl",
          "cyl",
          "cyl",
          "cyl",
          "cyl",
          "cyl",
          "cyl",
          "cyl",
          "cyl",
          "cyl",
          "cyl",
          "cyl"
         ],
         "x0": " ",
         "xaxis": "x",
         "y": [
          -0.1066677201802167,
          -0.1066677201802167,
          -1.2444567354358613,
          -0.1066677201802167,
          1.031121295075428,
          -0.1066677201802167,
          1.031121295075428,
          -1.2444567354358613,
          -1.2444567354358613,
          -0.1066677201802167,
          -0.1066677201802167,
          1.031121295075428,
          1.031121295075428,
          1.031121295075428,
          1.031121295075428,
          1.031121295075428,
          1.031121295075428,
          -1.2444567354358613,
          -1.2444567354358613,
          -1.2444567354358613,
          -1.2444567354358613,
          1.031121295075428,
          1.031121295075428,
          1.031121295075428,
          1.031121295075428,
          -1.2444567354358613,
          -1.2444567354358613,
          -1.2444567354358613,
          1.031121295075428,
          -0.1066677201802167,
          1.031121295075428,
          -1.2444567354358613
         ],
         "y0": " ",
         "yaxis": "y"
        },
        {
         "alignmentgroup": "True",
         "hovertemplate": "variable=%{x}<br>value=%{y}<extra></extra>",
         "legendgroup": "disp",
         "marker": {
          "color": "#EF553B"
         },
         "name": "disp",
         "notched": false,
         "offsetgroup": "disp",
         "orientation": "v",
         "quartilemethod": "exclusive",
         "showlegend": true,
         "type": "box",
         "x": [
          "disp",
          "disp",
          "disp",
          "disp",
          "disp",
          "disp",
          "disp",
          "disp",
          "disp",
          "disp",
          "disp",
          "disp",
          "disp",
          "disp",
          "disp",
          "disp",
          "disp",
          "disp",
          "disp",
          "disp",
          "disp",
          "disp",
          "disp",
          "disp",
          "disp",
          "disp",
          "disp",
          "disp",
          "disp",
          "disp",
          "disp",
          "disp"
         ],
         "x0": " ",
         "xaxis": "x",
         "y": [
          -0.5797503155171954,
          -0.5797503155171954,
          -1.0060260103696603,
          0.22361541708937327,
          1.059771587761516,
          -0.046905696951614125,
          1.059771587761516,
          -0.6887785220852297,
          -0.7371444182319514,
          -0.5174484831926044,
          -0.5174484831926044,
          0.3695328664811784,
          0.3695328664811784,
          0.3695328664811784,
          1.9779038535975937,
          1.8795325394008713,
          1.715580349073,
          -1.2462159691999914,
          -1.270808797749172,
          -1.3085178015245824,
          -0.9068349352212982,
          0.7154719880729864,
          0.6007054548434767,
          0.9777954925975801,
          1.3876759684172582,
          -1.2437566863450733,
          -0.9051954133180197,
          -1.1117751731311372,
          0.9859931021139738,
          -0.7027144582630986,
          0.5761126262942959,
          -0.8994570866565439
         ],
         "y0": " ",
         "yaxis": "y"
        },
        {
         "alignmentgroup": "True",
         "hovertemplate": "variable=%{x}<br>value=%{y}<extra></extra>",
         "legendgroup": "hp",
         "marker": {
          "color": "#00cc96"
         },
         "name": "hp",
         "notched": false,
         "offsetgroup": "hp",
         "orientation": "v",
         "quartilemethod": "exclusive",
         "showlegend": true,
         "type": "box",
         "x": [
          "hp",
          "hp",
          "hp",
          "hp",
          "hp",
          "hp",
          "hp",
          "hp",
          "hp",
          "hp",
          "hp",
          "hp",
          "hp",
          "hp",
          "hp",
          "hp",
          "hp",
          "hp",
          "hp",
          "hp",
          "hp",
          "hp",
          "hp",
          "hp",
          "hp",
          "hp",
          "hp",
          "hp",
          "hp",
          "hp",
          "hp",
          "hp"
         ],
         "x0": " ",
         "xaxis": "x",
         "y": [
          -0.5436548688210415,
          -0.5436548688210415,
          -0.7955699017330062,
          -0.5436548688210415,
          0.41954966878352945,
          -0.6177475255598548,
          1.4568468631269136,
          -1.2549443735136478,
          -0.765932839037481,
          -0.35101396130012724,
          -0.35101396130012724,
          0.49364232552234266,
          0.49364232552234266,
          0.49364232552234266,
          0.8641056092164088,
          1.0122909226940346,
          1.2345688929104743,
          -1.1956702481225974,
          -1.4031296869912742,
          -1.2104887794703598,
          -0.7362957763419558,
          0.04908638508946383,
          0.04908638508946383,
          1.4568468631269136,
          0.41954966878352945,
          -1.1956702481225974,
          -0.8252069644285315,
          -0.49919927477775355,
          1.7383989587344038,
          0.41954966878352945,
          2.790514684425551,
          -0.5584734001688041
         ],
         "y0": " ",
         "yaxis": "y"
        },
        {
         "alignmentgroup": "True",
         "hovertemplate": "variable=%{x}<br>value=%{y}<extra></extra>",
         "legendgroup": "drat",
         "marker": {
          "color": "#ab63fa"
         },
         "name": "drat",
         "notched": false,
         "offsetgroup": "drat",
         "orientation": "v",
         "quartilemethod": "exclusive",
         "showlegend": true,
         "type": "box",
         "x": [
          "drat",
          "drat",
          "drat",
          "drat",
          "drat",
          "drat",
          "drat",
          "drat",
          "drat",
          "drat",
          "drat",
          "drat",
          "drat",
          "drat",
          "drat",
          "drat",
          "drat",
          "drat",
          "drat",
          "drat",
          "drat",
          "drat",
          "drat",
          "drat",
          "drat",
          "drat",
          "drat",
          "drat",
          "drat",
          "drat",
          "drat",
          "drat"
         ],
         "x0": " ",
         "xaxis": "x",
         "y": [
          0.57659448093713,
          0.57659448093713,
          0.4815840618331744,
          -0.9815763923677397,
          -0.8485618056222022,
          -1.5896430746330559,
          -0.7345493026974561,
          0.17755072070051728,
          0.614598648578712,
          0.614598648578712,
          0.614598648578712,
          -1.0005784761885312,
          -1.0005784761885312,
          -1.0005784761885312,
          -1.2666076496796064,
          -1.1335930629340687,
          -0.6965451350558731,
          0.9186319897113702,
          2.5338091144786126,
          1.1846611632024444,
          0.19655280452130874,
          -1.5896430746330559,
          -0.8485618056222022,
          0.25355905598368134,
          -0.9815763923677397,
          0.9186319897113702,
          1.583704923439057,
          0.3295673912668454,
          1.1846611632024444,
          0.044536133954979705,
          -0.10748053661134935,
          0.9756382411737436
         ],
         "y0": " ",
         "yaxis": "y"
        },
        {
         "alignmentgroup": "True",
         "hovertemplate": "variable=%{x}<br>value=%{y}<extra></extra>",
         "legendgroup": "wt",
         "marker": {
          "color": "#FFA15A"
         },
         "name": "wt",
         "notched": false,
         "offsetgroup": "wt",
         "orientation": "v",
         "quartilemethod": "exclusive",
         "showlegend": true,
         "type": "box",
         "x": [
          "wt",
          "wt",
          "wt",
          "wt",
          "wt",
          "wt",
          "wt",
          "wt",
          "wt",
          "wt",
          "wt",
          "wt",
          "wt",
          "wt",
          "wt",
          "wt",
          "wt",
          "wt",
          "wt",
          "wt",
          "wt",
          "wt",
          "wt",
          "wt",
          "wt",
          "wt",
          "wt",
          "wt",
          "wt",
          "wt",
          "wt",
          "wt"
         ],
         "x0": " ",
         "xaxis": "x",
         "y": [
          -0.6201665807281305,
          -0.35538218878895383,
          -0.9316776300683393,
          -0.0023363328700518942,
          0.23129695413510418,
          0.2520643574244517,
          0.36628507551586104,
          -0.028295586981735503,
          -0.06983039356043008,
          0.23129695413510418,
          0.23129695413510418,
          0.8854701577495413,
          0.5324243018306389,
          0.5843428100540066,
          2.1107469518210267,
          2.291423360438347,
          2.209392117445425,
          -1.056282049804422,
          -1.6637285960178279,
          -1.4352871598350085,
          -0.7811139562205719,
          0.31436656729249335,
          0.22610510331276765,
          0.6466450199220483,
          0.6518368707443857,
          -1.3314501433882726,
          -1.1185842596724638,
          -1.7696423527934986,
          -0.04906299027108302,
          -0.46441105605802663,
          0.36628507551586104,
          -0.4540273544133535
         ],
         "y0": " ",
         "yaxis": "y"
        },
        {
         "alignmentgroup": "True",
         "hovertemplate": "variable=%{x}<br>value=%{y}<extra></extra>",
         "legendgroup": "qsec",
         "marker": {
          "color": "#19d3f3"
         },
         "name": "qsec",
         "notched": false,
         "offsetgroup": "qsec",
         "orientation": "v",
         "quartilemethod": "exclusive",
         "showlegend": true,
         "type": "box",
         "x": [
          "qsec",
          "qsec",
          "qsec",
          "qsec",
          "qsec",
          "qsec",
          "qsec",
          "qsec",
          "qsec",
          "qsec",
          "qsec",
          "qsec",
          "qsec",
          "qsec",
          "qsec",
          "qsec",
          "qsec",
          "qsec",
          "qsec",
          "qsec",
          "qsec",
          "qsec",
          "qsec",
          "qsec",
          "qsec",
          "qsec",
          "qsec",
          "qsec",
          "qsec",
          "qsec",
          "qsec",
          "qsec"
         ],
         "x0": " ",
         "xaxis": "x",
         "y": [
          -0.7896005773826658,
          -0.471201784702707,
          0.43282335879931766,
          0.9047358550928306,
          -0.471201784702707,
          1.3482198877542002,
          -1.1421135264211912,
          1.2231346477727882,
          2.871985538436861,
          0.2565668842800554,
          0.5977084478657264,
          -0.25514546109845004,
          -0.14143160656989162,
          0.08599610248722096,
          0.07462471703436534,
          -0.016346366588479704,
          -0.2437740756455923,
          0.9217929332721119,
          0.38165212426146733,
          1.16627772050851,
          1.228820340499216,
          -0.5564871755991242,
          -0.3120023883627282,
          -1.3865983136575883,
          -0.4541447065234236,
          0.5977084478657264,
          -0.6531439519483981,
          -0.5394300974198408,
          -1.9039963517625216,
          -1.335427079119738,
          -1.8471394244982435,
          0.427137666072892
         ],
         "y0": " ",
         "yaxis": "y"
        },
        {
         "alignmentgroup": "True",
         "hovertemplate": "variable=%{x}<br>value=%{y}<extra></extra>",
         "legendgroup": "vs",
         "marker": {
          "color": "#FF6692"
         },
         "name": "vs",
         "notched": false,
         "offsetgroup": "vs",
         "orientation": "v",
         "quartilemethod": "exclusive",
         "showlegend": true,
         "type": "box",
         "x": [
          "vs",
          "vs",
          "vs",
          "vs",
          "vs",
          "vs",
          "vs",
          "vs",
          "vs",
          "vs",
          "vs",
          "vs",
          "vs",
          "vs",
          "vs",
          "vs",
          "vs",
          "vs",
          "vs",
          "vs",
          "vs",
          "vs",
          "vs",
          "vs",
          "vs",
          "vs",
          "vs",
          "vs",
          "vs",
          "vs",
          "vs",
          "vs"
         ],
         "x0": " ",
         "xaxis": "x",
         "y": [
          -0.8819171036881969,
          -0.8819171036881969,
          1.1338934190276817,
          1.1338934190276817,
          -0.8819171036881969,
          1.1338934190276817,
          -0.8819171036881969,
          1.1338934190276817,
          1.1338934190276817,
          1.1338934190276817,
          1.1338934190276817,
          -0.8819171036881969,
          -0.8819171036881969,
          -0.8819171036881969,
          -0.8819171036881969,
          -0.8819171036881969,
          -0.8819171036881969,
          1.1338934190276817,
          1.1338934190276817,
          1.1338934190276817,
          1.1338934190276817,
          -0.8819171036881969,
          -0.8819171036881969,
          -0.8819171036881969,
          -0.8819171036881969,
          1.1338934190276817,
          -0.8819171036881969,
          1.1338934190276817,
          -0.8819171036881969,
          -0.8819171036881969,
          -0.8819171036881969,
          1.1338934190276817
         ],
         "y0": " ",
         "yaxis": "y"
        },
        {
         "alignmentgroup": "True",
         "hovertemplate": "variable=%{x}<br>value=%{y}<extra></extra>",
         "legendgroup": "am",
         "marker": {
          "color": "#B6E880"
         },
         "name": "am",
         "notched": false,
         "offsetgroup": "am",
         "orientation": "v",
         "quartilemethod": "exclusive",
         "showlegend": true,
         "type": "box",
         "x": [
          "am",
          "am",
          "am",
          "am",
          "am",
          "am",
          "am",
          "am",
          "am",
          "am",
          "am",
          "am",
          "am",
          "am",
          "am",
          "am",
          "am",
          "am",
          "am",
          "am",
          "am",
          "am",
          "am",
          "am",
          "am",
          "am",
          "am",
          "am",
          "am",
          "am",
          "am",
          "am"
         ],
         "x0": " ",
         "xaxis": "x",
         "y": [
          1.2089410496539776,
          1.2089410496539776,
          1.2089410496539776,
          -0.827170191868511,
          -0.827170191868511,
          -0.827170191868511,
          -0.827170191868511,
          -0.827170191868511,
          -0.827170191868511,
          -0.827170191868511,
          -0.827170191868511,
          -0.827170191868511,
          -0.827170191868511,
          -0.827170191868511,
          -0.827170191868511,
          -0.827170191868511,
          -0.827170191868511,
          1.2089410496539776,
          1.2089410496539776,
          1.2089410496539776,
          -0.827170191868511,
          -0.827170191868511,
          -0.827170191868511,
          -0.827170191868511,
          -0.827170191868511,
          1.2089410496539776,
          1.2089410496539776,
          1.2089410496539776,
          1.2089410496539776,
          1.2089410496539776,
          1.2089410496539776,
          1.2089410496539776
         ],
         "y0": " ",
         "yaxis": "y"
        },
        {
         "alignmentgroup": "True",
         "hovertemplate": "variable=%{x}<br>value=%{y}<extra></extra>",
         "legendgroup": "gear",
         "marker": {
          "color": "#FF97FF"
         },
         "name": "gear",
         "notched": false,
         "offsetgroup": "gear",
         "orientation": "v",
         "quartilemethod": "exclusive",
         "showlegend": true,
         "type": "box",
         "x": [
          "gear",
          "gear",
          "gear",
          "gear",
          "gear",
          "gear",
          "gear",
          "gear",
          "gear",
          "gear",
          "gear",
          "gear",
          "gear",
          "gear",
          "gear",
          "gear",
          "gear",
          "gear",
          "gear",
          "gear",
          "gear",
          "gear",
          "gear",
          "gear",
          "gear",
          "gear",
          "gear",
          "gear",
          "gear",
          "gear",
          "gear",
          "gear"
         ],
         "x0": " ",
         "xaxis": "x",
         "y": [
          0.43033148291193524,
          0.43033148291193524,
          0.43033148291193524,
          -0.9467292624062575,
          -0.9467292624062575,
          -0.9467292624062575,
          -0.9467292624062575,
          0.43033148291193524,
          0.43033148291193524,
          0.43033148291193524,
          0.43033148291193524,
          -0.9467292624062575,
          -0.9467292624062575,
          -0.9467292624062575,
          -0.9467292624062575,
          -0.9467292624062575,
          -0.9467292624062575,
          0.43033148291193524,
          0.43033148291193524,
          0.43033148291193524,
          -0.9467292624062575,
          -0.9467292624062575,
          -0.9467292624062575,
          -0.9467292624062575,
          -0.9467292624062575,
          0.43033148291193524,
          1.807392228230128,
          1.807392228230128,
          1.807392228230128,
          1.807392228230128,
          1.807392228230128,
          0.43033148291193524
         ],
         "y0": " ",
         "yaxis": "y"
        },
        {
         "alignmentgroup": "True",
         "hovertemplate": "variable=%{x}<br>value=%{y}<extra></extra>",
         "legendgroup": "carb",
         "marker": {
          "color": "#FECB52"
         },
         "name": "carb",
         "notched": false,
         "offsetgroup": "carb",
         "orientation": "v",
         "quartilemethod": "exclusive",
         "showlegend": true,
         "type": "box",
         "x": [
          "carb",
          "carb",
          "carb",
          "carb",
          "carb",
          "carb",
          "carb",
          "carb",
          "carb",
          "carb",
          "carb",
          "carb",
          "carb",
          "carb",
          "carb",
          "carb",
          "carb",
          "carb",
          "carb",
          "carb",
          "carb",
          "carb",
          "carb",
          "carb",
          "carb",
          "carb",
          "carb",
          "carb",
          "carb",
          "carb",
          "carb",
          "carb"
         ],
         "x0": " ",
         "xaxis": "x",
         "y": [
          0.746967077272214,
          0.746967077272214,
          -1.1401076442575895,
          -1.1401076442575895,
          -0.5110827370809884,
          -1.1401076442575895,
          0.746967077272214,
          -0.5110827370809884,
          -0.5110827370809884,
          0.746967077272214,
          0.746967077272214,
          0.1179421700956128,
          0.1179421700956128,
          0.1179421700956128,
          0.746967077272214,
          0.746967077272214,
          0.746967077272214,
          -1.1401076442575895,
          -0.5110827370809884,
          -1.1401076442575895,
          -1.1401076442575895,
          -0.5110827370809884,
          -0.5110827370809884,
          0.746967077272214,
          -0.5110827370809884,
          -1.1401076442575895,
          -0.5110827370809884,
          -0.5110827370809884,
          0.746967077272214,
          2.005016891625416,
          3.263066705978619,
          -0.5110827370809884
         ],
         "y0": " ",
         "yaxis": "y"
        }
       ],
       "layout": {
        "boxmode": "overlay",
        "legend": {
         "title": {
          "text": "variable"
         },
         "tracegroupgap": 0
        },
        "margin": {
         "t": 60
        },
        "template": {
         "data": {
          "bar": [
           {
            "error_x": {
             "color": "#2a3f5f"
            },
            "error_y": {
             "color": "#2a3f5f"
            },
            "marker": {
             "line": {
              "color": "#E5ECF6",
              "width": 0.5
             },
             "pattern": {
              "fillmode": "overlay",
              "size": 10,
              "solidity": 0.2
             }
            },
            "type": "bar"
           }
          ],
          "barpolar": [
           {
            "marker": {
             "line": {
              "color": "#E5ECF6",
              "width": 0.5
             },
             "pattern": {
              "fillmode": "overlay",
              "size": 10,
              "solidity": 0.2
             }
            },
            "type": "barpolar"
           }
          ],
          "carpet": [
           {
            "aaxis": {
             "endlinecolor": "#2a3f5f",
             "gridcolor": "white",
             "linecolor": "white",
             "minorgridcolor": "white",
             "startlinecolor": "#2a3f5f"
            },
            "baxis": {
             "endlinecolor": "#2a3f5f",
             "gridcolor": "white",
             "linecolor": "white",
             "minorgridcolor": "white",
             "startlinecolor": "#2a3f5f"
            },
            "type": "carpet"
           }
          ],
          "choropleth": [
           {
            "colorbar": {
             "outlinewidth": 0,
             "ticks": ""
            },
            "type": "choropleth"
           }
          ],
          "contour": [
           {
            "colorbar": {
             "outlinewidth": 0,
             "ticks": ""
            },
            "colorscale": [
             [
              0,
              "#0d0887"
             ],
             [
              0.1111111111111111,
              "#46039f"
             ],
             [
              0.2222222222222222,
              "#7201a8"
             ],
             [
              0.3333333333333333,
              "#9c179e"
             ],
             [
              0.4444444444444444,
              "#bd3786"
             ],
             [
              0.5555555555555556,
              "#d8576b"
             ],
             [
              0.6666666666666666,
              "#ed7953"
             ],
             [
              0.7777777777777778,
              "#fb9f3a"
             ],
             [
              0.8888888888888888,
              "#fdca26"
             ],
             [
              1,
              "#f0f921"
             ]
            ],
            "type": "contour"
           }
          ],
          "contourcarpet": [
           {
            "colorbar": {
             "outlinewidth": 0,
             "ticks": ""
            },
            "type": "contourcarpet"
           }
          ],
          "heatmap": [
           {
            "colorbar": {
             "outlinewidth": 0,
             "ticks": ""
            },
            "colorscale": [
             [
              0,
              "#0d0887"
             ],
             [
              0.1111111111111111,
              "#46039f"
             ],
             [
              0.2222222222222222,
              "#7201a8"
             ],
             [
              0.3333333333333333,
              "#9c179e"
             ],
             [
              0.4444444444444444,
              "#bd3786"
             ],
             [
              0.5555555555555556,
              "#d8576b"
             ],
             [
              0.6666666666666666,
              "#ed7953"
             ],
             [
              0.7777777777777778,
              "#fb9f3a"
             ],
             [
              0.8888888888888888,
              "#fdca26"
             ],
             [
              1,
              "#f0f921"
             ]
            ],
            "type": "heatmap"
           }
          ],
          "heatmapgl": [
           {
            "colorbar": {
             "outlinewidth": 0,
             "ticks": ""
            },
            "colorscale": [
             [
              0,
              "#0d0887"
             ],
             [
              0.1111111111111111,
              "#46039f"
             ],
             [
              0.2222222222222222,
              "#7201a8"
             ],
             [
              0.3333333333333333,
              "#9c179e"
             ],
             [
              0.4444444444444444,
              "#bd3786"
             ],
             [
              0.5555555555555556,
              "#d8576b"
             ],
             [
              0.6666666666666666,
              "#ed7953"
             ],
             [
              0.7777777777777778,
              "#fb9f3a"
             ],
             [
              0.8888888888888888,
              "#fdca26"
             ],
             [
              1,
              "#f0f921"
             ]
            ],
            "type": "heatmapgl"
           }
          ],
          "histogram": [
           {
            "marker": {
             "pattern": {
              "fillmode": "overlay",
              "size": 10,
              "solidity": 0.2
             }
            },
            "type": "histogram"
           }
          ],
          "histogram2d": [
           {
            "colorbar": {
             "outlinewidth": 0,
             "ticks": ""
            },
            "colorscale": [
             [
              0,
              "#0d0887"
             ],
             [
              0.1111111111111111,
              "#46039f"
             ],
             [
              0.2222222222222222,
              "#7201a8"
             ],
             [
              0.3333333333333333,
              "#9c179e"
             ],
             [
              0.4444444444444444,
              "#bd3786"
             ],
             [
              0.5555555555555556,
              "#d8576b"
             ],
             [
              0.6666666666666666,
              "#ed7953"
             ],
             [
              0.7777777777777778,
              "#fb9f3a"
             ],
             [
              0.8888888888888888,
              "#fdca26"
             ],
             [
              1,
              "#f0f921"
             ]
            ],
            "type": "histogram2d"
           }
          ],
          "histogram2dcontour": [
           {
            "colorbar": {
             "outlinewidth": 0,
             "ticks": ""
            },
            "colorscale": [
             [
              0,
              "#0d0887"
             ],
             [
              0.1111111111111111,
              "#46039f"
             ],
             [
              0.2222222222222222,
              "#7201a8"
             ],
             [
              0.3333333333333333,
              "#9c179e"
             ],
             [
              0.4444444444444444,
              "#bd3786"
             ],
             [
              0.5555555555555556,
              "#d8576b"
             ],
             [
              0.6666666666666666,
              "#ed7953"
             ],
             [
              0.7777777777777778,
              "#fb9f3a"
             ],
             [
              0.8888888888888888,
              "#fdca26"
             ],
             [
              1,
              "#f0f921"
             ]
            ],
            "type": "histogram2dcontour"
           }
          ],
          "mesh3d": [
           {
            "colorbar": {
             "outlinewidth": 0,
             "ticks": ""
            },
            "type": "mesh3d"
           }
          ],
          "parcoords": [
           {
            "line": {
             "colorbar": {
              "outlinewidth": 0,
              "ticks": ""
             }
            },
            "type": "parcoords"
           }
          ],
          "pie": [
           {
            "automargin": true,
            "type": "pie"
           }
          ],
          "scatter": [
           {
            "fillpattern": {
             "fillmode": "overlay",
             "size": 10,
             "solidity": 0.2
            },
            "type": "scatter"
           }
          ],
          "scatter3d": [
           {
            "line": {
             "colorbar": {
              "outlinewidth": 0,
              "ticks": ""
             }
            },
            "marker": {
             "colorbar": {
              "outlinewidth": 0,
              "ticks": ""
             }
            },
            "type": "scatter3d"
           }
          ],
          "scattercarpet": [
           {
            "marker": {
             "colorbar": {
              "outlinewidth": 0,
              "ticks": ""
             }
            },
            "type": "scattercarpet"
           }
          ],
          "scattergeo": [
           {
            "marker": {
             "colorbar": {
              "outlinewidth": 0,
              "ticks": ""
             }
            },
            "type": "scattergeo"
           }
          ],
          "scattergl": [
           {
            "marker": {
             "colorbar": {
              "outlinewidth": 0,
              "ticks": ""
             }
            },
            "type": "scattergl"
           }
          ],
          "scattermapbox": [
           {
            "marker": {
             "colorbar": {
              "outlinewidth": 0,
              "ticks": ""
             }
            },
            "type": "scattermapbox"
           }
          ],
          "scatterpolar": [
           {
            "marker": {
             "colorbar": {
              "outlinewidth": 0,
              "ticks": ""
             }
            },
            "type": "scatterpolar"
           }
          ],
          "scatterpolargl": [
           {
            "marker": {
             "colorbar": {
              "outlinewidth": 0,
              "ticks": ""
             }
            },
            "type": "scatterpolargl"
           }
          ],
          "scatterternary": [
           {
            "marker": {
             "colorbar": {
              "outlinewidth": 0,
              "ticks": ""
             }
            },
            "type": "scatterternary"
           }
          ],
          "surface": [
           {
            "colorbar": {
             "outlinewidth": 0,
             "ticks": ""
            },
            "colorscale": [
             [
              0,
              "#0d0887"
             ],
             [
              0.1111111111111111,
              "#46039f"
             ],
             [
              0.2222222222222222,
              "#7201a8"
             ],
             [
              0.3333333333333333,
              "#9c179e"
             ],
             [
              0.4444444444444444,
              "#bd3786"
             ],
             [
              0.5555555555555556,
              "#d8576b"
             ],
             [
              0.6666666666666666,
              "#ed7953"
             ],
             [
              0.7777777777777778,
              "#fb9f3a"
             ],
             [
              0.8888888888888888,
              "#fdca26"
             ],
             [
              1,
              "#f0f921"
             ]
            ],
            "type": "surface"
           }
          ],
          "table": [
           {
            "cells": {
             "fill": {
              "color": "#EBF0F8"
             },
             "line": {
              "color": "white"
             }
            },
            "header": {
             "fill": {
              "color": "#C8D4E3"
             },
             "line": {
              "color": "white"
             }
            },
            "type": "table"
           }
          ]
         },
         "layout": {
          "annotationdefaults": {
           "arrowcolor": "#2a3f5f",
           "arrowhead": 0,
           "arrowwidth": 1
          },
          "autotypenumbers": "strict",
          "coloraxis": {
           "colorbar": {
            "outlinewidth": 0,
            "ticks": ""
           }
          },
          "colorscale": {
           "diverging": [
            [
             0,
             "#8e0152"
            ],
            [
             0.1,
             "#c51b7d"
            ],
            [
             0.2,
             "#de77ae"
            ],
            [
             0.3,
             "#f1b6da"
            ],
            [
             0.4,
             "#fde0ef"
            ],
            [
             0.5,
             "#f7f7f7"
            ],
            [
             0.6,
             "#e6f5d0"
            ],
            [
             0.7,
             "#b8e186"
            ],
            [
             0.8,
             "#7fbc41"
            ],
            [
             0.9,
             "#4d9221"
            ],
            [
             1,
             "#276419"
            ]
           ],
           "sequential": [
            [
             0,
             "#0d0887"
            ],
            [
             0.1111111111111111,
             "#46039f"
            ],
            [
             0.2222222222222222,
             "#7201a8"
            ],
            [
             0.3333333333333333,
             "#9c179e"
            ],
            [
             0.4444444444444444,
             "#bd3786"
            ],
            [
             0.5555555555555556,
             "#d8576b"
            ],
            [
             0.6666666666666666,
             "#ed7953"
            ],
            [
             0.7777777777777778,
             "#fb9f3a"
            ],
            [
             0.8888888888888888,
             "#fdca26"
            ],
            [
             1,
             "#f0f921"
            ]
           ],
           "sequentialminus": [
            [
             0,
             "#0d0887"
            ],
            [
             0.1111111111111111,
             "#46039f"
            ],
            [
             0.2222222222222222,
             "#7201a8"
            ],
            [
             0.3333333333333333,
             "#9c179e"
            ],
            [
             0.4444444444444444,
             "#bd3786"
            ],
            [
             0.5555555555555556,
             "#d8576b"
            ],
            [
             0.6666666666666666,
             "#ed7953"
            ],
            [
             0.7777777777777778,
             "#fb9f3a"
            ],
            [
             0.8888888888888888,
             "#fdca26"
            ],
            [
             1,
             "#f0f921"
            ]
           ]
          },
          "colorway": [
           "#636efa",
           "#EF553B",
           "#00cc96",
           "#ab63fa",
           "#FFA15A",
           "#19d3f3",
           "#FF6692",
           "#B6E880",
           "#FF97FF",
           "#FECB52"
          ],
          "font": {
           "color": "#2a3f5f"
          },
          "geo": {
           "bgcolor": "white",
           "lakecolor": "white",
           "landcolor": "#E5ECF6",
           "showlakes": true,
           "showland": true,
           "subunitcolor": "white"
          },
          "hoverlabel": {
           "align": "left"
          },
          "hovermode": "closest",
          "mapbox": {
           "style": "light"
          },
          "paper_bgcolor": "white",
          "plot_bgcolor": "#E5ECF6",
          "polar": {
           "angularaxis": {
            "gridcolor": "white",
            "linecolor": "white",
            "ticks": ""
           },
           "bgcolor": "#E5ECF6",
           "radialaxis": {
            "gridcolor": "white",
            "linecolor": "white",
            "ticks": ""
           }
          },
          "scene": {
           "xaxis": {
            "backgroundcolor": "#E5ECF6",
            "gridcolor": "white",
            "gridwidth": 2,
            "linecolor": "white",
            "showbackground": true,
            "ticks": "",
            "zerolinecolor": "white"
           },
           "yaxis": {
            "backgroundcolor": "#E5ECF6",
            "gridcolor": "white",
            "gridwidth": 2,
            "linecolor": "white",
            "showbackground": true,
            "ticks": "",
            "zerolinecolor": "white"
           },
           "zaxis": {
            "backgroundcolor": "#E5ECF6",
            "gridcolor": "white",
            "gridwidth": 2,
            "linecolor": "white",
            "showbackground": true,
            "ticks": "",
            "zerolinecolor": "white"
           }
          },
          "shapedefaults": {
           "line": {
            "color": "#2a3f5f"
           }
          },
          "ternary": {
           "aaxis": {
            "gridcolor": "white",
            "linecolor": "white",
            "ticks": ""
           },
           "baxis": {
            "gridcolor": "white",
            "linecolor": "white",
            "ticks": ""
           },
           "bgcolor": "#E5ECF6",
           "caxis": {
            "gridcolor": "white",
            "linecolor": "white",
            "ticks": ""
           }
          },
          "title": {
           "x": 0.05
          },
          "xaxis": {
           "automargin": true,
           "gridcolor": "white",
           "linecolor": "white",
           "ticks": "",
           "title": {
            "standoff": 15
           },
           "zerolinecolor": "white",
           "zerolinewidth": 2
          },
          "yaxis": {
           "automargin": true,
           "gridcolor": "white",
           "linecolor": "white",
           "ticks": "",
           "title": {
            "standoff": 15
           },
           "zerolinecolor": "white",
           "zerolinewidth": 2
          }
         }
        },
        "xaxis": {
         "anchor": "y",
         "categoryarray": [
          "cyl",
          "disp",
          "hp",
          "drat",
          "wt",
          "qsec",
          "vs",
          "am",
          "gear",
          "carb"
         ],
         "categoryorder": "array",
         "domain": [
          0,
          1
         ],
         "title": {
          "text": "variable"
         }
        },
        "yaxis": {
         "anchor": "x",
         "domain": [
          0,
          1
         ],
         "title": {
          "text": "value"
         }
        }
       }
      },
      "text/html": [
       "<div>                            <div id=\"bdaacdb3-f8d5-4138-b0d4-8f61b5fb0d7f\" class=\"plotly-graph-div\" style=\"height:525px; width:100%;\"></div>            <script type=\"text/javascript\">                require([\"plotly\"], function(Plotly) {                    window.PLOTLYENV=window.PLOTLYENV || {};                                    if (document.getElementById(\"bdaacdb3-f8d5-4138-b0d4-8f61b5fb0d7f\")) {                    Plotly.newPlot(                        \"bdaacdb3-f8d5-4138-b0d4-8f61b5fb0d7f\",                        [{\"alignmentgroup\":\"True\",\"hovertemplate\":\"variable=%{x}<br>value=%{y}<extra></extra>\",\"legendgroup\":\"cyl\",\"marker\":{\"color\":\"#636efa\"},\"name\":\"cyl\",\"notched\":false,\"offsetgroup\":\"cyl\",\"orientation\":\"v\",\"showlegend\":true,\"x\":[\"cyl\",\"cyl\",\"cyl\",\"cyl\",\"cyl\",\"cyl\",\"cyl\",\"cyl\",\"cyl\",\"cyl\",\"cyl\",\"cyl\",\"cyl\",\"cyl\",\"cyl\",\"cyl\",\"cyl\",\"cyl\",\"cyl\",\"cyl\",\"cyl\",\"cyl\",\"cyl\",\"cyl\",\"cyl\",\"cyl\",\"cyl\",\"cyl\",\"cyl\",\"cyl\",\"cyl\",\"cyl\"],\"x0\":\" \",\"xaxis\":\"x\",\"y\":[-0.1066677201802167,-0.1066677201802167,-1.2444567354358613,-0.1066677201802167,1.031121295075428,-0.1066677201802167,1.031121295075428,-1.2444567354358613,-1.2444567354358613,-0.1066677201802167,-0.1066677201802167,1.031121295075428,1.031121295075428,1.031121295075428,1.031121295075428,1.031121295075428,1.031121295075428,-1.2444567354358613,-1.2444567354358613,-1.2444567354358613,-1.2444567354358613,1.031121295075428,1.031121295075428,1.031121295075428,1.031121295075428,-1.2444567354358613,-1.2444567354358613,-1.2444567354358613,1.031121295075428,-0.1066677201802167,1.031121295075428,-1.2444567354358613],\"y0\":\" \",\"yaxis\":\"y\",\"type\":\"box\",\"quartilemethod\":\"exclusive\"},{\"alignmentgroup\":\"True\",\"hovertemplate\":\"variable=%{x}<br>value=%{y}<extra></extra>\",\"legendgroup\":\"disp\",\"marker\":{\"color\":\"#EF553B\"},\"name\":\"disp\",\"notched\":false,\"offsetgroup\":\"disp\",\"orientation\":\"v\",\"showlegend\":true,\"x\":[\"disp\",\"disp\",\"disp\",\"disp\",\"disp\",\"disp\",\"disp\",\"disp\",\"disp\",\"disp\",\"disp\",\"disp\",\"disp\",\"disp\",\"disp\",\"disp\",\"disp\",\"disp\",\"disp\",\"disp\",\"disp\",\"disp\",\"disp\",\"disp\",\"disp\",\"disp\",\"disp\",\"disp\",\"disp\",\"disp\",\"disp\",\"disp\"],\"x0\":\" \",\"xaxis\":\"x\",\"y\":[-0.5797503155171954,-0.5797503155171954,-1.0060260103696603,0.22361541708937327,1.059771587761516,-0.046905696951614125,1.059771587761516,-0.6887785220852297,-0.7371444182319514,-0.5174484831926044,-0.5174484831926044,0.3695328664811784,0.3695328664811784,0.3695328664811784,1.9779038535975937,1.8795325394008713,1.715580349073,-1.2462159691999914,-1.270808797749172,-1.3085178015245824,-0.9068349352212982,0.7154719880729864,0.6007054548434767,0.9777954925975801,1.3876759684172582,-1.2437566863450733,-0.9051954133180197,-1.1117751731311372,0.9859931021139738,-0.7027144582630986,0.5761126262942959,-0.8994570866565439],\"y0\":\" \",\"yaxis\":\"y\",\"type\":\"box\",\"quartilemethod\":\"exclusive\"},{\"alignmentgroup\":\"True\",\"hovertemplate\":\"variable=%{x}<br>value=%{y}<extra></extra>\",\"legendgroup\":\"hp\",\"marker\":{\"color\":\"#00cc96\"},\"name\":\"hp\",\"notched\":false,\"offsetgroup\":\"hp\",\"orientation\":\"v\",\"showlegend\":true,\"x\":[\"hp\",\"hp\",\"hp\",\"hp\",\"hp\",\"hp\",\"hp\",\"hp\",\"hp\",\"hp\",\"hp\",\"hp\",\"hp\",\"hp\",\"hp\",\"hp\",\"hp\",\"hp\",\"hp\",\"hp\",\"hp\",\"hp\",\"hp\",\"hp\",\"hp\",\"hp\",\"hp\",\"hp\",\"hp\",\"hp\",\"hp\",\"hp\"],\"x0\":\" \",\"xaxis\":\"x\",\"y\":[-0.5436548688210415,-0.5436548688210415,-0.7955699017330062,-0.5436548688210415,0.41954966878352945,-0.6177475255598548,1.4568468631269136,-1.2549443735136478,-0.765932839037481,-0.35101396130012724,-0.35101396130012724,0.49364232552234266,0.49364232552234266,0.49364232552234266,0.8641056092164088,1.0122909226940346,1.2345688929104743,-1.1956702481225974,-1.4031296869912742,-1.2104887794703598,-0.7362957763419558,0.04908638508946383,0.04908638508946383,1.4568468631269136,0.41954966878352945,-1.1956702481225974,-0.8252069644285315,-0.49919927477775355,1.7383989587344038,0.41954966878352945,2.790514684425551,-0.5584734001688041],\"y0\":\" \",\"yaxis\":\"y\",\"type\":\"box\",\"quartilemethod\":\"exclusive\"},{\"alignmentgroup\":\"True\",\"hovertemplate\":\"variable=%{x}<br>value=%{y}<extra></extra>\",\"legendgroup\":\"drat\",\"marker\":{\"color\":\"#ab63fa\"},\"name\":\"drat\",\"notched\":false,\"offsetgroup\":\"drat\",\"orientation\":\"v\",\"showlegend\":true,\"x\":[\"drat\",\"drat\",\"drat\",\"drat\",\"drat\",\"drat\",\"drat\",\"drat\",\"drat\",\"drat\",\"drat\",\"drat\",\"drat\",\"drat\",\"drat\",\"drat\",\"drat\",\"drat\",\"drat\",\"drat\",\"drat\",\"drat\",\"drat\",\"drat\",\"drat\",\"drat\",\"drat\",\"drat\",\"drat\",\"drat\",\"drat\",\"drat\"],\"x0\":\" \",\"xaxis\":\"x\",\"y\":[0.57659448093713,0.57659448093713,0.4815840618331744,-0.9815763923677397,-0.8485618056222022,-1.5896430746330559,-0.7345493026974561,0.17755072070051728,0.614598648578712,0.614598648578712,0.614598648578712,-1.0005784761885312,-1.0005784761885312,-1.0005784761885312,-1.2666076496796064,-1.1335930629340687,-0.6965451350558731,0.9186319897113702,2.5338091144786126,1.1846611632024444,0.19655280452130874,-1.5896430746330559,-0.8485618056222022,0.25355905598368134,-0.9815763923677397,0.9186319897113702,1.583704923439057,0.3295673912668454,1.1846611632024444,0.044536133954979705,-0.10748053661134935,0.9756382411737436],\"y0\":\" \",\"yaxis\":\"y\",\"type\":\"box\",\"quartilemethod\":\"exclusive\"},{\"alignmentgroup\":\"True\",\"hovertemplate\":\"variable=%{x}<br>value=%{y}<extra></extra>\",\"legendgroup\":\"wt\",\"marker\":{\"color\":\"#FFA15A\"},\"name\":\"wt\",\"notched\":false,\"offsetgroup\":\"wt\",\"orientation\":\"v\",\"showlegend\":true,\"x\":[\"wt\",\"wt\",\"wt\",\"wt\",\"wt\",\"wt\",\"wt\",\"wt\",\"wt\",\"wt\",\"wt\",\"wt\",\"wt\",\"wt\",\"wt\",\"wt\",\"wt\",\"wt\",\"wt\",\"wt\",\"wt\",\"wt\",\"wt\",\"wt\",\"wt\",\"wt\",\"wt\",\"wt\",\"wt\",\"wt\",\"wt\",\"wt\"],\"x0\":\" \",\"xaxis\":\"x\",\"y\":[-0.6201665807281305,-0.35538218878895383,-0.9316776300683393,-0.0023363328700518942,0.23129695413510418,0.2520643574244517,0.36628507551586104,-0.028295586981735503,-0.06983039356043008,0.23129695413510418,0.23129695413510418,0.8854701577495413,0.5324243018306389,0.5843428100540066,2.1107469518210267,2.291423360438347,2.209392117445425,-1.056282049804422,-1.6637285960178279,-1.4352871598350085,-0.7811139562205719,0.31436656729249335,0.22610510331276765,0.6466450199220483,0.6518368707443857,-1.3314501433882726,-1.1185842596724638,-1.7696423527934986,-0.04906299027108302,-0.46441105605802663,0.36628507551586104,-0.4540273544133535],\"y0\":\" \",\"yaxis\":\"y\",\"type\":\"box\",\"quartilemethod\":\"exclusive\"},{\"alignmentgroup\":\"True\",\"hovertemplate\":\"variable=%{x}<br>value=%{y}<extra></extra>\",\"legendgroup\":\"qsec\",\"marker\":{\"color\":\"#19d3f3\"},\"name\":\"qsec\",\"notched\":false,\"offsetgroup\":\"qsec\",\"orientation\":\"v\",\"showlegend\":true,\"x\":[\"qsec\",\"qsec\",\"qsec\",\"qsec\",\"qsec\",\"qsec\",\"qsec\",\"qsec\",\"qsec\",\"qsec\",\"qsec\",\"qsec\",\"qsec\",\"qsec\",\"qsec\",\"qsec\",\"qsec\",\"qsec\",\"qsec\",\"qsec\",\"qsec\",\"qsec\",\"qsec\",\"qsec\",\"qsec\",\"qsec\",\"qsec\",\"qsec\",\"qsec\",\"qsec\",\"qsec\",\"qsec\"],\"x0\":\" \",\"xaxis\":\"x\",\"y\":[-0.7896005773826658,-0.471201784702707,0.43282335879931766,0.9047358550928306,-0.471201784702707,1.3482198877542002,-1.1421135264211912,1.2231346477727882,2.871985538436861,0.2565668842800554,0.5977084478657264,-0.25514546109845004,-0.14143160656989162,0.08599610248722096,0.07462471703436534,-0.016346366588479704,-0.2437740756455923,0.9217929332721119,0.38165212426146733,1.16627772050851,1.228820340499216,-0.5564871755991242,-0.3120023883627282,-1.3865983136575883,-0.4541447065234236,0.5977084478657264,-0.6531439519483981,-0.5394300974198408,-1.9039963517625216,-1.335427079119738,-1.8471394244982435,0.427137666072892],\"y0\":\" \",\"yaxis\":\"y\",\"type\":\"box\",\"quartilemethod\":\"exclusive\"},{\"alignmentgroup\":\"True\",\"hovertemplate\":\"variable=%{x}<br>value=%{y}<extra></extra>\",\"legendgroup\":\"vs\",\"marker\":{\"color\":\"#FF6692\"},\"name\":\"vs\",\"notched\":false,\"offsetgroup\":\"vs\",\"orientation\":\"v\",\"showlegend\":true,\"x\":[\"vs\",\"vs\",\"vs\",\"vs\",\"vs\",\"vs\",\"vs\",\"vs\",\"vs\",\"vs\",\"vs\",\"vs\",\"vs\",\"vs\",\"vs\",\"vs\",\"vs\",\"vs\",\"vs\",\"vs\",\"vs\",\"vs\",\"vs\",\"vs\",\"vs\",\"vs\",\"vs\",\"vs\",\"vs\",\"vs\",\"vs\",\"vs\"],\"x0\":\" \",\"xaxis\":\"x\",\"y\":[-0.8819171036881969,-0.8819171036881969,1.1338934190276817,1.1338934190276817,-0.8819171036881969,1.1338934190276817,-0.8819171036881969,1.1338934190276817,1.1338934190276817,1.1338934190276817,1.1338934190276817,-0.8819171036881969,-0.8819171036881969,-0.8819171036881969,-0.8819171036881969,-0.8819171036881969,-0.8819171036881969,1.1338934190276817,1.1338934190276817,1.1338934190276817,1.1338934190276817,-0.8819171036881969,-0.8819171036881969,-0.8819171036881969,-0.8819171036881969,1.1338934190276817,-0.8819171036881969,1.1338934190276817,-0.8819171036881969,-0.8819171036881969,-0.8819171036881969,1.1338934190276817],\"y0\":\" \",\"yaxis\":\"y\",\"type\":\"box\",\"quartilemethod\":\"exclusive\"},{\"alignmentgroup\":\"True\",\"hovertemplate\":\"variable=%{x}<br>value=%{y}<extra></extra>\",\"legendgroup\":\"am\",\"marker\":{\"color\":\"#B6E880\"},\"name\":\"am\",\"notched\":false,\"offsetgroup\":\"am\",\"orientation\":\"v\",\"showlegend\":true,\"x\":[\"am\",\"am\",\"am\",\"am\",\"am\",\"am\",\"am\",\"am\",\"am\",\"am\",\"am\",\"am\",\"am\",\"am\",\"am\",\"am\",\"am\",\"am\",\"am\",\"am\",\"am\",\"am\",\"am\",\"am\",\"am\",\"am\",\"am\",\"am\",\"am\",\"am\",\"am\",\"am\"],\"x0\":\" \",\"xaxis\":\"x\",\"y\":[1.2089410496539776,1.2089410496539776,1.2089410496539776,-0.827170191868511,-0.827170191868511,-0.827170191868511,-0.827170191868511,-0.827170191868511,-0.827170191868511,-0.827170191868511,-0.827170191868511,-0.827170191868511,-0.827170191868511,-0.827170191868511,-0.827170191868511,-0.827170191868511,-0.827170191868511,1.2089410496539776,1.2089410496539776,1.2089410496539776,-0.827170191868511,-0.827170191868511,-0.827170191868511,-0.827170191868511,-0.827170191868511,1.2089410496539776,1.2089410496539776,1.2089410496539776,1.2089410496539776,1.2089410496539776,1.2089410496539776,1.2089410496539776],\"y0\":\" \",\"yaxis\":\"y\",\"type\":\"box\",\"quartilemethod\":\"exclusive\"},{\"alignmentgroup\":\"True\",\"hovertemplate\":\"variable=%{x}<br>value=%{y}<extra></extra>\",\"legendgroup\":\"gear\",\"marker\":{\"color\":\"#FF97FF\"},\"name\":\"gear\",\"notched\":false,\"offsetgroup\":\"gear\",\"orientation\":\"v\",\"showlegend\":true,\"x\":[\"gear\",\"gear\",\"gear\",\"gear\",\"gear\",\"gear\",\"gear\",\"gear\",\"gear\",\"gear\",\"gear\",\"gear\",\"gear\",\"gear\",\"gear\",\"gear\",\"gear\",\"gear\",\"gear\",\"gear\",\"gear\",\"gear\",\"gear\",\"gear\",\"gear\",\"gear\",\"gear\",\"gear\",\"gear\",\"gear\",\"gear\",\"gear\"],\"x0\":\" \",\"xaxis\":\"x\",\"y\":[0.43033148291193524,0.43033148291193524,0.43033148291193524,-0.9467292624062575,-0.9467292624062575,-0.9467292624062575,-0.9467292624062575,0.43033148291193524,0.43033148291193524,0.43033148291193524,0.43033148291193524,-0.9467292624062575,-0.9467292624062575,-0.9467292624062575,-0.9467292624062575,-0.9467292624062575,-0.9467292624062575,0.43033148291193524,0.43033148291193524,0.43033148291193524,-0.9467292624062575,-0.9467292624062575,-0.9467292624062575,-0.9467292624062575,-0.9467292624062575,0.43033148291193524,1.807392228230128,1.807392228230128,1.807392228230128,1.807392228230128,1.807392228230128,0.43033148291193524],\"y0\":\" \",\"yaxis\":\"y\",\"type\":\"box\",\"quartilemethod\":\"exclusive\"},{\"alignmentgroup\":\"True\",\"hovertemplate\":\"variable=%{x}<br>value=%{y}<extra></extra>\",\"legendgroup\":\"carb\",\"marker\":{\"color\":\"#FECB52\"},\"name\":\"carb\",\"notched\":false,\"offsetgroup\":\"carb\",\"orientation\":\"v\",\"showlegend\":true,\"x\":[\"carb\",\"carb\",\"carb\",\"carb\",\"carb\",\"carb\",\"carb\",\"carb\",\"carb\",\"carb\",\"carb\",\"carb\",\"carb\",\"carb\",\"carb\",\"carb\",\"carb\",\"carb\",\"carb\",\"carb\",\"carb\",\"carb\",\"carb\",\"carb\",\"carb\",\"carb\",\"carb\",\"carb\",\"carb\",\"carb\",\"carb\",\"carb\"],\"x0\":\" \",\"xaxis\":\"x\",\"y\":[0.746967077272214,0.746967077272214,-1.1401076442575895,-1.1401076442575895,-0.5110827370809884,-1.1401076442575895,0.746967077272214,-0.5110827370809884,-0.5110827370809884,0.746967077272214,0.746967077272214,0.1179421700956128,0.1179421700956128,0.1179421700956128,0.746967077272214,0.746967077272214,0.746967077272214,-1.1401076442575895,-0.5110827370809884,-1.1401076442575895,-1.1401076442575895,-0.5110827370809884,-0.5110827370809884,0.746967077272214,-0.5110827370809884,-1.1401076442575895,-0.5110827370809884,-0.5110827370809884,0.746967077272214,2.005016891625416,3.263066705978619,-0.5110827370809884],\"y0\":\" \",\"yaxis\":\"y\",\"type\":\"box\",\"quartilemethod\":\"exclusive\"}],                        {\"template\":{\"data\":{\"histogram2dcontour\":[{\"type\":\"histogram2dcontour\",\"colorbar\":{\"outlinewidth\":0,\"ticks\":\"\"},\"colorscale\":[[0.0,\"#0d0887\"],[0.1111111111111111,\"#46039f\"],[0.2222222222222222,\"#7201a8\"],[0.3333333333333333,\"#9c179e\"],[0.4444444444444444,\"#bd3786\"],[0.5555555555555556,\"#d8576b\"],[0.6666666666666666,\"#ed7953\"],[0.7777777777777778,\"#fb9f3a\"],[0.8888888888888888,\"#fdca26\"],[1.0,\"#f0f921\"]]}],\"choropleth\":[{\"type\":\"choropleth\",\"colorbar\":{\"outlinewidth\":0,\"ticks\":\"\"}}],\"histogram2d\":[{\"type\":\"histogram2d\",\"colorbar\":{\"outlinewidth\":0,\"ticks\":\"\"},\"colorscale\":[[0.0,\"#0d0887\"],[0.1111111111111111,\"#46039f\"],[0.2222222222222222,\"#7201a8\"],[0.3333333333333333,\"#9c179e\"],[0.4444444444444444,\"#bd3786\"],[0.5555555555555556,\"#d8576b\"],[0.6666666666666666,\"#ed7953\"],[0.7777777777777778,\"#fb9f3a\"],[0.8888888888888888,\"#fdca26\"],[1.0,\"#f0f921\"]]}],\"heatmap\":[{\"type\":\"heatmap\",\"colorbar\":{\"outlinewidth\":0,\"ticks\":\"\"},\"colorscale\":[[0.0,\"#0d0887\"],[0.1111111111111111,\"#46039f\"],[0.2222222222222222,\"#7201a8\"],[0.3333333333333333,\"#9c179e\"],[0.4444444444444444,\"#bd3786\"],[0.5555555555555556,\"#d8576b\"],[0.6666666666666666,\"#ed7953\"],[0.7777777777777778,\"#fb9f3a\"],[0.8888888888888888,\"#fdca26\"],[1.0,\"#f0f921\"]]}],\"heatmapgl\":[{\"type\":\"heatmapgl\",\"colorbar\":{\"outlinewidth\":0,\"ticks\":\"\"},\"colorscale\":[[0.0,\"#0d0887\"],[0.1111111111111111,\"#46039f\"],[0.2222222222222222,\"#7201a8\"],[0.3333333333333333,\"#9c179e\"],[0.4444444444444444,\"#bd3786\"],[0.5555555555555556,\"#d8576b\"],[0.6666666666666666,\"#ed7953\"],[0.7777777777777778,\"#fb9f3a\"],[0.8888888888888888,\"#fdca26\"],[1.0,\"#f0f921\"]]}],\"contourcarpet\":[{\"type\":\"contourcarpet\",\"colorbar\":{\"outlinewidth\":0,\"ticks\":\"\"}}],\"contour\":[{\"type\":\"contour\",\"colorbar\":{\"outlinewidth\":0,\"ticks\":\"\"},\"colorscale\":[[0.0,\"#0d0887\"],[0.1111111111111111,\"#46039f\"],[0.2222222222222222,\"#7201a8\"],[0.3333333333333333,\"#9c179e\"],[0.4444444444444444,\"#bd3786\"],[0.5555555555555556,\"#d8576b\"],[0.6666666666666666,\"#ed7953\"],[0.7777777777777778,\"#fb9f3a\"],[0.8888888888888888,\"#fdca26\"],[1.0,\"#f0f921\"]]}],\"surface\":[{\"type\":\"surface\",\"colorbar\":{\"outlinewidth\":0,\"ticks\":\"\"},\"colorscale\":[[0.0,\"#0d0887\"],[0.1111111111111111,\"#46039f\"],[0.2222222222222222,\"#7201a8\"],[0.3333333333333333,\"#9c179e\"],[0.4444444444444444,\"#bd3786\"],[0.5555555555555556,\"#d8576b\"],[0.6666666666666666,\"#ed7953\"],[0.7777777777777778,\"#fb9f3a\"],[0.8888888888888888,\"#fdca26\"],[1.0,\"#f0f921\"]]}],\"mesh3d\":[{\"type\":\"mesh3d\",\"colorbar\":{\"outlinewidth\":0,\"ticks\":\"\"}}],\"scatter\":[{\"fillpattern\":{\"fillmode\":\"overlay\",\"size\":10,\"solidity\":0.2},\"type\":\"scatter\"}],\"parcoords\":[{\"type\":\"parcoords\",\"line\":{\"colorbar\":{\"outlinewidth\":0,\"ticks\":\"\"}}}],\"scatterpolargl\":[{\"type\":\"scatterpolargl\",\"marker\":{\"colorbar\":{\"outlinewidth\":0,\"ticks\":\"\"}}}],\"bar\":[{\"error_x\":{\"color\":\"#2a3f5f\"},\"error_y\":{\"color\":\"#2a3f5f\"},\"marker\":{\"line\":{\"color\":\"#E5ECF6\",\"width\":0.5},\"pattern\":{\"fillmode\":\"overlay\",\"size\":10,\"solidity\":0.2}},\"type\":\"bar\"}],\"scattergeo\":[{\"type\":\"scattergeo\",\"marker\":{\"colorbar\":{\"outlinewidth\":0,\"ticks\":\"\"}}}],\"scatterpolar\":[{\"type\":\"scatterpolar\",\"marker\":{\"colorbar\":{\"outlinewidth\":0,\"ticks\":\"\"}}}],\"histogram\":[{\"marker\":{\"pattern\":{\"fillmode\":\"overlay\",\"size\":10,\"solidity\":0.2}},\"type\":\"histogram\"}],\"scattergl\":[{\"type\":\"scattergl\",\"marker\":{\"colorbar\":{\"outlinewidth\":0,\"ticks\":\"\"}}}],\"scatter3d\":[{\"type\":\"scatter3d\",\"line\":{\"colorbar\":{\"outlinewidth\":0,\"ticks\":\"\"}},\"marker\":{\"colorbar\":{\"outlinewidth\":0,\"ticks\":\"\"}}}],\"scattermapbox\":[{\"type\":\"scattermapbox\",\"marker\":{\"colorbar\":{\"outlinewidth\":0,\"ticks\":\"\"}}}],\"scatterternary\":[{\"type\":\"scatterternary\",\"marker\":{\"colorbar\":{\"outlinewidth\":0,\"ticks\":\"\"}}}],\"scattercarpet\":[{\"type\":\"scattercarpet\",\"marker\":{\"colorbar\":{\"outlinewidth\":0,\"ticks\":\"\"}}}],\"carpet\":[{\"aaxis\":{\"endlinecolor\":\"#2a3f5f\",\"gridcolor\":\"white\",\"linecolor\":\"white\",\"minorgridcolor\":\"white\",\"startlinecolor\":\"#2a3f5f\"},\"baxis\":{\"endlinecolor\":\"#2a3f5f\",\"gridcolor\":\"white\",\"linecolor\":\"white\",\"minorgridcolor\":\"white\",\"startlinecolor\":\"#2a3f5f\"},\"type\":\"carpet\"}],\"table\":[{\"cells\":{\"fill\":{\"color\":\"#EBF0F8\"},\"line\":{\"color\":\"white\"}},\"header\":{\"fill\":{\"color\":\"#C8D4E3\"},\"line\":{\"color\":\"white\"}},\"type\":\"table\"}],\"barpolar\":[{\"marker\":{\"line\":{\"color\":\"#E5ECF6\",\"width\":0.5},\"pattern\":{\"fillmode\":\"overlay\",\"size\":10,\"solidity\":0.2}},\"type\":\"barpolar\"}],\"pie\":[{\"automargin\":true,\"type\":\"pie\"}]},\"layout\":{\"autotypenumbers\":\"strict\",\"colorway\":[\"#636efa\",\"#EF553B\",\"#00cc96\",\"#ab63fa\",\"#FFA15A\",\"#19d3f3\",\"#FF6692\",\"#B6E880\",\"#FF97FF\",\"#FECB52\"],\"font\":{\"color\":\"#2a3f5f\"},\"hovermode\":\"closest\",\"hoverlabel\":{\"align\":\"left\"},\"paper_bgcolor\":\"white\",\"plot_bgcolor\":\"#E5ECF6\",\"polar\":{\"bgcolor\":\"#E5ECF6\",\"angularaxis\":{\"gridcolor\":\"white\",\"linecolor\":\"white\",\"ticks\":\"\"},\"radialaxis\":{\"gridcolor\":\"white\",\"linecolor\":\"white\",\"ticks\":\"\"}},\"ternary\":{\"bgcolor\":\"#E5ECF6\",\"aaxis\":{\"gridcolor\":\"white\",\"linecolor\":\"white\",\"ticks\":\"\"},\"baxis\":{\"gridcolor\":\"white\",\"linecolor\":\"white\",\"ticks\":\"\"},\"caxis\":{\"gridcolor\":\"white\",\"linecolor\":\"white\",\"ticks\":\"\"}},\"coloraxis\":{\"colorbar\":{\"outlinewidth\":0,\"ticks\":\"\"}},\"colorscale\":{\"sequential\":[[0.0,\"#0d0887\"],[0.1111111111111111,\"#46039f\"],[0.2222222222222222,\"#7201a8\"],[0.3333333333333333,\"#9c179e\"],[0.4444444444444444,\"#bd3786\"],[0.5555555555555556,\"#d8576b\"],[0.6666666666666666,\"#ed7953\"],[0.7777777777777778,\"#fb9f3a\"],[0.8888888888888888,\"#fdca26\"],[1.0,\"#f0f921\"]],\"sequentialminus\":[[0.0,\"#0d0887\"],[0.1111111111111111,\"#46039f\"],[0.2222222222222222,\"#7201a8\"],[0.3333333333333333,\"#9c179e\"],[0.4444444444444444,\"#bd3786\"],[0.5555555555555556,\"#d8576b\"],[0.6666666666666666,\"#ed7953\"],[0.7777777777777778,\"#fb9f3a\"],[0.8888888888888888,\"#fdca26\"],[1.0,\"#f0f921\"]],\"diverging\":[[0,\"#8e0152\"],[0.1,\"#c51b7d\"],[0.2,\"#de77ae\"],[0.3,\"#f1b6da\"],[0.4,\"#fde0ef\"],[0.5,\"#f7f7f7\"],[0.6,\"#e6f5d0\"],[0.7,\"#b8e186\"],[0.8,\"#7fbc41\"],[0.9,\"#4d9221\"],[1,\"#276419\"]]},\"xaxis\":{\"gridcolor\":\"white\",\"linecolor\":\"white\",\"ticks\":\"\",\"title\":{\"standoff\":15},\"zerolinecolor\":\"white\",\"automargin\":true,\"zerolinewidth\":2},\"yaxis\":{\"gridcolor\":\"white\",\"linecolor\":\"white\",\"ticks\":\"\",\"title\":{\"standoff\":15},\"zerolinecolor\":\"white\",\"automargin\":true,\"zerolinewidth\":2},\"scene\":{\"xaxis\":{\"backgroundcolor\":\"#E5ECF6\",\"gridcolor\":\"white\",\"linecolor\":\"white\",\"showbackground\":true,\"ticks\":\"\",\"zerolinecolor\":\"white\",\"gridwidth\":2},\"yaxis\":{\"backgroundcolor\":\"#E5ECF6\",\"gridcolor\":\"white\",\"linecolor\":\"white\",\"showbackground\":true,\"ticks\":\"\",\"zerolinecolor\":\"white\",\"gridwidth\":2},\"zaxis\":{\"backgroundcolor\":\"#E5ECF6\",\"gridcolor\":\"white\",\"linecolor\":\"white\",\"showbackground\":true,\"ticks\":\"\",\"zerolinecolor\":\"white\",\"gridwidth\":2}},\"shapedefaults\":{\"line\":{\"color\":\"#2a3f5f\"}},\"annotationdefaults\":{\"arrowcolor\":\"#2a3f5f\",\"arrowhead\":0,\"arrowwidth\":1},\"geo\":{\"bgcolor\":\"white\",\"landcolor\":\"#E5ECF6\",\"subunitcolor\":\"white\",\"showland\":true,\"showlakes\":true,\"lakecolor\":\"white\"},\"title\":{\"x\":0.05},\"mapbox\":{\"style\":\"light\"}}},\"xaxis\":{\"anchor\":\"y\",\"domain\":[0.0,1.0],\"title\":{\"text\":\"variable\"},\"categoryorder\":\"array\",\"categoryarray\":[\"cyl\",\"disp\",\"hp\",\"drat\",\"wt\",\"qsec\",\"vs\",\"am\",\"gear\",\"carb\"]},\"yaxis\":{\"anchor\":\"x\",\"domain\":[0.0,1.0],\"title\":{\"text\":\"value\"}},\"legend\":{\"title\":{\"text\":\"variable\"},\"tracegroupgap\":0},\"margin\":{\"t\":60},\"boxmode\":\"overlay\"},                        {\"responsive\": true}                    ).then(function(){\n",
       "                            \n",
       "var gd = document.getElementById('bdaacdb3-f8d5-4138-b0d4-8f61b5fb0d7f');\n",
       "var x = new MutationObserver(function (mutations, observer) {{\n",
       "        var display = window.getComputedStyle(gd).display;\n",
       "        if (!display || display === 'none') {{\n",
       "            console.log([gd, 'removed!']);\n",
       "            Plotly.purge(gd);\n",
       "            observer.disconnect();\n",
       "        }}\n",
       "}});\n",
       "\n",
       "// Listen for the removal of the full notebook cells\n",
       "var notebookContainer = gd.closest('#notebook-container');\n",
       "if (notebookContainer) {{\n",
       "    x.observe(notebookContainer, {childList: true});\n",
       "}}\n",
       "\n",
       "// Listen for the clearing of the current output cell\n",
       "var outputEl = gd.closest('.output');\n",
       "if (outputEl) {{\n",
       "    x.observe(outputEl, {childList: true});\n",
       "}}\n",
       "\n",
       "                        })                };                });            </script>        </div>"
      ]
     },
     "metadata": {},
     "output_type": "display_data"
    }
   ],
   "source": [
    "\n",
    "# Now, we can see clearly that everything is pretty much scaled relative to everything else, so 'disp' and 'hp' no \n",
    "# longer dominate the other features in the dataframe.\n",
    "\n",
    "import plotly.express as px\n",
    "\n",
    "fig = px.box(df_stacked, x=\"variable\", y=\"value\", color=\"variable\")\n",
    "fig.update_traces(quartilemethod=\"exclusive\") # or \"inclusive\", or \"linear\" by default\n",
    "fig.show()\n"
   ]
  },
  {
   "cell_type": "code",
   "execution_count": 44,
   "metadata": {},
   "outputs": [
    {
     "data": {
      "image/jpeg": "[encoded data removed]",
      "text/plain": [
       "<IPython.core.display.Image object>"
      ]
     },
     "execution_count": 44,
     "metadata": {
      "image/jpeg": {
       "height": 800,
       "width": 800
      }
     },
     "output_type": "execute_result"
    }
   ],
   "source": [
    "\n",
    "from IPython.display import Image\n",
    "from IPython.core.display import HTML \n",
    "PATH = 'C:\\\\Users\\\\'\n",
    "Image(filename = PATH + \"2.JPG\", width=800, height=800)\n"
   ]
  },
  {
   "cell_type": "code",
   "execution_count": null,
   "metadata": {},
   "outputs": [],
   "source": [
    "\n",
    "# Normalization...\n",
    "# It is the process of rescaling values between [0, 1].\n",
    "# Why normalization?\n",
    "\n",
    "# Normalization makes training less sensitive to the scale of features, so we can better solve for coefficients. \n",
    "# Outliers are gone, but still remain visible within the normalized data.\n",
    "# The use of a normalization method will improve analysis for some models.\n",
    "# Normalizing will ensure that a convergence problem does not have a massive variance, making optimization feasible.\n",
    "\n",
    "# Standardization...\n",
    "# It is the process of rescaling the features so that they’ll have the properties of a Gaussian distribution \n",
    "# with μ=0 and σ=1.\n",
    "# Why standardization?\n",
    "\n",
    "# Compare features that have different units or scales.\n",
    "# Standardizing tends to make the training process well behaved because the numerical condition of the \n",
    "# optimization problems is improved.\n",
    "\n",
    "# Differences...\n",
    "# Sometimes, when normalization does not work, standardization might do the work.\n",
    "# When using standardization, your new data aren’t bounded (unlike normalization).\n",
    "    "
   ]
  }
 ],
 "metadata": {
  "kernelspec": {
   "display_name": "Python 3 (ipykernel)",
   "language": "python",
   "name": "python3"
  },
  "language_info": {
   "codemirror_mode": {
    "name": "ipython",
    "version": 3
   },
   "file_extension": ".py",
   "mimetype": "text/x-python",
   "name": "python",
   "nbconvert_exporter": "python",
   "pygments_lexer": "ipython3",
   "version": "3.10.9"
  }
 },
 "nbformat": 4,
 "nbformat_minor": 4
}
