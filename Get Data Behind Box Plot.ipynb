{
 "cells": [
  {
   "cell_type": "code",
   "execution_count": null,
   "id": "d5783692",
   "metadata": {},
   "outputs": [],
   "source": [
    "\n",
    "# A box plot, also known as a box-and-whisker plot, is a type of graphical representation that displays the distribution \n",
    "# of a dataset along with key statistical measures. It provides a concise summary of the dataset's central tendency, \n",
    "# variability, and potential outliers.\n",
    "\n",
    "# Here are the components of a box plot:\n",
    "\n",
    "#  Box:\n",
    "#  The box represents the interquartile range (IQR), which is the middle 50% of the data.\n",
    "#  The bottom edge of the box corresponds to the first quartile (Q1), which is the value below which 25% of the data falls.\n",
    "#  The top edge of the box corresponds to the third quartile (Q3), which is the value below which 75% of the data falls.\n",
    "#  The length of the box (Q3 - Q1) indicates the spread or variability of the middle 50% of the data.\n",
    "\n",
    "#  Median:\n",
    "#  The line inside the box represents the median, which is the middle value of the dataset when it is ordered from smallest \n",
    "#  to largest.\n",
    "#  The median divides the dataset into two halves, with 50% of the data falling below it and 50% above it.\n",
    "\n",
    "#  Whiskers:\n",
    "#  The whiskers extend from the edges of the box to the minimum and maximum values within a specified range \n",
    "#  (usually 1.5 times the IQR).\n",
    "#  They represent the range of the dataset excluding potential outliers.\n",
    "\n",
    "#  Outliers:\n",
    "#  Individual data points that fall outside the whiskers are considered outliers and are plotted individually as points.\n",
    "#  Outliers are typically defined as values that are significantly higher or lower than the rest of the data.\n",
    "        "
   ]
  },
  {
   "cell_type": "code",
   "execution_count": 12,
   "id": "4719bc67",
   "metadata": {},
   "outputs": [
    {
     "data": {
      "text/html": [
       "<div>\n",
       "<style scoped>\n",
       "    .dataframe tbody tr th:only-of-type {\n",
       "        vertical-align: middle;\n",
       "    }\n",
       "\n",
       "    .dataframe tbody tr th {\n",
       "        vertical-align: top;\n",
       "    }\n",
       "\n",
       "    .dataframe thead th {\n",
       "        text-align: right;\n",
       "    }\n",
       "</style>\n",
       "<table border=\"1\" class=\"dataframe\">\n",
       "  <thead>\n",
       "    <tr style=\"text-align: right;\">\n",
       "      <th></th>\n",
       "      <th>rownames</th>\n",
       "      <th>mpg</th>\n",
       "      <th>cyl</th>\n",
       "      <th>disp</th>\n",
       "      <th>hp</th>\n",
       "      <th>drat</th>\n",
       "      <th>wt</th>\n",
       "      <th>qsec</th>\n",
       "      <th>vs</th>\n",
       "      <th>am</th>\n",
       "      <th>gear</th>\n",
       "      <th>carb</th>\n",
       "    </tr>\n",
       "  </thead>\n",
       "  <tbody>\n",
       "    <tr>\n",
       "      <th>0</th>\n",
       "      <td>Mazda RX4</td>\n",
       "      <td>21.0</td>\n",
       "      <td>6</td>\n",
       "      <td>160.0</td>\n",
       "      <td>110</td>\n",
       "      <td>3.90</td>\n",
       "      <td>2.620</td>\n",
       "      <td>16.46</td>\n",
       "      <td>0</td>\n",
       "      <td>1</td>\n",
       "      <td>4</td>\n",
       "      <td>4</td>\n",
       "    </tr>\n",
       "    <tr>\n",
       "      <th>1</th>\n",
       "      <td>Mazda RX4 Wag</td>\n",
       "      <td>21.0</td>\n",
       "      <td>6</td>\n",
       "      <td>160.0</td>\n",
       "      <td>110</td>\n",
       "      <td>3.90</td>\n",
       "      <td>2.875</td>\n",
       "      <td>17.02</td>\n",
       "      <td>0</td>\n",
       "      <td>1</td>\n",
       "      <td>4</td>\n",
       "      <td>4</td>\n",
       "    </tr>\n",
       "    <tr>\n",
       "      <th>2</th>\n",
       "      <td>Datsun 710</td>\n",
       "      <td>22.8</td>\n",
       "      <td>4</td>\n",
       "      <td>108.0</td>\n",
       "      <td>93</td>\n",
       "      <td>3.85</td>\n",
       "      <td>2.320</td>\n",
       "      <td>18.61</td>\n",
       "      <td>1</td>\n",
       "      <td>1</td>\n",
       "      <td>4</td>\n",
       "      <td>1</td>\n",
       "    </tr>\n",
       "    <tr>\n",
       "      <th>3</th>\n",
       "      <td>Hornet 4 Drive</td>\n",
       "      <td>21.4</td>\n",
       "      <td>6</td>\n",
       "      <td>258.0</td>\n",
       "      <td>110</td>\n",
       "      <td>3.08</td>\n",
       "      <td>3.215</td>\n",
       "      <td>19.44</td>\n",
       "      <td>1</td>\n",
       "      <td>0</td>\n",
       "      <td>3</td>\n",
       "      <td>1</td>\n",
       "    </tr>\n",
       "    <tr>\n",
       "      <th>4</th>\n",
       "      <td>Hornet Sportabout</td>\n",
       "      <td>18.7</td>\n",
       "      <td>8</td>\n",
       "      <td>360.0</td>\n",
       "      <td>175</td>\n",
       "      <td>3.15</td>\n",
       "      <td>3.440</td>\n",
       "      <td>17.02</td>\n",
       "      <td>0</td>\n",
       "      <td>0</td>\n",
       "      <td>3</td>\n",
       "      <td>2</td>\n",
       "    </tr>\n",
       "  </tbody>\n",
       "</table>\n",
       "</div>"
      ],
      "text/plain": [
       "            rownames   mpg  cyl   disp   hp  drat     wt   qsec  vs  am  gear  \\\n",
       "0          Mazda RX4  21.0    6  160.0  110  3.90  2.620  16.46   0   1     4   \n",
       "1      Mazda RX4 Wag  21.0    6  160.0  110  3.90  2.875  17.02   0   1     4   \n",
       "2         Datsun 710  22.8    4  108.0   93  3.85  2.320  18.61   1   1     4   \n",
       "3     Hornet 4 Drive  21.4    6  258.0  110  3.08  3.215  19.44   1   0     3   \n",
       "4  Hornet Sportabout  18.7    8  360.0  175  3.15  3.440  17.02   0   0     3   \n",
       "\n",
       "   carb  \n",
       "0     4  \n",
       "1     4  \n",
       "2     1  \n",
       "3     1  \n",
       "4     2  "
      ]
     },
     "execution_count": 12,
     "metadata": {},
     "output_type": "execute_result"
    }
   ],
   "source": [
    "\n",
    "import numpy as np\n",
    "import pandas as pd\n",
    "import matplotlib.pyplot as plt\n",
    "import seaborn as sns\n",
    "from pylab import rcParams\n",
    "import seaborn as sb\n",
    "import scipy\n",
    "from scipy.stats import spearmanr\n",
    "from sklearn import datasets\n",
    "import statsmodels.api as sm\n",
    "import numpy as np\n",
    "import pandas as pd\n",
    "\n",
    "mtcars = sm.datasets.get_rdataset(\"mtcars\", \"datasets\", cache=True).data\n",
    "df = pd.DataFrame(mtcars)\n",
    "\n",
    "df = df.reset_index()\n",
    "\n",
    "df.head()\n"
   ]
  },
  {
   "cell_type": "code",
   "execution_count": 18,
   "id": "9936204d",
   "metadata": {},
   "outputs": [
    {
     "name": "stdout",
     "output_type": "stream",
     "text": [
      "            rownames variable  value\n",
      "0          Mazda RX4      mpg   21.0\n",
      "1      Mazda RX4 Wag      mpg   21.0\n",
      "2         Datsun 710      mpg   22.8\n",
      "3     Hornet 4 Drive      mpg   21.4\n",
      "4  Hornet Sportabout      mpg   18.7\n",
      "5            Valiant      mpg   18.1\n",
      "6         Duster 360      mpg   14.3\n",
      "7          Merc 240D      mpg   24.4\n",
      "8           Merc 230      mpg   22.8\n",
      "9           Merc 280      mpg   19.2\n"
     ]
    }
   ],
   "source": [
    "\n",
    "df_melt = pd.melt(df, id_vars=['rownames'], value_vars=['mpg','cyl','disp','hp','drat','wt','qsec','vs','am','gear','carb'])\n",
    "print(df_melt.head(10))\n"
   ]
  },
  {
   "cell_type": "code",
   "execution_count": 28,
   "id": "2b823411",
   "metadata": {},
   "outputs": [
    {
     "data": {
      "application/vnd.plotly.v1+json": {
       "config": {
        "plotlyServerURL": "https://plot.ly"
       },
       "data": [
        {
         "alignmentgroup": "True",
         "hovertemplate": "variable=%{x}<br>value=%{y}<extra></extra>",
         "legendgroup": "",
         "marker": {
          "color": "#636efa"
         },
         "name": "",
         "notched": false,
         "offsetgroup": "",
         "orientation": "v",
         "quartilemethod": "inclusive",
         "showlegend": false,
         "type": "box",
         "x": [
          "mpg",
          "mpg",
          "mpg",
          "mpg",
          "mpg",
          "mpg",
          "mpg",
          "mpg",
          "mpg",
          "mpg",
          "mpg",
          "mpg",
          "mpg",
          "mpg",
          "mpg",
          "mpg",
          "mpg",
          "mpg",
          "mpg",
          "mpg",
          "mpg",
          "mpg",
          "mpg",
          "mpg",
          "mpg",
          "mpg",
          "mpg",
          "mpg",
          "mpg",
          "mpg",
          "mpg",
          "mpg",
          "cyl",
          "cyl",
          "cyl",
          "cyl",
          "cyl",
          "cyl",
          "cyl",
          "cyl",
          "cyl",
          "cyl",
          "cyl",
          "cyl",
          "cyl",
          "cyl",
          "cyl",
          "cyl",
          "cyl",
          "cyl",
          "cyl",
          "cyl",
          "cyl",
          "cyl",
          "cyl",
          "cyl",
          "cyl",
          "cyl",
          "cyl",
          "cyl",
          "cyl",
          "cyl",
          "cyl",
          "cyl",
          "disp",
          "disp",
          "disp",
          "disp",
          "disp",
          "disp",
          "disp",
          "disp",
          "disp",
          "disp",
          "disp",
          "disp",
          "disp",
          "disp",
          "disp",
          "disp",
          "disp",
          "disp",
          "disp",
          "disp",
          "disp",
          "disp",
          "disp",
          "disp",
          "disp",
          "disp",
          "disp",
          "disp",
          "disp",
          "disp",
          "disp",
          "disp",
          "hp",
          "hp",
          "hp",
          "hp",
          "hp",
          "hp",
          "hp",
          "hp",
          "hp",
          "hp",
          "hp",
          "hp",
          "hp",
          "hp",
          "hp",
          "hp",
          "hp",
          "hp",
          "hp",
          "hp",
          "hp",
          "hp",
          "hp",
          "hp",
          "hp",
          "hp",
          "hp",
          "hp",
          "hp",
          "hp",
          "hp",
          "hp",
          "drat",
          "drat",
          "drat",
          "drat",
          "drat",
          "drat",
          "drat",
          "drat",
          "drat",
          "drat",
          "drat",
          "drat",
          "drat",
          "drat",
          "drat",
          "drat",
          "drat",
          "drat",
          "drat",
          "drat",
          "drat",
          "drat",
          "drat",
          "drat",
          "drat",
          "drat",
          "drat",
          "drat",
          "drat",
          "drat",
          "drat",
          "drat",
          "wt",
          "wt",
          "wt",
          "wt",
          "wt",
          "wt",
          "wt",
          "wt",
          "wt",
          "wt",
          "wt",
          "wt",
          "wt",
          "wt",
          "wt",
          "wt",
          "wt",
          "wt",
          "wt",
          "wt",
          "wt",
          "wt",
          "wt",
          "wt",
          "wt",
          "wt",
          "wt",
          "wt",
          "wt",
          "wt",
          "wt",
          "wt",
          "qsec",
          "qsec",
          "qsec",
          "qsec",
          "qsec",
          "qsec",
          "qsec",
          "qsec",
          "qsec",
          "qsec",
          "qsec",
          "qsec",
          "qsec",
          "qsec",
          "qsec",
          "qsec",
          "qsec",
          "qsec",
          "qsec",
          "qsec",
          "qsec",
          "qsec",
          "qsec",
          "qsec",
          "qsec",
          "qsec",
          "qsec",
          "qsec",
          "qsec",
          "qsec",
          "qsec",
          "qsec",
          "vs",
          "vs",
          "vs",
          "vs",
          "vs",
          "vs",
          "vs",
          "vs",
          "vs",
          "vs",
          "vs",
          "vs",
          "vs",
          "vs",
          "vs",
          "vs",
          "vs",
          "vs",
          "vs",
          "vs",
          "vs",
          "vs",
          "vs",
          "vs",
          "vs",
          "vs",
          "vs",
          "vs",
          "vs",
          "vs",
          "vs",
          "vs",
          "am",
          "am",
          "am",
          "am",
          "am",
          "am",
          "am",
          "am",
          "am",
          "am",
          "am",
          "am",
          "am",
          "am",
          "am",
          "am",
          "am",
          "am",
          "am",
          "am",
          "am",
          "am",
          "am",
          "am",
          "am",
          "am",
          "am",
          "am",
          "am",
          "am",
          "am",
          "am",
          "gear",
          "gear",
          "gear",
          "gear",
          "gear",
          "gear",
          "gear",
          "gear",
          "gear",
          "gear",
          "gear",
          "gear",
          "gear",
          "gear",
          "gear",
          "gear",
          "gear",
          "gear",
          "gear",
          "gear",
          "gear",
          "gear",
          "gear",
          "gear",
          "gear",
          "gear",
          "gear",
          "gear",
          "gear",
          "gear",
          "gear",
          "gear",
          "carb",
          "carb",
          "carb",
          "carb",
          "carb",
          "carb",
          "carb",
          "carb",
          "carb",
          "carb",
          "carb",
          "carb",
          "carb",
          "carb",
          "carb",
          "carb",
          "carb",
          "carb",
          "carb",
          "carb",
          "carb",
          "carb",
          "carb",
          "carb",
          "carb",
          "carb",
          "carb",
          "carb",
          "carb",
          "carb",
          "carb",
          "carb"
         ],
         "x0": " ",
         "xaxis": "x",
         "y": [
          21,
          21,
          22.8,
          21.4,
          18.7,
          18.1,
          14.3,
          24.4,
          22.8,
          19.2,
          17.8,
          16.4,
          17.3,
          15.2,
          10.4,
          10.4,
          14.7,
          32.4,
          30.4,
          33.9,
          21.5,
          15.5,
          15.2,
          13.3,
          19.2,
          27.3,
          26,
          30.4,
          15.8,
          19.7,
          15,
          21.4,
          6,
          6,
          4,
          6,
          8,
          6,
          8,
          4,
          4,
          6,
          6,
          8,
          8,
          8,
          8,
          8,
          8,
          4,
          4,
          4,
          4,
          8,
          8,
          8,
          8,
          4,
          4,
          4,
          8,
          6,
          8,
          4,
          160,
          160,
          108,
          258,
          360,
          225,
          360,
          146.7,
          140.8,
          167.6,
          167.6,
          275.8,
          275.8,
          275.8,
          472,
          460,
          440,
          78.7,
          75.7,
          71.1,
          120.1,
          318,
          304,
          350,
          400,
          79,
          120.3,
          95.1,
          351,
          145,
          301,
          121,
          110,
          110,
          93,
          110,
          175,
          105,
          245,
          62,
          95,
          123,
          123,
          180,
          180,
          180,
          205,
          215,
          230,
          66,
          52,
          65,
          97,
          150,
          150,
          245,
          175,
          66,
          91,
          113,
          264,
          175,
          335,
          109,
          3.9,
          3.9,
          3.85,
          3.08,
          3.15,
          2.76,
          3.21,
          3.69,
          3.92,
          3.92,
          3.92,
          3.07,
          3.07,
          3.07,
          2.93,
          3,
          3.23,
          4.08,
          4.93,
          4.22,
          3.7,
          2.76,
          3.15,
          3.73,
          3.08,
          4.08,
          4.43,
          3.77,
          4.22,
          3.62,
          3.54,
          4.11,
          2.62,
          2.875,
          2.32,
          3.215,
          3.44,
          3.46,
          3.57,
          3.19,
          3.15,
          3.44,
          3.44,
          4.07,
          3.73,
          3.78,
          5.25,
          5.424,
          5.345,
          2.2,
          1.615,
          1.835,
          2.465,
          3.52,
          3.435,
          3.84,
          3.845,
          1.935,
          2.14,
          1.513,
          3.17,
          2.77,
          3.57,
          2.78,
          16.46,
          17.02,
          18.61,
          19.44,
          17.02,
          20.22,
          15.84,
          20,
          22.9,
          18.3,
          18.9,
          17.4,
          17.6,
          18,
          17.98,
          17.82,
          17.42,
          19.47,
          18.52,
          19.9,
          20.01,
          16.87,
          17.3,
          15.41,
          17.05,
          18.9,
          16.7,
          16.9,
          14.5,
          15.5,
          14.6,
          18.6,
          0,
          0,
          1,
          1,
          0,
          1,
          0,
          1,
          1,
          1,
          1,
          0,
          0,
          0,
          0,
          0,
          0,
          1,
          1,
          1,
          1,
          0,
          0,
          0,
          0,
          1,
          0,
          1,
          0,
          0,
          0,
          1,
          1,
          1,
          1,
          0,
          0,
          0,
          0,
          0,
          0,
          0,
          0,
          0,
          0,
          0,
          0,
          0,
          0,
          1,
          1,
          1,
          0,
          0,
          0,
          0,
          0,
          1,
          1,
          1,
          1,
          1,
          1,
          1,
          4,
          4,
          4,
          3,
          3,
          3,
          3,
          4,
          4,
          4,
          4,
          3,
          3,
          3,
          3,
          3,
          3,
          4,
          4,
          4,
          3,
          3,
          3,
          3,
          3,
          4,
          5,
          5,
          5,
          5,
          5,
          4,
          4,
          4,
          1,
          1,
          2,
          1,
          4,
          2,
          2,
          4,
          4,
          3,
          3,
          3,
          4,
          4,
          4,
          1,
          2,
          1,
          1,
          2,
          2,
          4,
          2,
          1,
          2,
          2,
          4,
          6,
          8,
          2
         ],
         "y0": " ",
         "yaxis": "y"
        }
       ],
       "layout": {
        "boxmode": "group",
        "legend": {
         "tracegroupgap": 0
        },
        "margin": {
         "t": 60
        },
        "template": {
         "data": {
          "bar": [
           {
            "error_x": {
             "color": "#2a3f5f"
            },
            "error_y": {
             "color": "#2a3f5f"
            },
            "marker": {
             "line": {
              "color": "#E5ECF6",
              "width": 0.5
             },
             "pattern": {
              "fillmode": "overlay",
              "size": 10,
              "solidity": 0.2
             }
            },
            "type": "bar"
           }
          ],
          "barpolar": [
           {
            "marker": {
             "line": {
              "color": "#E5ECF6",
              "width": 0.5
             },
             "pattern": {
              "fillmode": "overlay",
              "size": 10,
              "solidity": 0.2
             }
            },
            "type": "barpolar"
           }
          ],
          "carpet": [
           {
            "aaxis": {
             "endlinecolor": "#2a3f5f",
             "gridcolor": "white",
             "linecolor": "white",
             "minorgridcolor": "white",
             "startlinecolor": "#2a3f5f"
            },
            "baxis": {
             "endlinecolor": "#2a3f5f",
             "gridcolor": "white",
             "linecolor": "white",
             "minorgridcolor": "white",
             "startlinecolor": "#2a3f5f"
            },
            "type": "carpet"
           }
          ],
          "choropleth": [
           {
            "colorbar": {
             "outlinewidth": 0,
             "ticks": ""
            },
            "type": "choropleth"
           }
          ],
          "contour": [
           {
            "colorbar": {
             "outlinewidth": 0,
             "ticks": ""
            },
            "colorscale": [
             [
              0,
              "#0d0887"
             ],
             [
              0.1111111111111111,
              "#46039f"
             ],
             [
              0.2222222222222222,
              "#7201a8"
             ],
             [
              0.3333333333333333,
              "#9c179e"
             ],
             [
              0.4444444444444444,
              "#bd3786"
             ],
             [
              0.5555555555555556,
              "#d8576b"
             ],
             [
              0.6666666666666666,
              "#ed7953"
             ],
             [
              0.7777777777777778,
              "#fb9f3a"
             ],
             [
              0.8888888888888888,
              "#fdca26"
             ],
             [
              1,
              "#f0f921"
             ]
            ],
            "type": "contour"
           }
          ],
          "contourcarpet": [
           {
            "colorbar": {
             "outlinewidth": 0,
             "ticks": ""
            },
            "type": "contourcarpet"
           }
          ],
          "heatmap": [
           {
            "colorbar": {
             "outlinewidth": 0,
             "ticks": ""
            },
            "colorscale": [
             [
              0,
              "#0d0887"
             ],
             [
              0.1111111111111111,
              "#46039f"
             ],
             [
              0.2222222222222222,
              "#7201a8"
             ],
             [
              0.3333333333333333,
              "#9c179e"
             ],
             [
              0.4444444444444444,
              "#bd3786"
             ],
             [
              0.5555555555555556,
              "#d8576b"
             ],
             [
              0.6666666666666666,
              "#ed7953"
             ],
             [
              0.7777777777777778,
              "#fb9f3a"
             ],
             [
              0.8888888888888888,
              "#fdca26"
             ],
             [
              1,
              "#f0f921"
             ]
            ],
            "type": "heatmap"
           }
          ],
          "heatmapgl": [
           {
            "colorbar": {
             "outlinewidth": 0,
             "ticks": ""
            },
            "colorscale": [
             [
              0,
              "#0d0887"
             ],
             [
              0.1111111111111111,
              "#46039f"
             ],
             [
              0.2222222222222222,
              "#7201a8"
             ],
             [
              0.3333333333333333,
              "#9c179e"
             ],
             [
              0.4444444444444444,
              "#bd3786"
             ],
             [
              0.5555555555555556,
              "#d8576b"
             ],
             [
              0.6666666666666666,
              "#ed7953"
             ],
             [
              0.7777777777777778,
              "#fb9f3a"
             ],
             [
              0.8888888888888888,
              "#fdca26"
             ],
             [
              1,
              "#f0f921"
             ]
            ],
            "type": "heatmapgl"
           }
          ],
          "histogram": [
           {
            "marker": {
             "pattern": {
              "fillmode": "overlay",
              "size": 10,
              "solidity": 0.2
             }
            },
            "type": "histogram"
           }
          ],
          "histogram2d": [
           {
            "colorbar": {
             "outlinewidth": 0,
             "ticks": ""
            },
            "colorscale": [
             [
              0,
              "#0d0887"
             ],
             [
              0.1111111111111111,
              "#46039f"
             ],
             [
              0.2222222222222222,
              "#7201a8"
             ],
             [
              0.3333333333333333,
              "#9c179e"
             ],
             [
              0.4444444444444444,
              "#bd3786"
             ],
             [
              0.5555555555555556,
              "#d8576b"
             ],
             [
              0.6666666666666666,
              "#ed7953"
             ],
             [
              0.7777777777777778,
              "#fb9f3a"
             ],
             [
              0.8888888888888888,
              "#fdca26"
             ],
             [
              1,
              "#f0f921"
             ]
            ],
            "type": "histogram2d"
           }
          ],
          "histogram2dcontour": [
           {
            "colorbar": {
             "outlinewidth": 0,
             "ticks": ""
            },
            "colorscale": [
             [
              0,
              "#0d0887"
             ],
             [
              0.1111111111111111,
              "#46039f"
             ],
             [
              0.2222222222222222,
              "#7201a8"
             ],
             [
              0.3333333333333333,
              "#9c179e"
             ],
             [
              0.4444444444444444,
              "#bd3786"
             ],
             [
              0.5555555555555556,
              "#d8576b"
             ],
             [
              0.6666666666666666,
              "#ed7953"
             ],
             [
              0.7777777777777778,
              "#fb9f3a"
             ],
             [
              0.8888888888888888,
              "#fdca26"
             ],
             [
              1,
              "#f0f921"
             ]
            ],
            "type": "histogram2dcontour"
           }
          ],
          "mesh3d": [
           {
            "colorbar": {
             "outlinewidth": 0,
             "ticks": ""
            },
            "type": "mesh3d"
           }
          ],
          "parcoords": [
           {
            "line": {
             "colorbar": {
              "outlinewidth": 0,
              "ticks": ""
             }
            },
            "type": "parcoords"
           }
          ],
          "pie": [
           {
            "automargin": true,
            "type": "pie"
           }
          ],
          "scatter": [
           {
            "fillpattern": {
             "fillmode": "overlay",
             "size": 10,
             "solidity": 0.2
            },
            "type": "scatter"
           }
          ],
          "scatter3d": [
           {
            "line": {
             "colorbar": {
              "outlinewidth": 0,
              "ticks": ""
             }
            },
            "marker": {
             "colorbar": {
              "outlinewidth": 0,
              "ticks": ""
             }
            },
            "type": "scatter3d"
           }
          ],
          "scattercarpet": [
           {
            "marker": {
             "colorbar": {
              "outlinewidth": 0,
              "ticks": ""
             }
            },
            "type": "scattercarpet"
           }
          ],
          "scattergeo": [
           {
            "marker": {
             "colorbar": {
              "outlinewidth": 0,
              "ticks": ""
             }
            },
            "type": "scattergeo"
           }
          ],
          "scattergl": [
           {
            "marker": {
             "colorbar": {
              "outlinewidth": 0,
              "ticks": ""
             }
            },
            "type": "scattergl"
           }
          ],
          "scattermapbox": [
           {
            "marker": {
             "colorbar": {
              "outlinewidth": 0,
              "ticks": ""
             }
            },
            "type": "scattermapbox"
           }
          ],
          "scatterpolar": [
           {
            "marker": {
             "colorbar": {
              "outlinewidth": 0,
              "ticks": ""
             }
            },
            "type": "scatterpolar"
           }
          ],
          "scatterpolargl": [
           {
            "marker": {
             "colorbar": {
              "outlinewidth": 0,
              "ticks": ""
             }
            },
            "type": "scatterpolargl"
           }
          ],
          "scatterternary": [
           {
            "marker": {
             "colorbar": {
              "outlinewidth": 0,
              "ticks": ""
             }
            },
            "type": "scatterternary"
           }
          ],
          "surface": [
           {
            "colorbar": {
             "outlinewidth": 0,
             "ticks": ""
            },
            "colorscale": [
             [
              0,
              "#0d0887"
             ],
             [
              0.1111111111111111,
              "#46039f"
             ],
             [
              0.2222222222222222,
              "#7201a8"
             ],
             [
              0.3333333333333333,
              "#9c179e"
             ],
             [
              0.4444444444444444,
              "#bd3786"
             ],
             [
              0.5555555555555556,
              "#d8576b"
             ],
             [
              0.6666666666666666,
              "#ed7953"
             ],
             [
              0.7777777777777778,
              "#fb9f3a"
             ],
             [
              0.8888888888888888,
              "#fdca26"
             ],
             [
              1,
              "#f0f921"
             ]
            ],
            "type": "surface"
           }
          ],
          "table": [
           {
            "cells": {
             "fill": {
              "color": "#EBF0F8"
             },
             "line": {
              "color": "white"
             }
            },
            "header": {
             "fill": {
              "color": "#C8D4E3"
             },
             "line": {
              "color": "white"
             }
            },
            "type": "table"
           }
          ]
         },
         "layout": {
          "annotationdefaults": {
           "arrowcolor": "#2a3f5f",
           "arrowhead": 0,
           "arrowwidth": 1
          },
          "autotypenumbers": "strict",
          "coloraxis": {
           "colorbar": {
            "outlinewidth": 0,
            "ticks": ""
           }
          },
          "colorscale": {
           "diverging": [
            [
             0,
             "#8e0152"
            ],
            [
             0.1,
             "#c51b7d"
            ],
            [
             0.2,
             "#de77ae"
            ],
            [
             0.3,
             "#f1b6da"
            ],
            [
             0.4,
             "#fde0ef"
            ],
            [
             0.5,
             "#f7f7f7"
            ],
            [
             0.6,
             "#e6f5d0"
            ],
            [
             0.7,
             "#b8e186"
            ],
            [
             0.8,
             "#7fbc41"
            ],
            [
             0.9,
             "#4d9221"
            ],
            [
             1,
             "#276419"
            ]
           ],
           "sequential": [
            [
             0,
             "#0d0887"
            ],
            [
             0.1111111111111111,
             "#46039f"
            ],
            [
             0.2222222222222222,
             "#7201a8"
            ],
            [
             0.3333333333333333,
             "#9c179e"
            ],
            [
             0.4444444444444444,
             "#bd3786"
            ],
            [
             0.5555555555555556,
             "#d8576b"
            ],
            [
             0.6666666666666666,
             "#ed7953"
            ],
            [
             0.7777777777777778,
             "#fb9f3a"
            ],
            [
             0.8888888888888888,
             "#fdca26"
            ],
            [
             1,
             "#f0f921"
            ]
           ],
           "sequentialminus": [
            [
             0,
             "#0d0887"
            ],
            [
             0.1111111111111111,
             "#46039f"
            ],
            [
             0.2222222222222222,
             "#7201a8"
            ],
            [
             0.3333333333333333,
             "#9c179e"
            ],
            [
             0.4444444444444444,
             "#bd3786"
            ],
            [
             0.5555555555555556,
             "#d8576b"
            ],
            [
             0.6666666666666666,
             "#ed7953"
            ],
            [
             0.7777777777777778,
             "#fb9f3a"
            ],
            [
             0.8888888888888888,
             "#fdca26"
            ],
            [
             1,
             "#f0f921"
            ]
           ]
          },
          "colorway": [
           "#636efa",
           "#EF553B",
           "#00cc96",
           "#ab63fa",
           "#FFA15A",
           "#19d3f3",
           "#FF6692",
           "#B6E880",
           "#FF97FF",
           "#FECB52"
          ],
          "font": {
           "color": "#2a3f5f"
          },
          "geo": {
           "bgcolor": "white",
           "lakecolor": "white",
           "landcolor": "#E5ECF6",
           "showlakes": true,
           "showland": true,
           "subunitcolor": "white"
          },
          "hoverlabel": {
           "align": "left"
          },
          "hovermode": "closest",
          "mapbox": {
           "style": "light"
          },
          "paper_bgcolor": "white",
          "plot_bgcolor": "#E5ECF6",
          "polar": {
           "angularaxis": {
            "gridcolor": "white",
            "linecolor": "white",
            "ticks": ""
           },
           "bgcolor": "#E5ECF6",
           "radialaxis": {
            "gridcolor": "white",
            "linecolor": "white",
            "ticks": ""
           }
          },
          "scene": {
           "xaxis": {
            "backgroundcolor": "#E5ECF6",
            "gridcolor": "white",
            "gridwidth": 2,
            "linecolor": "white",
            "showbackground": true,
            "ticks": "",
            "zerolinecolor": "white"
           },
           "yaxis": {
            "backgroundcolor": "#E5ECF6",
            "gridcolor": "white",
            "gridwidth": 2,
            "linecolor": "white",
            "showbackground": true,
            "ticks": "",
            "zerolinecolor": "white"
           },
           "zaxis": {
            "backgroundcolor": "#E5ECF6",
            "gridcolor": "white",
            "gridwidth": 2,
            "linecolor": "white",
            "showbackground": true,
            "ticks": "",
            "zerolinecolor": "white"
           }
          },
          "shapedefaults": {
           "line": {
            "color": "#2a3f5f"
           }
          },
          "ternary": {
           "aaxis": {
            "gridcolor": "white",
            "linecolor": "white",
            "ticks": ""
           },
           "baxis": {
            "gridcolor": "white",
            "linecolor": "white",
            "ticks": ""
           },
           "bgcolor": "#E5ECF6",
           "caxis": {
            "gridcolor": "white",
            "linecolor": "white",
            "ticks": ""
           }
          },
          "title": {
           "x": 0.05
          },
          "xaxis": {
           "automargin": true,
           "gridcolor": "white",
           "linecolor": "white",
           "ticks": "",
           "title": {
            "standoff": 15
           },
           "zerolinecolor": "white",
           "zerolinewidth": 2
          },
          "yaxis": {
           "automargin": true,
           "gridcolor": "white",
           "linecolor": "white",
           "ticks": "",
           "title": {
            "standoff": 15
           },
           "zerolinecolor": "white",
           "zerolinewidth": 2
          }
         }
        },
        "xaxis": {
         "anchor": "y",
         "domain": [
          0,
          1
         ],
         "title": {
          "text": "variable"
         }
        },
        "yaxis": {
         "anchor": "x",
         "domain": [
          0,
          1
         ],
         "title": {
          "text": "value"
         }
        }
       }
      },
      "text/html": [
       "<div>                            <div id=\"5a9b0de9-cc6c-42db-b00c-d85e1ca88dc2\" class=\"plotly-graph-div\" style=\"height:525px; width:100%;\"></div>            <script type=\"text/javascript\">                require([\"plotly\"], function(Plotly) {                    window.PLOTLYENV=window.PLOTLYENV || {};                                    if (document.getElementById(\"5a9b0de9-cc6c-42db-b00c-d85e1ca88dc2\")) {                    Plotly.newPlot(                        \"5a9b0de9-cc6c-42db-b00c-d85e1ca88dc2\",                        [{\"alignmentgroup\":\"True\",\"hovertemplate\":\"variable=%{x}<br>value=%{y}<extra></extra>\",\"legendgroup\":\"\",\"marker\":{\"color\":\"#636efa\"},\"name\":\"\",\"notched\":false,\"offsetgroup\":\"\",\"orientation\":\"v\",\"showlegend\":false,\"x\":[\"mpg\",\"mpg\",\"mpg\",\"mpg\",\"mpg\",\"mpg\",\"mpg\",\"mpg\",\"mpg\",\"mpg\",\"mpg\",\"mpg\",\"mpg\",\"mpg\",\"mpg\",\"mpg\",\"mpg\",\"mpg\",\"mpg\",\"mpg\",\"mpg\",\"mpg\",\"mpg\",\"mpg\",\"mpg\",\"mpg\",\"mpg\",\"mpg\",\"mpg\",\"mpg\",\"mpg\",\"mpg\",\"cyl\",\"cyl\",\"cyl\",\"cyl\",\"cyl\",\"cyl\",\"cyl\",\"cyl\",\"cyl\",\"cyl\",\"cyl\",\"cyl\",\"cyl\",\"cyl\",\"cyl\",\"cyl\",\"cyl\",\"cyl\",\"cyl\",\"cyl\",\"cyl\",\"cyl\",\"cyl\",\"cyl\",\"cyl\",\"cyl\",\"cyl\",\"cyl\",\"cyl\",\"cyl\",\"cyl\",\"cyl\",\"disp\",\"disp\",\"disp\",\"disp\",\"disp\",\"disp\",\"disp\",\"disp\",\"disp\",\"disp\",\"disp\",\"disp\",\"disp\",\"disp\",\"disp\",\"disp\",\"disp\",\"disp\",\"disp\",\"disp\",\"disp\",\"disp\",\"disp\",\"disp\",\"disp\",\"disp\",\"disp\",\"disp\",\"disp\",\"disp\",\"disp\",\"disp\",\"hp\",\"hp\",\"hp\",\"hp\",\"hp\",\"hp\",\"hp\",\"hp\",\"hp\",\"hp\",\"hp\",\"hp\",\"hp\",\"hp\",\"hp\",\"hp\",\"hp\",\"hp\",\"hp\",\"hp\",\"hp\",\"hp\",\"hp\",\"hp\",\"hp\",\"hp\",\"hp\",\"hp\",\"hp\",\"hp\",\"hp\",\"hp\",\"drat\",\"drat\",\"drat\",\"drat\",\"drat\",\"drat\",\"drat\",\"drat\",\"drat\",\"drat\",\"drat\",\"drat\",\"drat\",\"drat\",\"drat\",\"drat\",\"drat\",\"drat\",\"drat\",\"drat\",\"drat\",\"drat\",\"drat\",\"drat\",\"drat\",\"drat\",\"drat\",\"drat\",\"drat\",\"drat\",\"drat\",\"drat\",\"wt\",\"wt\",\"wt\",\"wt\",\"wt\",\"wt\",\"wt\",\"wt\",\"wt\",\"wt\",\"wt\",\"wt\",\"wt\",\"wt\",\"wt\",\"wt\",\"wt\",\"wt\",\"wt\",\"wt\",\"wt\",\"wt\",\"wt\",\"wt\",\"wt\",\"wt\",\"wt\",\"wt\",\"wt\",\"wt\",\"wt\",\"wt\",\"qsec\",\"qsec\",\"qsec\",\"qsec\",\"qsec\",\"qsec\",\"qsec\",\"qsec\",\"qsec\",\"qsec\",\"qsec\",\"qsec\",\"qsec\",\"qsec\",\"qsec\",\"qsec\",\"qsec\",\"qsec\",\"qsec\",\"qsec\",\"qsec\",\"qsec\",\"qsec\",\"qsec\",\"qsec\",\"qsec\",\"qsec\",\"qsec\",\"qsec\",\"qsec\",\"qsec\",\"qsec\",\"vs\",\"vs\",\"vs\",\"vs\",\"vs\",\"vs\",\"vs\",\"vs\",\"vs\",\"vs\",\"vs\",\"vs\",\"vs\",\"vs\",\"vs\",\"vs\",\"vs\",\"vs\",\"vs\",\"vs\",\"vs\",\"vs\",\"vs\",\"vs\",\"vs\",\"vs\",\"vs\",\"vs\",\"vs\",\"vs\",\"vs\",\"vs\",\"am\",\"am\",\"am\",\"am\",\"am\",\"am\",\"am\",\"am\",\"am\",\"am\",\"am\",\"am\",\"am\",\"am\",\"am\",\"am\",\"am\",\"am\",\"am\",\"am\",\"am\",\"am\",\"am\",\"am\",\"am\",\"am\",\"am\",\"am\",\"am\",\"am\",\"am\",\"am\",\"gear\",\"gear\",\"gear\",\"gear\",\"gear\",\"gear\",\"gear\",\"gear\",\"gear\",\"gear\",\"gear\",\"gear\",\"gear\",\"gear\",\"gear\",\"gear\",\"gear\",\"gear\",\"gear\",\"gear\",\"gear\",\"gear\",\"gear\",\"gear\",\"gear\",\"gear\",\"gear\",\"gear\",\"gear\",\"gear\",\"gear\",\"gear\",\"carb\",\"carb\",\"carb\",\"carb\",\"carb\",\"carb\",\"carb\",\"carb\",\"carb\",\"carb\",\"carb\",\"carb\",\"carb\",\"carb\",\"carb\",\"carb\",\"carb\",\"carb\",\"carb\",\"carb\",\"carb\",\"carb\",\"carb\",\"carb\",\"carb\",\"carb\",\"carb\",\"carb\",\"carb\",\"carb\",\"carb\",\"carb\"],\"x0\":\" \",\"xaxis\":\"x\",\"y\":[21.0,21.0,22.8,21.4,18.7,18.1,14.3,24.4,22.8,19.2,17.8,16.4,17.3,15.2,10.4,10.4,14.7,32.4,30.4,33.9,21.5,15.5,15.2,13.3,19.2,27.3,26.0,30.4,15.8,19.7,15.0,21.4,6.0,6.0,4.0,6.0,8.0,6.0,8.0,4.0,4.0,6.0,6.0,8.0,8.0,8.0,8.0,8.0,8.0,4.0,4.0,4.0,4.0,8.0,8.0,8.0,8.0,4.0,4.0,4.0,8.0,6.0,8.0,4.0,160.0,160.0,108.0,258.0,360.0,225.0,360.0,146.7,140.8,167.6,167.6,275.8,275.8,275.8,472.0,460.0,440.0,78.7,75.7,71.1,120.1,318.0,304.0,350.0,400.0,79.0,120.3,95.1,351.0,145.0,301.0,121.0,110.0,110.0,93.0,110.0,175.0,105.0,245.0,62.0,95.0,123.0,123.0,180.0,180.0,180.0,205.0,215.0,230.0,66.0,52.0,65.0,97.0,150.0,150.0,245.0,175.0,66.0,91.0,113.0,264.0,175.0,335.0,109.0,3.9,3.9,3.85,3.08,3.15,2.76,3.21,3.69,3.92,3.92,3.92,3.07,3.07,3.07,2.93,3.0,3.23,4.08,4.93,4.22,3.7,2.76,3.15,3.73,3.08,4.08,4.43,3.77,4.22,3.62,3.54,4.11,2.62,2.875,2.32,3.215,3.44,3.46,3.57,3.19,3.15,3.44,3.44,4.07,3.73,3.78,5.25,5.424,5.345,2.2,1.615,1.835,2.465,3.52,3.435,3.84,3.845,1.935,2.14,1.513,3.17,2.77,3.57,2.78,16.46,17.02,18.61,19.44,17.02,20.22,15.84,20.0,22.9,18.3,18.9,17.4,17.6,18.0,17.98,17.82,17.42,19.47,18.52,19.9,20.01,16.87,17.3,15.41,17.05,18.9,16.7,16.9,14.5,15.5,14.6,18.6,0.0,0.0,1.0,1.0,0.0,1.0,0.0,1.0,1.0,1.0,1.0,0.0,0.0,0.0,0.0,0.0,0.0,1.0,1.0,1.0,1.0,0.0,0.0,0.0,0.0,1.0,0.0,1.0,0.0,0.0,0.0,1.0,1.0,1.0,1.0,0.0,0.0,0.0,0.0,0.0,0.0,0.0,0.0,0.0,0.0,0.0,0.0,0.0,0.0,1.0,1.0,1.0,0.0,0.0,0.0,0.0,0.0,1.0,1.0,1.0,1.0,1.0,1.0,1.0,4.0,4.0,4.0,3.0,3.0,3.0,3.0,4.0,4.0,4.0,4.0,3.0,3.0,3.0,3.0,3.0,3.0,4.0,4.0,4.0,3.0,3.0,3.0,3.0,3.0,4.0,5.0,5.0,5.0,5.0,5.0,4.0,4.0,4.0,1.0,1.0,2.0,1.0,4.0,2.0,2.0,4.0,4.0,3.0,3.0,3.0,4.0,4.0,4.0,1.0,2.0,1.0,1.0,2.0,2.0,4.0,2.0,1.0,2.0,2.0,4.0,6.0,8.0,2.0],\"y0\":\" \",\"yaxis\":\"y\",\"type\":\"box\",\"quartilemethod\":\"inclusive\"}],                        {\"template\":{\"data\":{\"histogram2dcontour\":[{\"type\":\"histogram2dcontour\",\"colorbar\":{\"outlinewidth\":0,\"ticks\":\"\"},\"colorscale\":[[0.0,\"#0d0887\"],[0.1111111111111111,\"#46039f\"],[0.2222222222222222,\"#7201a8\"],[0.3333333333333333,\"#9c179e\"],[0.4444444444444444,\"#bd3786\"],[0.5555555555555556,\"#d8576b\"],[0.6666666666666666,\"#ed7953\"],[0.7777777777777778,\"#fb9f3a\"],[0.8888888888888888,\"#fdca26\"],[1.0,\"#f0f921\"]]}],\"choropleth\":[{\"type\":\"choropleth\",\"colorbar\":{\"outlinewidth\":0,\"ticks\":\"\"}}],\"histogram2d\":[{\"type\":\"histogram2d\",\"colorbar\":{\"outlinewidth\":0,\"ticks\":\"\"},\"colorscale\":[[0.0,\"#0d0887\"],[0.1111111111111111,\"#46039f\"],[0.2222222222222222,\"#7201a8\"],[0.3333333333333333,\"#9c179e\"],[0.4444444444444444,\"#bd3786\"],[0.5555555555555556,\"#d8576b\"],[0.6666666666666666,\"#ed7953\"],[0.7777777777777778,\"#fb9f3a\"],[0.8888888888888888,\"#fdca26\"],[1.0,\"#f0f921\"]]}],\"heatmap\":[{\"type\":\"heatmap\",\"colorbar\":{\"outlinewidth\":0,\"ticks\":\"\"},\"colorscale\":[[0.0,\"#0d0887\"],[0.1111111111111111,\"#46039f\"],[0.2222222222222222,\"#7201a8\"],[0.3333333333333333,\"#9c179e\"],[0.4444444444444444,\"#bd3786\"],[0.5555555555555556,\"#d8576b\"],[0.6666666666666666,\"#ed7953\"],[0.7777777777777778,\"#fb9f3a\"],[0.8888888888888888,\"#fdca26\"],[1.0,\"#f0f921\"]]}],\"heatmapgl\":[{\"type\":\"heatmapgl\",\"colorbar\":{\"outlinewidth\":0,\"ticks\":\"\"},\"colorscale\":[[0.0,\"#0d0887\"],[0.1111111111111111,\"#46039f\"],[0.2222222222222222,\"#7201a8\"],[0.3333333333333333,\"#9c179e\"],[0.4444444444444444,\"#bd3786\"],[0.5555555555555556,\"#d8576b\"],[0.6666666666666666,\"#ed7953\"],[0.7777777777777778,\"#fb9f3a\"],[0.8888888888888888,\"#fdca26\"],[1.0,\"#f0f921\"]]}],\"contourcarpet\":[{\"type\":\"contourcarpet\",\"colorbar\":{\"outlinewidth\":0,\"ticks\":\"\"}}],\"contour\":[{\"type\":\"contour\",\"colorbar\":{\"outlinewidth\":0,\"ticks\":\"\"},\"colorscale\":[[0.0,\"#0d0887\"],[0.1111111111111111,\"#46039f\"],[0.2222222222222222,\"#7201a8\"],[0.3333333333333333,\"#9c179e\"],[0.4444444444444444,\"#bd3786\"],[0.5555555555555556,\"#d8576b\"],[0.6666666666666666,\"#ed7953\"],[0.7777777777777778,\"#fb9f3a\"],[0.8888888888888888,\"#fdca26\"],[1.0,\"#f0f921\"]]}],\"surface\":[{\"type\":\"surface\",\"colorbar\":{\"outlinewidth\":0,\"ticks\":\"\"},\"colorscale\":[[0.0,\"#0d0887\"],[0.1111111111111111,\"#46039f\"],[0.2222222222222222,\"#7201a8\"],[0.3333333333333333,\"#9c179e\"],[0.4444444444444444,\"#bd3786\"],[0.5555555555555556,\"#d8576b\"],[0.6666666666666666,\"#ed7953\"],[0.7777777777777778,\"#fb9f3a\"],[0.8888888888888888,\"#fdca26\"],[1.0,\"#f0f921\"]]}],\"mesh3d\":[{\"type\":\"mesh3d\",\"colorbar\":{\"outlinewidth\":0,\"ticks\":\"\"}}],\"scatter\":[{\"fillpattern\":{\"fillmode\":\"overlay\",\"size\":10,\"solidity\":0.2},\"type\":\"scatter\"}],\"parcoords\":[{\"type\":\"parcoords\",\"line\":{\"colorbar\":{\"outlinewidth\":0,\"ticks\":\"\"}}}],\"scatterpolargl\":[{\"type\":\"scatterpolargl\",\"marker\":{\"colorbar\":{\"outlinewidth\":0,\"ticks\":\"\"}}}],\"bar\":[{\"error_x\":{\"color\":\"#2a3f5f\"},\"error_y\":{\"color\":\"#2a3f5f\"},\"marker\":{\"line\":{\"color\":\"#E5ECF6\",\"width\":0.5},\"pattern\":{\"fillmode\":\"overlay\",\"size\":10,\"solidity\":0.2}},\"type\":\"bar\"}],\"scattergeo\":[{\"type\":\"scattergeo\",\"marker\":{\"colorbar\":{\"outlinewidth\":0,\"ticks\":\"\"}}}],\"scatterpolar\":[{\"type\":\"scatterpolar\",\"marker\":{\"colorbar\":{\"outlinewidth\":0,\"ticks\":\"\"}}}],\"histogram\":[{\"marker\":{\"pattern\":{\"fillmode\":\"overlay\",\"size\":10,\"solidity\":0.2}},\"type\":\"histogram\"}],\"scattergl\":[{\"type\":\"scattergl\",\"marker\":{\"colorbar\":{\"outlinewidth\":0,\"ticks\":\"\"}}}],\"scatter3d\":[{\"type\":\"scatter3d\",\"line\":{\"colorbar\":{\"outlinewidth\":0,\"ticks\":\"\"}},\"marker\":{\"colorbar\":{\"outlinewidth\":0,\"ticks\":\"\"}}}],\"scattermapbox\":[{\"type\":\"scattermapbox\",\"marker\":{\"colorbar\":{\"outlinewidth\":0,\"ticks\":\"\"}}}],\"scatterternary\":[{\"type\":\"scatterternary\",\"marker\":{\"colorbar\":{\"outlinewidth\":0,\"ticks\":\"\"}}}],\"scattercarpet\":[{\"type\":\"scattercarpet\",\"marker\":{\"colorbar\":{\"outlinewidth\":0,\"ticks\":\"\"}}}],\"carpet\":[{\"aaxis\":{\"endlinecolor\":\"#2a3f5f\",\"gridcolor\":\"white\",\"linecolor\":\"white\",\"minorgridcolor\":\"white\",\"startlinecolor\":\"#2a3f5f\"},\"baxis\":{\"endlinecolor\":\"#2a3f5f\",\"gridcolor\":\"white\",\"linecolor\":\"white\",\"minorgridcolor\":\"white\",\"startlinecolor\":\"#2a3f5f\"},\"type\":\"carpet\"}],\"table\":[{\"cells\":{\"fill\":{\"color\":\"#EBF0F8\"},\"line\":{\"color\":\"white\"}},\"header\":{\"fill\":{\"color\":\"#C8D4E3\"},\"line\":{\"color\":\"white\"}},\"type\":\"table\"}],\"barpolar\":[{\"marker\":{\"line\":{\"color\":\"#E5ECF6\",\"width\":0.5},\"pattern\":{\"fillmode\":\"overlay\",\"size\":10,\"solidity\":0.2}},\"type\":\"barpolar\"}],\"pie\":[{\"automargin\":true,\"type\":\"pie\"}]},\"layout\":{\"autotypenumbers\":\"strict\",\"colorway\":[\"#636efa\",\"#EF553B\",\"#00cc96\",\"#ab63fa\",\"#FFA15A\",\"#19d3f3\",\"#FF6692\",\"#B6E880\",\"#FF97FF\",\"#FECB52\"],\"font\":{\"color\":\"#2a3f5f\"},\"hovermode\":\"closest\",\"hoverlabel\":{\"align\":\"left\"},\"paper_bgcolor\":\"white\",\"plot_bgcolor\":\"#E5ECF6\",\"polar\":{\"bgcolor\":\"#E5ECF6\",\"angularaxis\":{\"gridcolor\":\"white\",\"linecolor\":\"white\",\"ticks\":\"\"},\"radialaxis\":{\"gridcolor\":\"white\",\"linecolor\":\"white\",\"ticks\":\"\"}},\"ternary\":{\"bgcolor\":\"#E5ECF6\",\"aaxis\":{\"gridcolor\":\"white\",\"linecolor\":\"white\",\"ticks\":\"\"},\"baxis\":{\"gridcolor\":\"white\",\"linecolor\":\"white\",\"ticks\":\"\"},\"caxis\":{\"gridcolor\":\"white\",\"linecolor\":\"white\",\"ticks\":\"\"}},\"coloraxis\":{\"colorbar\":{\"outlinewidth\":0,\"ticks\":\"\"}},\"colorscale\":{\"sequential\":[[0.0,\"#0d0887\"],[0.1111111111111111,\"#46039f\"],[0.2222222222222222,\"#7201a8\"],[0.3333333333333333,\"#9c179e\"],[0.4444444444444444,\"#bd3786\"],[0.5555555555555556,\"#d8576b\"],[0.6666666666666666,\"#ed7953\"],[0.7777777777777778,\"#fb9f3a\"],[0.8888888888888888,\"#fdca26\"],[1.0,\"#f0f921\"]],\"sequentialminus\":[[0.0,\"#0d0887\"],[0.1111111111111111,\"#46039f\"],[0.2222222222222222,\"#7201a8\"],[0.3333333333333333,\"#9c179e\"],[0.4444444444444444,\"#bd3786\"],[0.5555555555555556,\"#d8576b\"],[0.6666666666666666,\"#ed7953\"],[0.7777777777777778,\"#fb9f3a\"],[0.8888888888888888,\"#fdca26\"],[1.0,\"#f0f921\"]],\"diverging\":[[0,\"#8e0152\"],[0.1,\"#c51b7d\"],[0.2,\"#de77ae\"],[0.3,\"#f1b6da\"],[0.4,\"#fde0ef\"],[0.5,\"#f7f7f7\"],[0.6,\"#e6f5d0\"],[0.7,\"#b8e186\"],[0.8,\"#7fbc41\"],[0.9,\"#4d9221\"],[1,\"#276419\"]]},\"xaxis\":{\"gridcolor\":\"white\",\"linecolor\":\"white\",\"ticks\":\"\",\"title\":{\"standoff\":15},\"zerolinecolor\":\"white\",\"automargin\":true,\"zerolinewidth\":2},\"yaxis\":{\"gridcolor\":\"white\",\"linecolor\":\"white\",\"ticks\":\"\",\"title\":{\"standoff\":15},\"zerolinecolor\":\"white\",\"automargin\":true,\"zerolinewidth\":2},\"scene\":{\"xaxis\":{\"backgroundcolor\":\"#E5ECF6\",\"gridcolor\":\"white\",\"linecolor\":\"white\",\"showbackground\":true,\"ticks\":\"\",\"zerolinecolor\":\"white\",\"gridwidth\":2},\"yaxis\":{\"backgroundcolor\":\"#E5ECF6\",\"gridcolor\":\"white\",\"linecolor\":\"white\",\"showbackground\":true,\"ticks\":\"\",\"zerolinecolor\":\"white\",\"gridwidth\":2},\"zaxis\":{\"backgroundcolor\":\"#E5ECF6\",\"gridcolor\":\"white\",\"linecolor\":\"white\",\"showbackground\":true,\"ticks\":\"\",\"zerolinecolor\":\"white\",\"gridwidth\":2}},\"shapedefaults\":{\"line\":{\"color\":\"#2a3f5f\"}},\"annotationdefaults\":{\"arrowcolor\":\"#2a3f5f\",\"arrowhead\":0,\"arrowwidth\":1},\"geo\":{\"bgcolor\":\"white\",\"landcolor\":\"#E5ECF6\",\"subunitcolor\":\"white\",\"showland\":true,\"showlakes\":true,\"lakecolor\":\"white\"},\"title\":{\"x\":0.05},\"mapbox\":{\"style\":\"light\"}}},\"xaxis\":{\"anchor\":\"y\",\"domain\":[0.0,1.0],\"title\":{\"text\":\"variable\"}},\"yaxis\":{\"anchor\":\"x\",\"domain\":[0.0,1.0],\"title\":{\"text\":\"value\"}},\"legend\":{\"tracegroupgap\":0},\"margin\":{\"t\":60},\"boxmode\":\"group\"},                        {\"responsive\": true}                    ).then(function(){\n",
       "                            \n",
       "var gd = document.getElementById('5a9b0de9-cc6c-42db-b00c-d85e1ca88dc2');\n",
       "var x = new MutationObserver(function (mutations, observer) {{\n",
       "        var display = window.getComputedStyle(gd).display;\n",
       "        if (!display || display === 'none') {{\n",
       "            console.log([gd, 'removed!']);\n",
       "            Plotly.purge(gd);\n",
       "            observer.disconnect();\n",
       "        }}\n",
       "}});\n",
       "\n",
       "// Listen for the removal of the full notebook cells\n",
       "var notebookContainer = gd.closest('#notebook-container');\n",
       "if (notebookContainer) {{\n",
       "    x.observe(notebookContainer, {childList: true});\n",
       "}}\n",
       "\n",
       "// Listen for the clearing of the current output cell\n",
       "var outputEl = gd.closest('.output');\n",
       "if (outputEl) {{\n",
       "    x.observe(outputEl, {childList: true});\n",
       "}}\n",
       "\n",
       "                        })                };                });            </script>        </div>"
      ]
     },
     "metadata": {},
     "output_type": "display_data"
    }
   ],
   "source": [
    "\n",
    "import plotly.express as px\n",
    "\n",
    "fig = px.box(df_melt, x=\"variable\", y=\"value\")\n",
    "fig.update_traces(quartilemethod=\"inclusive\") # or \"inclusive\", or \"linear\" by default\n",
    "fig.show()\n"
   ]
  },
  {
   "cell_type": "code",
   "execution_count": 31,
   "id": "be2f01c3",
   "metadata": {},
   "outputs": [
    {
     "name": "stdout",
     "output_type": "stream",
     "text": [
      "    variable  value\n",
      "0        mpg   21.0\n",
      "1        mpg   21.0\n",
      "2        mpg   22.8\n",
      "3        mpg   21.4\n",
      "4        mpg   18.7\n",
      "..       ...    ...\n",
      "347     carb    2.0\n",
      "348     carb    4.0\n",
      "349     carb    6.0\n",
      "350     carb    8.0\n",
      "351     carb    2.0\n",
      "\n",
      "[352 rows x 2 columns]\n"
     ]
    }
   ],
   "source": [
    "\n",
    "# Assuming df_melt is your DataFrame used to create the box plot\n",
    "# You can access the DataFrame used to create the plot\n",
    "\n",
    "# Filter the DataFrame based on the variable and value columns\n",
    "box_data = df_melt[['variable', 'value']]\n",
    "\n",
    "# You can further filter the data if needed, for example, by variable\n",
    "# box_data_filtered = box_data[box_data['variable'] == 'your_variable']\n",
    "\n",
    "# Print or use the box plot data\n",
    "print(box_data)\n"
   ]
  }
 ],
 "metadata": {
  "kernelspec": {
   "display_name": "Python 3 (ipykernel)",
   "language": "python",
   "name": "python3"
  },
  "language_info": {
   "codemirror_mode": {
    "name": "ipython",
    "version": 3
   },
   "file_extension": ".py",
   "mimetype": "text/x-python",
   "name": "python",
   "nbconvert_exporter": "python",
   "pygments_lexer": "ipython3",
   "version": "3.11.7"
  }
 },
 "nbformat": 4,
 "nbformat_minor": 5
}
