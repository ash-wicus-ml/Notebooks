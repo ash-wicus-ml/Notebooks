{
 "cells": [
  {
   "cell_type": "code",
   "execution_count": 1,
   "metadata": {},
   "outputs": [],
   "source": [
    "\n",
    "# Let's say we are deling with power outages and we need roll trucks to various sites around the south and \n",
    "# mid-west United States to restore power at various sites. looking at latitude and longitude coordinates, we can \n",
    "# assign the truck closest to the outage. Also we need to manage schedules efficiently, so if 2 workers are \n",
    "# coming close to 8 hours, I won't assign them, but I'll pick two workers who have been working only 6 hours \n",
    "# so far today? Finally, I need to make sure the workers have the skills needed to handle the problems they \n",
    "# will deal with to restore power. So, if a truck is closer to the outage but the workers don't have the \n",
    "# right skills, I won't send this truck. Instead, I'll send a truck that is further away, but they have the right \n",
    "# skills to deal with the issue. \n"
   ]
  },
  {
   "cell_type": "code",
   "execution_count": 3,
   "metadata": {
    "scrolled": true
   },
   "outputs": [
    {
     "name": "stdout",
     "output_type": "stream",
     "text": [
      "Outage 1: Truck 4 (Mechanical, Electrical, Mechanical), Distance: 11.03 miles away, Hours Worked: 4\n",
      "Outage 2: Truck 2 (Electrical, Communication, Mechanical), Distance: 39.92 miles away, Hours Worked: 6\n",
      "Outage 3: Truck 3 (Electrical, Mechanical, Mechanical), Distance: 3.76 miles away, Hours Worked: 7\n",
      "Outage 4: Truck 5 (Electrical, Mechanical, Communication), Distance: 34.89 miles away, Hours Worked: 7\n",
      "Outage 5: Truck 3 (Electrical, Mechanical, Mechanical), Distance: 30.73 miles away, Hours Worked: 7\n",
      "Outage 6: Truck 3 (Electrical, Mechanical, Mechanical), Distance: 45.61 miles away, Hours Worked: 7\n",
      "Outage 7: Truck 3 (Electrical, Mechanical, Mechanical), Distance: 25.06 miles away, Hours Worked: 7\n",
      "Outage 8: Truck 5 (Electrical, Mechanical, Communication), Distance: 16.43 miles away, Hours Worked: 7\n",
      "Outage 9: Truck 3 (Electrical, Mechanical, Mechanical), Distance: 36.09 miles away, Hours Worked: 7\n",
      "Outage 10: Truck 3 (Electrical, Mechanical, Mechanical), Distance: 44.99 miles away, Hours Worked: 7\n"
     ]
    }
   ],
   "source": [
    "\n",
    "import numpy as np\n",
    "\n",
    "# Generate sample data\n",
    "np.random.seed(42)\n",
    "num_trucks = 5\n",
    "num_outages = 10\n",
    "\n",
    "truck_coordinates = np.random.rand(num_trucks, 2) * 100  # Random coordinates\n",
    "outage_coordinates = np.random.rand(num_outages, 2) * 100  # Random coordinates\n",
    "\n",
    "# Use labels for skills\n",
    "skill_labels = [\"Electrical\", \"Mechanical\", \"Communication\"]\n",
    "worker_skills = np.random.choice(skill_labels, size=(num_trucks, 3))\n",
    "\n",
    "# Generate random hours worked by each worker\n",
    "worker_hours_worked = np.random.randint(4, 8, size=num_trucks)\n",
    "\n",
    "# Create a distance matrix\n",
    "distance_matrix = np.linalg.norm(truck_coordinates[:, np.newaxis, :] - outage_coordinates, axis=2)\n",
    "\n",
    "# Solve the assignment problem (closest truck to each outage)\n",
    "assignment = np.argmin(distance_matrix, axis=0)\n",
    "\n",
    "# Print optimal truck assignment with distance and hours worked\n",
    "for outage_index, truck_index in enumerate(assignment):\n",
    "    distance = distance_matrix[truck_index, outage_index]\n",
    "    skills = ', '.join(worker_skills[truck_index])\n",
    "    hours_worked = worker_hours_worked[truck_index]\n",
    "    \n",
    "    if hours_worked < 8:\n",
    "        print(f\"Outage {outage_index + 1}: Truck {truck_index + 1} ({skills}), Distance: {distance:.2f} miles away, Hours Worked: {hours_worked}\")\n",
    "    else:\n",
    "        print(f\"Outage {outage_index + 1}: Truck {truck_index + 1} ({skills}), Distance: {distance:.2f} miles away, Hours Worked: {hours_worked} (Overtime)\")\n",
    "        "
   ]
  },
  {
   "cell_type": "code",
   "execution_count": 4,
   "metadata": {},
   "outputs": [],
   "source": [
    "\n",
    "# The details described here have elements reminiscent of a Traveling Saleserson Problem, but rather than optimizing\n",
    "# (minimizing) the path of the salesperson this problem is a little more complex because we have to do the following:\n",
    "# 1) Assigning Trucks to Outages\n",
    "# 2) Skills Matching\n",
    "# 3) Working Hours Constraint\n"
   ]
  },
  {
   "cell_type": "code",
   "execution_count": null,
   "metadata": {},
   "outputs": [],
   "source": [
    "\n",
    "# END...\n"
   ]
  }
 ],
 "metadata": {
  "kernelspec": {
   "display_name": "Python 3 (ipykernel)",
   "language": "python",
   "name": "python3"
  },
  "language_info": {
   "codemirror_mode": {
    "name": "ipython",
    "version": 3
   },
   "file_extension": ".py",
   "mimetype": "text/x-python",
   "name": "python",
   "nbconvert_exporter": "python",
   "pygments_lexer": "ipython3",
   "version": "3.10.9"
  }
 },
 "nbformat": 4,
 "nbformat_minor": 4
}
