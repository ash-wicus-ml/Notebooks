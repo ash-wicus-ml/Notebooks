{
 "cells": [
  {
   "cell_type": "code",
   "execution_count": 1,
   "metadata": {},
   "outputs": [],
   "source": [
    "\n",
    "# Linear programming (LP), also called linear optimization, is a method to achieve the best outcome (such as \n",
    "# maximum profit or lowest cost) in a mathematical model whose requirements are represented by linear relationships.\n",
    "\n",
    "# Formally, linear programming is a technique for the optimization of a linear objective function, \n",
    "# subject to linear equality and linear inequality constraints. \n"
   ]
  },
  {
   "cell_type": "code",
   "execution_count": 1,
   "metadata": {},
   "outputs": [
    {
     "name": "stderr",
     "output_type": "stream",
     "text": [
      "C:\\Users\\ryans\\anaconda3\\lib\\site-packages\\pulp\\pulp.py:1352: UserWarning: Spaces are not permitted in the name. Converted to '_'\n",
      "  warnings.warn(\"Spaces are not permitted in the name. Converted to '_'\")\n"
     ]
    },
    {
     "name": "stdout",
     "output_type": "stream",
     "text": [
      "W1 works the Evening shift\n",
      "W2 works the Morning shift\n",
      "W2 works the Afternoon shift\n",
      "W2 works the Evening shift\n",
      "W3 works the Morning shift\n",
      "W3 works the Afternoon shift\n",
      "W3 works the Evening shift\n",
      "W4 works the Afternoon shift\n",
      "W4 works the Evening shift\n",
      "W5 works the Morning shift\n",
      "W5 works the Afternoon shift\n",
      "W5 works the Evening shift\n"
     ]
    }
   ],
   "source": [
    "\n",
    "\n",
    "import pulp\n",
    "\n",
    "# Define the optimization problem\n",
    "problem = pulp.LpProblem(\"Worker Scheduling\", pulp.LpMinimize)\n",
    "\n",
    "# Define the decision variables\n",
    "shifts = ['Morning', 'Afternoon', 'Evening']\n",
    "workers = ['W1', 'W2', 'W3', 'W4', 'W5']\n",
    "\n",
    "# Define the cost of each worker for each shift\n",
    "cost = {\n",
    "    ('W1', 'Morning'): 500,\n",
    "    ('W1', 'Afternoon'): 550,\n",
    "    ('W1', 'Evening'): 200,\n",
    "    ('W2', 'Morning'): 120,\n",
    "    ('W2', 'Afternoon'): 170,\n",
    "    ('W2', 'Evening'): 210,\n",
    "    ('W3', 'Morning'): 110,\n",
    "    ('W3', 'Afternoon'): 160,\n",
    "    ('W3', 'Evening'): 200,\n",
    "    ('W4', 'Morning'): 130,\n",
    "    ('W4', 'Afternoon'): 180,\n",
    "    ('W4', 'Evening'): 220,\n",
    "    ('W5', 'Morning'): 90,\n",
    "    ('W5', 'Afternoon'): 140,\n",
    "    ('W5', 'Evening'): 180\n",
    "}\n",
    "\n",
    "# Define the demand for each shift\n",
    "demand = {\n",
    "    'Morning': 3,\n",
    "    'Afternoon': 4,\n",
    "    'Evening': 5\n",
    "}\n",
    "\n",
    "# Define the decision variables\n",
    "shift_vars = pulp.LpVariable.dicts(\"Shift\", (workers, shifts), cat='Binary')\n",
    "\n",
    "# Define the objective function\n",
    "problem += pulp.lpSum([cost[(w, s)] * shift_vars[w][s] for w in workers for s in shifts])\n",
    "\n",
    "# Define the constraints\n",
    "for s in shifts:\n",
    "    problem += pulp.lpSum([shift_vars[w][s] for w in workers]) >= demand[s]\n",
    "\n",
    "# Solve the problem\n",
    "problem.solve()\n",
    "\n",
    "# Print the results\n",
    "for w in workers:\n",
    "    for s in shifts:\n",
    "        if shift_vars[w][s].value() == 1:\n",
    "            print(f\"{w} works the {s} shift\")\n"
   ]
  },
  {
   "cell_type": "code",
   "execution_count": 3,
   "metadata": {
    "scrolled": false
   },
   "outputs": [
    {
     "name": "stdout",
     "output_type": "stream",
     "text": [
      "\n",
      "Total minimum cost: $1,980.00\n"
     ]
    }
   ],
   "source": [
    "\n",
    "print(f\"\\nTotal minimum cost: ${problem.objective.value():,.2f}\")\n"
   ]
  },
  {
   "cell_type": "code",
   "execution_count": 4,
   "metadata": {},
   "outputs": [
    {
     "name": "stdout",
     "output_type": "stream",
     "text": [
      "Worker 0 is assigned to shift 0\n",
      "Worker 1 is assigned to shift 2\n",
      "Worker 2 is assigned to shift 2\n",
      "Worker 3 is assigned to shift 0\n",
      "Worker 4 is assigned to shift 1\n",
      "Worker 5 is assigned to shift 1\n",
      "Worker 6 is assigned to shift 0\n",
      "Worker 7 is assigned to shift 0\n",
      "Worker 8 is assigned to shift 0\n",
      "Worker 9 is assigned to shift 0\n"
     ]
    }
   ],
   "source": [
    "\n",
    "# Let's re-try the concept using a slightly different approach.\n",
    "\n",
    "from pyomo.environ import *\n",
    "import pyomo.environ as pyo\n",
    "\n",
    "# define parameters\n",
    "num_workers = 10\n",
    "num_shifts = 3\n",
    "market_expenses = [1000, 2000, 3000]\n",
    "\n",
    "# define the model\n",
    "model = pyo.ConcreteModel()\n",
    "\n",
    "# define decision variables\n",
    "model.x = Var(range(num_workers), range(num_shifts), within=Binary)\n",
    "\n",
    "# define objective function\n",
    "model.obj = Objective(expr=sum(market_expenses[s] * sum(model.x[w, s] for w in range(num_workers)) for s in range(num_shifts)), sense=minimize)\n",
    "\n",
    "# define constraints\n",
    "model.worker_constraint = ConstraintList()\n",
    "for w in range(num_workers):\n",
    "    model.worker_constraint.add(sum(model.x[w, s] for s in range(num_shifts)) == 1)\n",
    "\n",
    "model.shift_constraint = ConstraintList()\n",
    "for s in range(num_shifts):\n",
    "    model.shift_constraint.add(sum(model.x[w, s] for w in range(num_workers)) >= 2)\n",
    "\n",
    "# solve the optimization problem\n",
    "solver = SolverFactory('glpk')\n",
    "solver.solve(model)\n",
    "\n",
    "\n",
    "# print the results\n",
    "for w in range(num_workers):\n",
    "    for s in range(num_shifts):\n",
    "        if value(model.x[w, s]) > 0.5:\n",
    "            print(\"Worker %d is assigned to shift %d\" % (w, s))\n"
   ]
  },
  {
   "cell_type": "code",
   "execution_count": 7,
   "metadata": {
    "scrolled": false
   },
   "outputs": [
    {
     "data": {
      "text/html": [
       "<div>\n",
       "<style scoped>\n",
       "    .dataframe tbody tr th:only-of-type {\n",
       "        vertical-align: middle;\n",
       "    }\n",
       "\n",
       "    .dataframe tbody tr th {\n",
       "        vertical-align: top;\n",
       "    }\n",
       "\n",
       "    .dataframe thead th {\n",
       "        text-align: right;\n",
       "    }\n",
       "</style>\n",
       "<table border=\"1\" class=\"dataframe\">\n",
       "  <thead>\n",
       "    <tr style=\"text-align: right;\">\n",
       "      <th></th>\n",
       "      <th>Time Windows</th>\n",
       "      <th>Shift 1</th>\n",
       "      <th>Shift 2</th>\n",
       "      <th>Shift 3</th>\n",
       "      <th>Shift 4</th>\n",
       "      <th>Workers Required</th>\n",
       "    </tr>\n",
       "  </thead>\n",
       "  <tbody>\n",
       "    <tr>\n",
       "      <th>0</th>\n",
       "      <td>6:00 - 9:00</td>\n",
       "      <td>X</td>\n",
       "      <td>NaN</td>\n",
       "      <td>NaN</td>\n",
       "      <td>X</td>\n",
       "      <td>55.0</td>\n",
       "    </tr>\n",
       "    <tr>\n",
       "      <th>1</th>\n",
       "      <td>9:00 - 12:00</td>\n",
       "      <td>X</td>\n",
       "      <td>NaN</td>\n",
       "      <td>NaN</td>\n",
       "      <td>NaN</td>\n",
       "      <td>46.0</td>\n",
       "    </tr>\n",
       "    <tr>\n",
       "      <th>2</th>\n",
       "      <td>12:00 - 15:00</td>\n",
       "      <td>X</td>\n",
       "      <td>X</td>\n",
       "      <td>NaN</td>\n",
       "      <td>NaN</td>\n",
       "      <td>59.0</td>\n",
       "    </tr>\n",
       "    <tr>\n",
       "      <th>3</th>\n",
       "      <td>15:00 - 18:00</td>\n",
       "      <td>NaN</td>\n",
       "      <td>X</td>\n",
       "      <td>NaN</td>\n",
       "      <td>NaN</td>\n",
       "      <td>23.0</td>\n",
       "    </tr>\n",
       "    <tr>\n",
       "      <th>4</th>\n",
       "      <td>18:00 - 21:00</td>\n",
       "      <td>NaN</td>\n",
       "      <td>X</td>\n",
       "      <td>X</td>\n",
       "      <td>NaN</td>\n",
       "      <td>60.0</td>\n",
       "    </tr>\n",
       "  </tbody>\n",
       "</table>\n",
       "</div>"
      ],
      "text/plain": [
       "    Time Windows Shift 1 Shift 2 Shift 3 Shift 4  Workers Required\n",
       "0    6:00 - 9:00       X     NaN     NaN       X              55.0\n",
       "1   9:00 - 12:00       X     NaN     NaN     NaN              46.0\n",
       "2  12:00 - 15:00       X       X     NaN     NaN              59.0\n",
       "3  15:00 - 18:00     NaN       X     NaN     NaN              23.0\n",
       "4  18:00 - 21:00     NaN       X       X     NaN              60.0"
      ]
     },
     "execution_count": 7,
     "metadata": {},
     "output_type": "execute_result"
    }
   ],
   "source": [
    "\n",
    "import pandas as pd\n",
    "import pulp\n",
    "from pulp import LpMaximize, LpMinimize, LpProblem, LpStatus, lpSum, LpVariable\n",
    "import numpy as np\n",
    "\n",
    "\n",
    "# load CSV into dataframe\n",
    "df = pd.read_csv(\"C:\\\\workers_schedules.csv\")\n",
    "df.head()\n"
   ]
  },
  {
   "cell_type": "code",
   "execution_count": 8,
   "metadata": {},
   "outputs": [
    {
     "data": {
      "text/plain": [
       "array([[1, 0, 0, 1],\n",
       "       [1, 0, 0, 0],\n",
       "       [1, 1, 0, 0],\n",
       "       [0, 1, 0, 0],\n",
       "       [0, 1, 1, 0],\n",
       "       [0, 0, 1, 0],\n",
       "       [0, 0, 1, 1],\n",
       "       [0, 0, 0, 1],\n",
       "       ['135', '140', '190', '188']], dtype=object)"
      ]
     },
     "execution_count": 8,
     "metadata": {},
     "output_type": "execute_result"
    }
   ],
   "source": [
    "\n",
    "df = df.fillna(0).applymap(lambda x: 1 if x == \"X\" else x)\n",
    "\n",
    "#df.set_index('Time Windows')\n",
    "a = df.drop(columns=['Time Windows', 'Workers Required']).values\n",
    "a \n"
   ]
  },
  {
   "cell_type": "code",
   "execution_count": 9,
   "metadata": {},
   "outputs": [
    {
     "data": {
      "text/plain": [
       "4"
      ]
     },
     "execution_count": 9,
     "metadata": {},
     "output_type": "execute_result"
    }
   ],
   "source": [
    "\n",
    "# number of shifts \n",
    "n = a.shape[1]\n",
    "n\n"
   ]
  },
  {
   "cell_type": "code",
   "execution_count": 10,
   "metadata": {},
   "outputs": [
    {
     "data": {
      "text/plain": [
       "8"
      ]
     },
     "execution_count": 10,
     "metadata": {},
     "output_type": "execute_result"
    }
   ],
   "source": [
    "\n",
    "# number of time windows minus last row\n",
    "# this can be derived different ways\n",
    "T = a.shape[0]-1\n",
    "T\n"
   ]
  },
  {
   "cell_type": "code",
   "execution_count": 11,
   "metadata": {},
   "outputs": [
    {
     "data": {
      "text/plain": [
       "array([55., 46., 59., 23., 60., 38., 20., 30.,  0.])"
      ]
     },
     "execution_count": 11,
     "metadata": {},
     "output_type": "execute_result"
    }
   ],
   "source": [
    "\n",
    "# number of workers required per time window\n",
    "d = df[\"Workers Required\"].values\n",
    "d\n"
   ]
  },
  {
   "cell_type": "code",
   "execution_count": 12,
   "metadata": {},
   "outputs": [
    {
     "data": {
      "text/plain": [
       "array([['135', '140', '190', '188']], dtype=object)"
      ]
     },
     "execution_count": 12,
     "metadata": {},
     "output_type": "execute_result"
    }
   ],
   "source": [
    "\n",
    "# wage rate per shift\n",
    "#Get last row of dataframe\n",
    "last_row = df.iloc[-1:,1:-1]\n",
    "#Get last row of dataframe as numpy array\n",
    "w = last_row.to_numpy()\n",
    "w\n"
   ]
  },
  {
   "cell_type": "code",
   "execution_count": 13,
   "metadata": {},
   "outputs": [
    {
     "data": {
      "text/plain": [
       "{0: num_workers_0, 1: num_workers_1, 2: num_workers_2, 3: num_workers_3}"
      ]
     },
     "execution_count": 13,
     "metadata": {},
     "output_type": "execute_result"
    }
   ],
   "source": [
    "\n",
    "# Decision variables\n",
    "y = LpVariable.dicts(\"num_workers\", list(range(n)), lowBound=0, cat=\"Integer\")\n",
    "y\n"
   ]
  },
  {
   "cell_type": "code",
   "execution_count": 14,
   "metadata": {},
   "outputs": [
    {
     "name": "stdout",
     "output_type": "stream",
     "text": [
      "Status: Optimal\n"
     ]
    }
   ],
   "source": [
    "\n",
    "# Create problem\n",
    "prob = LpProblem(\"scheduling_workers\", LpMinimize)\n",
    "\n",
    "\n",
    "for t in range(T):\n",
    "    prob += lpSum([a[t, j] * y[j] for j in range(n)]) >= d[t]\n",
    "\n",
    "\n",
    "prob.solve()\n",
    "print(\"Status:\", LpStatus[prob.status])\n"
   ]
  },
  {
   "cell_type": "code",
   "execution_count": 15,
   "metadata": {},
   "outputs": [
    {
     "name": "stdout",
     "output_type": "stream",
     "text": [
      "The number of workers needed for shift 0 is 46 workers\n",
      "The number of workers needed for shift 1 is 23 workers\n",
      "The number of workers needed for shift 2 is 38 workers\n",
      "The number of workers needed for shift 3 is 30 workers\n"
     ]
    }
   ],
   "source": [
    "\n",
    "for shift in range(n):\n",
    "    print(f\"The number of workers needed for shift {shift} is {int(y[shift].value())} workers\")\n"
   ]
  }
 ],
 "metadata": {
  "kernelspec": {
   "display_name": "Python 3 (ipykernel)",
   "language": "python",
   "name": "python3"
  },
  "language_info": {
   "codemirror_mode": {
    "name": "ipython",
    "version": 3
   },
   "file_extension": ".py",
   "mimetype": "text/x-python",
   "name": "python",
   "nbconvert_exporter": "python",
   "pygments_lexer": "ipython3",
   "version": "3.11.7"
  }
 },
 "nbformat": 4,
 "nbformat_minor": 4
}
