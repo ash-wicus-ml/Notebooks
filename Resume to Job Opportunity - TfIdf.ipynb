{
 "cells": [
  {
   "cell_type": "code",
   "execution_count": 2,
   "metadata": {},
   "outputs": [],
   "source": [
    "\n",
    "# We can use TF-IDF to analyze a bunch of resumes in a folder and compare the similarity of the text in each resume\n",
    "# to the text in a job description, thereby ranking the resumes by closeness of fit to the JD.\n",
    "# What is TD-IDF?\n",
    "# TF-IDF (Term Frequency-Inverse Document Frequency) is a numerical statistic that reflects the importance of a \n",
    "# word in a document relative to a collection of documents (corpus). It is commonly used in natural language \n",
    "# processing and information retrieval.\n",
    "\n",
    "# TF-IDF assigns a weight to each term in a document based on how frequently it appears in that document (TF) and \n",
    "# how unique it is across the entire collection of documents (IDF). Terms that are common in a document but rare \n",
    "# in the corpus receive higher TF-IDF scores, indicating their importance in describing the content of that document.\n"
   ]
  },
  {
   "cell_type": "code",
   "execution_count": null,
   "metadata": {},
   "outputs": [],
   "source": [
    "\n",
    "import os\n",
    "import PyPDF2\n",
    "from sklearn.feature_extraction.text import TfidfVectorizer\n",
    "from sklearn.metrics.pairwise import cosine_similarity\n",
    "\n",
    "# Extract text from a PDF file\n",
    "def extract_text_from_pdf(pdf_path):\n",
    "    with open(pdf_path, 'rb') as file:\n",
    "        pdf_reader = PyPDF2.PdfReader(file)\n",
    "        text = ''\n",
    "        for page_num in range(len(pdf_reader.pages)):\n",
    "            text += pdf_reader.pages[page_num].extract_text()\n",
    "    return text\n",
    "\n",
    "# Path to the job description PDF\n",
    "job_description_path = 'C:\\\\Users\\\\job_description.pdf'\n",
    "\n",
    "# Path to the folder containing resumes in PDF format\n",
    "resumes_folder = 'C:\\\\Users\\\\all_docs\\\\'\n",
    "\n",
    "# Extract text from the job description\n",
    "with open(job_description_path, 'rb') as file:\n",
    "    job_description_text = extract_text_from_pdf(job_description_path)\n",
    "\n",
    "# Collect resumes and their text\n",
    "resumes = []\n",
    "resume_texts = []\n",
    "for resume_file in os.listdir(resumes_folder):\n",
    "    if resume_file.endswith('.pdf'):\n",
    "        resume_path = os.path.join(resumes_folder, resume_file)\n",
    "        resumes.append(resume_file)\n",
    "        resume_texts.append(extract_text_from_pdf(resume_path))\n",
    "\n",
    "# Use TF-IDF vectorization to convert text to numerical representation\n",
    "vectorizer = TfidfVectorizer(stop_words='english')\n",
    "job_description_vector = vectorizer.fit_transform([job_description_text])\n",
    "resume_vectors = vectorizer.transform(resume_texts)\n",
    "\n",
    "# Calculate cosine similarity between job description and each resume\n",
    "similarities = cosine_similarity(job_description_vector, resume_vectors).flatten()\n",
    "\n",
    "# Get the indices of the top 3 most relevant resumes\n",
    "top_indices = similarities.argsort()[-3:][::-1]\n",
    "\n",
    "# Print the most relevant resumes\n",
    "for index in top_indices:\n",
    "    print(f\"Resume: {resumes[index]} - Similarity: {similarities[index]}\")\n",
    "    \n",
    "    "
   ]
  },
  {
   "cell_type": "code",
   "execution_count": 1,
   "metadata": {},
   "outputs": [],
   "source": [
    "\n",
    "# Final Result:\n",
    "Resume: tim.pdf - Similarity: 0.44980810055770165\n",
    "Resume: dennis.pdf - Similarity: 0.4449728550719042\n",
    "Resume: ryan.pdf - Similarity: 0.3947510657389466\n",
    "\n",
    "# So, if we have dozens of resumes in a folder, or even hundreds, we would contact these three individuals first \n",
    "# because the experience of these three individuals is the most relevant to what's outlined in the JD. \n",
    "# This process takes just a few seconds to run and it's accurate to more than 15 decimal places of precision.\n"
   ]
  }
 ],
 "metadata": {
  "kernelspec": {
   "display_name": "Python 3 (ipykernel)",
   "language": "python",
   "name": "python3"
  },
  "language_info": {
   "codemirror_mode": {
    "name": "ipython",
    "version": 3
   },
   "file_extension": ".py",
   "mimetype": "text/x-python",
   "name": "python",
   "nbconvert_exporter": "python",
   "pygments_lexer": "ipython3",
   "version": "3.10.9"
  }
 },
 "nbformat": 4,
 "nbformat_minor": 4
}
