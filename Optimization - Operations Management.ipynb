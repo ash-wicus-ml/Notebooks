{
 "cells": [
  {
   "cell_type": "code",
   "execution_count": null,
   "metadata": {},
   "outputs": [],
   "source": [
    "\n",
    "# Gurobi is a powerful optimization solver that excels at handling linear programming, mixed-integer programming, and \n",
    "# quadratic programming problems. \n",
    "\n",
    "# Imagine a manufacturing company with multiple products, production lines, and resource constraints. The goal is to \n",
    "# maximize profit while considering constraints on production capacities, raw material availability, and labor hours.\n"
   ]
  },
  {
   "cell_type": "code",
   "execution_count": 40,
   "metadata": {
    "scrolled": true
   },
   "outputs": [
    {
     "data": {
      "text/html": [
       "<div>\n",
       "<style scoped>\n",
       "    .dataframe tbody tr th:only-of-type {\n",
       "        vertical-align: middle;\n",
       "    }\n",
       "\n",
       "    .dataframe tbody tr th {\n",
       "        vertical-align: top;\n",
       "    }\n",
       "\n",
       "    .dataframe thead th {\n",
       "        text-align: right;\n",
       "    }\n",
       "</style>\n",
       "<table border=\"1\" class=\"dataframe\">\n",
       "  <thead>\n",
       "    <tr style=\"text-align: right;\">\n",
       "      <th></th>\n",
       "      <th>Product</th>\n",
       "      <th>Profit</th>\n",
       "      <th>Capacity</th>\n",
       "      <th>Labor_Hours</th>\n",
       "    </tr>\n",
       "  </thead>\n",
       "  <tbody>\n",
       "    <tr>\n",
       "      <th>0</th>\n",
       "      <td>A</td>\n",
       "      <td>10</td>\n",
       "      <td>100</td>\n",
       "      <td>2</td>\n",
       "    </tr>\n",
       "    <tr>\n",
       "      <th>1</th>\n",
       "      <td>B</td>\n",
       "      <td>15</td>\n",
       "      <td>150</td>\n",
       "      <td>3</td>\n",
       "    </tr>\n",
       "    <tr>\n",
       "      <th>2</th>\n",
       "      <td>C</td>\n",
       "      <td>20</td>\n",
       "      <td>200</td>\n",
       "      <td>4</td>\n",
       "    </tr>\n",
       "  </tbody>\n",
       "</table>\n",
       "</div>"
      ],
      "text/plain": [
       "  Product  Profit  Capacity  Labor_Hours\n",
       "0       A      10       100            2\n",
       "1       B      15       150            3\n",
       "2       C      20       200            4"
      ]
     },
     "execution_count": 40,
     "metadata": {},
     "output_type": "execute_result"
    }
   ],
   "source": [
    "\n",
    "from gurobipy import GRB, Model\n",
    "import pandas as pd\n",
    "\n",
    "# Sample DataFrame\n",
    "data = {\n",
    "    'Product': ['A', 'B', 'C'],\n",
    "    'Profit': [10, 15, 20],\n",
    "    'Capacity': [100, 150, 200],\n",
    "    'Labor_Hours': [2, 3, 4]\n",
    "}\n",
    "\n",
    "df = pd.DataFrame(data)\n",
    "df\n"
   ]
  },
  {
   "cell_type": "code",
   "execution_count": 41,
   "metadata": {},
   "outputs": [
    {
     "data": {
      "text/plain": [
       "800"
      ]
     },
     "execution_count": 41,
     "metadata": {},
     "output_type": "execute_result"
    }
   ],
   "source": [
    "\n",
    "products = df['Product'].tolist()\n",
    "\n",
    "def calculate_total_profit(production_quantities, df):\n",
    "    return sum(production_quantities[product] * df.loc[df['Product'] == product, 'Profit'].values[0] for product in products)\n",
    "\n",
    "\n",
    "def print_scenario_results(header, production_quantities, df):\n",
    "    print(f\"\\n{header}:\")\n",
    "    total_profit = calculate_total_profit(production_quantities, df)\n",
    "    for product in products:\n",
    "        print(f\"{product}: {production_quantities[product]}\")\n",
    "    print(f\"Total Profit: {total_profit}\")\n",
    "    return total_profit\n",
    "\n",
    "\n",
    "\n",
    "# Set arbitrary production scenario\n",
    "arbitrary_production = {'A': 30, 'B': 20, 'C': 10}  \n",
    "\n",
    "# Calculate arbitrary profit\n",
    "arbitrary_profit = sum(arbitrary_production[product] * df.loc[df['Product'] == product, 'Profit'].values[0] for product in products)\n",
    "arbitrary_profit\n"
   ]
  },
  {
   "cell_type": "code",
   "execution_count": 42,
   "metadata": {},
   "outputs": [
    {
     "name": "stdout",
     "output_type": "stream",
     "text": [
      "Gurobi Optimizer version 11.0.0 build v11.0.0rc2 (win64 - Windows 11.0 (22621.2))\n",
      "\n",
      "CPU model: 13th Gen Intel(R) Core(TM) i5-1335U, instruction set [SSE2|AVX|AVX2]\n",
      "Thread count: 10 physical cores, 12 logical processors, using up to 12 threads\n",
      "\n",
      "Optimize a model with 2 rows, 3 columns and 6 nonzeros\n",
      "Model fingerprint: 0xb2526335\n",
      "Variable types: 0 continuous, 3 integer (0 binary)\n",
      "Coefficient statistics:\n",
      "  Matrix range     [2e+00, 2e+02]\n",
      "  Objective range  [1e+01, 2e+01]\n",
      "  Bounds range     [0e+00, 0e+00]\n",
      "  RHS range        [3e+02, 1e+04]\n",
      "Found heuristic solution: objective 1000.0000000\n",
      "Presolve removed 1 rows and 1 columns\n",
      "Presolve time: 0.00s\n",
      "Presolved: 1 rows, 2 columns, 2 nonzeros\n",
      "Variable types: 0 continuous, 2 integer (0 binary)\n",
      "\n",
      "Root relaxation: cutoff, 0 iterations, 0.00 seconds (0.00 work units)\n",
      "\n",
      "Explored 1 nodes (0 simplex iterations) in 0.02 seconds (0.00 work units)\n",
      "Thread count was 12 (of 12 available processors)\n",
      "\n",
      "Solution count 1: 1000 \n",
      "\n",
      "Optimal solution found (tolerance 1.00e-04)\n",
      "Best objective 1.000000000000e+03, best bound 1.000000000000e+03, gap 0.0000%\n"
     ]
    }
   ],
   "source": [
    "\n",
    "# Create Gurobi model\n",
    "model = Model(\"production_model\")\n",
    "production = model.addVars(products, name=\"production\", vtype=GRB.INTEGER)\n",
    "\n",
    "# Set objective function\n",
    "model.setObjective(production.prod(df.set_index('Product')['Profit'].to_dict()), sense=GRB.MAXIMIZE)\n",
    "\n",
    "# Add constraints\n",
    "model.addConstr(production.prod(df.set_index('Product')['Capacity'].to_dict()) <= 10000, \"capacity_constraint\")\n",
    "model.addConstr(production.prod(df.set_index('Product')['Labor_Hours'].to_dict()) <= 250, \"labor_hours_constraint\")\n",
    "\n",
    "# Optimize the model\n",
    "model.optimize()\n"
   ]
  },
  {
   "cell_type": "code",
   "execution_count": 43,
   "metadata": {},
   "outputs": [
    {
     "name": "stdout",
     "output_type": "stream",
     "text": [
      "\n",
      "Arbitrary Scenario:\n",
      "A: 30\n",
      "B: 20\n",
      "C: 10\n",
      "Total Profit: 800\n",
      "\n",
      "Optimized Solution:\n",
      "A: 100.0\n",
      "B: -0.0\n",
      "C: -0.0\n",
      "Total Profit: 1000.0\n",
      "\n",
      "Overall Savings: 125.00%\n"
     ]
    }
   ],
   "source": [
    "\n",
    "# Print the results for both scenarios and calculate overall savings\n",
    "arbitrary_total_profit = print_scenario_results(\"Arbitrary Scenario\", arbitrary_production, df)\n",
    "\n",
    "if model.status == GRB.OPTIMAL:\n",
    "    optimized_production = {product: production[product].x for product in products}\n",
    "    optimized_total_profit = print_scenario_results(\"Optimized Solution\", optimized_production, df)\n",
    "\n",
    "    savings_percentage = (((optimized_total_profit / arbitrary_total_profit)) * 100) if arbitrary_total_profit > 0 else 0\n",
    "    print(f\"\\nOverall Savings: {savings_percentage:.2f}%\")\n",
    "else:\n",
    "    print(\"No optimal solution found.\")\n",
    "    "
   ]
  },
  {
   "cell_type": "code",
   "execution_count": 3,
   "metadata": {},
   "outputs": [],
   "source": [
    "\n",
    "# This script creates an optimization model, defines decision variables, sets the objective function, adds constraints, and \n",
    "# then solves the model using Gurobi. The results are then displayed, including the optimal quantities and the maximum \n",
    "# total profit.\n",
    "\n",
    "# The objective function in an optimization problem defines the quantity that the optimization process seeks to either \n",
    "# maximize or minimize. In the context of the production planning problem using Gurobi, the objective function is \n",
    "# formulated to maximize the total profit generated by producing different products on various production lines.\n",
    "\n",
    "# In optimization modeling, you typically set constraints based on the maximum capacity or limitations of your resources, \n",
    "# not by summing up the individual values. The individual values represent the capacity or resource usage for each unit \n",
    "# of the respective product. In a real-world scenario, constraints should be based on the actual limitations and capacities \n",
    "# of the resources involved, such as the available production capacity and labor hours.\n"
   ]
  }
 ],
 "metadata": {
  "kernelspec": {
   "display_name": "Python 3 (ipykernel)",
   "language": "python",
   "name": "python3"
  },
  "language_info": {
   "codemirror_mode": {
    "name": "ipython",
    "version": 3
   },
   "file_extension": ".py",
   "mimetype": "text/x-python",
   "name": "python",
   "nbconvert_exporter": "python",
   "pygments_lexer": "ipython3",
   "version": "3.11.5"
  }
 },
 "nbformat": 4,
 "nbformat_minor": 4
}
