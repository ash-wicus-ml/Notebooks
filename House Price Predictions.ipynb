{
 "cells": [
  {
   "cell_type": "code",
   "execution_count": null,
   "metadata": {},
   "outputs": [],
   "source": [
    "\n",
    "# We can easily leverage the power of machine learning to predict house prices (dependent variable) based on various \n",
    "# features (independent variables) related to house prices.\n",
    "\n",
    "# We use a RandomForestRegressor as our machine learning model.\n",
    "# We encode the 'location' column using Label Encoding to convert categorical data into a numerical format.\n",
    "# We split the dataset into training and testing sets.\n",
    "# The model is trained on the training set and evaluated on the testing set using Mean Absolute Error.\n"
   ]
  },
  {
   "cell_type": "code",
   "execution_count": 1,
   "metadata": {},
   "outputs": [
    {
     "name": "stdout",
     "output_type": "stream",
     "text": [
      "   area  bedrooms  bathrooms  location  year_built    price\n",
      "0  1926         4          1    Suburb        1992  2081500\n",
      "1  2259         2          1  Downtown        2021  2390000\n",
      "2  1660         1          2  Downtown        2010  1786500\n",
      "3  2094         2          3  Downtown        2010  2270500\n",
      "4  1930         3          2  Downtown        2000  2121500\n"
     ]
    }
   ],
   "source": [
    "\n",
    "import pandas as pd\n",
    "import numpy as np\n",
    "from sklearn.model_selection import train_test_split\n",
    "from sklearn.ensemble import RandomForestRegressor\n",
    "from sklearn.metrics import mean_absolute_error\n",
    "from sklearn.preprocessing import LabelEncoder\n",
    "\n",
    "\n",
    "# Generate random sample data\n",
    "np.random.seed(42)  # Set seed for reproducibility\n",
    "\n",
    "# Generating random values for each feature\n",
    "area = np.random.randint(800, 2500, size=1000)\n",
    "bedrooms = np.random.randint(1, 5, size=1000)\n",
    "bathrooms = np.random.randint(1, 4, size=1000)\n",
    "locations = np.random.choice(['Suburb', 'Downtown', 'Countryside'], size=1000)\n",
    "year_built = np.random.randint(1990, 2023, size=1000)\n",
    "price = 1000 * area + 30000 * bedrooms + 20000 * bathrooms + 50000 * (locations == 'Downtown') + 10000 * (locations == 'Countryside') + 500 * (2023 - year_built)\n",
    "\n",
    "\n",
    "# Create DataFrame\n",
    "df = pd.DataFrame({'area': area, 'bedrooms': bedrooms, 'bathrooms': bathrooms, 'location': locations, 'year_built': year_built, 'price': price})\n",
    "\n",
    "\n",
    "# Display the DataFrame\n",
    "print(df.head())\n"
   ]
  },
  {
   "cell_type": "code",
   "execution_count": 2,
   "metadata": {},
   "outputs": [
    {
     "name": "stdout",
     "output_type": "stream",
     "text": [
      "Mean Absolute Error: 20632.4\n"
     ]
    }
   ],
   "source": [
    "\n",
    "# Let's assume the dataset has columns like 'area', 'bedrooms', 'bathrooms', 'location', 'year_built', 'price'\n",
    "# This code uses LabelEncoder to encode the 'location' column, converting categorical location data into numerical \n",
    "# format. This is necessary because machine learning models generally require numerical input.\n",
    "\n",
    "le = LabelEncoder()\n",
    "df['location'] = le.fit_transform(df['location'])\n",
    "\n",
    "\n",
    "# Select features (X) and target variable (y)\n",
    "X = df[['area', 'bedrooms', 'bathrooms', 'location', 'year_built']]\n",
    "y = df['price']\n",
    "\n",
    "\n",
    "# Split the data into training and testing sets\n",
    "# This line splits the data into training and testing sets using the train_test_split function. The training set \n",
    "# (80%) is used to train the model, and the testing set (20%) is used to evaluate its performance.\n",
    "X_train, X_test, y_train, y_test = train_test_split(X, y, test_size=0.2, random_state=42)\n",
    "\n",
    "\n",
    "# Create a RandomForestRegressor model\n",
    "model = RandomForestRegressor(n_estimators=100, random_state=42)\n",
    "\n",
    "\n",
    "# The model is trained on the training set using the fit method.\n",
    "model.fit(X_train, y_train)\n",
    "\n",
    "\n",
    "# The trained model is used to make predictions on the testing set.\n",
    "predictions = model.predict(X_test)\n",
    "\n",
    "\n",
    "# The Mean Absolute Error (MAE) is calculated to evaluate the model's performance. MAE represents the average \n",
    "# absolute difference between the predicted and actual prices in the testing set.\n",
    "mae = mean_absolute_error(y_test, predictions)\n",
    "print(f'Mean Absolute Error: {mae}')\n"
   ]
  },
  {
   "cell_type": "code",
   "execution_count": null,
   "metadata": {},
   "outputs": [],
   "source": [
    "\n",
    "# The Mean Absolute Error (MAE) is a metric used to evaluate the performance of a regression model. In the context of \n",
    "# this code, the MAE is calculated to measure the average absolute difference between the predicted prices (predictions) \n",
    "# and the actual prices (y_test) for the real estate dataset.\n",
    "\n",
    "# On average, the model's predictions for the prices of the real estate properties in the testing set are off by \n",
    "# approximately $20,632.4. In other words, the average absolute difference between the predicted prices and the \n",
    "# actual prices is $20,632.4.\n"
   ]
  },
  {
   "cell_type": "code",
   "execution_count": 3,
   "metadata": {},
   "outputs": [
    {
     "name": "stdout",
     "output_type": "stream",
     "text": [
      "Predicted Price: $1,684,030.00\n"
     ]
    }
   ],
   "source": [
    "\n",
    "# 1\n",
    "# Now, you can use the model to predict prices for new data\n",
    "new_data = pd.DataFrame({'area': [1500], 'bedrooms': [4], 'bathrooms': [2], 'location': [le.transform(['Downtown'])[0]], 'year_built': [2005]})\n",
    "predicted_price = model.predict(new_data)\n",
    "print(f'Predicted Price: ${predicted_price[0]:,.2f}')\n"
   ]
  },
  {
   "cell_type": "code",
   "execution_count": 5,
   "metadata": {},
   "outputs": [
    {
     "name": "stdout",
     "output_type": "stream",
     "text": [
      "Predicted Price: $2,172,400.00\n"
     ]
    }
   ],
   "source": [
    "\n",
    "# 2\n",
    "# Let's assume 2000 square feet and 4 bedrooms. We can expect the price to increase because this house is larger than\n",
    "# the first house, and it has one additional bedroom, but everything else remains the same as the first scenario.\n",
    "\n",
    "new_data = pd.DataFrame({'area': [2000], 'bedrooms': [5], 'bathrooms': [2], 'location': [le.transform(['Downtown'])[0]], 'year_built': [2005]})\n",
    "predicted_price = model.predict(new_data)\n",
    "print(f'Predicted Price: ${predicted_price[0]:,.2f}')\n"
   ]
  },
  {
   "cell_type": "code",
   "execution_count": 8,
   "metadata": {},
   "outputs": [
    {
     "name": "stdout",
     "output_type": "stream",
     "text": [
      "Predicted Price: $1,647,925.00\n"
     ]
    }
   ],
   "source": [
    "\n",
    "# 3\n",
    "# Let's assume the house is located in the countryside and it has 3 bedrooms. We can expect the price to decrease \n",
    "# because this house is not located downtown and it has 3 bedrooms, but everything else remains the same as the \n",
    "# first scenario.\n",
    "\n",
    "new_data = pd.DataFrame({'area': [1500], 'bedrooms': [3], 'bathrooms': [2], 'location': [le.transform(['Countryside'])[0]], 'year_built': [2005]})\n",
    "predicted_price = model.predict(new_data)\n",
    "print(f'Predicted Price: ${predicted_price[0]:,.2f}')\n"
   ]
  },
  {
   "cell_type": "code",
   "execution_count": 9,
   "metadata": {},
   "outputs": [
    {
     "name": "stdout",
     "output_type": "stream",
     "text": [
      "Predicted Price: $2,692,360.00\n"
     ]
    }
   ],
   "source": [
    "\n",
    "# 4\n",
    "# Let's assume 3000 square feet and 6 bedrooms. We can expect the price to increase because this house is larger than\n",
    "# the first house, and it has one additional bedroom, but everything else remains the same as the first scenario.\n",
    "\n",
    "new_data = pd.DataFrame({'area': [3000], 'bedrooms': [6], 'bathrooms': [4], 'location': [le.transform(['Downtown'])[0]], 'year_built': [2005]})\n",
    "predicted_price = model.predict(new_data)\n",
    "print(f'Predicted Price: ${predicted_price[0]:,.2f}')\n"
   ]
  },
  {
   "cell_type": "code",
   "execution_count": 11,
   "metadata": {},
   "outputs": [
    {
     "name": "stdout",
     "output_type": "stream",
     "text": [
      "Predicted Price: $1,663,825.00\n"
     ]
    }
   ],
   "source": [
    "\n",
    "# 5\n",
    "# Let's assume the house is located in the suburbs and it is a newer house. We can expect the price to decrease, but\n",
    "# just slightly, and everything else remains the same as the first scenario.\n",
    "\n",
    "new_data = pd.DataFrame({'area': [1500], 'bedrooms': [4], 'bathrooms': [2], 'location': [le.transform(['Suburb'])[0]], 'year_built': [2015]})\n",
    "predicted_price = model.predict(new_data)\n",
    "print(f'Predicted Price: ${predicted_price[0]:,.2f}')\n"
   ]
  },
  {
   "cell_type": "code",
   "execution_count": 14,
   "metadata": {},
   "outputs": [
    {
     "data": {
      "text/plain": [
       "array([9.94861308e-01, 3.08459995e-03, 6.77953504e-04, 5.71465763e-04,\n",
       "       8.04672579e-04])"
      ]
     },
     "execution_count": 14,
     "metadata": {},
     "output_type": "execute_result"
    }
   ],
   "source": [
    "\n",
    "# So, what has the largest impact on the price of a house, given the data set that we are working with here?\n",
    "from sklearn.ensemble import RandomForestRegressor\n",
    "from matplotlib import pyplot as plt\n",
    "\n",
    "rf = RandomForestRegressor(n_estimators=100)\n",
    "rf.fit(X_train, y_train)\n",
    "\n",
    "rf.feature_importances_\n"
   ]
  },
  {
   "cell_type": "code",
   "execution_count": 15,
   "metadata": {},
   "outputs": [
    {
     "data": {
      "text/plain": [
       "Text(0.5, 0, 'Random Forest Feature Importance')"
      ]
     },
     "execution_count": 15,
     "metadata": {},
     "output_type": "execute_result"
    },
    {
     "data": {
      "image/png": "[encoded data removed]",
      "text/plain": [
       "<Figure size 640x480 with 1 Axes>"
      ]
     },
     "metadata": {},
     "output_type": "display_data"
    }
   ],
   "source": [
    "\n",
    "sorted_idx = rf.feature_importances_.argsort()\n",
    "plt.barh(X.columns[sorted_idx], rf.feature_importances_[sorted_idx])\n",
    "plt.xlabel(\"Random Forest Feature Importance\")\n"
   ]
  },
  {
   "cell_type": "code",
   "execution_count": null,
   "metadata": {},
   "outputs": [],
   "source": [
    "\n",
    "# Interpreting feature importance in a Random Forest model involves understanding which features have a greater impact \n",
    "#on the model's predictions. The importance is calculated based on how frequently a feature is used to split the data \n",
    "# across all the trees in the forest and how much improvement each split provides.\n",
    "\n",
    "# Higher Importance: Features with higher importance values are more influential in making predictions. If a feature \n",
    "# has a higher importance score, it means that, on average, the model relies more on this feature to make decisions.\n",
    "\n",
    "# Direction of Impact: If a feature has a positive impact on the target variable, a higher value of that feature would \n",
    "# lead to higher predictions. Conversely, if a feature has a negative impact, a higher value might lead to lower \n",
    "# predictions.\n",
    "\n",
    "# Correlation with the Target: High feature importance doesn't necessarily mean a feature has a linear relationship \n",
    "# with the target. It could also indicate non-linear relationships or interactions with other features.\n"
   ]
  },
  {
   "cell_type": "code",
   "execution_count": 19,
   "metadata": {},
   "outputs": [
    {
     "name": "stdout",
     "output_type": "stream",
     "text": [
      "Predicted Price: $1,008,780.00\n",
      "-----------------------------------\n",
      "Predicted Price: $2,694,200.00\n"
     ]
    }
   ],
   "source": [
    "\n",
    "# From the Feature Importance exercise, we know almost 100% of the price of a house (based on this sepecific data\n",
    "# set) is determined by the overall square footage of the property. The other four features have almost no influence,\n",
    "# at all, on the target variable (price).\n",
    "\n",
    "# Let's revisit the initial scenario, divide the square footage in half, and leave everything else unchanged. \n",
    "\n",
    "new_data = pd.DataFrame({'area': [750], 'bedrooms': [4], 'bathrooms': [2], 'location': [le.transform(['Downtown'])[0]], 'year_built': [2005]})\n",
    "predicted_price = model.predict(new_data)\n",
    "print(f'Predicted Price: ${predicted_price[0]:,.2f}')\n",
    "\n",
    "print('-----------------------------------')\n",
    "\n",
    "# Let's revisit the initial scenario, double the square footage in half, and leave everything else unchanged. \n",
    "\n",
    "new_data = pd.DataFrame({'area': [6000], 'bedrooms': [4], 'bathrooms': [2], 'location': [le.transform(['Downtown'])[0]], 'year_built': [2005]})\n",
    "predicted_price = model.predict(new_data)\n",
    "print(f'Predicted Price: ${predicted_price[0]:,.2f}')\n"
   ]
  }
 ],
 "metadata": {
  "kernelspec": {
   "display_name": "Python 3 (ipykernel)",
   "language": "python",
   "name": "python3"
  },
  "language_info": {
   "codemirror_mode": {
    "name": "ipython",
    "version": 3
   },
   "file_extension": ".py",
   "mimetype": "text/x-python",
   "name": "python",
   "nbconvert_exporter": "python",
   "pygments_lexer": "ipython3",
   "version": "3.11.5"
  }
 },
 "nbformat": 4,
 "nbformat_minor": 4
}
